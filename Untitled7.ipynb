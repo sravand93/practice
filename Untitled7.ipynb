{
 "cells": [
  {
   "cell_type": "code",
   "execution_count": null,
   "metadata": {},
   "outputs": [],
   "source": [
    "pw=input(\"enter password\")\n",
    "\n",
    "f=0,\n",
    "ch =0,\n",
    "u =0,\n",
    "l=0,\n",
    "if len(pw)>10 or len(pw)<3:\n",
    "    print(\"Not valid length\")\n",
    "else:\n",
    "    for c in pw:\n",
    "        if c.isdigit():\n",
    "            f=1\n",
    "        elif c=='$' or c=='#' or c=='@':\n",
    "            ch=1\n",
    "        elif c==c.upper():\n",
    "            u=1\n",
    "        elif c==c.lower():\n",
    "            l=1\n",
    "        else:\n",
    "             continue\n",
    "if u==1 and l==1 and f==1 and ch==1:\n",
    "    print(\"valid\")\n",
    "else:\n",
    "    print(\"Not valid\")"
   ]
  }
 ],
 "metadata": {
  "kernelspec": {
   "display_name": "Python 3",
   "language": "python",
   "name": "python3"
  },
  "language_info": {
   "codemirror_mode": {
    "name": "ipython",
    "version": 3
   },
   "file_extension": ".py",
   "mimetype": "text/x-python",
   "name": "python",
   "nbconvert_exporter": "python",
   "pygments_lexer": "ipython3",
   "version": "3.6.1"
  }
 },
 "nbformat": 4,
 "nbformat_minor": 2
}
