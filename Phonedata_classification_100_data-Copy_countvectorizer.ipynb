{
 "cells": [
  {
   "cell_type": "code",
   "execution_count": 1,
   "metadata": {},
   "outputs": [
    {
     "name": "stderr",
     "output_type": "stream",
     "text": [
      "Using TensorFlow backend.\n"
     ]
    }
   ],
   "source": [
    "#Import all the necessary libraries\n",
    "import os\n",
    "import numpy as np\n",
    "import pandas as pd\n",
    "from keras.layers import Dense,LSTM,SimpleRNN, Embedding\n",
    "from keras.models import Sequential\n",
    "from keras.utils.np_utils import to_categorical\n",
    "from bs4 import BeautifulSoup\n",
    "import matplotlib.pyplot as plt\n",
    "import seaborn as sns "
   ]
  },
  {
   "cell_type": "code",
   "execution_count": 2,
   "metadata": {
    "collapsed": true
   },
   "outputs": [],
   "source": [
    "#setting working directory \n",
    "os.chdir(\"E:\\\\INSOFE\\\\text mining\\\\phone_data\")"
   ]
  },
  {
   "cell_type": "code",
   "execution_count": 3,
   "metadata": {
    "collapsed": true
   },
   "outputs": [],
   "source": [
    "#Reading the data\n",
    "#actual_data=pd.read_excel(\"Data-for-Classification-20180320.xlsx\")\n",
    "actual_data=pd.read_excel(\"Data-for-Classification-20180320 - V2.xlsx\")\n",
    "actual_data=pd.DataFrame(actual_data)"
   ]
  },
  {
   "cell_type": "code",
   "execution_count": 4,
   "metadata": {},
   "outputs": [
    {
     "data": {
      "text/plain": [
       "Index(['Summary (Input', 'DATA (Input)', 'categories (Output)',\n",
       "       'sub_categories (Output)', 'previous_appointment (Output)', 'SLNO'],\n",
       "      dtype='object')"
      ]
     },
     "execution_count": 4,
     "metadata": {},
     "output_type": "execute_result"
    }
   ],
   "source": [
    "actual_data.columns"
   ]
  },
  {
   "cell_type": "code",
   "execution_count": 5,
   "metadata": {
    "collapsed": true
   },
   "outputs": [],
   "source": [
    "actual_data.drop('SLNO',axis=1,inplace=True)"
   ]
  },
  {
   "cell_type": "code",
   "execution_count": 6,
   "metadata": {
    "collapsed": true
   },
   "outputs": [],
   "source": [
    "#Changing the column names\n",
    "col_names=[\"summary\",\"data\",\"categories\",\"sub_categories\",\"appointment\"]\n",
    "actual_data.columns=col_names"
   ]
  },
  {
   "cell_type": "code",
   "execution_count": 7,
   "metadata": {},
   "outputs": [
    {
     "data": {
      "text/html": [
       "<div>\n",
       "<style>\n",
       "    .dataframe thead tr:only-child th {\n",
       "        text-align: right;\n",
       "    }\n",
       "\n",
       "    .dataframe thead th {\n",
       "        text-align: left;\n",
       "    }\n",
       "\n",
       "    .dataframe tbody tr th {\n",
       "        vertical-align: top;\n",
       "    }\n",
       "</style>\n",
       "<table border=\"1\" class=\"dataframe\">\n",
       "  <thead>\n",
       "    <tr style=\"text-align: right;\">\n",
       "      <th></th>\n",
       "      <th>summary</th>\n",
       "      <th>data</th>\n",
       "      <th>categories</th>\n",
       "      <th>sub_categories</th>\n",
       "      <th>appointment</th>\n",
       "    </tr>\n",
       "  </thead>\n",
       "  <tbody>\n",
       "    <tr>\n",
       "      <th>0</th>\n",
       "      <td>Pt aware that he needs ROV for refill</td>\n",
       "      <td>Patient is returning nurse call. He is unable ...</td>\n",
       "      <td>PRESCRIPTION</td>\n",
       "      <td>REFILL</td>\n",
       "      <td>No</td>\n",
       "    </tr>\n",
       "    <tr>\n",
       "      <th>1</th>\n",
       "      <td>Mom wants to know if the Focalin needs some do...</td>\n",
       "      <td>school teacher is reporting pt is not able to ...</td>\n",
       "      <td>ASK_A_DOCTOR</td>\n",
       "      <td>MEDICATION RELATED</td>\n",
       "      <td>No</td>\n",
       "    </tr>\n",
       "    <tr>\n",
       "      <th>2</th>\n",
       "      <td>pt called to discuss nortryptiline. she says s...</td>\n",
       "      <td>Prescription  Prescription Comments pt called ...</td>\n",
       "      <td>ASK_A_DOCTOR</td>\n",
       "      <td>MEDICATION RELATED</td>\n",
       "      <td>No</td>\n",
       "    </tr>\n",
       "    <tr>\n",
       "      <th>3</th>\n",
       "      <td>FYI Nortryptline medication.</td>\n",
       "      <td>Prescription  Prescription Comments pt called ...</td>\n",
       "      <td>MISCELLANEOUS</td>\n",
       "      <td>OTHERS</td>\n",
       "      <td>No</td>\n",
       "    </tr>\n",
       "    <tr>\n",
       "      <th>4</th>\n",
       "      <td>Letter of patient establishment request</td>\n",
       "      <td>Requesting a letter stating that pt is indeed ...</td>\n",
       "      <td>MISCELLANEOUS</td>\n",
       "      <td>SHARING OF HEALTH RECORDS (FAX ; E-MAIL ; ETC.)</td>\n",
       "      <td>No</td>\n",
       "    </tr>\n",
       "  </tbody>\n",
       "</table>\n",
       "</div>"
      ],
      "text/plain": [
       "                                             summary  \\\n",
       "0              Pt aware that he needs ROV for refill   \n",
       "1  Mom wants to know if the Focalin needs some do...   \n",
       "2  pt called to discuss nortryptiline. she says s...   \n",
       "3                       FYI Nortryptline medication.   \n",
       "4            Letter of patient establishment request   \n",
       "\n",
       "                                                data     categories  \\\n",
       "0  Patient is returning nurse call. He is unable ...   PRESCRIPTION   \n",
       "1  school teacher is reporting pt is not able to ...   ASK_A_DOCTOR   \n",
       "2  Prescription  Prescription Comments pt called ...   ASK_A_DOCTOR   \n",
       "3  Prescription  Prescription Comments pt called ...  MISCELLANEOUS   \n",
       "4  Requesting a letter stating that pt is indeed ...  MISCELLANEOUS   \n",
       "\n",
       "                                    sub_categories appointment  \n",
       "0                                           REFILL          No  \n",
       "1                               MEDICATION RELATED          No  \n",
       "2                               MEDICATION RELATED          No  \n",
       "3                                           OTHERS          No  \n",
       "4  SHARING OF HEALTH RECORDS (FAX ; E-MAIL ; ETC.)          No  "
      ]
     },
     "execution_count": 7,
     "metadata": {},
     "output_type": "execute_result"
    }
   ],
   "source": [
    "actual_data.head(5)"
   ]
  },
  {
   "cell_type": "markdown",
   "metadata": {},
   "source": [
    "# DATA EXPLORING "
   ]
  },
  {
   "cell_type": "code",
   "execution_count": 7,
   "metadata": {},
   "outputs": [
    {
     "data": {
      "text/plain": [
       "(57280, 5)"
      ]
     },
     "execution_count": 7,
     "metadata": {},
     "output_type": "execute_result"
    }
   ],
   "source": [
    "#shape or size of data frame \n",
    "actual_data.shape"
   ]
  },
  {
   "cell_type": "code",
   "execution_count": 7,
   "metadata": {
    "scrolled": true
   },
   "outputs": [
    {
     "data": {
      "text/plain": [
       "summary           3371\n",
       "data              2706\n",
       "categories           0\n",
       "sub_categories       0\n",
       "appointment          2\n",
       "dtype: int64"
      ]
     },
     "execution_count": 7,
     "metadata": {},
     "output_type": "execute_result"
    }
   ],
   "source": [
    "#no of missing values \n",
    "actual_data.apply(lambda x: sum(x.isnull()),axis=0)"
   ]
  },
  {
   "cell_type": "code",
   "execution_count": 8,
   "metadata": {},
   "outputs": [
    {
     "data": {
      "text/plain": [
       "summary           0.058851\n",
       "data              0.047242\n",
       "categories        0.000000\n",
       "sub_categories    0.000000\n",
       "appointment       0.000035\n",
       "dtype: float64"
      ]
     },
     "execution_count": 8,
     "metadata": {},
     "output_type": "execute_result"
    }
   ],
   "source": [
    "#Percentage of missing values in each column \n",
    "actual_data.apply(lambda x: sum(x.isnull())/len(actual_data),axis=0)"
   ]
  },
  {
   "cell_type": "code",
   "execution_count": 9,
   "metadata": {},
   "outputs": [
    {
     "data": {
      "text/plain": [
       "summary           object\n",
       "data              object\n",
       "categories        object\n",
       "sub_categories    object\n",
       "appointment       object\n",
       "dtype: object"
      ]
     },
     "execution_count": 9,
     "metadata": {},
     "output_type": "execute_result"
    }
   ],
   "source": [
    "#data type of attributes \n",
    "actual_data.dtypes"
   ]
  },
  {
   "cell_type": "code",
   "execution_count": 10,
   "metadata": {
    "scrolled": true
   },
   "outputs": [
    {
     "data": {
      "text/html": [
       "<div>\n",
       "<style>\n",
       "    .dataframe thead tr:only-child th {\n",
       "        text-align: right;\n",
       "    }\n",
       "\n",
       "    .dataframe thead th {\n",
       "        text-align: left;\n",
       "    }\n",
       "\n",
       "    .dataframe tbody tr th {\n",
       "        vertical-align: top;\n",
       "    }\n",
       "</style>\n",
       "<table border=\"1\" class=\"dataframe\">\n",
       "  <thead>\n",
       "    <tr style=\"text-align: right;\">\n",
       "      <th></th>\n",
       "      <th>summary</th>\n",
       "      <th>data</th>\n",
       "      <th>categories</th>\n",
       "      <th>sub_categories</th>\n",
       "      <th>appointment</th>\n",
       "    </tr>\n",
       "  </thead>\n",
       "  <tbody>\n",
       "    <tr>\n",
       "      <th>count</th>\n",
       "      <td>53909</td>\n",
       "      <td>54574</td>\n",
       "      <td>57280</td>\n",
       "      <td>57280</td>\n",
       "      <td>57278</td>\n",
       "    </tr>\n",
       "    <tr>\n",
       "      <th>unique</th>\n",
       "      <td>41222</td>\n",
       "      <td>53210</td>\n",
       "      <td>8</td>\n",
       "      <td>22</td>\n",
       "      <td>5</td>\n",
       "    </tr>\n",
       "    <tr>\n",
       "      <th>top</th>\n",
       "      <td>Phone Note</td>\n",
       "      <td>Appointments Patient advised they may come int...</td>\n",
       "      <td>PRESCRIPTION</td>\n",
       "      <td>MEDICATION RELATED</td>\n",
       "      <td>No</td>\n",
       "    </tr>\n",
       "    <tr>\n",
       "      <th>freq</th>\n",
       "      <td>3143</td>\n",
       "      <td>107</td>\n",
       "      <td>15096</td>\n",
       "      <td>10598</td>\n",
       "      <td>41559</td>\n",
       "    </tr>\n",
       "  </tbody>\n",
       "</table>\n",
       "</div>"
      ],
      "text/plain": [
       "           summary                                               data  \\\n",
       "count        53909                                              54574   \n",
       "unique       41222                                              53210   \n",
       "top     Phone Note  Appointments Patient advised they may come int...   \n",
       "freq          3143                                                107   \n",
       "\n",
       "          categories      sub_categories appointment  \n",
       "count          57280               57280       57278  \n",
       "unique             8                  22           5  \n",
       "top     PRESCRIPTION  MEDICATION RELATED          No  \n",
       "freq           15096               10598       41559  "
      ]
     },
     "execution_count": 10,
     "metadata": {},
     "output_type": "execute_result"
    }
   ],
   "source": [
    "#\n",
    "actual_data.describe()"
   ]
  },
  {
   "cell_type": "code",
   "execution_count": 11,
   "metadata": {},
   "outputs": [
    {
     "data": {
      "text/plain": [
       "PRESCRIPTION     15096\n",
       "APPOINTMENTS     13872\n",
       "MISCELLANEOUS    12167\n",
       "ASK_A_DOCTOR     11799\n",
       "LAB               4321\n",
       "JUNK                21\n",
       "mISCELLANEOUS        3\n",
       "asK_A_DOCTOR         1\n",
       "Name: categories, dtype: int64"
      ]
     },
     "execution_count": 11,
     "metadata": {},
     "output_type": "execute_result"
    }
   ],
   "source": [
    "# number of levels in categories column\n",
    "actual_data.categories.value_counts()"
   ]
  },
  {
   "cell_type": "code",
   "execution_count": 12,
   "metadata": {},
   "outputs": [
    {
     "data": {
      "text/plain": [
       "MEDICATION RELATED                                 10598\n",
       "NEW APPOINTMENT                                    10478\n",
       "REFILL                                              9819\n",
       "OTHERS                                              7356\n",
       "SHARING OF HEALTH RECORDS (FAX ; E-MAIL ; ETC.)     3550\n",
       "LAB RESULTS                                         2650\n",
       "PROVIDER                                            1972\n",
       "QUERIES FROM PHARMACY                               1722\n",
       "RESCHEDULING                                        1626\n",
       "SHARING OF LAB RECORDS (FAX ; E-MAIL ; ETC.)        1425\n",
       "PRIOR AUTHORIZATION                                 1226\n",
       "SYMPTOMS                                            1201\n",
       "CHANGE OF PROVIDER                                   953\n",
       "RUNNING LATE TO APPOINTMENT                          694\n",
       "CANCELLATION                                         663\n",
       "QUERY ON CURRENT APPOINTMENT                         657\n",
       "FOLLOW UP ON PREVIOUS REQUEST                        357\n",
       "CHANGE OF HOSPITAL                                   149\n",
       "QUERIES FROM INSURANCE FIRM                          107\n",
       "CHANGE OF PHARMACY                                    55\n",
       "JUNK                                                  21\n",
       "mEDICATION RELATED                                     1\n",
       "Name: sub_categories, dtype: int64"
      ]
     },
     "execution_count": 12,
     "metadata": {},
     "output_type": "execute_result"
    }
   ],
   "source": [
    "actual_data.sub_categories.value_counts()"
   ]
  },
  {
   "cell_type": "code",
   "execution_count": 13,
   "metadata": {},
   "outputs": [
    {
     "data": {
      "text/plain": [
       "No     41559\n",
       "NO     15524\n",
       "Yes      177\n",
       "YES       17\n",
       "yes        1\n",
       "Name: appointment, dtype: int64"
      ]
     },
     "execution_count": 13,
     "metadata": {},
     "output_type": "execute_result"
    }
   ],
   "source": [
    "actual_data.appointment.value_counts()"
   ]
  },
  {
   "cell_type": "code",
   "execution_count": 189,
   "metadata": {},
   "outputs": [
    {
     "data": {
      "text/plain": [
       "count            57280\n",
       "unique               8\n",
       "top       PRESCRIPTION\n",
       "freq             15096\n",
       "Name: categories, dtype: object"
      ]
     },
     "execution_count": 189,
     "metadata": {},
     "output_type": "execute_result"
    }
   ],
   "source": [
    "actual_data.categories.describe()"
   ]
  },
  {
   "cell_type": "code",
   "execution_count": 190,
   "metadata": {},
   "outputs": [
    {
     "data": {
      "text/plain": [
       "count                  57280\n",
       "unique                    22\n",
       "top       MEDICATION RELATED\n",
       "freq                   10598\n",
       "Name: sub_categories, dtype: object"
      ]
     },
     "execution_count": 190,
     "metadata": {},
     "output_type": "execute_result"
    }
   ],
   "source": [
    "actual_data.sub_categories.describe()"
   ]
  },
  {
   "cell_type": "code",
   "execution_count": 191,
   "metadata": {},
   "outputs": [
    {
     "data": {
      "text/plain": [
       "count                                                 54574\n",
       "unique                                                53210\n",
       "top       Appointments Patient advised they may come int...\n",
       "freq                                                    107\n",
       "Name: data, dtype: object"
      ]
     },
     "execution_count": 191,
     "metadata": {},
     "output_type": "execute_result"
    }
   ],
   "source": [
    "actual_data.data.describe()"
   ]
  },
  {
   "cell_type": "code",
   "execution_count": 192,
   "metadata": {
    "scrolled": true
   },
   "outputs": [
    {
     "data": {
      "text/plain": [
       "count          53909\n",
       "unique         41222\n",
       "top       Phone Note\n",
       "freq            3143\n",
       "Name: summary, dtype: object"
      ]
     },
     "execution_count": 192,
     "metadata": {},
     "output_type": "execute_result"
    }
   ],
   "source": [
    "actual_data.summary.describe()"
   ]
  },
  {
   "cell_type": "code",
   "execution_count": 193,
   "metadata": {},
   "outputs": [
    {
     "data": {
      "text/plain": [
       "57280"
      ]
     },
     "execution_count": 193,
     "metadata": {},
     "output_type": "execute_result"
    }
   ],
   "source": [
    "actual_data.summary.size"
   ]
  },
  {
   "cell_type": "code",
   "execution_count": 194,
   "metadata": {},
   "outputs": [
    {
     "data": {
      "text/plain": [
       "(57280,)"
      ]
     },
     "execution_count": 194,
     "metadata": {},
     "output_type": "execute_result"
    }
   ],
   "source": [
    "actual_data.summary.shape"
   ]
  },
  {
   "cell_type": "code",
   "execution_count": 195,
   "metadata": {},
   "outputs": [
    {
     "data": {
      "text/plain": [
       "count     57278\n",
       "unique        5\n",
       "top          No\n",
       "freq      41559\n",
       "Name: appointment, dtype: object"
      ]
     },
     "execution_count": 195,
     "metadata": {},
     "output_type": "execute_result"
    }
   ],
   "source": [
    "actual_data.appointment.describe()"
   ]
  },
  {
   "cell_type": "code",
   "execution_count": 196,
   "metadata": {},
   "outputs": [
    {
     "data": {
      "text/html": [
       "<div>\n",
       "<style scoped>\n",
       "    .dataframe tbody tr th:only-of-type {\n",
       "        vertical-align: middle;\n",
       "    }\n",
       "\n",
       "    .dataframe tbody tr th {\n",
       "        vertical-align: top;\n",
       "    }\n",
       "\n",
       "    .dataframe thead th {\n",
       "        text-align: right;\n",
       "    }\n",
       "</style>\n",
       "<table border=\"1\" class=\"dataframe\">\n",
       "  <thead>\n",
       "    <tr style=\"text-align: right;\">\n",
       "      <th></th>\n",
       "      <th>summary</th>\n",
       "      <th>data</th>\n",
       "      <th>categories</th>\n",
       "      <th>sub_categories</th>\n",
       "      <th>appointment</th>\n",
       "    </tr>\n",
       "  </thead>\n",
       "  <tbody>\n",
       "    <tr>\n",
       "      <th>0</th>\n",
       "      <td>Pt aware that he needs ROV for refill</td>\n",
       "      <td>Patient is returning nurse call. He is unable ...</td>\n",
       "      <td>PRESCRIPTION</td>\n",
       "      <td>REFILL</td>\n",
       "      <td>No</td>\n",
       "    </tr>\n",
       "    <tr>\n",
       "      <th>1</th>\n",
       "      <td>Mom wants to know if the Focalin needs some do...</td>\n",
       "      <td>school teacher is reporting pt is not able to ...</td>\n",
       "      <td>ASK_A_DOCTOR</td>\n",
       "      <td>MEDICATION RELATED</td>\n",
       "      <td>No</td>\n",
       "    </tr>\n",
       "    <tr>\n",
       "      <th>2</th>\n",
       "      <td>pt called to discuss nortryptiline. she says s...</td>\n",
       "      <td>Prescription  Prescription Comments pt called ...</td>\n",
       "      <td>ASK_A_DOCTOR</td>\n",
       "      <td>MEDICATION RELATED</td>\n",
       "      <td>No</td>\n",
       "    </tr>\n",
       "    <tr>\n",
       "      <th>3</th>\n",
       "      <td>FYI Nortryptline medication.</td>\n",
       "      <td>Prescription  Prescription Comments pt called ...</td>\n",
       "      <td>MISCELLANEOUS</td>\n",
       "      <td>OTHERS</td>\n",
       "      <td>No</td>\n",
       "    </tr>\n",
       "    <tr>\n",
       "      <th>4</th>\n",
       "      <td>Letter of patient establishment request</td>\n",
       "      <td>Requesting a letter stating that pt is indeed ...</td>\n",
       "      <td>MISCELLANEOUS</td>\n",
       "      <td>SHARING OF HEALTH RECORDS (FAX ; E-MAIL ; ETC.)</td>\n",
       "      <td>No</td>\n",
       "    </tr>\n",
       "    <tr>\n",
       "      <th>5</th>\n",
       "      <td>Appt question</td>\n",
       "      <td>Appointments Pt mom wants to know if pt should...</td>\n",
       "      <td>APPOINTMENTS</td>\n",
       "      <td>QUERY ON CURRENT APPOINTMENT</td>\n",
       "      <td>No</td>\n",
       "    </tr>\n",
       "    <tr>\n",
       "      <th>6</th>\n",
       "      <td>dizzy &amp; double vision past 45 mins after CT</td>\n",
       "      <td>had CT this a. m. in Smithfield and is feeling...</td>\n",
       "      <td>ASK_A_DOCTOR</td>\n",
       "      <td>SYMPTOMS</td>\n",
       "      <td>No</td>\n",
       "    </tr>\n",
       "    <tr>\n",
       "      <th>7</th>\n",
       "      <td>Please refax neurocog order to new fac; Wake ...</td>\n",
       "      <td>Dr. is too far booked out per pt and like the ...</td>\n",
       "      <td>MISCELLANEOUS</td>\n",
       "      <td>SHARING OF HEALTH RECORDS (FAX ; E-MAIL ; ETC.)</td>\n",
       "      <td>No</td>\n",
       "    </tr>\n",
       "    <tr>\n",
       "      <th>8</th>\n",
       "      <td>pt wants to reschedule Epidural from 04/30 ; p...</td>\n",
       "      <td>Appointments pt wants to reschedule Epidural f...</td>\n",
       "      <td>APPOINTMENTS</td>\n",
       "      <td>RESCHEDULING</td>\n",
       "      <td>No</td>\n",
       "    </tr>\n",
       "    <tr>\n",
       "      <th>9</th>\n",
       "      <td>Phone Note</td>\n",
       "      <td>NaN</td>\n",
       "      <td>MISCELLANEOUS</td>\n",
       "      <td>OTHERS</td>\n",
       "      <td>No</td>\n",
       "    </tr>\n",
       "  </tbody>\n",
       "</table>\n",
       "</div>"
      ],
      "text/plain": [
       "                                             summary  \\\n",
       "0              Pt aware that he needs ROV for refill   \n",
       "1  Mom wants to know if the Focalin needs some do...   \n",
       "2  pt called to discuss nortryptiline. she says s...   \n",
       "3                       FYI Nortryptline medication.   \n",
       "4            Letter of patient establishment request   \n",
       "5                                      Appt question   \n",
       "6        dizzy & double vision past 45 mins after CT   \n",
       "7   Please refax neurocog order to new fac; Wake ...   \n",
       "8  pt wants to reschedule Epidural from 04/30 ; p...   \n",
       "9                                         Phone Note   \n",
       "\n",
       "                                                data     categories  \\\n",
       "0  Patient is returning nurse call. He is unable ...   PRESCRIPTION   \n",
       "1  school teacher is reporting pt is not able to ...   ASK_A_DOCTOR   \n",
       "2  Prescription  Prescription Comments pt called ...   ASK_A_DOCTOR   \n",
       "3  Prescription  Prescription Comments pt called ...  MISCELLANEOUS   \n",
       "4  Requesting a letter stating that pt is indeed ...  MISCELLANEOUS   \n",
       "5  Appointments Pt mom wants to know if pt should...   APPOINTMENTS   \n",
       "6  had CT this a. m. in Smithfield and is feeling...   ASK_A_DOCTOR   \n",
       "7  Dr. is too far booked out per pt and like the ...  MISCELLANEOUS   \n",
       "8  Appointments pt wants to reschedule Epidural f...   APPOINTMENTS   \n",
       "9                                                NaN  MISCELLANEOUS   \n",
       "\n",
       "                                    sub_categories appointment  \n",
       "0                                           REFILL          No  \n",
       "1                               MEDICATION RELATED          No  \n",
       "2                               MEDICATION RELATED          No  \n",
       "3                                           OTHERS          No  \n",
       "4  SHARING OF HEALTH RECORDS (FAX ; E-MAIL ; ETC.)          No  \n",
       "5                     QUERY ON CURRENT APPOINTMENT          No  \n",
       "6                                         SYMPTOMS          No  \n",
       "7  SHARING OF HEALTH RECORDS (FAX ; E-MAIL ; ETC.)          No  \n",
       "8                                     RESCHEDULING          No  \n",
       "9                                           OTHERS          No  "
      ]
     },
     "execution_count": 196,
     "metadata": {},
     "output_type": "execute_result"
    }
   ],
   "source": [
    "#Displaying first 10 rows of actual data \n",
    "actual_data.head(10)"
   ]
  },
  {
   "cell_type": "code",
   "execution_count": 197,
   "metadata": {},
   "outputs": [
    {
     "data": {
      "text/html": [
       "<div>\n",
       "<style scoped>\n",
       "    .dataframe tbody tr th:only-of-type {\n",
       "        vertical-align: middle;\n",
       "    }\n",
       "\n",
       "    .dataframe tbody tr th {\n",
       "        vertical-align: top;\n",
       "    }\n",
       "\n",
       "    .dataframe thead th {\n",
       "        text-align: right;\n",
       "    }\n",
       "</style>\n",
       "<table border=\"1\" class=\"dataframe\">\n",
       "  <thead>\n",
       "    <tr style=\"text-align: right;\">\n",
       "      <th></th>\n",
       "      <th>summary</th>\n",
       "      <th>data</th>\n",
       "      <th>categories</th>\n",
       "      <th>sub_categories</th>\n",
       "      <th>appointment</th>\n",
       "    </tr>\n",
       "  </thead>\n",
       "  <tbody>\n",
       "    <tr>\n",
       "      <th>57270</th>\n",
       "      <td>Pt questions if Dr. Gabr recommends she get th...</td>\n",
       "      <td>NaN</td>\n",
       "      <td>MISCELLANEOUS</td>\n",
       "      <td>OTHERS</td>\n",
       "      <td>No</td>\n",
       "    </tr>\n",
       "    <tr>\n",
       "      <th>57271</th>\n",
       "      <td>Please fax PT order to Holt PT fax #919-882-1727</td>\n",
       "      <td>Please fax PT order to Holt PT fax   Faxed.  P...</td>\n",
       "      <td>MISCELLANEOUS</td>\n",
       "      <td>SHARING OF HEALTH RECORDS (FAX ; E-MAIL ; ETC.)</td>\n",
       "      <td>No</td>\n",
       "    </tr>\n",
       "    <tr>\n",
       "      <th>57272</th>\n",
       "      <td>ADD ON w Holly for 05/13 @ 2:30 PM</td>\n",
       "      <td>Established Raleigh Neurology Assoc P A Starne...</td>\n",
       "      <td>APPOINTMENTS</td>\n",
       "      <td>NEW APPOINTMENT</td>\n",
       "      <td>Yes</td>\n",
       "    </tr>\n",
       "    <tr>\n",
       "      <th>57273</th>\n",
       "      <td>Namenda XR</td>\n",
       "      <td>Medfusion Secure Electronic Message Subject RE...</td>\n",
       "      <td>ASK_A_DOCTOR</td>\n",
       "      <td>MEDICATION RELATED</td>\n",
       "      <td>No</td>\n",
       "    </tr>\n",
       "    <tr>\n",
       "      <th>57274</th>\n",
       "      <td>pts wife would like a cb</td>\n",
       "      <td>pts wife would like a cb regarding portal mess...</td>\n",
       "      <td>PRESCRIPTION</td>\n",
       "      <td>REFILL</td>\n",
       "      <td>No</td>\n",
       "    </tr>\n",
       "    <tr>\n",
       "      <th>57275</th>\n",
       "      <td>Out of meds -LOST RXS</td>\n",
       "      <td>Prescription Refill ADDERALL XR MG q am ADDERA...</td>\n",
       "      <td>PRESCRIPTION</td>\n",
       "      <td>REFILL</td>\n",
       "      <td>No</td>\n",
       "    </tr>\n",
       "    <tr>\n",
       "      <th>57276</th>\n",
       "      <td>pt's mom called to report a migraine</td>\n",
       "      <td>Triage Pediatric Headache mom called and state...</td>\n",
       "      <td>ASK_A_DOCTOR</td>\n",
       "      <td>MEDICATION RELATED</td>\n",
       "      <td>No</td>\n",
       "    </tr>\n",
       "    <tr>\n",
       "      <th>57277</th>\n",
       "      <td>Dental clearance</td>\n",
       "      <td>RNA  Dental office called wanting verbal clear...</td>\n",
       "      <td>MISCELLANEOUS</td>\n",
       "      <td>OTHERS</td>\n",
       "      <td>No</td>\n",
       "    </tr>\n",
       "    <tr>\n",
       "      <th>57278</th>\n",
       "      <td>Catheter documentation</td>\n",
       "      <td>CALL FROM OTHER CLINIC  Supply Super Store Rea...</td>\n",
       "      <td>MISCELLANEOUS</td>\n",
       "      <td>SHARING OF HEALTH RECORDS (FAX ; E-MAIL ; ETC.)</td>\n",
       "      <td>No</td>\n",
       "    </tr>\n",
       "    <tr>\n",
       "      <th>57279</th>\n",
       "      <td>status of FMLA form?- awaiting MD completion</td>\n",
       "      <td>mom is calling to find out the status of her F...</td>\n",
       "      <td>MISCELLANEOUS</td>\n",
       "      <td>OTHERS</td>\n",
       "      <td>No</td>\n",
       "    </tr>\n",
       "  </tbody>\n",
       "</table>\n",
       "</div>"
      ],
      "text/plain": [
       "                                                 summary  \\\n",
       "57270  Pt questions if Dr. Gabr recommends she get th...   \n",
       "57271   Please fax PT order to Holt PT fax #919-882-1727   \n",
       "57272                 ADD ON w Holly for 05/13 @ 2:30 PM   \n",
       "57273                                        Namenda XR    \n",
       "57274                           pts wife would like a cb   \n",
       "57275                              Out of meds -LOST RXS   \n",
       "57276               pt's mom called to report a migraine   \n",
       "57277                                   Dental clearance   \n",
       "57278                            Catheter documentation    \n",
       "57279       status of FMLA form?- awaiting MD completion   \n",
       "\n",
       "                                                    data     categories  \\\n",
       "57270                                                NaN  MISCELLANEOUS   \n",
       "57271  Please fax PT order to Holt PT fax   Faxed.  P...  MISCELLANEOUS   \n",
       "57272  Established Raleigh Neurology Assoc P A Starne...   APPOINTMENTS   \n",
       "57273  Medfusion Secure Electronic Message Subject RE...   ASK_A_DOCTOR   \n",
       "57274  pts wife would like a cb regarding portal mess...   PRESCRIPTION   \n",
       "57275  Prescription Refill ADDERALL XR MG q am ADDERA...   PRESCRIPTION   \n",
       "57276  Triage Pediatric Headache mom called and state...   ASK_A_DOCTOR   \n",
       "57277  RNA  Dental office called wanting verbal clear...  MISCELLANEOUS   \n",
       "57278  CALL FROM OTHER CLINIC  Supply Super Store Rea...  MISCELLANEOUS   \n",
       "57279  mom is calling to find out the status of her F...  MISCELLANEOUS   \n",
       "\n",
       "                                        sub_categories appointment  \n",
       "57270                                           OTHERS          No  \n",
       "57271  SHARING OF HEALTH RECORDS (FAX ; E-MAIL ; ETC.)          No  \n",
       "57272                                  NEW APPOINTMENT         Yes  \n",
       "57273                               MEDICATION RELATED          No  \n",
       "57274                                           REFILL          No  \n",
       "57275                                           REFILL          No  \n",
       "57276                               MEDICATION RELATED          No  \n",
       "57277                                           OTHERS          No  \n",
       "57278  SHARING OF HEALTH RECORDS (FAX ; E-MAIL ; ETC.)          No  \n",
       "57279                                           OTHERS          No  "
      ]
     },
     "execution_count": 197,
     "metadata": {},
     "output_type": "execute_result"
    }
   ],
   "source": [
    "#Last 10 rows of actual data\n",
    "actual_data.tail(10)"
   ]
  },
  {
   "cell_type": "markdown",
   "metadata": {},
   "source": [
    "# Data Observartions \n",
    "\n",
    "We observer that our dat set having missing values,NaN values,not relavant data types, \n",
    "upper and lowercase letters in a sentences,punctuations,tags,numeric values, \n",
    "#Stop words, Spelling errors, non dictionary words\n"
   ]
  },
  {
   "cell_type": "markdown",
   "metadata": {},
   "source": [
    "# To Over come all these we do preprocessing using NLTK"
   ]
  },
  {
   "cell_type": "code",
   "execution_count": 10,
   "metadata": {
    "collapsed": true
   },
   "outputs": [],
   "source": [
    "# Removing missing values\n",
    "actual_data.dropna(axis = 0,how = 'any',inplace=True)\n",
    "actual_data = actual_data.reset_index(drop=True)"
   ]
  },
  {
   "cell_type": "code",
   "execution_count": 198,
   "metadata": {},
   "outputs": [
    {
     "data": {
      "text/html": [
       "<div>\n",
       "<style scoped>\n",
       "    .dataframe tbody tr th:only-of-type {\n",
       "        vertical-align: middle;\n",
       "    }\n",
       "\n",
       "    .dataframe tbody tr th {\n",
       "        vertical-align: top;\n",
       "    }\n",
       "\n",
       "    .dataframe thead th {\n",
       "        text-align: right;\n",
       "    }\n",
       "</style>\n",
       "<table border=\"1\" class=\"dataframe\">\n",
       "  <thead>\n",
       "    <tr style=\"text-align: right;\">\n",
       "      <th></th>\n",
       "      <th>summary</th>\n",
       "      <th>data</th>\n",
       "      <th>categories</th>\n",
       "      <th>sub_categories</th>\n",
       "      <th>appointment</th>\n",
       "    </tr>\n",
       "  </thead>\n",
       "  <tbody>\n",
       "    <tr>\n",
       "      <th>0</th>\n",
       "      <td>Pt aware that he needs ROV for refill</td>\n",
       "      <td>Patient is returning nurse call. He is unable ...</td>\n",
       "      <td>PRESCRIPTION</td>\n",
       "      <td>REFILL</td>\n",
       "      <td>No</td>\n",
       "    </tr>\n",
       "    <tr>\n",
       "      <th>1</th>\n",
       "      <td>Mom wants to know if the Focalin needs some do...</td>\n",
       "      <td>school teacher is reporting pt is not able to ...</td>\n",
       "      <td>ASK_A_DOCTOR</td>\n",
       "      <td>MEDICATION RELATED</td>\n",
       "      <td>No</td>\n",
       "    </tr>\n",
       "    <tr>\n",
       "      <th>2</th>\n",
       "      <td>pt called to discuss nortryptiline. she says s...</td>\n",
       "      <td>Prescription  Prescription Comments pt called ...</td>\n",
       "      <td>ASK_A_DOCTOR</td>\n",
       "      <td>MEDICATION RELATED</td>\n",
       "      <td>No</td>\n",
       "    </tr>\n",
       "    <tr>\n",
       "      <th>3</th>\n",
       "      <td>FYI Nortryptline medication.</td>\n",
       "      <td>Prescription  Prescription Comments pt called ...</td>\n",
       "      <td>MISCELLANEOUS</td>\n",
       "      <td>OTHERS</td>\n",
       "      <td>No</td>\n",
       "    </tr>\n",
       "    <tr>\n",
       "      <th>4</th>\n",
       "      <td>Letter of patient establishment request</td>\n",
       "      <td>Requesting a letter stating that pt is indeed ...</td>\n",
       "      <td>MISCELLANEOUS</td>\n",
       "      <td>SHARING OF HEALTH RECORDS (FAX ; E-MAIL ; ETC.)</td>\n",
       "      <td>No</td>\n",
       "    </tr>\n",
       "    <tr>\n",
       "      <th>5</th>\n",
       "      <td>Appt question</td>\n",
       "      <td>Appointments Pt mom wants to know if pt should...</td>\n",
       "      <td>APPOINTMENTS</td>\n",
       "      <td>QUERY ON CURRENT APPOINTMENT</td>\n",
       "      <td>No</td>\n",
       "    </tr>\n",
       "    <tr>\n",
       "      <th>6</th>\n",
       "      <td>dizzy &amp; double vision past 45 mins after CT</td>\n",
       "      <td>had CT this a. m. in Smithfield and is feeling...</td>\n",
       "      <td>ASK_A_DOCTOR</td>\n",
       "      <td>SYMPTOMS</td>\n",
       "      <td>No</td>\n",
       "    </tr>\n",
       "    <tr>\n",
       "      <th>7</th>\n",
       "      <td>Please refax neurocog order to new fac; Wake ...</td>\n",
       "      <td>Dr. is too far booked out per pt and like the ...</td>\n",
       "      <td>MISCELLANEOUS</td>\n",
       "      <td>SHARING OF HEALTH RECORDS (FAX ; E-MAIL ; ETC.)</td>\n",
       "      <td>No</td>\n",
       "    </tr>\n",
       "    <tr>\n",
       "      <th>8</th>\n",
       "      <td>pt wants to reschedule Epidural from 04/30 ; p...</td>\n",
       "      <td>Appointments pt wants to reschedule Epidural f...</td>\n",
       "      <td>APPOINTMENTS</td>\n",
       "      <td>RESCHEDULING</td>\n",
       "      <td>No</td>\n",
       "    </tr>\n",
       "    <tr>\n",
       "      <th>9</th>\n",
       "      <td>Phone Note</td>\n",
       "      <td></td>\n",
       "      <td>MISCELLANEOUS</td>\n",
       "      <td>OTHERS</td>\n",
       "      <td>No</td>\n",
       "    </tr>\n",
       "  </tbody>\n",
       "</table>\n",
       "</div>"
      ],
      "text/plain": [
       "                                             summary  \\\n",
       "0              Pt aware that he needs ROV for refill   \n",
       "1  Mom wants to know if the Focalin needs some do...   \n",
       "2  pt called to discuss nortryptiline. she says s...   \n",
       "3                       FYI Nortryptline medication.   \n",
       "4            Letter of patient establishment request   \n",
       "5                                      Appt question   \n",
       "6        dizzy & double vision past 45 mins after CT   \n",
       "7   Please refax neurocog order to new fac; Wake ...   \n",
       "8  pt wants to reschedule Epidural from 04/30 ; p...   \n",
       "9                                         Phone Note   \n",
       "\n",
       "                                                data     categories  \\\n",
       "0  Patient is returning nurse call. He is unable ...   PRESCRIPTION   \n",
       "1  school teacher is reporting pt is not able to ...   ASK_A_DOCTOR   \n",
       "2  Prescription  Prescription Comments pt called ...   ASK_A_DOCTOR   \n",
       "3  Prescription  Prescription Comments pt called ...  MISCELLANEOUS   \n",
       "4  Requesting a letter stating that pt is indeed ...  MISCELLANEOUS   \n",
       "5  Appointments Pt mom wants to know if pt should...   APPOINTMENTS   \n",
       "6  had CT this a. m. in Smithfield and is feeling...   ASK_A_DOCTOR   \n",
       "7  Dr. is too far booked out per pt and like the ...  MISCELLANEOUS   \n",
       "8  Appointments pt wants to reschedule Epidural f...   APPOINTMENTS   \n",
       "9                                                     MISCELLANEOUS   \n",
       "\n",
       "                                    sub_categories appointment  \n",
       "0                                           REFILL          No  \n",
       "1                               MEDICATION RELATED          No  \n",
       "2                               MEDICATION RELATED          No  \n",
       "3                                           OTHERS          No  \n",
       "4  SHARING OF HEALTH RECORDS (FAX ; E-MAIL ; ETC.)          No  \n",
       "5                     QUERY ON CURRENT APPOINTMENT          No  \n",
       "6                                         SYMPTOMS          No  \n",
       "7  SHARING OF HEALTH RECORDS (FAX ; E-MAIL ; ETC.)          No  \n",
       "8                                     RESCHEDULING          No  \n",
       "9                                           OTHERS          No  "
      ]
     },
     "execution_count": 198,
     "metadata": {},
     "output_type": "execute_result"
    }
   ],
   "source": [
    "# replacing na values with None word\n",
    "#actual_data =actual_data.where((pd.notnull(actual_data)), None)\n",
    "\n",
    "# replace na values with empty space\n",
    "#actual_data= actual_data.replace(np.nan, '', regex=True)\n",
    "#actual_data.head(10)"
   ]
  },
  {
   "cell_type": "code",
   "execution_count": 199,
   "metadata": {
    "scrolled": true
   },
   "outputs": [
    {
     "data": {
      "text/html": [
       "<div>\n",
       "<style scoped>\n",
       "    .dataframe tbody tr th:only-of-type {\n",
       "        vertical-align: middle;\n",
       "    }\n",
       "\n",
       "    .dataframe tbody tr th {\n",
       "        vertical-align: top;\n",
       "    }\n",
       "\n",
       "    .dataframe thead th {\n",
       "        text-align: right;\n",
       "    }\n",
       "</style>\n",
       "<table border=\"1\" class=\"dataframe\">\n",
       "  <thead>\n",
       "    <tr style=\"text-align: right;\">\n",
       "      <th></th>\n",
       "      <th>summary</th>\n",
       "      <th>data</th>\n",
       "      <th>categories</th>\n",
       "      <th>sub_categories</th>\n",
       "      <th>appointment</th>\n",
       "    </tr>\n",
       "  </thead>\n",
       "  <tbody>\n",
       "    <tr>\n",
       "      <th>0</th>\n",
       "      <td>Pt aware that he needs ROV for refill</td>\n",
       "      <td>Patient is returning nurse call. He is unable ...</td>\n",
       "      <td>PRESCRIPTION</td>\n",
       "      <td>REFILL</td>\n",
       "      <td>No</td>\n",
       "    </tr>\n",
       "    <tr>\n",
       "      <th>1</th>\n",
       "      <td>Mom wants to know if the Focalin needs some do...</td>\n",
       "      <td>school teacher is reporting pt is not able to ...</td>\n",
       "      <td>ASK_A_DOCTOR</td>\n",
       "      <td>MEDICATION RELATED</td>\n",
       "      <td>No</td>\n",
       "    </tr>\n",
       "    <tr>\n",
       "      <th>2</th>\n",
       "      <td>pt called to discuss nortryptiline. she says s...</td>\n",
       "      <td>Prescription  Prescription Comments pt called ...</td>\n",
       "      <td>ASK_A_DOCTOR</td>\n",
       "      <td>MEDICATION RELATED</td>\n",
       "      <td>No</td>\n",
       "    </tr>\n",
       "    <tr>\n",
       "      <th>3</th>\n",
       "      <td>FYI Nortryptline medication.</td>\n",
       "      <td>Prescription  Prescription Comments pt called ...</td>\n",
       "      <td>MISCELLANEOUS</td>\n",
       "      <td>OTHERS</td>\n",
       "      <td>No</td>\n",
       "    </tr>\n",
       "    <tr>\n",
       "      <th>4</th>\n",
       "      <td>Letter of patient establishment request</td>\n",
       "      <td>Requesting a letter stating that pt is indeed ...</td>\n",
       "      <td>MISCELLANEOUS</td>\n",
       "      <td>SHARING OF HEALTH RECORDS (FAX ; E-MAIL ; ETC.)</td>\n",
       "      <td>No</td>\n",
       "    </tr>\n",
       "    <tr>\n",
       "      <th>5</th>\n",
       "      <td>Appt question</td>\n",
       "      <td>Appointments Pt mom wants to know if pt should...</td>\n",
       "      <td>APPOINTMENTS</td>\n",
       "      <td>QUERY ON CURRENT APPOINTMENT</td>\n",
       "      <td>No</td>\n",
       "    </tr>\n",
       "    <tr>\n",
       "      <th>6</th>\n",
       "      <td>dizzy &amp; double vision past 45 mins after CT</td>\n",
       "      <td>had CT this a. m. in Smithfield and is feeling...</td>\n",
       "      <td>ASK_A_DOCTOR</td>\n",
       "      <td>SYMPTOMS</td>\n",
       "      <td>No</td>\n",
       "    </tr>\n",
       "    <tr>\n",
       "      <th>7</th>\n",
       "      <td>Please refax neurocog order to new fac; Wake ...</td>\n",
       "      <td>Dr. is too far booked out per pt and like the ...</td>\n",
       "      <td>MISCELLANEOUS</td>\n",
       "      <td>SHARING OF HEALTH RECORDS (FAX ; E-MAIL ; ETC.)</td>\n",
       "      <td>No</td>\n",
       "    </tr>\n",
       "    <tr>\n",
       "      <th>8</th>\n",
       "      <td>pt wants to reschedule Epidural from 04/30 ; p...</td>\n",
       "      <td>Appointments pt wants to reschedule Epidural f...</td>\n",
       "      <td>APPOINTMENTS</td>\n",
       "      <td>RESCHEDULING</td>\n",
       "      <td>No</td>\n",
       "    </tr>\n",
       "    <tr>\n",
       "      <th>9</th>\n",
       "      <td>Phone Note</td>\n",
       "      <td></td>\n",
       "      <td>MISCELLANEOUS</td>\n",
       "      <td>OTHERS</td>\n",
       "      <td>No</td>\n",
       "    </tr>\n",
       "    <tr>\n",
       "      <th>10</th>\n",
       "      <td></td>\n",
       "      <td>Converted from flag MD wrote She cancelled thi...</td>\n",
       "      <td>MISCELLANEOUS</td>\n",
       "      <td>OTHERS</td>\n",
       "      <td>No</td>\n",
       "    </tr>\n",
       "    <tr>\n",
       "      <th>11</th>\n",
       "      <td>rov</td>\n",
       "      <td>xxx Appointments Pt calling to reschedule appt...</td>\n",
       "      <td>APPOINTMENTS</td>\n",
       "      <td>NEW APPOINTMENT</td>\n",
       "      <td>No</td>\n",
       "    </tr>\n",
       "    <tr>\n",
       "      <th>12</th>\n",
       "      <td>Please go ahead and order Mandibular Repositio...</td>\n",
       "      <td>Pt is interested in following up on getting a ...</td>\n",
       "      <td>PRESCRIPTION</td>\n",
       "      <td>PROVIDER</td>\n",
       "      <td>No</td>\n",
       "    </tr>\n",
       "    <tr>\n",
       "      <th>13</th>\n",
       "      <td>pt clld to check on a work in appt</td>\n",
       "      <td>and like to be seen before if possible. Please...</td>\n",
       "      <td>APPOINTMENTS</td>\n",
       "      <td>NEW APPOINTMENT</td>\n",
       "      <td>No</td>\n",
       "    </tr>\n",
       "    <tr>\n",
       "      <th>14</th>\n",
       "      <td>appt sched 05/14/158 @12:00am...db</td>\n",
       "      <td>Converted from Care Alert Lisa Gilligan RN wro...</td>\n",
       "      <td>APPOINTMENTS</td>\n",
       "      <td>NEW APPOINTMENT</td>\n",
       "      <td>No</td>\n",
       "    </tr>\n",
       "    <tr>\n",
       "      <th>15</th>\n",
       "      <td>Triage: Concussion ; pt has a knot the size of...</td>\n",
       "      <td>Triage Pediatric Pt collided hard with an oppo...</td>\n",
       "      <td>ASK_A_DOCTOR</td>\n",
       "      <td>SYMPTOMS</td>\n",
       "      <td>No</td>\n",
       "    </tr>\n",
       "    <tr>\n",
       "      <th>16</th>\n",
       "      <td>SCHEDULED</td>\n",
       "      <td>Appointments Next New Patient MD Danielle A by...</td>\n",
       "      <td>APPOINTMENTS</td>\n",
       "      <td>NEW APPOINTMENT</td>\n",
       "      <td>No</td>\n",
       "    </tr>\n",
       "    <tr>\n",
       "      <th>17</th>\n",
       "      <td>Last office note faxed to NCEENT</td>\n",
       "      <td>CALL FROM OTHER CLINIC  NCEENT Reason for Call...</td>\n",
       "      <td>MISCELLANEOUS</td>\n",
       "      <td>SHARING OF HEALTH RECORDS (FAX ; E-MAIL ; ETC.)</td>\n",
       "      <td>No</td>\n",
       "    </tr>\n",
       "    <tr>\n",
       "      <th>18</th>\n",
       "      <td>Patient records request</td>\n",
       "      <td>Patient called to request a copy of her  Recor...</td>\n",
       "      <td>LAB</td>\n",
       "      <td>SHARING OF LAB RECORDS (FAX ; E-MAIL ; ETC.)</td>\n",
       "      <td>No</td>\n",
       "    </tr>\n",
       "    <tr>\n",
       "      <th>19</th>\n",
       "      <td>Dilantin and Keppra rx refill</td>\n",
       "      <td>Prescription Refill KEPPRA MG TABS tab po BID ...</td>\n",
       "      <td>PRESCRIPTION</td>\n",
       "      <td>REFILL</td>\n",
       "      <td>No</td>\n",
       "    </tr>\n",
       "    <tr>\n",
       "      <th>20</th>\n",
       "      <td>PCP Call - pt had concussion</td>\n",
       "      <td>CALL FROM OTHER CLINIC</td>\n",
       "      <td>MISCELLANEOUS</td>\n",
       "      <td>OTHERS</td>\n",
       "      <td>No</td>\n",
       "    </tr>\n",
       "    <tr>\n",
       "      <th>21</th>\n",
       "      <td>WCB 5/4 re: dicuss injection appt</td>\n",
       "      <td>Appointments Patint to discuss injection appt....</td>\n",
       "      <td>ASK_A_DOCTOR</td>\n",
       "      <td>MEDICATION RELATED</td>\n",
       "      <td>No</td>\n",
       "    </tr>\n",
       "    <tr>\n",
       "      <th>22</th>\n",
       "      <td>ADD ON PPC AT 2:40PM</td>\n",
       "      <td></td>\n",
       "      <td>APPOINTMENTS</td>\n",
       "      <td>NEW APPOINTMENT</td>\n",
       "      <td>No</td>\n",
       "    </tr>\n",
       "    <tr>\n",
       "      <th>23</th>\n",
       "      <td>PA for Tecfidera ; forms received ; pending</td>\n",
       "      <td>CALL FROM PHARMACY   Reason for Call Details P...</td>\n",
       "      <td>PRESCRIPTION</td>\n",
       "      <td>QUERIES FROM PHARMACY</td>\n",
       "      <td>No</td>\n",
       "    </tr>\n",
       "    <tr>\n",
       "      <th>24</th>\n",
       "      <td>Tecfidera PA</td>\n",
       "      <td>Prescription Medication Prior Authorization Pt...</td>\n",
       "      <td>PRESCRIPTION</td>\n",
       "      <td>PRIOR AUTHORIZATION</td>\n",
       "      <td>No</td>\n",
       "    </tr>\n",
       "    <tr>\n",
       "      <th>25</th>\n",
       "      <td>Tecfidera Rx telephoned to new specialty pharm...</td>\n",
       "      <td>CALL FROM PHARMACY   Optum Rx Reason for Call ...</td>\n",
       "      <td>PRESCRIPTION</td>\n",
       "      <td>QUERIES FROM PHARMACY</td>\n",
       "      <td>No</td>\n",
       "    </tr>\n",
       "    <tr>\n",
       "      <th>26</th>\n",
       "      <td>r/s 5/13/15 appt</td>\n",
       "      <td>Appointments pt would like a cb to her appt on...</td>\n",
       "      <td>APPOINTMENTS</td>\n",
       "      <td>RESCHEDULING</td>\n",
       "      <td>No</td>\n",
       "    </tr>\n",
       "    <tr>\n",
       "      <th>27</th>\n",
       "      <td>Pt calilng to verify appt time</td>\n",
       "      <td>Appointments Pt calling to verify her appt tim...</td>\n",
       "      <td>APPOINTMENTS</td>\n",
       "      <td>QUERY ON CURRENT APPOINTMENT</td>\n",
       "      <td>No</td>\n",
       "    </tr>\n",
       "    <tr>\n",
       "      <th>28</th>\n",
       "      <td>FYI: pt in hospital</td>\n",
       "      <td>Patients brother calling to inform RNA that pt...</td>\n",
       "      <td>MISCELLANEOUS</td>\n",
       "      <td>OTHERS</td>\n",
       "      <td>No</td>\n",
       "    </tr>\n",
       "    <tr>\n",
       "      <th>29</th>\n",
       "      <td>Rx for Lamictal XR 300mg ; (Brand Name)</td>\n",
       "      <td>Mom Prescription Refill ICTAL XR MG po once a ...</td>\n",
       "      <td>PRESCRIPTION</td>\n",
       "      <td>REFILL</td>\n",
       "      <td>No</td>\n",
       "    </tr>\n",
       "    <tr>\n",
       "      <th>...</th>\n",
       "      <td>...</td>\n",
       "      <td>...</td>\n",
       "      <td>...</td>\n",
       "      <td>...</td>\n",
       "      <td>...</td>\n",
       "    </tr>\n",
       "    <tr>\n",
       "      <th>57250</th>\n",
       "      <td>pt was seen at duke raleigh er for pain in bac...</td>\n",
       "      <td>pt was seen at duke raleigh er for pain in bac...</td>\n",
       "      <td>PRESCRIPTION</td>\n",
       "      <td>PROVIDER</td>\n",
       "      <td>No</td>\n",
       "    </tr>\n",
       "    <tr>\n",
       "      <th>57251</th>\n",
       "      <td>pt returned phone call  MRI results given</td>\n",
       "      <td>Test Results Bloodwork Details Pt returned pho...</td>\n",
       "      <td>LAB</td>\n",
       "      <td>LAB RESULTS</td>\n",
       "      <td>No</td>\n",
       "    </tr>\n",
       "    <tr>\n",
       "      <th>57252</th>\n",
       "      <td>Rx Hydrocodone.</td>\n",
       "      <td>Prescription  Prescription Comments Regarding ...</td>\n",
       "      <td>PRESCRIPTION</td>\n",
       "      <td>REFILL</td>\n",
       "      <td>No</td>\n",
       "    </tr>\n",
       "    <tr>\n",
       "      <th>57253</th>\n",
       "      <td>Waiting On Report.</td>\n",
       "      <td>Prescription  Prescription Comments Patient ca...</td>\n",
       "      <td>MISCELLANEOUS</td>\n",
       "      <td>SHARING OF HEALTH RECORDS (FAX ; E-MAIL ; ETC.)</td>\n",
       "      <td>No</td>\n",
       "    </tr>\n",
       "    <tr>\n",
       "      <th>57254</th>\n",
       "      <td>Phone Note-Jazz 14-002 Narcolepsy research stu...</td>\n",
       "      <td></td>\n",
       "      <td>MISCELLANEOUS</td>\n",
       "      <td>OTHERS</td>\n",
       "      <td>No</td>\n",
       "    </tr>\n",
       "    <tr>\n",
       "      <th>57255</th>\n",
       "      <td>Judy from Xyrem</td>\n",
       "      <td>Reason for Call Details Judy from Xyrem states...</td>\n",
       "      <td>MISCELLANEOUS</td>\n",
       "      <td>SHARING OF HEALTH RECORDS (FAX ; E-MAIL ; ETC.)</td>\n",
       "      <td>No</td>\n",
       "    </tr>\n",
       "    <tr>\n",
       "      <th>57256</th>\n",
       "      <td></td>\n",
       "      <td>Converted from flag Erin Schmidt wrote no auth...</td>\n",
       "      <td>MISCELLANEOUS</td>\n",
       "      <td>OTHERS</td>\n",
       "      <td>No</td>\n",
       "    </tr>\n",
       "    <tr>\n",
       "      <th>57257</th>\n",
       "      <td>Work note</td>\n",
       "      <td>Pt states she is still going to have the MRI. ...</td>\n",
       "      <td>MISCELLANEOUS</td>\n",
       "      <td>OTHERS</td>\n",
       "      <td>No</td>\n",
       "    </tr>\n",
       "    <tr>\n",
       "      <th>57258</th>\n",
       "      <td>mri results requested</td>\n",
       "      <td>mom called requesting mri results. superbill i...</td>\n",
       "      <td>LAB</td>\n",
       "      <td>LAB RESULTS</td>\n",
       "      <td>No</td>\n",
       "    </tr>\n",
       "    <tr>\n",
       "      <th>57259</th>\n",
       "      <td>FYI - Pt d/c'd from practice ;Rx for Topomax</td>\n",
       "      <td>Prescription Refill AX MG TABS take tabs PO BI...</td>\n",
       "      <td>PRESCRIPTION</td>\n",
       "      <td>REFILL</td>\n",
       "      <td>No</td>\n",
       "    </tr>\n",
       "    <tr>\n",
       "      <th>57260</th>\n",
       "      <td>EEG results</td>\n",
       "      <td>Converted from flag MD wrote EEG was normal wi...</td>\n",
       "      <td>LAB</td>\n",
       "      <td>LAB RESULTS</td>\n",
       "      <td>No</td>\n",
       "    </tr>\n",
       "    <tr>\n",
       "      <th>57261</th>\n",
       "      <td>Rx Hydrocodone</td>\n",
       "      <td>Prescription Refill INOPHEN MG TABS tabs po pr...</td>\n",
       "      <td>PRESCRIPTION</td>\n",
       "      <td>REFILL</td>\n",
       "      <td>No</td>\n",
       "    </tr>\n",
       "    <tr>\n",
       "      <th>57262</th>\n",
       "      <td>please call and confirm hydrocodone rx is avai...</td>\n",
       "      <td>Prescription  Prescription Comments please cal...</td>\n",
       "      <td>PRESCRIPTION</td>\n",
       "      <td>REFILL</td>\n",
       "      <td>No</td>\n",
       "    </tr>\n",
       "    <tr>\n",
       "      <th>57263</th>\n",
       "      <td>pt called back to follow up on previous reques...</td>\n",
       "      <td>Prescription  Prescription Comments increase i...</td>\n",
       "      <td>ASK_A_DOCTOR</td>\n",
       "      <td>MEDICATION RELATED</td>\n",
       "      <td>No</td>\n",
       "    </tr>\n",
       "    <tr>\n",
       "      <th>57264</th>\n",
       "      <td>Requesting  DULOXETINE PA be expedited</td>\n",
       "      <td>Prescription Medication Prior Authorization pt...</td>\n",
       "      <td>PRESCRIPTION</td>\n",
       "      <td>PRIOR AUTHORIZATION</td>\n",
       "      <td>No</td>\n",
       "    </tr>\n",
       "    <tr>\n",
       "      <th>57265</th>\n",
       "      <td>Checking status of prior auth &amp; pain</td>\n",
       "      <td>Prescription Medication Prior Authorization Pa...</td>\n",
       "      <td>PRESCRIPTION</td>\n",
       "      <td>PRIOR AUTHORIZATION</td>\n",
       "      <td>No</td>\n",
       "    </tr>\n",
       "    <tr>\n",
       "      <th>57266</th>\n",
       "      <td>Emotional Symptoms</td>\n",
       "      <td>Triage Adult  Hyanna called she feels very rag...</td>\n",
       "      <td>ASK_A_DOCTOR</td>\n",
       "      <td>SYMPTOMS</td>\n",
       "      <td>No</td>\n",
       "    </tr>\n",
       "    <tr>\n",
       "      <th>57267</th>\n",
       "      <td>Critical Lab --awaiting redraw 5/19</td>\n",
       "      <td>Reason for Call Details Critical lab value K m...</td>\n",
       "      <td>MISCELLANEOUS</td>\n",
       "      <td>OTHERS</td>\n",
       "      <td>No</td>\n",
       "    </tr>\n",
       "    <tr>\n",
       "      <th>57268</th>\n",
       "      <td>L/m for parent to cb to sch ROV with Maureen</td>\n",
       "      <td>Converted from flag Jacqueline Gower wrote Mau...</td>\n",
       "      <td>PRESCRIPTION</td>\n",
       "      <td>PROVIDER</td>\n",
       "      <td>No</td>\n",
       "    </tr>\n",
       "    <tr>\n",
       "      <th>57269</th>\n",
       "      <td>Duragesic and Hydrocodone Refill</td>\n",
       "      <td>Work Phone Prescription Refill TRANS Use topic...</td>\n",
       "      <td>PRESCRIPTION</td>\n",
       "      <td>REFILL</td>\n",
       "      <td>No</td>\n",
       "    </tr>\n",
       "    <tr>\n",
       "      <th>57270</th>\n",
       "      <td>Pt questions if Dr. Gabr recommends she get th...</td>\n",
       "      <td></td>\n",
       "      <td>MISCELLANEOUS</td>\n",
       "      <td>OTHERS</td>\n",
       "      <td>No</td>\n",
       "    </tr>\n",
       "    <tr>\n",
       "      <th>57271</th>\n",
       "      <td>Please fax PT order to Holt PT fax #919-882-1727</td>\n",
       "      <td>Please fax PT order to Holt PT fax   Faxed.  P...</td>\n",
       "      <td>MISCELLANEOUS</td>\n",
       "      <td>SHARING OF HEALTH RECORDS (FAX ; E-MAIL ; ETC.)</td>\n",
       "      <td>No</td>\n",
       "    </tr>\n",
       "    <tr>\n",
       "      <th>57272</th>\n",
       "      <td>ADD ON w Holly for 05/13 @ 2:30 PM</td>\n",
       "      <td>Established Raleigh Neurology Assoc P A Starne...</td>\n",
       "      <td>APPOINTMENTS</td>\n",
       "      <td>NEW APPOINTMENT</td>\n",
       "      <td>Yes</td>\n",
       "    </tr>\n",
       "    <tr>\n",
       "      <th>57273</th>\n",
       "      <td>Namenda XR</td>\n",
       "      <td>Medfusion Secure Electronic Message Subject RE...</td>\n",
       "      <td>ASK_A_DOCTOR</td>\n",
       "      <td>MEDICATION RELATED</td>\n",
       "      <td>No</td>\n",
       "    </tr>\n",
       "    <tr>\n",
       "      <th>57274</th>\n",
       "      <td>pts wife would like a cb</td>\n",
       "      <td>pts wife would like a cb regarding portal mess...</td>\n",
       "      <td>PRESCRIPTION</td>\n",
       "      <td>REFILL</td>\n",
       "      <td>No</td>\n",
       "    </tr>\n",
       "    <tr>\n",
       "      <th>57275</th>\n",
       "      <td>Out of meds -LOST RXS</td>\n",
       "      <td>Prescription Refill ADDERALL XR MG q am ADDERA...</td>\n",
       "      <td>PRESCRIPTION</td>\n",
       "      <td>REFILL</td>\n",
       "      <td>No</td>\n",
       "    </tr>\n",
       "    <tr>\n",
       "      <th>57276</th>\n",
       "      <td>pt's mom called to report a migraine</td>\n",
       "      <td>Triage Pediatric Headache mom called and state...</td>\n",
       "      <td>ASK_A_DOCTOR</td>\n",
       "      <td>MEDICATION RELATED</td>\n",
       "      <td>No</td>\n",
       "    </tr>\n",
       "    <tr>\n",
       "      <th>57277</th>\n",
       "      <td>Dental clearance</td>\n",
       "      <td>RNA  Dental office called wanting verbal clear...</td>\n",
       "      <td>MISCELLANEOUS</td>\n",
       "      <td>OTHERS</td>\n",
       "      <td>No</td>\n",
       "    </tr>\n",
       "    <tr>\n",
       "      <th>57278</th>\n",
       "      <td>Catheter documentation</td>\n",
       "      <td>CALL FROM OTHER CLINIC  Supply Super Store Rea...</td>\n",
       "      <td>MISCELLANEOUS</td>\n",
       "      <td>SHARING OF HEALTH RECORDS (FAX ; E-MAIL ; ETC.)</td>\n",
       "      <td>No</td>\n",
       "    </tr>\n",
       "    <tr>\n",
       "      <th>57279</th>\n",
       "      <td>status of FMLA form?- awaiting MD completion</td>\n",
       "      <td>mom is calling to find out the status of her F...</td>\n",
       "      <td>MISCELLANEOUS</td>\n",
       "      <td>OTHERS</td>\n",
       "      <td>No</td>\n",
       "    </tr>\n",
       "  </tbody>\n",
       "</table>\n",
       "<p>57280 rows × 5 columns</p>\n",
       "</div>"
      ],
      "text/plain": [
       "                                                 summary  \\\n",
       "0                  Pt aware that he needs ROV for refill   \n",
       "1      Mom wants to know if the Focalin needs some do...   \n",
       "2      pt called to discuss nortryptiline. she says s...   \n",
       "3                           FYI Nortryptline medication.   \n",
       "4                Letter of patient establishment request   \n",
       "5                                          Appt question   \n",
       "6            dizzy & double vision past 45 mins after CT   \n",
       "7       Please refax neurocog order to new fac; Wake ...   \n",
       "8      pt wants to reschedule Epidural from 04/30 ; p...   \n",
       "9                                             Phone Note   \n",
       "10                                                         \n",
       "11                                                   rov   \n",
       "12     Please go ahead and order Mandibular Repositio...   \n",
       "13                    pt clld to check on a work in appt   \n",
       "14                    appt sched 05/14/158 @12:00am...db   \n",
       "15     Triage: Concussion ; pt has a knot the size of...   \n",
       "16                                             SCHEDULED   \n",
       "17                      Last office note faxed to NCEENT   \n",
       "18                               Patient records request   \n",
       "19                        Dilantin and Keppra rx refill    \n",
       "20                          PCP Call - pt had concussion   \n",
       "21                     WCB 5/4 re: dicuss injection appt   \n",
       "22                                  ADD ON PPC AT 2:40PM   \n",
       "23           PA for Tecfidera ; forms received ; pending   \n",
       "24                                          Tecfidera PA   \n",
       "25     Tecfidera Rx telephoned to new specialty pharm...   \n",
       "26                                      r/s 5/13/15 appt   \n",
       "27                        Pt calilng to verify appt time   \n",
       "28                                   FYI: pt in hospital   \n",
       "29              Rx for Lamictal XR 300mg ; (Brand Name)    \n",
       "...                                                  ...   \n",
       "57250  pt was seen at duke raleigh er for pain in bac...   \n",
       "57251          pt returned phone call  MRI results given   \n",
       "57252                                    Rx Hydrocodone.   \n",
       "57253                                 Waiting On Report.   \n",
       "57254  Phone Note-Jazz 14-002 Narcolepsy research stu...   \n",
       "57255                                    Judy from Xyrem   \n",
       "57256                                                      \n",
       "57257                                         Work note    \n",
       "57258                             mri results requested    \n",
       "57259       FYI - Pt d/c'd from practice ;Rx for Topomax   \n",
       "57260                                        EEG results   \n",
       "57261                                     Rx Hydrocodone   \n",
       "57262  please call and confirm hydrocodone rx is avai...   \n",
       "57263  pt called back to follow up on previous reques...   \n",
       "57264             Requesting  DULOXETINE PA be expedited   \n",
       "57265               Checking status of prior auth & pain   \n",
       "57266                                 Emotional Symptoms   \n",
       "57267                Critical Lab --awaiting redraw 5/19   \n",
       "57268      L/m for parent to cb to sch ROV with Maureen    \n",
       "57269                   Duragesic and Hydrocodone Refill   \n",
       "57270  Pt questions if Dr. Gabr recommends she get th...   \n",
       "57271   Please fax PT order to Holt PT fax #919-882-1727   \n",
       "57272                 ADD ON w Holly for 05/13 @ 2:30 PM   \n",
       "57273                                        Namenda XR    \n",
       "57274                           pts wife would like a cb   \n",
       "57275                              Out of meds -LOST RXS   \n",
       "57276               pt's mom called to report a migraine   \n",
       "57277                                   Dental clearance   \n",
       "57278                            Catheter documentation    \n",
       "57279       status of FMLA form?- awaiting MD completion   \n",
       "\n",
       "                                                    data     categories  \\\n",
       "0      Patient is returning nurse call. He is unable ...   PRESCRIPTION   \n",
       "1      school teacher is reporting pt is not able to ...   ASK_A_DOCTOR   \n",
       "2      Prescription  Prescription Comments pt called ...   ASK_A_DOCTOR   \n",
       "3      Prescription  Prescription Comments pt called ...  MISCELLANEOUS   \n",
       "4      Requesting a letter stating that pt is indeed ...  MISCELLANEOUS   \n",
       "5      Appointments Pt mom wants to know if pt should...   APPOINTMENTS   \n",
       "6      had CT this a. m. in Smithfield and is feeling...   ASK_A_DOCTOR   \n",
       "7      Dr. is too far booked out per pt and like the ...  MISCELLANEOUS   \n",
       "8      Appointments pt wants to reschedule Epidural f...   APPOINTMENTS   \n",
       "9                                                         MISCELLANEOUS   \n",
       "10     Converted from flag MD wrote She cancelled thi...  MISCELLANEOUS   \n",
       "11     xxx Appointments Pt calling to reschedule appt...   APPOINTMENTS   \n",
       "12     Pt is interested in following up on getting a ...   PRESCRIPTION   \n",
       "13     and like to be seen before if possible. Please...   APPOINTMENTS   \n",
       "14     Converted from Care Alert Lisa Gilligan RN wro...   APPOINTMENTS   \n",
       "15     Triage Pediatric Pt collided hard with an oppo...   ASK_A_DOCTOR   \n",
       "16     Appointments Next New Patient MD Danielle A by...   APPOINTMENTS   \n",
       "17     CALL FROM OTHER CLINIC  NCEENT Reason for Call...  MISCELLANEOUS   \n",
       "18     Patient called to request a copy of her  Recor...            LAB   \n",
       "19     Prescription Refill KEPPRA MG TABS tab po BID ...   PRESCRIPTION   \n",
       "20                                CALL FROM OTHER CLINIC  MISCELLANEOUS   \n",
       "21     Appointments Patint to discuss injection appt....   ASK_A_DOCTOR   \n",
       "22                                                         APPOINTMENTS   \n",
       "23     CALL FROM PHARMACY   Reason for Call Details P...   PRESCRIPTION   \n",
       "24     Prescription Medication Prior Authorization Pt...   PRESCRIPTION   \n",
       "25     CALL FROM PHARMACY   Optum Rx Reason for Call ...   PRESCRIPTION   \n",
       "26     Appointments pt would like a cb to her appt on...   APPOINTMENTS   \n",
       "27     Appointments Pt calling to verify her appt tim...   APPOINTMENTS   \n",
       "28     Patients brother calling to inform RNA that pt...  MISCELLANEOUS   \n",
       "29     Mom Prescription Refill ICTAL XR MG po once a ...   PRESCRIPTION   \n",
       "...                                                  ...            ...   \n",
       "57250  pt was seen at duke raleigh er for pain in bac...   PRESCRIPTION   \n",
       "57251  Test Results Bloodwork Details Pt returned pho...            LAB   \n",
       "57252  Prescription  Prescription Comments Regarding ...   PRESCRIPTION   \n",
       "57253  Prescription  Prescription Comments Patient ca...  MISCELLANEOUS   \n",
       "57254                                                     MISCELLANEOUS   \n",
       "57255  Reason for Call Details Judy from Xyrem states...  MISCELLANEOUS   \n",
       "57256  Converted from flag Erin Schmidt wrote no auth...  MISCELLANEOUS   \n",
       "57257  Pt states she is still going to have the MRI. ...  MISCELLANEOUS   \n",
       "57258  mom called requesting mri results. superbill i...            LAB   \n",
       "57259  Prescription Refill AX MG TABS take tabs PO BI...   PRESCRIPTION   \n",
       "57260  Converted from flag MD wrote EEG was normal wi...            LAB   \n",
       "57261  Prescription Refill INOPHEN MG TABS tabs po pr...   PRESCRIPTION   \n",
       "57262  Prescription  Prescription Comments please cal...   PRESCRIPTION   \n",
       "57263  Prescription  Prescription Comments increase i...   ASK_A_DOCTOR   \n",
       "57264  Prescription Medication Prior Authorization pt...   PRESCRIPTION   \n",
       "57265  Prescription Medication Prior Authorization Pa...   PRESCRIPTION   \n",
       "57266  Triage Adult  Hyanna called she feels very rag...   ASK_A_DOCTOR   \n",
       "57267  Reason for Call Details Critical lab value K m...  MISCELLANEOUS   \n",
       "57268  Converted from flag Jacqueline Gower wrote Mau...   PRESCRIPTION   \n",
       "57269  Work Phone Prescription Refill TRANS Use topic...   PRESCRIPTION   \n",
       "57270                                                     MISCELLANEOUS   \n",
       "57271  Please fax PT order to Holt PT fax   Faxed.  P...  MISCELLANEOUS   \n",
       "57272  Established Raleigh Neurology Assoc P A Starne...   APPOINTMENTS   \n",
       "57273  Medfusion Secure Electronic Message Subject RE...   ASK_A_DOCTOR   \n",
       "57274  pts wife would like a cb regarding portal mess...   PRESCRIPTION   \n",
       "57275  Prescription Refill ADDERALL XR MG q am ADDERA...   PRESCRIPTION   \n",
       "57276  Triage Pediatric Headache mom called and state...   ASK_A_DOCTOR   \n",
       "57277  RNA  Dental office called wanting verbal clear...  MISCELLANEOUS   \n",
       "57278  CALL FROM OTHER CLINIC  Supply Super Store Rea...  MISCELLANEOUS   \n",
       "57279  mom is calling to find out the status of her F...  MISCELLANEOUS   \n",
       "\n",
       "                                        sub_categories appointment  \n",
       "0                                               REFILL          No  \n",
       "1                                   MEDICATION RELATED          No  \n",
       "2                                   MEDICATION RELATED          No  \n",
       "3                                               OTHERS          No  \n",
       "4      SHARING OF HEALTH RECORDS (FAX ; E-MAIL ; ETC.)          No  \n",
       "5                         QUERY ON CURRENT APPOINTMENT          No  \n",
       "6                                             SYMPTOMS          No  \n",
       "7      SHARING OF HEALTH RECORDS (FAX ; E-MAIL ; ETC.)          No  \n",
       "8                                         RESCHEDULING          No  \n",
       "9                                               OTHERS          No  \n",
       "10                                              OTHERS          No  \n",
       "11                                     NEW APPOINTMENT          No  \n",
       "12                                            PROVIDER          No  \n",
       "13                                     NEW APPOINTMENT          No  \n",
       "14                                     NEW APPOINTMENT          No  \n",
       "15                                            SYMPTOMS          No  \n",
       "16                                     NEW APPOINTMENT          No  \n",
       "17     SHARING OF HEALTH RECORDS (FAX ; E-MAIL ; ETC.)          No  \n",
       "18        SHARING OF LAB RECORDS (FAX ; E-MAIL ; ETC.)          No  \n",
       "19                                              REFILL          No  \n",
       "20                                              OTHERS          No  \n",
       "21                                  MEDICATION RELATED          No  \n",
       "22                                     NEW APPOINTMENT          No  \n",
       "23                               QUERIES FROM PHARMACY          No  \n",
       "24                                 PRIOR AUTHORIZATION          No  \n",
       "25                               QUERIES FROM PHARMACY          No  \n",
       "26                                        RESCHEDULING          No  \n",
       "27                        QUERY ON CURRENT APPOINTMENT          No  \n",
       "28                                              OTHERS          No  \n",
       "29                                              REFILL          No  \n",
       "...                                                ...         ...  \n",
       "57250                                         PROVIDER          No  \n",
       "57251                                      LAB RESULTS          No  \n",
       "57252                                           REFILL          No  \n",
       "57253  SHARING OF HEALTH RECORDS (FAX ; E-MAIL ; ETC.)          No  \n",
       "57254                                           OTHERS          No  \n",
       "57255  SHARING OF HEALTH RECORDS (FAX ; E-MAIL ; ETC.)          No  \n",
       "57256                                           OTHERS          No  \n",
       "57257                                           OTHERS          No  \n",
       "57258                                      LAB RESULTS          No  \n",
       "57259                                           REFILL          No  \n",
       "57260                                      LAB RESULTS          No  \n",
       "57261                                           REFILL          No  \n",
       "57262                                           REFILL          No  \n",
       "57263                               MEDICATION RELATED          No  \n",
       "57264                              PRIOR AUTHORIZATION          No  \n",
       "57265                              PRIOR AUTHORIZATION          No  \n",
       "57266                                         SYMPTOMS          No  \n",
       "57267                                           OTHERS          No  \n",
       "57268                                         PROVIDER          No  \n",
       "57269                                           REFILL          No  \n",
       "57270                                           OTHERS          No  \n",
       "57271  SHARING OF HEALTH RECORDS (FAX ; E-MAIL ; ETC.)          No  \n",
       "57272                                  NEW APPOINTMENT         Yes  \n",
       "57273                               MEDICATION RELATED          No  \n",
       "57274                                           REFILL          No  \n",
       "57275                                           REFILL          No  \n",
       "57276                               MEDICATION RELATED          No  \n",
       "57277                                           OTHERS          No  \n",
       "57278  SHARING OF HEALTH RECORDS (FAX ; E-MAIL ; ETC.)          No  \n",
       "57279                                           OTHERS          No  \n",
       "\n",
       "[57280 rows x 5 columns]"
      ]
     },
     "execution_count": 199,
     "metadata": {},
     "output_type": "execute_result"
    }
   ],
   "source": [
    "\n",
    "#Handling missing values\n",
    "#actual_data.dropna(axis=0, how='any')"
   ]
  },
  {
   "cell_type": "code",
   "execution_count": 11,
   "metadata": {
    "scrolled": false
   },
   "outputs": [
    {
     "data": {
      "text/plain": [
       "summary           0\n",
       "data              0\n",
       "categories        0\n",
       "sub_categories    0\n",
       "appointment       0\n",
       "dtype: int64"
      ]
     },
     "execution_count": 11,
     "metadata": {},
     "output_type": "execute_result"
    }
   ],
   "source": [
    "#no of missing values \n",
    "actual_data.apply(lambda x: sum(x.isnull()),axis=0)"
   ]
  },
  {
   "cell_type": "code",
   "execution_count": 12,
   "metadata": {},
   "outputs": [
    {
     "data": {
      "text/plain": [
       "(51202, 5)"
      ]
     },
     "execution_count": 12,
     "metadata": {},
     "output_type": "execute_result"
    }
   ],
   "source": [
    "actual_data.shape"
   ]
  },
  {
   "cell_type": "code",
   "execution_count": 13,
   "metadata": {
    "collapsed": true
   },
   "outputs": [],
   "source": [
    "#Converting datatype of summary feature\n",
    "actual_data.summary =actual_data.summary.astype('str')\n",
    "#Converting datatype of data feature\n",
    "actual_data.data =actual_data.data.astype('str')\n",
    "#Converting datatype of category feature\n",
    "actual_data.categories=actual_data.categories.astype(\"category\")\n",
    "#Converting datatype of sub_categories feature\n",
    "actual_data.sub_categories=actual_data.sub_categories.astype(\"category\")\n",
    "#Converting datatype of appointment feature\n",
    "actual_data.appointment=actual_data.appointment.astype(\"category\")"
   ]
  },
  {
   "cell_type": "code",
   "execution_count": 203,
   "metadata": {
    "collapsed": true
   },
   "outputs": [],
   "source": [
    "#Converting to lower case"
   ]
  },
  {
   "cell_type": "code",
   "execution_count": 14,
   "metadata": {
    "collapsed": true
   },
   "outputs": [],
   "source": [
    "actual_data['summary'] = actual_data['summary'].astype(str).str.lower()\n",
    "actual_data[\"data\"] = actual_data[\"data\"].astype(str).str.lower()\n",
    "actual_data[\"categories\"] = actual_data[\"categories\"].map(lambda x: x.upper())\n",
    "actual_data[\"sub_categories\"] = actual_data[\"sub_categories\"].map(lambda x: x.upper())\n",
    "actual_data[\"appointment\"] = actual_data[\"appointment\"].map(lambda x: x.upper())"
   ]
  },
  {
   "cell_type": "code",
   "execution_count": 17,
   "metadata": {
    "scrolled": false
   },
   "outputs": [
    {
     "name": "stdout",
     "output_type": "stream",
     "text": [
      "Number of PRESCRIPTION:  14442\n",
      "Number of APPOINTMENTS :  11670\n",
      "Number of MISCELLANEOUS  :  10924\n",
      "Number of ASK_A_DOCTOR  :  9943\n",
      "Number of LAB  :  4220\n",
      "Number of JUNK    :  3\n"
     ]
    }
   ],
   "source": [
    "ax = sns.countplot(actual_data.categories,label=\"Count\")       \n",
    "PRESCRIPTION,APPOINTMENTS,MISCELLANEOUS,ASK_A_DOCTOR,LAB,JUNK = actual_data.categories.value_counts()\n",
    "print('Number of PRESCRIPTION: ',PRESCRIPTION)\n",
    "print('Number of APPOINTMENTS : ',APPOINTMENTS)\n",
    "print('Number of MISCELLANEOUS  : ',MISCELLANEOUS )\n",
    "print('Number of ASK_A_DOCTOR  : ',ASK_A_DOCTOR)\n",
    "print('Number of LAB  : ',LAB )\n",
    "print('Number of JUNK    : ',JUNK )\n",
    "# represent size of the graph\n",
    "from pylab import rcParams\n",
    "rcParams['figure.figsize'] = 10,5"
   ]
  },
  {
   "cell_type": "code",
   "execution_count": 15,
   "metadata": {},
   "outputs": [
    {
     "data": {
      "text/plain": [
       "MEDICATION RELATED                                 10480\n",
       "REFILL                                              9626\n",
       "NEW APPOINTMENT                                     7710\n",
       "OTHERS                                              5302\n",
       "SHARING OF HEALTH RECORDS (FAX ; E-MAIL ; ETC.)     3425\n",
       "LAB RESULTS                                         2612\n",
       "QUERIES FROM PHARMACY                               1721\n",
       "PROVIDER                                            1594\n",
       "RESCHEDULING                                        1496\n",
       "SHARING OF LAB RECORDS (FAX ; E-MAIL ; ETC.)        1381\n",
       "SYMPTOMS                                            1190\n",
       "PRIOR AUTHORIZATION                                 1152\n",
       "CHANGE OF PROVIDER                                   915\n",
       "RUNNING LATE TO APPOINTMENT                          694\n",
       "QUERY ON CURRENT APPOINTMENT                         649\n",
       "CANCELLATION                                         602\n",
       "FOLLOW UP ON PREVIOUS REQUEST                        349\n",
       "CHANGE OF HOSPITAL                                   142\n",
       "QUERIES FROM INSURANCE FIRM                          105\n",
       "CHANGE OF PHARMACY                                    54\n",
       "JUNK                                                   3\n",
       "Name: sub_categories, dtype: int64"
      ]
     },
     "execution_count": 15,
     "metadata": {},
     "output_type": "execute_result"
    }
   ],
   "source": [
    "actual_data.sub_categories.value_counts()"
   ]
  },
  {
   "cell_type": "code",
   "execution_count": 43,
   "metadata": {
    "collapsed": true
   },
   "outputs": [],
   "source": [
    "#sub_cat = sns.countplot(actual_data.sub_categories,label=\"Count\")       \n",
    "#MEDICATION RELATED,NEW APPOINTMENT,REFILL,OTHERS,HEALTH RECORDS,LAB RESULTS,PROVIDER,QUERIES FROM PHARMACY,RESCHEDULING,LAB RECORDS,PRIOR AUTHORIZATION,SYMPTOMS,CHANGE OF PROVIDER,RUNNING LATE TO APPOINTMENT,CANCELLATION,QUERY ON CURRENT APPOINTMENT,FOLLOW UP ON PREVIOUS REQUEST,CHANGE OF HOSPITAL,QUERIES FROM INSURANCE FIRM,CHANGE OF PHARMACY,JUNK = actual_data.sub_categories.value_counts()\n",
    "sub_x = sns.countplot(actual_data.sub_categories,label=\"Count\")       \n",
    "#MED,NEW_APP,REFILL,OTHERS,HEALTH_RECORDS,LAB_RESULTS,PROVIDER,QUERIES_PHARM,RESCHED,PRIOR_AUTHOR,SYMPTOMS,CH_PROVIDER,LATE_APPT,CANCEL,QUERY_APPT,Fw_pr_req,Ch_hop,query_insur,ch_phar,junk = actual_data.sub_categories.value_counts()\n",
    "# represent size of the graph\n",
    "from pylab import rcParams\n",
    "rcParams['figure.figsize'] = 40,8"
   ]
  },
  {
   "cell_type": "code",
   "execution_count": 16,
   "metadata": {
    "scrolled": true
   },
   "outputs": [
    {
     "data": {
      "text/plain": [
       "'patient is returning nurse call. he is unable to make appt without talking to fin service dept. however he needs medication and worried that he will have issue without medication. please call patient to discuss.     pt returned phone call. please call back to advise   what is the problem? is he without insurance? he has been with instructions to come in for a appt. and cannot have refills without one.  david   rn spoke with pt and relayed the above to him.  he requested to speak with financial services.  rn transferred him to the business office.  rn requested business office to call once matter has been completed.  hollie saltis rn   ok.  david'"
      ]
     },
     "execution_count": 16,
     "metadata": {},
     "output_type": "execute_result"
    }
   ],
   "source": [
    "actual_data.data[0]"
   ]
  },
  {
   "cell_type": "code",
   "execution_count": 17,
   "metadata": {},
   "outputs": [
    {
     "data": {
      "text/plain": [
       "'prescription refill klonopin mg tabs po qhs pt states cvs did not get the rx. wants to know if it can be sent again. says she only has enough for nights.    rna  talked pt to inform rx being faxed this morning to pharmacy. asked to call pharmacy in next couple hrs or so to confirm receipt and if not received call rna back to inform. pt verbalized understanding.   tisha walker rn'"
      ]
     },
     "execution_count": 17,
     "metadata": {},
     "output_type": "execute_result"
    }
   ],
   "source": [
    "actual_data.data[100]"
   ]
  },
  {
   "cell_type": "code",
   "execution_count": null,
   "metadata": {
    "collapsed": true
   },
   "outputs": [],
   "source": [
    "##############################################################removing stop words"
   ]
  },
  {
   "cell_type": "code",
   "execution_count": 18,
   "metadata": {
    "collapsed": true
   },
   "outputs": [],
   "source": [
    "import nltk\n",
    "import re\n",
    "from nltk.tokenize import RegexpTokenizer\n",
    "from nltk.tokenize import word_tokenize\n",
    "from nltk.corpus import stopwords\n",
    "\n",
    "def raw_to_prepwithtokenize( raw_review ):\n",
    "    review_text = BeautifulSoup(raw_review).get_text() \n",
    "    letters_only = re.sub(\"[^a-zA-Z]\", \" \", review_text) \n",
    "    low_case = letters_only.lower()\n",
    "    words = nltk.word_tokenize(low_case)\n",
    "    stops = set(stopwords.words(\"english\"))                  \n",
    "    meaningful_words = [w for w in words if not w in stops]   \n",
    "    processed_sentence = \" \".join(meaningful_words)\n",
    "    return(processed_sentence)\n",
    "################################################################################################"
   ]
  },
  {
   "cell_type": "code",
   "execution_count": 19,
   "metadata": {},
   "outputs": [
    {
     "data": {
      "text/plain": [
       "51202"
      ]
     },
     "execution_count": 19,
     "metadata": {},
     "output_type": "execute_result"
    }
   ],
   "source": [
    "num_reviews=len(actual_data)\n",
    "num_reviews"
   ]
  },
  {
   "cell_type": "code",
   "execution_count": 20,
   "metadata": {},
   "outputs": [
    {
     "name": "stdout",
     "output_type": "stream",
     "text": [
      "no.of rows reviews processed: 0\n"
     ]
    },
    {
     "name": "stderr",
     "output_type": "stream",
     "text": [
      "E:\\Anaconda3\\lib\\site-packages\\bs4\\__init__.py:181: UserWarning: No parser was explicitly specified, so I'm using the best available HTML parser for this system (\"lxml\"). This usually isn't a problem, but if you run this code on another system, or in a different virtual environment, it may use a different parser and behave differently.\n",
      "\n",
      "The code that caused this warning is on line 193 of the file E:\\Anaconda3\\lib\\runpy.py. To get rid of this warning, change code that looks like this:\n",
      "\n",
      " BeautifulSoup(YOUR_MARKUP})\n",
      "\n",
      "to this:\n",
      "\n",
      " BeautifulSoup(YOUR_MARKUP, \"lxml\")\n",
      "\n",
      "  markup_type=markup_type))\n"
     ]
    },
    {
     "name": "stdout",
     "output_type": "stream",
     "text": [
      "no.of rows reviews processed: 10000\n",
      "no.of rows reviews processed: 20000\n",
      "no.of rows reviews processed: 30000\n",
      "no.of rows reviews processed: 40000\n"
     ]
    },
    {
     "name": "stderr",
     "output_type": "stream",
     "text": [
      "E:\\Anaconda3\\lib\\site-packages\\bs4\\__init__.py:219: UserWarning: \"b'.'\" looks like a filename, not markup. You should probably open this file and pass the filehandle into Beautiful Soup.\n",
      "  ' Beautiful Soup.' % markup)\n"
     ]
    },
    {
     "name": "stdout",
     "output_type": "stream",
     "text": [
      "no.of rows reviews processed: 50000\n"
     ]
    }
   ],
   "source": [
    "process=[]\n",
    "for i in range (0,num_reviews):\n",
    "    if i%10000 == 0:\n",
    "        print (\"no.of rows reviews processed:\",i)\n",
    "    process.append(raw_to_prepwithtokenize(actual_data['data'][i]))"
   ]
  },
  {
   "cell_type": "code",
   "execution_count": 21,
   "metadata": {},
   "outputs": [
    {
     "name": "stdout",
     "output_type": "stream",
     "text": [
      "no.of rows reviews processed: 0\n"
     ]
    },
    {
     "name": "stderr",
     "output_type": "stream",
     "text": [
      "E:\\Anaconda3\\lib\\site-packages\\bs4\\__init__.py:181: UserWarning: No parser was explicitly specified, so I'm using the best available HTML parser for this system (\"lxml\"). This usually isn't a problem, but if you run this code on another system, or in a different virtual environment, it may use a different parser and behave differently.\n",
      "\n",
      "The code that caused this warning is on line 193 of the file E:\\Anaconda3\\lib\\runpy.py. To get rid of this warning, change code that looks like this:\n",
      "\n",
      " BeautifulSoup(YOUR_MARKUP})\n",
      "\n",
      "to this:\n",
      "\n",
      " BeautifulSoup(YOUR_MARKUP, \"lxml\")\n",
      "\n",
      "  markup_type=markup_type))\n"
     ]
    },
    {
     "name": "stdout",
     "output_type": "stream",
     "text": [
      "no.of rows reviews processed: 10000\n",
      "no.of rows reviews processed: 20000\n",
      "no.of rows reviews processed: 30000\n",
      "no.of rows reviews processed: 40000\n",
      "no.of rows reviews processed: 50000\n"
     ]
    }
   ],
   "source": [
    "process_summary=[]\n",
    "for i in range (0,num_reviews):\n",
    "    if i%10000 == 0:\n",
    "        print (\"no.of rows reviews processed:\",i)\n",
    "    process_summary.append(raw_to_prepwithtokenize(actual_data['summary'][i]))"
   ]
  },
  {
   "cell_type": "code",
   "execution_count": 22,
   "metadata": {},
   "outputs": [
    {
     "data": {
      "text/plain": [
       "['patient returning nurse call unable make appt without talking fin service dept however needs medication worried issue without medication please call patient discuss pt returned phone call please call back advise problem without insurance instructions come appt refills without one david rn spoke pt relayed requested speak financial services rn transferred business office rn requested business office call matter completed hollie saltis rn ok david',\n",
       " 'school teacher reporting pt able sit still mom wants know focalin needs dosage adjusting something pt could take school staff could administer please call back discuss mom sts patient alot issues meds effectiveness lov rescheduled show mom apologized show sts disconnected home number use cell appt scheduled advd phone call completed appt scheduled marcia richardson lpn']"
      ]
     },
     "execution_count": 22,
     "metadata": {},
     "output_type": "execute_result"
    }
   ],
   "source": [
    "process[0:2]"
   ]
  },
  {
   "cell_type": "code",
   "execution_count": 24,
   "metadata": {
    "scrolled": true
   },
   "outputs": [
    {
     "data": {
      "text/plain": [
       "['pt aware needs rov refill', 'mom wants know focalin needs dosage adjusting']"
      ]
     },
     "execution_count": 24,
     "metadata": {},
     "output_type": "execute_result"
    }
   ],
   "source": [
    "process_summary[0:2]"
   ]
  },
  {
   "cell_type": "code",
   "execution_count": 25,
   "metadata": {
    "collapsed": true
   },
   "outputs": [],
   "source": [
    "import re\n",
    "def replacing_text(input_text):\n",
    "    letters_only = re.sub(\"[^a-zA-Z]\", \" \",input_text )\n",
    "    low_case = letters_only.lower()\n",
    "    #words = nltk.word_tokenize(low_case)\n",
    "    input_text   =re.sub(' pt ', ' patient ',  low_case)\n",
    "    input_text1  =re.sub(' appt ', ' appointment ',  input_text)\n",
    "    input_text2  =re.sub(' ov ', ' office visit ',  input_text1)\n",
    "    input_text3  =re.sub(' schd ', ' scheduled ',  input_text2)\n",
    "    input_text4  =re.sub(' np ', ' new patient ',  input_text3)\n",
    "    input_text5  =re.sub(' r/s ', ' reschedule ',  input_text4)\n",
    "    input_text6  =re.sub(' med ', ' medication ',  input_text5)\n",
    "    input_text7  =re.sub(' pa ', ' prior authorization ',  input_text6)\n",
    "    input_text8  =re.sub(' fin ', ' financial ',  input_text7)\n",
    "    input_text9  =re.sub(' dept ', ' department ',  input_text8) \n",
    "    input_text10 =re.sub(' Call patient back ', ' ', input_text9)\n",
    "    input_text11 =re.sub(' Phone Note ', ' ', input_text10)\n",
    "    input_text12 =re.sub(' Caller name ', ' ', input_text11)\n",
    "    input_text13 =re.sub(' Call Taken by ', ' ', input_text12)\n",
    "    input_text14 =re.sub(' Cell Phone ', ' ', input_text13)\n",
    "    input_text15 =re.sub(' CALL FROM PATIENT ', ' ', input_text14)\n",
    "    input_text16 =re.sub(' CALL PATIENT BACK AT ', ' ', input_text15)\n",
    "    input_text17 =re.sub(' Additional Follow-up Details ', ' ', input_text16)\n",
    "    input_text18 =re.sub(' Follow-up Details ', ' ', input_text17)\n",
    "    input_text19 =re.sub(' Additional Follow-up by ', ' ', input_text18)\n",
    "    input_text20 =re.sub(' Follow-up by ', ' ', input_text19)\n",
    "    input_text21 =re.sub(' Default Paragraph ', ' ', input_text20)\n",
    "    input_text22 =re.sub(' Default Paragraph ', ' ', input_text21)\n",
    "    input_text22 =re.sub(' n ', ' and ', input_text21)  \n",
    "    return(input_text22)    "
   ]
  },
  {
   "cell_type": "code",
   "execution_count": 26,
   "metadata": {},
   "outputs": [
    {
     "name": "stdout",
     "output_type": "stream",
     "text": [
      "no.of rows reviews processed: 0\n",
      "no.of rows reviews processed: 10000\n",
      "no.of rows reviews processed: 20000\n",
      "no.of rows reviews processed: 30000\n",
      "no.of rows reviews processed: 40000\n",
      "no.of rows reviews processed: 50000\n"
     ]
    }
   ],
   "source": [
    "data_process2=[]\n",
    "for i in range (0,num_reviews):\n",
    "    if i%10000 == 0:\n",
    "        print (\"no.of rows reviews processed:\",i)\n",
    "    data_process2.append(replacing_text(process[i]))"
   ]
  },
  {
   "cell_type": "code",
   "execution_count": 27,
   "metadata": {},
   "outputs": [
    {
     "name": "stdout",
     "output_type": "stream",
     "text": [
      "no.of rows reviews processed: 0\n",
      "no.of rows reviews processed: 10000\n",
      "no.of rows reviews processed: 20000\n",
      "no.of rows reviews processed: 30000\n",
      "no.of rows reviews processed: 40000\n",
      "no.of rows reviews processed: 50000\n"
     ]
    }
   ],
   "source": [
    "summary_process2=[]\n",
    "for i in range (0,num_reviews):\n",
    "    if i%10000 == 0:\n",
    "        print (\"no.of rows reviews processed:\",i)\n",
    "    summary_process2.append(replacing_text(process_summary[i]))"
   ]
  },
  {
   "cell_type": "code",
   "execution_count": 28,
   "metadata": {},
   "outputs": [
    {
     "data": {
      "text/plain": [
       "['patient returning nurse call unable make appointment without talking financial service department however needs medication worried issue without medication please call patient discuss patient returned phone call please call back advise problem without insurance instructions come appointment refills without one david rn spoke patient relayed requested speak financial services rn transferred business office rn requested business office call matter completed hollie saltis rn ok david',\n",
       " 'school teacher reporting patient able sit still mom wants know focalin needs dosage adjusting something patient could take school staff could administer please call back discuss mom sts patient alot issues meds effectiveness lov rescheduled show mom apologized show sts disconnected home number use cell appointment scheduled advd phone call completed appointment scheduled marcia richardson lpn']"
      ]
     },
     "execution_count": 28,
     "metadata": {},
     "output_type": "execute_result"
    }
   ],
   "source": [
    "data_process2[0:2]"
   ]
  },
  {
   "cell_type": "code",
   "execution_count": 30,
   "metadata": {},
   "outputs": [
    {
     "data": {
      "text/plain": [
       "['pt aware needs rov refill', 'mom wants know focalin needs dosage adjusting']"
      ]
     },
     "execution_count": 30,
     "metadata": {},
     "output_type": "execute_result"
    }
   ],
   "source": [
    "summary_process2[0:2]"
   ]
  },
  {
   "cell_type": "code",
   "execution_count": 31,
   "metadata": {
    "collapsed": true
   },
   "outputs": [],
   "source": [
    "actual_data.summary=pd.DataFrame(summary_process2)\n",
    "actual_data.data=pd.DataFrame(data_process2)"
   ]
  },
  {
   "cell_type": "code",
   "execution_count": 45,
   "metadata": {},
   "outputs": [
    {
     "data": {
      "text/html": [
       "<div>\n",
       "<style>\n",
       "    .dataframe thead tr:only-child th {\n",
       "        text-align: right;\n",
       "    }\n",
       "\n",
       "    .dataframe thead th {\n",
       "        text-align: left;\n",
       "    }\n",
       "\n",
       "    .dataframe tbody tr th {\n",
       "        vertical-align: top;\n",
       "    }\n",
       "</style>\n",
       "<table border=\"1\" class=\"dataframe\">\n",
       "  <thead>\n",
       "    <tr style=\"text-align: right;\">\n",
       "      <th></th>\n",
       "      <th>summary</th>\n",
       "      <th>data</th>\n",
       "      <th>categories</th>\n",
       "      <th>sub_categories</th>\n",
       "      <th>appointment</th>\n",
       "    </tr>\n",
       "  </thead>\n",
       "  <tbody>\n",
       "    <tr>\n",
       "      <th>0</th>\n",
       "      <td>pt aware needs rov refill</td>\n",
       "      <td>patient returning nurse call unable make appoi...</td>\n",
       "      <td>PRESCRIPTION</td>\n",
       "      <td>REFILL</td>\n",
       "      <td>NO</td>\n",
       "    </tr>\n",
       "    <tr>\n",
       "      <th>1</th>\n",
       "      <td>mom wants know focalin needs dosage adjusting</td>\n",
       "      <td>school teacher reporting patient able sit stil...</td>\n",
       "      <td>ASK_A_DOCTOR</td>\n",
       "      <td>MEDICATION RELATED</td>\n",
       "      <td>NO</td>\n",
       "    </tr>\n",
       "  </tbody>\n",
       "</table>\n",
       "</div>"
      ],
      "text/plain": [
       "                                         summary  \\\n",
       "0                      pt aware needs rov refill   \n",
       "1  mom wants know focalin needs dosage adjusting   \n",
       "\n",
       "                                                data    categories  \\\n",
       "0  patient returning nurse call unable make appoi...  PRESCRIPTION   \n",
       "1  school teacher reporting patient able sit stil...  ASK_A_DOCTOR   \n",
       "\n",
       "       sub_categories appointment  \n",
       "0              REFILL          NO  \n",
       "1  MEDICATION RELATED          NO  "
      ]
     },
     "execution_count": 45,
     "metadata": {},
     "output_type": "execute_result"
    }
   ],
   "source": [
    "actual_data.head(2)"
   ]
  },
  {
   "cell_type": "code",
   "execution_count": 46,
   "metadata": {
    "scrolled": false
   },
   "outputs": [
    {
     "data": {
      "text/plain": [
       "summary             object\n",
       "data                object\n",
       "categories        category\n",
       "sub_categories    category\n",
       "appointment       category\n",
       "dtype: object"
      ]
     },
     "execution_count": 46,
     "metadata": {},
     "output_type": "execute_result"
    }
   ],
   "source": [
    "actual_data.dtypes"
   ]
  },
  {
   "cell_type": "code",
   "execution_count": 47,
   "metadata": {},
   "outputs": [
    {
     "data": {
      "text/plain": [
       "'patient returning nurse call unable make appointment without talking financial service department however needs medication worried issue without medication please call patient discuss patient returned phone call please call back advise problem without insurance instructions come appointment refills without one david rn spoke patient relayed requested speak financial services rn transferred business office rn requested business office call matter completed hollie saltis rn ok david'"
      ]
     },
     "execution_count": 47,
     "metadata": {},
     "output_type": "execute_result"
    }
   ],
   "source": [
    "actual_data.data[0]"
   ]
  },
  {
   "cell_type": "code",
   "execution_count": 50,
   "metadata": {},
   "outputs": [
    {
     "data": {
      "text/plain": [
       "summary             object\n",
       "data                object\n",
       "categories        category\n",
       "sub_categories    category\n",
       "appointment       category\n",
       "dtype: object"
      ]
     },
     "execution_count": 50,
     "metadata": {},
     "output_type": "execute_result"
    }
   ],
   "source": [
    "actual_data.dtypes"
   ]
  },
  {
   "cell_type": "code",
   "execution_count": 32,
   "metadata": {
    "collapsed": true
   },
   "outputs": [],
   "source": [
    "#Converting datatype of summary feature\n",
    "actual_data.summary =actual_data.summary.astype('str')\n",
    "#Converting datatype of data feature\n",
    "actual_data.data =actual_data.data.astype('str')\n",
    "#Converting datatype of category feature\n",
    "actual_data.categories=actual_data.categories.astype(\"category\")\n",
    "#Converting datatype of sub_categories feature\n",
    "actual_data.sub_categories=actual_data.sub_categories.astype(\"category\")\n",
    "#Converting datatype of appointment feature\n",
    "actual_data.appointment=actual_data.appointment.astype(\"category\")"
   ]
  },
  {
   "cell_type": "code",
   "execution_count": 51,
   "metadata": {},
   "outputs": [
    {
     "data": {
      "text/html": [
       "<div>\n",
       "<style>\n",
       "    .dataframe thead tr:only-child th {\n",
       "        text-align: right;\n",
       "    }\n",
       "\n",
       "    .dataframe thead th {\n",
       "        text-align: left;\n",
       "    }\n",
       "\n",
       "    .dataframe tbody tr th {\n",
       "        vertical-align: top;\n",
       "    }\n",
       "</style>\n",
       "<table border=\"1\" class=\"dataframe\">\n",
       "  <thead>\n",
       "    <tr style=\"text-align: right;\">\n",
       "      <th></th>\n",
       "      <th>summary</th>\n",
       "      <th>data</th>\n",
       "      <th>categories</th>\n",
       "      <th>sub_categories</th>\n",
       "      <th>appointment</th>\n",
       "    </tr>\n",
       "  </thead>\n",
       "  <tbody>\n",
       "    <tr>\n",
       "      <th>0</th>\n",
       "      <td>pt aware needs rov refill</td>\n",
       "      <td>patient returning nurse call unable make appoi...</td>\n",
       "      <td>PRESCRIPTION</td>\n",
       "      <td>REFILL</td>\n",
       "      <td>NO</td>\n",
       "    </tr>\n",
       "    <tr>\n",
       "      <th>1</th>\n",
       "      <td>mom wants know focalin needs dosage adjusting</td>\n",
       "      <td>school teacher reporting patient able sit stil...</td>\n",
       "      <td>ASK_A_DOCTOR</td>\n",
       "      <td>MEDICATION RELATED</td>\n",
       "      <td>NO</td>\n",
       "    </tr>\n",
       "    <tr>\n",
       "      <th>2</th>\n",
       "      <td>pt called discuss nortryptiline says weird tas</td>\n",
       "      <td>prescription prescription comments patient cal...</td>\n",
       "      <td>ASK_A_DOCTOR</td>\n",
       "      <td>MEDICATION RELATED</td>\n",
       "      <td>NO</td>\n",
       "    </tr>\n",
       "    <tr>\n",
       "      <th>3</th>\n",
       "      <td>fyi nortryptline medication</td>\n",
       "      <td>prescription prescription comments patient cal...</td>\n",
       "      <td>MISCELLANEOUS</td>\n",
       "      <td>OTHERS</td>\n",
       "      <td>NO</td>\n",
       "    </tr>\n",
       "    <tr>\n",
       "      <th>4</th>\n",
       "      <td>letter patient establishment request</td>\n",
       "      <td>requesting letter stating patient indeed patie...</td>\n",
       "      <td>MISCELLANEOUS</td>\n",
       "      <td>SHARING OF HEALTH RECORDS (FAX ; E-MAIL ; ETC.)</td>\n",
       "      <td>NO</td>\n",
       "    </tr>\n",
       "  </tbody>\n",
       "</table>\n",
       "</div>"
      ],
      "text/plain": [
       "                                          summary  \\\n",
       "0                       pt aware needs rov refill   \n",
       "1   mom wants know focalin needs dosage adjusting   \n",
       "2  pt called discuss nortryptiline says weird tas   \n",
       "3                     fyi nortryptline medication   \n",
       "4            letter patient establishment request   \n",
       "\n",
       "                                                data     categories  \\\n",
       "0  patient returning nurse call unable make appoi...   PRESCRIPTION   \n",
       "1  school teacher reporting patient able sit stil...   ASK_A_DOCTOR   \n",
       "2  prescription prescription comments patient cal...   ASK_A_DOCTOR   \n",
       "3  prescription prescription comments patient cal...  MISCELLANEOUS   \n",
       "4  requesting letter stating patient indeed patie...  MISCELLANEOUS   \n",
       "\n",
       "                                    sub_categories appointment  \n",
       "0                                           REFILL          NO  \n",
       "1                               MEDICATION RELATED          NO  \n",
       "2                               MEDICATION RELATED          NO  \n",
       "3                                           OTHERS          NO  \n",
       "4  SHARING OF HEALTH RECORDS (FAX ; E-MAIL ; ETC.)          NO  "
      ]
     },
     "execution_count": 51,
     "metadata": {},
     "output_type": "execute_result"
    }
   ],
   "source": [
    "actual_data.head(5)"
   ]
  },
  {
   "cell_type": "code",
   "execution_count": 39,
   "metadata": {},
   "outputs": [
    {
     "data": {
      "text/plain": [
       "CountVectorizer(analyzer='word', binary=False, decode_error='strict',\n",
       "        dtype=<class 'numpy.int64'>, encoding='utf-8', input='content',\n",
       "        lowercase=True, max_df=1.0, max_features=5000, min_df=5,\n",
       "        ngram_range=(1, 1), preprocessor=None, stop_words=None,\n",
       "        strip_accents=None, token_pattern='(?u)\\\\b\\\\w\\\\w+\\\\b',\n",
       "        tokenizer=None, vocabulary=None)"
      ]
     },
     "execution_count": 39,
     "metadata": {},
     "output_type": "execute_result"
    }
   ],
   "source": [
    "from sklearn.feature_extraction.text import CountVectorizer\n",
    "vect = CountVectorizer(max_features= 5000)\n",
    "vect"
   ]
  },
  {
   "cell_type": "code",
   "execution_count": 40,
   "metadata": {
    "collapsed": true
   },
   "outputs": [],
   "source": [
    "data_feaures = vect.fit_transform(actual_data['data'])"
   ]
  },
  {
   "cell_type": "code",
   "execution_count": 41,
   "metadata": {
    "collapsed": true
   },
   "outputs": [],
   "source": [
    "summary_features = vect.fit_transform(actual_data['summary'])"
   ]
  },
  {
   "cell_type": "code",
   "execution_count": 59,
   "metadata": {},
   "outputs": [
    {
     "data": {
      "text/plain": [
       "dtype('int64')"
      ]
     },
     "execution_count": 59,
     "metadata": {},
     "output_type": "execute_result"
    }
   ],
   "source": []
  },
  {
   "cell_type": "code",
   "execution_count": 42,
   "metadata": {},
   "outputs": [],
   "source": [
    "data_features=data_feaures.toarray()\n",
    "summary_features = summary_features.toarray()"
   ]
  },
  {
   "cell_type": "code",
   "execution_count": 43,
   "metadata": {},
   "outputs": [
    {
     "ename": "ValueError",
     "evalue": "all the input array dimensions except for the concatenation axis must match exactly",
     "output_type": "error",
     "traceback": [
      "\u001b[1;31m---------------------------------------------------------------------------\u001b[0m",
      "\u001b[1;31mValueError\u001b[0m                                Traceback (most recent call last)",
      "\u001b[1;32m<ipython-input-43-1d835d1b9a6f>\u001b[0m in \u001b[0;36m<module>\u001b[1;34m()\u001b[0m\n\u001b[1;32m----> 1\u001b[1;33m \u001b[0mfeatures\u001b[0m \u001b[1;33m=\u001b[0m \u001b[0mnp\u001b[0m\u001b[1;33m.\u001b[0m\u001b[0mconcatenate\u001b[0m\u001b[1;33m(\u001b[0m\u001b[1;33m(\u001b[0m\u001b[0mdata_features\u001b[0m\u001b[1;33m,\u001b[0m\u001b[0msummary_features\u001b[0m\u001b[1;33m)\u001b[0m\u001b[1;33m,\u001b[0m \u001b[0maxis\u001b[0m\u001b[1;33m=\u001b[0m\u001b[1;36m0\u001b[0m\u001b[1;33m)\u001b[0m\u001b[1;33m\u001b[0m\u001b[0m\n\u001b[0m",
      "\u001b[1;31mValueError\u001b[0m: all the input array dimensions except for the concatenation axis must match exactly"
     ]
    }
   ],
   "source": [
    "features = np.concatenate((data_features,summary_features), axis=0)"
   ]
  },
  {
   "cell_type": "code",
   "execution_count": 62,
   "metadata": {},
   "outputs": [
    {
     "ename": "MemoryError",
     "evalue": "",
     "output_type": "error",
     "traceback": [
      "\u001b[1;31m---------------------------------------------------------------------------\u001b[0m",
      "\u001b[1;31mMemoryError\u001b[0m                               Traceback (most recent call last)",
      "\u001b[1;32m<ipython-input-62-085bc0772f1f>\u001b[0m in \u001b[0;36m<module>\u001b[1;34m()\u001b[0m\n\u001b[1;32m----> 1\u001b[1;33m \u001b[0mpreprocessed_data\u001b[0m\u001b[1;33m=\u001b[0m\u001b[0mpd\u001b[0m\u001b[1;33m.\u001b[0m\u001b[0mconcat\u001b[0m\u001b[1;33m(\u001b[0m\u001b[1;33m[\u001b[0m\u001b[0mdf_data\u001b[0m\u001b[1;33m,\u001b[0m\u001b[0mdf_summary\u001b[0m\u001b[1;33m]\u001b[0m\u001b[1;33m,\u001b[0m\u001b[0maxis\u001b[0m\u001b[1;33m=\u001b[0m\u001b[1;36m1\u001b[0m\u001b[1;33m)\u001b[0m\u001b[1;33m\u001b[0m\u001b[0m\n\u001b[0m",
      "\u001b[1;32mE:\\Anaconda3\\lib\\site-packages\\pandas\\core\\reshape\\concat.py\u001b[0m in \u001b[0;36mconcat\u001b[1;34m(objs, axis, join, join_axes, ignore_index, keys, levels, names, verify_integrity, copy)\u001b[0m\n\u001b[0;32m    205\u001b[0m                        \u001b[0mverify_integrity\u001b[0m\u001b[1;33m=\u001b[0m\u001b[0mverify_integrity\u001b[0m\u001b[1;33m,\u001b[0m\u001b[1;33m\u001b[0m\u001b[0m\n\u001b[0;32m    206\u001b[0m                        copy=copy)\n\u001b[1;32m--> 207\u001b[1;33m     \u001b[1;32mreturn\u001b[0m \u001b[0mop\u001b[0m\u001b[1;33m.\u001b[0m\u001b[0mget_result\u001b[0m\u001b[1;33m(\u001b[0m\u001b[1;33m)\u001b[0m\u001b[1;33m\u001b[0m\u001b[0m\n\u001b[0m\u001b[0;32m    208\u001b[0m \u001b[1;33m\u001b[0m\u001b[0m\n\u001b[0;32m    209\u001b[0m \u001b[1;33m\u001b[0m\u001b[0m\n",
      "\u001b[1;32mE:\\Anaconda3\\lib\\site-packages\\pandas\\core\\reshape\\concat.py\u001b[0m in \u001b[0;36mget_result\u001b[1;34m(self)\u001b[0m\n\u001b[0;32m    405\u001b[0m             new_data = concatenate_block_managers(\n\u001b[0;32m    406\u001b[0m                 \u001b[0mmgrs_indexers\u001b[0m\u001b[1;33m,\u001b[0m \u001b[0mself\u001b[0m\u001b[1;33m.\u001b[0m\u001b[0mnew_axes\u001b[0m\u001b[1;33m,\u001b[0m \u001b[0mconcat_axis\u001b[0m\u001b[1;33m=\u001b[0m\u001b[0mself\u001b[0m\u001b[1;33m.\u001b[0m\u001b[0maxis\u001b[0m\u001b[1;33m,\u001b[0m\u001b[1;33m\u001b[0m\u001b[0m\n\u001b[1;32m--> 407\u001b[1;33m                 copy=self.copy)\n\u001b[0m\u001b[0;32m    408\u001b[0m             \u001b[1;32mif\u001b[0m \u001b[1;32mnot\u001b[0m \u001b[0mself\u001b[0m\u001b[1;33m.\u001b[0m\u001b[0mcopy\u001b[0m\u001b[1;33m:\u001b[0m\u001b[1;33m\u001b[0m\u001b[0m\n\u001b[0;32m    409\u001b[0m                 \u001b[0mnew_data\u001b[0m\u001b[1;33m.\u001b[0m\u001b[0m_consolidate_inplace\u001b[0m\u001b[1;33m(\u001b[0m\u001b[1;33m)\u001b[0m\u001b[1;33m\u001b[0m\u001b[0m\n",
      "\u001b[1;32mE:\\Anaconda3\\lib\\site-packages\\pandas\\core\\internals.py\u001b[0m in \u001b[0;36mconcatenate_block_managers\u001b[1;34m(mgrs_indexers, axes, concat_axis, copy)\u001b[0m\n\u001b[0;32m   4830\u001b[0m     blocks = [make_block(\n\u001b[0;32m   4831\u001b[0m         \u001b[0mconcatenate_join_units\u001b[0m\u001b[1;33m(\u001b[0m\u001b[0mjoin_units\u001b[0m\u001b[1;33m,\u001b[0m \u001b[0mconcat_axis\u001b[0m\u001b[1;33m,\u001b[0m \u001b[0mcopy\u001b[0m\u001b[1;33m=\u001b[0m\u001b[0mcopy\u001b[0m\u001b[1;33m)\u001b[0m\u001b[1;33m,\u001b[0m\u001b[1;33m\u001b[0m\u001b[0m\n\u001b[1;32m-> 4832\u001b[1;33m         placement=placement) for placement, join_units in concat_plan]\n\u001b[0m\u001b[0;32m   4833\u001b[0m \u001b[1;33m\u001b[0m\u001b[0m\n\u001b[0;32m   4834\u001b[0m     \u001b[1;32mreturn\u001b[0m \u001b[0mBlockManager\u001b[0m\u001b[1;33m(\u001b[0m\u001b[0mblocks\u001b[0m\u001b[1;33m,\u001b[0m \u001b[0maxes\u001b[0m\u001b[1;33m)\u001b[0m\u001b[1;33m\u001b[0m\u001b[0m\n",
      "\u001b[1;32mE:\\Anaconda3\\lib\\site-packages\\pandas\\core\\internals.py\u001b[0m in \u001b[0;36m<listcomp>\u001b[1;34m(.0)\u001b[0m\n\u001b[0;32m   4830\u001b[0m     blocks = [make_block(\n\u001b[0;32m   4831\u001b[0m         \u001b[0mconcatenate_join_units\u001b[0m\u001b[1;33m(\u001b[0m\u001b[0mjoin_units\u001b[0m\u001b[1;33m,\u001b[0m \u001b[0mconcat_axis\u001b[0m\u001b[1;33m,\u001b[0m \u001b[0mcopy\u001b[0m\u001b[1;33m=\u001b[0m\u001b[0mcopy\u001b[0m\u001b[1;33m)\u001b[0m\u001b[1;33m,\u001b[0m\u001b[1;33m\u001b[0m\u001b[0m\n\u001b[1;32m-> 4832\u001b[1;33m         placement=placement) for placement, join_units in concat_plan]\n\u001b[0m\u001b[0;32m   4833\u001b[0m \u001b[1;33m\u001b[0m\u001b[0m\n\u001b[0;32m   4834\u001b[0m     \u001b[1;32mreturn\u001b[0m \u001b[0mBlockManager\u001b[0m\u001b[1;33m(\u001b[0m\u001b[0mblocks\u001b[0m\u001b[1;33m,\u001b[0m \u001b[0maxes\u001b[0m\u001b[1;33m)\u001b[0m\u001b[1;33m\u001b[0m\u001b[0m\n",
      "\u001b[1;32mE:\\Anaconda3\\lib\\site-packages\\pandas\\core\\internals.py\u001b[0m in \u001b[0;36mconcatenate_join_units\u001b[1;34m(join_units, concat_axis, copy)\u001b[0m\n\u001b[0;32m   4943\u001b[0m         \u001b[0mconcat_values\u001b[0m \u001b[1;33m=\u001b[0m \u001b[0mto_concat\u001b[0m\u001b[1;33m[\u001b[0m\u001b[1;36m0\u001b[0m\u001b[1;33m]\u001b[0m\u001b[1;33m\u001b[0m\u001b[0m\n\u001b[0;32m   4944\u001b[0m         \u001b[1;32mif\u001b[0m \u001b[0mcopy\u001b[0m \u001b[1;32mand\u001b[0m \u001b[0mconcat_values\u001b[0m\u001b[1;33m.\u001b[0m\u001b[0mbase\u001b[0m \u001b[1;32mis\u001b[0m \u001b[1;32mnot\u001b[0m \u001b[1;32mNone\u001b[0m\u001b[1;33m:\u001b[0m\u001b[1;33m\u001b[0m\u001b[0m\n\u001b[1;32m-> 4945\u001b[1;33m             \u001b[0mconcat_values\u001b[0m \u001b[1;33m=\u001b[0m \u001b[0mconcat_values\u001b[0m\u001b[1;33m.\u001b[0m\u001b[0mcopy\u001b[0m\u001b[1;33m(\u001b[0m\u001b[1;33m)\u001b[0m\u001b[1;33m\u001b[0m\u001b[0m\n\u001b[0m\u001b[0;32m   4946\u001b[0m     \u001b[1;32melse\u001b[0m\u001b[1;33m:\u001b[0m\u001b[1;33m\u001b[0m\u001b[0m\n\u001b[0;32m   4947\u001b[0m         \u001b[0mconcat_values\u001b[0m \u001b[1;33m=\u001b[0m \u001b[0m_concat\u001b[0m\u001b[1;33m.\u001b[0m\u001b[0m_concat_compat\u001b[0m\u001b[1;33m(\u001b[0m\u001b[0mto_concat\u001b[0m\u001b[1;33m,\u001b[0m \u001b[0maxis\u001b[0m\u001b[1;33m=\u001b[0m\u001b[0mconcat_axis\u001b[0m\u001b[1;33m)\u001b[0m\u001b[1;33m\u001b[0m\u001b[0m\n",
      "\u001b[1;31mMemoryError\u001b[0m: "
     ]
    }
   ],
   "source": [
    "preprocessed_data=pd.concat([df_data,df_summary],axis=1)"
   ]
  },
  {
   "cell_type": "code",
   "execution_count": 66,
   "metadata": {},
   "outputs": [
    {
     "data": {
      "text/plain": [
       "array([1, 2, 3, 4, 5, 6])"
      ]
     },
     "execution_count": 66,
     "metadata": {},
     "output_type": "execute_result"
    }
   ],
   "source": [
    "a = np.array([1,2,3])\n",
    "b = np.array([4,5,6])\n",
    "np.concatenate((a,b), axis=0)"
   ]
  },
  {
   "cell_type": "code",
   "execution_count": 52,
   "metadata": {
    "collapsed": true
   },
   "outputs": [],
   "source": [
    "from sklearn.preprocessing import MultiLabelBinarizer\n",
    "from sklearn.multiclass import OneVsRestClassifier"
   ]
  },
  {
   "cell_type": "code",
   "execution_count": null,
   "metadata": {
    "collapsed": true
   },
   "outputs": [],
   "source": []
  },
  {
   "cell_type": "code",
   "execution_count": null,
   "metadata": {
    "collapsed": true
   },
   "outputs": [],
   "source": [
    "#to find the frequency of each word count\n"
   ]
  },
  {
   "cell_type": "code",
   "execution_count": null,
   "metadata": {
    "collapsed": true
   },
   "outputs": [],
   "source": []
  },
  {
   "cell_type": "code",
   "execution_count": null,
   "metadata": {
    "collapsed": true
   },
   "outputs": [],
   "source": []
  },
  {
   "cell_type": "code",
   "execution_count": null,
   "metadata": {
    "collapsed": true
   },
   "outputs": [],
   "source": []
  },
  {
   "cell_type": "code",
   "execution_count": 55,
   "metadata": {
    "collapsed": true
   },
   "outputs": [],
   "source": [
    "from keras.preprocessing.text import Tokenizer\n",
    "from keras.preprocessing.sequence import pad_sequences\n",
    "\n",
    "tokenizer = Tokenizer(num_words=10000)\n",
    "tokenizer.fit_on_texts(actual_data.data)\n",
    "tokenizer.fit_on_texts(actual_data.summary)\n",
    "\n",
    "train_data_x = tokenizer.texts_to_sequences(actual_data.data)\n",
    "train_data_x = pad_sequences(train_data_x, maxlen=50)\n",
    "train_summary_x = tokenizer.texts_to_sequences(actual_data.summary)\n",
    "train_summary_x = pad_sequences(train_summary_x, maxlen=50)"
   ]
  },
  {
   "cell_type": "code",
   "execution_count": 56,
   "metadata": {},
   "outputs": [
    {
     "name": "stdout",
     "output_type": "stream",
     "text": [
      "(51202, 50) (51202, 50)\n"
     ]
    }
   ],
   "source": [
    "print(train_data_x.shape, train_summary_x.shape)"
   ]
  },
  {
   "cell_type": "code",
   "execution_count": 57,
   "metadata": {},
   "outputs": [
    {
     "data": {
      "text/plain": [
       "array([[ 138,   12,   61,   38,  468,   36,  575, 3062,  389,    1,  131,\n",
       "          49,  196, 1559,  131, 2806,    9,    2,   16,   63,   12,  481,\n",
       "           1, 1362,  328,  126, 4474,  186,  741,  704,   12, 2354,  704,\n",
       "         481, 2105,  127,  187,  300,  378,   11,   50, 1009,   13,    2,\n",
       "          29,   11,   50,  171,  167,   56],\n",
       "       [   0,    0,    0,    0,    0,    0,    0,    0,   22,   22,  191,\n",
       "           1,    6,   63, 6081,   67, 3249, 3958,  556,    1,   80, 4679,\n",
       "        7866,    9,    2,   63,    7,    1,   25, 1025, 6622,   37,   97,\n",
       "         230,  760,  524, 1835, 3286,   40, 8517,    9,   28,   94,  107,\n",
       "         235,   56,    7,  101,  354,   14]])"
      ]
     },
     "execution_count": 57,
     "metadata": {},
     "output_type": "execute_result"
    }
   ],
   "source": [
    "train_data_x[1:3]"
   ]
  },
  {
   "cell_type": "code",
   "execution_count": 64,
   "metadata": {},
   "outputs": [
    {
     "data": {
      "text/plain": [
       "OrderedDict([('patient', 104720),\n",
       "             ('returning', 1168),\n",
       "             ('nurse', 2514),\n",
       "             ('call', 54390),\n",
       "             ('unable', 1692),\n",
       "             ('make', 2440),\n",
       "             ('appointment', 22172),\n",
       "             ('without', 898),\n",
       "             ('talking', 226),\n",
       "             ('financial', 241),\n",
       "             ('service', 217),\n",
       "             ('department', 535),\n",
       "             ('however', 504),\n",
       "             ('needs', 9914),\n",
       "             ('medication', 18788),\n",
       "             ('worried', 189),\n",
       "             ('issue', 670),\n",
       "             ('please', 26969),\n",
       "             ('discuss', 7115),\n",
       "             ('returned', 1822),\n",
       "             ('phone', 19168),\n",
       "             ('back', 17338),\n",
       "             ('advise', 12746),\n",
       "             ('problem', 862),\n",
       "             ('insurance', 2685),\n",
       "             ('instructions', 6707),\n",
       "             ('come', 3436),\n",
       "             ('refills', 1916),\n",
       "             ('one', 5664),\n",
       "             ('david', 478),\n",
       "             ('rn', 40311),\n",
       "             ('spoke', 9635),\n",
       "             ('relayed', 96),\n",
       "             ('requested', 1702),\n",
       "             ('speak', 2120),\n",
       "             ('services', 385),\n",
       "             ('transferred', 318),\n",
       "             ('business', 140),\n",
       "             ('office', 8135),\n",
       "             ('matter', 132),\n",
       "             ('completed', 12731),\n",
       "             ('hollie', 1028),\n",
       "             ('saltis', 1007),\n",
       "             ('ok', 4693),\n",
       "             ('school', 2480),\n",
       "             ('teacher', 201),\n",
       "             ('reporting', 222),\n",
       "             ('able', 2445),\n",
       "             ('sit', 92),\n",
       "             ('still', 3477),\n",
       "             ('mom', 21037),\n",
       "             ('wants', 7184),\n",
       "             ('know', 9852),\n",
       "             ('focalin', 1011),\n",
       "             ('dosage', 761),\n",
       "             ('adjusting', 50),\n",
       "             ('something', 1255),\n",
       "             ('could', 3663),\n",
       "             ('take', 8536),\n",
       "             ('staff', 179),\n",
       "             ('administer', 61),\n",
       "             ('sts', 967),\n",
       "             ('alot', 227),\n",
       "             ('issues', 1496),\n",
       "             ('meds', 3787),\n",
       "             ('effectiveness', 22),\n",
       "             ('lov', 2534),\n",
       "             ('rescheduled', 543),\n",
       "             ('show', 584),\n",
       "             ('apologized', 87),\n",
       "             ('disconnected', 106),\n",
       "             ('home', 3764),\n",
       "             ('number', 2525),\n",
       "             ('use', 1641),\n",
       "             ('cell', 1313),\n",
       "             ('scheduled', 8479),\n",
       "             ('advd', 355),\n",
       "             ('marcia', 2906),\n",
       "             ('richardson', 2963),\n",
       "             ('lpn', 7469),\n",
       "             ('prescription', 14841),\n",
       "             ('comments', 2510),\n",
       "             ('called', 30933),\n",
       "             ('nortryptiline', 11),\n",
       "             ('says', 6797),\n",
       "             ('weird', 44),\n",
       "             ('taste', 29),\n",
       "             ('mouth', 805),\n",
       "             ('also', 6208),\n",
       "             ('sweats', 20),\n",
       "             ('heavily', 6),\n",
       "             ('rna', 30357),\n",
       "             ('states', 13401),\n",
       "             ('food', 350),\n",
       "             ('favor', 9),\n",
       "             ('last', 9890),\n",
       "             ('week', 4830),\n",
       "             ('started', 2108),\n",
       "             ('nortriptyline', 525),\n",
       "             ('excessive', 134),\n",
       "             ('sweating', 43),\n",
       "             ('pain', 9831),\n",
       "             ('unrelieved', 5),\n",
       "             ('next', 5208),\n",
       "             ('steep', 3),\n",
       "             ('mary', 4391),\n",
       "             ('morton', 2061),\n",
       "             ('stop', 1391),\n",
       "             ('md', 18805),\n",
       "             ('follow', 2947),\n",
       "             ('nortryptline', 2),\n",
       "             ('see', 9183),\n",
       "             ('note', 9852),\n",
       "             ('lmtcb', 1139),\n",
       "             ('alan', 255),\n",
       "             ('ekland', 244),\n",
       "             ('talked', 1503),\n",
       "             ('stopped', 795),\n",
       "             ('diff', 77),\n",
       "             ('tuest', 1),\n",
       "             ('went', 1490),\n",
       "             ('er', 3294),\n",
       "             ('severe', 1568),\n",
       "             ('bp', 326),\n",
       "             ('told', 4308),\n",
       "             ('go', 3985),\n",
       "             ('valium', 1225),\n",
       "             ('wanted', 2806),\n",
       "             ('sure', 2051),\n",
       "             ('dr', 17126),\n",
       "             ('aware', 1597),\n",
       "             ('level', 1911),\n",
       "             ('restart', 292),\n",
       "             ('aubagio', 463),\n",
       "             ('explained', 1639),\n",
       "             ('documented', 86),\n",
       "             ('severity', 40),\n",
       "             ('fgone', 1),\n",
       "             ('dmt', 28),\n",
       "             ('visit', 4746),\n",
       "             ('requesting', 4499),\n",
       "             ('letter', 3878),\n",
       "             ('stating', 1613),\n",
       "             ('indeed', 18),\n",
       "             ('seen', 4295),\n",
       "             ('irs', 4),\n",
       "             ('giving', 367),\n",
       "             ('deadline', 22),\n",
       "             ('address', 1369),\n",
       "             ('tom', 53),\n",
       "             ('eilers', 2),\n",
       "             ('lakeview', 1),\n",
       "             ('rd', 870),\n",
       "             ('newland', 1),\n",
       "             ('nc', 5906),\n",
       "             ('mail', 2094),\n",
       "             ('po', 27494),\n",
       "             ('box', 337),\n",
       "             ('myrtle', 23),\n",
       "             ('beach', 94),\n",
       "             ('sc', 418),\n",
       "             ('left', 5154),\n",
       "             ('vm', 2129),\n",
       "             ('sp', 93),\n",
       "             ('cb', 3395),\n",
       "             ('listed', 603),\n",
       "             ('per', 6251),\n",
       "             ('informing', 179),\n",
       "             ('msg', 720),\n",
       "             ('asked', 2170),\n",
       "             ('info', 1569),\n",
       "             ('tisha', 1112),\n",
       "             ('walker', 1225),\n",
       "             ('rc', 442),\n",
       "             ('wife', 2646),\n",
       "             ('linda', 3789),\n",
       "             ('care', 2384),\n",
       "             ('husband', 1046),\n",
       "             ('dementia', 163),\n",
       "             ('heart', 306),\n",
       "             ('attack', 83),\n",
       "             ('appendecitis', 1),\n",
       "             ('etc', 517),\n",
       "             ('late', 1240),\n",
       "             ('filing', 12),\n",
       "             ('taxes', 10),\n",
       "             ('received', 2978),\n",
       "             ('penalties', 2),\n",
       "             ('telling', 99),\n",
       "             ('get', 7084),\n",
       "             ('letters', 39),\n",
       "             ('physicians', 87),\n",
       "             ('excuse', 118),\n",
       "             ('saw', 693),\n",
       "             ('bjr', 319),\n",
       "             ('laura', 267),\n",
       "             ('brown', 1489),\n",
       "             ('dx', 615),\n",
       "             ('confirm', 1272),\n",
       "             ('appointments', 7193),\n",
       "             ('testing', 2702),\n",
       "             ('evaluated', 218),\n",
       "             ('recently', 525),\n",
       "             ('concussion', 1103),\n",
       "             ('already', 1165),\n",
       "             ('wanting', 513),\n",
       "             ('prone', 8),\n",
       "             ('others', 93),\n",
       "             ('getting', 2043),\n",
       "             ('head', 1453),\n",
       "             ('injury', 247),\n",
       "             ('months', 972),\n",
       "             ('ago', 1053),\n",
       "             ('diagnosed', 514),\n",
       "             ('pcp', 3516),\n",
       "             ('behavioral', 134),\n",
       "             ('another', 2993),\n",
       "             ('kid', 4),\n",
       "             ('today', 7447),\n",
       "             ('playing', 113),\n",
       "             ('soccer', 69),\n",
       "             ('concerned', 1030),\n",
       "             ('concussions', 27),\n",
       "             ('easily', 47),\n",
       "             ('general', 509),\n",
       "             ('answered', 232),\n",
       "             ('questions', 3458),\n",
       "             ('made', 1580),\n",
       "             ('arrival', 429),\n",
       "             ('time', 6052),\n",
       "             ('family', 1973),\n",
       "             ('member', 3177),\n",
       "             ('caller', 6964),\n",
       "             ('verbalized', 6732),\n",
       "             ('understanding', 7569),\n",
       "             ('mike', 370),\n",
       "             ('hales', 235),\n",
       "             ('ct', 810),\n",
       "             ('smithfield', 108),\n",
       "             ('feeling', 856),\n",
       "             ('funny', 40),\n",
       "             ('friend', 90),\n",
       "             ('pick', 3016),\n",
       "             ('drive', 790),\n",
       "             ('hos', 34),\n",
       "             ('let', 3607),\n",
       "             ('leave', 926),\n",
       "             ('driver', 302),\n",
       "             ('seeing', 645),\n",
       "             ('double', 240),\n",
       "             ('happened', 282),\n",
       "             ('laying', 50),\n",
       "             ('sitting', 127),\n",
       "             ('table', 48),\n",
       "             ('yet', 954),\n",
       "             ('mins', 369),\n",
       "             ('dizziness', 707),\n",
       "             ('contrast', 628),\n",
       "             ('denny', 3195),\n",
       "             ('cook', 3132),\n",
       "             ('symptoms', 1608),\n",
       "             ('persist', 38),\n",
       "             ('kmc', 824),\n",
       "             ('better', 1391),\n",
       "             ('really', 931),\n",
       "             ('scared', 53),\n",
       "             ('said', 3440),\n",
       "             ('upsetting', 8),\n",
       "             ('crystals', 3),\n",
       "             ('middle', 188),\n",
       "             ('ear', 179),\n",
       "             ('sometimes', 227),\n",
       "             ('wack', 1),\n",
       "             ('feel', 866),\n",
       "             ('strange', 33),\n",
       "             ('tired', 246),\n",
       "             ('like', 13872),\n",
       "             ('past', 1470),\n",
       "             ('extent', 7),\n",
       "             ('since', 4494),\n",
       "             ('stay', 553),\n",
       "             ('happens', 120),\n",
       "             ('far', 267),\n",
       "             ('booked', 120),\n",
       "             ('order', 8411),\n",
       "             ('faxed', 6582),\n",
       "             ('wake', 1707),\n",
       "             ('place', 544),\n",
       "             ('sooner', 1391),\n",
       "             ('refax', 326),\n",
       "             ('rebuild', 10),\n",
       "             ('referral', 4407),\n",
       "             ('wmc', 341),\n",
       "             ('original', 206),\n",
       "             ('specific', 241),\n",
       "             ('group', 172),\n",
       "             ('say', 590),\n",
       "             ('change', 2295),\n",
       "             ('reschedule', 936),\n",
       "             ('epidural', 96),\n",
       "             ('procedure', 820),\n",
       "             ('refill', 13312),\n",
       "             ('becky', 295),\n",
       "             ('wilson', 721),\n",
       "             ('xxx', 2118),\n",
       "             ('calling', 6497),\n",
       "             ('lm', 1913),\n",
       "             ('return', 1952),\n",
       "             ('sched', 1219),\n",
       "             ('rov', 6886),\n",
       "             ('pky', 802),\n",
       "             ('liz', 171),\n",
       "             ('kellee', 760),\n",
       "             ('currie', 675),\n",
       "             ('pt', 13564),\n",
       "             ('interested', 218),\n",
       "             ('following', 1292),\n",
       "             ('mandibular', 8),\n",
       "             ('repositioning', 6),\n",
       "             ('device', 82),\n",
       "             ('goes', 330),\n",
       "             ('prior', 7525),\n",
       "             ('auth', 1775),\n",
       "             ('covered', 281),\n",
       "             ('expense', 24),\n",
       "             ('schedule', 6784),\n",
       "             ('proceed', 544),\n",
       "             ('lisa', 5658),\n",
       "             ('mohamed', 2222),\n",
       "             ('paulette', 183),\n",
       "             ('lee', 221),\n",
       "             ('years', 427),\n",
       "             ('verify', 608),\n",
       "             ('weight', 281),\n",
       "             ('changed', 4781),\n",
       "             ('snoring', 46),\n",
       "             ('osa', 113),\n",
       "             ('stable', 169),\n",
       "             ('would', 17083),\n",
       "             ('pay', 599),\n",
       "             ('pocket', 161),\n",
       "             ('needed', 4444),\n",
       "             ('gained', 27),\n",
       "             ('worsened', 111),\n",
       "             ('recommend', 793),\n",
       "             ('repeat', 1406),\n",
       "             ('sleep', 4384),\n",
       "             ('study', 3734),\n",
       "             ('gina', 2462),\n",
       "             ('mauldin', 790),\n",
       "             ('authorization', 5595),\n",
       "             ('weighed', 11),\n",
       "             ('weighs', 17),\n",
       "             ('advised', 3827),\n",
       "             ('possible', 1991),\n",
       "             ('work', 6603),\n",
       "             ('available', 1493),\n",
       "             ('someone', 867),\n",
       "             ('cancels', 15),\n",
       "             ('converted', 3111),\n",
       "             ('alert', 298),\n",
       "             ('gilligan', 1524),\n",
       "             ('wrote', 7231),\n",
       "             ('gave', 2509),\n",
       "             ('month', 1845),\n",
       "             ('rf', 269),\n",
       "             ('triage', 2915),\n",
       "             ('pediatric', 473),\n",
       "             ('collided', 5),\n",
       "             ('hard', 853),\n",
       "             ('opponent', 1),\n",
       "             ('game', 51),\n",
       "             ('night', 2325),\n",
       "             ('knot', 28),\n",
       "             ('size', 58),\n",
       "             ('quarter', 12),\n",
       "             ('third', 73),\n",
       "             ('rest', 299),\n",
       "             ('weekend', 660),\n",
       "             ('monday', 1592),\n",
       "             ('keep', 1711),\n",
       "             ('electronics', 14),\n",
       "             ('wooten', 354),\n",
       "             ('new', 16108),\n",
       "             ('danielle', 198),\n",
       "             ('helms', 1),\n",
       "             ('sem', 320),\n",
       "             ('clinic', 4191),\n",
       "             ('nceent', 13),\n",
       "             ('reason', 6592),\n",
       "             ('details', 9335),\n",
       "             ('referring', 287),\n",
       "             ('provided', 641),\n",
       "             ('fax', 9922),\n",
       "             ('product', 897),\n",
       "             ('biscom', 1829),\n",
       "             ('inc', 913),\n",
       "             ('http', 883),\n",
       "             ('request', 9598),\n",
       "             ('copy', 1994),\n",
       "             ('records', 3455),\n",
       "             ('printed', 2051),\n",
       "             ('placed', 2508),\n",
       "             ('pickup', 185),\n",
       "             ('along', 500),\n",
       "             ('release', 1386),\n",
       "             ('form', 4091),\n",
       "             ('sign', 1461),\n",
       "             ('keppra', 2206),\n",
       "             ('mg', 35443),\n",
       "             ('tabs', 24038),\n",
       "             ('tab', 10389),\n",
       "             ('bid', 6581),\n",
       "             ('dilantin', 458),\n",
       "             ('caps', 4109),\n",
       "             ('qhs', 3737),\n",
       "             ('fills', 42),\n",
       "             ('pharmacy', 12917),\n",
       "             ('requests', 830),\n",
       "             ('contact', 3446),\n",
       "             ('sent', 8947),\n",
       "             ('medications', 10722),\n",
       "             ('updated', 10352),\n",
       "             ('sodium', 300),\n",
       "             ('signed', 5456),\n",
       "             ('rx', 34046),\n",
       "             ('x', 16550),\n",
       "             ('pamela', 3174),\n",
       "             ('spivey', 2246),\n",
       "             ('ph', 5771),\n",
       "             ('prescriptions', 5359),\n",
       "             ('patint', 2),\n",
       "             ('injection', 1324),\n",
       "             ('send', 4090),\n",
       "             ('message', 16268),\n",
       "             ('portal', 2393),\n",
       "             ('kind', 126),\n",
       "             ('information', 3439),\n",
       "             ('prepared', 25),\n",
       "             ('help', 2067),\n",
       "             ('angela', 336),\n",
       "             ('smith', 400),\n",
       "             ('cma', 2571),\n",
       "             ('hold', 1520),\n",
       "             ('june', 1131),\n",
       "             ('colonoscopy', 16),\n",
       "             ('blood', 1444),\n",
       "             ('thinner', 66),\n",
       "             ('bring', 877),\n",
       "             ('inr', 33),\n",
       "             ('results', 10093),\n",
       "             ('tecfidera', 919),\n",
       "             ('attempted', 422),\n",
       "             ('minutes', 835),\n",
       "             ('downloaded', 7),\n",
       "             ('forms', 1266),\n",
       "             ('optum', 238),\n",
       "             ('website', 381),\n",
       "             ('complete', 1396),\n",
       "             ('required', 337),\n",
       "             ('status', 2337),\n",
       "             ('previous', 836),\n",
       "             ('concerning', 513),\n",
       "             ('completing', 76),\n",
       "             ('insurer', 246),\n",
       "             ('notify', 4116),\n",
       "             ('medfusion', 5670),\n",
       "             ('secure', 3698),\n",
       "             ('electronic', 3640),\n",
       "             ('subject', 3543),\n",
       "             ('update', 1516),\n",
       "             ('hello', 324),\n",
       "             ('tamekia', 1),\n",
       "             ('holly', 1541),\n",
       "             ('process', 580),\n",
       "             ('inform', 1005),\n",
       "             ('decision', 217),\n",
       "             ('joyce', 2012),\n",
       "             ('queued', 2884),\n",
       "             ('tuesday', 482),\n",
       "             ('may', 8985),\n",
       "             ('michelle', 135),\n",
       "             ('need', 8469),\n",
       "             ('verbal', 808),\n",
       "             ('specialty', 307),\n",
       "             ('phoned', 41),\n",
       "             ('allowed', 113),\n",
       "             ('day', 5792),\n",
       "             ('supply', 1499),\n",
       "             ('cpdr', 178),\n",
       "             ('denise', 899),\n",
       "             ('carollo', 284),\n",
       "             ('telephoned', 212),\n",
       "             ('optumrx', 83),\n",
       "             ('rxid', 2965),\n",
       "             ('pls', 6561),\n",
       "             ('pts', 1965),\n",
       "             ('arrive', 448),\n",
       "             ('mareva', 72),\n",
       "             ('taylor', 1874),\n",
       "             ('patients', 537),\n",
       "             ('brother', 179),\n",
       "             ('johnston', 95),\n",
       "             ('unc', 690),\n",
       "             ('healthcare', 144),\n",
       "             ('hospital', 1491),\n",
       "             ('kidney', 114),\n",
       "             ('bloodstream', 4),\n",
       "             ('ictal', 577),\n",
       "             ('xr', 3238),\n",
       "             ('lamictal', 1387),\n",
       "             ('optom', 4),\n",
       "             ('built', 2191),\n",
       "             ('provider', 7150),\n",
       "             ('maykou', 482),\n",
       "             ('ly', 466),\n",
       "             ('brand', 1147),\n",
       "             ('name', 1048),\n",
       "             ('dad', 2389),\n",
       "             ('clonidine', 301),\n",
       "             ('hcl', 5114),\n",
       "             ('apply', 510),\n",
       "             ('skin', 321),\n",
       "             ('q', 6039),\n",
       "             ('days', 7364),\n",
       "             ('express', 662),\n",
       "             ('scripts', 857),\n",
       "             ('patch', 1254),\n",
       "             ('lori', 1460),\n",
       "             ('put', 1197),\n",
       "             ('forward', 505),\n",
       "             ('taken', 1186),\n",
       "             ('system', 353),\n",
       "             ('every', 1404),\n",
       "             ('ptwk', 10),\n",
       "             ('mri', 12249),\n",
       "             ('notified', 6723),\n",
       "             ('roi', 313),\n",
       "             ('report', 1651),\n",
       "             ('contacted', 506),\n",
       "             ('johnnie', 108),\n",
       "             ('harper', 102),\n",
       "             ('us', 2304),\n",
       "             ('mris', 119),\n",
       "             ('emg', 454),\n",
       "             ('test', 4691),\n",
       "             ('thursday', 609),\n",
       "             ('confirmed', 814),\n",
       "             ('confirmation', 551),\n",
       "             ('dear', 278),\n",
       "             ('liam', 3),\n",
       "             ('thank', 2499),\n",
       "             ('scheduling', 734),\n",
       "             ('raleigh', 4794),\n",
       "             ('neurology', 2264),\n",
       "             ('associates', 427),\n",
       "             ('neurodevelopmental', 67),\n",
       "             ('kristi', 120),\n",
       "             ('l', 798),\n",
       "             ('ask', 1713),\n",
       "             ('reminder', 192),\n",
       "             ('done', 3812),\n",
       "             ('closer', 196),\n",
       "             ('route', 2015),\n",
       "             ('responses', 1919),\n",
       "             ('read', 3949),\n",
       "             ('failure', 1729),\n",
       "             ('notice', 1803),\n",
       "             ('zomig', 423),\n",
       "             ('soln', 788),\n",
       "             ('spray', 301),\n",
       "             ('nose', 141),\n",
       "             ('prn', 9304),\n",
       "             ('hrs', 1953),\n",
       "             ('kroger', 265),\n",
       "             ('midatlantic', 88),\n",
       "             ('creedmoor', 103),\n",
       "             ('tianna', 332),\n",
       "             ('nancy', 66),\n",
       "             ('hanover', 18),\n",
       "             ('joint', 195),\n",
       "             ('replacement', 153),\n",
       "             ('surgery', 945),\n",
       "             ('notes', 2513),\n",
       "             ('edward', 48),\n",
       "             ('receiving', 172),\n",
       "             ('soon', 1167),\n",
       "             ('recent', 977),\n",
       "             ('permission', 153),\n",
       "             ('erica', 1334),\n",
       "             ('adams', 1169),\n",
       "             ('working', 1301),\n",
       "             ('outback', 1),\n",
       "             ('spencer', 2),\n",
       "             ('sz', 1651),\n",
       "             ('ems', 122),\n",
       "             ('memorial', 84),\n",
       "             ('smithfeild', 1),\n",
       "             ('stated', 4091),\n",
       "             ('missing', 202),\n",
       "             ('doses', 515),\n",
       "             ('faxing', 284),\n",
       "             ('drug', 1155),\n",
       "             ('levels', 364),\n",
       "             ('drawn', 463),\n",
       "             ('advsie', 22),\n",
       "             ('driving', 508),\n",
       "             ('restrictions', 114),\n",
       "             ('labs', 1851),\n",
       "             ('norris', 903),\n",
       "             ('watch', 131),\n",
       "             ('things', 526),\n",
       "             ('taking', 3971),\n",
       "             ('regularly', 58),\n",
       "             ('additional', 1451),\n",
       "             ('recommendations', 352),\n",
       "             ('diastat', 594),\n",
       "             ('review', 1354),\n",
       "             ('acudial', 221),\n",
       "             ('gel', 355),\n",
       "             ('outside', 219),\n",
       "             ('dose', 3497),\n",
       "             ('pr', 231),\n",
       "             ('seizure', 1799),\n",
       "             ('pharmacist', 1758),\n",
       "             ('set', 1113),\n",
       "             ('lock', 172),\n",
       "             ('dial', 124),\n",
       "             ('undefined', 348),\n",
       "             ('carroll', 712),\n",
       "             ('chopped', 1),\n",
       "             ('quantity', 272),\n",
       "             ('resent', 359),\n",
       "             ('nicole', 1759),\n",
       "             ('lyons', 1040),\n",
       "             ('intuniv', 425),\n",
       "             ('qday', 602),\n",
       "             ('qam', 1611),\n",
       "             ('cvs', 1851),\n",
       "             ('req', 1910),\n",
       "             ('heard', 529),\n",
       "             ('behavior', 410),\n",
       "             ('slapped', 2),\n",
       "             ('child', 318),\n",
       "             ('yesterday', 1904),\n",
       "             ('hole', 17),\n",
       "             ('wall', 47),\n",
       "             ('suspended', 32),\n",
       "             ('bed', 659),\n",
       "             ('lasted', 293),\n",
       "             ('given', 2889),\n",
       "             ('slept', 113),\n",
       "             ('lathargic', 4),\n",
       "             ('ha', 2314),\n",
       "             ('vomiting', 387),\n",
       "             ('friday', 1339),\n",
       "             ('morning', 2086),\n",
       "             ('zinn', 452),\n",
       "             ('currently', 1476),\n",
       "             ('well', 2439),\n",
       "             ('lingering', 21),\n",
       "             ('fatigue', 270),\n",
       "             ('stomach', 314),\n",
       "             ('nasonex', 1),\n",
       "             ('allergies', 98),\n",
       "             ('start', 1898),\n",
       "             ('adhd', 245),\n",
       "             ('later', 829),\n",
       "             ('long', 1920),\n",
       "             ('agree', 248),\n",
       "             ('july', 1070),\n",
       "             ('mark', 90),\n",
       "             ('iov', 1642),\n",
       "             ('open', 347),\n",
       "             ('unsure', 435),\n",
       "             ('thta', 2),\n",
       "             ('disk', 99),\n",
       "             ('bone', 118),\n",
       "             ('referred', 714),\n",
       "             ('ext', 597),\n",
       "             ('tysabri', 520),\n",
       "             ('shawna', 2),\n",
       "             ('conc', 58),\n",
       "             ('infuse', 51),\n",
       "             ('used', 1806),\n",
       "             ('caremark', 618),\n",
       "             ('il', 212),\n",
       "             ('sanders', 15),\n",
       "             ('road', 586),\n",
       "             ('northbrook', 14),\n",
       "             ('entered', 2067),\n",
       "             ('dropped', 237),\n",
       "             ('alling', 1),\n",
       "             ('check', 2255),\n",
       "             ('mills', 41),\n",
       "             ('park', 125),\n",
       "             ('mailing', 75),\n",
       "             ('desk', 419),\n",
       "             ('declined', 500),\n",
       "             ('ordered', 1052),\n",
       "             ('jan', 263),\n",
       "             ('due', 3440),\n",
       "             ('cost', 417),\n",
       "             ('okay', 1235),\n",
       "             ('cx', 504),\n",
       "             ('orders', 4302),\n",
       "             ('yes', 1075),\n",
       "             ('hs', 1608),\n",
       "             ('walmart', 478),\n",
       "             ('future', 257),\n",
       "             ('eeg', 3342),\n",
       "             ('short', 430),\n",
       "             ('duration', 69),\n",
       "             ('must', 3151),\n",
       "             ('clark', 3630),\n",
       "             ('methylphenidate', 1097),\n",
       "             ('maureen', 2182),\n",
       "             ('gonzales', 2122),\n",
       "             ('mailed', 1319),\n",
       "             ('print', 6686),\n",
       "             ('got', 1119),\n",
       "             ('clues', 2),\n",
       "             ('chart', 2022),\n",
       "             ('tried', 1374),\n",
       "             ('reached', 322),\n",
       "             ('schedulers', 270),\n",
       "             ('offered', 603),\n",
       "             ('tammy', 243),\n",
       "             ('king', 157),\n",
       "             ('file', 1372),\n",
       "             ('increase', 2999),\n",
       "             ('fluoxetine', 228),\n",
       "             ('pills', 768),\n",
       "             ('fine', 1151),\n",
       "             ('prozac', 377),\n",
       "             ('script', 1690),\n",
       "             ('tenex', 675),\n",
       "             ('pharm', 1669),\n",
       "             ('give', 8555),\n",
       "             ('tegretol', 334),\n",
       "             ('tid', 3219),\n",
       "             ('gabapentin', 1995),\n",
       "             ('times', 1656),\n",
       "             ('established', 779),\n",
       "             ('matthias', 494),\n",
       "             ('urgently', 35),\n",
       "             ('complaining', 153),\n",
       "             ('previously', 384),\n",
       "             ('light', 245),\n",
       "             ('sensitivity', 135),\n",
       "             ('weakness', 523),\n",
       "             ('feet', 349),\n",
       "             ('whether', 421),\n",
       "             ('ed', 941),\n",
       "             ('serious', 29),\n",
       "             ('stroke', 338),\n",
       "             ('hesitate', 40),\n",
       "             ('right', 1544),\n",
       "             ('indicated', 134),\n",
       "             ('anyway', 89),\n",
       "             ('keith', 123),\n",
       "             ('weeks', 2382),\n",
       "             ('worse', 1087),\n",
       "             ('continuous', 33),\n",
       "             ('arms', 214),\n",
       "             ('legs', 578),\n",
       "             ('hours', 2646),\n",
       "             ('little', 533),\n",
       "             ('difficulty', 417),\n",
       "             ('denies', 511),\n",
       "             ('headache', 2839),\n",
       "             ('swallowing', 85),\n",
       "             ('feels', 1491),\n",
       "             ('nervous', 46),\n",
       "             ('inside', 48),\n",
       "             ('different', 817),\n",
       "             ('aricept', 695),\n",
       "             ('rxd', 42),\n",
       "             ('evaluation', 490),\n",
       "             ('tomorrow', 2759),\n",
       "             ('donepezil', 311),\n",
       "             ('want', 2475),\n",
       "             ('wait', 1240),\n",
       "             ('questioning', 56),\n",
       "             ('slow', 51),\n",
       "             ('rate', 112),\n",
       "             ('lower', 353),\n",
       "             ('concerns', 1089),\n",
       "             ('document', 353),\n",
       "             ('tv', 37),\n",
       "             ('look', 566),\n",
       "             ('computer', 84),\n",
       "             ('bright', 15),\n",
       "             ('nauseated', 60),\n",
       "             ('brittany', 2019),\n",
       "             ('lloyd', 430),\n",
       "             ('cancelled', 841),\n",
       "             ('psg', 920),\n",
       "             ('tracking', 24),\n",
       "             ('wendy', 1093),\n",
       "             ('upchurch', 979),\n",
       "             ('sally', 117),\n",
       "             ('john', 444),\n",
       "             ('experienced', 158),\n",
       "             ('exercising', 8),\n",
       "             ('evening', 409),\n",
       "             ('spots', 87),\n",
       "             ('vision', 626),\n",
       "             ('continued', 317),\n",
       "             ('cool', 10),\n",
       "             ('dow', 3),\n",
       "             ('lying', 42),\n",
       "             ('placing', 15),\n",
       "             ('cold', 184),\n",
       "             ('cloth', 2),\n",
       "             ('jrs', 462),\n",
       "             ('recommends', 84),\n",
       "             ('sw', 136),\n",
       "             ('accepts', 97),\n",
       "             ('oral', 5557),\n",
       "             ('admitted', 308),\n",
       "             ('picu', 10),\n",
       "             ('ml', 1065),\n",
       "             ('east', 91),\n",
       "             ('roosevelt', 12),\n",
       "             ('avenue', 123),\n",
       "             ('forest', 377),\n",
       "             ('email', 908),\n",
       "             ('prescribing', 309),\n",
       "             ('method', 257),\n",
       "             ('id', 622),\n",
       "             ('ncpdpid', 169),\n",
       "             ('type', 1905),\n",
       "             ('retail', 179),\n",
       "             ('online', 288),\n",
       "             ('dizzy', 358),\n",
       "             ('tue', 11),\n",
       "             ('ent', 206),\n",
       "             ('mother', 1171),\n",
       "             ('agreed', 516),\n",
       "             ('plan', 1303),\n",
       "             ('vertigo', 212),\n",
       "             ('virus', 77),\n",
       "             ('inner', 21),\n",
       "             ('thought', 503),\n",
       "             ('unlikely', 62),\n",
       "             ('possitive', 1),\n",
       "             ('cancel', 769),\n",
       "             ('bloodwork', 652),\n",
       "             ('voice', 247),\n",
       "             ('mailbox', 97),\n",
       "             ('jessica', 188),\n",
       "             ('ballentine', 130),\n",
       "             ('try', 2848),\n",
       "             ('beal', 2004),\n",
       "             ('death', 64),\n",
       "             ('lp', 678),\n",
       "             ('headaches', 1462),\n",
       "             ('year', 786),\n",
       "             ('opening', 213),\n",
       "             ('pressure', 469),\n",
       "             ('think', 1038),\n",
       "             ('medicine', 642),\n",
       "             ('adjusted', 119),\n",
       "             ('fluid', 113),\n",
       "             ('normal', 1662),\n",
       "             ('flag', 3392),\n",
       "             ('dont', 173),\n",
       "             ('est', 104),\n",
       "             ('slot', 261),\n",
       "             ('possibe', 5),\n",
       "             ('trip', 178),\n",
       "             ('rep', 375),\n",
       "             ('copaxone', 718),\n",
       "             ('recieved', 268),\n",
       "             ('shared', 77),\n",
       "             ('solutions', 96),\n",
       "             ('regarding', 3929),\n",
       "             ('tht', 11),\n",
       "             ('ready', 1497),\n",
       "             ('young', 24),\n",
       "             ('age', 254),\n",
       "             ('twice', 736),\n",
       "             ('main', 242),\n",
       "             ('side', 2308),\n",
       "             ('effect', 490),\n",
       "             ('sedation', 347),\n",
       "             ('crush', 12),\n",
       "             ('mix', 77),\n",
       "             ('bite', 29),\n",
       "             ('added', 2792),\n",
       "             ('maxalt', 852),\n",
       "             ('onset', 813),\n",
       "             ('max', 713),\n",
       "             ('st', 726),\n",
       "             ('louis', 244),\n",
       "             ('mo', 826),\n",
       "             ('stacy', 1325),\n",
       "             ('deese', 987),\n",
       "             ('anp', 1282),\n",
       "             ('north', 422),\n",
       "             ('hanley', 149),\n",
       "             ('holter', 35),\n",
       "             ('monitor', 283),\n",
       "             ('triangle', 268),\n",
       "             ('showed', 377),\n",
       "             ('evidence', 107),\n",
       "             ('old', 620),\n",
       "             ('aspirin', 214),\n",
       "             ('carotid', 125),\n",
       "             ('doppler', 103),\n",
       "             ('cardiac', 80),\n",
       "             ('acitivity', 11),\n",
       "             ('valerie', 1555),\n",
       "             ('mead', 1467),\n",
       "             ('adult', 1844),\n",
       "             ('migraines', 1387),\n",
       "             ('high', 921),\n",
       "             ('migraine', 2518),\n",
       "             ('relief', 542),\n",
       "             ('medicaitons', 25),\n",
       "             ('helping', 637),\n",
       "             ('medicaiton', 409),\n",
       "             ('options', 632),\n",
       "             ('chalet', 207),\n",
       "             ('according', 159),\n",
       "             ('duke', 1534),\n",
       "             ('second', 398),\n",
       "             ('opinion', 241),\n",
       "             ('seems', 364),\n",
       "             ('murky', 1),\n",
       "             ('ferrell', 101),\n",
       "             ('maybe', 257),\n",
       "             ('neuro', 390),\n",
       "             ('find', 1292),\n",
       "             ('actually', 202),\n",
       "             ('managing', 41),\n",
       "             ('happy', 342),\n",
       "             ('refer', 434),\n",
       "             ('management', 221),\n",
       "             ('meantime', 120),\n",
       "             ('medrol', 431),\n",
       "             ('break', 189),\n",
       "             ('cycle', 126),\n",
       "             ('dhe', 612),\n",
       "             ('injections', 708),\n",
       "             ('immediately', 127),\n",
       "             ('rhonda', 1325),\n",
       "             ('part', 316),\n",
       "             ('pool', 53),\n",
       "             ('bowman', 419),\n",
       "             ('providing', 71),\n",
       "             ('turned', 116),\n",
       "             ('yrs', 120),\n",
       "             ('nuerologist', 1),\n",
       "             ('rathke', 265),\n",
       "             ('thanks', 2133),\n",
       "             ('sch', 1878),\n",
       "             ('jacqueline', 653),\n",
       "             ('gower', 626),\n",
       "             ('kevin', 391),\n",
       "             ('result', 776),\n",
       "             ('tell', 612),\n",
       "             ('appear', 69),\n",
       "             ('ms', 3037),\n",
       "             ('susannah', 1225),\n",
       "             ('white', 1135),\n",
       "             ('bien', 281),\n",
       "             ('daily', 2941),\n",
       "             ('receive', 643),\n",
       "             ('ambien', 397),\n",
       "             ('ryan', 20),\n",
       "             ('sunday', 943),\n",
       "             ('felt', 498),\n",
       "             ('aura', 78),\n",
       "             ('couch', 27),\n",
       "             ('bathroom', 89),\n",
       "             ('throw', 7),\n",
       "             ('woke', 298),\n",
       "             ('floor', 151),\n",
       "             ('witnessed', 102),\n",
       "             ('pretty', 110),\n",
       "             ('stuff', 47),\n",
       "             ('nightstand', 2),\n",
       "             ('knocked', 11),\n",
       "             ('parents', 225),\n",
       "             ('came', 727),\n",
       "             ('stateshe', 1),\n",
       "             ('missed', 797),\n",
       "             ('necessarily', 21),\n",
       "             ('deprived', 31),\n",
       "             ('reports', 1049),\n",
       "             ('thing', 256),\n",
       "             ('bit', 170),\n",
       "             ('routine', 142),\n",
       "             ('afternoon', 951),\n",
       "             ('escalated', 5),\n",
       "             ('escalate', 9),\n",
       "             ('appropriate', 234),\n",
       "             ('atp', 732),\n",
       "             ...])"
      ]
     },
     "execution_count": 64,
     "metadata": {},
     "output_type": "execute_result"
    }
   ],
   "source": [
    "vocab = tokenizer.word_counts\n",
    "vocab"
   ]
  },
  {
   "cell_type": "code",
   "execution_count": null,
   "metadata": {
    "collapsed": true
   },
   "outputs": [],
   "source": []
  },
  {
   "cell_type": "code",
   "execution_count": 65,
   "metadata": {
    "collapsed": true
   },
   "outputs": [],
   "source": [
    "train_summary_x=pd.DataFrame(train_summary_x)\n",
    "train_data_x=pd.DataFrame(train_data_x)\n",
    "preprocessed_data=pd.concat([train_data_x,train_summary_x],axis=1)"
   ]
  },
  {
   "cell_type": "code",
   "execution_count": 66,
   "metadata": {
    "collapsed": true
   },
   "outputs": [],
   "source": [
    "train_x=preprocessed_data"
   ]
  },
  {
   "cell_type": "code",
   "execution_count": 91,
   "metadata": {
    "collapsed": true
   },
   "outputs": [],
   "source": [
    "unique_labels = list(actual_data.categories.unique())\n",
    "train_y = np.array([unique_labels.index(i) for i in actual_data.categories])\n",
    "train_y = to_categorical(train_y)"
   ]
  },
  {
   "cell_type": "code",
   "execution_count": 95,
   "metadata": {},
   "outputs": [
    {
     "name": "stdout",
     "output_type": "stream",
     "text": [
      "(51202, 6)\n",
      "(51202, 100)\n"
     ]
    }
   ],
   "source": [
    "print(train_y.shape)\n",
    "print(train_x.shape)"
   ]
  },
  {
   "cell_type": "code",
   "execution_count": 99,
   "metadata": {
    "collapsed": true
   },
   "outputs": [],
   "source": [
    "m_train_y = actual_data['categories']"
   ]
  },
  {
   "cell_type": "code",
   "execution_count": 105,
   "metadata": {
    "collapsed": true
   },
   "outputs": [],
   "source": [
    "from sklearn.model_selection import train_test_split\n",
    "X_train, X_test, y_train, y_test = train_test_split(train_x, m_train_y, test_size=0.20, random_state=42)"
   ]
  },
  {
   "cell_type": "code",
   "execution_count": null,
   "metadata": {
    "collapsed": true
   },
   "outputs": [],
   "source": [
    "#applying random forest"
   ]
  },
  {
   "cell_type": "code",
   "execution_count": 107,
   "metadata": {
    "collapsed": true
   },
   "outputs": [],
   "source": [
    "from sklearn.ensemble import RandomForestClassifier\n"
   ]
  },
  {
   "cell_type": "code",
   "execution_count": 125,
   "metadata": {
    "collapsed": true
   },
   "outputs": [],
   "source": [
    "model_random = RandomForestClassifier(n_estimators = 5000)"
   ]
  },
  {
   "cell_type": "code",
   "execution_count": 127,
   "metadata": {
    "collapsed": true
   },
   "outputs": [],
   "source": [
    "model_fit = model_random.fit(X_train,y_train)"
   ]
  },
  {
   "cell_type": "code",
   "execution_count": 122,
   "metadata": {
    "collapsed": true
   },
   "outputs": [],
   "source": [
    "pred_test = model_fit.predict(X_test)"
   ]
  },
  {
   "cell_type": "code",
   "execution_count": 123,
   "metadata": {
    "collapsed": true
   },
   "outputs": [],
   "source": [
    "from sklearn.metrics import accuracy_score,classification_report,precision_score,recall_score"
   ]
  },
  {
   "cell_type": "code",
   "execution_count": 117,
   "metadata": {},
   "outputs": [
    {
     "name": "stderr",
     "output_type": "stream",
     "text": [
      "E:\\Anaconda3\\lib\\site-packages\\sklearn\\metrics\\classification.py:1113: UndefinedMetricWarning: Precision and F-score are ill-defined and being set to 0.0 in labels with no predicted samples.\n",
      "  'precision', 'predicted', average, warn_for)\n"
     ]
    },
    {
     "data": {
      "text/plain": [
       "'               precision    recall  f1-score   support\\n\\n APPOINTMENTS       0.63      0.58      0.61      2134\\n ASK_A_DOCTOR       0.46      0.60      0.52      2349\\n         JUNK       0.00      0.00      0.00         1\\n          LAB       0.88      0.24      0.38       844\\nMISCELLANEOUS       0.53      0.44      0.48      2060\\n PRESCRIPTION       0.60      0.69      0.64      2853\\n\\n  avg / total       0.58      0.56      0.55     10241\\n'"
      ]
     },
     "execution_count": 117,
     "metadata": {},
     "output_type": "execute_result"
    }
   ],
   "source": [
    "print(recall_score(y_test,pred_test))"
   ]
  },
  {
   "cell_type": "code",
   "execution_count": 124,
   "metadata": {},
   "outputs": [
    {
     "data": {
      "text/plain": [
       "0.56058978615369592"
      ]
     },
     "execution_count": 124,
     "metadata": {},
     "output_type": "execute_result"
    }
   ],
   "source": [
    "accuracy_score(y_test,pred_test)"
   ]
  },
  {
   "cell_type": "code",
   "execution_count": 96,
   "metadata": {
    "collapsed": true
   },
   "outputs": [],
   "source": [
    "from keras.models import Sequential\n",
    "from keras.layers.recurrent import LSTM, SimpleRNN\n",
    "from keras.layers import Dense,Activation\n",
    "\n",
    "model = Sequential()\n",
    "model.add(Embedding(100000,128))\n",
    "model.add(LSTM(200,return_sequences=True,dropout=0.2,recurrent_dropout=0.2))\n",
    "model.add(LSTM(128,return_sequences=True))\n",
    "model.add(LSTM(128,return_sequences=False))\n",
    "model.add(Dense(6))\n",
    "model.add(Activation('softmax'))\n",
    "model.compile(loss='categorical_crossentropy',optimizer='adam',metrics=['accuracy'])"
   ]
  },
  {
   "cell_type": "code",
   "execution_count": 97,
   "metadata": {},
   "outputs": [
    {
     "data": {
      "text/plain": [
       "array([[ 1.,  0.,  0.,  0.,  0.,  0.],\n",
       "       [ 0.,  1.,  0.,  0.,  0.,  0.],\n",
       "       [ 0.,  1.,  0.,  0.,  0.,  0.],\n",
       "       ..., \n",
       "       [ 0.,  0.,  1.,  0.,  0.,  0.],\n",
       "       [ 0.,  0.,  1.,  0.,  0.,  0.],\n",
       "       [ 0.,  0.,  1.,  0.,  0.,  0.]])"
      ]
     },
     "execution_count": 97,
     "metadata": {},
     "output_type": "execute_result"
    }
   ],
   "source": [
    "train_y"
   ]
  },
  {
   "cell_type": "code",
   "execution_count": null,
   "metadata": {
    "collapsed": true
   },
   "outputs": [],
   "source": [
    "train_x.head()"
   ]
  },
  {
   "cell_type": "code",
   "execution_count": 98,
   "metadata": {},
   "outputs": [
    {
     "name": "stdout",
     "output_type": "stream",
     "text": [
      "Epoch 1/5\n"
     ]
    },
    {
     "ename": "KeyError",
     "evalue": "'[15416 45716 12573 14938 20349 42535 20607 26102 28014 39860 24373 45198\\n 30548 12385 32013 20088 29564    57  6692  4641 32177  2152 20263 13294\\n 19607 22019  5395 50476 19572 10190 25639 31996  1323 27379 36337 47392\\n 11201 22931 20720 33801 23222 30781 41955 24589 45588  4665 49598   870\\n 32904 36908 10885  2844  2459 13234 37054  3029 20944 35543 19665 18924\\n  5423 21464 33497 17099] not in index'",
     "output_type": "error",
     "traceback": [
      "\u001b[1;31m---------------------------------------------------------------------------\u001b[0m",
      "\u001b[1;31mKeyError\u001b[0m                                  Traceback (most recent call last)",
      "\u001b[1;32m<ipython-input-98-e3817bac49f2>\u001b[0m in \u001b[0;36m<module>\u001b[1;34m()\u001b[0m\n\u001b[0;32m      1\u001b[0m \u001b[0mbatch_size\u001b[0m\u001b[1;33m=\u001b[0m\u001b[1;36m64\u001b[0m\u001b[1;33m\u001b[0m\u001b[0m\n\u001b[1;32m----> 2\u001b[1;33m \u001b[0mmodel\u001b[0m\u001b[1;33m.\u001b[0m\u001b[0mfit\u001b[0m\u001b[1;33m(\u001b[0m\u001b[0mtrain_x\u001b[0m\u001b[1;33m,\u001b[0m\u001b[0mtrain_y\u001b[0m\u001b[1;33m,\u001b[0m\u001b[0mbatch_size\u001b[0m\u001b[1;33m=\u001b[0m\u001b[0mbatch_size\u001b[0m\u001b[1;33m,\u001b[0m\u001b[0mepochs\u001b[0m\u001b[1;33m=\u001b[0m\u001b[1;36m5\u001b[0m\u001b[1;33m)\u001b[0m\u001b[1;33m\u001b[0m\u001b[0m\n\u001b[0m",
      "\u001b[1;32mE:\\Anaconda3\\lib\\site-packages\\keras\\models.py\u001b[0m in \u001b[0;36mfit\u001b[1;34m(self, x, y, batch_size, epochs, verbose, callbacks, validation_split, validation_data, shuffle, class_weight, sample_weight, initial_epoch, **kwargs)\u001b[0m\n\u001b[0;32m    865\u001b[0m                               \u001b[0mclass_weight\u001b[0m\u001b[1;33m=\u001b[0m\u001b[0mclass_weight\u001b[0m\u001b[1;33m,\u001b[0m\u001b[1;33m\u001b[0m\u001b[0m\n\u001b[0;32m    866\u001b[0m                               \u001b[0msample_weight\u001b[0m\u001b[1;33m=\u001b[0m\u001b[0msample_weight\u001b[0m\u001b[1;33m,\u001b[0m\u001b[1;33m\u001b[0m\u001b[0m\n\u001b[1;32m--> 867\u001b[1;33m                               initial_epoch=initial_epoch)\n\u001b[0m\u001b[0;32m    868\u001b[0m \u001b[1;33m\u001b[0m\u001b[0m\n\u001b[0;32m    869\u001b[0m     def evaluate(self, x, y, batch_size=32, verbose=1,\n",
      "\u001b[1;32mE:\\Anaconda3\\lib\\site-packages\\keras\\engine\\training.py\u001b[0m in \u001b[0;36mfit\u001b[1;34m(self, x, y, batch_size, epochs, verbose, callbacks, validation_split, validation_data, shuffle, class_weight, sample_weight, initial_epoch, steps_per_epoch, validation_steps, **kwargs)\u001b[0m\n\u001b[0;32m   1596\u001b[0m                               \u001b[0minitial_epoch\u001b[0m\u001b[1;33m=\u001b[0m\u001b[0minitial_epoch\u001b[0m\u001b[1;33m,\u001b[0m\u001b[1;33m\u001b[0m\u001b[0m\n\u001b[0;32m   1597\u001b[0m                               \u001b[0msteps_per_epoch\u001b[0m\u001b[1;33m=\u001b[0m\u001b[0msteps_per_epoch\u001b[0m\u001b[1;33m,\u001b[0m\u001b[1;33m\u001b[0m\u001b[0m\n\u001b[1;32m-> 1598\u001b[1;33m                               validation_steps=validation_steps)\n\u001b[0m\u001b[0;32m   1599\u001b[0m \u001b[1;33m\u001b[0m\u001b[0m\n\u001b[0;32m   1600\u001b[0m     def evaluate(self, x, y,\n",
      "\u001b[1;32mE:\\Anaconda3\\lib\\site-packages\\keras\\engine\\training.py\u001b[0m in \u001b[0;36m_fit_loop\u001b[1;34m(self, f, ins, out_labels, batch_size, epochs, verbose, callbacks, val_f, val_ins, shuffle, callback_metrics, initial_epoch, steps_per_epoch, validation_steps)\u001b[0m\n\u001b[0;32m   1170\u001b[0m                         \u001b[1;32mif\u001b[0m \u001b[0misinstance\u001b[0m\u001b[1;33m(\u001b[0m\u001b[0mins\u001b[0m\u001b[1;33m[\u001b[0m\u001b[1;33m-\u001b[0m\u001b[1;36m1\u001b[0m\u001b[1;33m]\u001b[0m\u001b[1;33m,\u001b[0m \u001b[0mfloat\u001b[0m\u001b[1;33m)\u001b[0m\u001b[1;33m:\u001b[0m\u001b[1;33m\u001b[0m\u001b[0m\n\u001b[0;32m   1171\u001b[0m                             \u001b[1;31m# Do not slice the training phase flag.\u001b[0m\u001b[1;33m\u001b[0m\u001b[1;33m\u001b[0m\u001b[0m\n\u001b[1;32m-> 1172\u001b[1;33m                             \u001b[0mins_batch\u001b[0m \u001b[1;33m=\u001b[0m \u001b[0m_slice_arrays\u001b[0m\u001b[1;33m(\u001b[0m\u001b[0mins\u001b[0m\u001b[1;33m[\u001b[0m\u001b[1;33m:\u001b[0m\u001b[1;33m-\u001b[0m\u001b[1;36m1\u001b[0m\u001b[1;33m]\u001b[0m\u001b[1;33m,\u001b[0m \u001b[0mbatch_ids\u001b[0m\u001b[1;33m)\u001b[0m \u001b[1;33m+\u001b[0m \u001b[1;33m[\u001b[0m\u001b[0mins\u001b[0m\u001b[1;33m[\u001b[0m\u001b[1;33m-\u001b[0m\u001b[1;36m1\u001b[0m\u001b[1;33m]\u001b[0m\u001b[1;33m]\u001b[0m\u001b[1;33m\u001b[0m\u001b[0m\n\u001b[0m\u001b[0;32m   1173\u001b[0m                         \u001b[1;32melse\u001b[0m\u001b[1;33m:\u001b[0m\u001b[1;33m\u001b[0m\u001b[0m\n\u001b[0;32m   1174\u001b[0m                             \u001b[0mins_batch\u001b[0m \u001b[1;33m=\u001b[0m \u001b[0m_slice_arrays\u001b[0m\u001b[1;33m(\u001b[0m\u001b[0mins\u001b[0m\u001b[1;33m,\u001b[0m \u001b[0mbatch_ids\u001b[0m\u001b[1;33m)\u001b[0m\u001b[1;33m\u001b[0m\u001b[0m\n",
      "\u001b[1;32mE:\\Anaconda3\\lib\\site-packages\\keras\\engine\\training.py\u001b[0m in \u001b[0;36m_slice_arrays\u001b[1;34m(arrays, start, stop)\u001b[0m\n\u001b[0;32m    404\u001b[0m             \u001b[1;32mif\u001b[0m \u001b[0mhasattr\u001b[0m\u001b[1;33m(\u001b[0m\u001b[0mstart\u001b[0m\u001b[1;33m,\u001b[0m \u001b[1;34m'shape'\u001b[0m\u001b[1;33m)\u001b[0m\u001b[1;33m:\u001b[0m\u001b[1;33m\u001b[0m\u001b[0m\n\u001b[0;32m    405\u001b[0m                 \u001b[0mstart\u001b[0m \u001b[1;33m=\u001b[0m \u001b[0mstart\u001b[0m\u001b[1;33m.\u001b[0m\u001b[0mtolist\u001b[0m\u001b[1;33m(\u001b[0m\u001b[1;33m)\u001b[0m\u001b[1;33m\u001b[0m\u001b[0m\n\u001b[1;32m--> 406\u001b[1;33m             \u001b[1;32mreturn\u001b[0m \u001b[1;33m[\u001b[0m\u001b[1;32mNone\u001b[0m \u001b[1;32mif\u001b[0m \u001b[0mx\u001b[0m \u001b[1;32mis\u001b[0m \u001b[1;32mNone\u001b[0m \u001b[1;32melse\u001b[0m \u001b[0mx\u001b[0m\u001b[1;33m[\u001b[0m\u001b[0mstart\u001b[0m\u001b[1;33m]\u001b[0m \u001b[1;32mfor\u001b[0m \u001b[0mx\u001b[0m \u001b[1;32min\u001b[0m \u001b[0marrays\u001b[0m\u001b[1;33m]\u001b[0m\u001b[1;33m\u001b[0m\u001b[0m\n\u001b[0m\u001b[0;32m    407\u001b[0m         \u001b[1;32melse\u001b[0m\u001b[1;33m:\u001b[0m\u001b[1;33m\u001b[0m\u001b[0m\n\u001b[0;32m    408\u001b[0m             \u001b[1;32mreturn\u001b[0m \u001b[1;33m[\u001b[0m\u001b[1;32mNone\u001b[0m \u001b[1;32mif\u001b[0m \u001b[0mx\u001b[0m \u001b[1;32mis\u001b[0m \u001b[1;32mNone\u001b[0m \u001b[1;32melse\u001b[0m \u001b[0mx\u001b[0m\u001b[1;33m[\u001b[0m\u001b[0mstart\u001b[0m\u001b[1;33m:\u001b[0m\u001b[0mstop\u001b[0m\u001b[1;33m]\u001b[0m \u001b[1;32mfor\u001b[0m \u001b[0mx\u001b[0m \u001b[1;32min\u001b[0m \u001b[0marrays\u001b[0m\u001b[1;33m]\u001b[0m\u001b[1;33m\u001b[0m\u001b[0m\n",
      "\u001b[1;32mE:\\Anaconda3\\lib\\site-packages\\keras\\engine\\training.py\u001b[0m in \u001b[0;36m<listcomp>\u001b[1;34m(.0)\u001b[0m\n\u001b[0;32m    404\u001b[0m             \u001b[1;32mif\u001b[0m \u001b[0mhasattr\u001b[0m\u001b[1;33m(\u001b[0m\u001b[0mstart\u001b[0m\u001b[1;33m,\u001b[0m \u001b[1;34m'shape'\u001b[0m\u001b[1;33m)\u001b[0m\u001b[1;33m:\u001b[0m\u001b[1;33m\u001b[0m\u001b[0m\n\u001b[0;32m    405\u001b[0m                 \u001b[0mstart\u001b[0m \u001b[1;33m=\u001b[0m \u001b[0mstart\u001b[0m\u001b[1;33m.\u001b[0m\u001b[0mtolist\u001b[0m\u001b[1;33m(\u001b[0m\u001b[1;33m)\u001b[0m\u001b[1;33m\u001b[0m\u001b[0m\n\u001b[1;32m--> 406\u001b[1;33m             \u001b[1;32mreturn\u001b[0m \u001b[1;33m[\u001b[0m\u001b[1;32mNone\u001b[0m \u001b[1;32mif\u001b[0m \u001b[0mx\u001b[0m \u001b[1;32mis\u001b[0m \u001b[1;32mNone\u001b[0m \u001b[1;32melse\u001b[0m \u001b[0mx\u001b[0m\u001b[1;33m[\u001b[0m\u001b[0mstart\u001b[0m\u001b[1;33m]\u001b[0m \u001b[1;32mfor\u001b[0m \u001b[0mx\u001b[0m \u001b[1;32min\u001b[0m \u001b[0marrays\u001b[0m\u001b[1;33m]\u001b[0m\u001b[1;33m\u001b[0m\u001b[0m\n\u001b[0m\u001b[0;32m    407\u001b[0m         \u001b[1;32melse\u001b[0m\u001b[1;33m:\u001b[0m\u001b[1;33m\u001b[0m\u001b[0m\n\u001b[0;32m    408\u001b[0m             \u001b[1;32mreturn\u001b[0m \u001b[1;33m[\u001b[0m\u001b[1;32mNone\u001b[0m \u001b[1;32mif\u001b[0m \u001b[0mx\u001b[0m \u001b[1;32mis\u001b[0m \u001b[1;32mNone\u001b[0m \u001b[1;32melse\u001b[0m \u001b[0mx\u001b[0m\u001b[1;33m[\u001b[0m\u001b[0mstart\u001b[0m\u001b[1;33m:\u001b[0m\u001b[0mstop\u001b[0m\u001b[1;33m]\u001b[0m \u001b[1;32mfor\u001b[0m \u001b[0mx\u001b[0m \u001b[1;32min\u001b[0m \u001b[0marrays\u001b[0m\u001b[1;33m]\u001b[0m\u001b[1;33m\u001b[0m\u001b[0m\n",
      "\u001b[1;32mE:\\Anaconda3\\lib\\site-packages\\pandas\\core\\frame.py\u001b[0m in \u001b[0;36m__getitem__\u001b[1;34m(self, key)\u001b[0m\n\u001b[0;32m   2054\u001b[0m         \u001b[1;32mif\u001b[0m \u001b[0misinstance\u001b[0m\u001b[1;33m(\u001b[0m\u001b[0mkey\u001b[0m\u001b[1;33m,\u001b[0m \u001b[1;33m(\u001b[0m\u001b[0mSeries\u001b[0m\u001b[1;33m,\u001b[0m \u001b[0mnp\u001b[0m\u001b[1;33m.\u001b[0m\u001b[0mndarray\u001b[0m\u001b[1;33m,\u001b[0m \u001b[0mIndex\u001b[0m\u001b[1;33m,\u001b[0m \u001b[0mlist\u001b[0m\u001b[1;33m)\u001b[0m\u001b[1;33m)\u001b[0m\u001b[1;33m:\u001b[0m\u001b[1;33m\u001b[0m\u001b[0m\n\u001b[0;32m   2055\u001b[0m             \u001b[1;31m# either boolean or fancy integer index\u001b[0m\u001b[1;33m\u001b[0m\u001b[1;33m\u001b[0m\u001b[0m\n\u001b[1;32m-> 2056\u001b[1;33m             \u001b[1;32mreturn\u001b[0m \u001b[0mself\u001b[0m\u001b[1;33m.\u001b[0m\u001b[0m_getitem_array\u001b[0m\u001b[1;33m(\u001b[0m\u001b[0mkey\u001b[0m\u001b[1;33m)\u001b[0m\u001b[1;33m\u001b[0m\u001b[0m\n\u001b[0m\u001b[0;32m   2057\u001b[0m         \u001b[1;32melif\u001b[0m \u001b[0misinstance\u001b[0m\u001b[1;33m(\u001b[0m\u001b[0mkey\u001b[0m\u001b[1;33m,\u001b[0m \u001b[0mDataFrame\u001b[0m\u001b[1;33m)\u001b[0m\u001b[1;33m:\u001b[0m\u001b[1;33m\u001b[0m\u001b[0m\n\u001b[0;32m   2058\u001b[0m             \u001b[1;32mreturn\u001b[0m \u001b[0mself\u001b[0m\u001b[1;33m.\u001b[0m\u001b[0m_getitem_frame\u001b[0m\u001b[1;33m(\u001b[0m\u001b[0mkey\u001b[0m\u001b[1;33m)\u001b[0m\u001b[1;33m\u001b[0m\u001b[0m\n",
      "\u001b[1;32mE:\\Anaconda3\\lib\\site-packages\\pandas\\core\\frame.py\u001b[0m in \u001b[0;36m_getitem_array\u001b[1;34m(self, key)\u001b[0m\n\u001b[0;32m   2098\u001b[0m             \u001b[1;32mreturn\u001b[0m \u001b[0mself\u001b[0m\u001b[1;33m.\u001b[0m\u001b[0mtake\u001b[0m\u001b[1;33m(\u001b[0m\u001b[0mindexer\u001b[0m\u001b[1;33m,\u001b[0m \u001b[0maxis\u001b[0m\u001b[1;33m=\u001b[0m\u001b[1;36m0\u001b[0m\u001b[1;33m,\u001b[0m \u001b[0mconvert\u001b[0m\u001b[1;33m=\u001b[0m\u001b[1;32mFalse\u001b[0m\u001b[1;33m)\u001b[0m\u001b[1;33m\u001b[0m\u001b[0m\n\u001b[0;32m   2099\u001b[0m         \u001b[1;32melse\u001b[0m\u001b[1;33m:\u001b[0m\u001b[1;33m\u001b[0m\u001b[0m\n\u001b[1;32m-> 2100\u001b[1;33m             \u001b[0mindexer\u001b[0m \u001b[1;33m=\u001b[0m \u001b[0mself\u001b[0m\u001b[1;33m.\u001b[0m\u001b[0mloc\u001b[0m\u001b[1;33m.\u001b[0m\u001b[0m_convert_to_indexer\u001b[0m\u001b[1;33m(\u001b[0m\u001b[0mkey\u001b[0m\u001b[1;33m,\u001b[0m \u001b[0maxis\u001b[0m\u001b[1;33m=\u001b[0m\u001b[1;36m1\u001b[0m\u001b[1;33m)\u001b[0m\u001b[1;33m\u001b[0m\u001b[0m\n\u001b[0m\u001b[0;32m   2101\u001b[0m             \u001b[1;32mreturn\u001b[0m \u001b[0mself\u001b[0m\u001b[1;33m.\u001b[0m\u001b[0mtake\u001b[0m\u001b[1;33m(\u001b[0m\u001b[0mindexer\u001b[0m\u001b[1;33m,\u001b[0m \u001b[0maxis\u001b[0m\u001b[1;33m=\u001b[0m\u001b[1;36m1\u001b[0m\u001b[1;33m,\u001b[0m \u001b[0mconvert\u001b[0m\u001b[1;33m=\u001b[0m\u001b[1;32mTrue\u001b[0m\u001b[1;33m)\u001b[0m\u001b[1;33m\u001b[0m\u001b[0m\n\u001b[0;32m   2102\u001b[0m \u001b[1;33m\u001b[0m\u001b[0m\n",
      "\u001b[1;32mE:\\Anaconda3\\lib\\site-packages\\pandas\\core\\indexing.py\u001b[0m in \u001b[0;36m_convert_to_indexer\u001b[1;34m(self, obj, axis, is_setter)\u001b[0m\n\u001b[0;32m   1229\u001b[0m                 \u001b[0mmask\u001b[0m \u001b[1;33m=\u001b[0m \u001b[0mcheck\u001b[0m \u001b[1;33m==\u001b[0m \u001b[1;33m-\u001b[0m\u001b[1;36m1\u001b[0m\u001b[1;33m\u001b[0m\u001b[0m\n\u001b[0;32m   1230\u001b[0m                 \u001b[1;32mif\u001b[0m \u001b[0mmask\u001b[0m\u001b[1;33m.\u001b[0m\u001b[0many\u001b[0m\u001b[1;33m(\u001b[0m\u001b[1;33m)\u001b[0m\u001b[1;33m:\u001b[0m\u001b[1;33m\u001b[0m\u001b[0m\n\u001b[1;32m-> 1231\u001b[1;33m                     \u001b[1;32mraise\u001b[0m \u001b[0mKeyError\u001b[0m\u001b[1;33m(\u001b[0m\u001b[1;34m'%s not in index'\u001b[0m \u001b[1;33m%\u001b[0m \u001b[0mobjarr\u001b[0m\u001b[1;33m[\u001b[0m\u001b[0mmask\u001b[0m\u001b[1;33m]\u001b[0m\u001b[1;33m)\u001b[0m\u001b[1;33m\u001b[0m\u001b[0m\n\u001b[0m\u001b[0;32m   1232\u001b[0m \u001b[1;33m\u001b[0m\u001b[0m\n\u001b[0;32m   1233\u001b[0m                 \u001b[1;32mreturn\u001b[0m \u001b[0m_values_from_object\u001b[0m\u001b[1;33m(\u001b[0m\u001b[0mindexer\u001b[0m\u001b[1;33m)\u001b[0m\u001b[1;33m\u001b[0m\u001b[0m\n",
      "\u001b[1;31mKeyError\u001b[0m: '[15416 45716 12573 14938 20349 42535 20607 26102 28014 39860 24373 45198\\n 30548 12385 32013 20088 29564    57  6692  4641 32177  2152 20263 13294\\n 19607 22019  5395 50476 19572 10190 25639 31996  1323 27379 36337 47392\\n 11201 22931 20720 33801 23222 30781 41955 24589 45588  4665 49598   870\\n 32904 36908 10885  2844  2459 13234 37054  3029 20944 35543 19665 18924\\n  5423 21464 33497 17099] not in index'"
     ]
    }
   ],
   "source": [
    "batch_size=64\n",
    "model.fit(train_x,train_y,batch_size=batch_size,epochs=5)"
   ]
  },
  {
   "cell_type": "code",
   "execution_count": null,
   "metadata": {
    "collapsed": true
   },
   "outputs": [],
   "source": [
    "from sklearn.model_selection import train_test_split\n",
    "X_train, X_test, y_train, y_test = train_test_split(train_x, train_y, test_size=0.20, random_state=42)"
   ]
  },
  {
   "cell_type": "code",
   "execution_count": null,
   "metadata": {
    "collapsed": true
   },
   "outputs": [],
   "source": [
    "test_predictions = model.predict_classes(X_test)"
   ]
  },
  {
   "cell_type": "code",
   "execution_count": null,
   "metadata": {
    "collapsed": true
   },
   "outputs": [],
   "source": [
    "list = []\n",
    "list1=[]\n",
    "for i in test_predictions:\n",
    "    print(unique_labels[i])\n",
    "    list.append(unique_labels[i])"
   ]
  },
  {
   "cell_type": "code",
   "execution_count": null,
   "metadata": {
    "collapsed": true
   },
   "outputs": [],
   "source": [
    "from sklearn.metrics import accuracy_score"
   ]
  },
  {
   "cell_type": "code",
   "execution_count": null,
   "metadata": {
    "collapsed": true
   },
   "outputs": [],
   "source": [
    "pre=pd.DataFrame(list)\n"
   ]
  },
  {
   "cell_type": "code",
   "execution_count": null,
   "metadata": {
    "collapsed": true
   },
   "outputs": [],
   "source": [
    "#accuracy_score(pre,y_test)"
   ]
  },
  {
   "cell_type": "code",
   "execution_count": null,
   "metadata": {
    "collapsed": true
   },
   "outputs": [],
   "source": [
    "%debug"
   ]
  },
  {
   "cell_type": "code",
   "execution_count": null,
   "metadata": {
    "collapsed": true
   },
   "outputs": [],
   "source": [
    "#Random forest\n",
    "from sklearn.ensemble import RandomForestClassifier\n",
    "rf_cla= RandomForestClassifier()\n",
    "rf_cla.fit(train_x,train_y)"
   ]
  },
  {
   "cell_type": "code",
   "execution_count": null,
   "metadata": {
    "collapsed": true
   },
   "outputs": [],
   "source": [
    "predictions = rf_cla.predict(X_test)\n",
    "print(\"train accuracy is:\",accuracy_score(y_train,(rf_cla.predict(X_train))))\n",
    "print(\"test accuracy is:\",accuracy_score(y_test, predictions))"
   ]
  },
  {
   "cell_type": "code",
   "execution_count": null,
   "metadata": {
    "collapsed": true
   },
   "outputs": [],
   "source": [
    "test_predictions = model.predict_classes(X_test)"
   ]
  },
  {
   "cell_type": "code",
   "execution_count": null,
   "metadata": {
    "collapsed": true
   },
   "outputs": [],
   "source": []
  },
  {
   "cell_type": "code",
   "execution_count": null,
   "metadata": {
    "collapsed": true
   },
   "outputs": [],
   "source": []
  }
 ],
 "metadata": {
  "kernelspec": {
   "display_name": "Python 3",
   "language": "python",
   "name": "python3"
  },
  "language_info": {
   "codemirror_mode": {
    "name": "ipython",
    "version": 3
   },
   "file_extension": ".py",
   "mimetype": "text/x-python",
   "name": "python",
   "nbconvert_exporter": "python",
   "pygments_lexer": "ipython3",
   "version": "3.6.1"
  }
 },
 "nbformat": 4,
 "nbformat_minor": 2
}
