{
 "cells": [
  {
   "cell_type": "code",
   "execution_count": 1,
   "metadata": {
    "collapsed": true
   },
   "outputs": [],
   "source": [
    "import os\n",
    "import pandas as pd\n",
    "import matplotlib\n",
    "import numpy as np\n",
    "import seaborn as sns\n",
    "import matplotlib.pyplot as plt\n",
    "%matplotlib inline"
   ]
  },
  {
   "cell_type": "code",
   "execution_count": 2,
   "metadata": {
    "collapsed": true
   },
   "outputs": [],
   "source": [
    "os.chdir(\"E:\\\\gramener\\\\gramener-usecase-nas\")"
   ]
  },
  {
   "cell_type": "code",
   "execution_count": 3,
   "metadata": {
    "collapsed": true
   },
   "outputs": [],
   "source": [
    "nas_pupil = pd.read_csv(\"nas-pupil-marks.csv\")"
   ]
  },
  {
   "cell_type": "code",
   "execution_count": 4,
   "metadata": {},
   "outputs": [
    {
     "data": {
      "text/html": [
       "<div>\n",
       "<style>\n",
       "    .dataframe thead tr:only-child th {\n",
       "        text-align: right;\n",
       "    }\n",
       "\n",
       "    .dataframe thead th {\n",
       "        text-align: left;\n",
       "    }\n",
       "\n",
       "    .dataframe tbody tr th {\n",
       "        vertical-align: top;\n",
       "    }\n",
       "</style>\n",
       "<table border=\"1\" class=\"dataframe\">\n",
       "  <thead>\n",
       "    <tr style=\"text-align: right;\">\n",
       "      <th></th>\n",
       "      <th>STUID</th>\n",
       "      <th>State</th>\n",
       "      <th>District</th>\n",
       "      <th>Gender</th>\n",
       "      <th>Age</th>\n",
       "      <th>Category</th>\n",
       "      <th>Same language</th>\n",
       "      <th>Siblings</th>\n",
       "      <th>Handicap</th>\n",
       "      <th>Father edu</th>\n",
       "      <th>...</th>\n",
       "      <th>Express science views</th>\n",
       "      <th>Watch TV</th>\n",
       "      <th>Read magazine</th>\n",
       "      <th>Read a book</th>\n",
       "      <th>Play games</th>\n",
       "      <th>Help in household</th>\n",
       "      <th>Maths %</th>\n",
       "      <th>Reading %</th>\n",
       "      <th>Science %</th>\n",
       "      <th>Social %</th>\n",
       "    </tr>\n",
       "  </thead>\n",
       "  <tbody>\n",
       "    <tr>\n",
       "      <th>0</th>\n",
       "      <td>11011001001</td>\n",
       "      <td>AP</td>\n",
       "      <td>1</td>\n",
       "      <td>1</td>\n",
       "      <td>3</td>\n",
       "      <td>3</td>\n",
       "      <td>1</td>\n",
       "      <td>5</td>\n",
       "      <td>2</td>\n",
       "      <td>1</td>\n",
       "      <td>...</td>\n",
       "      <td>3</td>\n",
       "      <td>3</td>\n",
       "      <td>4</td>\n",
       "      <td>3</td>\n",
       "      <td>4</td>\n",
       "      <td>4</td>\n",
       "      <td>20.37</td>\n",
       "      <td>NaN</td>\n",
       "      <td>27.78</td>\n",
       "      <td>NaN</td>\n",
       "    </tr>\n",
       "    <tr>\n",
       "      <th>1</th>\n",
       "      <td>11011001002</td>\n",
       "      <td>AP</td>\n",
       "      <td>1</td>\n",
       "      <td>2</td>\n",
       "      <td>3</td>\n",
       "      <td>4</td>\n",
       "      <td>2</td>\n",
       "      <td>5</td>\n",
       "      <td>2</td>\n",
       "      <td>2</td>\n",
       "      <td>...</td>\n",
       "      <td>3</td>\n",
       "      <td>4</td>\n",
       "      <td>4</td>\n",
       "      <td>3</td>\n",
       "      <td>4</td>\n",
       "      <td>4</td>\n",
       "      <td>12.96</td>\n",
       "      <td>NaN</td>\n",
       "      <td>38.18</td>\n",
       "      <td>NaN</td>\n",
       "    </tr>\n",
       "    <tr>\n",
       "      <th>2</th>\n",
       "      <td>11011001003</td>\n",
       "      <td>AP</td>\n",
       "      <td>1</td>\n",
       "      <td>2</td>\n",
       "      <td>3</td>\n",
       "      <td>4</td>\n",
       "      <td>2</td>\n",
       "      <td>5</td>\n",
       "      <td>2</td>\n",
       "      <td>1</td>\n",
       "      <td>...</td>\n",
       "      <td>3</td>\n",
       "      <td>4</td>\n",
       "      <td>3</td>\n",
       "      <td>3</td>\n",
       "      <td>4</td>\n",
       "      <td>4</td>\n",
       "      <td>27.78</td>\n",
       "      <td>70.00</td>\n",
       "      <td>NaN</td>\n",
       "      <td>NaN</td>\n",
       "    </tr>\n",
       "    <tr>\n",
       "      <th>3</th>\n",
       "      <td>11011001004</td>\n",
       "      <td>AP</td>\n",
       "      <td>1</td>\n",
       "      <td>2</td>\n",
       "      <td>3</td>\n",
       "      <td>3</td>\n",
       "      <td>2</td>\n",
       "      <td>4</td>\n",
       "      <td>2</td>\n",
       "      <td>1</td>\n",
       "      <td>...</td>\n",
       "      <td>3</td>\n",
       "      <td>4</td>\n",
       "      <td>3</td>\n",
       "      <td>3</td>\n",
       "      <td>4</td>\n",
       "      <td>4</td>\n",
       "      <td>NaN</td>\n",
       "      <td>56.67</td>\n",
       "      <td>NaN</td>\n",
       "      <td>36.00</td>\n",
       "    </tr>\n",
       "    <tr>\n",
       "      <th>4</th>\n",
       "      <td>11011001005</td>\n",
       "      <td>AP</td>\n",
       "      <td>1</td>\n",
       "      <td>2</td>\n",
       "      <td>3</td>\n",
       "      <td>3</td>\n",
       "      <td>2</td>\n",
       "      <td>5</td>\n",
       "      <td>2</td>\n",
       "      <td>1</td>\n",
       "      <td>...</td>\n",
       "      <td>3</td>\n",
       "      <td>2</td>\n",
       "      <td>3</td>\n",
       "      <td>3</td>\n",
       "      <td>4</td>\n",
       "      <td>4</td>\n",
       "      <td>NaN</td>\n",
       "      <td>NaN</td>\n",
       "      <td>14.55</td>\n",
       "      <td>8.33</td>\n",
       "    </tr>\n",
       "  </tbody>\n",
       "</table>\n",
       "<p>5 rows × 64 columns</p>\n",
       "</div>"
      ],
      "text/plain": [
       "         STUID State  District  Gender  Age  Category  Same language  \\\n",
       "0  11011001001    AP         1       1    3         3              1   \n",
       "1  11011001002    AP         1       2    3         4              2   \n",
       "2  11011001003    AP         1       2    3         4              2   \n",
       "3  11011001004    AP         1       2    3         3              2   \n",
       "4  11011001005    AP         1       2    3         3              2   \n",
       "\n",
       "   Siblings  Handicap  Father edu    ...     Express science views  Watch TV  \\\n",
       "0         5         2           1    ...                         3         3   \n",
       "1         5         2           2    ...                         3         4   \n",
       "2         5         2           1    ...                         3         4   \n",
       "3         4         2           1    ...                         3         4   \n",
       "4         5         2           1    ...                         3         2   \n",
       "\n",
       "   Read magazine  Read a book  Play games Help in household  Maths %  \\\n",
       "0              4            3           4                 4    20.37   \n",
       "1              4            3           4                 4    12.96   \n",
       "2              3            3           4                 4    27.78   \n",
       "3              3            3           4                 4      NaN   \n",
       "4              3            3           4                 4      NaN   \n",
       "\n",
       "   Reading %  Science %  Social %  \n",
       "0        NaN      27.78       NaN  \n",
       "1        NaN      38.18       NaN  \n",
       "2      70.00        NaN       NaN  \n",
       "3      56.67        NaN     36.00  \n",
       "4        NaN      14.55      8.33  \n",
       "\n",
       "[5 rows x 64 columns]"
      ]
     },
     "execution_count": 4,
     "metadata": {},
     "output_type": "execute_result"
    }
   ],
   "source": [
    "nas_pupil.head()"
   ]
  },
  {
   "cell_type": "code",
   "execution_count": 5,
   "metadata": {},
   "outputs": [
    {
     "data": {
      "text/plain": [
       "STUID                       int64\n",
       "State                      object\n",
       "District                    int64\n",
       "Gender                      int64\n",
       "Age                         int64\n",
       "Category                    int64\n",
       "Same language               int64\n",
       "Siblings                    int64\n",
       "Handicap                    int64\n",
       "Father edu                  int64\n",
       "Mother edu                  int64\n",
       "Father occupation           int64\n",
       "Mother occupation           int64\n",
       "Below poverty               int64\n",
       "Use calculator              int64\n",
       "Use computer               object\n",
       "Use Internet                int64\n",
       "Use dictionary              int64\n",
       "Read other books            int64\n",
       "# Books                     int64\n",
       "Distance                    int64\n",
       "Computer use                int64\n",
       "Library use                 int64\n",
       "Like school                 int64\n",
       "Subjects                   object\n",
       "Give Lang HW                int64\n",
       "Give Math HW                int64\n",
       "Give Scie HW                int64\n",
       "Give SoSc HW                int64\n",
       "Correct Lang HW             int64\n",
       "                           ...   \n",
       "Private tuition             int64\n",
       "English is difficult        int64\n",
       "Read English                int64\n",
       "Dictionary to learn         int64\n",
       "Answer English WB           int64\n",
       "Answer English aloud        int64\n",
       "Maths is difficult          int64\n",
       "Solve Maths                 int64\n",
       "Solve Maths in groups       int64\n",
       "Draw geometry               int64\n",
       "Explain answers             int64\n",
       "SocSci is difficult         int64\n",
       "Historical excursions       int64\n",
       "Participate in SocSci       int64\n",
       "Small groups in SocSci      int64\n",
       "Express SocSci views        int64\n",
       "Science is difficult        int64\n",
       "Observe experiments         int64\n",
       "Conduct experiments         int64\n",
       "Solve science problems      int64\n",
       "Express science views       int64\n",
       "Watch TV                    int64\n",
       "Read magazine               int64\n",
       "Read a book                 int64\n",
       "Play games                  int64\n",
       "Help in household           int64\n",
       "Maths %                   float64\n",
       "Reading %                 float64\n",
       "Science %                 float64\n",
       "Social %                  float64\n",
       "Length: 64, dtype: object"
      ]
     },
     "execution_count": 5,
     "metadata": {},
     "output_type": "execute_result"
    }
   ],
   "source": [
    "nas_pupil.dtypes\n",
    "\n",
    "#nas_pupil.Gender = nas_pupil.Gender.astype(\"category\")"
   ]
  },
  {
   "cell_type": "code",
   "execution_count": 6,
   "metadata": {},
   "outputs": [
    {
     "data": {
      "text/plain": [
       "(185348, 64)"
      ]
     },
     "execution_count": 6,
     "metadata": {},
     "output_type": "execute_result"
    }
   ],
   "source": [
    "nas_pupil.shape"
   ]
  },
  {
   "cell_type": "code",
   "execution_count": 7,
   "metadata": {},
   "outputs": [
    {
     "data": {
      "text/plain": [
       "(185009,)"
      ]
     },
     "execution_count": 7,
     "metadata": {},
     "output_type": "execute_result"
    }
   ],
   "source": [
    "nas_pupil.STUID.unique().shape"
   ]
  },
  {
   "cell_type": "code",
   "execution_count": 8,
   "metadata": {},
   "outputs": [
    {
     "data": {
      "text/plain": [
       "<matplotlib.axes._subplots.AxesSubplot at 0x2a7766a17b8>"
      ]
     },
     "execution_count": 8,
     "metadata": {},
     "output_type": "execute_result"
    },
    {
     "data": {
      "image/png": "[encoded data removed]",
      "text/plain": [
       "<matplotlib.figure.Figure at 0x2a7766acc50>"
      ]
     },
     "metadata": {},
     "output_type": "display_data"
    }
   ],
   "source": [
    "sns.heatmap(nas_pupil.corr(),vmax = True, square = True)"
   ]
  },
  {
   "cell_type": "code",
   "execution_count": 9,
   "metadata": {},
   "outputs": [
    {
     "data": {
      "text/plain": [
       "MH    8801\n",
       "KL    8742\n",
       "TN    8251\n",
       "GJ    7912\n",
       "AP    7789\n",
       "DL    7357\n",
       "KA    7344\n",
       "PB    7320\n",
       "BR    7297\n",
       "CG    7045\n",
       "WB    6842\n",
       "PY    6824\n",
       "GA    6674\n",
       "TR    6303\n",
       "HR    6006\n",
       "HP    5872\n",
       "UK    5759\n",
       "MP    5679\n",
       "JH    5632\n",
       "OR    5496\n",
       "RJ    5474\n",
       "UP    5400\n",
       "AR    4985\n",
       "JK    4899\n",
       "MZ    3725\n",
       "CH    3707\n",
       "MG    3692\n",
       "MN    3627\n",
       "SK    3590\n",
       "AN    2510\n",
       "DN    2390\n",
       "NG    1921\n",
       "DD     483\n",
       "Name: State, dtype: int64"
      ]
     },
     "execution_count": 9,
     "metadata": {},
     "output_type": "execute_result"
    }
   ],
   "source": [
    "nas_pupil.State.astype(\"category\").value_counts()"
   ]
  },
  {
   "cell_type": "code",
   "execution_count": 10,
   "metadata": {},
   "outputs": [],
   "source": [
    "#nas_pupil_obj = nas_pupil.select_dtypes(include=['object','int64']).copy()"
   ]
  },
  {
   "cell_type": "code",
   "execution_count": 11,
   "metadata": {},
   "outputs": [],
   "source": [
    "#nas_pupil_obj.dtypes"
   ]
  },
  {
   "cell_type": "code",
   "execution_count": 12,
   "metadata": {},
   "outputs": [
    {
     "data": {
      "text/plain": [
       "Index(['STUID', 'State', 'District', 'Gender', 'Age', 'Category',\n",
       "       'Same language', 'Siblings', 'Handicap', 'Father edu', 'Mother edu',\n",
       "       'Father occupation', 'Mother occupation', 'Below poverty',\n",
       "       'Use calculator', 'Use computer', 'Use Internet', 'Use dictionary',\n",
       "       'Read other books', '# Books', 'Distance', 'Computer use',\n",
       "       'Library use', 'Like school', 'Subjects', 'Give Lang HW',\n",
       "       'Give Math HW', 'Give Scie HW', 'Give SoSc HW', 'Correct Lang HW',\n",
       "       'Correct Math HW', 'Correct Scie HW', 'Correct SocS HW',\n",
       "       'Help in Study', 'Private tuition', 'English is difficult',\n",
       "       'Read English', 'Dictionary to learn', 'Answer English WB',\n",
       "       'Answer English aloud', 'Maths is difficult', 'Solve Maths',\n",
       "       'Solve Maths in groups', 'Draw geometry', 'Explain answers',\n",
       "       'SocSci is difficult', 'Historical excursions', 'Participate in SocSci',\n",
       "       'Small groups in SocSci', 'Express SocSci views',\n",
       "       'Science is difficult', 'Observe experiments', 'Conduct experiments',\n",
       "       'Solve science problems', 'Express science views', 'Watch TV',\n",
       "       'Read magazine', 'Read a book', 'Play games', 'Help in household',\n",
       "       'Maths %', 'Reading %', 'Science %', 'Social %'],\n",
       "      dtype='object')"
      ]
     },
     "execution_count": 12,
     "metadata": {},
     "output_type": "execute_result"
    }
   ],
   "source": [
    "nas_pupil.columns"
   ]
  },
  {
   "cell_type": "code",
   "execution_count": 13,
   "metadata": {
    "collapsed": true
   },
   "outputs": [],
   "source": [
    "col = ['STUID','State', 'District', 'Gender', 'Age', 'Category',\n",
    "       'Same language', 'Siblings', 'Handicap', 'Father edu', 'Mother edu',\n",
    "       'Father occupation', 'Mother occupation', 'Below poverty',\n",
    "       'Use calculator', 'Use computer', 'Use Internet', 'Use dictionary',\n",
    "       'Read other books', '# Books', 'Distance', 'Computer use',\n",
    "       'Library use', 'Like school', 'Subjects', 'Give Lang HW',\n",
    "       'Give Math HW', 'Give Scie HW', 'Give SoSc HW', 'Correct Lang HW',\n",
    "       'Correct Math HW', 'Correct Scie HW', 'Correct SocS HW',\n",
    "       'Help in Study', 'Private tuition', 'English is difficult',\n",
    "       'Read English', 'Dictionary to learn', 'Answer English WB',\n",
    "       'Answer English aloud', 'Maths is difficult', 'Solve Maths',\n",
    "       'Solve Maths in groups', 'Draw geometry', 'Explain answers',\n",
    "       'SocSci is difficult', 'Historical excursions', 'Participate in SocSci',\n",
    "       'Small groups in SocSci', 'Express SocSci views',\n",
    "       'Science is difficult', 'Observe experiments', 'Conduct experiments',\n",
    "       'Solve science problems', 'Express science views', 'Watch TV',\n",
    "       'Read magazine', 'Read a book', 'Play games', 'Help in household']"
   ]
  },
  {
   "cell_type": "code",
   "execution_count": 14,
   "metadata": {},
   "outputs": [],
   "source": [
    "for i in range (0,len(col)):\n",
    "    nas_pupil[col[i]] = nas_pupil[col[i]].astype(\"category\")\n",
    "    "
   ]
  },
  {
   "cell_type": "code",
   "execution_count": 15,
   "metadata": {},
   "outputs": [
    {
     "data": {
      "text/plain": [
       "STUID                     category\n",
       "State                     category\n",
       "District                  category\n",
       "Gender                    category\n",
       "Age                       category\n",
       "Category                  category\n",
       "Same language             category\n",
       "Siblings                  category\n",
       "Handicap                  category\n",
       "Father edu                category\n",
       "Mother edu                category\n",
       "Father occupation         category\n",
       "Mother occupation         category\n",
       "Below poverty             category\n",
       "Use calculator            category\n",
       "Use computer              category\n",
       "Use Internet              category\n",
       "Use dictionary            category\n",
       "Read other books          category\n",
       "# Books                   category\n",
       "Distance                  category\n",
       "Computer use              category\n",
       "Library use               category\n",
       "Like school               category\n",
       "Subjects                  category\n",
       "Give Lang HW              category\n",
       "Give Math HW              category\n",
       "Give Scie HW              category\n",
       "Give SoSc HW              category\n",
       "Correct Lang HW           category\n",
       "                            ...   \n",
       "Private tuition           category\n",
       "English is difficult      category\n",
       "Read English              category\n",
       "Dictionary to learn       category\n",
       "Answer English WB         category\n",
       "Answer English aloud      category\n",
       "Maths is difficult        category\n",
       "Solve Maths               category\n",
       "Solve Maths in groups     category\n",
       "Draw geometry             category\n",
       "Explain answers           category\n",
       "SocSci is difficult       category\n",
       "Historical excursions     category\n",
       "Participate in SocSci     category\n",
       "Small groups in SocSci    category\n",
       "Express SocSci views      category\n",
       "Science is difficult      category\n",
       "Observe experiments       category\n",
       "Conduct experiments       category\n",
       "Solve science problems    category\n",
       "Express science views     category\n",
       "Watch TV                  category\n",
       "Read magazine             category\n",
       "Read a book               category\n",
       "Play games                category\n",
       "Help in household         category\n",
       "Maths %                    float64\n",
       "Reading %                  float64\n",
       "Science %                  float64\n",
       "Social %                   float64\n",
       "Length: 64, dtype: object"
      ]
     },
     "execution_count": 15,
     "metadata": {},
     "output_type": "execute_result"
    }
   ],
   "source": [
    "nas_pupil.dtypes"
   ]
  },
  {
   "cell_type": "code",
   "execution_count": 23,
   "metadata": {},
   "outputs": [],
   "source": [
    "p =nas_pupil.groupby([\"Give Math HW\",\"Maths %\"])"
   ]
  },
  {
   "cell_type": "code",
   "execution_count": 34,
   "metadata": {},
   "outputs": [
    {
     "ename": "TypeError",
     "evalue": "'SeriesGroupBy' object is not callable",
     "output_type": "error",
     "traceback": [
      "\u001b[1;31m---------------------------------------------------------------------------\u001b[0m",
      "\u001b[1;31mTypeError\u001b[0m                                 Traceback (most recent call last)",
      "\u001b[1;32m<ipython-input-34-f0521e935e3d>\u001b[0m in \u001b[0;36m<module>\u001b[1;34m()\u001b[0m\n\u001b[1;32m----> 1\u001b[1;33m \u001b[0mp\u001b[0m\u001b[1;33m.\u001b[0m\u001b[0maggregate\u001b[0m\u001b[1;33m(\u001b[0m\u001b[1;34m\"Age\"\u001b[0m\u001b[1;33m)\u001b[0m\u001b[1;33m\u001b[0m\u001b[0m\n\u001b[0m",
      "\u001b[1;32mE:\\Anaconda3\\lib\\site-packages\\pandas\\core\\groupby.py\u001b[0m in \u001b[0;36maggregate\u001b[1;34m(self, arg, *args, **kwargs)\u001b[0m\n\u001b[0;32m   3959\u001b[0m         versionadded=''))\n\u001b[0;32m   3960\u001b[0m     \u001b[1;32mdef\u001b[0m \u001b[0maggregate\u001b[0m\u001b[1;33m(\u001b[0m\u001b[0mself\u001b[0m\u001b[1;33m,\u001b[0m \u001b[0marg\u001b[0m\u001b[1;33m,\u001b[0m \u001b[1;33m*\u001b[0m\u001b[0margs\u001b[0m\u001b[1;33m,\u001b[0m \u001b[1;33m**\u001b[0m\u001b[0mkwargs\u001b[0m\u001b[1;33m)\u001b[0m\u001b[1;33m:\u001b[0m\u001b[1;33m\u001b[0m\u001b[0m\n\u001b[1;32m-> 3961\u001b[1;33m         \u001b[1;32mreturn\u001b[0m \u001b[0msuper\u001b[0m\u001b[1;33m(\u001b[0m\u001b[0mDataFrameGroupBy\u001b[0m\u001b[1;33m,\u001b[0m \u001b[0mself\u001b[0m\u001b[1;33m)\u001b[0m\u001b[1;33m.\u001b[0m\u001b[0maggregate\u001b[0m\u001b[1;33m(\u001b[0m\u001b[0marg\u001b[0m\u001b[1;33m,\u001b[0m \u001b[1;33m*\u001b[0m\u001b[0margs\u001b[0m\u001b[1;33m,\u001b[0m \u001b[1;33m**\u001b[0m\u001b[0mkwargs\u001b[0m\u001b[1;33m)\u001b[0m\u001b[1;33m\u001b[0m\u001b[0m\n\u001b[0m\u001b[0;32m   3962\u001b[0m \u001b[1;33m\u001b[0m\u001b[0m\n\u001b[0;32m   3963\u001b[0m     \u001b[0magg\u001b[0m \u001b[1;33m=\u001b[0m \u001b[0maggregate\u001b[0m\u001b[1;33m\u001b[0m\u001b[0m\n",
      "\u001b[1;32mE:\\Anaconda3\\lib\\site-packages\\pandas\\core\\groupby.py\u001b[0m in \u001b[0;36maggregate\u001b[1;34m(self, arg, *args, **kwargs)\u001b[0m\n\u001b[0;32m   3391\u001b[0m \u001b[1;33m\u001b[0m\u001b[0m\n\u001b[0;32m   3392\u001b[0m         \u001b[0m_level\u001b[0m \u001b[1;33m=\u001b[0m \u001b[0mkwargs\u001b[0m\u001b[1;33m.\u001b[0m\u001b[0mpop\u001b[0m\u001b[1;33m(\u001b[0m\u001b[1;34m'_level'\u001b[0m\u001b[1;33m,\u001b[0m \u001b[1;32mNone\u001b[0m\u001b[1;33m)\u001b[0m\u001b[1;33m\u001b[0m\u001b[0m\n\u001b[1;32m-> 3393\u001b[1;33m         \u001b[0mresult\u001b[0m\u001b[1;33m,\u001b[0m \u001b[0mhow\u001b[0m \u001b[1;33m=\u001b[0m \u001b[0mself\u001b[0m\u001b[1;33m.\u001b[0m\u001b[0m_aggregate\u001b[0m\u001b[1;33m(\u001b[0m\u001b[0marg\u001b[0m\u001b[1;33m,\u001b[0m \u001b[0m_level\u001b[0m\u001b[1;33m=\u001b[0m\u001b[0m_level\u001b[0m\u001b[1;33m,\u001b[0m \u001b[1;33m*\u001b[0m\u001b[0margs\u001b[0m\u001b[1;33m,\u001b[0m \u001b[1;33m**\u001b[0m\u001b[0mkwargs\u001b[0m\u001b[1;33m)\u001b[0m\u001b[1;33m\u001b[0m\u001b[0m\n\u001b[0m\u001b[0;32m   3394\u001b[0m         \u001b[1;32mif\u001b[0m \u001b[0mhow\u001b[0m \u001b[1;32mis\u001b[0m \u001b[1;32mNone\u001b[0m\u001b[1;33m:\u001b[0m\u001b[1;33m\u001b[0m\u001b[0m\n\u001b[0;32m   3395\u001b[0m             \u001b[1;32mreturn\u001b[0m \u001b[0mresult\u001b[0m\u001b[1;33m\u001b[0m\u001b[0m\n",
      "\u001b[1;32mE:\\Anaconda3\\lib\\site-packages\\pandas\\core\\base.py\u001b[0m in \u001b[0;36m_aggregate\u001b[1;34m(self, arg, *args, **kwargs)\u001b[0m\n\u001b[0;32m    425\u001b[0m         \u001b[1;32mif\u001b[0m \u001b[0misinstance\u001b[0m\u001b[1;33m(\u001b[0m\u001b[0marg\u001b[0m\u001b[1;33m,\u001b[0m \u001b[0mcompat\u001b[0m\u001b[1;33m.\u001b[0m\u001b[0mstring_types\u001b[0m\u001b[1;33m)\u001b[0m\u001b[1;33m:\u001b[0m\u001b[1;33m\u001b[0m\u001b[0m\n\u001b[0;32m    426\u001b[0m             return self._try_aggregate_string_function(arg, *args,\n\u001b[1;32m--> 427\u001b[1;33m                                                        **kwargs), None\n\u001b[0m\u001b[0;32m    428\u001b[0m \u001b[1;33m\u001b[0m\u001b[0m\n\u001b[0;32m    429\u001b[0m         \u001b[1;32mif\u001b[0m \u001b[0misinstance\u001b[0m\u001b[1;33m(\u001b[0m\u001b[0marg\u001b[0m\u001b[1;33m,\u001b[0m \u001b[0mdict\u001b[0m\u001b[1;33m)\u001b[0m\u001b[1;33m:\u001b[0m\u001b[1;33m\u001b[0m\u001b[0m\n",
      "\u001b[1;32mE:\\Anaconda3\\lib\\site-packages\\pandas\\core\\base.py\u001b[0m in \u001b[0;36m_try_aggregate_string_function\u001b[1;34m(self, arg, *args, **kwargs)\u001b[0m\n\u001b[0;32m    388\u001b[0m         \u001b[0mf\u001b[0m \u001b[1;33m=\u001b[0m \u001b[0mgetattr\u001b[0m\u001b[1;33m(\u001b[0m\u001b[0mself\u001b[0m\u001b[1;33m,\u001b[0m \u001b[0marg\u001b[0m\u001b[1;33m,\u001b[0m \u001b[1;32mNone\u001b[0m\u001b[1;33m)\u001b[0m\u001b[1;33m\u001b[0m\u001b[0m\n\u001b[0;32m    389\u001b[0m         \u001b[1;32mif\u001b[0m \u001b[0mf\u001b[0m \u001b[1;32mis\u001b[0m \u001b[1;32mnot\u001b[0m \u001b[1;32mNone\u001b[0m\u001b[1;33m:\u001b[0m\u001b[1;33m\u001b[0m\u001b[0m\n\u001b[1;32m--> 390\u001b[1;33m             \u001b[1;32mreturn\u001b[0m \u001b[0mf\u001b[0m\u001b[1;33m(\u001b[0m\u001b[1;33m*\u001b[0m\u001b[0margs\u001b[0m\u001b[1;33m,\u001b[0m \u001b[1;33m**\u001b[0m\u001b[0mkwargs\u001b[0m\u001b[1;33m)\u001b[0m\u001b[1;33m\u001b[0m\u001b[0m\n\u001b[0m\u001b[0;32m    391\u001b[0m \u001b[1;33m\u001b[0m\u001b[0m\n\u001b[0;32m    392\u001b[0m         \u001b[0mf\u001b[0m \u001b[1;33m=\u001b[0m \u001b[0mgetattr\u001b[0m\u001b[1;33m(\u001b[0m\u001b[0mnp\u001b[0m\u001b[1;33m,\u001b[0m \u001b[0marg\u001b[0m\u001b[1;33m,\u001b[0m \u001b[1;32mNone\u001b[0m\u001b[1;33m)\u001b[0m\u001b[1;33m\u001b[0m\u001b[0m\n",
      "\u001b[1;31mTypeError\u001b[0m: 'SeriesGroupBy' object is not callable"
     ]
    }
   ],
   "source": [
    "p.aggregate(\"\")"
   ]
  }
 ],
 "metadata": {
  "kernelspec": {
   "display_name": "Python 3",
   "language": "python",
   "name": "python3"
  },
  "language_info": {
   "codemirror_mode": {
    "name": "ipython",
    "version": 3
   },
   "file_extension": ".py",
   "mimetype": "text/x-python",
   "name": "python",
   "nbconvert_exporter": "python",
   "pygments_lexer": "ipython3",
   "version": "3.6.1"
  }
 },
 "nbformat": 4,
 "nbformat_minor": 2
}
