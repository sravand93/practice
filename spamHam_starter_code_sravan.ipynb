{
 "cells": [
  {
   "cell_type": "code",
   "execution_count": 1,
   "metadata": {},
   "outputs": [
    {
     "name": "stderr",
     "output_type": "stream",
     "text": [
      "Using TensorFlow backend.\n"
     ]
    }
   ],
   "source": [
    "import pandas as pd\n",
    "import numpy as np\n",
    "from keras.layers import Dense, LSTM, SimpleRNN, Embedding\n",
    "from keras.models import Sequential\n",
    "from keras.utils.np_utils import to_categorical"
   ]
  },
  {
   "cell_type": "code",
   "execution_count": 2,
   "metadata": {},
   "outputs": [
    {
     "name": "stdout",
     "output_type": "stream",
     "text": [
      "(29000, 2)\n",
      "Index(['Label', 'Message'], dtype='object')\n"
     ]
    }
   ],
   "source": [
    "raw_data = pd.read_csv('train.csv', encoding='latin-1')\n",
    "raw_test_data = pd.read_csv('test.csv', encoding='latin-1')\n",
    "\n",
    "print(raw_data.shape)\n",
    "print(raw_data.columns)"
   ]
  },
  {
   "cell_type": "code",
   "execution_count": 3,
   "metadata": {},
   "outputs": [
    {
     "data": {
      "text/plain": [
       "Index(['Label', 'Message'], dtype='object')"
      ]
     },
     "execution_count": 3,
     "metadata": {},
     "output_type": "execute_result"
    }
   ],
   "source": [
    "raw_test_data.columns"
   ]
  },
  {
   "cell_type": "code",
   "execution_count": 4,
   "metadata": {},
   "outputs": [
    {
     "data": {
      "text/plain": [
       "0                       oh how abt 2 days before Christmas\n",
       "1        Welcome to OVATION HOLD R.No. 184, 114, 395, 3...\n",
       "2        Thank you for using your ICICI bank CREDITcard...\n",
       "3        schedule a meeting with the entire team in the...\n",
       "4                                      Tommy is my brother\n",
       "5        OTP is 817453 for the txn of INR 8262.00 at SP...\n",
       "6                         the meeting is scheduled by john\n",
       "7        Dear customer, We wish you a Merry Christmas. ...\n",
       "8        Delivered: Your package withPawzone Red 1.25 i...\n",
       "9        The PNR for your Air India Flt 7I115 for PGH-B...\n",
       "10       Bimal Auto Agency : Service of your car KA52C8...\n",
       "11       Appointment with Dr Clayton in Pune on 2011-08...\n",
       "12       Maha Veer Auto Agency : Service of your car KA...\n",
       "13       Dear AirAsia Customer, flight 5Q658 from RJA s...\n",
       "14       Dear Guest, Thanks for choosing Forlini's Rest...\n",
       "15                               I will indeed! What time?\n",
       "16       Dear Guest, Thanks for choosing 2nd Avenue Del...\n",
       "17       Aryan Auto Agency : Service of your car KA87A3...\n",
       "18       Welcome to China Shipbuilding Industry R.No. 4...\n",
       "19                       i will meet you on coming morning\n",
       "20       * KSRTC m-Ticket *  from: SRINGERI to: Pune Ps...\n",
       "21       PNR:3753775534,TRAIN:23181,DOJ:2013-01-02,AC3,...\n",
       "22                     i will meet john adams in bangalore\n",
       "23        I have to catchup for dinner @ nite at his place\n",
       "24                             lets meet 29th after diwali\n",
       "25       Repair ref.no for your car is JC53251731 opene...\n",
       "26       Ur transaction on HDFC Bank CREDIT Card ending...\n",
       "27       [Cranks] Hi Joseph, your reservation is confir...\n",
       "28       Aryan Auto Agency : Service of your car KA17O3...\n",
       "29       Roaming Info: Opt for International Roaming pa...\n",
       "                               ...                        \n",
       "28970    Thank you for choosing radiocabs for 2010-09-1...\n",
       "28971    YourBus (Panaji Goa-PUTTAPARTHI 19:22) left  G...\n",
       "28972    OTP is 882352 for the txn of INR 4901.00 at AM...\n",
       "28973    [Veggie Galaxy] Hi Alejandro, your reservation...\n",
       "28974    Welcome to Fort Fraeb R.No. 353, 124, 108, 463...\n",
       "28975    Repair ref.no for your car is JC12445114 opene...\n",
       "28976    The PNR for your SPICE JET Flt 4Z527 for IMF-C...\n",
       "28977    Welcome to Belmont Lake State Park R.No. 424, ...\n",
       "28978    Dear Guest, Thanks for choosing TKK Fried Chic...\n",
       "28979    Engagement is on coming friday..make sure u wi...\n",
       "28980    PNR:8423318113,TRAIN:1483,DOJ:2013-11-29,FC,BE...\n",
       "28981    Greetings, Reliance wishes you a Happy Ganesh ...\n",
       "28982    [Menara Kuala Lumpur] Hi Conner, your reservat...\n",
       "28983    Dear Guest, Thanks for choosing Victrola Coffe...\n",
       "28984    Repair ref.no for your car is JC17553371 opene...\n",
       "28985                  I will see u at my home after that.\n",
       "28986    * KSRTC m-Ticket *  from: Chennai to: Shivamog...\n",
       "28987    DEAR Julian, THANK YOU FOR YOUR BOOKING (ORDER...\n",
       "28988    Thank you for choosing Uber for 2015-01-20 at ...\n",
       "28989    PNR:7334481571,TRAIN:5546,DOJ:2013-12-06,SL,BB...\n",
       "28990    PNR:6826121273,TRAIN:33241,DOJ:2009-10-08,AC3,...\n",
       "28991    Dear JET Airways Customer, flight 6D366 from J...\n",
       "28992                                    Tomorrow I m busy\n",
       "28993    Hi Customer, Booking ID: W08U4VV. Seats: STAND...\n",
       "28994                          I & Mary are husband & wife\n",
       "28995    [The New Riverside Cafe] Hi Nathaniel, your re...\n",
       "28996    Welcome to American Financial Group R.No. 392,...\n",
       "28997    The PNR for your JET Airways Flt 3N243 for JRH...\n",
       "28998    Bill dated 2012-01-07 for Rs 1041 has been gen...\n",
       "28999    PNR:4352151522,TRAIN:3728,DOJ:2015-05-21,AC3,A...\n",
       "Name: Message, Length: 29000, dtype: object"
      ]
     },
     "execution_count": 4,
     "metadata": {},
     "output_type": "execute_result"
    }
   ],
   "source": [
    "raw_data.Message"
   ]
  },
  {
   "cell_type": "code",
   "execution_count": 5,
   "metadata": {},
   "outputs": [
    {
     "name": "stdout",
     "output_type": "stream",
     "text": [
      "28926\n"
     ]
    }
   ],
   "source": [
    "char_to_idx = {ch: i for (i, ch) in enumerate(sorted(list(set(raw_data.Message))))}\n",
    "\n",
    "print(len(char_to_idx))"
   ]
  },
  {
   "cell_type": "code",
   "execution_count": 6,
   "metadata": {},
   "outputs": [
    {
     "name": "stdout",
     "output_type": "stream",
     "text": [
      "(29000, 50) (1000, 50)\n"
     ]
    }
   ],
   "source": [
    "from keras.preprocessing.text import Tokenizer\n",
    "from keras.preprocessing.sequence import pad_sequences\n",
    "\n",
    "tokenizer = Tokenizer(num_words=10000)\n",
    "tokenizer.fit_on_texts(raw_data.Message)\n",
    "\n",
    "train_x = tokenizer.texts_to_sequences(raw_data.Message)\n",
    "train_x = pad_sequences(train_x, maxlen=50)\n",
    "test_x = tokenizer.texts_to_sequences(raw_test_data.Message)\n",
    "test_x = pad_sequences(test_x, maxlen=50)\n",
    "\n",
    "print(train_x.shape, test_x.shape)\n",
    "\n",
    "unique_labels = list(raw_data.Label.unique())\n",
    "train_y = np.array([unique_labels.index(i) for i in raw_data.Label])\n",
    "train_y = to_categorical(train_y)\n",
    "test_y = np.array([unique_labels.index(i) for i in raw_test_data.Label])\n",
    "test_y = to_categorical(test_y)"
   ]
  },
  {
   "cell_type": "markdown",
   "metadata": {},
   "source": [
    "## Create a model which gives above 99% accuracy on test data."
   ]
  },
  {
   "cell_type": "code",
   "execution_count": 7,
   "metadata": {},
   "outputs": [
    {
     "data": {
      "text/plain": [
       "array([   0,    0,    0,    0,    0,    0,    0,    0,    0,    0,    0,\n",
       "          0,    0,    0,    0,    0,    0,    0,    0,    0,    0,    0,\n",
       "          0,    0,    0,    0,    0,    0,    0,    0,    0,    0,    0,\n",
       "          0,    0,    0,    0,    0,    0,    0,    0,    0,    0,  651,\n",
       "        474, 1026,   98,  115,  346,  488])"
      ]
     },
     "execution_count": 7,
     "metadata": {},
     "output_type": "execute_result"
    }
   ],
   "source": [
    "train_x[0]"
   ]
  },
  {
   "cell_type": "code",
   "execution_count": 13,
   "metadata": {
    "collapsed": true
   },
   "outputs": [],
   "source": [
    "train_x = train_x.reshape(29000,50,1)"
   ]
  },
  {
   "cell_type": "code",
   "execution_count": 35,
   "metadata": {
    "collapsed": true
   },
   "outputs": [],
   "source": [
    "from keras.models import Sequential\n",
    "from keras.layers.recurrent import LSTM, SimpleRNN\n",
    "from keras.layers import Dense,Activation\n",
    "\n",
    "model = Sequential()\n",
    "model.add(LSTM(50, input_shape=(50, 1), return_sequences=False))\n",
    "model.add(Dense(3))\n",
    "model.add(Activation('softmax'))\n",
    "model.compile(loss='categorical_crossentropy',optimizer='adam',metrics=['accuracy'])\n"
   ]
  },
  {
   "cell_type": "code",
   "execution_count": 36,
   "metadata": {},
   "outputs": [
    {
     "name": "stdout",
     "output_type": "stream",
     "text": [
      "Epoch 1/10\n",
      "29000/29000 [==============================] - 37s - loss: 0.2697 - acc: 0.8941    \n",
      "Epoch 2/10\n",
      "29000/29000 [==============================] - 36s - loss: 0.1035 - acc: 0.9607    \n",
      "Epoch 3/10\n",
      "29000/29000 [==============================] - 36s - loss: 0.0775 - acc: 0.9741    \n",
      "Epoch 4/10\n",
      "29000/29000 [==============================] - 36s - loss: 0.0739 - acc: 0.9783    \n",
      "Epoch 5/10\n",
      "29000/29000 [==============================] - 36s - loss: 0.0631 - acc: 0.9807    \n",
      "Epoch 6/10\n",
      "29000/29000 [==============================] - 54s - loss: 0.0541 - acc: 0.9830    \n",
      "Epoch 7/10\n",
      "29000/29000 [==============================] - 62s - loss: 0.0506 - acc: 0.9835    \n",
      "Epoch 8/10\n",
      "29000/29000 [==============================] - 60s - loss: 0.0489 - acc: 0.9837    - ETA: 1s - loss\n",
      "Epoch 9/10\n",
      "29000/29000 [==============================] - 61s - loss: 0.0426 - acc: 0.9860    - ETA\n",
      "Epoch 10/10\n",
      "29000/29000 [==============================] - 60s - loss: 0.0424 - acc: 0.9871    \n"
     ]
    },
    {
     "data": {
      "text/plain": [
       "<keras.callbacks.History at 0x1bd92c131d0>"
      ]
     },
     "execution_count": 36,
     "metadata": {},
     "output_type": "execute_result"
    }
   ],
   "source": [
    "model.fit(train_x,train_y)"
   ]
  },
  {
   "cell_type": "code",
   "execution_count": 37,
   "metadata": {},
   "outputs": [
    {
     "name": "stdout",
     "output_type": "stream",
     "text": [
      "1000/1000 [==============================] - 0s     \n"
     ]
    }
   ],
   "source": [
    "test_x = test_x.reshape(1000,50,1)\n",
    "predict = model.predict_classes(test_x) "
   ]
  },
  {
   "cell_type": "code",
   "execution_count": 38,
   "metadata": {},
   "outputs": [
    {
     "data": {
      "text/plain": [
       "array([0, 1, 1, 2, 1, 1, 1, 2, 0, 0, 0, 0, 2, 1, 0, 0, 1, 0, 1, 1, 2, 0, 2,\n",
       "       2, 1, 1, 1, 1, 1, 2, 0, 1, 1, 1, 2, 1, 1, 0, 1, 0, 0, 2, 1, 1, 0, 1,\n",
       "       0, 1, 1, 0, 0, 1, 0, 2, 1, 1, 1, 1, 0, 1, 1, 1, 1, 0, 1, 1, 1, 1, 1,\n",
       "       1, 2, 1, 2, 1, 0, 2, 1, 2, 1, 2, 1, 1, 0, 0, 0, 0, 1, 1, 1, 1, 2, 1,\n",
       "       1, 0, 1, 2, 1, 1, 1, 2, 1, 2, 0, 0, 1, 2, 0, 1, 0, 0, 1, 2, 1, 1, 2,\n",
       "       0, 0, 0, 2, 0, 2, 1, 0, 1, 1, 0, 2, 1, 1, 0, 2, 1, 1, 2, 0, 1, 0, 0,\n",
       "       1, 1, 0, 1, 1, 0, 0, 1, 2, 0, 0, 1, 1, 1, 0, 1, 1, 2, 1, 0, 1, 1, 1,\n",
       "       1, 0, 1, 0, 1, 2, 1, 0, 2, 0, 0, 2, 0, 1, 1, 2, 1, 2, 2, 1, 1, 0, 1,\n",
       "       1, 1, 0, 1, 0, 1, 1, 0, 0, 1, 0, 2, 0, 0, 0, 2, 0, 0, 0, 1, 2, 0, 1,\n",
       "       1, 1, 0, 2, 2, 1, 2, 1, 0, 1, 0, 1, 2, 0, 1, 1, 0, 2, 0, 0, 1, 1, 0,\n",
       "       1, 2, 1, 1, 1, 1, 1, 1, 1, 1, 0, 1, 0, 0, 1, 2, 0, 1, 2, 1, 2, 1, 0,\n",
       "       0, 1, 2, 2, 0, 1, 0, 2, 1, 1, 0, 0, 2, 2, 1, 1, 1, 1, 0, 1, 1, 0, 0,\n",
       "       2, 0, 2, 2, 1, 1, 1, 2, 0, 0, 1, 2, 1, 1, 1, 1, 1, 0, 2, 1, 1, 2, 0,\n",
       "       0, 0, 1, 0, 2, 2, 2, 0, 1, 1, 1, 2, 1, 1, 1, 2, 0, 0, 2, 2, 0, 1, 0,\n",
       "       1, 0, 0, 2, 0, 1, 0, 1, 0, 0, 1, 0, 1, 2, 1, 1, 2, 0, 0, 1, 0, 0, 1,\n",
       "       0, 1, 2, 1, 2, 1, 2, 2, 2, 1, 2, 1, 2, 0, 2, 1, 0, 0, 0, 2, 2, 0, 2,\n",
       "       0, 0, 0, 1, 0, 2, 2, 0, 0, 1, 1, 0, 1, 1, 0, 2, 0, 1, 2, 0, 1, 0, 1,\n",
       "       2, 1, 0, 2, 2, 1, 1, 0, 1, 2, 1, 1, 0, 1, 2, 2, 1, 1, 0, 0, 0, 0, 0,\n",
       "       2, 0, 2, 0, 1, 1, 2, 1, 2, 2, 1, 1, 0, 0, 1, 0, 1, 1, 1, 0, 0, 1, 0,\n",
       "       1, 1, 1, 0, 0, 1, 0, 1, 0, 0, 2, 1, 1, 2, 1, 1, 2, 1, 1, 2, 1, 1, 2,\n",
       "       2, 0, 1, 2, 2, 1, 1, 0, 1, 1, 1, 1, 1, 2, 0, 0, 1, 1, 1, 2, 1, 1, 0,\n",
       "       0, 2, 2, 1, 1, 1, 2, 1, 0, 2, 0, 1, 1, 1, 1, 2, 0, 1, 0, 2, 1, 0, 1,\n",
       "       0, 2, 0, 1, 1, 0, 0, 0, 2, 2, 0, 2, 1, 1, 2, 2, 1, 2, 1, 1, 0, 2, 2,\n",
       "       0, 1, 1, 1, 1, 0, 1, 2, 2, 1, 0, 2, 0, 1, 1, 1, 2, 1, 1, 1, 2, 0, 1,\n",
       "       0, 0, 1, 2, 1, 0, 0, 0, 0, 2, 0, 1, 0, 1, 1, 1, 1, 1, 0, 1, 2, 1, 0,\n",
       "       0, 1, 2, 2, 1, 2, 1, 1, 1, 2, 0, 0, 1, 0, 1, 0, 2, 2, 0, 2, 1, 0, 0,\n",
       "       0, 0, 0, 1, 1, 0, 1, 2, 0, 1, 0, 1, 0, 2, 2, 2, 1, 1, 1, 1, 0, 1, 2,\n",
       "       2, 1, 1, 0, 0, 2, 1, 1, 1, 1, 0, 0, 0, 0, 0, 1, 0, 1, 0, 1, 2, 0, 0,\n",
       "       1, 0, 0, 1, 2, 2, 1, 1, 1, 0, 0, 2, 1, 1, 0, 1, 2, 2, 0, 1, 1, 0, 0,\n",
       "       2, 1, 1, 1, 2, 0, 1, 1, 0, 1, 1, 0, 1, 1, 1, 1, 0, 1, 0, 0, 1, 0, 1,\n",
       "       0, 1, 1, 0, 2, 1, 1, 1, 0, 0, 0, 1, 1, 1, 2, 0, 0, 0, 1, 2, 0, 2, 1,\n",
       "       2, 1, 1, 0, 1, 0, 1, 2, 2, 1, 0, 2, 0, 2, 2, 2, 2, 1, 1, 0, 1, 1, 1,\n",
       "       1, 2, 1, 1, 1, 1, 1, 1, 1, 2, 0, 2, 1, 0, 1, 2, 0, 0, 1, 1, 2, 0, 2,\n",
       "       2, 2, 2, 1, 1, 1, 0, 2, 0, 1, 1, 0, 1, 0, 1, 1, 2, 1, 0, 1, 1, 1, 1,\n",
       "       0, 1, 1, 2, 1, 0, 0, 0, 0, 1, 1, 1, 1, 1, 0, 0, 1, 0, 0, 1, 0, 1, 1,\n",
       "       1, 1, 0, 2, 2, 0, 1, 0, 2, 1, 0, 1, 1, 0, 1, 1, 1, 1, 0, 1, 2, 1, 0,\n",
       "       1, 1, 1, 1, 1, 1, 0, 1, 0, 0, 2, 0, 0, 1, 1, 0, 1, 2, 1, 0, 0, 2, 1,\n",
       "       1, 1, 0, 2, 1, 1, 1, 1, 0, 0, 2, 1, 0, 0, 0, 0, 2, 1, 0, 1, 1, 0, 1,\n",
       "       2, 0, 1, 1, 1, 0, 2, 2, 0, 0, 2, 0, 0, 0, 2, 0, 0, 0, 0, 0, 1, 0, 2,\n",
       "       1, 1, 0, 0, 0, 0, 1, 1, 2, 1, 1, 2, 2, 2, 2, 1, 1, 2, 0, 1, 0, 1, 2,\n",
       "       0, 1, 1, 1, 1, 0, 1, 2, 2, 0, 1, 1, 2, 1, 2, 1, 0, 0, 2, 0, 0, 1, 2,\n",
       "       2, 0, 2, 0, 1, 1, 0, 1, 2, 2, 1, 0, 1, 1, 2, 0, 0, 1, 1, 2, 1, 0, 1,\n",
       "       1, 0, 1, 1, 0, 1, 1, 1, 1, 1, 1, 0, 2, 1, 2, 1, 0, 1, 0, 1, 1, 0, 0,\n",
       "       0, 1, 0, 1, 1, 2, 0, 2, 0, 2, 2], dtype=int64)"
      ]
     },
     "execution_count": 38,
     "metadata": {},
     "output_type": "execute_result"
    }
   ],
   "source": [
    "predict"
   ]
  },
  {
   "cell_type": "code",
   "execution_count": 39,
   "metadata": {},
   "outputs": [
    {
     "name": "stdout",
     "output_type": "stream",
     "text": [
      " 992/1000 [============================>.] - ETA: 0s"
     ]
    },
    {
     "data": {
      "text/plain": [
       "0.98599999999999999"
      ]
     },
     "execution_count": 39,
     "metadata": {},
     "output_type": "execute_result"
    }
   ],
   "source": [
    "model.evaluate(test_x,test_y)[1]"
   ]
  },
  {
   "cell_type": "code",
   "execution_count": null,
   "metadata": {
    "collapsed": true
   },
   "outputs": [],
   "source": []
  }
 ],
 "metadata": {
  "kernelspec": {
   "display_name": "Python 3",
   "language": "python",
   "name": "python3"
  },
  "language_info": {
   "codemirror_mode": {
    "name": "ipython",
    "version": 3
   },
   "file_extension": ".py",
   "mimetype": "text/x-python",
   "name": "python",
   "nbconvert_exporter": "python",
   "pygments_lexer": "ipython3",
   "version": "3.6.1"
  }
 },
 "nbformat": 4,
 "nbformat_minor": 2
}
