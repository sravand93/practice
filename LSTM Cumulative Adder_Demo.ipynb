{
 "cells": [
  {
   "cell_type": "markdown",
   "metadata": {},
   "source": [
    "## Load modules and parameters"
   ]
  },
  {
   "cell_type": "code",
   "execution_count": 1,
   "metadata": {},
   "outputs": [
    {
     "name": "stderr",
     "output_type": "stream",
     "text": [
      "Using Theano backend.\n"
     ]
    }
   ],
   "source": [
    "import numpy as np\n",
    "import matplotlib.pyplot as plt\n",
    "%matplotlib inline\n",
    "from keras.layers import Dense\n",
    "from keras.layers.recurrent import SimpleRNN, LSTM\n",
    "from keras.models import Sequential\n",
    "\n",
    "## PARAMETERS ##\n",
    "batch_size = 256\n",
    "n_epochs = 3000\n",
    "seq_len = 60\n",
    "rnn_nodes = 10\n",
    "################"
   ]
  },
  {
   "cell_type": "markdown",
   "metadata": {},
   "source": [
    "## GENERATE DATA\n",
    "    [1, 0, 1, 1, 0, 1] --> [1, 1, 2, 3, 3, 4]"
   ]
  },
  {
   "cell_type": "code",
   "execution_count": 2,
   "metadata": {},
   "outputs": [],
   "source": [
    "def generate_batch(n=batch_size):\n",
    "    X = np.random.choice(a=[0, 1], size = n*seq_len, p=[0.9, 0.1]).reshape(n, -1)\n",
    "    y = np.cumsum(X, axis=1)\n",
    "    X = X.reshape(n, -1, 1)\n",
    "    y = y.reshape(n, -1, 1)\n",
    "    return(X, y)\n",
    "# generate_batch(1)"
   ]
  },
  {
   "cell_type": "markdown",
   "metadata": {},
   "source": [
    "## Build Architecture"
   ]
  },
  {
   "cell_type": "code",
   "execution_count": 4,
   "metadata": {},
   "outputs": [
    {
     "name": "stdout",
     "output_type": "stream",
     "text": [
      "CPU times: user 8 ms, sys: 0 ns, total: 8 ms\n",
      "Wall time: 7.05 ms\n"
     ]
    }
   ],
   "source": [
    "model = Sequential()\n",
    "model.add(LSTM(rnn_nodes, input_shape=(seq_len, 1), return_sequences=True))\n",
    "model.add(Dense(1))\n",
    "%time model.compile(loss='mse', optimizer='adam')"
   ]
  },
  {
   "cell_type": "markdown",
   "metadata": {},
   "source": [
    "## Train"
   ]
  },
  {
   "cell_type": "code",
   "execution_count": 5,
   "metadata": {},
   "outputs": [
    {
     "name": "stdout",
     "output_type": "stream",
     "text": [
      "(0, 14.74012553691864)\n",
      "(100, 0.12725116871297359)\n",
      "(200, 0.067730294191278517)\n",
      "(300, 0.01262118062004447)\n",
      "(400, 0.0050134308985434473)\n",
      "(500, 0.0020019819639855996)\n",
      "(600, 0.0031031396792968735)\n",
      "(700, 0.00090731525415321812)\n",
      "(800, 0.0062628257874166593)\n",
      "(900, 0.0068372261594049633)\n",
      "(1000, 0.0014717327285325155)\n",
      "(1100, 0.00053177970403339714)\n",
      "(1200, 0.0010901249697781168)\n",
      "(1300, 0.00047772234393050894)\n",
      "(1400, 0.00020067266632395331)\n",
      "(1500, 0.00034748323378153145)\n",
      "(1600, 0.00027083548957307357)\n",
      "(1700, 0.00023926259382278658)\n",
      "(1800, 0.00074065131775569171)\n",
      "(1900, 0.00013466980271914508)\n",
      "(2000, 0.00086540965276071802)\n",
      "(2100, 0.00042470281914575025)\n",
      "(2200, 0.00081075238267658278)\n",
      "(2300, 0.00066752879502018914)\n",
      "(2400, 0.00077406960190273821)\n",
      "(2500, 0.00011197373805771349)\n",
      "(2600, 0.00041326506470795721)\n",
      "(2700, 0.001021855445287656)\n",
      "(2800, 0.0013700068084290251)\n",
      "(2900, 6.8115146405034466e-05)\n"
     ]
    },
    {
     "data": {
      "text/plain": [
       "[<matplotlib.lines.Line2D at 0x7f1ed2ed5510>]"
      ]
     },
     "execution_count": 5,
     "metadata": {},
     "output_type": "execute_result"
    },
    {
     "data": {
      "image/png": "[encoded data removed]",
      "text/plain": [
       "<matplotlib.figure.Figure at 0x7f1ed60cc790>"
      ]
     },
     "metadata": {},
     "output_type": "display_data"
    }
   ],
   "source": [
    "history = []\n",
    "# from tqdm import trange\n",
    "# iters = trange(n_epochs)\n",
    "for i in range(n_epochs):\n",
    "    X, y = generate_batch()\n",
    "    hist = model.fit(X, y, verbose=0, epochs=1)\n",
    "    history.extend(hist.history['loss'])\n",
    "    if i%100 == 0:\n",
    "        print(i, model.evaluate(X, y, verbose=0))\n",
    "#         iters.set_description(str(np.mean(history[-10:])))\n",
    "plt.plot(history)"
   ]
  },
  {
   "cell_type": "markdown",
   "metadata": {},
   "source": [
    "## Predict"
   ]
  },
  {
   "cell_type": "code",
   "execution_count": 6,
   "metadata": {},
   "outputs": [
    {
     "name": "stdout",
     "output_type": "stream",
     "text": [
      "0.0\n"
     ]
    }
   ],
   "source": [
    "x, y = generate_batch(1000)\n",
    "y_pred = np.round(model.predict(x))\n",
    "# print(np.squeeze(x), '\\n'*2, np.squeeze(y_pred))\n",
    "print(np.mean(np.absolute(np.squeeze(y - y_pred))))"
   ]
  },
  {
   "cell_type": "code",
   "execution_count": null,
   "metadata": {
    "collapsed": true
   },
   "outputs": [],
   "source": []
  }
 ],
 "metadata": {
  "anaconda-cloud": {},
  "kernelspec": {
   "display_name": "Python 3",
   "language": "python",
   "name": "python3"
  },
  "language_info": {
   "codemirror_mode": {
    "name": "ipython",
    "version": 3
   },
   "file_extension": ".py",
   "mimetype": "text/x-python",
   "name": "python",
   "nbconvert_exporter": "python",
   "pygments_lexer": "ipython3",
   "version": "3.6.1"
  }
 },
 "nbformat": 4,
 "nbformat_minor": 1
}
