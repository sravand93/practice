{
 "cells": [
  {
   "cell_type": "code",
   "execution_count": 1,
   "metadata": {
    "collapsed": true
   },
   "outputs": [],
   "source": [
    "import numpy as np \n",
    "from numpy import genfromtxt \n",
    "from matplotlib import pyplot as plt \n",
    "%matplotlib inline \n",
    "train = genfromtxt('E:\\\\INSOFE\\\\AI and Deep Learning\\\\day1\\\\ANN\\\\train_solved.csv', delimiter=',') \n",
    "test = genfromtxt('E:\\\\INSOFE\\\\AI and Deep Learning\\\\day1\\\\ANN\\\\test_solved.csv', delimiter=',')"
   ]
  },
  {
   "cell_type": "code",
   "execution_count": 2,
   "metadata": {
    "collapsed": true
   },
   "outputs": [],
   "source": [
    "# Seperating the input data and labels\n",
    "x_train = train[:,0:784] \n",
    "y_train = train[:,784] \n",
    "x_test = test[:,0:784]\n",
    "y_test = test[:,784]"
   ]
  },
  {
   "cell_type": "code",
   "execution_count": 3,
   "metadata": {},
   "outputs": [
    {
     "name": "stderr",
     "output_type": "stream",
     "text": [
      "Using TensorFlow backend.\n"
     ]
    }
   ],
   "source": [
    "from keras.utils.np_utils import to_categorical \n",
    "y_train = to_categorical(y_train) \n",
    "y_test = to_categorical(y_test)"
   ]
  },
  {
   "cell_type": "code",
   "execution_count": 4,
   "metadata": {
    "collapsed": true
   },
   "outputs": [],
   "source": [
    "from keras.models import Sequential\n",
    "from keras.layers import Dense"
   ]
  },
  {
   "cell_type": "code",
   "execution_count": 7,
   "metadata": {},
   "outputs": [
    {
     "name": "stdout",
     "output_type": "stream",
     "text": [
      "_________________________________________________________________\n",
      "Layer (type)                 Output Shape              Param #   \n",
      "=================================================================\n",
      "dense_1 (Dense)              (None, 50)                39250     \n",
      "_________________________________________________________________\n",
      "dense_2 (Dense)              (None, 50)                2550      \n",
      "_________________________________________________________________\n",
      "dense_3 (Dense)              (None, 50)                2550      \n",
      "_________________________________________________________________\n",
      "dense_4 (Dense)              (None, 50)                2550      \n",
      "_________________________________________________________________\n",
      "dense_5 (Dense)              (None, 50)                2550      \n",
      "_________________________________________________________________\n",
      "dense_6 (Dense)              (None, 50)                2550      \n",
      "_________________________________________________________________\n",
      "dense_7 (Dense)              (None, 50)                2550      \n",
      "_________________________________________________________________\n",
      "dense_8 (Dense)              (None, 50)                2550      \n",
      "_________________________________________________________________\n",
      "dense_9 (Dense)              (None, 50)                2550      \n",
      "_________________________________________________________________\n",
      "dense_10 (Dense)             (None, 50)                2550      \n",
      "_________________________________________________________________\n",
      "dense_11 (Dense)             (None, 50)                2550      \n",
      "_________________________________________________________________\n",
      "dense_12 (Dense)             (None, 50)                2550      \n",
      "_________________________________________________________________\n",
      "dense_13 (Dense)             (None, 50)                2550      \n",
      "_________________________________________________________________\n",
      "dense_14 (Dense)             (None, 50)                2550      \n",
      "_________________________________________________________________\n",
      "dense_15 (Dense)             (None, 50)                2550      \n",
      "_________________________________________________________________\n",
      "dense_16 (Dense)             (None, 50)                2550      \n",
      "_________________________________________________________________\n",
      "dense_17 (Dense)             (None, 50)                2550      \n",
      "_________________________________________________________________\n",
      "dense_18 (Dense)             (None, 50)                2550      \n",
      "_________________________________________________________________\n",
      "dense_19 (Dense)             (None, 50)                2550      \n",
      "_________________________________________________________________\n",
      "dense_20 (Dense)             (None, 50)                2550      \n",
      "_________________________________________________________________\n",
      "dense_21 (Dense)             (None, 50)                2550      \n",
      "_________________________________________________________________\n",
      "dense_22 (Dense)             (None, 50)                2550      \n",
      "_________________________________________________________________\n",
      "dense_23 (Dense)             (None, 50)                2550      \n",
      "_________________________________________________________________\n",
      "dense_24 (Dense)             (None, 50)                2550      \n",
      "_________________________________________________________________\n",
      "dense_25 (Dense)             (None, 50)                2550      \n",
      "_________________________________________________________________\n",
      "dense_26 (Dense)             (None, 50)                2550      \n",
      "_________________________________________________________________\n",
      "dense_27 (Dense)             (None, 50)                2550      \n",
      "_________________________________________________________________\n",
      "dense_28 (Dense)             (None, 50)                2550      \n",
      "_________________________________________________________________\n",
      "dense_29 (Dense)             (None, 50)                2550      \n",
      "_________________________________________________________________\n",
      "dense_30 (Dense)             (None, 50)                2550      \n",
      "_________________________________________________________________\n",
      "dense_31 (Dense)             (None, 50)                2550      \n",
      "_________________________________________________________________\n",
      "dense_32 (Dense)             (None, 50)                2550      \n",
      "_________________________________________________________________\n",
      "dense_33 (Dense)             (None, 50)                2550      \n",
      "_________________________________________________________________\n",
      "dense_34 (Dense)             (None, 50)                2550      \n",
      "_________________________________________________________________\n",
      "dense_35 (Dense)             (None, 50)                2550      \n",
      "_________________________________________________________________\n",
      "dense_36 (Dense)             (None, 50)                2550      \n",
      "_________________________________________________________________\n",
      "dense_37 (Dense)             (None, 50)                2550      \n",
      "_________________________________________________________________\n",
      "dense_38 (Dense)             (None, 50)                2550      \n",
      "_________________________________________________________________\n",
      "dense_39 (Dense)             (None, 50)                2550      \n",
      "_________________________________________________________________\n",
      "dense_40 (Dense)             (None, 50)                2550      \n",
      "_________________________________________________________________\n",
      "dense_41 (Dense)             (None, 50)                2550      \n",
      "_________________________________________________________________\n",
      "dense_42 (Dense)             (None, 50)                2550      \n",
      "_________________________________________________________________\n",
      "dense_43 (Dense)             (None, 50)                2550      \n",
      "_________________________________________________________________\n",
      "dense_44 (Dense)             (None, 50)                2550      \n",
      "_________________________________________________________________\n",
      "dense_45 (Dense)             (None, 50)                2550      \n",
      "_________________________________________________________________\n",
      "dense_46 (Dense)             (None, 50)                2550      \n",
      "_________________________________________________________________\n",
      "dense_47 (Dense)             (None, 50)                2550      \n",
      "_________________________________________________________________\n",
      "dense_48 (Dense)             (None, 50)                2550      \n",
      "_________________________________________________________________\n",
      "dense_49 (Dense)             (None, 50)                2550      \n",
      "_________________________________________________________________\n",
      "dense_50 (Dense)             (None, 50)                2550      \n",
      "_________________________________________________________________\n",
      "dense_51 (Dense)             (None, 50)                2550      \n",
      "_________________________________________________________________\n",
      "dense_52 (Dense)             (None, 10)                510       \n",
      "=================================================================\n",
      "Total params: 167,260\n",
      "Trainable params: 167,260\n",
      "Non-trainable params: 0\n",
      "_________________________________________________________________\n",
      "Wall time: 9 ms\n"
     ]
    }
   ],
   "source": [
    "from keras.optimizers import Adam\n",
    "opt = Adam(lr=0.1)\n",
    "\n",
    "from keras.callbacks import ReduceLROnPlateau, EarlyStopping\n",
    "lrr = ReduceLROnPlateau(monitor='loss', min_lr=1e-3, factor=0.9, epsilon=0.001, patience=10, verbose=1)\n",
    "early_stop = EarlyStopping(monitor='loss', min_delta=1e-2, patience=10, verbose=1)\n",
    "\n",
    "model = Sequential()\n",
    "model.add(Dense(50, input_dim = 784, kernel_initializer='RandomUniform' , activation = 'relu'))\n",
    "for _ in range(50):\n",
    "    model.add(Dense(50, kernel_initializer='RandomUniform' ,activation = 'softmax'))\n",
    "model.add(Dense(10, activation = 'softmax'))\n",
    "model.compile(loss = 'categorical_crossentropy', optimizer='adam', metrics= ['accuracy'])\n",
    "%time model.summary()"
   ]
  },
  {
   "cell_type": "code",
   "execution_count": 8,
   "metadata": {},
   "outputs": [
    {
     "name": "stdout",
     "output_type": "stream",
     "text": [
      "Train on 54000 samples, validate on 6000 samples\n",
      "Epoch 1/20\n",
      "54000/54000 [==============================] - 38s - loss: 2.3016 - acc: 0.1105 - val_loss: 2.3016 - val_acc: 0.1132\n",
      "Epoch 2/20\n",
      "54000/54000 [==============================] - 36s - loss: 2.3014 - acc: 0.1123 - val_loss: 2.3013 - val_acc: 0.1132\n",
      "Epoch 3/20\n",
      "54000/54000 [==============================] - 35s - loss: 2.3014 - acc: 0.1123 - val_loss: 2.3016 - val_acc: 0.1132\n",
      "Epoch 4/20\n",
      "54000/54000 [==============================] - 35s - loss: 2.3015 - acc: 0.1123 - val_loss: 2.3014 - val_acc: 0.1132\n",
      "Epoch 5/20\n",
      "54000/54000 [==============================] - 35s - loss: 2.3014 - acc: 0.1123 - val_loss: 2.3011 - val_acc: 0.1132\n",
      "Epoch 6/20\n",
      "54000/54000 [==============================] - 35s - loss: 2.3014 - acc: 0.1123 - val_loss: 2.3016 - val_acc: 0.1132\n",
      "Epoch 7/20\n",
      "54000/54000 [==============================] - 35s - loss: 2.3014 - acc: 0.1123 - val_loss: 2.3013 - val_acc: 0.1132\n",
      "Epoch 8/20\n",
      "54000/54000 [==============================] - 35s - loss: 2.3014 - acc: 0.1123 - val_loss: 2.3015 - val_acc: 0.1132\n",
      "Epoch 9/20\n",
      "54000/54000 [==============================] - 35s - loss: 2.3014 - acc: 0.1123 - val_loss: 2.3016 - val_acc: 0.1132\n",
      "Epoch 10/20\n",
      "54000/54000 [==============================] - 37s - loss: 2.3014 - acc: 0.1123 - val_loss: 2.3015 - val_acc: 0.1132\n",
      "Epoch 11/20\n",
      "54000/54000 [==============================] - 35s - loss: 2.3014 - acc: 0.1123 - val_loss: 2.3016 - val_acc: 0.1132\n",
      "Epoch 12/20\n",
      "54000/54000 [==============================] - 35s - loss: 2.3015 - acc: 0.1123 - val_loss: 2.3012 - val_acc: 0.1132\n",
      "Epoch 13/20\n",
      "54000/54000 [==============================] - 36s - loss: 2.3014 - acc: 0.1123 - val_loss: 2.3014 - val_acc: 0.1132\n",
      "Epoch 14/20\n",
      "54000/54000 [==============================] - 35s - loss: 2.3014 - acc: 0.1123 - val_loss: 2.3013 - val_acc: 0.1132\n",
      "Epoch 15/20\n",
      "54000/54000 [==============================] - 36s - loss: 2.3014 - acc: 0.1123 - val_loss: 2.3015 - val_acc: 0.1132\n",
      "Epoch 16/20\n",
      "54000/54000 [==============================] - 35s - loss: 2.3014 - acc: 0.1123 - val_loss: 2.3012 - val_acc: 0.1132\n",
      "Epoch 17/20\n",
      "54000/54000 [==============================] - 36s - loss: 2.3014 - acc: 0.1123 - val_loss: 2.3014 - val_acc: 0.1132\n",
      "Epoch 18/20\n",
      "54000/54000 [==============================] - 36s - loss: 2.3013 - acc: 0.1123 - val_loss: 2.3012 - val_acc: 0.1132\n",
      "Epoch 19/20\n",
      "54000/54000 [==============================] - 36s - loss: 2.3014 - acc: 0.1123 - val_loss: 2.3014 - val_acc: 0.1132\n",
      "Epoch 20/20\n",
      "54000/54000 [==============================] - 36s - loss: 2.3014 - acc: 0.1123 - val_loss: 2.3014 - val_acc: 0.1132\n"
     ]
    },
    {
     "data": {
      "text/plain": [
       "<keras.callbacks.History at 0x1b306be5668>"
      ]
     },
     "execution_count": 8,
     "metadata": {},
     "output_type": "execute_result"
    }
   ],
   "source": [
    "model.fit(x_train, y_train, epochs=20,\n",
    "          batch_size=64, validation_split=0.1)"
   ]
  },
  {
   "cell_type": "code",
   "execution_count": 9,
   "metadata": {},
   "outputs": [
    {
     "name": "stdout",
     "output_type": "stream",
     "text": [
      " 9952/10000 [============================>.] - ETA: 0s"
     ]
    },
    {
     "data": {
      "text/plain": [
       "[2.3012709465026857, 0.1135]"
      ]
     },
     "execution_count": 9,
     "metadata": {},
     "output_type": "execute_result"
    }
   ],
   "source": [
    "model.evaluate(x_test, y_test)"
   ]
  },
  {
   "cell_type": "code",
   "execution_count": null,
   "metadata": {
    "collapsed": true
   },
   "outputs": [],
   "source": []
  }
 ],
 "metadata": {
  "kernelspec": {
   "display_name": "Python 3",
   "language": "python",
   "name": "python3"
  },
  "language_info": {
   "codemirror_mode": {
    "name": "ipython",
    "version": 3
   },
   "file_extension": ".py",
   "mimetype": "text/x-python",
   "name": "python",
   "nbconvert_exporter": "python",
   "pygments_lexer": "ipython3",
   "version": "3.6.1"
  }
 },
 "nbformat": 4,
 "nbformat_minor": 2
}
