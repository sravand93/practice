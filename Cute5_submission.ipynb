{
 "cells": [
  {
   "cell_type": "code",
   "execution_count": 1,
   "metadata": {},
   "outputs": [
    {
     "name": "stderr",
     "output_type": "stream",
     "text": [
      "Using TensorFlow backend.\n"
     ]
    }
   ],
   "source": [
    "# Import all the necessary libraries\n",
    "import numpy as np\n",
    "import pandas as pd\n",
    "from keras.layers import Dense,LSTM,SimpleRNN, Embedding\n",
    "from keras.models import Sequential\n",
    "from keras.utils.np_utils import to_categorical"
   ]
  },
  {
   "cell_type": "markdown",
   "metadata": {},
   "source": [
    "Read train and test data"
   ]
  },
  {
   "cell_type": "code",
   "execution_count": 2,
   "metadata": {
    "collapsed": true
   },
   "outputs": [],
   "source": [
    "train_data = pd.read_csv(\"E:\\\\INSOFE\\\\AI and Deep Learning\\\\Cute5\\\\train.csv\")\n",
    "test_data = pd.read_csv(\"E:\\\\INSOFE\\\\AI and Deep Learning\\\\Cute5\\\\test.csv\")"
   ]
  },
  {
   "cell_type": "code",
   "execution_count": 3,
   "metadata": {},
   "outputs": [
    {
     "name": "stdout",
     "output_type": "stream",
     "text": [
      "(48699, 2)\n",
      "(8581, 1)\n"
     ]
    }
   ],
   "source": [
    "print(train_data.shape)\n",
    "print(test_data.shape)"
   ]
  },
  {
   "cell_type": "code",
   "execution_count": 4,
   "metadata": {},
   "outputs": [
    {
     "name": "stdout",
     "output_type": "stream",
     "text": [
      "categories    object\n",
      "converse      object\n",
      "dtype: object\n",
      "converse    object\n",
      "dtype: object\n"
     ]
    }
   ],
   "source": [
    "print(train_data.dtypes)\n",
    "print(test_data.dtypes)"
   ]
  },
  {
   "cell_type": "markdown",
   "metadata": {},
   "source": [
    "## converting converse variable to string"
   ]
  },
  {
   "cell_type": "code",
   "execution_count": 5,
   "metadata": {},
   "outputs": [],
   "source": [
    "train_data.converse =train_data.converse.astype(\"str\")\n",
    "test_data.converse= test_data.converse.astype(\"str\")"
   ]
  },
  {
   "cell_type": "code",
   "execution_count": 6,
   "metadata": {},
   "outputs": [
    {
     "data": {
      "text/plain": [
       "categories    object\n",
       "converse      object\n",
       "dtype: object"
      ]
     },
     "execution_count": 6,
     "metadata": {},
     "output_type": "execute_result"
    }
   ],
   "source": [
    "train_data.dtypes"
   ]
  },
  {
   "cell_type": "code",
   "execution_count": 7,
   "metadata": {},
   "outputs": [
    {
     "name": "stdout",
     "output_type": "stream",
     "text": [
      "47265\n"
     ]
    }
   ],
   "source": [
    "char_to_idx = {ch: i for (i, ch) in enumerate(sorted(list(set(train_data.converse))))}\n",
    "print(len(char_to_idx))"
   ]
  },
  {
   "cell_type": "code",
   "execution_count": 8,
   "metadata": {},
   "outputs": [
    {
     "name": "stdout",
     "output_type": "stream",
     "text": [
      "(48699, 50) (8581, 50)\n"
     ]
    }
   ],
   "source": [
    "from keras.preprocessing.text import Tokenizer\n",
    "from keras.preprocessing.sequence import pad_sequences\n",
    "\n",
    "tokenizer = Tokenizer(num_words=10000)\n",
    "tokenizer.fit_on_texts(train_data.converse)\n",
    "\n",
    "train_x = tokenizer.texts_to_sequences(train_data.converse)\n",
    "train_x = pad_sequences(train_x, maxlen=50)\n",
    "test_x = tokenizer.texts_to_sequences(test_data.converse)\n",
    "test_x = pad_sequences(test_x, maxlen=50)\n",
    "\n",
    "print(train_x.shape, test_x.shape)\n",
    "\n",
    "unique_labels = list(train_data.categories.unique())\n",
    "train_y = np.array([unique_labels.index(i) for i in train_data.categories])\n",
    "train_y = to_categorical(train_y)\n",
    "#test_y = np.array([unique_labels.index(i) for i in test_data.Label])\n",
    "#test_y = to_categorical(test_y)"
   ]
  },
  {
   "cell_type": "code",
   "execution_count": 13,
   "metadata": {
    "collapsed": true
   },
   "outputs": [],
   "source": [
    "test_x = tokenizer.texts_to_sequences(test_data.converse)\n",
    "test_x = pad_sequences(test_x, maxlen=50)"
   ]
  },
  {
   "cell_type": "markdown",
   "metadata": {},
   "source": [
    "## Creating the model"
   ]
  },
  {
   "cell_type": "code",
   "execution_count": 51,
   "metadata": {},
   "outputs": [
    {
     "data": {
      "text/plain": [
       "array([   0,    0,    0,    0,    0,    0,    0,    0,    0,    0,    0,\n",
       "          0,    0,    0,    0,   20,    1,  797,  127,    5,   15,    2,\n",
       "       1966,   39,   56, 1162,  138,    5,  131,  102,   20,    1,  797,\n",
       "        127,    5,   15,    2,   36,   43, 2901,   73,   21,    9, 1939,\n",
       "         21,   16,   56,  148,  427,   14])"
      ]
     },
     "execution_count": 51,
     "metadata": {},
     "output_type": "execute_result"
    }
   ],
   "source": [
    "train_x[0]"
   ]
  },
  {
   "cell_type": "code",
   "execution_count": 8,
   "metadata": {
    "collapsed": true
   },
   "outputs": [],
   "source": [
    "#train_x = train_x.reshape(48699,50,1)"
   ]
  },
  {
   "cell_type": "code",
   "execution_count": 9,
   "metadata": {},
   "outputs": [],
   "source": [
    "from keras.models import Sequential\n",
    "from keras.layers.recurrent import LSTM, SimpleRNN\n",
    "from keras.layers import Dense,Activation\n",
    "model = Sequential()\n",
    "model.add(Embedding(100000,128))\n",
    "model.add(LSTM(50, input_shape=(50, 1), return_sequences=True,dropout=0.1,recurrent_dropout=0.1))\n",
    "model.add(LSTM(100,return_sequences=False))\n",
    "model.add(Dense(21))\n",
    "model.add(Activation('softmax'))\n",
    "model.compile(loss='categorical_crossentropy',optimizer='adagrad',metrics=['accuracy'])"
   ]
  },
  {
   "cell_type": "code",
   "execution_count": 10,
   "metadata": {},
   "outputs": [
    {
     "name": "stdout",
     "output_type": "stream",
     "text": [
      "Epoch 1/10\n",
      "48699/48699 [==============================] - 535s - loss: 1.5190 - acc: 0.5361   \n",
      "Epoch 2/10\n",
      "48699/48699 [==============================] - 534s - loss: 1.2173 - acc: 0.6212   \n",
      "Epoch 3/10\n",
      "48699/48699 [==============================] - 534s - loss: 1.1313 - acc: 0.6474   \n",
      "Epoch 4/10\n",
      "48699/48699 [==============================] - 538s - loss: 1.0740 - acc: 0.6644   \n",
      "Epoch 5/10\n",
      "48699/48699 [==============================] - 561s - loss: 1.0298 - acc: 0.6800   \n",
      "Epoch 6/10\n",
      "48699/48699 [==============================] - 547s - loss: 0.9953 - acc: 0.6890   \n",
      "Epoch 7/10\n",
      "48699/48699 [==============================] - 556s - loss: 0.9615 - acc: 0.6996   \n",
      "Epoch 8/10\n",
      "48699/48699 [==============================] - 538s - loss: 0.9369 - acc: 0.7071   \n",
      "Epoch 9/10\n",
      "48699/48699 [==============================] - 538s - loss: 0.9117 - acc: 0.7155   \n",
      "Epoch 10/10\n",
      "48699/48699 [==============================] - 536s - loss: 0.8899 - acc: 0.7233   \n"
     ]
    },
    {
     "data": {
      "text/plain": [
       "<keras.callbacks.History at 0x2967256d588>"
      ]
     },
     "execution_count": 10,
     "metadata": {},
     "output_type": "execute_result"
    }
   ],
   "source": [
    "model.fit(train_x,train_y,epochs=10,batch_size=32)"
   ]
  },
  {
   "cell_type": "markdown",
   "metadata": {},
   "source": [
    "## predicting on the test data"
   ]
  },
  {
   "cell_type": "code",
   "execution_count": 14,
   "metadata": {},
   "outputs": [
    {
     "name": "stdout",
     "output_type": "stream",
     "text": [
      "8576/8581 [============================>.] - ETA: 0s"
     ]
    }
   ],
   "source": [
    "#test_x = test_x.reshape(8581,50,1)\n",
    "predict = model.predict_classes(test_x) "
   ]
  },
  {
   "cell_type": "code",
   "execution_count": 15,
   "metadata": {},
   "outputs": [
    {
     "data": {
      "text/plain": [
       "(8581,)"
      ]
     },
     "execution_count": 15,
     "metadata": {},
     "output_type": "execute_result"
    }
   ],
   "source": [
    "predict.shape"
   ]
  },
  {
   "cell_type": "code",
   "execution_count": 16,
   "metadata": {},
   "outputs": [
    {
     "data": {
      "text/plain": [
       "array([3, 1, 3, ..., 3, 4, 4], dtype=int64)"
      ]
     },
     "execution_count": 16,
     "metadata": {},
     "output_type": "execute_result"
    }
   ],
   "source": [
    "predict"
   ]
  },
  {
   "cell_type": "code",
   "execution_count": 17,
   "metadata": {},
   "outputs": [],
   "source": [
    "list = []\n",
    "for i in predict:\n",
    "    unique_labels[i]\n",
    "    list.append(unique_labels[i])\n",
    "    \n",
    "    \n"
   ]
  },
  {
   "cell_type": "code",
   "execution_count": 18,
   "metadata": {},
   "outputs": [],
   "source": [
    "predictions = pd.DataFrame(list)"
   ]
  },
  {
   "cell_type": "code",
   "execution_count": 104,
   "metadata": {},
   "outputs": [
    {
     "data": {
      "text/plain": [
       "'C:\\\\Users\\\\LENOVO'"
      ]
     },
     "execution_count": 104,
     "metadata": {},
     "output_type": "execute_result"
    }
   ],
   "source": [
    "import os\n",
    "os.getcwd()"
   ]
  },
  {
   "cell_type": "code",
   "execution_count": 19,
   "metadata": {},
   "outputs": [],
   "source": [
    "predictions.to_csv('predictions.csv')"
   ]
  },
  {
   "cell_type": "code",
   "execution_count": 90,
   "metadata": {},
   "outputs": [
    {
     "data": {
      "text/plain": [
       "'QUERIES FROM PHARMACY'"
      ]
     },
     "execution_count": 90,
     "metadata": {},
     "output_type": "execute_result"
    }
   ],
   "source": [
    "unique_labels[0]"
   ]
  },
  {
   "cell_type": "code",
   "execution_count": null,
   "metadata": {},
   "outputs": [],
   "source": []
  },
  {
   "cell_type": "code",
   "execution_count": null,
   "metadata": {},
   "outputs": [],
   "source": []
  }
 ],
 "metadata": {
  "kernelspec": {
   "display_name": "Python 3",
   "language": "python",
   "name": "python3"
  },
  "language_info": {
   "codemirror_mode": {
    "name": "ipython",
    "version": 3
   },
   "file_extension": ".py",
   "mimetype": "text/x-python",
   "name": "python",
   "nbconvert_exporter": "python",
   "pygments_lexer": "ipython3",
   "version": "3.6.1"
  }
 },
 "nbformat": 4,
 "nbformat_minor": 2
}
