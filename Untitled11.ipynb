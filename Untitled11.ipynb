{
 "cells": [
  {
   "cell_type": "code",
   "execution_count": 1,
   "metadata": {
    "collapsed": true
   },
   "outputs": [],
   "source": [
    "import os\n",
    "import re\n",
    "from bs4 import BeautifulSoup\n",
    "from sklearn.feature_extraction.text import CountVectorizer\n",
    "import numpy as np\n",
    "import pandas as pd\n",
    "from nltk.corpus import stopwords\n",
    "import nltk"
   ]
  },
  {
   "cell_type": "code",
   "execution_count": 2,
   "metadata": {
    "collapsed": true
   },
   "outputs": [],
   "source": [
    "os.chdir(\"E:\\\\INSOFE\")"
   ]
  },
  {
   "cell_type": "code",
   "execution_count": 6,
   "metadata": {},
   "outputs": [],
   "source": [
    "data = pd.read_csv(open('hospitaldata.csv','r'), encoding='utf-8', engine='c')"
   ]
  },
  {
   "cell_type": "code",
   "execution_count": 4,
   "metadata": {},
   "outputs": [
    {
     "data": {
      "text/html": [
       "<div>\n",
       "<style>\n",
       "    .dataframe thead tr:only-child th {\n",
       "        text-align: right;\n",
       "    }\n",
       "\n",
       "    .dataframe thead th {\n",
       "        text-align: left;\n",
       "    }\n",
       "\n",
       "    .dataframe tbody tr th {\n",
       "        vertical-align: top;\n",
       "    }\n",
       "</style>\n",
       "<table border=\"1\" class=\"dataframe\">\n",
       "  <thead>\n",
       "    <tr style=\"text-align: right;\">\n",
       "      <th></th>\n",
       "      <th>Unnamed: 0</th>\n",
       "      <th>summary</th>\n",
       "      <th>data</th>\n",
       "      <th>categories</th>\n",
       "      <th>sub_categories</th>\n",
       "      <th>appointment</th>\n",
       "    </tr>\n",
       "  </thead>\n",
       "  <tbody>\n",
       "    <tr>\n",
       "      <th>0</th>\n",
       "      <td>1</td>\n",
       "      <td>Pt aware that he needs ROV for refill</td>\n",
       "      <td>{\\rtf1\\ansi\\ftnbj{\\fonttbl{\\f0 \\fswiss Arial;}...</td>\n",
       "      <td>PRESCRIPTION</td>\n",
       "      <td>REFILL</td>\n",
       "      <td>No</td>\n",
       "    </tr>\n",
       "    <tr>\n",
       "      <th>1</th>\n",
       "      <td>2</td>\n",
       "      <td>Mom wants to know if the Focalin needs some do...</td>\n",
       "      <td>{\\rtf1\\ansi\\ftnbj{\\fonttbl{\\f0 \\fswiss Arial;}...</td>\n",
       "      <td>ASK_A_DOCTOR</td>\n",
       "      <td>MEDICATION RELATED</td>\n",
       "      <td>No</td>\n",
       "    </tr>\n",
       "    <tr>\n",
       "      <th>2</th>\n",
       "      <td>3</td>\n",
       "      <td>pt called to discuss nortryptiline. she says s...</td>\n",
       "      <td>xxxx-xxxx\\f0 \\fswiss Arial;}}{\\colortbl ;\\red2...</td>\n",
       "      <td>ASK_A_DOCTOR</td>\n",
       "      <td>MEDICATION RELATED</td>\n",
       "      <td>No</td>\n",
       "    </tr>\n",
       "    <tr>\n",
       "      <th>3</th>\n",
       "      <td>4</td>\n",
       "      <td>FYI Nortryptline medication.</td>\n",
       "      <td>xxxx-xxxx\\f0 \\fswiss Arial;}}{\\colortbl ;\\red2...</td>\n",
       "      <td>MISCELLANEOUS</td>\n",
       "      <td>OTHERS</td>\n",
       "      <td>No</td>\n",
       "    </tr>\n",
       "    <tr>\n",
       "      <th>4</th>\n",
       "      <td>5</td>\n",
       "      <td>Letter of patient establishment request</td>\n",
       "      <td>{\\rtf1\\ansi\\ftnbj{\\fonttbl{\\f0 \\fswiss Arial;}...</td>\n",
       "      <td>MISCELLANEOUS</td>\n",
       "      <td>SHARING OF HEALTH RECORDS (FAX, E-MAIL, ETC.)</td>\n",
       "      <td>No</td>\n",
       "    </tr>\n",
       "  </tbody>\n",
       "</table>\n",
       "</div>"
      ],
      "text/plain": [
       "   Unnamed: 0                                            summary  \\\n",
       "0           1              Pt aware that he needs ROV for refill   \n",
       "1           2  Mom wants to know if the Focalin needs some do...   \n",
       "2           3  pt called to discuss nortryptiline. she says s...   \n",
       "3           4                       FYI Nortryptline medication.   \n",
       "4           5            Letter of patient establishment request   \n",
       "\n",
       "                                                data     categories  \\\n",
       "0  {\\rtf1\\ansi\\ftnbj{\\fonttbl{\\f0 \\fswiss Arial;}...   PRESCRIPTION   \n",
       "1  {\\rtf1\\ansi\\ftnbj{\\fonttbl{\\f0 \\fswiss Arial;}...   ASK_A_DOCTOR   \n",
       "2  xxxx-xxxx\\f0 \\fswiss Arial;}}{\\colortbl ;\\red2...   ASK_A_DOCTOR   \n",
       "3  xxxx-xxxx\\f0 \\fswiss Arial;}}{\\colortbl ;\\red2...  MISCELLANEOUS   \n",
       "4  {\\rtf1\\ansi\\ftnbj{\\fonttbl{\\f0 \\fswiss Arial;}...  MISCELLANEOUS   \n",
       "\n",
       "                                  sub_categories appointment  \n",
       "0                                         REFILL          No  \n",
       "1                             MEDICATION RELATED          No  \n",
       "2                             MEDICATION RELATED          No  \n",
       "3                                         OTHERS          No  \n",
       "4  SHARING OF HEALTH RECORDS (FAX, E-MAIL, ETC.)          No  "
      ]
     },
     "execution_count": 4,
     "metadata": {},
     "output_type": "execute_result"
    }
   ],
   "source": [
    "data.head()"
   ]
  },
  {
   "cell_type": "code",
   "execution_count": 29,
   "metadata": {},
   "outputs": [
    {
     "data": {
      "text/plain": [
       "(57280, 6)"
      ]
     },
     "execution_count": 29,
     "metadata": {},
     "output_type": "execute_result"
    }
   ],
   "source": [
    "data.shape"
   ]
  },
  {
   "cell_type": "code",
   "execution_count": 7,
   "metadata": {
    "collapsed": true
   },
   "outputs": [],
   "source": [
    "def raw_to_preprocessed( raw_review ):\n",
    "    # Function to convert a raw review to a string of words\n",
    "    # The input is a single string (a raw movie review), and \n",
    "    # the output is a single string (a preprocessed movie review\n",
    "    # 1. Remove HTML\n",
    "    review_text = BeautifulSoup(raw_review).get_text() \n",
    "    #\n",
    "    # 2. Remove non-letters        \n",
    "    letters_only = re.sub(\"[^a-zA-Z]\", \" \", review_text) \n",
    "    #\n",
    "    # 3. Convert to lower case, split into individual words\n",
    "    words = letters_only.lower().split()                             \n",
    "    #\n",
    "    # 4. In Python, searching a set is much faster than searching\n",
    "    #   a list, so convert the stop words to a set\n",
    "    stops = set(stopwords.words(\"english\"))                  \n",
    "    # \n",
    "    # 5. Remove stop words\n",
    "    meaningful_words = [w for w in words if not w in stops]   \n",
    "      # 6. Join the words back into one string separated by space, \n",
    "    # and return the result.\n",
    "    #processed_sentence = \" \".join(meaningful_words)\n",
    "    return(meaningful_words)"
   ]
  },
  {
   "cell_type": "code",
   "execution_count": 8,
   "metadata": {},
   "outputs": [
    {
     "data": {
      "text/plain": [
       "57280"
      ]
     },
     "execution_count": 8,
     "metadata": {},
     "output_type": "execute_result"
    }
   ],
   "source": [
    "num_reviews = data[\"summary\"].size\n",
    "num_reviews"
   ]
  },
  {
   "cell_type": "code",
   "execution_count": 9,
   "metadata": {},
   "outputs": [
    {
     "name": "stderr",
     "output_type": "stream",
     "text": [
      "E:\\Anaconda3\\lib\\site-packages\\bs4\\__init__.py:181: UserWarning: No parser was explicitly specified, so I'm using the best available HTML parser for this system (\"lxml\"). This usually isn't a problem, but if you run this code on another system, or in a different virtual environment, it may use a different parser and behave differently.\n",
      "\n",
      "The code that caused this warning is on line 193 of the file E:\\Anaconda3\\lib\\runpy.py. To get rid of this warning, change code that looks like this:\n",
      "\n",
      " BeautifulSoup(YOUR_MARKUP})\n",
      "\n",
      "to this:\n",
      "\n",
      " BeautifulSoup(YOUR_MARKUP, \"lxml\")\n",
      "\n",
      "  markup_type=markup_type))\n"
     ]
    },
    {
     "data": {
      "text/plain": [
       "['pt', 'aware', 'needs', 'rov', 'refill']"
      ]
     },
     "execution_count": 9,
     "metadata": {},
     "output_type": "execute_result"
    }
   ],
   "source": [
    "raw_to_preprocessed(data['summary'][0])"
   ]
  },
  {
   "cell_type": "code",
   "execution_count": 63,
   "metadata": {},
   "outputs": [
    {
     "data": {
      "text/plain": [
       "3349"
      ]
     },
     "execution_count": 63,
     "metadata": {},
     "output_type": "execute_result"
    }
   ],
   "source": [
    "data['summary'].isnull().sum()"
   ]
  },
  {
   "cell_type": "code",
   "execution_count": 13,
   "metadata": {},
   "outputs": [
    {
     "data": {
      "text/html": [
       "<div>\n",
       "<style>\n",
       "    .dataframe thead tr:only-child th {\n",
       "        text-align: right;\n",
       "    }\n",
       "\n",
       "    .dataframe thead th {\n",
       "        text-align: left;\n",
       "    }\n",
       "\n",
       "    .dataframe tbody tr th {\n",
       "        vertical-align: top;\n",
       "    }\n",
       "</style>\n",
       "<table border=\"1\" class=\"dataframe\">\n",
       "  <thead>\n",
       "    <tr style=\"text-align: right;\">\n",
       "      <th></th>\n",
       "      <th>Unnamed: 0</th>\n",
       "      <th>summary</th>\n",
       "      <th>data</th>\n",
       "      <th>categories</th>\n",
       "      <th>sub_categories</th>\n",
       "      <th>appointment</th>\n",
       "    </tr>\n",
       "  </thead>\n",
       "  <tbody>\n",
       "    <tr>\n",
       "      <th>10</th>\n",
       "      <td>11</td>\n",
       "      <td>NaN</td>\n",
       "      <td>xxxx-xxxx\\f0 \\fswiss Arial;}}{\\colortbl ;\\red2...</td>\n",
       "      <td>MISCELLANEOUS</td>\n",
       "      <td>OTHERS</td>\n",
       "      <td>No</td>\n",
       "    </tr>\n",
       "    <tr>\n",
       "      <th>36</th>\n",
       "      <td>37</td>\n",
       "      <td>NaN</td>\n",
       "      <td>xxxx-xxxx\\f0 \\fswiss Arial;}}{\\colortbl ;\\red2...</td>\n",
       "      <td>APPOINTMENTS</td>\n",
       "      <td>NEW APPOINTMENT</td>\n",
       "      <td>No</td>\n",
       "    </tr>\n",
       "    <tr>\n",
       "      <th>51</th>\n",
       "      <td>52</td>\n",
       "      <td>NaN</td>\n",
       "      <td>xxxx-xxxx\\f0 \\fswiss Arial;}}{\\colortbl ;\\red2...</td>\n",
       "      <td>MISCELLANEOUS</td>\n",
       "      <td>OTHERS</td>\n",
       "      <td>No</td>\n",
       "    </tr>\n",
       "    <tr>\n",
       "      <th>53</th>\n",
       "      <td>54</td>\n",
       "      <td>NaN</td>\n",
       "      <td>xxxx-xxxx\\f0 \\fswiss Arial;}}{\\colortbl ;\\red2...</td>\n",
       "      <td>MISCELLANEOUS</td>\n",
       "      <td>SHARING OF HEALTH RECORDS (FAX, E-MAIL, ETC.)</td>\n",
       "      <td>No</td>\n",
       "    </tr>\n",
       "    <tr>\n",
       "      <th>72</th>\n",
       "      <td>73</td>\n",
       "      <td>NaN</td>\n",
       "      <td>xxxx-xxxx\\f0 \\fswiss Arial;}}{\\colortbl ;\\red2...</td>\n",
       "      <td>PRESCRIPTION</td>\n",
       "      <td>PROVIDER</td>\n",
       "      <td>No</td>\n",
       "    </tr>\n",
       "  </tbody>\n",
       "</table>\n",
       "</div>"
      ],
      "text/plain": [
       "    Unnamed: 0 summary                                               data  \\\n",
       "10          11     NaN  xxxx-xxxx\\f0 \\fswiss Arial;}}{\\colortbl ;\\red2...   \n",
       "36          37     NaN  xxxx-xxxx\\f0 \\fswiss Arial;}}{\\colortbl ;\\red2...   \n",
       "51          52     NaN  xxxx-xxxx\\f0 \\fswiss Arial;}}{\\colortbl ;\\red2...   \n",
       "53          54     NaN  xxxx-xxxx\\f0 \\fswiss Arial;}}{\\colortbl ;\\red2...   \n",
       "72          73     NaN  xxxx-xxxx\\f0 \\fswiss Arial;}}{\\colortbl ;\\red2...   \n",
       "\n",
       "       categories                                 sub_categories appointment  \n",
       "10  MISCELLANEOUS                                         OTHERS          No  \n",
       "36   APPOINTMENTS                                NEW APPOINTMENT          No  \n",
       "51  MISCELLANEOUS                                         OTHERS          No  \n",
       "53  MISCELLANEOUS  SHARING OF HEALTH RECORDS (FAX, E-MAIL, ETC.)          No  \n",
       "72   PRESCRIPTION                                       PROVIDER          No  "
      ]
     },
     "execution_count": 13,
     "metadata": {},
     "output_type": "execute_result"
    }
   ],
   "source": [
    "nulls =data[data['summary'].isnull()]\n",
    "nulls.head()"
   ]
  },
  {
   "cell_type": "code",
   "execution_count": 22,
   "metadata": {},
   "outputs": [
    {
     "data": {
      "text/html": [
       "<div>\n",
       "<style>\n",
       "    .dataframe thead tr:only-child th {\n",
       "        text-align: right;\n",
       "    }\n",
       "\n",
       "    .dataframe thead th {\n",
       "        text-align: left;\n",
       "    }\n",
       "\n",
       "    .dataframe tbody tr th {\n",
       "        vertical-align: top;\n",
       "    }\n",
       "</style>\n",
       "<table border=\"1\" class=\"dataframe\">\n",
       "  <thead>\n",
       "    <tr style=\"text-align: right;\">\n",
       "      <th></th>\n",
       "      <th>Unnamed: 0</th>\n",
       "      <th>summary</th>\n",
       "      <th>data</th>\n",
       "      <th>categories</th>\n",
       "      <th>sub_categories</th>\n",
       "      <th>appointment</th>\n",
       "    </tr>\n",
       "  </thead>\n",
       "  <tbody>\n",
       "    <tr>\n",
       "      <th>14128</th>\n",
       "      <td>14129</td>\n",
       "      <td>NaN</td>\n",
       "      <td>xxxx-xxxx\\f0 \\fswiss Arial;}}{\\colortbl ;\\red2...</td>\n",
       "      <td>MISCELLANEOUS</td>\n",
       "      <td>OTHERS</td>\n",
       "      <td>NaN</td>\n",
       "    </tr>\n",
       "    <tr>\n",
       "      <th>16569</th>\n",
       "      <td>16570</td>\n",
       "      <td>? medicate prior to injection on Friday</td>\n",
       "      <td>xxxx-xxxx\\f0 \\fswiss Arial;}}{\\colortbl ;\\red2...</td>\n",
       "      <td>MISCELLANEOUS</td>\n",
       "      <td>OTHERS</td>\n",
       "      <td>NaN</td>\n",
       "    </tr>\n",
       "  </tbody>\n",
       "</table>\n",
       "</div>"
      ],
      "text/plain": [
       "       Unnamed: 0                                  summary  \\\n",
       "14128       14129                                      NaN   \n",
       "16569       16570  ? medicate prior to injection on Friday   \n",
       "\n",
       "                                                    data     categories  \\\n",
       "14128  xxxx-xxxx\\f0 \\fswiss Arial;}}{\\colortbl ;\\red2...  MISCELLANEOUS   \n",
       "16569  xxxx-xxxx\\f0 \\fswiss Arial;}}{\\colortbl ;\\red2...  MISCELLANEOUS   \n",
       "\n",
       "      sub_categories appointment  \n",
       "14128         OTHERS         NaN  \n",
       "16569         OTHERS         NaN  "
      ]
     },
     "execution_count": 22,
     "metadata": {},
     "output_type": "execute_result"
    }
   ],
   "source": [
    "#removing the na values\n",
    "data[data[\"appointment\"].isnull()]"
   ]
  },
  {
   "cell_type": "code",
   "execution_count": 30,
   "metadata": {},
   "outputs": [],
   "source": [
    "data.dropna(subset=['summary'],inplace = True)"
   ]
  },
  {
   "cell_type": "code",
   "execution_count": 34,
   "metadata": {},
   "outputs": [
    {
     "data": {
      "text/plain": [
       "No     38813\n",
       "NO     14924\n",
       "Yes      175\n",
       "YES       17\n",
       "yes        1\n",
       "Name: appointment, dtype: int64"
      ]
     },
     "execution_count": 34,
     "metadata": {},
     "output_type": "execute_result"
    }
   ],
   "source": [
    "data.appointment.value_counts()"
   ]
  },
  {
   "cell_type": "code",
   "execution_count": 35,
   "metadata": {
    "collapsed": true
   },
   "outputs": [],
   "source": [
    " words = data[\"data\"][1].lower().split() "
   ]
  },
  {
   "cell_type": "code",
   "execution_count": 36,
   "metadata": {},
   "outputs": [
    {
     "data": {
      "text/plain": [
       "['{\\\\rtf1\\\\ansi\\\\ftnbj{\\\\fonttbl{\\\\f0',\n",
       " '\\\\fswiss',\n",
       " 'arial;}}{\\\\colortbl',\n",
       " ';\\\\red255\\\\green255\\\\blue255',\n",
       " ';\\\\red0\\\\green0\\\\blue255',\n",
       " ';\\\\red0\\\\green0\\\\blue0',\n",
       " ';\\\\red0\\\\green0\\\\blue255',\n",
       " ';\\\\red0\\\\green128\\\\blue0',\n",
       " ';}{\\\\stylesheet{\\\\f0\\\\fs20\\\\cf3\\\\cb1',\n",
       " 'normal;}{\\\\cs1\\\\additive\\\\cf3\\\\cb1',\n",
       " 'default',\n",
       " 'paragraph',\n",
       " 'font;}}\\\\margl1440\\\\margr1440\\\\margt540\\\\margb1440\\\\headery540\\\\footery720\\\\formshade\\\\sectd\\\\marglsxn1440\\\\margrsxn1440\\\\margtsxn540\\\\margbsxn1440\\\\headery540\\\\footery720\\\\sbkpage\\\\pgncont\\\\plain\\\\plain\\\\fs20\\\\pard\\\\plain\\\\fs20\\\\cf0\\\\fs24\\\\sscharaux1\\\\b',\n",
       " 'phone',\n",
       " 'note',\n",
       " '\\\\fs20\\\\b0\\\\par\\\\b\\\\par',\n",
       " 'call',\n",
       " 'patient',\n",
       " 'back',\n",
       " 'at:\\\\par\\\\b0',\n",
       " 'cell',\n",
       " 'phonexxxx-xxxx\\\\par\\\\fs24\\\\b\\\\par',\n",
       " 'call',\n",
       " 'from',\n",
       " 'patient\\\\par\\\\fs20',\n",
       " 'caller',\n",
       " 'name:',\n",
       " '\\\\b0xxxx-xxxx',\n",
       " 'caller:',\n",
       " '\\\\b0',\n",
       " 'patient\\\\par\\\\par\\\\fs24\\\\b',\n",
       " 'other',\n",
       " '\\\\fs20\\\\b0\\\\par',\n",
       " \"pt's\",\n",
       " 'school',\n",
       " 'teacher',\n",
       " 'is',\n",
       " 'reporting',\n",
       " 'pt',\n",
       " 'is',\n",
       " 'not',\n",
       " 'able',\n",
       " 'to',\n",
       " 'sit',\n",
       " 'still,',\n",
       " 'mom',\n",
       " 'wants',\n",
       " 'to',\n",
       " 'know',\n",
       " 'if',\n",
       " 'the',\n",
       " 'focalin',\n",
       " 'needs',\n",
       " 'some',\n",
       " 'dosage',\n",
       " 'adjusting,',\n",
       " 'and/or',\n",
       " 'is',\n",
       " 'there',\n",
       " 'something',\n",
       " 'pt',\n",
       " 'could',\n",
       " 'take',\n",
       " 'that',\n",
       " 'the',\n",
       " 'school',\n",
       " 'staff',\n",
       " 'could',\n",
       " 'administer?',\n",
       " 'please',\n",
       " 'call',\n",
       " 'back',\n",
       " 'to',\n",
       " 'discuss.',\n",
       " '\\\\par\\\\b',\n",
       " 'call',\n",
       " 'taken',\n",
       " 'by:',\n",
       " '\\\\b0',\n",
       " 'xxxx-xxxx',\n",
       " ',',\n",
       " 'may',\n",
       " '12,',\n",
       " '2015',\n",
       " '1:42',\n",
       " 'pm\\\\par\\\\b',\n",
       " 'follow-up',\n",
       " 'details:',\n",
       " '\\\\b0',\n",
       " 'mom',\n",
       " 'sts',\n",
       " 'patient',\n",
       " 'is',\n",
       " 'having',\n",
       " 'alot',\n",
       " 'of',\n",
       " 'issues',\n",
       " 'with',\n",
       " 'meds,',\n",
       " 'and',\n",
       " 'effectiveness.',\n",
       " 'lov',\n",
       " '1-27-15,',\n",
       " '3-19-15',\n",
       " 'rescheduled',\n",
       " 'to',\n",
       " '4-28-15',\n",
       " 'and',\n",
       " 'that',\n",
       " 'was',\n",
       " 'a',\n",
       " 'no',\n",
       " 'show.',\n",
       " 'mom',\n",
       " 'apologized',\n",
       " 'for',\n",
       " 'the',\n",
       " 'no',\n",
       " 'show.',\n",
       " 'she',\n",
       " 'sts',\n",
       " 'they',\n",
       " 'disconnected',\n",
       " 'the',\n",
       " 'home',\n",
       " 'number',\n",
       " 'and',\n",
       " 'only',\n",
       " 'use',\n",
       " 'the',\n",
       " 'cell.',\n",
       " 'appt',\n",
       " 'scheduled',\n",
       " 'for',\n",
       " '5-14-15',\n",
       " 'at',\n",
       " '10.',\n",
       " 'advd',\n",
       " 'to',\n",
       " 'be',\n",
       " 'here',\n",
       " 'at',\n",
       " '945.\\\\par\\\\b',\n",
       " 'action',\n",
       " 'taken:',\n",
       " '\\\\b0',\n",
       " 'phone',\n",
       " 'call',\n",
       " 'completed,',\n",
       " 'appt',\n",
       " 'scheduled\\\\par\\\\b',\n",
       " 'follow-up',\n",
       " 'by:',\n",
       " '\\\\b0',\n",
       " 'marcia',\n",
       " 'richardson',\n",
       " 'lpn',\n",
       " ',',\n",
       " 'may',\n",
       " '12,',\n",
       " '2015',\n",
       " '4:18',\n",
       " 'pm\\\\par\\\\plain\\\\fs20\\\\par\\\\cf3\\\\par\\\\plain\\\\fs20\\\\par}']"
      ]
     },
     "execution_count": 36,
     "metadata": {},
     "output_type": "execute_result"
    }
   ],
   "source": [
    "words"
   ]
  },
  {
   "cell_type": "code",
   "execution_count": 26,
   "metadata": {
    "collapsed": true
   },
   "outputs": [],
   "source": [
    "process = data[\"summary\"]"
   ]
  },
  {
   "cell_type": "code",
   "execution_count": 41,
   "metadata": {},
   "outputs": [
    {
     "name": "stderr",
     "output_type": "stream",
     "text": [
      "E:\\Anaconda3\\lib\\site-packages\\bs4\\__init__.py:181: UserWarning: No parser was explicitly specified, so I'm using the best available HTML parser for this system (\"lxml\"). This usually isn't a problem, but if you run this code on another system, or in a different virtual environment, it may use a different parser and behave differently.\n",
      "\n",
      "The code that caused this warning is on line 193 of the file E:\\Anaconda3\\lib\\runpy.py. To get rid of this warning, change code that looks like this:\n",
      "\n",
      " BeautifulSoup(YOUR_MARKUP})\n",
      "\n",
      "to this:\n",
      "\n",
      " BeautifulSoup(YOUR_MARKUP, \"lxml\")\n",
      "\n",
      "  markup_type=markup_type))\n"
     ]
    }
   ],
   "source": [
    "dummy = []\n",
    "for i in range (0,3):\n",
    "    dummy.append(raw_to_preprocessed(data[\"summary\"][i]))"
   ]
  },
  {
   "cell_type": "code",
   "execution_count": 43,
   "metadata": {},
   "outputs": [
    {
     "data": {
      "text/plain": [
       "['mom', 'wants', 'know', 'focalin', 'needs', 'dosage', 'adjusting']"
      ]
     },
     "execution_count": 43,
     "metadata": {},
     "output_type": "execute_result"
    }
   ],
   "source": [
    "dummy[1]"
   ]
  },
  {
   "cell_type": "code",
   "execution_count": 45,
   "metadata": {
    "collapsed": true
   },
   "outputs": [],
   "source": [
    "def hasNumbers(input_string):\n",
    "    return bool(re.search(r'\\d', inputString))"
   ]
  },
  {
   "cell_type": "code",
   "execution_count": 46,
   "metadata": {},
   "outputs": [
    {
     "ename": "NameError",
     "evalue": "name 'inputString' is not defined",
     "output_type": "error",
     "traceback": [
      "\u001b[1;31m---------------------------------------------------------------------------\u001b[0m",
      "\u001b[1;31mNameError\u001b[0m                                 Traceback (most recent call last)",
      "\u001b[1;32m<ipython-input-46-13fa1999e70c>\u001b[0m in \u001b[0;36m<module>\u001b[1;34m()\u001b[0m\n\u001b[1;32m----> 1\u001b[1;33m \u001b[0mhasNumbers\u001b[0m\u001b[1;33m(\u001b[0m\u001b[0mdata\u001b[0m\u001b[1;33m[\u001b[0m\u001b[1;34m'summary'\u001b[0m\u001b[1;33m]\u001b[0m\u001b[1;33m[\u001b[0m\u001b[1;36m1\u001b[0m\u001b[1;33m]\u001b[0m\u001b[1;33m)\u001b[0m\u001b[1;33m\u001b[0m\u001b[0m\n\u001b[0m",
      "\u001b[1;32m<ipython-input-45-e79d81b17395>\u001b[0m in \u001b[0;36mhasNumbers\u001b[1;34m(input_string)\u001b[0m\n\u001b[0;32m      1\u001b[0m \u001b[1;32mdef\u001b[0m \u001b[0mhasNumbers\u001b[0m\u001b[1;33m(\u001b[0m\u001b[0minput_string\u001b[0m\u001b[1;33m)\u001b[0m\u001b[1;33m:\u001b[0m\u001b[1;33m\u001b[0m\u001b[0m\n\u001b[1;32m----> 2\u001b[1;33m     \u001b[1;32mreturn\u001b[0m \u001b[0mbool\u001b[0m\u001b[1;33m(\u001b[0m\u001b[0mre\u001b[0m\u001b[1;33m.\u001b[0m\u001b[0msearch\u001b[0m\u001b[1;33m(\u001b[0m\u001b[1;34mr'\\d'\u001b[0m\u001b[1;33m,\u001b[0m \u001b[0minputString\u001b[0m\u001b[1;33m)\u001b[0m\u001b[1;33m)\u001b[0m\u001b[1;33m\u001b[0m\u001b[0m\n\u001b[0m",
      "\u001b[1;31mNameError\u001b[0m: name 'inputString' is not defined"
     ]
    }
   ],
   "source": [
    "hasNumbers(data['summary'][1])"
   ]
  },
  {
   "cell_type": "code",
   "execution_count": 44,
   "metadata": {},
   "outputs": [
    {
     "name": "stdout",
     "output_type": "stream",
     "text": [
      "no.of rows reviews processed: 0\n"
     ]
    },
    {
     "name": "stderr",
     "output_type": "stream",
     "text": [
      "E:\\Anaconda3\\lib\\site-packages\\bs4\\__init__.py:181: UserWarning: No parser was explicitly specified, so I'm using the best available HTML parser for this system (\"lxml\"). This usually isn't a problem, but if you run this code on another system, or in a different virtual environment, it may use a different parser and behave differently.\n",
      "\n",
      "The code that caused this warning is on line 193 of the file E:\\Anaconda3\\lib\\runpy.py. To get rid of this warning, change code that looks like this:\n",
      "\n",
      " BeautifulSoup(YOUR_MARKUP})\n",
      "\n",
      "to this:\n",
      "\n",
      " BeautifulSoup(YOUR_MARKUP, \"lxml\")\n",
      "\n",
      "  markup_type=markup_type))\n"
     ]
    },
    {
     "ename": "TypeError",
     "evalue": "object of type 'float' has no len()",
     "output_type": "error",
     "traceback": [
      "\u001b[1;31m---------------------------------------------------------------------------\u001b[0m",
      "\u001b[1;31mTypeError\u001b[0m                                 Traceback (most recent call last)",
      "\u001b[1;32m<ipython-input-44-4754f050cf01>\u001b[0m in \u001b[0;36m<module>\u001b[1;34m()\u001b[0m\n\u001b[0;32m      3\u001b[0m     \u001b[1;32mif\u001b[0m \u001b[0mi\u001b[0m\u001b[1;33m%\u001b[0m\u001b[1;36m1000\u001b[0m \u001b[1;33m==\u001b[0m \u001b[1;36m0\u001b[0m\u001b[1;33m:\u001b[0m\u001b[1;33m\u001b[0m\u001b[0m\n\u001b[0;32m      4\u001b[0m         \u001b[0mprint\u001b[0m \u001b[1;33m(\u001b[0m\u001b[1;34m\"no.of rows reviews processed:\"\u001b[0m\u001b[1;33m,\u001b[0m\u001b[0mi\u001b[0m\u001b[1;33m)\u001b[0m\u001b[1;33m\u001b[0m\u001b[0m\n\u001b[1;32m----> 5\u001b[1;33m     \u001b[0mprocess\u001b[0m\u001b[1;33m.\u001b[0m\u001b[0mappend\u001b[0m\u001b[1;33m(\u001b[0m\u001b[0mraw_to_preprocessed\u001b[0m\u001b[1;33m(\u001b[0m\u001b[0mdata\u001b[0m\u001b[1;33m[\u001b[0m\u001b[1;34m'summary'\u001b[0m\u001b[1;33m]\u001b[0m\u001b[1;33m[\u001b[0m\u001b[0mi\u001b[0m\u001b[1;33m]\u001b[0m\u001b[1;33m)\u001b[0m\u001b[1;33m)\u001b[0m\u001b[1;33m\u001b[0m\u001b[0m\n\u001b[0m\u001b[0;32m      6\u001b[0m     \u001b[1;31m#processed_train_reviews.append(raw_to_preprocessed(data[\"summary\"][i]))\u001b[0m\u001b[1;33m\u001b[0m\u001b[1;33m\u001b[0m\u001b[0m\n",
      "\u001b[1;32m<ipython-input-36-d18294b0ebf0>\u001b[0m in \u001b[0;36mraw_to_preprocessed\u001b[1;34m(raw_review)\u001b[0m\n\u001b[0;32m      4\u001b[0m     \u001b[1;31m# the output is a single string (a preprocessed movie review\u001b[0m\u001b[1;33m\u001b[0m\u001b[1;33m\u001b[0m\u001b[0m\n\u001b[0;32m      5\u001b[0m     \u001b[1;31m# 1. Remove HTML\u001b[0m\u001b[1;33m\u001b[0m\u001b[1;33m\u001b[0m\u001b[0m\n\u001b[1;32m----> 6\u001b[1;33m     \u001b[0mreview_text\u001b[0m \u001b[1;33m=\u001b[0m \u001b[0mBeautifulSoup\u001b[0m\u001b[1;33m(\u001b[0m\u001b[0mraw_review\u001b[0m\u001b[1;33m)\u001b[0m\u001b[1;33m.\u001b[0m\u001b[0mget_text\u001b[0m\u001b[1;33m(\u001b[0m\u001b[1;33m)\u001b[0m\u001b[1;33m\u001b[0m\u001b[0m\n\u001b[0m\u001b[0;32m      7\u001b[0m     \u001b[1;31m#\u001b[0m\u001b[1;33m\u001b[0m\u001b[1;33m\u001b[0m\u001b[0m\n\u001b[0;32m      8\u001b[0m     \u001b[1;31m# 2. Remove non-letters\u001b[0m\u001b[1;33m\u001b[0m\u001b[1;33m\u001b[0m\u001b[0m\n",
      "\u001b[1;32mE:\\Anaconda3\\lib\\site-packages\\bs4\\__init__.py\u001b[0m in \u001b[0;36m__init__\u001b[1;34m(self, markup, features, builder, parse_only, from_encoding, exclude_encodings, **kwargs)\u001b[0m\n\u001b[0;32m    190\u001b[0m         \u001b[1;32mif\u001b[0m \u001b[0mhasattr\u001b[0m\u001b[1;33m(\u001b[0m\u001b[0mmarkup\u001b[0m\u001b[1;33m,\u001b[0m \u001b[1;34m'read'\u001b[0m\u001b[1;33m)\u001b[0m\u001b[1;33m:\u001b[0m        \u001b[1;31m# It's a file-type object.\u001b[0m\u001b[1;33m\u001b[0m\u001b[0m\n\u001b[0;32m    191\u001b[0m             \u001b[0mmarkup\u001b[0m \u001b[1;33m=\u001b[0m \u001b[0mmarkup\u001b[0m\u001b[1;33m.\u001b[0m\u001b[0mread\u001b[0m\u001b[1;33m(\u001b[0m\u001b[1;33m)\u001b[0m\u001b[1;33m\u001b[0m\u001b[0m\n\u001b[1;32m--> 192\u001b[1;33m         elif len(markup) <= 256 and (\n\u001b[0m\u001b[0;32m    193\u001b[0m                 \u001b[1;33m(\u001b[0m\u001b[0misinstance\u001b[0m\u001b[1;33m(\u001b[0m\u001b[0mmarkup\u001b[0m\u001b[1;33m,\u001b[0m \u001b[0mbytes\u001b[0m\u001b[1;33m)\u001b[0m \u001b[1;32mand\u001b[0m \u001b[1;32mnot\u001b[0m \u001b[1;34mb'<'\u001b[0m \u001b[1;32min\u001b[0m \u001b[0mmarkup\u001b[0m\u001b[1;33m)\u001b[0m\u001b[1;33m\u001b[0m\u001b[0m\n\u001b[0;32m    194\u001b[0m                 \u001b[1;32mor\u001b[0m \u001b[1;33m(\u001b[0m\u001b[0misinstance\u001b[0m\u001b[1;33m(\u001b[0m\u001b[0mmarkup\u001b[0m\u001b[1;33m,\u001b[0m \u001b[0mstr\u001b[0m\u001b[1;33m)\u001b[0m \u001b[1;32mand\u001b[0m \u001b[1;32mnot\u001b[0m \u001b[1;34m'<'\u001b[0m \u001b[1;32min\u001b[0m \u001b[0mmarkup\u001b[0m\u001b[1;33m)\u001b[0m\u001b[1;33m\u001b[0m\u001b[0m\n",
      "\u001b[1;31mTypeError\u001b[0m: object of type 'float' has no len()"
     ]
    }
   ],
   "source": [
    "process=[]\n",
    "for i in range (0,num_reviews):\n",
    "    if i%1000 == 0:\n",
    "        print (\"no.of rows reviews processed:\",i)\n",
    "    process.append(raw_to_preprocessed(data['summary'][i]))\n",
    "    #processed_train_reviews.append(raw_to_preprocessed(data[\"summary\"][i]))"
   ]
  },
  {
   "cell_type": "code",
   "execution_count": 17,
   "metadata": {},
   "outputs": [
    {
     "data": {
      "text/plain": [
       "MEDICATION RELATED                               10598\n",
       "NEW APPOINTMENT                                  10478\n",
       "REFILL                                            9819\n",
       "OTHERS                                            7356\n",
       "SHARING OF HEALTH RECORDS (FAX, E-MAIL, ETC.)     3550\n",
       "LAB RESULTS                                       2650\n",
       "PROVIDER                                          1972\n",
       "QUERIES FROM PHARMACY                             1722\n",
       "RESCHEDULING                                      1626\n",
       "SHARING OF LAB RECORDS (FAX, E-MAIL, ETC.)        1425\n",
       "PRIOR AUTHORIZATION                               1226\n",
       "SYMPTOMS                                          1201\n",
       "CHANGE OF PROVIDER                                 953\n",
       "RUNNING LATE TO APPOINTMENT                        694\n",
       "CANCELLATION                                       663\n",
       "QUERY ON CURRENT APPOINTMENT                       657\n",
       "FOLLOW UP ON PREVIOUS REQUEST                      357\n",
       "CHANGE OF HOSPITAL                                 149\n",
       "QUERIES FROM INSURANCE FIRM                        107\n",
       "CHANGE OF PHARMACY                                  55\n",
       "JUNK                                                21\n",
       "mEDICATION RELATED                                   1\n",
       "Name: sub_categories, dtype: int64"
      ]
     },
     "execution_count": 17,
     "metadata": {},
     "output_type": "execute_result"
    }
   ],
   "source": [
    "data.sub_categories.value_counts()"
   ]
  }
 ],
 "metadata": {
  "kernelspec": {
   "display_name": "Python 3",
   "language": "python",
   "name": "python3"
  },
  "language_info": {
   "codemirror_mode": {
    "name": "ipython",
    "version": 3
   },
   "file_extension": ".py",
   "mimetype": "text/x-python",
   "name": "python",
   "nbconvert_exporter": "python",
   "pygments_lexer": "ipython3",
   "version": "3.6.1"
  }
 },
 "nbformat": 4,
 "nbformat_minor": 2
}
