{
 "cells": [
  {
   "cell_type": "markdown",
   "metadata": {},
   "source": [
    "# Guliford_Data_Model_building\n"
   ]
  },
  {
   "cell_type": "code",
   "execution_count": 1,
   "metadata": {},
   "outputs": [
    {
     "name": "stderr",
     "output_type": "stream",
     "text": [
      "E:\\Anaconda3\\lib\\site-packages\\gensim\\utils.py:860: UserWarning: detected Windows; aliasing chunkize to chunkize_serial\n",
      "  warnings.warn(\"detected Windows; aliasing chunkize to chunkize_serial\")\n",
      "Using TensorFlow backend.\n"
     ]
    }
   ],
   "source": [
    "#Import all the necessary libraries\n",
    "import os\n",
    "import numpy as np\n",
    "import pandas as pd\n",
    "from bs4 import BeautifulSoup\n",
    "import matplotlib.pyplot as plt\n",
    "import seaborn as sns \n",
    "from io import StringIO\n",
    "import nltk\n",
    "import re\n",
    "import time\n",
    "import gensim \n",
    "from gensim import corpora, models, similarities\n",
    "from keras.models import Sequential\n",
    "from keras.layers.recurrent import LSTM,SimpleRNN\n",
    "import nltk\n",
    "from nltk.corpus import stopwords \n",
    "import pickle\n",
    "from keras.models import load_model\n",
    "import warnings\n",
    "warnings.filterwarnings(\"ignore\")"
   ]
  },
  {
   "cell_type": "markdown",
   "metadata": {},
   "source": [
    "# Setting Working directory"
   ]
  },
  {
   "cell_type": "code",
   "execution_count": 2,
   "metadata": {
    "collapsed": true
   },
   "outputs": [],
   "source": [
    "#os.chdir(\"D:/VINODKUMAR/NLP CLASSIFICATION PROJECT/SHASTER-2/SHASTER\")\n",
    "os.chdir(\"E:/AV\")"
   ]
  },
  {
   "cell_type": "code",
   "execution_count": 3,
   "metadata": {
    "collapsed": true
   },
   "outputs": [],
   "source": [
    "actual_data=pd.read_csv(\"new_Guliford_data.csv\",header=0)"
   ]
  },
  {
   "cell_type": "code",
   "execution_count": null,
   "metadata": {
    "collapsed": true
   },
   "outputs": [],
   "source": []
  },
  {
   "cell_type": "code",
   "execution_count": 4,
   "metadata": {},
   "outputs": [
    {
     "data": {
      "text/html": [
       "<div>\n",
       "<style scoped>\n",
       "    .dataframe tbody tr th:only-of-type {\n",
       "        vertical-align: middle;\n",
       "    }\n",
       "\n",
       "    .dataframe tbody tr th {\n",
       "        vertical-align: top;\n",
       "    }\n",
       "\n",
       "    .dataframe thead th {\n",
       "        text-align: right;\n",
       "    }\n",
       "</style>\n",
       "<table border=\"1\" class=\"dataframe\">\n",
       "  <thead>\n",
       "    <tr style=\"text-align: right;\">\n",
       "      <th></th>\n",
       "      <th>Unnamed: 0</th>\n",
       "      <th>FileID</th>\n",
       "      <th>clientid</th>\n",
       "      <th>PID</th>\n",
       "      <th>SUMMARY</th>\n",
       "      <th>DATA</th>\n",
       "      <th>Categories1</th>\n",
       "      <th>Sub_categories1</th>\n",
       "      <th>Previous_Appointment</th>\n",
       "      <th>pre_data</th>\n",
       "    </tr>\n",
       "  </thead>\n",
       "  <tbody>\n",
       "    <tr>\n",
       "      <th>0</th>\n",
       "      <td>0</td>\n",
       "      <td>92824</td>\n",
       "      <td>1004</td>\n",
       "      <td>1.750262e+15</td>\n",
       "      <td>NaN</td>\n",
       "      <td>{\\rtf1\\ansi\\ftnbj{\\fonttbl{\\f0 \\fswiss Arial;}...</td>\n",
       "      <td>ASK_A_DOCTOR</td>\n",
       "      <td>MEDICATION RELATED</td>\n",
       "      <td>No</td>\n",
       "      <td>Call from Patient Summary of Call Some better ...</td>\n",
       "    </tr>\n",
       "    <tr>\n",
       "      <th>1</th>\n",
       "      <td>1</td>\n",
       "      <td>92825</td>\n",
       "      <td>1004</td>\n",
       "      <td>1.583836e+15</td>\n",
       "      <td>recurrent chest wall pain pneumonia symptoms</td>\n",
       "      <td>{\\rtf1\\ansi\\ftnbj{\\fonttbl{\\f0 \\fswiss Arial;}...</td>\n",
       "      <td>ASK_A_DOCTOR</td>\n",
       "      <td>SYMPTOMS</td>\n",
       "      <td>No</td>\n",
       "      <td>Call from Patient Initial call taken by Ravisa...</td>\n",
       "    </tr>\n",
       "    <tr>\n",
       "      <th>2</th>\n",
       "      <td>2</td>\n",
       "      <td>92826</td>\n",
       "      <td>1004</td>\n",
       "      <td>1.583837e+15</td>\n",
       "      <td>NaN</td>\n",
       "      <td>{\\rtf1\\ansi\\ftnbj{\\fonttbl{\\f0 \\fswiss Arial;}...</td>\n",
       "      <td>ASK_A_DOCTOR</td>\n",
       "      <td>MEDICATION RELATED</td>\n",
       "      <td>No</td>\n",
       "      <td>Call from Patient Initial call taken by John M...</td>\n",
       "    </tr>\n",
       "    <tr>\n",
       "      <th>3</th>\n",
       "      <td>3</td>\n",
       "      <td>92827</td>\n",
       "      <td>1004</td>\n",
       "      <td>1.583837e+15</td>\n",
       "      <td>NaN</td>\n",
       "      <td>{\\rtf1\\ansi\\ftnbj{\\fonttbl{\\f0 \\fswiss Arial;}...</td>\n",
       "      <td>PRESCRIPTION</td>\n",
       "      <td>REFILL</td>\n",
       "      <td>No</td>\n",
       "      <td>Call from Patient Summary of Call Needs someth...</td>\n",
       "    </tr>\n",
       "    <tr>\n",
       "      <th>4</th>\n",
       "      <td>4</td>\n",
       "      <td>92828</td>\n",
       "      <td>1004</td>\n",
       "      <td>1.583837e+15</td>\n",
       "      <td>NaN</td>\n",
       "      <td>{\\rtf1\\ansi\\ftnbj{\\fonttbl{\\f0 \\fswiss Arial;}...</td>\n",
       "      <td>PRESCRIPTION</td>\n",
       "      <td>REFILL</td>\n",
       "      <td>No</td>\n",
       "      <td>Call from Patient Initial call taken by John M...</td>\n",
       "    </tr>\n",
       "  </tbody>\n",
       "</table>\n",
       "</div>"
      ],
      "text/plain": [
       "   Unnamed: 0  FileID  clientid           PID  \\\n",
       "0           0   92824      1004  1.750262e+15   \n",
       "1           1   92825      1004  1.583836e+15   \n",
       "2           2   92826      1004  1.583837e+15   \n",
       "3           3   92827      1004  1.583837e+15   \n",
       "4           4   92828      1004  1.583837e+15   \n",
       "\n",
       "                                        SUMMARY  \\\n",
       "0                                           NaN   \n",
       "1  recurrent chest wall pain pneumonia symptoms   \n",
       "2                                           NaN   \n",
       "3                                           NaN   \n",
       "4                                           NaN   \n",
       "\n",
       "                                                DATA   Categories1  \\\n",
       "0  {\\rtf1\\ansi\\ftnbj{\\fonttbl{\\f0 \\fswiss Arial;}...  ASK_A_DOCTOR   \n",
       "1  {\\rtf1\\ansi\\ftnbj{\\fonttbl{\\f0 \\fswiss Arial;}...  ASK_A_DOCTOR   \n",
       "2  {\\rtf1\\ansi\\ftnbj{\\fonttbl{\\f0 \\fswiss Arial;}...  ASK_A_DOCTOR   \n",
       "3  {\\rtf1\\ansi\\ftnbj{\\fonttbl{\\f0 \\fswiss Arial;}...  PRESCRIPTION   \n",
       "4  {\\rtf1\\ansi\\ftnbj{\\fonttbl{\\f0 \\fswiss Arial;}...  PRESCRIPTION   \n",
       "\n",
       "      Sub_categories1 Previous_Appointment  \\\n",
       "0  MEDICATION RELATED                   No   \n",
       "1            SYMPTOMS                   No   \n",
       "2  MEDICATION RELATED                   No   \n",
       "3              REFILL                   No   \n",
       "4              REFILL                   No   \n",
       "\n",
       "                                            pre_data  \n",
       "0  Call from Patient Summary of Call Some better ...  \n",
       "1  Call from Patient Initial call taken by Ravisa...  \n",
       "2  Call from Patient Initial call taken by John M...  \n",
       "3  Call from Patient Summary of Call Needs someth...  \n",
       "4  Call from Patient Initial call taken by John M...  "
      ]
     },
     "execution_count": 4,
     "metadata": {},
     "output_type": "execute_result"
    }
   ],
   "source": [
    "actual_data.head()"
   ]
  },
  {
   "cell_type": "markdown",
   "metadata": {},
   "source": [
    "# Exploring Column names "
   ]
  },
  {
   "cell_type": "code",
   "execution_count": 4,
   "metadata": {},
   "outputs": [
    {
     "data": {
      "text/plain": [
       "Index(['Unnamed: 0', 'FileID', 'clientid', 'PID', 'SUMMARY', 'DATA',\n",
       "       'Categories1', 'Sub_categories1', 'Previous_Appointment', 'pre_data'],\n",
       "      dtype='object')"
      ]
     },
     "execution_count": 4,
     "metadata": {},
     "output_type": "execute_result"
    }
   ],
   "source": [
    "actual_data.columns"
   ]
  },
  {
   "cell_type": "markdown",
   "metadata": {},
   "source": [
    "# Removing Unneccessory columns "
   ]
  },
  {
   "cell_type": "code",
   "execution_count": 5,
   "metadata": {
    "collapsed": true
   },
   "outputs": [],
   "source": [
    "# Removing Unneccessory columns \n",
    "actual_data.drop('Unnamed: 0',inplace=True,axis=1)"
   ]
  },
  {
   "cell_type": "code",
   "execution_count": 6,
   "metadata": {
    "collapsed": true
   },
   "outputs": [],
   "source": [
    "actual_data1=actual_data[['SUMMARY', 'pre_data','Categories1','Sub_categories1','Previous_Appointment']]"
   ]
  },
  {
   "cell_type": "code",
   "execution_count": 7,
   "metadata": {},
   "outputs": [
    {
     "data": {
      "text/html": [
       "<div>\n",
       "<style>\n",
       "    .dataframe thead tr:only-child th {\n",
       "        text-align: right;\n",
       "    }\n",
       "\n",
       "    .dataframe thead th {\n",
       "        text-align: left;\n",
       "    }\n",
       "\n",
       "    .dataframe tbody tr th {\n",
       "        vertical-align: top;\n",
       "    }\n",
       "</style>\n",
       "<table border=\"1\" class=\"dataframe\">\n",
       "  <thead>\n",
       "    <tr style=\"text-align: right;\">\n",
       "      <th></th>\n",
       "      <th>SUMMARY</th>\n",
       "      <th>pre_data</th>\n",
       "      <th>Categories1</th>\n",
       "      <th>Sub_categories1</th>\n",
       "      <th>Previous_Appointment</th>\n",
       "    </tr>\n",
       "  </thead>\n",
       "  <tbody>\n",
       "    <tr>\n",
       "      <th>0</th>\n",
       "      <td>NaN</td>\n",
       "      <td>Call from Patient Summary of Call Some better ...</td>\n",
       "      <td>ASK_A_DOCTOR</td>\n",
       "      <td>MEDICATION RELATED</td>\n",
       "      <td>No</td>\n",
       "    </tr>\n",
       "    <tr>\n",
       "      <th>1</th>\n",
       "      <td>recurrent chest wall pain pneumonia symptoms</td>\n",
       "      <td>Call from Patient Initial call taken by Ravisa...</td>\n",
       "      <td>ASK_A_DOCTOR</td>\n",
       "      <td>SYMPTOMS</td>\n",
       "      <td>No</td>\n",
       "    </tr>\n",
       "    <tr>\n",
       "      <th>2</th>\n",
       "      <td>NaN</td>\n",
       "      <td>Call from Patient Initial call taken by John M...</td>\n",
       "      <td>ASK_A_DOCTOR</td>\n",
       "      <td>MEDICATION RELATED</td>\n",
       "      <td>No</td>\n",
       "    </tr>\n",
       "    <tr>\n",
       "      <th>3</th>\n",
       "      <td>NaN</td>\n",
       "      <td>Call from Patient Summary of Call Needs someth...</td>\n",
       "      <td>PRESCRIPTION</td>\n",
       "      <td>REFILL</td>\n",
       "      <td>No</td>\n",
       "    </tr>\n",
       "    <tr>\n",
       "      <th>4</th>\n",
       "      <td>NaN</td>\n",
       "      <td>Call from Patient Initial call taken by John M...</td>\n",
       "      <td>PRESCRIPTION</td>\n",
       "      <td>REFILL</td>\n",
       "      <td>No</td>\n",
       "    </tr>\n",
       "  </tbody>\n",
       "</table>\n",
       "</div>"
      ],
      "text/plain": [
       "                                        SUMMARY  \\\n",
       "0                                           NaN   \n",
       "1  recurrent chest wall pain pneumonia symptoms   \n",
       "2                                           NaN   \n",
       "3                                           NaN   \n",
       "4                                           NaN   \n",
       "\n",
       "                                            pre_data   Categories1  \\\n",
       "0  Call from Patient Summary of Call Some better ...  ASK_A_DOCTOR   \n",
       "1  Call from Patient Initial call taken by Ravisa...  ASK_A_DOCTOR   \n",
       "2  Call from Patient Initial call taken by John M...  ASK_A_DOCTOR   \n",
       "3  Call from Patient Summary of Call Needs someth...  PRESCRIPTION   \n",
       "4  Call from Patient Initial call taken by John M...  PRESCRIPTION   \n",
       "\n",
       "      Sub_categories1 Previous_Appointment  \n",
       "0  MEDICATION RELATED                   No  \n",
       "1            SYMPTOMS                   No  \n",
       "2  MEDICATION RELATED                   No  \n",
       "3              REFILL                   No  \n",
       "4              REFILL                   No  "
      ]
     },
     "execution_count": 7,
     "metadata": {},
     "output_type": "execute_result"
    }
   ],
   "source": [
    "actual_data1.head()"
   ]
  },
  {
   "cell_type": "markdown",
   "metadata": {},
   "source": [
    "# renaming column names"
   ]
  },
  {
   "cell_type": "code",
   "execution_count": 8,
   "metadata": {
    "collapsed": true
   },
   "outputs": [],
   "source": [
    "# Changing the column names\n",
    "col_names=[\"summary\",\"data\",\"categories\",\"sub_categories\",\"appointment\"]\n",
    "actual_data1.columns=col_names"
   ]
  },
  {
   "cell_type": "markdown",
   "metadata": {},
   "source": [
    "# Checking for null values "
   ]
  },
  {
   "cell_type": "code",
   "execution_count": 9,
   "metadata": {
    "collapsed": true
   },
   "outputs": [],
   "source": [
    "null_columns=actual_data1.columns[actual_data1.isnull().any()]"
   ]
  },
  {
   "cell_type": "code",
   "execution_count": 10,
   "metadata": {},
   "outputs": [
    {
     "data": {
      "text/plain": [
       "summary    2823\n",
       "data         11\n",
       "dtype: int64"
      ]
     },
     "execution_count": 10,
     "metadata": {},
     "output_type": "execute_result"
    }
   ],
   "source": [
    "actual_data1[null_columns].isnull().sum()"
   ]
  },
  {
   "cell_type": "code",
   "execution_count": 11,
   "metadata": {},
   "outputs": [
    {
     "data": {
      "text/plain": [
       "summary           0.032615\n",
       "data              0.000127\n",
       "categories        0.000000\n",
       "sub_categories    0.000000\n",
       "appointment       0.000000\n",
       "dtype: float64"
      ]
     },
     "execution_count": 11,
     "metadata": {},
     "output_type": "execute_result"
    }
   ],
   "source": [
    "#Percentage of missing values in each column \n",
    "actual_data1.apply(lambda x: sum(x.isnull())/len(actual_data1),axis=0)"
   ]
  },
  {
   "cell_type": "code",
   "execution_count": 12,
   "metadata": {},
   "outputs": [
    {
     "data": {
      "text/plain": [
       "2823"
      ]
     },
     "execution_count": 12,
     "metadata": {},
     "output_type": "execute_result"
    }
   ],
   "source": [
    "#collecting all null values in a data frame \n",
    "nulls_summary = actual_data1[actual_data1.summary.isnull()]\n",
    "len(nulls_summary)"
   ]
  },
  {
   "cell_type": "code",
   "execution_count": 14,
   "metadata": {},
   "outputs": [
    {
     "data": {
      "text/html": [
       "<div>\n",
       "<style scoped>\n",
       "    .dataframe tbody tr th:only-of-type {\n",
       "        vertical-align: middle;\n",
       "    }\n",
       "\n",
       "    .dataframe tbody tr th {\n",
       "        vertical-align: top;\n",
       "    }\n",
       "\n",
       "    .dataframe thead th {\n",
       "        text-align: right;\n",
       "    }\n",
       "</style>\n",
       "<table border=\"1\" class=\"dataframe\">\n",
       "  <thead>\n",
       "    <tr style=\"text-align: right;\">\n",
       "      <th></th>\n",
       "      <th>summary</th>\n",
       "      <th>data</th>\n",
       "      <th>categories</th>\n",
       "      <th>sub_categories</th>\n",
       "      <th>appointment</th>\n",
       "    </tr>\n",
       "  </thead>\n",
       "  <tbody>\n",
       "    <tr>\n",
       "      <th>0</th>\n",
       "      <td>NaN</td>\n",
       "      <td>Call from Patient Summary of Call Some better ...</td>\n",
       "      <td>ASK_A_DOCTOR</td>\n",
       "      <td>MEDICATION RELATED</td>\n",
       "      <td>No</td>\n",
       "    </tr>\n",
       "    <tr>\n",
       "      <th>2</th>\n",
       "      <td>NaN</td>\n",
       "      <td>Call from Patient Initial call taken by John M...</td>\n",
       "      <td>ASK_A_DOCTOR</td>\n",
       "      <td>MEDICATION RELATED</td>\n",
       "      <td>No</td>\n",
       "    </tr>\n",
       "    <tr>\n",
       "      <th>3</th>\n",
       "      <td>NaN</td>\n",
       "      <td>Call from Patient Summary of Call Needs someth...</td>\n",
       "      <td>PRESCRIPTION</td>\n",
       "      <td>REFILL</td>\n",
       "      <td>No</td>\n",
       "    </tr>\n",
       "    <tr>\n",
       "      <th>4</th>\n",
       "      <td>NaN</td>\n",
       "      <td>Call from Patient Initial call taken by John M...</td>\n",
       "      <td>PRESCRIPTION</td>\n",
       "      <td>REFILL</td>\n",
       "      <td>No</td>\n",
       "    </tr>\n",
       "    <tr>\n",
       "      <th>5</th>\n",
       "      <td>NaN</td>\n",
       "      <td>Call from Patient Caller Mom Initial call take...</td>\n",
       "      <td>ASK_A_DOCTOR</td>\n",
       "      <td>MEDICATION RELATED</td>\n",
       "      <td>No</td>\n",
       "    </tr>\n",
       "  </tbody>\n",
       "</table>\n",
       "</div>"
      ],
      "text/plain": [
       "  summary                                               data    categories  \\\n",
       "0     NaN  Call from Patient Summary of Call Some better ...  ASK_A_DOCTOR   \n",
       "2     NaN  Call from Patient Initial call taken by John M...  ASK_A_DOCTOR   \n",
       "3     NaN  Call from Patient Summary of Call Needs someth...  PRESCRIPTION   \n",
       "4     NaN  Call from Patient Initial call taken by John M...  PRESCRIPTION   \n",
       "5     NaN  Call from Patient Caller Mom Initial call take...  ASK_A_DOCTOR   \n",
       "\n",
       "       sub_categories appointment  \n",
       "0  MEDICATION RELATED          No  \n",
       "2  MEDICATION RELATED          No  \n",
       "3              REFILL          No  \n",
       "4              REFILL          No  \n",
       "5  MEDICATION RELATED          No  "
      ]
     },
     "execution_count": 14,
     "metadata": {},
     "output_type": "execute_result"
    }
   ],
   "source": [
    "nulls_summary.head()"
   ]
  },
  {
   "cell_type": "code",
   "execution_count": 13,
   "metadata": {},
   "outputs": [
    {
     "data": {
      "text/plain": [
       "11"
      ]
     },
     "execution_count": 13,
     "metadata": {},
     "output_type": "execute_result"
    }
   ],
   "source": [
    "nulls_data = actual_data1[actual_data1.data.isnull()]\n",
    "len(nulls_data)"
   ]
  },
  {
   "cell_type": "code",
   "execution_count": 14,
   "metadata": {},
   "outputs": [
    {
     "data": {
      "text/html": [
       "<div>\n",
       "<style>\n",
       "    .dataframe thead tr:only-child th {\n",
       "        text-align: right;\n",
       "    }\n",
       "\n",
       "    .dataframe thead th {\n",
       "        text-align: left;\n",
       "    }\n",
       "\n",
       "    .dataframe tbody tr th {\n",
       "        vertical-align: top;\n",
       "    }\n",
       "</style>\n",
       "<table border=\"1\" class=\"dataframe\">\n",
       "  <thead>\n",
       "    <tr style=\"text-align: right;\">\n",
       "      <th></th>\n",
       "      <th>summary</th>\n",
       "      <th>data</th>\n",
       "      <th>categories</th>\n",
       "      <th>sub_categories</th>\n",
       "      <th>appointment</th>\n",
       "    </tr>\n",
       "  </thead>\n",
       "  <tbody>\n",
       "    <tr>\n",
       "      <th>0</th>\n",
       "      <td>NaN</td>\n",
       "      <td>Call from Patient Summary of Call Some better ...</td>\n",
       "      <td>ASK_A_DOCTOR</td>\n",
       "      <td>MEDICATION RELATED</td>\n",
       "      <td>No</td>\n",
       "    </tr>\n",
       "    <tr>\n",
       "      <th>2</th>\n",
       "      <td>NaN</td>\n",
       "      <td>Call from Patient Initial call taken by John M...</td>\n",
       "      <td>ASK_A_DOCTOR</td>\n",
       "      <td>MEDICATION RELATED</td>\n",
       "      <td>No</td>\n",
       "    </tr>\n",
       "    <tr>\n",
       "      <th>3</th>\n",
       "      <td>NaN</td>\n",
       "      <td>Call from Patient Summary of Call Needs someth...</td>\n",
       "      <td>PRESCRIPTION</td>\n",
       "      <td>REFILL</td>\n",
       "      <td>No</td>\n",
       "    </tr>\n",
       "    <tr>\n",
       "      <th>4</th>\n",
       "      <td>NaN</td>\n",
       "      <td>Call from Patient Initial call taken by John M...</td>\n",
       "      <td>PRESCRIPTION</td>\n",
       "      <td>REFILL</td>\n",
       "      <td>No</td>\n",
       "    </tr>\n",
       "    <tr>\n",
       "      <th>5</th>\n",
       "      <td>NaN</td>\n",
       "      <td>Call from Patient Caller Mom Initial call take...</td>\n",
       "      <td>ASK_A_DOCTOR</td>\n",
       "      <td>MEDICATION RELATED</td>\n",
       "      <td>No</td>\n",
       "    </tr>\n",
       "    <tr>\n",
       "      <th>6</th>\n",
       "      <td>NaN</td>\n",
       "      <td>Call from Patient Summary of Call called  x ov...</td>\n",
       "      <td>ASK_A_DOCTOR</td>\n",
       "      <td>MEDICATION RELATED</td>\n",
       "      <td>No</td>\n",
       "    </tr>\n",
       "    <tr>\n",
       "      <th>7</th>\n",
       "      <td>NaN</td>\n",
       "      <td>Call from Patient Initial call taken by John M...</td>\n",
       "      <td>ASK_A_DOCTOR</td>\n",
       "      <td>MEDICATION RELATED</td>\n",
       "      <td>No</td>\n",
       "    </tr>\n",
       "    <tr>\n",
       "      <th>8</th>\n",
       "      <td>NaN</td>\n",
       "      <td>Call from Patient Summary of Call Pt is out of...</td>\n",
       "      <td>PRESCRIPTION</td>\n",
       "      <td>PRIOR AUTHORIZATION</td>\n",
       "      <td>No</td>\n",
       "    </tr>\n",
       "    <tr>\n",
       "      <th>9</th>\n",
       "      <td>NaN</td>\n",
       "      <td>Call from Patient Caller Patient Initial call ...</td>\n",
       "      <td>ASK_A_DOCTOR</td>\n",
       "      <td>MEDICATION RELATED</td>\n",
       "      <td>No</td>\n",
       "    </tr>\n",
       "    <tr>\n",
       "      <th>10</th>\n",
       "      <td>NaN</td>\n",
       "      <td>Call from Patient Caller Daughter Initial call...</td>\n",
       "      <td>ASK_A_DOCTOR</td>\n",
       "      <td>MEDICATION RELATED</td>\n",
       "      <td>No</td>\n",
       "    </tr>\n",
       "    <tr>\n",
       "      <th>11</th>\n",
       "      <td>NaN</td>\n",
       "      <td>Call from Patient Caller Assisted Living Staff...</td>\n",
       "      <td>ASK_A_DOCTOR</td>\n",
       "      <td>MEDICATION RELATED</td>\n",
       "      <td>No</td>\n",
       "    </tr>\n",
       "  </tbody>\n",
       "</table>\n",
       "</div>"
      ],
      "text/plain": [
       "   summary                                               data    categories  \\\n",
       "0      NaN  Call from Patient Summary of Call Some better ...  ASK_A_DOCTOR   \n",
       "2      NaN  Call from Patient Initial call taken by John M...  ASK_A_DOCTOR   \n",
       "3      NaN  Call from Patient Summary of Call Needs someth...  PRESCRIPTION   \n",
       "4      NaN  Call from Patient Initial call taken by John M...  PRESCRIPTION   \n",
       "5      NaN  Call from Patient Caller Mom Initial call take...  ASK_A_DOCTOR   \n",
       "6      NaN  Call from Patient Summary of Call called  x ov...  ASK_A_DOCTOR   \n",
       "7      NaN  Call from Patient Initial call taken by John M...  ASK_A_DOCTOR   \n",
       "8      NaN  Call from Patient Summary of Call Pt is out of...  PRESCRIPTION   \n",
       "9      NaN  Call from Patient Caller Patient Initial call ...  ASK_A_DOCTOR   \n",
       "10     NaN  Call from Patient Caller Daughter Initial call...  ASK_A_DOCTOR   \n",
       "11     NaN  Call from Patient Caller Assisted Living Staff...  ASK_A_DOCTOR   \n",
       "\n",
       "         sub_categories appointment  \n",
       "0    MEDICATION RELATED          No  \n",
       "2    MEDICATION RELATED          No  \n",
       "3                REFILL          No  \n",
       "4                REFILL          No  \n",
       "5    MEDICATION RELATED          No  \n",
       "6    MEDICATION RELATED          No  \n",
       "7    MEDICATION RELATED          No  \n",
       "8   PRIOR AUTHORIZATION          No  \n",
       "9    MEDICATION RELATED          No  \n",
       "10   MEDICATION RELATED          No  \n",
       "11   MEDICATION RELATED          No  "
      ]
     },
     "execution_count": 14,
     "metadata": {},
     "output_type": "execute_result"
    }
   ],
   "source": [
    "nulls_summary.head(11)"
   ]
  },
  {
   "cell_type": "code",
   "execution_count": null,
   "metadata": {
    "collapsed": true
   },
   "outputs": [],
   "source": []
  },
  {
   "cell_type": "markdown",
   "metadata": {},
   "source": [
    "# Handling missing values"
   ]
  },
  {
   "cell_type": "code",
   "execution_count": 17,
   "metadata": {
    "collapsed": true
   },
   "outputs": [],
   "source": [
    "#to drop the NANs\n",
    "# replacing na values with None word\n",
    "# actual_data1 =actual_data1.where((pd.notnull(actual_data1)), null)\n",
    "#actual_data.dropna(axis = 0,how = 'any',inplace=True)"
   ]
  },
  {
   "cell_type": "markdown",
   "metadata": {},
   "source": [
    "# Converting to Lower Case and Upper Case "
   ]
  },
  {
   "cell_type": "code",
   "execution_count": 15,
   "metadata": {
    "collapsed": true
   },
   "outputs": [],
   "source": [
    "#Converting to lower case\n",
    "actual_data1['summary'] = actual_data1['summary'].astype(str).str.lower()\n",
    "actual_data1[\"data\"] = actual_data1[\"data\"].astype(str).str.lower()\n",
    "actual_data1[\"categories\"] = actual_data1[\"categories\"].map(lambda x: x.upper())\n",
    "actual_data1[\"sub_categories\"] = actual_data1[\"sub_categories\"].map(lambda x: x.upper())\n",
    "actual_data1[\"appointment\"] = actual_data1[\"appointment\"].map(lambda x: x.upper())"
   ]
  },
  {
   "cell_type": "markdown",
   "metadata": {},
   "source": [
    "# Converting data types"
   ]
  },
  {
   "cell_type": "code",
   "execution_count": 16,
   "metadata": {
    "collapsed": true
   },
   "outputs": [],
   "source": [
    "#Converting datatype of summary feature\n",
    "actual_data1.summary =actual_data1.summary.astype('str')\n",
    "#Converting datatype of data feature\n",
    "actual_data1.data =actual_data1.data.astype('str')\n",
    "#Converting datatype of category feature\n",
    "actual_data1.categories=actual_data1.categories.astype(\"category\")\n",
    "#Converting datatype of sub_categories feature\n",
    "actual_data1.sub_categories=actual_data1.sub_categories.astype(\"category\")\n",
    "#Converting datatype of appointment feature\n",
    "actual_data1.appointment=actual_data1.appointment.astype(\"category\")"
   ]
  },
  {
   "cell_type": "markdown",
   "metadata": {},
   "source": [
    "# Fequency count of target columns "
   ]
  },
  {
   "cell_type": "code",
   "execution_count": 17,
   "metadata": {},
   "outputs": [
    {
     "data": {
      "text/plain": [
       "ASK_A_DOCTOR     31337\n",
       "PRESCRIPTION     21490\n",
       "APPOINTMENTS     19477\n",
       "MISCELLANEOUS    10848\n",
       "LAB               3402\n",
       "Name: categories, dtype: int64"
      ]
     },
     "execution_count": 17,
     "metadata": {},
     "output_type": "execute_result"
    }
   ],
   "source": [
    "#Categoreies coulumn levels count \n",
    "actual_data1.categories.value_counts()"
   ]
  },
  {
   "cell_type": "code",
   "execution_count": 18,
   "metadata": {},
   "outputs": [
    {
     "data": {
      "text/plain": [
       "MEDICATION RELATED                               27191\n",
       "NEW APPOINTMENT                                  17459\n",
       "REFILL                                           17369\n",
       "OTHERS                                            5109\n",
       "SYMPTOMS                                          4147\n",
       "CHANGE OF PROVIDER                                3048\n",
       "LAB RESULTS                                       2453\n",
       "SHARING OF HEALTH RECORDS (FAX, E-MAIL, ETC.)     2447\n",
       "PROVIDER                                          2297\n",
       "QUERIES FROM PHARMACY                             1113\n",
       "RESCHEDULING                                       865\n",
       "SHARING OF LAB RECORDS (FAX, E-MAIL, ETC.)         817\n",
       "QUERY ON CURRENT APPOINTMENT                       697\n",
       "PRIOR AUTHORIZATION                                647\n",
       "CANCELLATION                                       584\n",
       "CHANGE OF HOSPITAL                                 176\n",
       "FOLLOW UP ON PREVIOUS REQUEST                       64\n",
       "CHANGE OF PHARMACY                                  60\n",
       "QUERIES FROM INSURANCE FIRM                          7\n",
       "RUNNING LATE TO APPOINTMENT                          4\n",
       "Name: sub_categories, dtype: int64"
      ]
     },
     "execution_count": 18,
     "metadata": {},
     "output_type": "execute_result"
    }
   ],
   "source": [
    "#Categoreies coulumn levels count \n",
    "actual_data1.sub_categories.value_counts()"
   ]
  },
  {
   "cell_type": "markdown",
   "metadata": {},
   "source": [
    "# Removing punctuations in train data"
   ]
  },
  {
   "cell_type": "code",
   "execution_count": 19,
   "metadata": {
    "collapsed": true
   },
   "outputs": [],
   "source": [
    "#2.2 Removing Punctuation\n",
    "actual_data1['data'] = actual_data1['data'].str.replace('[^\\w\\s\\d\\*\\\\b]','')\n",
    "actual_data1['summary'] = actual_data1['summary'].str.replace('[^\\w\\s\\d\\*\\\\b]','')  "
   ]
  },
  {
   "cell_type": "code",
   "execution_count": null,
   "metadata": {
    "collapsed": true
   },
   "outputs": [],
   "source": []
  },
  {
   "cell_type": "code",
   "execution_count": 20,
   "metadata": {},
   "outputs": [
    {
     "name": "stdout",
     "output_type": "stream",
     "text": [
      "call             383092\n",
      "to               255527\n",
      "by               203390\n",
      "patient          182333\n",
      "and              180422\n",
      "of               143248\n",
      "for              140415\n",
      "up               126993\n",
      "pm               122869\n",
      "she              114866\n",
      "am               111964\n",
      "the              107807\n",
      "follow           106879\n",
      "details          106013\n",
      "a                102128\n",
      "followup          98583\n",
      "taken             97546\n",
      "from              93214\n",
      "i                 89375\n",
      "at                86867\n",
      "mg                84910\n",
      "is                82885\n",
      "summary           81527\n",
      "back              81500\n",
      "initial           79961\n",
      "in                79107\n",
      "cma               78177\n",
      "he                75316\n",
      "md                74718\n",
      "new               71840\n",
      "                  ...  \n",
      "metroplol             1\n",
      "alarvert              1\n",
      "yest                  1\n",
      "producitive           1\n",
      "mucinexnd             1\n",
      "adviseing             1\n",
      "turks                 1\n",
      "netiher               1\n",
      "ddo                   1\n",
      "gip                   1\n",
      "rousvastatin          1\n",
      "xeloda                1\n",
      "crutch                1\n",
      "echinacea             1\n",
      "debilatiating         1\n",
      "revisiting            1\n",
      "welda                 1\n",
      "hospitak              1\n",
      "disprolol             1\n",
      "officet               1\n",
      "lacerationg           1\n",
      "ennerver              1\n",
      "auh                   1\n",
      "colcryl               1\n",
      "novifine              1\n",
      "trama                 1\n",
      "siusitis              1\n",
      "rrom                  1\n",
      "clozapine             1\n",
      "lopp                  1\n",
      "Length: 42106, dtype: int64 to                           7602\n",
      "for                          6970\n",
      "rx                           6361\n",
      "dr                           6184\n",
      "done                         6052\n",
      "appt                         5302\n",
      "refill                       4788\n",
      "*done                        4524\n",
      "patient                      3951\n",
      "med                          3895\n",
      "and                          3779\n",
      "pain                         3766\n",
      "needs                        3233\n",
      "cough                        3067\n",
      "wants                        3035\n",
      "pt                           2971\n",
      "****ask                      2960\n",
      "nan                          2823\n",
      "ov                           2515\n",
      "in                           2506\n",
      "about                        2428\n",
      "on                           2373\n",
      "call                         2257\n",
      "referral                     2251\n",
      "needed                       2243\n",
      "need                         2147\n",
      "with                         1898\n",
      "co                           1842\n",
      "answered                     1825\n",
      "requested                    1801\n",
      "                             ... \n",
      "firstlm4rc                      1\n",
      "sampleshydroacet                1\n",
      "noshow                          1\n",
      "fellowship                      1\n",
      "lancets****pt                   1\n",
      "med**see                        1\n",
      "***labwork                      1\n",
      "screaming                       1\n",
      "woods                           1\n",
      "wellbutrinlmtc                  1\n",
      "injuryswollensore               1\n",
      "metformindiarrhea****lmtc       1\n",
      "ideas                           1\n",
      "7d                              1\n",
      "rude                            1\n",
      "weddone                         1\n",
      "**********dr                    1\n",
      "**discontinue                   1\n",
      "***refax                        1\n",
      "monistat                        1\n",
      "sius                            1\n",
      "therapeutic                     1\n",
      "slammed                         1\n",
      "grandmother                     1\n",
      "211                             1\n",
      "blodd                           1\n",
      "tesslon                         1\n",
      "dravva                          1\n",
      "relaxantgi                      1\n",
      "responding                      1\n",
      "Length: 15355, dtype: int64\n"
     ]
    }
   ],
   "source": [
    "freq_count_data = pd.Series(' '.join(actual_data1['data']).split()).value_counts()\n",
    "freq_count_summary = pd.Series(' '.join(actual_data1['summary']).split()).value_counts()\n",
    "print(freq_count_data,freq_count_summary)"
   ]
  },
  {
   "cell_type": "code",
   "execution_count": 21,
   "metadata": {},
   "outputs": [
    {
     "name": "stdout",
     "output_type": "stream",
     "text": [
      "42106 15355\n",
      "1594 392\n"
     ]
    }
   ],
   "source": [
    "print(len(freq_count_data),len(freq_count_summary))\n",
    "print(len(set(freq_count_data)),len(set(freq_count_summary)))"
   ]
  },
  {
   "cell_type": "code",
   "execution_count": null,
   "metadata": {
    "collapsed": true
   },
   "outputs": [],
   "source": []
  },
  {
   "cell_type": "code",
   "execution_count": 38,
   "metadata": {
    "collapsed": true
   },
   "outputs": [],
   "source": [
    "pd.DataFrame(freq_count_summary).to_csv('Guliford_Data_word_frequency_summary_col.csv')\n",
    "pd.DataFrame(freq_count_data).to_csv('Guliford_Data_word_frequency_data_col.csv')"
   ]
  },
  {
   "cell_type": "code",
   "execution_count": 22,
   "metadata": {},
   "outputs": [
    {
     "data": {
      "text/html": [
       "<div>\n",
       "<style>\n",
       "    .dataframe thead tr:only-child th {\n",
       "        text-align: right;\n",
       "    }\n",
       "\n",
       "    .dataframe thead th {\n",
       "        text-align: left;\n",
       "    }\n",
       "\n",
       "    .dataframe tbody tr th {\n",
       "        vertical-align: top;\n",
       "    }\n",
       "</style>\n",
       "<table border=\"1\" class=\"dataframe\">\n",
       "  <thead>\n",
       "    <tr style=\"text-align: right;\">\n",
       "      <th></th>\n",
       "      <th>data</th>\n",
       "      <th>word_count</th>\n",
       "    </tr>\n",
       "  </thead>\n",
       "  <tbody>\n",
       "    <tr>\n",
       "      <th>0</th>\n",
       "      <td>call from patient summary of call some better ...</td>\n",
       "      <td>214</td>\n",
       "    </tr>\n",
       "    <tr>\n",
       "      <th>1</th>\n",
       "      <td>call from patient initial call taken by ravisa...</td>\n",
       "      <td>88</td>\n",
       "    </tr>\n",
       "    <tr>\n",
       "      <th>2</th>\n",
       "      <td>call from patient initial call taken by john m...</td>\n",
       "      <td>219</td>\n",
       "    </tr>\n",
       "    <tr>\n",
       "      <th>3</th>\n",
       "      <td>call from patient summary of call needs someth...</td>\n",
       "      <td>85</td>\n",
       "    </tr>\n",
       "    <tr>\n",
       "      <th>4</th>\n",
       "      <td>call from patient initial call taken by john m...</td>\n",
       "      <td>145</td>\n",
       "    </tr>\n",
       "    <tr>\n",
       "      <th>5</th>\n",
       "      <td>call from patient caller mom initial call take...</td>\n",
       "      <td>151</td>\n",
       "    </tr>\n",
       "    <tr>\n",
       "      <th>6</th>\n",
       "      <td>call from patient summary of call called  x ov...</td>\n",
       "      <td>53</td>\n",
       "    </tr>\n",
       "    <tr>\n",
       "      <th>7</th>\n",
       "      <td>call from patient initial call taken by john m...</td>\n",
       "      <td>264</td>\n",
       "    </tr>\n",
       "    <tr>\n",
       "      <th>8</th>\n",
       "      <td>call from patient summary of call pt is out of...</td>\n",
       "      <td>207</td>\n",
       "    </tr>\n",
       "    <tr>\n",
       "      <th>9</th>\n",
       "      <td>call from patient caller patient initial call ...</td>\n",
       "      <td>201</td>\n",
       "    </tr>\n",
       "  </tbody>\n",
       "</table>\n",
       "</div>"
      ],
      "text/plain": [
       "                                                data  word_count\n",
       "0  call from patient summary of call some better ...         214\n",
       "1  call from patient initial call taken by ravisa...          88\n",
       "2  call from patient initial call taken by john m...         219\n",
       "3  call from patient summary of call needs someth...          85\n",
       "4  call from patient initial call taken by john m...         145\n",
       "5  call from patient caller mom initial call take...         151\n",
       "6  call from patient summary of call called  x ov...          53\n",
       "7  call from patient initial call taken by john m...         264\n",
       "8  call from patient summary of call pt is out of...         207\n",
       "9  call from patient caller patient initial call ...         201"
      ]
     },
     "execution_count": 22,
     "metadata": {},
     "output_type": "execute_result"
    }
   ],
   "source": [
    "#1.1 Number of Words\n",
    "#One of the most basic features we can extract is the number of words in each sentence.\n",
    "actual_data1['word_count'] = actual_data1['data'].apply(lambda x: len(str(x).split(\" \")))\n",
    "actual_data1[['data','word_count']].head(10)"
   ]
  },
  {
   "cell_type": "code",
   "execution_count": 40,
   "metadata": {},
   "outputs": [
    {
     "data": {
      "text/plain": [
       "count    86554.000000\n",
       "mean       199.752767\n",
       "std         86.150341\n",
       "min          1.000000\n",
       "25%        129.000000\n",
       "50%        187.000000\n",
       "75%        267.000000\n",
       "max        680.000000\n",
       "Name: word_count, dtype: float64"
      ]
     },
     "execution_count": 40,
     "metadata": {},
     "output_type": "execute_result"
    }
   ],
   "source": [
    "actual_data1.word_count.describe()"
   ]
  },
  {
   "cell_type": "code",
   "execution_count": 23,
   "metadata": {},
   "outputs": [
    {
     "data": {
      "text/html": [
       "<div>\n",
       "<style>\n",
       "    .dataframe thead tr:only-child th {\n",
       "        text-align: right;\n",
       "    }\n",
       "\n",
       "    .dataframe thead th {\n",
       "        text-align: left;\n",
       "    }\n",
       "\n",
       "    .dataframe tbody tr th {\n",
       "        vertical-align: top;\n",
       "    }\n",
       "</style>\n",
       "<table border=\"1\" class=\"dataframe\">\n",
       "  <thead>\n",
       "    <tr style=\"text-align: right;\">\n",
       "      <th></th>\n",
       "      <th>data</th>\n",
       "      <th>word_count</th>\n",
       "      <th>unique_word_count</th>\n",
       "    </tr>\n",
       "  </thead>\n",
       "  <tbody>\n",
       "    <tr>\n",
       "      <th>0</th>\n",
       "      <td>call from patient summary of call some better ...</td>\n",
       "      <td>214</td>\n",
       "      <td>73</td>\n",
       "    </tr>\n",
       "    <tr>\n",
       "      <th>1</th>\n",
       "      <td>call from patient initial call taken by ravisa...</td>\n",
       "      <td>88</td>\n",
       "      <td>50</td>\n",
       "    </tr>\n",
       "    <tr>\n",
       "      <th>2</th>\n",
       "      <td>call from patient initial call taken by john m...</td>\n",
       "      <td>219</td>\n",
       "      <td>54</td>\n",
       "    </tr>\n",
       "    <tr>\n",
       "      <th>3</th>\n",
       "      <td>call from patient summary of call needs someth...</td>\n",
       "      <td>85</td>\n",
       "      <td>27</td>\n",
       "    </tr>\n",
       "    <tr>\n",
       "      <th>4</th>\n",
       "      <td>call from patient initial call taken by john m...</td>\n",
       "      <td>145</td>\n",
       "      <td>47</td>\n",
       "    </tr>\n",
       "    <tr>\n",
       "      <th>5</th>\n",
       "      <td>call from patient caller mom initial call take...</td>\n",
       "      <td>151</td>\n",
       "      <td>95</td>\n",
       "    </tr>\n",
       "    <tr>\n",
       "      <th>6</th>\n",
       "      <td>call from patient summary of call called  x ov...</td>\n",
       "      <td>53</td>\n",
       "      <td>39</td>\n",
       "    </tr>\n",
       "    <tr>\n",
       "      <th>7</th>\n",
       "      <td>call from patient initial call taken by john m...</td>\n",
       "      <td>264</td>\n",
       "      <td>130</td>\n",
       "    </tr>\n",
       "    <tr>\n",
       "      <th>8</th>\n",
       "      <td>call from patient summary of call pt is out of...</td>\n",
       "      <td>207</td>\n",
       "      <td>119</td>\n",
       "    </tr>\n",
       "    <tr>\n",
       "      <th>9</th>\n",
       "      <td>call from patient caller patient initial call ...</td>\n",
       "      <td>201</td>\n",
       "      <td>60</td>\n",
       "    </tr>\n",
       "  </tbody>\n",
       "</table>\n",
       "</div>"
      ],
      "text/plain": [
       "                                                data  word_count  \\\n",
       "0  call from patient summary of call some better ...         214   \n",
       "1  call from patient initial call taken by ravisa...          88   \n",
       "2  call from patient initial call taken by john m...         219   \n",
       "3  call from patient summary of call needs someth...          85   \n",
       "4  call from patient initial call taken by john m...         145   \n",
       "5  call from patient caller mom initial call take...         151   \n",
       "6  call from patient summary of call called  x ov...          53   \n",
       "7  call from patient initial call taken by john m...         264   \n",
       "8  call from patient summary of call pt is out of...         207   \n",
       "9  call from patient caller patient initial call ...         201   \n",
       "\n",
       "   unique_word_count  \n",
       "0                 73  \n",
       "1                 50  \n",
       "2                 54  \n",
       "3                 27  \n",
       "4                 47  \n",
       "5                 95  \n",
       "6                 39  \n",
       "7                130  \n",
       "8                119  \n",
       "9                 60  "
      ]
     },
     "execution_count": 23,
     "metadata": {},
     "output_type": "execute_result"
    }
   ],
   "source": [
    "#One of the most basic features we can extract is the number of words in each sentence.\n",
    "actual_data1['unique_word_count'] = actual_data1['data'].apply(lambda x: len(set(str(x).split(\" \"))))\n",
    "actual_data1[['data','word_count','unique_word_count']].head(10)"
   ]
  },
  {
   "cell_type": "code",
   "execution_count": 42,
   "metadata": {},
   "outputs": [
    {
     "data": {
      "text/plain": [
       "count    86554.000000\n",
       "mean        74.468112\n",
       "std         27.822826\n",
       "min          1.000000\n",
       "25%         53.000000\n",
       "50%         72.000000\n",
       "75%         92.000000\n",
       "max        170.000000\n",
       "Name: unique_word_count, dtype: float64"
      ]
     },
     "execution_count": 42,
     "metadata": {},
     "output_type": "execute_result"
    }
   ],
   "source": [
    "actual_data1.unique_word_count.describe()"
   ]
  },
  {
   "cell_type": "code",
   "execution_count": 25,
   "metadata": {
    "scrolled": false
   },
   "outputs": [
    {
     "ename": "AttributeError",
     "evalue": "'DataFrame' object has no attribute 'unique_word_count'",
     "output_type": "error",
     "traceback": [
      "\u001b[1;31m---------------------------------------------------------------------------\u001b[0m",
      "\u001b[1;31mAttributeError\u001b[0m                            Traceback (most recent call last)",
      "\u001b[1;32m<ipython-input-25-982a156b0059>\u001b[0m in \u001b[0;36m<module>\u001b[1;34m()\u001b[0m\n\u001b[0;32m      1\u001b[0m \u001b[0mplt\u001b[0m\u001b[1;33m.\u001b[0m\u001b[0mfigure\u001b[0m\u001b[1;33m(\u001b[0m\u001b[1;33m)\u001b[0m\u001b[1;33m\u001b[0m\u001b[0m\n\u001b[1;32m----> 2\u001b[1;33m \u001b[0mplt\u001b[0m\u001b[1;33m.\u001b[0m\u001b[0mboxplot\u001b[0m\u001b[1;33m(\u001b[0m\u001b[0mactual_data1\u001b[0m\u001b[1;33m.\u001b[0m\u001b[0munique_word_count\u001b[0m\u001b[1;33m)\u001b[0m\u001b[1;33m\u001b[0m\u001b[0m\n\u001b[0m",
      "\u001b[1;32m~\\AppData\\Local\\Continuum\\anaconda3\\lib\\site-packages\\pandas\\core\\generic.py\u001b[0m in \u001b[0;36m__getattr__\u001b[1;34m(self, name)\u001b[0m\n\u001b[0;32m   3612\u001b[0m             \u001b[1;32mif\u001b[0m \u001b[0mname\u001b[0m \u001b[1;32min\u001b[0m \u001b[0mself\u001b[0m\u001b[1;33m.\u001b[0m\u001b[0m_info_axis\u001b[0m\u001b[1;33m:\u001b[0m\u001b[1;33m\u001b[0m\u001b[0m\n\u001b[0;32m   3613\u001b[0m                 \u001b[1;32mreturn\u001b[0m \u001b[0mself\u001b[0m\u001b[1;33m[\u001b[0m\u001b[0mname\u001b[0m\u001b[1;33m]\u001b[0m\u001b[1;33m\u001b[0m\u001b[0m\n\u001b[1;32m-> 3614\u001b[1;33m             \u001b[1;32mreturn\u001b[0m \u001b[0mobject\u001b[0m\u001b[1;33m.\u001b[0m\u001b[0m__getattribute__\u001b[0m\u001b[1;33m(\u001b[0m\u001b[0mself\u001b[0m\u001b[1;33m,\u001b[0m \u001b[0mname\u001b[0m\u001b[1;33m)\u001b[0m\u001b[1;33m\u001b[0m\u001b[0m\n\u001b[0m\u001b[0;32m   3615\u001b[0m \u001b[1;33m\u001b[0m\u001b[0m\n\u001b[0;32m   3616\u001b[0m     \u001b[1;32mdef\u001b[0m \u001b[0m__setattr__\u001b[0m\u001b[1;33m(\u001b[0m\u001b[0mself\u001b[0m\u001b[1;33m,\u001b[0m \u001b[0mname\u001b[0m\u001b[1;33m,\u001b[0m \u001b[0mvalue\u001b[0m\u001b[1;33m)\u001b[0m\u001b[1;33m:\u001b[0m\u001b[1;33m\u001b[0m\u001b[0m\n",
      "\u001b[1;31mAttributeError\u001b[0m: 'DataFrame' object has no attribute 'unique_word_count'"
     ]
    },
    {
     "data": {
      "text/plain": [
       "<matplotlib.figure.Figure at 0x23c3d1ca160>"
      ]
     },
     "metadata": {},
     "output_type": "display_data"
    }
   ],
   "source": [
    "plt.figure()\n",
    "plt.boxplot(actual_data1.unique_word_count)"
   ]
  },
  {
   "cell_type": "markdown",
   "metadata": {},
   "source": [
    "# Handling speling errors"
   ]
  },
  {
   "cell_type": "code",
   "execution_count": 25,
   "metadata": {
    "collapsed": true
   },
   "outputs": [],
   "source": [
    "#Replacing spelling errors \n",
    "import re\n",
    "def replacing_text(input_text):\n",
    "    letters_only = re.sub(\"[^a-zA-Z]\", \" \",input_text )\n",
    "    low_case = letters_only.lower()\n",
    "    input_text   =re.sub('pt ', ' patient ', low_case)\n",
    "    input_text1  =re.sub(' appt ', ' appointment ',  input_text)\n",
    "    input_text1  =re.sub(' appt ', ' appointment ',  input_text)\n",
    "    input_text2  =re.sub(' ov ', ' office visit ',  input_text1)\n",
    "    input_text3  =re.sub(' schd ', ' scheduled ',  input_text2)\n",
    "    input_text4  =re.sub(' np ', ' new patient ',  input_text3)\n",
    "    input_text5  =re.sub(' r/s ', ' reschedule ',  input_text4)\n",
    "    input_text6  =re.sub(' med ', ' medication ',  input_text5)\n",
    "    input_text7  =re.sub(' pa ', ' prior authorization ',  input_text6)\n",
    "    input_text8  =re.sub(' fin ', ' financial ',  input_text7)\n",
    "    input_text9  =re.sub(' dept ', ' department ',  input_text8) \n",
    "    input_text10 =re.sub(' Call patient back ', ' ', input_text9)\n",
    "    input_text11 =re.sub(' Phone Note ', ' ', input_text10)\n",
    "    input_text12 =re.sub(' caller name ', ' ', input_text11)\n",
    "    input_text13 =re.sub(' call Taken by ', ' ', input_text12)\n",
    "    input_text14 =re.sub(' cell Phone ', ' ', input_text13)\n",
    "    input_text15 =re.sub(' call from patient  ', ' ', input_text14)\n",
    "    input_text16 =re.sub(' call patient back at ', ' ', input_text15)\n",
    "    input_text17 =re.sub(' additional follow-up details ', ' ', input_text16)\n",
    "    input_text18 =re.sub(' follow-up details ', ' ', input_text17)\n",
    "    input_text19 =re.sub(' additional follow-up by ', ' ', input_text18)\n",
    "    input_text20 =re.sub(' follow-up by ', ' ', input_text19)\n",
    "    input_text21 =re.sub(' default paragraph ', ' ', input_text20)\n",
    "    input_text22 =re.sub(' default paragraph ', ' ', input_text21)\n",
    "    input_text23 =re.sub(' pm ', '  ', input_text22)\n",
    "    input_text24 =re.sub(' tabs ', ' tablets ', input_text23)\n",
    "    input_text25 =re.sub(' ph ',' phone ', input_text24)\n",
    "    input_text26 =re.sub(' dr ',' doctor ',input_text25)\n",
    "    input_text27 =re.sub(' msg ',' message ', input_text26)\n",
    "    input_text28 =re.sub(' sched ',' scheduled ', input_text27)\n",
    "    input_text29 =re.sub(' yrly ',' yearly ', input_text28)\n",
    "    input_text30 =re.sub('xxx ',' ',input_text29)\n",
    "    input_text31 =re.sub(' clld ', ' called ', input_text30)\n",
    "    input_text32 =re.sub(' rs ',' reschedule ',input_text31)\n",
    "    input_text33 =re.sub(' appt', ' appointment ',  input_text32)\n",
    "    input_text34 =re.sub(' rn ', ' relay neurology ', input_text33)\n",
    "    input_text35 =re.sub(' ad ', ' add ', input_text34)\n",
    "    input_text36 =re.sub(' new medications ', ' add ', input_text35)\n",
    "    input_text37 =re.sub(' summary of call ', ' ', input_text36)\n",
    "    input_text38 =re.sub('summary of call',' ',input_text37)\n",
    "    input_text39 =re.sub(' am ', ' ', input_text38)\n",
    "    return(input_text39)   "
   ]
  },
  {
   "cell_type": "code",
   "execution_count": 27,
   "metadata": {
    "collapsed": true
   },
   "outputs": [],
   "source": [
    "length_data=len(actual_data1)"
   ]
  },
  {
   "cell_type": "code",
   "execution_count": 28,
   "metadata": {},
   "outputs": [
    {
     "name": "stdout",
     "output_type": "stream",
     "text": [
      "no.of rows reviews processed: 0\n",
      "no.of rows reviews processed: 10000\n",
      "no.of rows reviews processed: 20000\n",
      "no.of rows reviews processed: 30000\n",
      "no.of rows reviews processed: 40000\n",
      "no.of rows reviews processed: 50000\n",
      "no.of rows reviews processed: 60000\n",
      "no.of rows reviews processed: 70000\n",
      "no.of rows reviews processed: 80000\n",
      "Training took 27.227 seconds\n"
     ]
    }
   ],
   "source": [
    "start = time.time()\n",
    "data_process2=[]\n",
    "for i in range (0,length_data):\n",
    "    if i%10000 == 0:\n",
    "        print (\"no.of rows reviews processed:\",i)\n",
    "    data_process2.append(replacing_text(actual_data1.data[i]))\n",
    "    \n",
    "print(\"Training took {:0.3f} seconds\".format(time.time()-start))"
   ]
  },
  {
   "cell_type": "code",
   "execution_count": 29,
   "metadata": {},
   "outputs": [
    {
     "name": "stdout",
     "output_type": "stream",
     "text": [
      "no.of rows reviews processed: 0\n",
      "no.of rows reviews processed: 10000\n",
      "no.of rows reviews processed: 20000\n",
      "no.of rows reviews processed: 30000\n",
      "no.of rows reviews processed: 40000\n",
      "no.of rows reviews processed: 50000\n",
      "no.of rows reviews processed: 60000\n",
      "no.of rows reviews processed: 70000\n",
      "no.of rows reviews processed: 80000\n",
      "Training took 9.292 seconds\n"
     ]
    }
   ],
   "source": [
    "start = time.time()\n",
    "summary_process2=[]\n",
    "for i in range (0,length_data):\n",
    "    if i%10000 == 0:\n",
    "        print (\"no.of rows reviews processed:\",i)\n",
    "    summary_process2.append(replacing_text(actual_data1.summary[i]))\n",
    "print(\"Training took {:0.3f} seconds\".format(time.time()-start))"
   ]
  },
  {
   "cell_type": "code",
   "execution_count": 31,
   "metadata": {
    "collapsed": true
   },
   "outputs": [],
   "source": [
    "actual_data1.data=pd.DataFrame(data_process2)\n",
    "actual_data1.summary=pd.DataFrame(summary_process2)"
   ]
  },
  {
   "cell_type": "markdown",
   "metadata": {},
   "source": [
    "# Handling Stop words"
   ]
  },
  {
   "cell_type": "code",
   "execution_count": 34,
   "metadata": {},
   "outputs": [
    {
     "data": {
      "text/html": [
       "<div>\n",
       "<style>\n",
       "    .dataframe thead tr:only-child th {\n",
       "        text-align: right;\n",
       "    }\n",
       "\n",
       "    .dataframe thead th {\n",
       "        text-align: left;\n",
       "    }\n",
       "\n",
       "    .dataframe tbody tr th {\n",
       "        vertical-align: top;\n",
       "    }\n",
       "</style>\n",
       "<table border=\"1\" class=\"dataframe\">\n",
       "  <thead>\n",
       "    <tr style=\"text-align: right;\">\n",
       "      <th></th>\n",
       "      <th>data</th>\n",
       "      <th>stopwords</th>\n",
       "    </tr>\n",
       "  </thead>\n",
       "  <tbody>\n",
       "    <tr>\n",
       "      <th>0</th>\n",
       "      <td>call from patient some better c cough and cong...</td>\n",
       "      <td>35</td>\n",
       "    </tr>\n",
       "    <tr>\n",
       "      <th>1</th>\n",
       "      <td>call from patient initial call taken by ravisa...</td>\n",
       "      <td>14</td>\n",
       "    </tr>\n",
       "    <tr>\n",
       "      <th>2</th>\n",
       "      <td>call from patient initial call taken by john m...</td>\n",
       "      <td>9</td>\n",
       "    </tr>\n",
       "    <tr>\n",
       "      <th>3</th>\n",
       "      <td>call from patient needs something stronger for...</td>\n",
       "      <td>4</td>\n",
       "    </tr>\n",
       "    <tr>\n",
       "      <th>4</th>\n",
       "      <td>call from patient initial call taken by john m...</td>\n",
       "      <td>13</td>\n",
       "    </tr>\n",
       "    <tr>\n",
       "      <th>5</th>\n",
       "      <td>call from patient caller mom initial call take...</td>\n",
       "      <td>51</td>\n",
       "    </tr>\n",
       "    <tr>\n",
       "      <th>6</th>\n",
       "      <td>call from patient called  x over weekend with ...</td>\n",
       "      <td>10</td>\n",
       "    </tr>\n",
       "    <tr>\n",
       "      <th>7</th>\n",
       "      <td>call from patient initial call taken by john m...</td>\n",
       "      <td>88</td>\n",
       "    </tr>\n",
       "    <tr>\n",
       "      <th>8</th>\n",
       "      <td>call from patient  patient is out of testoster...</td>\n",
       "      <td>106</td>\n",
       "    </tr>\n",
       "    <tr>\n",
       "      <th>9</th>\n",
       "      <td>call from patient caller patient initial call ...</td>\n",
       "      <td>15</td>\n",
       "    </tr>\n",
       "  </tbody>\n",
       "</table>\n",
       "</div>"
      ],
      "text/plain": [
       "                                                data  stopwords\n",
       "0  call from patient some better c cough and cong...         35\n",
       "1  call from patient initial call taken by ravisa...         14\n",
       "2  call from patient initial call taken by john m...          9\n",
       "3  call from patient needs something stronger for...          4\n",
       "4  call from patient initial call taken by john m...         13\n",
       "5  call from patient caller mom initial call take...         51\n",
       "6  call from patient called  x over weekend with ...         10\n",
       "7  call from patient initial call taken by john m...         88\n",
       "8  call from patient  patient is out of testoster...        106\n",
       "9  call from patient caller patient initial call ...         15"
      ]
     },
     "execution_count": 34,
     "metadata": {},
     "output_type": "execute_result"
    }
   ],
   "source": [
    "#counting stop words in a sentence\n",
    "stop = stopwords.words('english')\n",
    "actual_data1['stopwords'] = actual_data1['data'].apply(lambda x: len([x for x in x.split() if x  in stop]))\n",
    "actual_data1[['data','stopwords']].head(10)"
   ]
  },
  {
   "cell_type": "code",
   "execution_count": 35,
   "metadata": {},
   "outputs": [
    {
     "data": {
      "text/plain": [
       "38.089735887422883"
      ]
     },
     "execution_count": 35,
     "metadata": {},
     "output_type": "execute_result"
    }
   ],
   "source": [
    "sum(actual_data1.stopwords)/len(actual_data1.stopwords)"
   ]
  },
  {
   "cell_type": "code",
   "execution_count": 36,
   "metadata": {},
   "outputs": [
    {
     "data": {
      "text/plain": [
       "count    86554.000000\n",
       "mean        38.089736\n",
       "std         25.047335\n",
       "min          0.000000\n",
       "25%         20.000000\n",
       "50%         32.000000\n",
       "75%         50.000000\n",
       "max        180.000000\n",
       "Name: stopwords, dtype: float64"
      ]
     },
     "execution_count": 36,
     "metadata": {},
     "output_type": "execute_result"
    }
   ],
   "source": [
    "actual_data1.stopwords.describe()"
   ]
  },
  {
   "cell_type": "code",
   "execution_count": 37,
   "metadata": {},
   "outputs": [
    {
     "name": "stdout",
     "output_type": "stream",
     "text": [
      "0    call patient better c cough congestion however...\n",
      "1    call patient initial call taken ravisankar r a...\n",
      "2    call patient initial call taken john russo md ...\n",
      "3    call patient needs something stronger cough ot...\n",
      "4    call patient initial call taken john russo md ...\n",
      "Name: data, dtype: object\n",
      "0                                             nan\n",
      "1    recurrent chest wall pain pneumonia symptoms\n",
      "2                                             nan\n",
      "3                                             nan\n",
      "4                                             nan\n",
      "Name: summary, dtype: object\n"
     ]
    }
   ],
   "source": [
    "#Removal of Stop Words\n",
    "#from nltk.corpus import stopwords\n",
    "stop = stopwords.words('english')\n",
    "actual_data1['data'] = actual_data1['data'].apply(lambda x: \" \".join(x for x in x.split() if x not in stop))\n",
    "print(actual_data1['data'].head())\n",
    "\n",
    "actual_data1['summary'] = actual_data1['summary'].apply(lambda x: \" \".join(x for x in x.split() if x not in stop))\n",
    "print(actual_data1['summary'].head())"
   ]
  },
  {
   "cell_type": "code",
   "execution_count": 38,
   "metadata": {},
   "outputs": [
    {
     "name": "stdout",
     "output_type": "stream",
     "text": [
      "['i', 'me', 'my', 'myself', 'we', 'our', 'ours', 'ourselves', 'you', 'your', 'yours', 'yourself', 'yourselves', 'he', 'him', 'his', 'himself', 'she', 'her', 'hers', 'herself', 'it', 'its', 'itself', 'they', 'them', 'their', 'theirs', 'themselves', 'what', 'which', 'who', 'whom', 'this', 'that', 'these', 'those', 'am', 'is', 'are', 'was', 'were', 'be', 'been', 'being', 'have', 'has', 'had', 'having', 'do', 'does', 'did', 'doing', 'a', 'an', 'the', 'and', 'but', 'if', 'or', 'because', 'as', 'until', 'while', 'of', 'at', 'by', 'for', 'with', 'about', 'against', 'between', 'into', 'through', 'during', 'before', 'after', 'above', 'below', 'to', 'from', 'up', 'down', 'in', 'out', 'on', 'off', 'over', 'under', 'again', 'further', 'then', 'once', 'here', 'there', 'when', 'where', 'why', 'how', 'all']\n"
     ]
    }
   ],
   "source": [
    "print(stop[:100])"
   ]
  },
  {
   "cell_type": "code",
   "execution_count": 39,
   "metadata": {
    "collapsed": true
   },
   "outputs": [],
   "source": [
    "#2.3 Removal of Stop Words\n",
    "stop2 = ['phone','patient','please','would','may','caller','x','by','r','c','a','m','mom','is','from','ravisankar','home','initial','taken','john','follow','details','detail','followup','pm','jones','come','going','still','erica','weaver','ma','rt','md','called','russo','must','iii','http','great','add','also','like','ok', 'okay','pt','call','january','february','march','april','may','june','july','august','september','october','november','december']\n",
    "actual_data1['data'] = actual_data1['data'].apply(lambda x: \" \".join(x for x in x.split() if x not in stop2))\n",
    "actual_data1['summary'] = actual_data1['summary'].apply(lambda x: \" \".join(x for x in x.split() if x not in stop2))"
   ]
  },
  {
   "cell_type": "code",
   "execution_count": null,
   "metadata": {
    "collapsed": true
   },
   "outputs": [],
   "source": []
  },
  {
   "cell_type": "code",
   "execution_count": 40,
   "metadata": {},
   "outputs": [
    {
     "data": {
      "text/plain": [
       "0    better cough congestion however low grade feve...\n",
       "1    avva recurrent pneumonia symptoms chest wall p...\n",
       "2    today st cough congestion head congestion feve...\n",
       "3    needs something stronger cough otcs tessalon b...\n",
       "4    get refill rx moxiflox mg days bronchitis coug...\n",
       "5    episodes absence sz acivity w per doctor penam...\n",
       "6    weekend continued colitis type issues profuse ...\n",
       "7    tonight sugars terrible hrs samples upped rece...\n",
       "8    testosterone says working wants fill states wa...\n",
       "9    wk really bad cough chest tightness mucinex ro...\n",
       "Name: data, dtype: object"
      ]
     },
     "execution_count": 40,
     "metadata": {},
     "output_type": "execute_result"
    }
   ],
   "source": [
    "actual_data1['data'] [:10]"
   ]
  },
  {
   "cell_type": "code",
   "execution_count": 41,
   "metadata": {
    "collapsed": true
   },
   "outputs": [],
   "source": [
    "freq_count_pre_process_data = pd.Series(' '.join(actual_data1['data']).split()).value_counts()\n",
    "freq_count_pre_process_summary = pd.Series(' '.join(actual_data1['summary']).split()).value_counts()"
   ]
  },
  {
   "cell_type": "code",
   "execution_count": 42,
   "metadata": {},
   "outputs": [
    {
     "name": "stdout",
     "output_type": "stream",
     "text": [
      "41867 12811\n",
      "1436 338\n"
     ]
    }
   ],
   "source": [
    "print(len(freq_count_pre_process_data),len(freq_count_pre_process_summary))\n",
    "print(len(set(freq_count_pre_process_data)),len(set(freq_count_pre_process_summary)))"
   ]
  },
  {
   "cell_type": "code",
   "execution_count": 43,
   "metadata": {
    "collapsed": true
   },
   "outputs": [],
   "source": [
    "pd.DataFrame(freq_count_pre_process_summary).to_csv('Guliford_Data_word_frequency_pre_process_summary_col.csv')\n",
    "pd.DataFrame(freq_count_pre_process_data).to_csv('Guliford_Data_word_frequency_pre_process_data_col.csv')"
   ]
  },
  {
   "cell_type": "code",
   "execution_count": 61,
   "metadata": {},
   "outputs": [
    {
     "name": "stdout",
     "output_type": "stream",
     "text": [
      "need      58827\n",
      "day       54294\n",
      "rx        39460\n",
      "one       38596\n",
      "tablet    37062\n",
      "daili     36013\n",
      "said      34565\n",
      "notifi    32668\n",
      "want      32035\n",
      "get       29977\n",
      "dtype: int64\n",
      "need        4600\n",
      "request     3617\n",
      "med         3463\n",
      "nan         2824\n",
      "question    2471\n",
      "answer      2359\n",
      "referr      2342\n",
      "lab         2267\n",
      "order       2068\n",
      "appoint     1931\n",
      "dtype: int64\n"
     ]
    }
   ],
   "source": [
    "#2.4 Common word removal\n",
    "#We can also remove commonly occurring words from our text data First, \n",
    "#let’s check the 10 most frequently occurring words in our text data then take call to remove or retain.\n",
    "freq_data = pd.Series(' '.join(actual_data1['data']).split()).value_counts()[:10]\n",
    "print(freq_data)\n",
    "\n",
    "freq_summary = pd.Series(' '.join(actual_data1['summary']).split()).value_counts()[:10]\n",
    "print(freq_summary)"
   ]
  },
  {
   "cell_type": "code",
   "execution_count": null,
   "metadata": {
    "collapsed": true
   },
   "outputs": [],
   "source": []
  },
  {
   "cell_type": "code",
   "execution_count": 62,
   "metadata": {},
   "outputs": [
    {
     "data": {
      "text/plain": [
       "0                                       \n",
       "1    recurr chest wall pneumonia symptom\n",
       "2                                       \n",
       "3                                       \n",
       "4                                       \n",
       "Name: summary, dtype: object"
      ]
     },
     "execution_count": 62,
     "metadata": {},
     "output_type": "execute_result"
    }
   ],
   "source": [
    "#removing commonly occurring words\n",
    "freq_data_l = list(freq_data.index)\n",
    "actual_data1['data'] = actual_data1['data'].apply(lambda x: \" \".join(x for x in x.split() if x not in freq_data_l))\n",
    "actual_data1['data'].head()\n",
    "\n",
    "\n",
    "freq_summary_l = list(freq_summary.index)\n",
    "actual_data1['summary'] = actual_data1['summary'].apply(lambda x: \" \".join(x for x in x.split() if x not in freq_summary_l))\n",
    "actual_data1['summary'].head()"
   ]
  },
  {
   "cell_type": "code",
   "execution_count": 46,
   "metadata": {},
   "outputs": [
    {
     "name": "stdout",
     "output_type": "stream",
     "text": [
      "lifesource      1\n",
      "swine           1\n",
      "cholorseptic    1\n",
      "capsular        1\n",
      "attempt         1\n",
      "heimlich        1\n",
      "hutton          1\n",
      "ilness          1\n",
      "alprzolam       1\n",
      "exceded         1\n",
      "dtype: int64\n",
      "perinihydrocodone    1\n",
      "pecystdone           1\n",
      "arbs                 1\n",
      "todayprinted         1\n",
      "nervesprinted        1\n",
      "pflurazepam          1\n",
      "tartrate             1\n",
      "densityp             1\n",
      "labsanswered         1\n",
      "methocabamal         1\n",
      "dtype: int64\n"
     ]
    }
   ],
   "source": [
    "#2.5 Rare words removal\n",
    "#Remove rarely occurring words from the text. Because they’re so rare, \n",
    "#the association between them and other words is dominated by noise. \n",
    "#You can replace rare words with a more general form and then this will have higher counts\n",
    "\n",
    "freq_rare_data = pd.Series(' '.join(actual_data1['data']).split()).value_counts()[-10:]\n",
    "print(freq_rare_data)\n",
    "\n",
    "\n",
    "freq_rare_summary = pd.Series(' '.join(actual_data1['summary']).split()).value_counts()[-10:]\n",
    "print(freq_rare_summary)"
   ]
  },
  {
   "cell_type": "code",
   "execution_count": 47,
   "metadata": {},
   "outputs": [
    {
     "name": "stdout",
     "output_type": "stream",
     "text": [
      "0    better cough congestion however low grade feve...\n",
      "1    avva recurrent pneumonia symptoms chest wall p...\n",
      "2    today st cough congestion head congestion feve...\n",
      "3    needs something stronger cough otcs tessalon b...\n",
      "4    get refill rx moxiflox days bronchitis cough c...\n",
      "Name: data, dtype: object\n",
      "0                                        nan\n",
      "1    recurrent chest wall pneumonia symptoms\n",
      "2                                        nan\n",
      "3                                        nan\n",
      "4                                        nan\n",
      "Name: summary, dtype: object\n"
     ]
    }
   ],
   "source": [
    "freq_rare_data_l = list(freq_rare_data.index)\n",
    "actual_data1['data'] = actual_data1['data'].apply(lambda x: \" \".join(x for x in x.split() if x not in freq_rare_data_l))\n",
    "print(actual_data1['data'].head())\n",
    "\n",
    "freq_rare_summary_l = list(freq_rare_summary.index)\n",
    "actual_data1['summary'] = actual_data1['summary'].apply(lambda x: \" \".join(x for x in x.split() if x not in freq_rare_summary_l))\n",
    "print(actual_data1['summary'].head())"
   ]
  },
  {
   "cell_type": "code",
   "execution_count": null,
   "metadata": {
    "collapsed": true
   },
   "outputs": [],
   "source": []
  },
  {
   "cell_type": "code",
   "execution_count": null,
   "metadata": {
    "collapsed": true
   },
   "outputs": [],
   "source": []
  },
  {
   "cell_type": "code",
   "execution_count": 63,
   "metadata": {
    "collapsed": true
   },
   "outputs": [],
   "source": [
    "from nltk.stem import PorterStemmer\n",
    "st = PorterStemmer()\n",
    "actual_data1['data'] = actual_data1['data'].apply(lambda x: \" \".join([st.stem(word) for word in x.split()]))\n",
    "actual_data1['summary'] = actual_data1['summary'].apply(lambda x: \" \".join([st.stem(word) for word in x.split()]))"
   ]
  },
  {
   "cell_type": "code",
   "execution_count": 64,
   "metadata": {},
   "outputs": [
    {
     "data": {
      "text/html": [
       "<div>\n",
       "<style>\n",
       "    .dataframe thead tr:only-child th {\n",
       "        text-align: right;\n",
       "    }\n",
       "\n",
       "    .dataframe thead th {\n",
       "        text-align: left;\n",
       "    }\n",
       "\n",
       "    .dataframe tbody tr th {\n",
       "        vertical-align: top;\n",
       "    }\n",
       "</style>\n",
       "<table border=\"1\" class=\"dataframe\">\n",
       "  <thead>\n",
       "    <tr style=\"text-align: right;\">\n",
       "      <th></th>\n",
       "      <th>summary</th>\n",
       "      <th>data</th>\n",
       "      <th>categories</th>\n",
       "      <th>sub_categories</th>\n",
       "      <th>appointment</th>\n",
       "      <th>word_count</th>\n",
       "      <th>unique_word_count</th>\n",
       "      <th>stopwords</th>\n",
       "    </tr>\n",
       "  </thead>\n",
       "  <tbody>\n",
       "    <tr>\n",
       "      <th>0</th>\n",
       "      <td></td>\n",
       "      <td>better cough congest howev low grade fever sle...</td>\n",
       "      <td>ASK_A_DOCTOR</td>\n",
       "      <td>MEDICATION RELATED</td>\n",
       "      <td>NO</td>\n",
       "      <td>214</td>\n",
       "      <td>73</td>\n",
       "      <td>35</td>\n",
       "    </tr>\n",
       "    <tr>\n",
       "      <th>1</th>\n",
       "      <td>recurr chest wall pneumonia symptom</td>\n",
       "      <td>avva recurr pneumonia symptom chest wall pain ...</td>\n",
       "      <td>ASK_A_DOCTOR</td>\n",
       "      <td>SYMPTOMS</td>\n",
       "      <td>NO</td>\n",
       "      <td>88</td>\n",
       "      <td>50</td>\n",
       "      <td>14</td>\n",
       "    </tr>\n",
       "    <tr>\n",
       "      <th>2</th>\n",
       "      <td></td>\n",
       "      <td>today st cough congest head congest fever seve...</td>\n",
       "      <td>ASK_A_DOCTOR</td>\n",
       "      <td>MEDICATION RELATED</td>\n",
       "      <td>NO</td>\n",
       "      <td>219</td>\n",
       "      <td>54</td>\n",
       "      <td>9</td>\n",
       "    </tr>\n",
       "    <tr>\n",
       "      <th>3</th>\n",
       "      <td></td>\n",
       "      <td>someth stronger cough otc tessalon benzonat ca...</td>\n",
       "      <td>PRESCRIPTION</td>\n",
       "      <td>REFILL</td>\n",
       "      <td>NO</td>\n",
       "      <td>85</td>\n",
       "      <td>27</td>\n",
       "      <td>4</td>\n",
       "    </tr>\n",
       "    <tr>\n",
       "      <th>4</th>\n",
       "      <td></td>\n",
       "      <td>refil moxiflox bronchiti cough congest sputum ...</td>\n",
       "      <td>PRESCRIPTION</td>\n",
       "      <td>REFILL</td>\n",
       "      <td>NO</td>\n",
       "      <td>145</td>\n",
       "      <td>47</td>\n",
       "      <td>13</td>\n",
       "    </tr>\n",
       "  </tbody>\n",
       "</table>\n",
       "</div>"
      ],
      "text/plain": [
       "                               summary  \\\n",
       "0                                        \n",
       "1  recurr chest wall pneumonia symptom   \n",
       "2                                        \n",
       "3                                        \n",
       "4                                        \n",
       "\n",
       "                                                data    categories  \\\n",
       "0  better cough congest howev low grade fever sle...  ASK_A_DOCTOR   \n",
       "1  avva recurr pneumonia symptom chest wall pain ...  ASK_A_DOCTOR   \n",
       "2  today st cough congest head congest fever seve...  ASK_A_DOCTOR   \n",
       "3  someth stronger cough otc tessalon benzonat ca...  PRESCRIPTION   \n",
       "4  refil moxiflox bronchiti cough congest sputum ...  PRESCRIPTION   \n",
       "\n",
       "       sub_categories appointment  word_count  unique_word_count  stopwords  \n",
       "0  MEDICATION RELATED          NO         214                 73         35  \n",
       "1            SYMPTOMS          NO          88                 50         14  \n",
       "2  MEDICATION RELATED          NO         219                 54          9  \n",
       "3              REFILL          NO          85                 27          4  \n",
       "4              REFILL          NO         145                 47         13  "
      ]
     },
     "execution_count": 64,
     "metadata": {},
     "output_type": "execute_result"
    }
   ],
   "source": [
    "actual_data1.head()"
   ]
  },
  {
   "cell_type": "code",
   "execution_count": 72,
   "metadata": {
    "collapsed": true
   },
   "outputs": [],
   "source": [
    "actual_data1.to_csv(\"actual_data1.csv\")"
   ]
  },
  {
   "cell_type": "code",
   "execution_count": 65,
   "metadata": {
    "collapsed": true
   },
   "outputs": [],
   "source": [
    "train_data=actual_data1\n",
    "#test_data=actual_data1[50000:]"
   ]
  },
  {
   "cell_type": "code",
   "execution_count": 66,
   "metadata": {},
   "outputs": [
    {
     "data": {
      "text/plain": [
       "(86554, 8)"
      ]
     },
     "execution_count": 66,
     "metadata": {},
     "output_type": "execute_result"
    }
   ],
   "source": [
    "train_data.shape"
   ]
  },
  {
   "cell_type": "code",
   "execution_count": 156,
   "metadata": {
    "collapsed": true
   },
   "outputs": [],
   "source": [
    "#test_data.shape"
   ]
  },
  {
   "cell_type": "code",
   "execution_count": 51,
   "metadata": {
    "collapsed": true
   },
   "outputs": [],
   "source": [
    "#train_data_x=train_data[['summary','data']]"
   ]
  },
  {
   "cell_type": "code",
   "execution_count": 79,
   "metadata": {
    "collapsed": true
   },
   "outputs": [],
   "source": [
    "#train_data_y=train_data[['categories']]"
   ]
  },
  {
   "cell_type": "code",
   "execution_count": 80,
   "metadata": {
    "collapsed": true
   },
   "outputs": [],
   "source": [
    "#test_data_x=test_data[['summary','data']]"
   ]
  },
  {
   "cell_type": "code",
   "execution_count": 81,
   "metadata": {
    "collapsed": true
   },
   "outputs": [],
   "source": [
    "#test_data_y=test_data[['categories']]"
   ]
  },
  {
   "cell_type": "code",
   "execution_count": null,
   "metadata": {
    "collapsed": true
   },
   "outputs": [],
   "source": []
  },
  {
   "cell_type": "code",
   "execution_count": 67,
   "metadata": {
    "collapsed": true
   },
   "outputs": [],
   "source": [
    "#doing TF-IDF\n",
    "from sklearn.feature_extraction.text import TfidfVectorizer\n",
    "tfidf_data_vectorizer = TfidfVectorizer(ngram_range=(1,2),norm=\"l2\",max_features= 3000)\n",
    "tfidf_data = tfidf_data_vectorizer.fit_transform(train_data[\"data\"])"
   ]
  },
  {
   "cell_type": "code",
   "execution_count": 68,
   "metadata": {
    "collapsed": true
   },
   "outputs": [],
   "source": [
    "dense_data = tfidf_data.todense()"
   ]
  },
  {
   "cell_type": "code",
   "execution_count": 69,
   "metadata": {},
   "outputs": [
    {
     "name": "stdout",
     "output_type": "stream",
     "text": [
      "(86554, 3000)\n"
     ]
    }
   ],
   "source": [
    "print(dense_data.shape)"
   ]
  },
  {
   "cell_type": "code",
   "execution_count": 70,
   "metadata": {},
   "outputs": [
    {
     "data": {
      "text/plain": [
       "(86554, 3000)"
      ]
     },
     "execution_count": 70,
     "metadata": {},
     "output_type": "execute_result"
    }
   ],
   "source": [
    "tfidf_data.shape"
   ]
  },
  {
   "cell_type": "code",
   "execution_count": 71,
   "metadata": {
    "collapsed": true
   },
   "outputs": [],
   "source": [
    "tfidf_summary_vectorizer = TfidfVectorizer(ngram_range=(1,2),norm=\"l2\",max_features= 1000)\n",
    "tfidf_summary = tfidf_summary_vectorizer.fit_transform(train_data[\"summary\"])"
   ]
  },
  {
   "cell_type": "code",
   "execution_count": 72,
   "metadata": {
    "collapsed": true
   },
   "outputs": [],
   "source": [
    "dense_summary = tfidf_summary.todense()"
   ]
  },
  {
   "cell_type": "code",
   "execution_count": 73,
   "metadata": {},
   "outputs": [
    {
     "name": "stdout",
     "output_type": "stream",
     "text": [
      "(86554, 1000)\n"
     ]
    }
   ],
   "source": [
    "print(dense_summary.shape)"
   ]
  },
  {
   "cell_type": "code",
   "execution_count": 74,
   "metadata": {},
   "outputs": [
    {
     "name": "stdout",
     "output_type": "stream",
     "text": [
      "3000\n",
      "['ab', 'abd', 'abd pain', 'abdomen', 'abdomin', 'abdomin pain', 'abl', 'abnorm', 'abx', 'abx sent', 'accid', 'accu', 'accu chek', 'acet', 'acetaminophen', 'acetaminophen hydrocodon', 'acetaminophen mouth', 'acetaminophen po', 'acetonid', 'acetonid appli', 'acetonid ext', 'ach', 'achi', 'acid', 'act', 'act inh', 'act nasal', 'action', 'action ap', 'action complet', 'action fwd', 'action inform', 'action melissa', 'action sampl', 'action tisha', 'activ', 'actual', 'acut', 'acyclovir', 'ad', 'adder', 'adder amphetamin', 'adder xr', 'addit', 'address', 'adjust', 'administ', 'admit', 'advair', 'advanc', 'advi', 'advi action', 'advi amanda', 'advi ap', 'advi check', 'advi could', 'advi go', 'advi kelli', 'advi melissa', 'advi see', 'advi send', 'advi sent', 'advi shanon', 'advi today', 'advic', 'advil', 'aepb', 'aer', 'aer albuterol', 'aerosol', 'affect', 'affect area', 'affect eye', 'afford', 'afib', 'afraid', 'afternoon', 'age', 'ago', 'agr', 'agreeabl', 'agreeabl ami', 'agreeabl ap', 'agreeabl see', 'ahc', 'ahead', 'aid', 'al', 'alam', 'alam church', 'albuterol', 'albuterol sulfat', 'alendron', 'alendron sodium', 'alev', 'align', 'align counter', 'align otc', 'alisa', 'alisa borland', 'allegra', 'allerg', 'allerg medic', 'allergi', 'allergi pcn', 'allergi sulfa', 'allergist', 'allopurinol', 'almost', 'along', 'alot', 'alprazolam', 'alprazolam alprazolam', 'alprazolam mouth', 'alprazolam po', 'alreadi', 'altern', 'alway', 'amanda', 'amanda gray', 'ambien', 'ambien zolpidem', 'ami', 'ami roger', 'ami wrote', 'amlodipin', 'amlodipin besyl', 'amount', 'amoxicillin', 'amoxicillin amoxicillin', 'amoxicillin capsul', 'amoxicillin mouth', 'amoxicillin po', 'amoxicillin pot', 'amoxil', 'amphetamin', 'amphetamin dextroamphetamin', 'ankl', 'ann', 'annual', 'anoth', 'answer', 'anti', 'antibiot', 'antihistamin', 'anxieti', 'anymor', 'anyon', 'anyth', 'anyth el', 'anyway', 'ap', 'ap ami', 'ap ap', 'ap avva', 'ap brittani', 'ap cancel', 'ap date', 'ap friday', 'ap made', 'ap monday', 'ap new', 'ap next', 'ap schedul', 'ap see', 'ap seen', 'ap shanon', 'ap stephani', 'ap sue', 'ap time', 'ap today', 'ap tomorrow', 'ape', 'ape lab', 'apolog', 'app', 'appear', 'appetit', 'appli', 'appli affect', 'appli patch', 'appoint', 'appoint brittani', 'appoint made', 'appoint new', 'appoint schedul', 'appoint stephani', 'appoint sue', 'appoint today', 'appropri', 'approv', 'approv scott', 'area', 'area twice', 'aric', 'arm', 'aronson', 'aronson directli', 'aronson electron', 'aronson method', 'around', 'arrang', 'arriv', 'arteri', 'arthriti', 'asa', 'asap', 'asheboro', 'ashley', 'ashley cross', 'ask', 'ask return', 'aspart', 'aspart inject', 'aspirin', 'assess', 'assist', 'assist reason', 'assum', 'asthma', 'ate', 'atenolol', 'ativan', 'atorvastatin', 'atorvastatin calcium', 'attach', 'attack', 'attend', 'augmentin', 'augmentin amoxicillin', 'augmentin bid', 'auth', 'author', 'author avva', 'author daniel', 'author electron', 'author mark', 'author richard', 'author scott', 'author stephen', 'author william', 'av', 'avail', 'ave', 'ave greensboro', 'ave retail', 'avenu', 'avenu greensboro', 'averag', 'aviva', 'avoid', 'avva', 'avva agreeabl', 'avva ami', 'avva electron', 'avva lm', 'avva sent', 'await', 'awar', 'away', 'awhil', 'azithromycin', 'azithromycin azithromycin', 'azithromycin direct', 'azithromycin mouth', 'azithromycin pak', 'azithromycin per', 'azithromycin po', 'azithromycin two', 'azithromycin use', 'bacteri', 'bactrim', 'bactrim ds', 'bactroban', 'bad', 'bad cough', 'balanc', 'baptist', 'basal', 'base', 'base mcg', 'bathroom', 'battleground', 'battleground ave', 'baumann', 'bayada', 'bayer', 'bc', 'bcb', 'bd', 'beach', 'becom', 'becua', 'bed', 'bedtim', 'begin', 'behind', 'behind ear', 'believ', 'belsomra', 'benadryl', 'benazepril', 'benefit', 'benicar', 'benzonat', 'benzonat cap', 'benzonat capsul', 'benzonat po', 'best', 'besyl', 'besyl amlodipin', 'besyl mouth', 'besyl po', 'better', 'betti', 'bg', 'bid', 'bid align', 'bid cefdinir', 'bid cipro', 'bid directli', 'bid prn', 'bid richard', 'big', 'bilat', 'bill', 'biopsi', 'bit', 'bite', 'bjh', 'black', 'bladder', 'bleed', 'blister', 'blood', 'blood clot', 'blood gluco', 'blood pressur', 'blood stool', 'blood sugar', 'blood test', 'blood thinner', 'blood urin', 'blood use', 'bloodwork', 'blow', 'blue', 'blue invitr', 'blvd', 'bm', 'bmet', 'bmn', 'bodi', 'bodi ach', 'bone', 'bone densiti', 'boniva', 'borland', 'borland lpn', 'bother', 'bottl', 'bottom', 'bowel', 'bowel movement', 'box', 'bp', 'bp med', 'bp medic', 'bp read', 'brain', 'brand', 'brand phillip', 'break', 'breakfast', 'breast', 'breath', 'breo', 'bring', 'britt', 'brittani', 'brittani new', 'brittani today', 'brittani turbevil', 'broke', 'broken', 'bronchiti', 'brookdal', 'brother', 'brought', 'brown', 'brown gardin', 'brui', 'bs', 'bug', 'bump', 'bupropion', 'bupropion hcl', 'burlington', 'burn', 'burn urin', 'busi', 'bydureon', 'bystol', 'ca', 'calcium', 'calcium atorvastatin', 'calcium mouth', 'calcium po', 'call', 'call see', 'came', 'came offic', 'cancel', 'cancel ap', 'cancer', 'cannot', 'cant', 'cap', 'cap benzonat', 'cap cefdinir', 'cap cephalexin', 'cap doxycyclin', 'cap gabapentin', 'cap nitrofurantoin', 'cap oseltamivir', 'cap pregabalin', 'capsul', 'capsul benzonat', 'capsul cefdinir', 'capsul enter', 'capsul mouth', 'capsul oseltamivir', 'capsul po', 'capsul three', 'capsul twice', 'car', 'card', 'cardiac', 'cardiolog', 'cardiologist', 'care', 'care contact', 'caregiv', 'caremark', 'carol', 'carolina', 'carotid', 'carri', 'carvedilol', 'case', 'catherin', 'catherin miller', 'cathey', 'cathi', 'cau', 'cbc', 'cbg', 'cc', 'cc mouth', 'cefdinir', 'cefdinir bid', 'cefdinir cap', 'cefdinir capsul', 'cefdinir po', 'celebrex', 'cell', 'cell ami', 'cell donna', 'cell kari', 'cell melissa', 'cellul', 'center', 'cephalexin', 'ch', 'chair', 'chang', 'chang med', 'chang medic', 'chart', 'cheaper', 'check', 'check blood', 'check bp', 'check cbg', 'check pharmaci', 'check see', 'check sugar', 'chek', 'chek aviva', 'chest', 'chest congest', 'chest pain', 'chest ray', 'chest tight', 'chill', 'chill bodi', 'chlorid', 'choic', 'cholesterol', 'christina', 'christina pifer', 'chronic', 'church', 'ciali', 'cindi', 'cipro', 'cipro bid', 'cipro ciprofloxacin', 'ciprofloxacin', 'ciprofloxacin hcl', 'citalopram', 'citi', 'citrat', 'clarifi', 'claritin', 'clark', 'clavulan', 'clavulan mouth', 'clavulan po', 'clean', 'clear', 'clearanc', 'clindamycin', 'clinic', 'clinic amanda', 'clinic ashley', 'clinic kari', 'clinic lisa', 'clinic melissa', 'clonazepam', 'close', 'clot', 'cmet', 'cna', 'cna action', 'cna author', 'cna cont', 'cna kelli', 'cna method', 'cna prescript', 'cna reason', 'co', 'code', 'codein', 'coe', 'coe lpn', 'colchicin', 'colcri', 'colcri colchicin', 'cold', 'colleg', 'colleg rd', 'colon', 'colon health', 'colonoscopi', 'color', 'color mucou', 'come', 'comfort', 'comment', 'compani', 'complain', 'complaint', 'complet', 'complet christina', 'complet kelli', 'compress', 'comput', 'con', 'concern', 'concern ashley', 'condit', 'cone', 'confidenti', 'confirm', 'confu', 'congest', 'congest cough', 'congest facial', 'congest fever', 'conortho', 'consid', 'consist', 'constip', 'consult', 'consult dermatolog', 'consult ent', 'consult gi', 'consult orthop', 'consult urolog', 'cont', 'cont advi', 'contact', 'contact hospit', 'contact regard', 'contact transact', 'contain', 'continu', 'contour', 'contrast', 'control', 'convert', 'convert flag', 'copd', 'copi', 'cornwal', 'cornwal retail', 'correct', 'cost', 'cost less', 'costco', 'cough', 'cough chest', 'cough congest', 'cough cough', 'cough fever', 'cough green', 'cough medic', 'cough nasal', 'cough sore', 'cough syrup', 'cough tessalon', 'cough week', 'cough wheez', 'cough yellow', 'could', 'could give', 'could pick', 'could see', 'could seen', 'could send', 'could someth', 'could tri', 'coumadin', 'count', 'counter', 'counter week', 'countri', 'coupl', 'coupl week', 'cour', 'cover', 'cover insur', 'cpap', 'cpdr', 'cpdr omeprazol', 'cpep', 'cpep duloxetin', 'cr', 'cramp', 'crea', 'cream', 'crestor', 'crestor rosuvastatin', 'cri', 'critic', 'cross', 'cross author', 'cross daughter', 'cross method', 'cross new', 'cross wife', 'ct', 'ct chest', 'ct scan', 'cuff', 'cultur', 'current', 'current dose', 'current med', 'cut', 'cv', 'cv alam', 'cv battleground', 'cv colleg', 'cv cornwal', 'cv fleme', 'cv randleman', 'cv rankin', 'cv summerfield', 'cxr', 'cyclobenzaprin', 'cyclobenzaprin hcl', 'cymbalta', 'cymbalta cpep', 'cyst', 'dad', 'dana', 'dana coe', 'daniel', 'daniel paterson', 'dark', 'date', 'date note', 'date time', 'daughter', 'daughter advi', 'daughter ami', 'daughter donna', 'daughter kari', 'daughter melissa', 'daughter shanon', 'deal', 'debbi', 'deci', 'decid', 'declin', 'decrea', 'deep', 'dehydr', 'delay', 'delay relea', 'delica', 'delica lancet', 'deliveri', 'deliveri mail', 'delsym', 'dementia', 'deni', 'deni fever', 'densiti', 'dental', 'dentist', 'depend', 'depress', 'derm', 'dermatolog', 'desk', 'detail', 'detail messag', 'detemir', 'detemir inject', 'determin', 'develop', 'devic', 'devic kit', 'dexa', 'dextroamphetamin', 'diabet', 'diagno', 'diagnosi', 'diagnost', 'dialysi', 'diarrhea', 'diazepam', 'diclofenac', 'diclofenac sodium', 'didnt', 'didnt know', 'diet', 'diff', 'differ', 'difficult', 'difficulti', 'diflucan', 'diflucan fluconazol', 'diltiazem', 'dinner', 'diovan', 'diovan valsartan', 'direct', 'direct pak', 'direct per', 'direct test', 'direct zithromax', 'directli', 'directli donna', 'directli scribe', 'dirrhea', 'discharg', 'discharg date', 'discolor', 'discomfort', 'discontinu', 'discuss', 'discuss south', 'disea', 'dissolv', 'diverticul', 'dizzi', 'dj', 'dm', 'dm cough', 'dm salt', 'dob', 'doc', 'doctor', 'document', 'doesnt', 'dollar', 'done', 'donepezil', 'donna', 'donna author', 'donna cough', 'donna issu', 'donna method', 'donna new', 'donna refil', 'donna think', 'donna wrote', 'dont', 'dont know', 'doppler', 'dosag', 'dose', 'doubl', 'doxi', 'doxycyclin', 'doxycyclin hyclat', 'drain', 'drainag', 'draw', 'drawn', 'dress', 'dri', 'dri cough', 'drink', 'drinkard', 'drinkard fnp', 'drinkard new', 'drive', 'drive greensboro', 'drop', 'drop affect', 'drug', 'drug store', 'ds', 'ds sulfamethoxazol', 'dtr', 'due', 'due rxid', 'duke', 'duloxetin', 'duloxetin hcl', 'dvt', 'dx', 'dx onetouch', 'dxa', 'dxa iva', 'dyke', 'dyke action', 'dyke author', 'dyke melissa', 'dyke method', 'dyke new', 'dyke prescript', 'dyke reason', 'dyke refil', 'dyspnea', 'dysuria', 'ear', 'ear pain', 'earli', 'earlier', 'east', 'eat', 'echo', 'ed', 'edema', 'edward', 'edward new', 'effect', 'effexor', 'either', 'ekg', 'el', 'elbow', 'electron', 'electron cv', 'electron rite', 'electron sign', 'electron walgreen', 'electron walmart', 'elev', 'eliqui', 'elm', 'elmsley', 'em', 'email', 'emerg', 'emr', 'encourag', 'end', 'energi', 'enough', 'ensur', 'ent', 'ent sct', 'enter', 'enter ami', 'enter ashley', 'enter author', 'enter donna', 'enter kelli', 'enter melissa', 'enter shanon', 'enter tisha', 'episod', 'er', 'er evalu', 'er xr', 'ergocalciferol', 'error', 'erx', 'erythromycin', 'escitalopram', 'escitalopram oxal', 'especi', 'etc', 'eval', 'evalu', 'evalu avva', 'even', 'ever', 'everi', 'everi azithromycin', 'everi enter', 'everi four', 'everi hour', 'everi hr', 'everi morn', 'everi per', 'everi week', 'everyth', 'evid', 'exactli', 'exam', 'exc', 'exerci', 'expect', 'expen', 'explain', 'express', 'express script', 'ext', 'ext crea', 'ext oint', 'extend', 'extend relea', 'extern', 'extra', 'extrem', 'eye', 'ezetimib', 'face', 'facial', 'facial pressur', 'facil', 'fail', 'failur', 'fall', 'famili', 'far', 'fast', 'father', 'fatigu', 'fax', 'fax cv', 'fax note', 'fax number', 'fax order', 'fax pharmaci', 'fax rxid', 'feb', 'feel', 'feel bad', 'feel better', 'feel good', 'feel well', 'feet', 'fell', 'felt', 'fenofibr', 'fentanyl', 'fever', 'fever chill', 'fever cough', 'figur', 'file', 'fill', 'fill due', 'final', 'find', 'fine', 'finger', 'finish', 'finish abx', 'first', 'first tab', 'fl', 'flag', 'flagyl', 'flagyl metronidazol', 'flare', 'fleme', 'flexeril', 'flexpen', 'flexpen unit', 'flextouch']\n"
     ]
    }
   ],
   "source": [
    "feature_names_data = tfidf_data_vectorizer.get_feature_names()\n",
    "print(len(feature_names_data))\n",
    "print(feature_names_data[:1000])"
   ]
  },
  {
   "cell_type": "code",
   "execution_count": 75,
   "metadata": {},
   "outputs": [
    {
     "name": "stdout",
     "output_type": "stream",
     "text": [
      "1000\n",
      "['ab', 'abd', 'abdomen', 'abdomin', 'abx', 'accid', 'ach', 'achi', 'acid', 'ad', 'adder', 'adderr', 'addit', 'adher', 'admit', 'advi', 'ahc', 'aid', 'al', 'allerg', 'allergi', 'alprazolam', 'alreadi', 'altern', 'ambien', 'ami', 'amlodipin', 'androgel', 'ankl', 'ankl swell', 'annual', 'anoth', 'antibiot', 'anxieti', 'anyth', 'ape', 'app', 'appetit', 'approv', 'appt', 'area', 'arm', 'arthriti', 'asa', 'asap', 'ask', 'assist', 'asthma', 'ativan', 'atorvastatin', 'attack', 'auth', 'author', 'av', 'avva', 'await', 'awar', 'away', 'back', 'back req', 'bad', 'bayada', 'bed', 'benicar', 'better', 'bg', 'bid', 'bite', 'bjh', 'black', 'bladder', 'bleed', 'blister', 'bloat', 'blood', 'blood pressur', 'blood stool', 'blood sugar', 'blood urin', 'bm', 'bodi', 'bodi ach', 'boil', 'bone', 'bowel', 'bp', 'bp elev', 'bp high', 'bp medic', 'bp read', 'bp readingsdon', 'brand', 'breast', 'breath', 'bring', 'brittani', 'broken', 'bronchiti', 'brui', 'bs', 'bug', 'bump', 'burn', 'busi', 'buttock', 'bystol', 'calf', 'call', 'cancel', 'cancel today', 'cancer', 'cannot', 'cant', 'card', 'care', 'cathey', 'cau', 'cb', 'cbg', 'cell', 'cellul', 'center', 'cgm', 'chair', 'chang', 'chart', 'check', 'chest', 'chest congest', 'chest tight', 'chest xray', 'chill', 'cholesterol', 'ciali', 'cipro', 'clarif', 'clarifi', 'clean', 'clear', 'clearanc', 'clinic', 'clonazepam', 'co', 'co back', 'co blood', 'co chest', 'co cold', 'co cough', 'co dizzi', 'co flu', 'co left', 'co leg', 'co lesion', 'co nausea', 'co rash', 'co right', 'co sinu', 'co sore', 'co stomach', 'co swell', 'co uti', 'cold', 'colon', 'colonoscopi', 'come', 'compani', 'complet', 'compress', 'concern', 'cone', 'confirm', 'confu', 'congest', 'congest etc', 'congest fever', 'congest req', 'constip', 'consult', 'cont', 'contact', 'continu', 'control', 'copi', 'correct', 'cost', 'cough', 'coumadin', 'cover', 'coverag', 'cpap', 'cpap suppli', 'cramp', 'cream', 'crestor', 'ct', 'ct result', 'ct scan', 'cultur', 'cut', 'cv', 'cxl', 'cxr', 'cymbalta', 'cyst', 'date', 'daughter', 'daughter call', 'day', 'day suppli', 'dc', 'declin', 'decrea', 'dementia', 'deni', 'densiti', 'dental', 'depress', 'derm', 'dexa', 'dexa result', 'diabet', 'diarrhea', 'didnt', 'didnt get', 'diff', 'differ', 'difficulti', 'diflucan', 'direct', 'dirrhea', 'disabl', 'discharg', 'discomfort', 'discuss', 'dismiss', 'diverticul', 'dizzi', 'dj', 'dm', 'dm shoe', 'dm suppli', 'dnr', 'doesnt', 'doppler', 'dosag', 'dose', 'doxi', 'dr', 'drainag', 'dri', 'drive', 'drop', 'drug', 'due', 'duke', 'duti', 'dvt', 'dx', 'dyspnea', 'dysuria', 'dysuria freq', 'ear', 'ear ach', 'ear clean', 'ear infect', 'ear issu', 'ear wash', 'earli', 'eat', 'echo', 'ed', 'ed fu', 'edema', 'effect', 'ekg', 'el', 'elbow', 'elev', 'elev bp', 'elev cbg', 'elev sugar', 'eliqui', 'email', 'energi', 'ent', 'episod', 'er', 'er fu', 'etc', 'eval', 'evalu', 'exam', 'expen', 'expo', 'exposur', 'express', 'extend', 'eye', 'face', 'facial', 'facil', 'fall', 'fast', 'fatigu', 'fax', 'feel', 'feel better', 'feel good', 'feel well', 'feet', 'fell', 'fentanyl', 'fever', 'fever blister', 'fever chill', 'fill', 'find', 'finger', 'fl', 'flare', 'flona', 'flu', 'flu shot', 'flu swab', 'flu sx', 'flu symptom', 'flu vaccin', 'fluid', 'fmla', 'fmla paperwork', 'foot', 'form', 'form fill', 'freq', 'frequenc', 'friday', 'fu', 'full', 'fx', 'fyi', 'ga', 'gabapentin', 'gain', 'gel', 'gener', 'gentiva', 'get', 'gi', 'gi issu', 'give', 'given', 'gland', 'gluco', 'glucomet', 'glyxambi', 'go', 'go back', 'go er', 'good', 'got', 'gout', 'grade', 'green', 'groin', 'gso', 'gyn', 'ha', 'hand', 'handicap', 'handicap form', 'handicap placard', 'havent', 'hctz', 'head', 'headach', 'health', 'hear', 'heard', 'heart', 'help', 'hematuria', 'hemorrhoid', 'hemosur', 'hep', 'hernia', 'hh', 'hh nur', 'hh verbal', 'high', 'high blood', 'hip', 'hit', 'hit head', 'hive', 'hold', 'holwerda', 'hosp', 'hosp fu', 'hospic', 'hospit', 'hospit fu', 'hou', 'hr', 'humalog', 'humana', 'hurt', 'husband', 'hydrocodon', 'ifobt', 'imag', 'immun', 'improv', 'in', 'increa', 'inf', 'inf req', 'infect', 'info', 'inform', 'inhal', 'inject', 'injuri', 'inquir', 'inr', 'insomnia', 'insr', 'instruct', 'insulin', 'insulin sampl', 'insur', 'interact', 'intouch', 'invokana', 'iron', 'irrit', 'issu', 'itch', 'itchi', 'ivi', 'januvia', 'jardianc', 'jaw', 'joint', 'juri', 'juri duti', 'keep', 'kidney', 'kidney stone', 'kit', 'knee', 'knot', 'know', 'lancet', 'lantu', 'lasix', 'last', 'last night', 'last week', 'later', 'lbp', 'le', 'le edema', 'leav', 'leav messag', 'left', 'left arm', 'left ear', 'left leg', 'left messag', 'left side', 'leg', 'leg cramp', 'leg swell', 'lesion', 'let', 'letter', 'levaquin', 'level', 'levemir', 'lexapro', 'lift', 'lighthead', 'line', 'linzess', 'lip', 'lipitor', 'lisinopril', 'list', 'lm', 'lm vm', 'lmom', 'lmtc', 'lmtcb', 'lmtrc', 'local', 'local pharm', 'long', 'longer', 'longer cover', 'look', 'lorazepam', 'losartan', 'loss', 'lost', 'low', 'low bp', 'low grade', 'lower', 'lower back', 'lump', 'lung', 'lyrica', 'machin', 'made', 'mail', 'make', 'mammo', 'mammogram', 'manag', 'medic', 'medic adher', 'medic chang', 'medic clearanc', 'medic issu', 'medic list', 'medic readi', 'memori', 'memori issu', 'messag', 'meter', 'metformin', 'metoprolol', 'mg', 'mg sampl', 'migrain', 'miss', 'mon', 'monday', 'monitor', 'month', 'morn', 'mother', 'mouth', 'move', 'mri', 'mri result', 'much', 'multipl', 'multipl concern', 'muscl', 'muscl relax', 'mva', 'myrbetriq', 'name', 'nasal', 'nasal congest', 'nausea', 'nausea vomit', 'nd', 'neb', 'neck', 'needl', 'neg', 'nerv', 'neuro', 'new', 'new medic', 'new meter', 'new pharm', 'nexium', 'next', 'next step', 'next week', 'night', 'norco', 'nose', 'note', 'notifi', 'novolog', 'np', 'ns', 'numb', 'number', 'nur', 'nv', 'nvd', 'oak', 'offic', 'offic visit', 'omeprazol', 'one', 'opinion', 'optum', 'oral', 'ortho', 'ot', 'ot verbal', 'otc', 'ov', 'oxycodon', 'oxygen', 'pa', 'pain', 'paperwork', 'pass', 'pass away', 'patch', 'pateint', 'pateint co', 'paterson', 'patient', 'patient daughter', 'patient son', 'patient wife', 'patinet', 'patinet co', 'pcough', 'pcp', 'pe', 'pen', 'pen needl', 'per', 'perini', 'persist', 'person', 'pharm', 'pharmaci', 'physic', 'physic therapi', 'pick', 'pill', 'pink', 'pink eye', 'pl', 'placard', 'place', 'plavix', 'pna', 'pneumonia', 'podiatri', 'poison', 'poison ivi', 'portal', 'posit', 'poss', 'possibl', 'possibl flu', 'possibl uti', 'post', 'post fall', 'potassium', 'ppwk', 'pred', 'prednison', 'pressur', 'pressur problem', 'pressur read', 'prevnar', 'print', 'prior', 'prior auth', 'prior author', 'problem', 'procedur', 'product', 'prolia', 'protonix', 'psa', 'pt', 'ptinr', 'pul', 'pull', 'pull muscl', 'pulm', 'pump', 'pump start', 'put', 'quantiti', 'quest', 'rash', 'rc', 'reaction', 'read', 'readi', 'readi print', 'readi send', 'readingsdon', 'rec', 'receiv', 'recent', 'recheck', 'reclast', 'recommend', 'record', 'rectal', 'rectal bleed', 'recurr', 'red', 'ref', 'refax', 'refer', 'refil', 'refilldon', 'refillsdon', 'reflux', 'refu', 'reg', 'regard', 'rehab', 'relax', 'remov', 'repatha', 'repeat', 'report', 'req', 'req abx', 'req return', 'req today', 'req tomorrow', 'req zpak', 'rerx', 'reschedul', 'resend', 'restart', 'result', 'return', 'review', 'rf', 'rf adder', 'rf hydrocodon', 'rheum', 'rib', 'right', 'right ear', 'right leg', 'right side', 'ring', 'ritalin', 'rq', 'rq offic', 'rq ov', 'rq vo', 'rs', 'rtc', 'rtn', 'run', 'runni', 'runni nose', 'rx', 'rx sent', 'rxdone', 'said', 'sampl', 'sampl readi', 'samplesdon', 'save', 'save ami', 'scan', 'schedul', 'sciatica', 'screen', 'scri', 'script', 'se', 'see', 'seen', 'send', 'sent', 'servic', 'set', 'sever', 'sh', 'shaw', 'shingl', 'shingl vaccin', 'shob', 'shoe', 'short', 'shot', 'shoulder', 'show', 'sick', 'sick recommend', 'side', 'side effect', 'sign', 'simvastatin', 'sinc', 'sinu', 'sinu congest', 'sinu inf', 'sinu infect', 'sinu issu', 'sinu pressur', 'skin', 'sleep', 'sleep medic', 'sleep studi', 'sob', 'someon', 'someth', 'son', 'sooner', 'sore', 'sore throat', 'south', 'spasm', 'speak', 'specialist', 'specimen', 'speech', 'spell', 'spoke', 'spoke made', 'spoke sent', 'spot', 'spou', 'ss', 'st', 'start', 'statin', 'statu', 'step', 'steph', 'steroid', 'stock', 'stomach', 'stomach issu', 'stone', 'stool', 'stop', 'strep', 'stress', 'strip', 'stroke', 'stronger', 'studi', 'stye', 'sue', 'sugar', 'sugar read', 'suggest', 'suppli', 'surg', 'surgeon', 'surgeri', 'surgic', 'surgic clearanc', 'sutur', 'swab', 'swallow', 'swell', 'switch', 'swollen', 'sx', 'symptom', 'syncop', 'synthroid', 'syrup', 'take', 'talk', 'tamiflu', 'tb', 'tdap', 'temp', 'tender', 'tessalon', 'test', 'test result', 'test strip', 'testosteron', 'tetanu', 'therapi', 'therapist', 'think', 'thn', 'throat', 'thrush', 'thumb', 'thyroid', 'tick', 'tick bite', 'tight', 'time', 'tingl', 'tisovec', 'toc', 'toc dc', 'toc made', 'today', 'toe', 'toenail', 'tomorrow', 'tongu', 'tooth', 'touch', 'toujeo', 'tradjenta', 'train', 'tramadol', 'travel', 'tresiba', 'tri', 'trip', 'troubl', 'trulic', 'tsh', 'tylenol', 'ua', 'ua result', 'uc', 'uhc', 'uhc medic', 'ulcer', 'ultrasound', 'unabl', 'upcom', 'updat', 'upload', 'upper', 'upset', 'urgent', 'urgent care', 'uri', 'urin', 'urin sampl', 'urinari', 'uro', 'urolog', 'us', 'us result', 'use', 'uti', 'uti sx', 'uti symptom', 'va', 'vaccin', 'vagin', 'valtrex', 'verbal', 'verifi', 'vertigo', 'viagra', 'vision', 'visit', 'visit today', 'visit tomorrow', 'visit week', 'vit', 'vitamin', 'vm', 'vo', 'vomit', 'vs', 'vyvan', 'wait', 'walk', 'walk ua', 'walker', 'walkin', 'want', 'wash', 'wax', 'weak', 'wed', 'week', 'weight', 'weight loss', 'well', 'wellbutrin', 'wellspr', 'went', 'wheelchair', 'wheez', 'wife', 'wk', 'wor', 'work', 'work note', 'worsen', 'wound', 'wound care', 'wrist', 'wrong', 'wt', 'xanax', 'xarelto', 'xray', 'xray result', 'year', 'yeast', 'yeast inf', 'yeast infect', 'yesterday', 'zetia', 'zofran', 'zoloft', 'zolpidem', 'zpack', 'zpak']\n"
     ]
    }
   ],
   "source": [
    "feature_names_summary = tfidf_summary_vectorizer.get_feature_names()\n",
    "print(len(feature_names_summary))\n",
    "print(feature_names_summary[:1000])"
   ]
  },
  {
   "cell_type": "code",
   "execution_count": 76,
   "metadata": {
    "collapsed": true
   },
   "outputs": [],
   "source": [
    "df_data = pd.DataFrame(dense_data)\n",
    "df_summary = pd.DataFrame(dense_summary)"
   ]
  },
  {
   "cell_type": "code",
   "execution_count": 77,
   "metadata": {
    "collapsed": true
   },
   "outputs": [],
   "source": [
    "col_names2 =[]\n",
    "for i in range (3000,4000):\n",
    "    col_names2.append(i)"
   ]
  },
  {
   "cell_type": "code",
   "execution_count": 78,
   "metadata": {
    "collapsed": true
   },
   "outputs": [],
   "source": [
    "df_summary.columns=col_names2"
   ]
  },
  {
   "cell_type": "code",
   "execution_count": 79,
   "metadata": {
    "collapsed": true
   },
   "outputs": [],
   "source": [
    "preprocessed_data=pd.concat([df_data,df_summary],axis=1)"
   ]
  },
  {
   "cell_type": "code",
   "execution_count": 80,
   "metadata": {},
   "outputs": [
    {
     "data": {
      "text/plain": [
       "Int64Index([   0,    1,    2,    3,    4,    5,    6,    7,    8,    9,\n",
       "            ...\n",
       "            3990, 3991, 3992, 3993, 3994, 3995, 3996, 3997, 3998, 3999],\n",
       "           dtype='int64', length=4000)"
      ]
     },
     "execution_count": 80,
     "metadata": {},
     "output_type": "execute_result"
    }
   ],
   "source": [
    "preprocessed_data.columns"
   ]
  },
  {
   "cell_type": "code",
   "execution_count": null,
   "metadata": {
    "collapsed": true
   },
   "outputs": [],
   "source": []
  },
  {
   "cell_type": "code",
   "execution_count": 81,
   "metadata": {
    "collapsed": true
   },
   "outputs": [],
   "source": [
    "x_train = preprocessed_data\n",
    "y_train= train_data.categories\n",
    "y_train2= train_data.sub_categories\n",
    "#y_train2=actual_data1.sub_categories\n",
    "y_train3=actual_data1.appointment"
   ]
  },
  {
   "cell_type": "code",
   "execution_count": 82,
   "metadata": {},
   "outputs": [
    {
     "name": "stdout",
     "output_type": "stream",
     "text": [
      "Training took 24.453 seconds\n"
     ]
    }
   ],
   "source": [
    "start = time.time()\n",
    "from sklearn.model_selection import train_test_split\n",
    "\n",
    "X_train, X_test, Y_train, Y_test = train_test_split(x_train, y_train, test_size=0.20, random_state=42)\n",
    "\n",
    "print(\"Training took {:0.3f} seconds\".format(time.time()-start))"
   ]
  },
  {
   "cell_type": "code",
   "execution_count": 86,
   "metadata": {},
   "outputs": [
    {
     "data": {
      "text/plain": [
       "(69243, 4000)"
      ]
     },
     "execution_count": 86,
     "metadata": {},
     "output_type": "execute_result"
    }
   ],
   "source": [
    "X_train.shape"
   ]
  },
  {
   "cell_type": "code",
   "execution_count": 100,
   "metadata": {},
   "outputs": [],
   "source": [
    "Y_train= np.array(Y_train)"
   ]
  },
  {
   "cell_type": "code",
   "execution_count": 101,
   "metadata": {},
   "outputs": [
    {
     "data": {
      "text/plain": [
       "array(['ASK_A_DOCTOR', 'PRESCRIPTION', 'ASK_A_DOCTOR', ..., 'APPOINTMENTS',\n",
       "       'LAB', 'ASK_A_DOCTOR'], dtype=object)"
      ]
     },
     "execution_count": 101,
     "metadata": {},
     "output_type": "execute_result"
    }
   ],
   "source": [
    "Y_train"
   ]
  },
  {
   "cell_type": "code",
   "execution_count": 172,
   "metadata": {
    "collapsed": true
   },
   "outputs": [],
   "source": [
    "#import matplotlib.pyplot as plt\n",
    "#plt.plot(X_train)"
   ]
  },
  {
   "cell_type": "code",
   "execution_count": 117,
   "metadata": {},
   "outputs": [],
   "source": [
    "X_train = np.array(X_train)"
   ]
  },
  {
   "cell_type": "code",
   "execution_count": 83,
   "metadata": {
    "collapsed": true
   },
   "outputs": [],
   "source": [
    "import time\n",
    "from sklearn.metrics import roc_auc_score\n",
    "from sklearn.ensemble import RandomForestClassifier"
   ]
  },
  {
   "cell_type": "code",
   "execution_count": 109,
   "metadata": {
    "collapsed": true
   },
   "outputs": [],
   "source": [
    "from keras.models import Sequential\n",
    "from keras.layers import Dense"
   ]
  },
  {
   "cell_type": "code",
   "execution_count": 110,
   "metadata": {
    "collapsed": true
   },
   "outputs": [],
   "source": [
    "model = Sequential()"
   ]
  },
  {
   "cell_type": "code",
   "execution_count": 125,
   "metadata": {
    "collapsed": true
   },
   "outputs": [],
   "source": [
    "model.add(Dense(units=100,input_dim = 4000,kernel_initializer='uniform',activation='relu'))\n",
    "model.add(Dense(units=64,kernel_initializer='uniform',activation='relu'))\n",
    "model.add(Dense(units=5,kernel_initializer='uniform',activation='sigmoid'))"
   ]
  },
  {
   "cell_type": "code",
   "execution_count": 126,
   "metadata": {
    "collapsed": true
   },
   "outputs": [],
   "source": [
    "#compiling the ANN\n",
    "model.compile(optimizer='adam',loss='categorical_crossentropy',metrics=['accuracy'])"
   ]
  },
  {
   "cell_type": "code",
   "execution_count": 127,
   "metadata": {},
   "outputs": [
    {
     "ename": "ValueError",
     "evalue": "Error when checking target: expected dense_21 to have shape (None, 5) but got array with shape (69243, 1)",
     "output_type": "error",
     "traceback": [
      "\u001b[1;31m---------------------------------------------------------------------------\u001b[0m",
      "\u001b[1;31mValueError\u001b[0m                                Traceback (most recent call last)",
      "\u001b[1;32m<ipython-input-127-d4e66ae643f0>\u001b[0m in \u001b[0;36m<module>\u001b[1;34m()\u001b[0m\n\u001b[1;32m----> 1\u001b[1;33m \u001b[0mmodel\u001b[0m\u001b[1;33m.\u001b[0m\u001b[0mfit\u001b[0m\u001b[1;33m(\u001b[0m\u001b[0mX_train\u001b[0m\u001b[1;33m,\u001b[0m\u001b[0mY_train\u001b[0m\u001b[1;33m,\u001b[0m\u001b[0mbatch_size\u001b[0m\u001b[1;33m=\u001b[0m\u001b[1;36m32\u001b[0m\u001b[1;33m,\u001b[0m\u001b[0mepochs\u001b[0m\u001b[1;33m=\u001b[0m\u001b[1;36m20\u001b[0m\u001b[1;33m)\u001b[0m\u001b[1;33m\u001b[0m\u001b[0m\n\u001b[0m",
      "\u001b[1;32mE:\\Anaconda3\\lib\\site-packages\\keras\\models.py\u001b[0m in \u001b[0;36mfit\u001b[1;34m(self, x, y, batch_size, epochs, verbose, callbacks, validation_split, validation_data, shuffle, class_weight, sample_weight, initial_epoch, **kwargs)\u001b[0m\n\u001b[0;32m    865\u001b[0m                               \u001b[0mclass_weight\u001b[0m\u001b[1;33m=\u001b[0m\u001b[0mclass_weight\u001b[0m\u001b[1;33m,\u001b[0m\u001b[1;33m\u001b[0m\u001b[0m\n\u001b[0;32m    866\u001b[0m                               \u001b[0msample_weight\u001b[0m\u001b[1;33m=\u001b[0m\u001b[0msample_weight\u001b[0m\u001b[1;33m,\u001b[0m\u001b[1;33m\u001b[0m\u001b[0m\n\u001b[1;32m--> 867\u001b[1;33m                               initial_epoch=initial_epoch)\n\u001b[0m\u001b[0;32m    868\u001b[0m \u001b[1;33m\u001b[0m\u001b[0m\n\u001b[0;32m    869\u001b[0m     def evaluate(self, x, y, batch_size=32, verbose=1,\n",
      "\u001b[1;32mE:\\Anaconda3\\lib\\site-packages\\keras\\engine\\training.py\u001b[0m in \u001b[0;36mfit\u001b[1;34m(self, x, y, batch_size, epochs, verbose, callbacks, validation_split, validation_data, shuffle, class_weight, sample_weight, initial_epoch, steps_per_epoch, validation_steps, **kwargs)\u001b[0m\n\u001b[0;32m   1520\u001b[0m             \u001b[0mclass_weight\u001b[0m\u001b[1;33m=\u001b[0m\u001b[0mclass_weight\u001b[0m\u001b[1;33m,\u001b[0m\u001b[1;33m\u001b[0m\u001b[0m\n\u001b[0;32m   1521\u001b[0m             \u001b[0mcheck_batch_axis\u001b[0m\u001b[1;33m=\u001b[0m\u001b[1;32mFalse\u001b[0m\u001b[1;33m,\u001b[0m\u001b[1;33m\u001b[0m\u001b[0m\n\u001b[1;32m-> 1522\u001b[1;33m             batch_size=batch_size)\n\u001b[0m\u001b[0;32m   1523\u001b[0m         \u001b[1;31m# Prepare validation data.\u001b[0m\u001b[1;33m\u001b[0m\u001b[1;33m\u001b[0m\u001b[0m\n\u001b[0;32m   1524\u001b[0m         \u001b[0mdo_validation\u001b[0m \u001b[1;33m=\u001b[0m \u001b[1;32mFalse\u001b[0m\u001b[1;33m\u001b[0m\u001b[0m\n",
      "\u001b[1;32mE:\\Anaconda3\\lib\\site-packages\\keras\\engine\\training.py\u001b[0m in \u001b[0;36m_standardize_user_data\u001b[1;34m(self, x, y, sample_weight, class_weight, check_batch_axis, batch_size)\u001b[0m\n\u001b[0;32m   1380\u001b[0m                                     \u001b[0moutput_shapes\u001b[0m\u001b[1;33m,\u001b[0m\u001b[1;33m\u001b[0m\u001b[0m\n\u001b[0;32m   1381\u001b[0m                                     \u001b[0mcheck_batch_axis\u001b[0m\u001b[1;33m=\u001b[0m\u001b[1;32mFalse\u001b[0m\u001b[1;33m,\u001b[0m\u001b[1;33m\u001b[0m\u001b[0m\n\u001b[1;32m-> 1382\u001b[1;33m                                     exception_prefix='target')\n\u001b[0m\u001b[0;32m   1383\u001b[0m         sample_weights = _standardize_sample_weights(sample_weight,\n\u001b[0;32m   1384\u001b[0m                                                      self._feed_output_names)\n",
      "\u001b[1;32mE:\\Anaconda3\\lib\\site-packages\\keras\\engine\\training.py\u001b[0m in \u001b[0;36m_standardize_input_data\u001b[1;34m(data, names, shapes, check_batch_axis, exception_prefix)\u001b[0m\n\u001b[0;32m    142\u001b[0m                             \u001b[1;34m' to have shape '\u001b[0m \u001b[1;33m+\u001b[0m \u001b[0mstr\u001b[0m\u001b[1;33m(\u001b[0m\u001b[0mshapes\u001b[0m\u001b[1;33m[\u001b[0m\u001b[0mi\u001b[0m\u001b[1;33m]\u001b[0m\u001b[1;33m)\u001b[0m \u001b[1;33m+\u001b[0m\u001b[1;33m\u001b[0m\u001b[0m\n\u001b[0;32m    143\u001b[0m                             \u001b[1;34m' but got array with shape '\u001b[0m \u001b[1;33m+\u001b[0m\u001b[1;33m\u001b[0m\u001b[0m\n\u001b[1;32m--> 144\u001b[1;33m                             str(array.shape))\n\u001b[0m\u001b[0;32m    145\u001b[0m     \u001b[1;32mreturn\u001b[0m \u001b[0marrays\u001b[0m\u001b[1;33m\u001b[0m\u001b[0m\n\u001b[0;32m    146\u001b[0m \u001b[1;33m\u001b[0m\u001b[0m\n",
      "\u001b[1;31mValueError\u001b[0m: Error when checking target: expected dense_21 to have shape (None, 5) but got array with shape (69243, 1)"
     ]
    }
   ],
   "source": [
    "model.fit(X_train,Y_train,batch_size=32,epochs=20)"
   ]
  },
  {
   "cell_type": "code",
   "execution_count": 174,
   "metadata": {},
   "outputs": [
    {
     "name": "stdout",
     "output_type": "stream",
     "text": [
      "Training took 260.641 seconds\n"
     ]
    }
   ],
   "source": [
    "start = time.time()\n",
    "model_random = RandomForestClassifier(n_estimators = 1000,n_jobs = -1,random_state =1,max_features = \"auto\",max_depth=30 ,min_samples_leaf = 50)\n",
    "model_fit = model_random.fit(X_train,Y_train)\n",
    "print(\"Training took {:0.3f} seconds\".format(time.time()-start))"
   ]
  },
  {
   "cell_type": "code",
   "execution_count": 175,
   "metadata": {},
   "outputs": [
    {
     "data": {
      "text/plain": [
       "array(['APPOINTMENTS', 'ASK_A_DOCTOR', 'APPOINTMENTS', ...,\n",
       "       'PRESCRIPTION', 'ASK_A_DOCTOR', 'ASK_A_DOCTOR'], dtype=object)"
      ]
     },
     "execution_count": 175,
     "metadata": {},
     "output_type": "execute_result"
    }
   ],
   "source": [
    "pred_test = model_fit.predict(X_test)\n",
    "pred_test"
   ]
  },
  {
   "cell_type": "code",
   "execution_count": null,
   "metadata": {
    "collapsed": true
   },
   "outputs": [],
   "source": []
  },
  {
   "cell_type": "markdown",
   "metadata": {},
   "source": [
    "# CONFUSION MATRIX\n",
    "     #Accuracy : the proportion of the total number of predictions that were correct. \n",
    "     #Positive Predictive Value or Precision : the proportion of positive cases that were correctly identified.\n",
    "     #Sensitivity or Recall : the proportion of actual positive cases which are correctly identified.\n",
    "     #Specificity : the proportion of actual negative cases which are correctly identified.\n",
    "     #Negative Predictive Value : the proportion of negative cases that were correctly identified."
   ]
  },
  {
   "cell_type": "code",
   "execution_count": 176,
   "metadata": {},
   "outputs": [
    {
     "name": "stdout",
     "output_type": "stream",
     "text": [
      "0.7124371786725203\n"
     ]
    }
   ],
   "source": [
    "from sklearn.metrics import accuracy_score,classification_report,precision_score,recall_score,precision_recall_curve,roc_curve,confusion_matrix\n",
    "print(accuracy_score(Y_test,pred_test))"
   ]
  },
  {
   "cell_type": "code",
   "execution_count": 118,
   "metadata": {},
   "outputs": [
    {
     "name": "stdout",
     "output_type": "stream",
     "text": [
      "               precision    recall  f1-score   support\n",
      "\n",
      " APPOINTMENTS       0.83      0.86      0.84      3883\n",
      " ASK_A_DOCTOR       0.63      0.86      0.73      6247\n",
      "          LAB       0.98      0.42      0.58       689\n",
      "MISCELLANEOUS       0.79      0.40      0.53      2198\n",
      " PRESCRIPTION       0.86      0.68      0.76      4294\n",
      "\n",
      "  avg / total       0.77      0.74      0.73     17311\n",
      "\n"
     ]
    }
   ],
   "source": [
    "print(classification_report(Y_test,pred_test))"
   ]
  },
  {
   "cell_type": "code",
   "execution_count": 119,
   "metadata": {},
   "outputs": [
    {
     "data": {
      "text/plain": [
       "17311"
      ]
     },
     "execution_count": 119,
     "metadata": {},
     "output_type": "execute_result"
    }
   ],
   "source": [
    "len(Y_test)"
   ]
  },
  {
   "cell_type": "code",
   "execution_count": 120,
   "metadata": {},
   "outputs": [
    {
     "data": {
      "text/plain": [
       "ASK_A_DOCTOR     6247\n",
       "PRESCRIPTION     4294\n",
       "APPOINTMENTS     3883\n",
       "MISCELLANEOUS    2198\n",
       "LAB               689\n",
       "Name: categories, dtype: int64"
      ]
     },
     "execution_count": 120,
     "metadata": {},
     "output_type": "execute_result"
    }
   ],
   "source": [
    "Y_test.value_counts()"
   ]
  },
  {
   "cell_type": "code",
   "execution_count": 121,
   "metadata": {
    "collapsed": true
   },
   "outputs": [],
   "source": [
    "from nltk import ConfusionMatrix"
   ]
  },
  {
   "cell_type": "code",
   "execution_count": 122,
   "metadata": {},
   "outputs": [
    {
     "data": {
      "text/plain": [
       "<ConfusionMatrix: 12811/17311 correct>"
      ]
     },
     "execution_count": 122,
     "metadata": {},
     "output_type": "execute_result"
    }
   ],
   "source": [
    "ConfusionMatrix(list(Y_test), list(pred_test))"
   ]
  },
  {
   "cell_type": "code",
   "execution_count": 123,
   "metadata": {
    "scrolled": true
   },
   "outputs": [
    {
     "name": "stdout",
     "output_type": "stream",
     "text": [
      "              |                   M      |\n",
      "              |    A    A         I    P |\n",
      "              |    P    S         S    R |\n",
      "              |    P    K         C    E |\n",
      "              |    O    _         E    S |\n",
      "              |    I    A         L    C |\n",
      "              |    N    _         L    R |\n",
      "              |    T    D         A    I |\n",
      "              |    M    O         N    P |\n",
      "              |    E    C         E    T |\n",
      "              |    N    T    L    O    I |\n",
      "              |    T    O    A    U    O |\n",
      "              |    S    R    B    S    N |\n",
      "--------------+--------------------------+\n",
      " APPOINTMENTS |<3328> 514    1   24   16 |\n",
      " ASK_A_DOCTOR |  427<5389>   3   97  331 |\n",
      "          LAB |   33  319 <286>  43    8 |\n",
      "MISCELLANEOUS |  173 1032    3 <888> 102 |\n",
      " PRESCRIPTION |   45 1256    .   73<2920>|\n",
      "--------------+--------------------------+\n",
      "(row = reference; col = test)\n",
      "\n"
     ]
    }
   ],
   "source": [
    "print(ConfusionMatrix(list(Y_test), list(pred_test)))"
   ]
  },
  {
   "cell_type": "code",
   "execution_count": 129,
   "metadata": {
    "scrolled": true
   },
   "outputs": [
    {
     "data": {
      "text/plain": [
       "Int64Index([   0,    1,    2,    3,    4,    5,    6,    7,    8,    9,\n",
       "            ...\n",
       "            3990, 3991, 3992, 3993, 3994, 3995, 3996, 3997, 3998, 3999],\n",
       "           dtype='int64', length=4000)"
      ]
     },
     "execution_count": 129,
     "metadata": {},
     "output_type": "execute_result"
    }
   ],
   "source": [
    "X_train.columns"
   ]
  },
  {
   "cell_type": "code",
   "execution_count": 125,
   "metadata": {
    "collapsed": true
   },
   "outputs": [],
   "source": [
    "predictions_RF_SUB=pd.DataFrame(pred_test)"
   ]
  },
  {
   "cell_type": "code",
   "execution_count": 162,
   "metadata": {
    "collapsed": true
   },
   "outputs": [],
   "source": [
    "#predictions_RF_SUB.to_csv(\"predictions_RF_SUB.csv\")"
   ]
  },
  {
   "cell_type": "code",
   "execution_count": 164,
   "metadata": {
    "collapsed": true
   },
   "outputs": [],
   "source": [
    "#Y_test.to_csv(\"Y_test.csv\")"
   ]
  },
  {
   "cell_type": "code",
   "execution_count": 126,
   "metadata": {
    "collapsed": true
   },
   "outputs": [],
   "source": [
    "import matplotlib.pyplot as plt"
   ]
  },
  {
   "cell_type": "code",
   "execution_count": 133,
   "metadata": {
    "collapsed": true
   },
   "outputs": [],
   "source": [
    "importances = model_random.feature_importances_\n",
    "indices = np.argsort(importances)"
   ]
  },
  {
   "cell_type": "code",
   "execution_count": 134,
   "metadata": {},
   "outputs": [
    {
     "data": {
      "text/plain": [
       "Text(0.5,0,'Relative Importance')"
      ]
     },
     "execution_count": 134,
     "metadata": {},
     "output_type": "execute_result"
    },
    {
     "data": {
      "image/png": "[encoded data removed]",
      "text/plain": [
       "<matplotlib.figure.Figure at 0x20c49d34cc0>"
      ]
     },
     "metadata": {},
     "output_type": "display_data"
    }
   ],
   "source": [
    "features=X_train.columns\n",
    "plt.figure(1)\n",
    "plt.title('Feature Importances')\n",
    "plt.barh(range(len(indices)), importances[indices], color='b', align='center')\n",
    "plt.yticks(range(len(indices)), features[indices])\n",
    "plt.xlabel('Relative Importance')"
   ]
  },
  {
   "cell_type": "code",
   "execution_count": null,
   "metadata": {
    "collapsed": true
   },
   "outputs": [],
   "source": []
  },
  {
   "cell_type": "code",
   "execution_count": 84,
   "metadata": {
    "collapsed": true
   },
   "outputs": [],
   "source": []
  },
  {
   "cell_type": "code",
   "execution_count": 85,
   "metadata": {
    "collapsed": true
   },
   "outputs": [],
   "source": []
  },
  {
   "cell_type": "code",
   "execution_count": 86,
   "metadata": {
    "collapsed": true
   },
   "outputs": [],
   "source": []
  },
  {
   "cell_type": "code",
   "execution_count": 87,
   "metadata": {
    "collapsed": true
   },
   "outputs": [],
   "source": []
  },
  {
   "cell_type": "code",
   "execution_count": null,
   "metadata": {
    "collapsed": true
   },
   "outputs": [],
   "source": []
  },
  {
   "cell_type": "code",
   "execution_count": null,
   "metadata": {
    "collapsed": true
   },
   "outputs": [],
   "source": []
  },
  {
   "cell_type": "code",
   "execution_count": null,
   "metadata": {
    "collapsed": true
   },
   "outputs": [],
   "source": []
  },
  {
   "cell_type": "code",
   "execution_count": 95,
   "metadata": {
    "collapsed": true
   },
   "outputs": [],
   "source": []
  },
  {
   "cell_type": "code",
   "execution_count": null,
   "metadata": {
    "collapsed": true
   },
   "outputs": [],
   "source": []
  },
  {
   "cell_type": "code",
   "execution_count": null,
   "metadata": {
    "collapsed": true
   },
   "outputs": [],
   "source": []
  },
  {
   "cell_type": "code",
   "execution_count": null,
   "metadata": {
    "collapsed": true
   },
   "outputs": [],
   "source": []
  },
  {
   "cell_type": "code",
   "execution_count": null,
   "metadata": {
    "collapsed": true
   },
   "outputs": [],
   "source": []
  },
  {
   "cell_type": "code",
   "execution_count": null,
   "metadata": {
    "collapsed": true
   },
   "outputs": [],
   "source": []
  }
 ],
 "metadata": {
  "kernelspec": {
   "display_name": "Python 3",
   "language": "python",
   "name": "python3"
  },
  "language_info": {
   "codemirror_mode": {
    "name": "ipython",
    "version": 3
   },
   "file_extension": ".py",
   "mimetype": "text/x-python",
   "name": "python",
   "nbconvert_exporter": "python",
   "pygments_lexer": "ipython3",
   "version": "3.6.1"
  }
 },
 "nbformat": 4,
 "nbformat_minor": 2
}
