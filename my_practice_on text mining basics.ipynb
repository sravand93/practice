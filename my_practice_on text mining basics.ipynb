{
 "cells": [
  {
   "cell_type": "code",
   "execution_count": 1,
   "metadata": {
    "collapsed": true
   },
   "outputs": [],
   "source": [
    "import nltk\n",
    "import os"
   ]
  },
  {
   "cell_type": "code",
   "execution_count": 21,
   "metadata": {
    "collapsed": true
   },
   "outputs": [],
   "source": [
    "import bs4\n",
    "import re"
   ]
  },
  {
   "cell_type": "code",
   "execution_count": 2,
   "metadata": {
    "collapsed": true
   },
   "outputs": [],
   "source": [
    "string_text = '''At Waterloo we were fortunate in catching a don't train for Leatherhead, where we hired a trap at the station inn and drove for four or five miles through the lovely Surrey lanes. \n",
    "It was a perfect day, with a bright sun and a few fleecy clouds in the heavens. \n",
    "The trees and wayside hedges were just throwing out their first green shoots, and the air was full of the pleasant smell of the moist earth. To me at least there was a strange contrast between the sweet promise of the spring and this sinister quest upon which we were engaged. \n",
    "My companion sat in the front of the trap, his arms folded, his hat pulled down over his eyes, and his chin sunk upon his breast, buried in the deepest thought. \n",
    "Suddenly, however, he started, tapped me on the shoulder, and pointed over the meadows.'''"
   ]
  },
  {
   "cell_type": "code",
   "execution_count": 3,
   "metadata": {},
   "outputs": [
    {
     "data": {
      "text/plain": [
       "\"At Waterloo we were fortunate in catching a don't train for Leatherhead, where we hired a trap at the station inn and drove for four or five miles through the lovely Surrey lanes. \\nIt was a perfect day, with a bright sun and a few fleecy clouds in the heavens. \\nThe trees and wayside hedges were just throwing out their first green shoots, and the air was full of the pleasant smell of the moist earth. To me at least there was a strange contrast between the sweet promise of the spring and this sinister quest upon which we were engaged. \\nMy companion sat in the front of the trap, his arms folded, his hat pulled down over his eyes, and his chin sunk upon his breast, buried in the deepest thought. \\nSuddenly, however, he started, tapped me on the shoulder, and pointed over the meadows.\""
      ]
     },
     "execution_count": 3,
     "metadata": {},
     "output_type": "execute_result"
    }
   ],
   "source": [
    "string_text"
   ]
  },
  {
   "cell_type": "code",
   "execution_count": 4,
   "metadata": {
    "collapsed": true
   },
   "outputs": [],
   "source": [
    "tokenizing =nltk.word_tokenize(string_text)"
   ]
  },
  {
   "cell_type": "code",
   "execution_count": 5,
   "metadata": {},
   "outputs": [
    {
     "name": "stdout",
     "output_type": "stream",
     "text": [
      "['At', 'Waterloo', 'we', 'were', 'fortunate', 'in', 'catching', 'a', 'do', \"n't\", 'train', 'for', 'Leatherhead', ',', 'where', 'we', 'hired', 'a', 'trap', 'at', 'the', 'station', 'inn', 'and', 'drove', 'for', 'four', 'or', 'five', 'miles', 'through', 'the', 'lovely', 'Surrey', 'lanes', '.', 'It', 'was', 'a', 'perfect', 'day', ',', 'with', 'a', 'bright', 'sun', 'and', 'a', 'few', 'fleecy', 'clouds', 'in', 'the', 'heavens', '.', 'The', 'trees', 'and', 'wayside', 'hedges', 'were', 'just', 'throwing', 'out', 'their', 'first', 'green', 'shoots', ',', 'and', 'the', 'air', 'was', 'full', 'of', 'the', 'pleasant', 'smell', 'of', 'the', 'moist', 'earth', '.', 'To', 'me', 'at', 'least', 'there', 'was', 'a', 'strange', 'contrast', 'between', 'the', 'sweet', 'promise', 'of', 'the', 'spring', 'and', 'this', 'sinister', 'quest', 'upon', 'which', 'we', 'were', 'engaged', '.', 'My', 'companion', 'sat', 'in', 'the', 'front', 'of', 'the', 'trap', ',', 'his', 'arms', 'folded', ',', 'his', 'hat', 'pulled', 'down', 'over', 'his', 'eyes', ',', 'and', 'his', 'chin', 'sunk', 'upon', 'his', 'breast', ',', 'buried', 'in', 'the', 'deepest', 'thought', '.', 'Suddenly', ',', 'however', ',', 'he', 'started', ',', 'tapped', 'me', 'on', 'the', 'shoulder', ',', 'and', 'pointed', 'over', 'the', 'meadows', '.']\n"
     ]
    }
   ],
   "source": [
    "print(tokenizing)"
   ]
  },
  {
   "cell_type": "code",
   "execution_count": 6,
   "metadata": {},
   "outputs": [
    {
     "name": "stdout",
     "output_type": "stream",
     "text": [
      "['At', 'Waterloo', 'we', 'were', 'fortunate', 'in', 'catching', 'a', \"don't\", 'train', 'for', 'Leatherhead,', 'where', 'we', 'hired', 'a', 'trap', 'at', 'the', 'station', 'inn', 'and', 'drove', 'for', 'four', 'or', 'five', 'miles', 'through', 'the', 'lovely', 'Surrey', 'lanes.', '\\nIt', 'was', 'a', 'perfect', 'day,', 'with', 'a', 'bright', 'sun', 'and', 'a', 'few', 'fleecy', 'clouds', 'in', 'the', 'heavens.', '\\nThe', 'trees', 'and', 'wayside', 'hedges', 'were', 'just', 'throwing', 'out', 'their', 'first', 'green', 'shoots,', 'and', 'the', 'air', 'was', 'full', 'of', 'the', 'pleasant', 'smell', 'of', 'the', 'moist', 'earth.', 'To', 'me', 'at', 'least', 'there', 'was', 'a', 'strange', 'contrast', 'between', 'the', 'sweet', 'promise', 'of', 'the', 'spring', 'and', 'this', 'sinister', 'quest', 'upon', 'which', 'we', 'were', 'engaged.', '\\nMy', 'companion', 'sat', 'in', 'the', 'front', 'of', 'the', 'trap,', 'his', 'arms', 'folded,', 'his', 'hat', 'pulled', 'down', 'over', 'his', 'eyes,', 'and', 'his', 'chin', 'sunk', 'upon', 'his', 'breast,', 'buried', 'in', 'the', 'deepest', 'thought.', '\\nSuddenly,', 'however,', 'he', 'started,', 'tapped', 'me', 'on', 'the', 'shoulder,', 'and', 'pointed', 'over', 'the', 'meadows.']\n"
     ]
    }
   ],
   "source": [
    "#we can even tokenize like saperating (spitting)the words using space\n",
    "\n",
    "split_tokens =string_text.split(sep=\" \")\n",
    "print(split_tokens)"
   ]
  },
  {
   "cell_type": "code",
   "execution_count": 7,
   "metadata": {},
   "outputs": [
    {
     "name": "stdout",
     "output_type": "stream",
     "text": [
      "\n",
      "\n",
      "At Waterloo we were fortunate in catching a don't train for Leatherhead, where we hired a trap at the station inn and drove for four or five miles through the lovely Surrey lanes.\n",
      "\n",
      "\n",
      "It was a perfect day, with a bright sun and a few fleecy clouds in the heavens.\n",
      "\n",
      "\n",
      "The trees and wayside hedges were just throwing out their first green shoots, and the air was full of the pleasant smell of the moist earth.\n",
      "\n",
      "\n",
      "To me at least there was a strange contrast between the sweet promise of the spring and this sinister quest upon which we were engaged.\n",
      "\n",
      "\n",
      "My companion sat in the front of the trap, his arms folded, his hat pulled down over his eyes, and his chin sunk upon his breast, buried in the deepest thought.\n",
      "\n",
      "\n",
      "Suddenly, however, he started, tapped me on the shoulder, and pointed over the meadows.\n"
     ]
    }
   ],
   "source": [
    "#sentence tokenize\n",
    "\n",
    "sentence_tokenize = nltk.sent_tokenize(string_text)\n",
    "\n",
    "for eachline in sentence_tokenize:\n",
    "    print('\\n')\n",
    "    print(eachline)\n",
    "\n"
   ]
  },
  {
   "cell_type": "code",
   "execution_count": 8,
   "metadata": {
    "collapsed": true
   },
   "outputs": [],
   "source": [
    "with open(\"E:\\\\personal\\\\sample.txt\", 'r') as doc:\n",
    "    resume = doc.read()"
   ]
  },
  {
   "cell_type": "code",
   "execution_count": 10,
   "metadata": {},
   "outputs": [
    {
     "data": {
      "text/plain": [
       "'Siva Sravan D\\n\\nMail:        sravan93.davagni@gmail.com\\nLinkedIn: www.linkedin.com/in/sivasravandavagni/\\nGithub:    https://github.com/sravand93\\nPh. No:    +91 8985811279\\n\\nObjective\\n      Seeking an opportunity in Data science, where I can use my knowledge and skills in delivering effective business solutions. \\nSummary\\n* Worked as an Intern-Data Science in INSOFE, Hyderabad\\n* Two+ years’ experience in IT industry in mobile testing.\\n* PGP in Big Data Analytics and Optimisation\\n* B Tech in  Electronics and Communication Engineering\\nData Science: \\nExpertise in - \\n- Statistics and probability, Machine learning algorithms- Supervised and Unsupervised Learning, Predictive Modelling, Linear Regression, Logistic Regression, Naïve Bayes Classifier, PCA, Regularisation techniques, Time series, Decision Trees, SVM, KNN, Clustering and Ensemble techniques such as Bagging, Random Forest, Gradient Boosting and Stacking.\\n- Neural Networks and Deep Learning, Natural Language Processing\\n- Visualization using ggplot and Tableau\\n- Programming Languages – R and Python, SQL \\n- Good Understanding on Big data technologies like HDFS, Spark, Flume,  Kafka in Hadoop Ecosystem\\n\\n\\nProjects:\\n\\nInternship Project - Sensor less Drive Diagnosis | A multi-class classification problem where we have to predict the defective state of the Induction motor without using any sensors.\\n\\nApproach: The given data set has around 58K rows and 49 columns. The Data set has details of a two phase electric current signal of an induction motor which contains different defective states. Based upon the characteristics of the output driving electric signal we have to classify the defective states, so that it can be diagnosed easily without using any additional sensor. Built models like logistic Regression, Decision Trees and Random Forest. \\nProgram Language: Python and R\\n\\nIndividual Project: Used Cars Price Prediction | A Regression problem where we have to predict the price of used vehicles based on historical data\\n\\nApproach: The test dataset has around 65k rows and 20 columns. We are supposed to predict the price of the used car considering the complex dynamics of used car sales business based on the historical details of the cars that are put on sale. Built models like Linear, Lasso, Ridge Regression, Decision Trees, Random Forest and XGBoost.\\nPrograming Language: R\\n\\n\\n\\nExperience\\n\\nIntern-Data Sciences at INSOFE, Hyderabad\\nNov 2017 –Jan 2018(2 Months)\\n* Hands on experience in solving real world problem in industrial domain as a research intern at International School of Engineering, Hyd. Proficient in applying different techniques of statistical analysis, data pre-processing to obtain granular insights of data, model building and hyper tuning the parameters of a given machine learning model to get better error metrics\\n\\nSoftware Engineer QA at ValueLabs\\n\\nJune 2015 - July 2017 (2 years 2 months)\\n\\n* Worked on mobile application testing. Hands on work experience on UI, Functional, Compatibility and Regression Testing in real devices and mobile emulators. Planning, creating and documenting testing/test cases for projects. Attended daily scrum calls as part of Agile methodology.\\n\\n\\n\\nEducation\\n\\n\\nInternational School of Engineering (INSOFE)\\n\\nPGP in Big Data Analytics and Optimization, Data Sciences, 2017 – 2018\\n\\nG Pullaiah College of engineering and technology, Kurnool\\n\\nBachelor of Technology (B Tech), Electronics and communications engineering, 2011 – 2015\\nPercentage: 72.8%\\n\\n\\n\\n\\n\\n\\n\\n\\n'"
      ]
     },
     "execution_count": 10,
     "metadata": {},
     "output_type": "execute_result"
    }
   ],
   "source": [
    "resume"
   ]
  },
  {
   "cell_type": "code",
   "execution_count": 12,
   "metadata": {},
   "outputs": [
    {
     "name": "stdout",
     "output_type": "stream",
     "text": [
      "['Siva Sravan D\\n\\nMail:        sravan93.davagni@gmail.com\\nLinkedIn: www.linkedin.com/in/sivasravandavagni/\\nGithub:    https://github.com/sravand93\\nPh.', 'No:    +91 8985811279\\n\\nObjective\\n      Seeking an opportunity in Data science, where I can use my knowledge and skills in delivering effective business solutions.', 'Summary\\n* Worked as an Intern-Data Science in INSOFE, Hyderabad\\n* Two+ years’ experience in IT industry in mobile testing.', '* PGP in Big Data Analytics and Optimisation\\n* B Tech in  Electronics and Communication Engineering\\nData Science: \\nExpertise in - \\n- Statistics and probability, Machine learning algorithms- Supervised and Unsupervised Learning, Predictive Modelling, Linear Regression, Logistic Regression, Naïve Bayes Classifier, PCA, Regularisation techniques, Time series, Decision Trees, SVM, KNN, Clustering and Ensemble techniques such as Bagging, Random Forest, Gradient Boosting and Stacking.', '- Neural Networks and Deep Learning, Natural Language Processing\\n- Visualization using ggplot and Tableau\\n- Programming Languages – R and Python, SQL \\n- Good Understanding on Big data technologies like HDFS, Spark, Flume,  Kafka in Hadoop Ecosystem\\n\\n\\nProjects:\\n\\nInternship Project - Sensor less Drive Diagnosis | A multi-class classification problem where we have to predict the defective state of the Induction motor without using any sensors.', 'Approach: The given data set has around 58K rows and 49 columns.', 'The Data set has details of a two phase electric current signal of an induction motor which contains different defective states.', 'Based upon the characteristics of the output driving electric signal we have to classify the defective states, so that it can be diagnosed easily without using any additional sensor.', 'Built models like logistic Regression, Decision Trees and Random Forest.', 'Program Language: Python and R\\n\\nIndividual Project: Used Cars Price Prediction | A Regression problem where we have to predict the price of used vehicles based on historical data\\n\\nApproach: The test dataset has around 65k rows and 20 columns.', 'We are supposed to predict the price of the used car considering the complex dynamics of used car sales business based on the historical details of the cars that are put on sale.', 'Built models like Linear, Lasso, Ridge Regression, Decision Trees, Random Forest and XGBoost.', 'Programing Language: R\\n\\n\\n\\nExperience\\n\\nIntern-Data Sciences at INSOFE, Hyderabad\\nNov 2017 –Jan 2018(2 Months)\\n* Hands on experience in solving real world problem in industrial domain as a research intern at International School of Engineering, Hyd.', 'Proficient in applying different techniques of statistical analysis, data pre-processing to obtain granular insights of data, model building and hyper tuning the parameters of a given machine learning model to get better error metrics\\n\\nSoftware Engineer QA at ValueLabs\\n\\nJune 2015 - July 2017 (2 years 2 months)\\n\\n* Worked on mobile application testing.', 'Hands on work experience on UI, Functional, Compatibility and Regression Testing in real devices and mobile emulators.', 'Planning, creating and documenting testing/test cases for projects.', 'Attended daily scrum calls as part of Agile methodology.', 'Education\\n\\n\\nInternational School of Engineering (INSOFE)\\n\\nPGP in Big Data Analytics and Optimization, Data Sciences, 2017 – 2018\\n\\nG Pullaiah College of engineering and technology, Kurnool\\n\\nBachelor of Technology (B Tech), Electronics and communications engineering, 2011 – 2015\\nPercentage: 72.8%']\n"
     ]
    }
   ],
   "source": [
    "#tokenizing the resume\n",
    "\n",
    "resume_sentene_tokens = nltk.sent_tokenize(resume)\n",
    "print(resume_sentene_tokens)"
   ]
  },
  {
   "cell_type": "code",
   "execution_count": 13,
   "metadata": {},
   "outputs": [
    {
     "name": "stdout",
     "output_type": "stream",
     "text": [
      "\n",
      "\n",
      "Siva Sravan D\n",
      "\n",
      "Mail:        sravan93.davagni@gmail.com\n",
      "LinkedIn: www.linkedin.com/in/sivasravandavagni/\n",
      "Github:    https://github.com/sravand93\n",
      "Ph.\n",
      "\n",
      "\n",
      "No:    +91 8985811279\n",
      "\n",
      "Objective\n",
      "      Seeking an opportunity in Data science, where I can use my knowledge and skills in delivering effective business solutions.\n",
      "\n",
      "\n",
      "Summary\n",
      "* Worked as an Intern-Data Science in INSOFE, Hyderabad\n",
      "* Two+ years’ experience in IT industry in mobile testing.\n",
      "\n",
      "\n",
      "* PGP in Big Data Analytics and Optimisation\n",
      "* B Tech in  Electronics and Communication Engineering\n",
      "Data Science: \n",
      "Expertise in - \n",
      "- Statistics and probability, Machine learning algorithms- Supervised and Unsupervised Learning, Predictive Modelling, Linear Regression, Logistic Regression, Naïve Bayes Classifier, PCA, Regularisation techniques, Time series, Decision Trees, SVM, KNN, Clustering and Ensemble techniques such as Bagging, Random Forest, Gradient Boosting and Stacking.\n",
      "\n",
      "\n",
      "- Neural Networks and Deep Learning, Natural Language Processing\n",
      "- Visualization using ggplot and Tableau\n",
      "- Programming Languages – R and Python, SQL \n",
      "- Good Understanding on Big data technologies like HDFS, Spark, Flume,  Kafka in Hadoop Ecosystem\n",
      "\n",
      "\n",
      "Projects:\n",
      "\n",
      "Internship Project - Sensor less Drive Diagnosis | A multi-class classification problem where we have to predict the defective state of the Induction motor without using any sensors.\n",
      "\n",
      "\n",
      "Approach: The given data set has around 58K rows and 49 columns.\n",
      "\n",
      "\n",
      "The Data set has details of a two phase electric current signal of an induction motor which contains different defective states.\n",
      "\n",
      "\n",
      "Based upon the characteristics of the output driving electric signal we have to classify the defective states, so that it can be diagnosed easily without using any additional sensor.\n",
      "\n",
      "\n",
      "Built models like logistic Regression, Decision Trees and Random Forest.\n",
      "\n",
      "\n",
      "Program Language: Python and R\n",
      "\n",
      "Individual Project: Used Cars Price Prediction | A Regression problem where we have to predict the price of used vehicles based on historical data\n",
      "\n",
      "Approach: The test dataset has around 65k rows and 20 columns.\n",
      "\n",
      "\n",
      "We are supposed to predict the price of the used car considering the complex dynamics of used car sales business based on the historical details of the cars that are put on sale.\n",
      "\n",
      "\n",
      "Built models like Linear, Lasso, Ridge Regression, Decision Trees, Random Forest and XGBoost.\n",
      "\n",
      "\n",
      "Programing Language: R\n",
      "\n",
      "\n",
      "\n",
      "Experience\n",
      "\n",
      "Intern-Data Sciences at INSOFE, Hyderabad\n",
      "Nov 2017 –Jan 2018(2 Months)\n",
      "* Hands on experience in solving real world problem in industrial domain as a research intern at International School of Engineering, Hyd.\n",
      "\n",
      "\n",
      "Proficient in applying different techniques of statistical analysis, data pre-processing to obtain granular insights of data, model building and hyper tuning the parameters of a given machine learning model to get better error metrics\n",
      "\n",
      "Software Engineer QA at ValueLabs\n",
      "\n",
      "June 2015 - July 2017 (2 years 2 months)\n",
      "\n",
      "* Worked on mobile application testing.\n",
      "\n",
      "\n",
      "Hands on work experience on UI, Functional, Compatibility and Regression Testing in real devices and mobile emulators.\n",
      "\n",
      "\n",
      "Planning, creating and documenting testing/test cases for projects.\n",
      "\n",
      "\n",
      "Attended daily scrum calls as part of Agile methodology.\n",
      "\n",
      "\n",
      "Education\n",
      "\n",
      "\n",
      "International School of Engineering (INSOFE)\n",
      "\n",
      "PGP in Big Data Analytics and Optimization, Data Sciences, 2017 – 2018\n",
      "\n",
      "G Pullaiah College of engineering and technology, Kurnool\n",
      "\n",
      "Bachelor of Technology (B Tech), Electronics and communications engineering, 2011 – 2015\n",
      "Percentage: 72.8%\n"
     ]
    }
   ],
   "source": [
    "for lines in resume_sentene_tokens:\n",
    "    print(\"\\n\")\n",
    "    print(lines)"
   ]
  },
  {
   "cell_type": "code",
   "execution_count": 14,
   "metadata": {},
   "outputs": [
    {
     "name": "stdout",
     "output_type": "stream",
     "text": [
      "['Siva', 'Sravan', 'D', 'Mail', ':', 'sravan93.davagni', '@', 'gmail.com', 'LinkedIn', ':', 'www.linkedin.com/in/sivasravandavagni/', 'Github', ':', 'https', ':', '//github.com/sravand93', 'Ph', '.', 'No', ':', '+91', '8985811279', 'Objective', 'Seeking', 'an', 'opportunity', 'in', 'Data', 'science', ',', 'where', 'I', 'can', 'use', 'my', 'knowledge', 'and', 'skills', 'in', 'delivering', 'effective', 'business', 'solutions', '.', 'Summary', '*', 'Worked', 'as', 'an', 'Intern-Data', 'Science', 'in', 'INSOFE', ',', 'Hyderabad', '*', 'Two+', 'years', '’', 'experience', 'in', 'IT', 'industry', 'in', 'mobile', 'testing', '.', '*', 'PGP', 'in', 'Big', 'Data', 'Analytics', 'and', 'Optimisation', '*', 'B', 'Tech', 'in', 'Electronics', 'and', 'Communication', 'Engineering', 'Data', 'Science', ':', 'Expertise', 'in', '-', '-', 'Statistics', 'and', 'probability', ',', 'Machine', 'learning', 'algorithms-', 'Supervised', 'and', 'Unsupervised', 'Learning', ',', 'Predictive', 'Modelling', ',', 'Linear', 'Regression', ',', 'Logistic', 'Regression', ',', 'Naïve', 'Bayes', 'Classifier', ',', 'PCA', ',', 'Regularisation', 'techniques', ',', 'Time', 'series', ',', 'Decision', 'Trees', ',', 'SVM', ',', 'KNN', ',', 'Clustering', 'and', 'Ensemble', 'techniques', 'such', 'as', 'Bagging', ',', 'Random', 'Forest', ',', 'Gradient', 'Boosting', 'and', 'Stacking', '.', '-', 'Neural', 'Networks', 'and', 'Deep', 'Learning', ',', 'Natural', 'Language', 'Processing', '-', 'Visualization', 'using', 'ggplot', 'and', 'Tableau', '-', 'Programming', 'Languages', '–', 'R', 'and', 'Python', ',', 'SQL', '-', 'Good', 'Understanding', 'on', 'Big', 'data', 'technologies', 'like', 'HDFS', ',', 'Spark', ',', 'Flume', ',', 'Kafka', 'in', 'Hadoop', 'Ecosystem', 'Projects', ':', 'Internship', 'Project', '-', 'Sensor', 'less', 'Drive', 'Diagnosis', '|', 'A', 'multi-class', 'classification', 'problem', 'where', 'we', 'have', 'to', 'predict', 'the', 'defective', 'state', 'of', 'the', 'Induction', 'motor', 'without', 'using', 'any', 'sensors', '.', 'Approach', ':', 'The', 'given', 'data', 'set', 'has', 'around', '58K', 'rows', 'and', '49', 'columns', '.', 'The', 'Data', 'set', 'has', 'details', 'of', 'a', 'two', 'phase', 'electric', 'current', 'signal', 'of', 'an', 'induction', 'motor', 'which', 'contains', 'different', 'defective', 'states', '.', 'Based', 'upon', 'the', 'characteristics', 'of', 'the', 'output', 'driving', 'electric', 'signal', 'we', 'have', 'to', 'classify', 'the', 'defective', 'states', ',', 'so', 'that', 'it', 'can', 'be', 'diagnosed', 'easily', 'without', 'using', 'any', 'additional', 'sensor', '.', 'Built', 'models', 'like', 'logistic', 'Regression', ',', 'Decision', 'Trees', 'and', 'Random', 'Forest', '.', 'Program', 'Language', ':', 'Python', 'and', 'R', 'Individual', 'Project', ':', 'Used', 'Cars', 'Price', 'Prediction', '|', 'A', 'Regression', 'problem', 'where', 'we', 'have', 'to', 'predict', 'the', 'price', 'of', 'used', 'vehicles', 'based', 'on', 'historical', 'data', 'Approach', ':', 'The', 'test', 'dataset', 'has', 'around', '65k', 'rows', 'and', '20', 'columns', '.', 'We', 'are', 'supposed', 'to', 'predict', 'the', 'price', 'of', 'the', 'used', 'car', 'considering', 'the', 'complex', 'dynamics', 'of', 'used', 'car', 'sales', 'business', 'based', 'on', 'the', 'historical', 'details', 'of', 'the', 'cars', 'that', 'are', 'put', 'on', 'sale', '.', 'Built', 'models', 'like', 'Linear', ',', 'Lasso', ',', 'Ridge', 'Regression', ',', 'Decision', 'Trees', ',', 'Random', 'Forest', 'and', 'XGBoost', '.', 'Programing', 'Language', ':', 'R', 'Experience', 'Intern-Data', 'Sciences', 'at', 'INSOFE', ',', 'Hyderabad', 'Nov', '2017', '–Jan', '2018', '(', '2', 'Months', ')', '*', 'Hands', 'on', 'experience', 'in', 'solving', 'real', 'world', 'problem', 'in', 'industrial', 'domain', 'as', 'a', 'research', 'intern', 'at', 'International', 'School', 'of', 'Engineering', ',', 'Hyd', '.', 'Proficient', 'in', 'applying', 'different', 'techniques', 'of', 'statistical', 'analysis', ',', 'data', 'pre-processing', 'to', 'obtain', 'granular', 'insights', 'of', 'data', ',', 'model', 'building', 'and', 'hyper', 'tuning', 'the', 'parameters', 'of', 'a', 'given', 'machine', 'learning', 'model', 'to', 'get', 'better', 'error', 'metrics', 'Software', 'Engineer', 'QA', 'at', 'ValueLabs', 'June', '2015', '-', 'July', '2017', '(', '2', 'years', '2', 'months', ')', '*', 'Worked', 'on', 'mobile', 'application', 'testing', '.', 'Hands', 'on', 'work', 'experience', 'on', 'UI', ',', 'Functional', ',', 'Compatibility', 'and', 'Regression', 'Testing', 'in', 'real', 'devices', 'and', 'mobile', 'emulators', '.', 'Planning', ',', 'creating', 'and', 'documenting', 'testing/test', 'cases', 'for', 'projects', '.', 'Attended', 'daily', 'scrum', 'calls', 'as', 'part', 'of', 'Agile', 'methodology', '.', 'Education', 'International', 'School', 'of', 'Engineering', '(', 'INSOFE', ')', 'PGP', 'in', 'Big', 'Data', 'Analytics', 'and', 'Optimization', ',', 'Data', 'Sciences', ',', '2017', '–', '2018', 'G', 'Pullaiah', 'College', 'of', 'engineering', 'and', 'technology', ',', 'Kurnool', 'Bachelor', 'of', 'Technology', '(', 'B', 'Tech', ')', ',', 'Electronics', 'and', 'communications', 'engineering', ',', '2011', '–', '2015', 'Percentage', ':', '72.8', '%']\n"
     ]
    }
   ],
   "source": [
    "#now tokenize at word level\n",
    "\n",
    "resume_words_tokens = nltk.word_tokenize(resume)\n",
    "print(resume_words_tokens)"
   ]
  },
  {
   "cell_type": "code",
   "execution_count": 22,
   "metadata": {},
   "outputs": [
    {
     "name": "stdout",
     "output_type": "stream",
     "text": [
      "Siva Sravan D  Mail         sravan   davagni gmail com LinkedIn  www linkedin com in sivasravandavagni  Github     https   github com sravand   Ph  No                     Objective       Seeking an opportunity in Data science  where I can use my knowledge and skills in delivering effective business solutions   Summary   Worked as an Intern Data Science in INSOFE  Hyderabad   Two  years  experience in IT industry in mobile testing    PGP in Big Data Analytics and Optimisation   B Tech in  Electronics and Communication Engineering Data Science   Expertise in      Statistics and probability  Machine learning algorithms  Supervised and Unsupervised Learning  Predictive Modelling  Linear Regression  Logistic Regression  Na ve Bayes Classifier  PCA  Regularisation techniques  Time series  Decision Trees  SVM  KNN  Clustering and Ensemble techniques such as Bagging  Random Forest  Gradient Boosting and Stacking    Neural Networks and Deep Learning  Natural Language Processing   Visualization using ggplot and Tableau   Programming Languages   R and Python  SQL    Good Understanding on Big data technologies like HDFS  Spark  Flume   Kafka in Hadoop Ecosystem   Projects   Internship Project   Sensor less Drive Diagnosis   A multi class classification problem where we have to predict the defective state of the Induction motor without using any sensors   Approach  The given data set has around   K rows and    columns  The Data set has details of a two phase electric current signal of an induction motor which contains different defective states  Based upon the characteristics of the output driving electric signal we have to classify the defective states  so that it can be diagnosed easily without using any additional sensor  Built models like logistic Regression  Decision Trees and Random Forest   Program Language  Python and R  Individual Project  Used Cars Price Prediction   A Regression problem where we have to predict the price of used vehicles based on historical data  Approach  The test dataset has around   k rows and    columns  We are supposed to predict the price of the used car considering the complex dynamics of used car sales business based on the historical details of the cars that are put on sale  Built models like Linear  Lasso  Ridge Regression  Decision Trees  Random Forest and XGBoost  Programing Language  R    Experience  Intern Data Sciences at INSOFE  Hyderabad Nov       Jan        Months    Hands on experience in solving real world problem in industrial domain as a research intern at International School of Engineering  Hyd  Proficient in applying different techniques of statistical analysis  data pre processing to obtain granular insights of data  model building and hyper tuning the parameters of a given machine learning model to get better error metrics  Software Engineer QA at ValueLabs  June        July         years   months     Worked on mobile application testing  Hands on work experience on UI  Functional  Compatibility and Regression Testing in real devices and mobile emulators  Planning  creating and documenting testing test cases for projects  Attended daily scrum calls as part of Agile methodology     Education   International School of Engineering  INSOFE   PGP in Big Data Analytics and Optimization  Data Sciences               G Pullaiah College of engineering and technology  Kurnool  Bachelor of Technology  B Tech   Electronics and communications engineering              Percentage                \n"
     ]
    }
   ],
   "source": [
    "#now in above scenario we are seeing the ':','@\" and some digits which are not required at this stage for analysis.\n",
    "#Hence we can remove these are\n",
    "\n",
    "#Removing non-letter\n",
    "resume_only_letters = re.sub(\"[^a-zA-Z]\",\" \",resume)\n",
    "print(resume_only_letters)\n"
   ]
  },
  {
   "cell_type": "code",
   "execution_count": 25,
   "metadata": {},
   "outputs": [
    {
     "name": "stdout",
     "output_type": "stream",
     "text": [
      "['Siva', 'Sravan', 'D', 'Mail', 'sravan', 'davagni', 'gmail', 'com', 'LinkedIn', 'www', 'linkedin', 'com', 'in', 'sivasravandavagni', 'Github', 'https', 'github', 'com', 'sravand', 'Ph', 'No', 'Objective', 'Seeking', 'an', 'opportunity', 'in', 'Data', 'science', 'where', 'I', 'can', 'use', 'my', 'knowledge', 'and', 'skills', 'in', 'delivering', 'effective', 'business', 'solutions', 'Summary', 'Worked', 'as', 'an', 'Intern', 'Data', 'Science', 'in', 'INSOFE', 'Hyderabad', 'Two', 'years', 'experience', 'in', 'IT', 'industry', 'in', 'mobile', 'testing', 'PGP', 'in', 'Big', 'Data', 'Analytics', 'and', 'Optimisation', 'B', 'Tech', 'in', 'Electronics', 'and', 'Communication', 'Engineering', 'Data', 'Science', 'Expertise', 'in', 'Statistics', 'and', 'probability', 'Machine', 'learning', 'algorithms', 'Supervised', 'and', 'Unsupervised', 'Learning', 'Predictive', 'Modelling', 'Linear', 'Regression', 'Logistic', 'Regression', 'Na', 've', 'Bayes', 'Classifier', 'PCA', 'Regularisation', 'techniques', 'Time', 'series', 'Decision', 'Trees', 'SVM', 'KNN', 'Clustering', 'and', 'Ensemble', 'techniques', 'such', 'as', 'Bagging', 'Random', 'Forest', 'Gradient', 'Boosting', 'and', 'Stacking', 'Neural', 'Networks', 'and', 'Deep', 'Learning', 'Natural', 'Language', 'Processing', 'Visualization', 'using', 'ggplot', 'and', 'Tableau', 'Programming', 'Languages', 'R', 'and', 'Python', 'SQL', 'Good', 'Understanding', 'on', 'Big', 'data', 'technologies', 'like', 'HDFS', 'Spark', 'Flume', 'Kafka', 'in', 'Hadoop', 'Ecosystem', 'Projects', 'Internship', 'Project', 'Sensor', 'less', 'Drive', 'Diagnosis', 'A', 'multi', 'class', 'classification', 'problem', 'where', 'we', 'have', 'to', 'predict', 'the', 'defective', 'state', 'of', 'the', 'Induction', 'motor', 'without', 'using', 'any', 'sensors', 'Approach', 'The', 'given', 'data', 'set', 'has', 'around', 'K', 'rows', 'and', 'columns', 'The', 'Data', 'set', 'has', 'details', 'of', 'a', 'two', 'phase', 'electric', 'current', 'signal', 'of', 'an', 'induction', 'motor', 'which', 'contains', 'different', 'defective', 'states', 'Based', 'upon', 'the', 'characteristics', 'of', 'the', 'output', 'driving', 'electric', 'signal', 'we', 'have', 'to', 'classify', 'the', 'defective', 'states', 'so', 'that', 'it', 'can', 'be', 'diagnosed', 'easily', 'without', 'using', 'any', 'additional', 'sensor', 'Built', 'models', 'like', 'logistic', 'Regression', 'Decision', 'Trees', 'and', 'Random', 'Forest', 'Program', 'Language', 'Python', 'and', 'R', 'Individual', 'Project', 'Used', 'Cars', 'Price', 'Prediction', 'A', 'Regression', 'problem', 'where', 'we', 'have', 'to', 'predict', 'the', 'price', 'of', 'used', 'vehicles', 'based', 'on', 'historical', 'data', 'Approach', 'The', 'test', 'dataset', 'has', 'around', 'k', 'rows', 'and', 'columns', 'We', 'are', 'supposed', 'to', 'predict', 'the', 'price', 'of', 'the', 'used', 'car', 'considering', 'the', 'complex', 'dynamics', 'of', 'used', 'car', 'sales', 'business', 'based', 'on', 'the', 'historical', 'details', 'of', 'the', 'cars', 'that', 'are', 'put', 'on', 'sale', 'Built', 'models', 'like', 'Linear', 'Lasso', 'Ridge', 'Regression', 'Decision', 'Trees', 'Random', 'Forest', 'and', 'XGBoost', 'Programing', 'Language', 'R', 'Experience', 'Intern', 'Data', 'Sciences', 'at', 'INSOFE', 'Hyderabad', 'Nov', 'Jan', 'Months', 'Hands', 'on', 'experience', 'in', 'solving', 'real', 'world', 'problem', 'in', 'industrial', 'domain', 'as', 'a', 'research', 'intern', 'at', 'International', 'School', 'of', 'Engineering', 'Hyd', 'Proficient', 'in', 'applying', 'different', 'techniques', 'of', 'statistical', 'analysis', 'data', 'pre', 'processing', 'to', 'obtain', 'granular', 'insights', 'of', 'data', 'model', 'building', 'and', 'hyper', 'tuning', 'the', 'parameters', 'of', 'a', 'given', 'machine', 'learning', 'model', 'to', 'get', 'better', 'error', 'metrics', 'Software', 'Engineer', 'QA', 'at', 'ValueLabs', 'June', 'July', 'years', 'months', 'Worked', 'on', 'mobile', 'application', 'testing', 'Hands', 'on', 'work', 'experience', 'on', 'UI', 'Functional', 'Compatibility', 'and', 'Regression', 'Testing', 'in', 'real', 'devices', 'and', 'mobile', 'emulators', 'Planning', 'creating', 'and', 'documenting', 'testing', 'test', 'cases', 'for', 'projects', 'Attended', 'daily', 'scrum', 'calls', 'as', 'part', 'of', 'Agile', 'methodology', 'Education', 'International', 'School', 'of', 'Engineering', 'INSOFE', 'PGP', 'in', 'Big', 'Data', 'Analytics', 'and', 'Optimization', 'Data', 'Sciences', 'G', 'Pullaiah', 'College', 'of', 'engineering', 'and', 'technology', 'Kurnool', 'Bachelor', 'of', 'Technology', 'B', 'Tech', 'Electronics', 'and', 'communications', 'engineering', 'Percentage']\n"
     ]
    }
   ],
   "source": [
    "#Now tokenize the one without colon\n",
    "\n",
    "final_word_tokens = nltk.word_tokenize(resume_only_letters)\n",
    "print(final_word_tokens)"
   ]
  },
  {
   "cell_type": "code",
   "execution_count": 38,
   "metadata": {},
   "outputs": [
    {
     "name": "stdout",
     "output_type": "stream",
     "text": [
      "['Siva', 'Sravan', 'D', 'Mail', 'sravan', 'davagni', 'gmail', 'com', 'LinkedIn', 'www', 'linkedin', 'com', 'in', 'sivasravandavagni', 'Github', 'https', 'github', 'com', 'sravand', 'Ph', 'No', 'Objective', 'Seeking', 'an', 'opportunity', 'in', 'Data', 'science', 'where', 'I', 'can', 'use', 'my', 'knowledge', 'and', 'skills', 'in', 'delivering', 'effective', 'business', 'solutions', 'Summary', 'Worked', 'as', 'an', 'Intern', 'Data', 'Science', 'in', 'INSOFE', 'Hyderabad', 'Two', 'years', 'experience', 'in', 'IT', 'industry', 'in', 'mobile', 'testing', 'PGP', 'in', 'Big', 'Data', 'Analytics', 'and', 'Optimisation', 'B', 'Tech', 'in', 'Electronics', 'and', 'Communication', 'Engineering', 'Data', 'Science', 'Expertise', 'in', 'Statistics', 'and', 'probability', 'Machine', 'learning', 'algorithms', 'Supervised', 'and', 'Unsupervised', 'Learning', 'Predictive', 'Modelling', 'Linear', 'Regression', 'Logistic', 'Regression', 'Na', 've', 'Bayes', 'Classifier', 'PCA', 'Regularisation', 'techniques', 'Time', 'series', 'Decision', 'Trees', 'SVM', 'KNN', 'Clustering', 'and', 'Ensemble', 'techniques', 'such', 'as', 'Bagging', 'Random', 'Forest', 'Gradient', 'Boosting', 'and', 'Stacking', 'Neural', 'Networks', 'and', 'Deep', 'Learning', 'Natural', 'Language', 'Processing', 'Visualization', 'using', 'ggplot', 'and', 'Tableau', 'Programming', 'Languages', 'R', 'and', 'Python', 'SQL', 'Good', 'Understanding', 'on', 'Big', 'data', 'technologies', 'like', 'HDFS', 'Spark', 'Flume', 'Kafka', 'in', 'Hadoop', 'Ecosystem', 'Projects', 'Internship', 'Project', 'Sensor', 'less', 'Drive', 'Diagnosis', 'A', 'multi', 'class', 'classification', 'problem', 'where', 'we', 'have', 'to', 'predict', 'the', 'defective', 'state', 'of', 'the', 'Induction', 'motor', 'without', 'using', 'any', 'sensors', 'Approach', 'The', 'given', 'data', 'set', 'has', 'around', 'K', 'rows', 'and', 'columns', 'The', 'Data', 'set', 'has', 'details', 'of', 'a', 'two', 'phase', 'electric', 'current', 'signal', 'of', 'an', 'induction', 'motor', 'which', 'contains', 'different', 'defective', 'states', 'Based', 'upon', 'the', 'characteristics', 'of', 'the', 'output', 'driving', 'electric', 'signal', 'we', 'have', 'to', 'classify', 'the', 'defective', 'states', 'so', 'that', 'it', 'can', 'be', 'diagnosed', 'easily', 'without', 'using', 'any', 'additional', 'sensor', 'Built', 'models', 'like', 'logistic', 'Regression', 'Decision', 'Trees', 'and', 'Random', 'Forest', 'Program', 'Language', 'Python', 'and', 'R', 'Individual', 'Project', 'Used', 'Cars', 'Price', 'Prediction', 'A', 'Regression', 'problem', 'where', 'we', 'have', 'to', 'predict', 'the', 'price', 'of', 'used', 'vehicles', 'based', 'on', 'historical', 'data', 'Approach', 'The', 'test', 'dataset', 'has', 'around', 'k', 'rows', 'and', 'columns', 'We', 'are', 'supposed', 'to', 'predict', 'the', 'price', 'of', 'the', 'used', 'car', 'considering', 'the', 'complex', 'dynamics', 'of', 'used', 'car', 'sales', 'business', 'based', 'on', 'the', 'historical', 'details', 'of', 'the', 'cars', 'that', 'are', 'put', 'on', 'sale', 'Built', 'models', 'like', 'Linear', 'Lasso', 'Ridge', 'Regression', 'Decision', 'Trees', 'Random', 'Forest', 'and', 'XGBoost', 'Programing', 'Language', 'R', 'Experience', 'Intern', 'Data', 'Sciences', 'at', 'INSOFE', 'Hyderabad', 'Nov', 'Jan', 'Months', 'Hands', 'on', 'experience', 'in', 'solving', 'real', 'world', 'problem', 'in', 'industrial', 'domain', 'as', 'a', 'research', 'intern', 'at', 'International', 'School', 'of', 'Engineering', 'Hyd', 'Proficient', 'in', 'applying', 'different', 'techniques', 'of', 'statistical', 'analysis', 'data', 'pre', 'processing', 'to', 'obtain', 'granular', 'insights', 'of', 'data', 'model', 'building', 'and', 'hyper', 'tuning', 'the', 'parameters', 'of', 'a', 'given', 'machine', 'learning', 'model', 'to', 'get', 'better', 'error', 'metrics', 'Software', 'Engineer', 'QA', 'at', 'ValueLabs', 'June', 'July', 'years', 'months', 'Worked', 'on', 'mobile', 'application', 'testing', 'Hands', 'on', 'work', 'experience', 'on', 'UI', 'Functional', 'Compatibility', 'and', 'Regression', 'Testing', 'in', 'real', 'devices', 'and', 'mobile', 'emulators', 'Planning', 'creating', 'and', 'documenting', 'testing', 'test', 'cases', 'for', 'projects', 'Attended', 'daily', 'scrum', 'calls', 'as', 'part', 'of', 'Agile', 'methodology', 'Education', 'International', 'School', 'of', 'Engineering', 'INSOFE', 'PGP', 'in', 'Big', 'Data', 'Analytics', 'and', 'Optimization', 'Data', 'Sciences', 'G', 'Pullaiah', 'College', 'of', 'engineering', 'and', 'technology', 'Kurnool', 'Bachelor', 'of', 'Technology', 'B', 'Tech', 'Electronics', 'and', 'communications', 'engineering', 'Percentage']\n"
     ]
    }
   ],
   "source": [
    "print(nltk.tokenize.word_tokenize(resume_only_letters))"
   ]
  },
  {
   "cell_type": "code",
   "execution_count": 32,
   "metadata": {
    "scrolled": true
   },
   "outputs": [
    {
     "data": {
      "text/plain": [
       "2"
      ]
     },
     "execution_count": 32,
     "metadata": {},
     "output_type": "execute_result"
    }
   ],
   "source": [
    "final_word_tokens.count('Science')"
   ]
  },
  {
   "cell_type": "code",
   "execution_count": 40,
   "metadata": {},
   "outputs": [
    {
     "name": "stdout",
     "output_type": "stream",
     "text": [
      "['siva', 'sravan', 'd', 'mail', 'sravan', 'davagni', 'gmail', 'com', 'linkedin', 'www', 'linkedin', 'com', 'in', 'sivasravandavagni', 'github', 'https', 'github', 'com', 'sravand', 'ph', 'no', 'objective', 'seeking', 'an', 'opportunity', 'in', 'data', 'science', 'where', 'i', 'can', 'use', 'my', 'knowledge', 'and', 'skills', 'in', 'delivering', 'effective', 'business', 'solutions', 'summary', 'worked', 'as', 'an', 'intern', 'data', 'science', 'in', 'insofe', 'hyderabad', 'two', 'years', 'experience', 'in', 'it', 'industry', 'in', 'mobile', 'testing', 'pgp', 'in', 'big', 'data', 'analytics', 'and', 'optimisation', 'b', 'tech', 'in', 'electronics', 'and', 'communication', 'engineering', 'data', 'science', 'expertise', 'in', 'statistics', 'and', 'probability', 'machine', 'learning', 'algorithms', 'supervised', 'and', 'unsupervised', 'learning', 'predictive', 'modelling', 'linear', 'regression', 'logistic', 'regression', 'na', 've', 'bayes', 'classifier', 'pca', 'regularisation', 'techniques', 'time', 'series', 'decision', 'trees', 'svm', 'knn', 'clustering', 'and', 'ensemble', 'techniques', 'such', 'as', 'bagging', 'random', 'forest', 'gradient', 'boosting', 'and', 'stacking', 'neural', 'networks', 'and', 'deep', 'learning', 'natural', 'language', 'processing', 'visualization', 'using', 'ggplot', 'and', 'tableau', 'programming', 'languages', 'r', 'and', 'python', 'sql', 'good', 'understanding', 'on', 'big', 'data', 'technologies', 'like', 'hdfs', 'spark', 'flume', 'kafka', 'in', 'hadoop', 'ecosystem', 'projects', 'internship', 'project', 'sensor', 'less', 'drive', 'diagnosis', 'a', 'multi', 'class', 'classification', 'problem', 'where', 'we', 'have', 'to', 'predict', 'the', 'defective', 'state', 'of', 'the', 'induction', 'motor', 'without', 'using', 'any', 'sensors', 'approach', 'the', 'given', 'data', 'set', 'has', 'around', 'k', 'rows', 'and', 'columns', 'the', 'data', 'set', 'has', 'details', 'of', 'a', 'two', 'phase', 'electric', 'current', 'signal', 'of', 'an', 'induction', 'motor', 'which', 'contains', 'different', 'defective', 'states', 'based', 'upon', 'the', 'characteristics', 'of', 'the', 'output', 'driving', 'electric', 'signal', 'we', 'have', 'to', 'classify', 'the', 'defective', 'states', 'so', 'that', 'it', 'can', 'be', 'diagnosed', 'easily', 'without', 'using', 'any', 'additional', 'sensor', 'built', 'models', 'like', 'logistic', 'regression', 'decision', 'trees', 'and', 'random', 'forest', 'program', 'language', 'python', 'and', 'r', 'individual', 'project', 'used', 'cars', 'price', 'prediction', 'a', 'regression', 'problem', 'where', 'we', 'have', 'to', 'predict', 'the', 'price', 'of', 'used', 'vehicles', 'based', 'on', 'historical', 'data', 'approach', 'the', 'test', 'dataset', 'has', 'around', 'k', 'rows', 'and', 'columns', 'we', 'are', 'supposed', 'to', 'predict', 'the', 'price', 'of', 'the', 'used', 'car', 'considering', 'the', 'complex', 'dynamics', 'of', 'used', 'car', 'sales', 'business', 'based', 'on', 'the', 'historical', 'details', 'of', 'the', 'cars', 'that', 'are', 'put', 'on', 'sale', 'built', 'models', 'like', 'linear', 'lasso', 'ridge', 'regression', 'decision', 'trees', 'random', 'forest', 'and', 'xgboost', 'programing', 'language', 'r', 'experience', 'intern', 'data', 'sciences', 'at', 'insofe', 'hyderabad', 'nov', 'jan', 'months', 'hands', 'on', 'experience', 'in', 'solving', 'real', 'world', 'problem', 'in', 'industrial', 'domain', 'as', 'a', 'research', 'intern', 'at', 'international', 'school', 'of', 'engineering', 'hyd', 'proficient', 'in', 'applying', 'different', 'techniques', 'of', 'statistical', 'analysis', 'data', 'pre', 'processing', 'to', 'obtain', 'granular', 'insights', 'of', 'data', 'model', 'building', 'and', 'hyper', 'tuning', 'the', 'parameters', 'of', 'a', 'given', 'machine', 'learning', 'model', 'to', 'get', 'better', 'error', 'metrics', 'software', 'engineer', 'qa', 'at', 'valuelabs', 'june', 'july', 'years', 'months', 'worked', 'on', 'mobile', 'application', 'testing', 'hands', 'on', 'work', 'experience', 'on', 'ui', 'functional', 'compatibility', 'and', 'regression', 'testing', 'in', 'real', 'devices', 'and', 'mobile', 'emulators', 'planning', 'creating', 'and', 'documenting', 'testing', 'test', 'cases', 'for', 'projects', 'attended', 'daily', 'scrum', 'calls', 'as', 'part', 'of', 'agile', 'methodology', 'education', 'international', 'school', 'of', 'engineering', 'insofe', 'pgp', 'in', 'big', 'data', 'analytics', 'and', 'optimization', 'data', 'sciences', 'g', 'pullaiah', 'college', 'of', 'engineering', 'and', 'technology', 'kurnool', 'bachelor', 'of', 'technology', 'b', 'tech', 'electronics', 'and', 'communications', 'engineering', 'percentage']\n"
     ]
    }
   ],
   "source": [
    "#case lowering\n",
    "\n",
    "lower_case_tokens = [token.lower() for token in final_word_tokens]\n",
    "print(lower_case_tokens)\n"
   ]
  },
  {
   "cell_type": "code",
   "execution_count": 43,
   "metadata": {
    "collapsed": true
   },
   "outputs": [],
   "source": [
    "#stop word removal\n",
    "from nltk.corpus import stopwords\n",
    "stop = stopwords.words('english')"
   ]
  },
  {
   "cell_type": "code",
   "execution_count": 47,
   "metadata": {
    "collapsed": true
   },
   "outputs": [],
   "source": [
    "#tokens_afterstop = [stop_tokens for token in lower_case_tokens if token not in stop]\n",
    "\n",
    "stop_tokens =[]\n",
    "for token in lower_case_tokens:\n",
    "    if token not in stop:\n",
    "        stop_tokens.append(token)"
   ]
  },
  {
   "cell_type": "code",
   "execution_count": 49,
   "metadata": {},
   "outputs": [
    {
     "name": "stdout",
     "output_type": "stream",
     "text": [
      "['siva', 'sravan', 'mail', 'sravan', 'davagni', 'gmail', 'com', 'linkedin', 'www', 'linkedin', 'com', 'sivasravandavagni', 'github', 'https', 'github', 'com', 'sravand', 'ph', 'objective', 'seeking', 'opportunity', 'data', 'science', 'use', 'knowledge', 'skills', 'delivering', 'effective', 'business', 'solutions', 'summary', 'worked', 'intern', 'data', 'science', 'insofe', 'hyderabad', 'two', 'years', 'experience', 'industry', 'mobile', 'testing', 'pgp', 'big', 'data', 'analytics', 'optimisation', 'b', 'tech', 'electronics', 'communication', 'engineering', 'data', 'science', 'expertise', 'statistics', 'probability', 'machine', 'learning', 'algorithms', 'supervised', 'unsupervised', 'learning', 'predictive', 'modelling', 'linear', 'regression', 'logistic', 'regression', 'na', 'bayes', 'classifier', 'pca', 'regularisation', 'techniques', 'time', 'series', 'decision', 'trees', 'svm', 'knn', 'clustering', 'ensemble', 'techniques', 'bagging', 'random', 'forest', 'gradient', 'boosting', 'stacking', 'neural', 'networks', 'deep', 'learning', 'natural', 'language', 'processing', 'visualization', 'using', 'ggplot', 'tableau', 'programming', 'languages', 'r', 'python', 'sql', 'good', 'understanding', 'big', 'data', 'technologies', 'like', 'hdfs', 'spark', 'flume', 'kafka', 'hadoop', 'ecosystem', 'projects', 'internship', 'project', 'sensor', 'less', 'drive', 'diagnosis', 'multi', 'class', 'classification', 'problem', 'predict', 'defective', 'state', 'induction', 'motor', 'without', 'using', 'sensors', 'approach', 'given', 'data', 'set', 'around', 'k', 'rows', 'columns', 'data', 'set', 'details', 'two', 'phase', 'electric', 'current', 'signal', 'induction', 'motor', 'contains', 'different', 'defective', 'states', 'based', 'upon', 'characteristics', 'output', 'driving', 'electric', 'signal', 'classify', 'defective', 'states', 'diagnosed', 'easily', 'without', 'using', 'additional', 'sensor', 'built', 'models', 'like', 'logistic', 'regression', 'decision', 'trees', 'random', 'forest', 'program', 'language', 'python', 'r', 'individual', 'project', 'used', 'cars', 'price', 'prediction', 'regression', 'problem', 'predict', 'price', 'used', 'vehicles', 'based', 'historical', 'data', 'approach', 'test', 'dataset', 'around', 'k', 'rows', 'columns', 'supposed', 'predict', 'price', 'used', 'car', 'considering', 'complex', 'dynamics', 'used', 'car', 'sales', 'business', 'based', 'historical', 'details', 'cars', 'put', 'sale', 'built', 'models', 'like', 'linear', 'lasso', 'ridge', 'regression', 'decision', 'trees', 'random', 'forest', 'xgboost', 'programing', 'language', 'r', 'experience', 'intern', 'data', 'sciences', 'insofe', 'hyderabad', 'nov', 'jan', 'months', 'hands', 'experience', 'solving', 'real', 'world', 'problem', 'industrial', 'domain', 'research', 'intern', 'international', 'school', 'engineering', 'hyd', 'proficient', 'applying', 'different', 'techniques', 'statistical', 'analysis', 'data', 'pre', 'processing', 'obtain', 'granular', 'insights', 'data', 'model', 'building', 'hyper', 'tuning', 'parameters', 'given', 'machine', 'learning', 'model', 'get', 'better', 'error', 'metrics', 'software', 'engineer', 'qa', 'valuelabs', 'june', 'july', 'years', 'months', 'worked', 'mobile', 'application', 'testing', 'hands', 'work', 'experience', 'ui', 'functional', 'compatibility', 'regression', 'testing', 'real', 'devices', 'mobile', 'emulators', 'planning', 'creating', 'documenting', 'testing', 'test', 'cases', 'projects', 'attended', 'daily', 'scrum', 'calls', 'part', 'agile', 'methodology', 'education', 'international', 'school', 'engineering', 'insofe', 'pgp', 'big', 'data', 'analytics', 'optimization', 'data', 'sciences', 'g', 'pullaiah', 'college', 'engineering', 'technology', 'kurnool', 'bachelor', 'technology', 'b', 'tech', 'electronics', 'communications', 'engineering', 'percentage']\n"
     ]
    }
   ],
   "source": [
    "print(stop_tokens)"
   ]
  },
  {
   "cell_type": "code",
   "execution_count": 50,
   "metadata": {
    "collapsed": true
   },
   "outputs": [],
   "source": [
    "#lemmetazing\n",
    "\n",
    "lemmet = nltk.stem.WordNetLemmatizer()"
   ]
  },
  {
   "cell_type": "code",
   "execution_count": 51,
   "metadata": {
    "collapsed": true
   },
   "outputs": [],
   "source": [
    "token_lemmet = [lemmet.lemmatize(token) for token in stop_tokens]"
   ]
  },
  {
   "cell_type": "code",
   "execution_count": 52,
   "metadata": {},
   "outputs": [
    {
     "name": "stdout",
     "output_type": "stream",
     "text": [
      "['siva', 'sravan', 'mail', 'sravan', 'davagni', 'gmail', 'com', 'linkedin', 'www', 'linkedin', 'com', 'sivasravandavagni', 'github', 'http', 'github', 'com', 'sravand', 'ph', 'objective', 'seeking', 'opportunity', 'data', 'science', 'use', 'knowledge', 'skill', 'delivering', 'effective', 'business', 'solution', 'summary', 'worked', 'intern', 'data', 'science', 'insofe', 'hyderabad', 'two', 'year', 'experience', 'industry', 'mobile', 'testing', 'pgp', 'big', 'data', 'analytics', 'optimisation', 'b', 'tech', 'electronics', 'communication', 'engineering', 'data', 'science', 'expertise', 'statistic', 'probability', 'machine', 'learning', 'algorithm', 'supervised', 'unsupervised', 'learning', 'predictive', 'modelling', 'linear', 'regression', 'logistic', 'regression', 'na', 'bayes', 'classifier', 'pca', 'regularisation', 'technique', 'time', 'series', 'decision', 'tree', 'svm', 'knn', 'clustering', 'ensemble', 'technique', 'bagging', 'random', 'forest', 'gradient', 'boosting', 'stacking', 'neural', 'network', 'deep', 'learning', 'natural', 'language', 'processing', 'visualization', 'using', 'ggplot', 'tableau', 'programming', 'language', 'r', 'python', 'sql', 'good', 'understanding', 'big', 'data', 'technology', 'like', 'hdfs', 'spark', 'flume', 'kafka', 'hadoop', 'ecosystem', 'project', 'internship', 'project', 'sensor', 'le', 'drive', 'diagnosis', 'multi', 'class', 'classification', 'problem', 'predict', 'defective', 'state', 'induction', 'motor', 'without', 'using', 'sensor', 'approach', 'given', 'data', 'set', 'around', 'k', 'row', 'column', 'data', 'set', 'detail', 'two', 'phase', 'electric', 'current', 'signal', 'induction', 'motor', 'contains', 'different', 'defective', 'state', 'based', 'upon', 'characteristic', 'output', 'driving', 'electric', 'signal', 'classify', 'defective', 'state', 'diagnosed', 'easily', 'without', 'using', 'additional', 'sensor', 'built', 'model', 'like', 'logistic', 'regression', 'decision', 'tree', 'random', 'forest', 'program', 'language', 'python', 'r', 'individual', 'project', 'used', 'car', 'price', 'prediction', 'regression', 'problem', 'predict', 'price', 'used', 'vehicle', 'based', 'historical', 'data', 'approach', 'test', 'dataset', 'around', 'k', 'row', 'column', 'supposed', 'predict', 'price', 'used', 'car', 'considering', 'complex', 'dynamic', 'used', 'car', 'sale', 'business', 'based', 'historical', 'detail', 'car', 'put', 'sale', 'built', 'model', 'like', 'linear', 'lasso', 'ridge', 'regression', 'decision', 'tree', 'random', 'forest', 'xgboost', 'programing', 'language', 'r', 'experience', 'intern', 'data', 'science', 'insofe', 'hyderabad', 'nov', 'jan', 'month', 'hand', 'experience', 'solving', 'real', 'world', 'problem', 'industrial', 'domain', 'research', 'intern', 'international', 'school', 'engineering', 'hyd', 'proficient', 'applying', 'different', 'technique', 'statistical', 'analysis', 'data', 'pre', 'processing', 'obtain', 'granular', 'insight', 'data', 'model', 'building', 'hyper', 'tuning', 'parameter', 'given', 'machine', 'learning', 'model', 'get', 'better', 'error', 'metric', 'software', 'engineer', 'qa', 'valuelabs', 'june', 'july', 'year', 'month', 'worked', 'mobile', 'application', 'testing', 'hand', 'work', 'experience', 'ui', 'functional', 'compatibility', 'regression', 'testing', 'real', 'device', 'mobile', 'emulator', 'planning', 'creating', 'documenting', 'testing', 'test', 'case', 'project', 'attended', 'daily', 'scrum', 'call', 'part', 'agile', 'methodology', 'education', 'international', 'school', 'engineering', 'insofe', 'pgp', 'big', 'data', 'analytics', 'optimization', 'data', 'science', 'g', 'pullaiah', 'college', 'engineering', 'technology', 'kurnool', 'bachelor', 'technology', 'b', 'tech', 'electronics', 'communication', 'engineering', 'percentage']\n"
     ]
    }
   ],
   "source": [
    "print(token_lemmet)"
   ]
  },
  {
   "cell_type": "code",
   "execution_count": 55,
   "metadata": {},
   "outputs": [
    {
     "name": "stdout",
     "output_type": "stream",
     "text": [
      "['summary', 'worked', 'intern', 'data', 'science', 'insofe', 'hyderabad', 'two', 'year', 'experience', 'industry', 'mobile', 'testing', 'pgp', 'big', 'data', 'analytics', 'optimisation', 'b', 'tech', 'electronics', 'communication', 'engineering', 'data', 'science', 'expertise', 'statistic', 'probability', 'machine', 'learning', 'algorithm', 'supervised', 'unsupervised', 'learning', 'predictive', 'modelling', 'linear', 'regression', 'logistic', 'regression', 'na', 'bayes', 'classifier', 'pca', 'regularisation', 'technique', 'time', 'series', 'decision', 'tree', 'svm', 'knn', 'clustering', 'ensemble', 'technique', 'bagging', 'random', 'forest', 'gradient', 'boosting', 'stacking', 'neural', 'network', 'deep', 'learning', 'natural', 'language', 'processing', 'visualization', 'using', 'ggplot', 'tableau', 'programming', 'language', 'r', 'python', 'sql', 'good', 'understanding', 'big', 'data', 'technology', 'like', 'hdfs', 'spark', 'flume', 'kafka', 'hadoop', 'ecosystem', 'project', 'internship', 'project', 'sensor', 'le', 'drive', 'diagnosis', 'multi', 'class', 'classification', 'problem', 'predict', 'defective', 'state', 'induction', 'motor', 'without', 'using', 'sensor', 'approach', 'given', 'data', 'set', 'around', 'k', 'row', 'column', 'data', 'set', 'detail', 'two', 'phase', 'electric', 'current', 'signal', 'induction', 'motor', 'contains', 'different', 'defective', 'state', 'based', 'upon', 'characteristic', 'output', 'driving', 'electric', 'signal', 'classify', 'defective', 'state', 'diagnosed', 'easily', 'without', 'using', 'additional', 'sensor', 'built', 'model', 'like', 'logistic', 'regression', 'decision', 'tree', 'random', 'forest', 'program', 'language', 'python', 'r', 'individual', 'project', 'used', 'car', 'price', 'prediction', 'regression', 'problem', 'predict', 'price', 'used', 'vehicle', 'based', 'historical', 'data', 'approach', 'test', 'dataset', 'around', 'k', 'row', 'column', 'supposed', 'predict', 'price', 'used', 'car', 'considering', 'complex', 'dynamic', 'used', 'car', 'sale', 'business', 'based', 'historical', 'detail', 'car', 'put', 'sale', 'built', 'model', 'like', 'linear', 'lasso', 'ridge', 'regression', 'decision', 'tree', 'random', 'forest', 'xgboost', 'programing', 'language', 'r', 'experience', 'intern', 'data', 'science', 'insofe', 'hyderabad', 'nov', 'jan', 'month', 'hand', 'experience', 'solving', 'real', 'world', 'problem', 'industrial', 'domain', 'research', 'intern', 'international', 'school', 'engineering', 'hyd', 'proficient', 'applying', 'different', 'technique', 'statistical', 'analysis', 'data', 'pre', 'processing', 'obtain', 'granular', 'insight', 'data', 'model', 'building', 'hyper', 'tuning', 'parameter', 'given', 'machine', 'learning', 'model', 'get', 'better', 'error', 'metric', 'software', 'engineer', 'qa', 'valuelabs', 'june', 'july', 'year', 'month', 'worked', 'mobile', 'application', 'testing', 'hand', 'work', 'experience', 'ui', 'functional', 'compatibility', 'regression', 'testing', 'real', 'device', 'mobile', 'emulator', 'planning', 'creating', 'documenting', 'testing', 'test', 'case', 'project', 'attended', 'daily', 'scrum', 'call', 'part', 'agile', 'methodology', 'education', 'international', 'school', 'engineering', 'insofe', 'pgp', 'big', 'data', 'analytics', 'optimization', 'data', 'science', 'g', 'pullaiah', 'college', 'engineering', 'technology', 'kurnool', 'bachelor', 'technology', 'b', 'tech', 'electronics', 'communication', 'engineering', 'percentage']\n"
     ]
    }
   ],
   "source": [
    "print(token_lemmet[30:])"
   ]
  },
  {
   "cell_type": "code",
   "execution_count": 56,
   "metadata": {
    "collapsed": true
   },
   "outputs": [],
   "source": [
    "porter = nltk.PorterStemmer()"
   ]
  },
  {
   "cell_type": "code",
   "execution_count": 58,
   "metadata": {
    "collapsed": true
   },
   "outputs": [],
   "source": [
    "token_stemming =[]\n",
    "for token in token_lemmet:\n",
    "    porter.stem(token)\n",
    "    token_stemming.append(token)"
   ]
  },
  {
   "cell_type": "code",
   "execution_count": 59,
   "metadata": {
    "scrolled": true
   },
   "outputs": [
    {
     "name": "stdout",
     "output_type": "stream",
     "text": [
      "['siva', 'sravan', 'mail', 'sravan', 'davagni', 'gmail', 'com', 'linkedin', 'www', 'linkedin', 'com', 'sivasravandavagni', 'github', 'http', 'github', 'com', 'sravand', 'ph', 'objective', 'seeking', 'opportunity', 'data', 'science', 'use', 'knowledge', 'skill', 'delivering', 'effective', 'business', 'solution', 'summary', 'worked', 'intern', 'data', 'science', 'insofe', 'hyderabad', 'two', 'year', 'experience', 'industry', 'mobile', 'testing', 'pgp', 'big', 'data', 'analytics', 'optimisation', 'b', 'tech', 'electronics', 'communication', 'engineering', 'data', 'science', 'expertise', 'statistic', 'probability', 'machine', 'learning', 'algorithm', 'supervised', 'unsupervised', 'learning', 'predictive', 'modelling', 'linear', 'regression', 'logistic', 'regression', 'na', 'bayes', 'classifier', 'pca', 'regularisation', 'technique', 'time', 'series', 'decision', 'tree', 'svm', 'knn', 'clustering', 'ensemble', 'technique', 'bagging', 'random', 'forest', 'gradient', 'boosting', 'stacking', 'neural', 'network', 'deep', 'learning', 'natural', 'language', 'processing', 'visualization', 'using', 'ggplot', 'tableau', 'programming', 'language', 'r', 'python', 'sql', 'good', 'understanding', 'big', 'data', 'technology', 'like', 'hdfs', 'spark', 'flume', 'kafka', 'hadoop', 'ecosystem', 'project', 'internship', 'project', 'sensor', 'le', 'drive', 'diagnosis', 'multi', 'class', 'classification', 'problem', 'predict', 'defective', 'state', 'induction', 'motor', 'without', 'using', 'sensor', 'approach', 'given', 'data', 'set', 'around', 'k', 'row', 'column', 'data', 'set', 'detail', 'two', 'phase', 'electric', 'current', 'signal', 'induction', 'motor', 'contains', 'different', 'defective', 'state', 'based', 'upon', 'characteristic', 'output', 'driving', 'electric', 'signal', 'classify', 'defective', 'state', 'diagnosed', 'easily', 'without', 'using', 'additional', 'sensor', 'built', 'model', 'like', 'logistic', 'regression', 'decision', 'tree', 'random', 'forest', 'program', 'language', 'python', 'r', 'individual', 'project', 'used', 'car', 'price', 'prediction', 'regression', 'problem', 'predict', 'price', 'used', 'vehicle', 'based', 'historical', 'data', 'approach', 'test', 'dataset', 'around', 'k', 'row', 'column', 'supposed', 'predict', 'price', 'used', 'car', 'considering', 'complex', 'dynamic', 'used', 'car', 'sale', 'business', 'based', 'historical', 'detail', 'car', 'put', 'sale', 'built', 'model', 'like', 'linear', 'lasso', 'ridge', 'regression', 'decision', 'tree', 'random', 'forest', 'xgboost', 'programing', 'language', 'r', 'experience', 'intern', 'data', 'science', 'insofe', 'hyderabad', 'nov', 'jan', 'month', 'hand', 'experience', 'solving', 'real', 'world', 'problem', 'industrial', 'domain', 'research', 'intern', 'international', 'school', 'engineering', 'hyd', 'proficient', 'applying', 'different', 'technique', 'statistical', 'analysis', 'data', 'pre', 'processing', 'obtain', 'granular', 'insight', 'data', 'model', 'building', 'hyper', 'tuning', 'parameter', 'given', 'machine', 'learning', 'model', 'get', 'better', 'error', 'metric', 'software', 'engineer', 'qa', 'valuelabs', 'june', 'july', 'year', 'month', 'worked', 'mobile', 'application', 'testing', 'hand', 'work', 'experience', 'ui', 'functional', 'compatibility', 'regression', 'testing', 'real', 'device', 'mobile', 'emulator', 'planning', 'creating', 'documenting', 'testing', 'test', 'case', 'project', 'attended', 'daily', 'scrum', 'call', 'part', 'agile', 'methodology', 'education', 'international', 'school', 'engineering', 'insofe', 'pgp', 'big', 'data', 'analytics', 'optimization', 'data', 'science', 'g', 'pullaiah', 'college', 'engineering', 'technology', 'kurnool', 'bachelor', 'technology', 'b', 'tech', 'electronics', 'communication', 'engineering', 'percentage']\n"
     ]
    }
   ],
   "source": [
    "print(token_stemming)"
   ]
  },
  {
   "cell_type": "markdown",
   "metadata": {
    "collapsed": true
   },
   "source": [
    "## TF-IDF vectorizing"
   ]
  },
  {
   "cell_type": "code",
   "execution_count": 1,
   "metadata": {
    "collapsed": true
   },
   "outputs": [],
   "source": [
    "from time import time\n",
    "from sklearn.feature_extraction.text import TfidfVectorizer \n",
    "from sklearn.feature_extraction.text import CountVectorizer"
   ]
  },
  {
   "cell_type": "code",
   "execution_count": 2,
   "metadata": {
    "collapsed": true
   },
   "outputs": [],
   "source": [
    "# lets take a sample corpus to explain the working of TFIdf vecoterizer()\n",
    "\n",
    "corpus = '''Hi my name is Sravan\n",
    "I like texting \n",
    "This is example for text pre processing.'''"
   ]
  },
  {
   "cell_type": "code",
   "execution_count": 3,
   "metadata": {},
   "outputs": [
    {
     "name": "stdout",
     "output_type": "stream",
     "text": [
      "['Hi my name is Sravan', 'I like texting ', 'This is example for text pre processing.']\n"
     ]
    }
   ],
   "source": [
    "corpus_data = corpus.split('\\n')\n",
    "print(corpus_data)\n"
   ]
  },
  {
   "cell_type": "code",
   "execution_count": 7,
   "metadata": {},
   "outputs": [],
   "source": [
    "#now to get tf-idf vectors\n",
    "tfidf_vector = TfidfVectorizer(ngram_range=(1,2))\n",
    "t0= time\n",
    "\n",
    "#now give data for processing\n",
    "tffidf_data = tfidf_vector.fit_transform(corpus_data)\n"
   ]
  },
  {
   "cell_type": "code",
   "execution_count": 10,
   "metadata": {},
   "outputs": [
    {
     "data": {
      "text/plain": [
       "array([ 0.34142622,  0.34142622,  0.34142622,  0.25966344,  0.34142622,\n",
       "        0.34142622,  0.34142622,  0.34142622,  0.34142622,  0.57735027,\n",
       "        0.57735027,  0.57735027,  0.21443775,  0.28195987,  0.28195987,\n",
       "        0.28195987,  0.28195987,  0.28195987,  0.28195987,  0.28195987,\n",
       "        0.28195987,  0.28195987,  0.28195987,  0.28195987,  0.28195987])"
      ]
     },
     "execution_count": 10,
     "metadata": {},
     "output_type": "execute_result"
    }
   ],
   "source": [
    "tffidf_data.data"
   ]
  },
  {
   "cell_type": "code",
   "execution_count": 12,
   "metadata": {},
   "outputs": [
    {
     "name": "stdout",
     "output_type": "stream",
     "text": [
      "['example', 'example for', 'for', 'for text', 'hi', 'hi my', 'is', 'is example', 'is sravan', 'like', 'like texting', 'my', 'my name', 'name', 'name is', 'pre', 'pre processing', 'processing', 'sravan', 'text', 'text pre', 'texting', 'this', 'this is']\n"
     ]
    }
   ],
   "source": [
    "print(tfidf_vector.get_feature_names())"
   ]
  },
  {
   "cell_type": "code",
   "execution_count": 14,
   "metadata": {},
   "outputs": [
    {
     "data": {
      "text/plain": [
       "(3, 24)"
      ]
     },
     "execution_count": 14,
     "metadata": {},
     "output_type": "execute_result"
    }
   ],
   "source": [
    "#convert the tfidf matrix to dense form\n",
    "\n",
    "dense = tffidf_data.todense()\n",
    "dense.shape\n"
   ]
  },
  {
   "cell_type": "code",
   "execution_count": 16,
   "metadata": {},
   "outputs": [
    {
     "name": "stdout",
     "output_type": "stream",
     "text": [
      "[[ 0.          0.          0.          0.          0.34142622  0.34142622\n",
      "   0.25966344  0.          0.34142622  0.          0.          0.34142622\n",
      "   0.34142622  0.34142622  0.34142622  0.          0.          0.\n",
      "   0.34142622  0.          0.          0.          0.          0.        ]\n",
      " [ 0.          0.          0.          0.          0.          0.          0.\n",
      "   0.          0.          0.57735027  0.57735027  0.          0.          0.\n",
      "   0.          0.          0.          0.          0.          0.          0.\n",
      "   0.57735027  0.          0.        ]\n",
      " [ 0.28195987  0.28195987  0.28195987  0.28195987  0.          0.\n",
      "   0.21443775  0.28195987  0.          0.          0.          0.          0.\n",
      "   0.          0.          0.28195987  0.28195987  0.28195987  0.\n",
      "   0.28195987  0.28195987  0.          0.28195987  0.28195987]]\n"
     ]
    }
   ],
   "source": [
    "print(dense)"
   ]
  },
  {
   "cell_type": "code",
   "execution_count": 27,
   "metadata": {
    "collapsed": true
   },
   "outputs": [],
   "source": [
    "#converting this tfidf matrix to data frame\n",
    "\n",
    "import pandas as pd\n",
    "\n",
    "tf_dataframe = pd.DataFrame(dense)\n",
    "tf_dataframe.columns = tfidf_vector.get_feature_names()\n",
    "tf_dataframe.to_csv('final.csv',index= False)"
   ]
  },
  {
   "cell_type": "code",
   "execution_count": 28,
   "metadata": {},
   "outputs": [
    {
     "data": {
      "text/html": [
       "<div>\n",
       "<style>\n",
       "    .dataframe thead tr:only-child th {\n",
       "        text-align: right;\n",
       "    }\n",
       "\n",
       "    .dataframe thead th {\n",
       "        text-align: left;\n",
       "    }\n",
       "\n",
       "    .dataframe tbody tr th {\n",
       "        vertical-align: top;\n",
       "    }\n",
       "</style>\n",
       "<table border=\"1\" class=\"dataframe\">\n",
       "  <thead>\n",
       "    <tr style=\"text-align: right;\">\n",
       "      <th></th>\n",
       "      <th>example</th>\n",
       "      <th>example for</th>\n",
       "      <th>for</th>\n",
       "      <th>for text</th>\n",
       "      <th>hi</th>\n",
       "      <th>hi my</th>\n",
       "      <th>is</th>\n",
       "      <th>is example</th>\n",
       "      <th>is sravan</th>\n",
       "      <th>like</th>\n",
       "      <th>...</th>\n",
       "      <th>name is</th>\n",
       "      <th>pre</th>\n",
       "      <th>pre processing</th>\n",
       "      <th>processing</th>\n",
       "      <th>sravan</th>\n",
       "      <th>text</th>\n",
       "      <th>text pre</th>\n",
       "      <th>texting</th>\n",
       "      <th>this</th>\n",
       "      <th>this is</th>\n",
       "    </tr>\n",
       "  </thead>\n",
       "  <tbody>\n",
       "    <tr>\n",
       "      <th>0</th>\n",
       "      <td>0.00000</td>\n",
       "      <td>0.00000</td>\n",
       "      <td>0.00000</td>\n",
       "      <td>0.00000</td>\n",
       "      <td>0.341426</td>\n",
       "      <td>0.341426</td>\n",
       "      <td>0.259663</td>\n",
       "      <td>0.00000</td>\n",
       "      <td>0.341426</td>\n",
       "      <td>0.00000</td>\n",
       "      <td>...</td>\n",
       "      <td>0.341426</td>\n",
       "      <td>0.00000</td>\n",
       "      <td>0.00000</td>\n",
       "      <td>0.00000</td>\n",
       "      <td>0.341426</td>\n",
       "      <td>0.00000</td>\n",
       "      <td>0.00000</td>\n",
       "      <td>0.00000</td>\n",
       "      <td>0.00000</td>\n",
       "      <td>0.00000</td>\n",
       "    </tr>\n",
       "    <tr>\n",
       "      <th>1</th>\n",
       "      <td>0.00000</td>\n",
       "      <td>0.00000</td>\n",
       "      <td>0.00000</td>\n",
       "      <td>0.00000</td>\n",
       "      <td>0.000000</td>\n",
       "      <td>0.000000</td>\n",
       "      <td>0.000000</td>\n",
       "      <td>0.00000</td>\n",
       "      <td>0.000000</td>\n",
       "      <td>0.57735</td>\n",
       "      <td>...</td>\n",
       "      <td>0.000000</td>\n",
       "      <td>0.00000</td>\n",
       "      <td>0.00000</td>\n",
       "      <td>0.00000</td>\n",
       "      <td>0.000000</td>\n",
       "      <td>0.00000</td>\n",
       "      <td>0.00000</td>\n",
       "      <td>0.57735</td>\n",
       "      <td>0.00000</td>\n",
       "      <td>0.00000</td>\n",
       "    </tr>\n",
       "    <tr>\n",
       "      <th>2</th>\n",
       "      <td>0.28196</td>\n",
       "      <td>0.28196</td>\n",
       "      <td>0.28196</td>\n",
       "      <td>0.28196</td>\n",
       "      <td>0.000000</td>\n",
       "      <td>0.000000</td>\n",
       "      <td>0.214438</td>\n",
       "      <td>0.28196</td>\n",
       "      <td>0.000000</td>\n",
       "      <td>0.00000</td>\n",
       "      <td>...</td>\n",
       "      <td>0.000000</td>\n",
       "      <td>0.28196</td>\n",
       "      <td>0.28196</td>\n",
       "      <td>0.28196</td>\n",
       "      <td>0.000000</td>\n",
       "      <td>0.28196</td>\n",
       "      <td>0.28196</td>\n",
       "      <td>0.00000</td>\n",
       "      <td>0.28196</td>\n",
       "      <td>0.28196</td>\n",
       "    </tr>\n",
       "  </tbody>\n",
       "</table>\n",
       "<p>3 rows × 24 columns</p>\n",
       "</div>"
      ],
      "text/plain": [
       "   example  example for      for  for text        hi     hi my        is  \\\n",
       "0  0.00000      0.00000  0.00000   0.00000  0.341426  0.341426  0.259663   \n",
       "1  0.00000      0.00000  0.00000   0.00000  0.000000  0.000000  0.000000   \n",
       "2  0.28196      0.28196  0.28196   0.28196  0.000000  0.000000  0.214438   \n",
       "\n",
       "   is example  is sravan     like   ...      name is      pre  pre processing  \\\n",
       "0     0.00000   0.341426  0.00000   ...     0.341426  0.00000         0.00000   \n",
       "1     0.00000   0.000000  0.57735   ...     0.000000  0.00000         0.00000   \n",
       "2     0.28196   0.000000  0.00000   ...     0.000000  0.28196         0.28196   \n",
       "\n",
       "   processing    sravan     text  text pre  texting     this  this is  \n",
       "0     0.00000  0.341426  0.00000   0.00000  0.00000  0.00000  0.00000  \n",
       "1     0.00000  0.000000  0.00000   0.00000  0.57735  0.00000  0.00000  \n",
       "2     0.28196  0.000000  0.28196   0.28196  0.00000  0.28196  0.28196  \n",
       "\n",
       "[3 rows x 24 columns]"
      ]
     },
     "execution_count": 28,
     "metadata": {},
     "output_type": "execute_result"
    }
   ],
   "source": [
    "tf_dataframe"
   ]
  },
  {
   "cell_type": "markdown",
   "metadata": {},
   "source": [
    "## Doc Similarity\n",
    "\n",
    "Given a new query, how to find out which document is it closest to?"
   ]
  },
  {
   "cell_type": "code",
   "execution_count": 29,
   "metadata": {
    "collapsed": true
   },
   "outputs": [],
   "source": [
    "new_line = 'This is example for NLP'\n",
    "response = tfidf_vector.transform([new_line])"
   ]
  },
  {
   "cell_type": "code",
   "execution_count": 30,
   "metadata": {},
   "outputs": [],
   "source": [
    "dense_response = response.todense()"
   ]
  },
  {
   "cell_type": "code",
   "execution_count": 31,
   "metadata": {},
   "outputs": [
    {
     "data": {
      "text/html": [
       "<div>\n",
       "<style>\n",
       "    .dataframe thead tr:only-child th {\n",
       "        text-align: right;\n",
       "    }\n",
       "\n",
       "    .dataframe thead th {\n",
       "        text-align: left;\n",
       "    }\n",
       "\n",
       "    .dataframe tbody tr th {\n",
       "        vertical-align: top;\n",
       "    }\n",
       "</style>\n",
       "<table border=\"1\" class=\"dataframe\">\n",
       "  <thead>\n",
       "    <tr style=\"text-align: right;\">\n",
       "      <th></th>\n",
       "      <th>example</th>\n",
       "      <th>example for</th>\n",
       "      <th>for</th>\n",
       "      <th>for text</th>\n",
       "      <th>hi</th>\n",
       "      <th>hi my</th>\n",
       "      <th>is</th>\n",
       "      <th>is example</th>\n",
       "      <th>is sravan</th>\n",
       "      <th>like</th>\n",
       "      <th>...</th>\n",
       "      <th>name is</th>\n",
       "      <th>pre</th>\n",
       "      <th>pre processing</th>\n",
       "      <th>processing</th>\n",
       "      <th>sravan</th>\n",
       "      <th>text</th>\n",
       "      <th>text pre</th>\n",
       "      <th>texting</th>\n",
       "      <th>this</th>\n",
       "      <th>this is</th>\n",
       "    </tr>\n",
       "  </thead>\n",
       "  <tbody>\n",
       "    <tr>\n",
       "      <th>0</th>\n",
       "      <td>0.389888</td>\n",
       "      <td>0.389888</td>\n",
       "      <td>0.389888</td>\n",
       "      <td>0.0</td>\n",
       "      <td>0.0</td>\n",
       "      <td>0.0</td>\n",
       "      <td>0.29652</td>\n",
       "      <td>0.389888</td>\n",
       "      <td>0.0</td>\n",
       "      <td>0.0</td>\n",
       "      <td>...</td>\n",
       "      <td>0.0</td>\n",
       "      <td>0.0</td>\n",
       "      <td>0.0</td>\n",
       "      <td>0.0</td>\n",
       "      <td>0.0</td>\n",
       "      <td>0.0</td>\n",
       "      <td>0.0</td>\n",
       "      <td>0.0</td>\n",
       "      <td>0.389888</td>\n",
       "      <td>0.389888</td>\n",
       "    </tr>\n",
       "  </tbody>\n",
       "</table>\n",
       "<p>1 rows × 24 columns</p>\n",
       "</div>"
      ],
      "text/plain": [
       "    example  example for       for  for text   hi  hi my       is  is example  \\\n",
       "0  0.389888     0.389888  0.389888       0.0  0.0    0.0  0.29652    0.389888   \n",
       "\n",
       "   is sravan  like    ...     name is  pre  pre processing  processing  \\\n",
       "0        0.0   0.0    ...         0.0  0.0             0.0         0.0   \n",
       "\n",
       "   sravan  text  text pre  texting      this   this is  \n",
       "0     0.0   0.0       0.0      0.0  0.389888  0.389888  \n",
       "\n",
       "[1 rows x 24 columns]"
      ]
     },
     "execution_count": 31,
     "metadata": {},
     "output_type": "execute_result"
    }
   ],
   "source": [
    "pd.DataFrame(dense_response,columns=tf_dataframe.columns[0:24])"
   ]
  },
  {
   "cell_type": "code",
   "execution_count": 35,
   "metadata": {},
   "outputs": [
    {
     "data": {
      "text/plain": [
       "<map at 0x1fc06c1b160>"
      ]
     },
     "execution_count": 35,
     "metadata": {},
     "output_type": "execute_result"
    }
   ],
   "source": [
    "from sklearn.metrics.pairwise import cosine_similarity\n",
    "map(lambda x: cosine_similarity(response, x), dense)"
   ]
  },
  {
   "cell_type": "code",
   "execution_count": 40,
   "metadata": {},
   "outputs": [
    {
     "data": {
      "text/plain": [
       "(3, 24)"
      ]
     },
     "execution_count": 40,
     "metadata": {},
     "output_type": "execute_result"
    }
   ],
   "source": [
    "dense.shape"
   ]
  },
  {
   "cell_type": "code",
   "execution_count": 45,
   "metadata": {
    "collapsed": true
   },
   "outputs": [],
   "source": [
    "truth = [1,2,3]"
   ]
  },
  {
   "cell_type": "code",
   "execution_count": 37,
   "metadata": {
    "collapsed": true
   },
   "outputs": [],
   "source": [
    "from sklearn.linear_model import LogisticRegression\n",
    "model = LogisticRegression()"
   ]
  },
  {
   "cell_type": "code",
   "execution_count": 46,
   "metadata": {},
   "outputs": [
    {
     "data": {
      "text/plain": [
       "LogisticRegression(C=1.0, class_weight=None, dual=False, fit_intercept=True,\n",
       "          intercept_scaling=1, max_iter=100, multi_class='ovr', n_jobs=1,\n",
       "          penalty='l2', random_state=None, solver='liblinear', tol=0.0001,\n",
       "          verbose=0, warm_start=False)"
      ]
     },
     "execution_count": 46,
     "metadata": {},
     "output_type": "execute_result"
    }
   ],
   "source": [
    "model.fit(dense, truth)"
   ]
  },
  {
   "cell_type": "code",
   "execution_count": 47,
   "metadata": {},
   "outputs": [
    {
     "data": {
      "text/plain": [
       "array([[ 0.302524  ,  0.29295822,  0.40451778]])"
      ]
     },
     "execution_count": 47,
     "metadata": {},
     "output_type": "execute_result"
    }
   ],
   "source": [
    "model.predict_proba(response)"
   ]
  },
  {
   "cell_type": "code",
   "execution_count": 48,
   "metadata": {},
   "outputs": [
    {
     "data": {
      "text/plain": [
       "array([3])"
      ]
     },
     "execution_count": 48,
     "metadata": {},
     "output_type": "execute_result"
    }
   ],
   "source": [
    "model.predict(response)"
   ]
  },
  {
   "cell_type": "markdown",
   "metadata": {},
   "source": [
    "### Naive Bayes Algorithm"
   ]
  },
  {
   "cell_type": "code",
   "execution_count": 54,
   "metadata": {},
   "outputs": [],
   "source": [
    "from sklearn.naive_bayes import MultinomialNB"
   ]
  },
  {
   "cell_type": "code",
   "execution_count": 55,
   "metadata": {},
   "outputs": [],
   "source": [
    "nb_model = MultinomialNB()"
   ]
  },
  {
   "cell_type": "code",
   "execution_count": 56,
   "metadata": {},
   "outputs": [
    {
     "data": {
      "text/plain": [
       "MultinomialNB(alpha=1.0, class_prior=None, fit_prior=True)"
      ]
     },
     "execution_count": 56,
     "metadata": {},
     "output_type": "execute_result"
    }
   ],
   "source": [
    "nb_model.fit(dense,truth)"
   ]
  },
  {
   "cell_type": "code",
   "execution_count": 58,
   "metadata": {},
   "outputs": [
    {
     "data": {
      "text/plain": [
       "array([3])"
      ]
     },
     "execution_count": 58,
     "metadata": {},
     "output_type": "execute_result"
    }
   ],
   "source": [
    "nb_model.predict(response)"
   ]
  },
  {
   "cell_type": "code",
   "execution_count": 59,
   "metadata": {},
   "outputs": [
    {
     "data": {
      "text/plain": [
       "array([[ 0.2683032 ,  0.28417185,  0.44752495]])"
      ]
     },
     "execution_count": 59,
     "metadata": {},
     "output_type": "execute_result"
    }
   ],
   "source": [
    "nb_model.predict_proba(response)"
   ]
  }
 ],
 "metadata": {
  "kernelspec": {
   "display_name": "Python 3",
   "language": "python",
   "name": "python3"
  },
  "language_info": {
   "codemirror_mode": {
    "name": "ipython",
    "version": 3
   },
   "file_extension": ".py",
   "mimetype": "text/x-python",
   "name": "python",
   "nbconvert_exporter": "python",
   "pygments_lexer": "ipython3",
   "version": "3.6.1"
  }
 },
 "nbformat": 4,
 "nbformat_minor": 2
}
