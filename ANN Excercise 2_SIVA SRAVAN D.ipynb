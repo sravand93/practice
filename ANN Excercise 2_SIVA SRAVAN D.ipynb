{
 "cells": [
  {
   "cell_type": "code",
   "execution_count": 1,
   "metadata": {
    "collapsed": true
   },
   "outputs": [],
   "source": [
    "import numpy as np\n",
    "from numpy import genfromtxt\n",
    "from matplotlib import pyplot as plt\n",
    "import pandas as pd\n",
    "\n",
    "%matplotlib inline\n",
    "\n"
   ]
  },
  {
   "cell_type": "code",
   "execution_count": 2,
   "metadata": {
    "collapsed": true
   },
   "outputs": [],
   "source": [
    "train = genfromtxt('E:\\\\INSOFE\\\\AI and Deep Learning\\\\day1\\\\ANN\\\\train_solved.csv', delimiter=',')\n",
    "test = genfromtxt('E:\\\\INSOFE\\\\AI and Deep Learning\\\\day1\\\\ANN\\\\test_solved.csv', delimiter=',')"
   ]
  },
  {
   "cell_type": "code",
   "execution_count": 5,
   "metadata": {},
   "outputs": [
    {
     "data": {
      "text/plain": [
       "array([[ 0.,  0.,  0., ...,  0.,  0.,  2.],\n",
       "       [ 0.,  0.,  0., ...,  0.,  0.,  3.],\n",
       "       [ 0.,  0.,  0., ...,  0.,  0.,  0.],\n",
       "       ..., \n",
       "       [ 0.,  0.,  0., ...,  0.,  0.,  9.],\n",
       "       [ 0.,  0.,  0., ...,  0.,  0.,  8.],\n",
       "       [ 0.,  0.,  0., ...,  0.,  0.,  5.]])"
      ]
     },
     "execution_count": 5,
     "metadata": {},
     "output_type": "execute_result"
    }
   ],
   "source": [
    "train"
   ]
  },
  {
   "cell_type": "code",
   "execution_count": 3,
   "metadata": {
    "collapsed": true
   },
   "outputs": [],
   "source": [
    "x_train = train[:,0:784] \n",
    "y_train = train[:,784]\n",
    "x_test = test[:,0:784] \n",
    "y_test = test[:,784]"
   ]
  },
  {
   "cell_type": "code",
   "execution_count": 4,
   "metadata": {},
   "outputs": [
    {
     "name": "stderr",
     "output_type": "stream",
     "text": [
      "Using TensorFlow backend.\n"
     ]
    }
   ],
   "source": [
    "from keras.utils.np_utils import to_categorical\n",
    "y_train = to_categorical(y_train) \n",
    "y_test = to_categorical(y_test) "
   ]
  },
  {
   "cell_type": "code",
   "execution_count": 5,
   "metadata": {},
   "outputs": [
    {
     "name": "stdout",
     "output_type": "stream",
     "text": [
      "60000/60000 [==============================] - 1s     \n",
      "60000/60000 [==============================] - 7s     \n",
      " 9728/10000 [============================>.] - ETA: 0s[1.1277901681900024, 0.36410744409561158, 0.33907118790149687, 0.30501363837718964, 0.30300495128631594, 0.32532682558298109, 0.28824046843051909, 0.29095182237625122, 0.29273838412761688, 0.28845779232978819]\n"
     ]
    }
   ],
   "source": [
    "from keras.models import Sequential\n",
    "from keras.layers import Dense\n",
    "from keras.optimizers import Adam\n",
    "opt = Adam(lr=0.1)\n",
    "\n",
    "from keras.callbacks import ReduceLROnPlateau, EarlyStopping\n",
    "lrr = ReduceLROnPlateau(monitor='loss', min_lr=1e-4, factor=0.02, epsilon=0.0001, patience=10)\n",
    "early_stop = EarlyStopping(monitor='loss', min_delta=1e-2, patience=10, verbose=1)\n",
    "error=[]\n",
    "train=[]\n",
    "for i in range(5,1000,100):\n",
    "    model=Sequential()\n",
    "\n",
    "    model.add(Dense(i,input_dim=784,activation='sigmoid'))\n",
    "\n",
    "\n",
    "    model.add(Dense(10,activation='softmax'))\n",
    "    model.compile(loss='categorical_crossentropy',optimizer='adam',metrics=['accuracy'])\n",
    "    model.fit(x_train,y_train,epochs=1,callbacks=[lrr,early_stop],verbose=0)\n",
    "    c=model.evaluate(x_train,y_train)\n",
    "    a=model.evaluate(x_test,y_test)\n",
    "    error.append(a[0])\n",
    "    train.append(c[0])\n",
    "print(error)"
   ]
  },
  {
   "cell_type": "code",
   "execution_count": 6,
   "metadata": {},
   "outputs": [
    {
     "name": "stdout",
     "output_type": "stream",
     "text": [
      "[1.1439859515508015, 0.36751260137160618, 0.34515167378981909, 0.31234249867995578, 0.30998577973842623, 0.33031461796959244, 0.29045077302455902, 0.29552921282847722, 0.2914784077147643, 0.29572556243538856]\n",
      "[5, 105, 205, 305, 405, 505, 605, 705, 805, 905]\n"
     ]
    },
    {
     "data": {
      "text/plain": [
       "[<matplotlib.lines.Line2D at 0x1c406a09160>]"
      ]
     },
     "execution_count": 6,
     "metadata": {},
     "output_type": "execute_result"
    },
    {
     "data": {
      "image/png": "[encoded data removed]",
      "text/plain": [
       "<matplotlib.figure.Figure at 0x1c4069f3668>"
      ]
     },
     "metadata": {},
     "output_type": "display_data"
    }
   ],
   "source": [
    "b=[]\n",
    "print(train)\n",
    "for i in range(5,1000,100):\n",
    "    b.append(i)\n",
    "print(b)\n",
    "plt.plot(b,error)\n",
    "plt.plot(b,train)"
   ]
  },
  {
   "cell_type": "code",
   "execution_count": null,
   "metadata": {
    "collapsed": true
   },
   "outputs": [],
   "source": []
  },
  {
   "cell_type": "code",
   "execution_count": null,
   "metadata": {
    "collapsed": true
   },
   "outputs": [],
   "source": []
  }
 ],
 "metadata": {
  "kernelspec": {
   "display_name": "Python 3",
   "language": "python",
   "name": "python3"
  },
  "language_info": {
   "codemirror_mode": {
    "name": "ipython",
    "version": 3
   },
   "file_extension": ".py",
   "mimetype": "text/x-python",
   "name": "python",
   "nbconvert_exporter": "python",
   "pygments_lexer": "ipython3",
   "version": "3.6.1"
  }
 },
 "nbformat": 4,
 "nbformat_minor": 2
}
