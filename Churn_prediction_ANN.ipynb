{
 "cells": [
  {
   "cell_type": "code",
   "execution_count": 8,
   "metadata": {
    "collapsed": true
   },
   "outputs": [],
   "source": [
    "import os\n",
    "import pandas as pd\n",
    "import numpy as np\n",
    "import matplotlib.pyplot as plt"
   ]
  },
  {
   "cell_type": "code",
   "execution_count": 9,
   "metadata": {
    "collapsed": true
   },
   "outputs": [],
   "source": [
    "os.chdir(\"E:\\\\Udemy\\\\Deep_learning_a-z\\\\Deep_Learning_A_Z\\\\Deep_Learning_A_Z\\\\Volume 1 - Supervised Deep Learning\\\\Part 1 - Artificial Neural Networks (ANN)\\\\Artificial_Neural_Networks\\\\Artificial_Neural_Networks\")"
   ]
  },
  {
   "cell_type": "code",
   "execution_count": 10,
   "metadata": {
    "collapsed": true
   },
   "outputs": [],
   "source": [
    "dataset = pd.read_csv(\"Churn_Modelling.csv\")"
   ]
  },
  {
   "cell_type": "code",
   "execution_count": 11,
   "metadata": {},
   "outputs": [
    {
     "data": {
      "text/html": [
       "<div>\n",
       "<style>\n",
       "    .dataframe thead tr:only-child th {\n",
       "        text-align: right;\n",
       "    }\n",
       "\n",
       "    .dataframe thead th {\n",
       "        text-align: left;\n",
       "    }\n",
       "\n",
       "    .dataframe tbody tr th {\n",
       "        vertical-align: top;\n",
       "    }\n",
       "</style>\n",
       "<table border=\"1\" class=\"dataframe\">\n",
       "  <thead>\n",
       "    <tr style=\"text-align: right;\">\n",
       "      <th></th>\n",
       "      <th>RowNumber</th>\n",
       "      <th>CustomerId</th>\n",
       "      <th>Surname</th>\n",
       "      <th>CreditScore</th>\n",
       "      <th>Geography</th>\n",
       "      <th>Gender</th>\n",
       "      <th>Age</th>\n",
       "      <th>Tenure</th>\n",
       "      <th>Balance</th>\n",
       "      <th>NumOfProducts</th>\n",
       "      <th>HasCrCard</th>\n",
       "      <th>IsActiveMember</th>\n",
       "      <th>EstimatedSalary</th>\n",
       "      <th>Exited</th>\n",
       "    </tr>\n",
       "  </thead>\n",
       "  <tbody>\n",
       "    <tr>\n",
       "      <th>0</th>\n",
       "      <td>1</td>\n",
       "      <td>15634602</td>\n",
       "      <td>Hargrave</td>\n",
       "      <td>619</td>\n",
       "      <td>France</td>\n",
       "      <td>Female</td>\n",
       "      <td>42</td>\n",
       "      <td>2</td>\n",
       "      <td>0.00</td>\n",
       "      <td>1</td>\n",
       "      <td>1</td>\n",
       "      <td>1</td>\n",
       "      <td>101348.88</td>\n",
       "      <td>1</td>\n",
       "    </tr>\n",
       "    <tr>\n",
       "      <th>1</th>\n",
       "      <td>2</td>\n",
       "      <td>15647311</td>\n",
       "      <td>Hill</td>\n",
       "      <td>608</td>\n",
       "      <td>Spain</td>\n",
       "      <td>Female</td>\n",
       "      <td>41</td>\n",
       "      <td>1</td>\n",
       "      <td>83807.86</td>\n",
       "      <td>1</td>\n",
       "      <td>0</td>\n",
       "      <td>1</td>\n",
       "      <td>112542.58</td>\n",
       "      <td>0</td>\n",
       "    </tr>\n",
       "    <tr>\n",
       "      <th>2</th>\n",
       "      <td>3</td>\n",
       "      <td>15619304</td>\n",
       "      <td>Onio</td>\n",
       "      <td>502</td>\n",
       "      <td>France</td>\n",
       "      <td>Female</td>\n",
       "      <td>42</td>\n",
       "      <td>8</td>\n",
       "      <td>159660.80</td>\n",
       "      <td>3</td>\n",
       "      <td>1</td>\n",
       "      <td>0</td>\n",
       "      <td>113931.57</td>\n",
       "      <td>1</td>\n",
       "    </tr>\n",
       "    <tr>\n",
       "      <th>3</th>\n",
       "      <td>4</td>\n",
       "      <td>15701354</td>\n",
       "      <td>Boni</td>\n",
       "      <td>699</td>\n",
       "      <td>France</td>\n",
       "      <td>Female</td>\n",
       "      <td>39</td>\n",
       "      <td>1</td>\n",
       "      <td>0.00</td>\n",
       "      <td>2</td>\n",
       "      <td>0</td>\n",
       "      <td>0</td>\n",
       "      <td>93826.63</td>\n",
       "      <td>0</td>\n",
       "    </tr>\n",
       "    <tr>\n",
       "      <th>4</th>\n",
       "      <td>5</td>\n",
       "      <td>15737888</td>\n",
       "      <td>Mitchell</td>\n",
       "      <td>850</td>\n",
       "      <td>Spain</td>\n",
       "      <td>Female</td>\n",
       "      <td>43</td>\n",
       "      <td>2</td>\n",
       "      <td>125510.82</td>\n",
       "      <td>1</td>\n",
       "      <td>1</td>\n",
       "      <td>1</td>\n",
       "      <td>79084.10</td>\n",
       "      <td>0</td>\n",
       "    </tr>\n",
       "  </tbody>\n",
       "</table>\n",
       "</div>"
      ],
      "text/plain": [
       "   RowNumber  CustomerId   Surname  CreditScore Geography  Gender  Age  \\\n",
       "0          1    15634602  Hargrave          619    France  Female   42   \n",
       "1          2    15647311      Hill          608     Spain  Female   41   \n",
       "2          3    15619304      Onio          502    France  Female   42   \n",
       "3          4    15701354      Boni          699    France  Female   39   \n",
       "4          5    15737888  Mitchell          850     Spain  Female   43   \n",
       "\n",
       "   Tenure    Balance  NumOfProducts  HasCrCard  IsActiveMember  \\\n",
       "0       2       0.00              1          1               1   \n",
       "1       1   83807.86              1          0               1   \n",
       "2       8  159660.80              3          1               0   \n",
       "3       1       0.00              2          0               0   \n",
       "4       2  125510.82              1          1               1   \n",
       "\n",
       "   EstimatedSalary  Exited  \n",
       "0        101348.88       1  \n",
       "1        112542.58       0  \n",
       "2        113931.57       1  \n",
       "3         93826.63       0  \n",
       "4         79084.10       0  "
      ]
     },
     "execution_count": 11,
     "metadata": {},
     "output_type": "execute_result"
    }
   ],
   "source": [
    "dataset.head()"
   ]
  },
  {
   "cell_type": "code",
   "execution_count": 12,
   "metadata": {
    "collapsed": true
   },
   "outputs": [],
   "source": [
    "x = dataset.iloc[:,3:13].values\n",
    "y = dataset.iloc[:,13].values"
   ]
  },
  {
   "cell_type": "code",
   "execution_count": 13,
   "metadata": {},
   "outputs": [
    {
     "data": {
      "text/plain": [
       "0"
      ]
     },
     "execution_count": 13,
     "metadata": {},
     "output_type": "execute_result"
    }
   ],
   "source": [
    "dataset.isnull().sum().sum()"
   ]
  },
  {
   "cell_type": "code",
   "execution_count": 14,
   "metadata": {
    "collapsed": true
   },
   "outputs": [],
   "source": [
    "#encoding categorical variables\n",
    "\n",
    "from sklearn.preprocessing import LabelEncoder, OneHotEncoder\n",
    "#encoding the geograpy\n",
    "lable_encoder_x_1 = LabelEncoder()\n",
    "x[:,1]= lable_encoder_x_1.fit_transform(x[:,1])\n",
    "#encoding the varaible 'gender'\n",
    "lable_encoder_x_2 =LabelEncoder()\n",
    "x[:,2] =lable_encoder_x_2.fit_transform(x[:,2])\n"
   ]
  },
  {
   "cell_type": "code",
   "execution_count": 15,
   "metadata": {
    "collapsed": true
   },
   "outputs": [],
   "source": [
    "#creating dummy variables for 'geography'\n",
    "onehotencoder = OneHotEncoder(categorical_features=[1])\n",
    "x=onehotencoder.fit_transform(x).toarray()"
   ]
  },
  {
   "cell_type": "code",
   "execution_count": 16,
   "metadata": {},
   "outputs": [],
   "source": [
    "x=x[:,1:] # to avoid dummy variable trap"
   ]
  },
  {
   "cell_type": "code",
   "execution_count": 17,
   "metadata": {
    "collapsed": true
   },
   "outputs": [],
   "source": [
    "#test and train split the data set\n",
    "\n",
    "from sklearn.model_selection import train_test_split\n",
    "x_train,x_test,y_train,y_test = train_test_split(x,y,test_size = 0.2,random_state = 1002)"
   ]
  },
  {
   "cell_type": "code",
   "execution_count": 18,
   "metadata": {
    "collapsed": true
   },
   "outputs": [],
   "source": [
    "#feature scaling\n",
    "from sklearn.preprocessing import StandardScaler\n",
    "sc = StandardScaler()\n",
    "x_train = sc.fit_transform(x_train)\n",
    "x_test = sc.fit_transform(x_test)"
   ]
  },
  {
   "cell_type": "code",
   "execution_count": null,
   "metadata": {
    "collapsed": true
   },
   "outputs": [],
   "source": [
    "#Buliding ANN"
   ]
  },
  {
   "cell_type": "code",
   "execution_count": 19,
   "metadata": {},
   "outputs": [
    {
     "name": "stderr",
     "output_type": "stream",
     "text": [
      "Using TensorFlow backend.\n"
     ]
    }
   ],
   "source": [
    "import keras\n",
    "from keras.models import Sequential\n",
    "from keras.layers import Dense"
   ]
  },
  {
   "cell_type": "code",
   "execution_count": 20,
   "metadata": {
    "collapsed": true
   },
   "outputs": [],
   "source": [
    "#intializing the ann\n",
    "\n",
    "classifier = Sequential()"
   ]
  },
  {
   "cell_type": "code",
   "execution_count": 21,
   "metadata": {
    "collapsed": true
   },
   "outputs": [],
   "source": [
    "#Adding Input layer and first hidden layer and output layer\n",
    "classifier.add(Dense(units=6,kernel_initializer='uniform',input_dim = 11,activation='relu'))# input layer\n",
    "classifier.add(Dense(units=6,kernel_initializer='uniform',activation='relu')) # Hidden layer\n",
    "classifier.add(Dense(units = 1, kernel_initializer='uniform',activation='sigmoid')) #output layer"
   ]
  },
  {
   "cell_type": "code",
   "execution_count": 23,
   "metadata": {
    "collapsed": true
   },
   "outputs": [],
   "source": [
    "#compiling the ann\n",
    "classifier.compile(optimizer='adam',loss='binary_crossentropy',metrics=['accuracy'])"
   ]
  },
  {
   "cell_type": "code",
   "execution_count": 24,
   "metadata": {},
   "outputs": [
    {
     "name": "stdout",
     "output_type": "stream",
     "text": [
      "Epoch 1/100\n",
      "8000/8000 [==============================] - 2s - loss: 0.4871 - acc: 0.8011     \n",
      "Epoch 2/100\n",
      "8000/8000 [==============================] - 1s - loss: 0.4253 - acc: 0.8014     \n",
      "Epoch 3/100\n",
      "8000/8000 [==============================] - 1s - loss: 0.4163 - acc: 0.8164     \n",
      "Epoch 4/100\n",
      "8000/8000 [==============================] - 1s - loss: 0.4094 - acc: 0.8364     \n",
      "Epoch 5/100\n",
      "8000/8000 [==============================] - 1s - loss: 0.4048 - acc: 0.8387     \n",
      "Epoch 6/100\n",
      "8000/8000 [==============================] - 1s - loss: 0.4013 - acc: 0.8397     \n",
      "Epoch 7/100\n",
      "8000/8000 [==============================] - 1s - loss: 0.3996 - acc: 0.8395     \n",
      "Epoch 8/100\n",
      "8000/8000 [==============================] - 1s - loss: 0.3974 - acc: 0.8409     \n",
      "Epoch 9/100\n",
      "8000/8000 [==============================] - 1s - loss: 0.3965 - acc: 0.8399     \n",
      "Epoch 10/100\n",
      "8000/8000 [==============================] - 1s - loss: 0.3958 - acc: 0.8404     \n",
      "Epoch 11/100\n",
      "8000/8000 [==============================] - 1s - loss: 0.3949 - acc: 0.8404     \n",
      "Epoch 12/100\n",
      "8000/8000 [==============================] - 1s - loss: 0.3941 - acc: 0.8396     \n",
      "Epoch 13/100\n",
      "8000/8000 [==============================] - 1s - loss: 0.3936 - acc: 0.8414     \n",
      "Epoch 14/100\n",
      "8000/8000 [==============================] - 1s - loss: 0.3929 - acc: 0.8415     \n",
      "Epoch 15/100\n",
      "8000/8000 [==============================] - 1s - loss: 0.3925 - acc: 0.8416     \n",
      "Epoch 16/100\n",
      "8000/8000 [==============================] - 1s - loss: 0.3919 - acc: 0.8407     - ETA: 0s - loss: 0.3989 - acc: 0.839 - ETA: 0s - loss:\n",
      "Epoch 17/100\n",
      "8000/8000 [==============================] - 1s - loss: 0.3917 - acc: 0.8410     \n",
      "Epoch 18/100\n",
      "8000/8000 [==============================] - 1s - loss: 0.3911 - acc: 0.8414     \n",
      "Epoch 19/100\n",
      "8000/8000 [==============================] - 1s - loss: 0.3909 - acc: 0.8405     \n",
      "Epoch 20/100\n",
      "8000/8000 [==============================] - 1s - loss: 0.3906 - acc: 0.8424     \n",
      "Epoch 21/100\n",
      "8000/8000 [==============================] - 1s - loss: 0.3908 - acc: 0.8445     \n",
      "Epoch 22/100\n",
      "8000/8000 [==============================] - 1s - loss: 0.3900 - acc: 0.8431     \n",
      "Epoch 23/100\n",
      "8000/8000 [==============================] - 1s - loss: 0.3898 - acc: 0.8427     \n",
      "Epoch 24/100\n",
      "8000/8000 [==============================] - 1s - loss: 0.3901 - acc: 0.8427     \n",
      "Epoch 25/100\n",
      "8000/8000 [==============================] - 1s - loss: 0.3899 - acc: 0.8430     \n",
      "Epoch 26/100\n",
      "8000/8000 [==============================] - 1s - loss: 0.3891 - acc: 0.8431     \n",
      "Epoch 27/100\n",
      "8000/8000 [==============================] - 1s - loss: 0.3890 - acc: 0.8427     \n",
      "Epoch 28/100\n",
      "8000/8000 [==============================] - 1s - loss: 0.3891 - acc: 0.8430     \n",
      "Epoch 29/100\n",
      "8000/8000 [==============================] - 1s - loss: 0.3875 - acc: 0.8444     \n",
      "Epoch 30/100\n",
      "8000/8000 [==============================] - 1s - loss: 0.3866 - acc: 0.8432     \n",
      "Epoch 31/100\n",
      "8000/8000 [==============================] - 1s - loss: 0.3833 - acc: 0.8429     \n",
      "Epoch 32/100\n",
      "8000/8000 [==============================] - 1s - loss: 0.3769 - acc: 0.8449     \n",
      "Epoch 33/100\n",
      "8000/8000 [==============================] - 1s - loss: 0.3648 - acc: 0.8502     \n",
      "Epoch 34/100\n",
      "8000/8000 [==============================] - 1s - loss: 0.3539 - acc: 0.8595     \n",
      "Epoch 35/100\n",
      "8000/8000 [==============================] - 1s - loss: 0.3473 - acc: 0.8576     \n",
      "Epoch 36/100\n",
      "8000/8000 [==============================] - 1s - loss: 0.3441 - acc: 0.8609     \n",
      "Epoch 37/100\n",
      "8000/8000 [==============================] - 1s - loss: 0.3428 - acc: 0.8637     \n",
      "Epoch 38/100\n",
      "8000/8000 [==============================] - 1s - loss: 0.3418 - acc: 0.8627     \n",
      "Epoch 39/100\n",
      "8000/8000 [==============================] - 1s - loss: 0.3414 - acc: 0.8612     \n",
      "Epoch 40/100\n",
      "8000/8000 [==============================] - 1s - loss: 0.3403 - acc: 0.8604     \n",
      "Epoch 41/100\n",
      "8000/8000 [==============================] - 1s - loss: 0.3399 - acc: 0.8606     \n",
      "Epoch 42/100\n",
      "8000/8000 [==============================] - 1s - loss: 0.3391 - acc: 0.8632     \n",
      "Epoch 43/100\n",
      "8000/8000 [==============================] - 1s - loss: 0.3392 - acc: 0.8622     \n",
      "Epoch 44/100\n",
      "8000/8000 [==============================] - 1s - loss: 0.3389 - acc: 0.8621     \n",
      "Epoch 45/100\n",
      "8000/8000 [==============================] - 1s - loss: 0.3382 - acc: 0.8622     \n",
      "Epoch 46/100\n",
      "8000/8000 [==============================] - 1s - loss: 0.3385 - acc: 0.8637     \n",
      "Epoch 47/100\n",
      "8000/8000 [==============================] - 1s - loss: 0.3381 - acc: 0.8622     \n",
      "Epoch 48/100\n",
      "8000/8000 [==============================] - 1s - loss: 0.3375 - acc: 0.8645     \n",
      "Epoch 49/100\n",
      "8000/8000 [==============================] - 1s - loss: 0.3371 - acc: 0.8617     \n",
      "Epoch 50/100\n",
      "8000/8000 [==============================] - 1s - loss: 0.3377 - acc: 0.8631     \n",
      "Epoch 51/100\n",
      "8000/8000 [==============================] - 1s - loss: 0.3368 - acc: 0.8626     \n",
      "Epoch 52/100\n",
      "8000/8000 [==============================] - 1s - loss: 0.3376 - acc: 0.8641     \n",
      "Epoch 53/100\n",
      "8000/8000 [==============================] - 1s - loss: 0.3369 - acc: 0.8626     \n",
      "Epoch 54/100\n",
      "8000/8000 [==============================] - 1s - loss: 0.3369 - acc: 0.8634     \n",
      "Epoch 55/100\n",
      "8000/8000 [==============================] - 1s - loss: 0.3367 - acc: 0.8617     \n",
      "Epoch 56/100\n",
      "8000/8000 [==============================] - 1s - loss: 0.3372 - acc: 0.8626     \n",
      "Epoch 57/100\n",
      "8000/8000 [==============================] - 1s - loss: 0.3365 - acc: 0.8630     \n",
      "Epoch 58/100\n",
      "8000/8000 [==============================] - 1s - loss: 0.3364 - acc: 0.8615     \n",
      "Epoch 59/100\n",
      "8000/8000 [==============================] - 1s - loss: 0.3364 - acc: 0.8622     \n",
      "Epoch 60/100\n",
      "8000/8000 [==============================] - 1s - loss: 0.3364 - acc: 0.8631     \n",
      "Epoch 61/100\n",
      "8000/8000 [==============================] - 1s - loss: 0.3363 - acc: 0.8632     \n",
      "Epoch 62/100\n",
      "8000/8000 [==============================] - 1s - loss: 0.3363 - acc: 0.8645     \n",
      "Epoch 63/100\n",
      "8000/8000 [==============================] - 1s - loss: 0.3357 - acc: 0.8631     \n",
      "Epoch 64/100\n",
      "8000/8000 [==============================] - 1s - loss: 0.3357 - acc: 0.8632     \n",
      "Epoch 65/100\n",
      "8000/8000 [==============================] - 1s - loss: 0.3356 - acc: 0.8620     \n",
      "Epoch 66/100\n",
      "8000/8000 [==============================] - 1s - loss: 0.3357 - acc: 0.8622     \n",
      "Epoch 67/100\n",
      "8000/8000 [==============================] - 1s - loss: 0.3350 - acc: 0.8642     \n",
      "Epoch 68/100\n",
      "8000/8000 [==============================] - 1s - loss: 0.3347 - acc: 0.8634     \n",
      "Epoch 69/100\n",
      "8000/8000 [==============================] - 1s - loss: 0.3349 - acc: 0.8641     \n",
      "Epoch 70/100\n",
      "8000/8000 [==============================] - 1s - loss: 0.3347 - acc: 0.8644     \n",
      "Epoch 71/100\n",
      "8000/8000 [==============================] - 1s - loss: 0.3347 - acc: 0.8631     \n",
      "Epoch 72/100\n",
      "8000/8000 [==============================] - 1s - loss: 0.3349 - acc: 0.8642     \n",
      "Epoch 73/100\n",
      "8000/8000 [==============================] - 1s - loss: 0.3342 - acc: 0.8637     \n",
      "Epoch 74/100\n",
      "8000/8000 [==============================] - 1s - loss: 0.3350 - acc: 0.8621     \n",
      "Epoch 75/100\n",
      "8000/8000 [==============================] - 1s - loss: 0.3344 - acc: 0.8640     \n",
      "Epoch 76/100\n",
      "8000/8000 [==============================] - 1s - loss: 0.3341 - acc: 0.8641     \n",
      "Epoch 77/100\n",
      "8000/8000 [==============================] - 1s - loss: 0.3342 - acc: 0.8640     \n",
      "Epoch 78/100\n",
      "8000/8000 [==============================] - 1s - loss: 0.3339 - acc: 0.8646     \n",
      "Epoch 79/100\n",
      "8000/8000 [==============================] - 1s - loss: 0.3336 - acc: 0.8636     \n",
      "Epoch 80/100\n",
      "8000/8000 [==============================] - 1s - loss: 0.3338 - acc: 0.8631     \n",
      "Epoch 81/100\n",
      "8000/8000 [==============================] - 1s - loss: 0.3340 - acc: 0.8646     \n",
      "Epoch 82/100\n",
      "8000/8000 [==============================] - 1s - loss: 0.3339 - acc: 0.8644     \n",
      "Epoch 83/100\n",
      "8000/8000 [==============================] - 1s - loss: 0.3337 - acc: 0.8641     \n",
      "Epoch 84/100\n",
      "8000/8000 [==============================] - 1s - loss: 0.3341 - acc: 0.8624     \n",
      "Epoch 85/100\n",
      "8000/8000 [==============================] - 1s - loss: 0.3339 - acc: 0.8655     \n",
      "Epoch 86/100\n"
     ]
    },
    {
     "name": "stdout",
     "output_type": "stream",
     "text": [
      "8000/8000 [==============================] - 1s - loss: 0.3338 - acc: 0.8655     \n",
      "Epoch 87/100\n",
      "8000/8000 [==============================] - 1s - loss: 0.3339 - acc: 0.8635     \n",
      "Epoch 88/100\n",
      "8000/8000 [==============================] - 1s - loss: 0.3332 - acc: 0.8640     \n",
      "Epoch 89/100\n",
      "8000/8000 [==============================] - 1s - loss: 0.3338 - acc: 0.8625     \n",
      "Epoch 90/100\n",
      "8000/8000 [==============================] - 1s - loss: 0.3332 - acc: 0.8642     \n",
      "Epoch 91/100\n",
      "8000/8000 [==============================] - 1s - loss: 0.3337 - acc: 0.8656     \n",
      "Epoch 92/100\n",
      "8000/8000 [==============================] - 1s - loss: 0.3338 - acc: 0.8641     \n",
      "Epoch 93/100\n",
      "8000/8000 [==============================] - 1s - loss: 0.3334 - acc: 0.8637     \n",
      "Epoch 94/100\n",
      "8000/8000 [==============================] - 1s - loss: 0.3331 - acc: 0.8656     \n",
      "Epoch 95/100\n",
      "8000/8000 [==============================] - 1s - loss: 0.3334 - acc: 0.8636     \n",
      "Epoch 96/100\n",
      "8000/8000 [==============================] - 1s - loss: 0.3336 - acc: 0.8649     \n",
      "Epoch 97/100\n",
      "8000/8000 [==============================] - 1s - loss: 0.3339 - acc: 0.8645     \n",
      "Epoch 98/100\n",
      "8000/8000 [==============================] - 1s - loss: 0.3332 - acc: 0.8631     \n",
      "Epoch 99/100\n",
      "8000/8000 [==============================] - 1s - loss: 0.3333 - acc: 0.8641     \n",
      "Epoch 100/100\n",
      "8000/8000 [==============================] - 1s - loss: 0.3334 - acc: 0.8644     \n"
     ]
    },
    {
     "data": {
      "text/plain": [
       "<keras.callbacks.History at 0x16cd3b0a1d0>"
      ]
     },
     "execution_count": 24,
     "metadata": {},
     "output_type": "execute_result"
    }
   ],
   "source": [
    "#fitting the ANN to training set\n",
    "classifier.fit(x_train,y_train,batch_size=10,epochs=100)"
   ]
  },
  {
   "cell_type": "code",
   "execution_count": 30,
   "metadata": {},
   "outputs": [
    {
     "name": "stdout",
     "output_type": "stream",
     "text": [
      "2000/2000 [==============================] - 0s     \n"
     ]
    }
   ],
   "source": [
    "y_pred = classifier.predict(x_test)\n",
    "y_pred_class = classifier.predict_classes(x_test)"
   ]
  },
  {
   "cell_type": "code",
   "execution_count": 31,
   "metadata": {
    "collapsed": true
   },
   "outputs": [],
   "source": [
    "y_pred= (y_pred > 0.5)"
   ]
  },
  {
   "cell_type": "code",
   "execution_count": 32,
   "metadata": {
    "collapsed": true
   },
   "outputs": [],
   "source": [
    "#confusion matrix\n",
    "from sklearn.metrics import confusion_matrix\n",
    "cm = confusion_matrix(y_test,y_pred)"
   ]
  },
  {
   "cell_type": "code",
   "execution_count": 33,
   "metadata": {
    "collapsed": true
   },
   "outputs": [],
   "source": [
    "cm_class = confusion_matrix(y_test,y_pred_class)"
   ]
  },
  {
   "cell_type": "code",
   "execution_count": 34,
   "metadata": {},
   "outputs": [
    {
     "name": "stdout",
     "output_type": "stream",
     "text": [
      "[[1504   48]\n",
      " [ 242  206]]\n",
      "[[1504   48]\n",
      " [ 242  206]]\n"
     ]
    }
   ],
   "source": [
    "print(cm)\n",
    "print(cm_class)"
   ]
  },
  {
   "cell_type": "code",
   "execution_count": 35,
   "metadata": {},
   "outputs": [
    {
     "data": {
      "text/plain": [
       "0.855"
      ]
     },
     "execution_count": 35,
     "metadata": {},
     "output_type": "execute_result"
    }
   ],
   "source": [
    "(1504+206)/2000"
   ]
  },
  {
   "cell_type": "code",
   "execution_count": null,
   "metadata": {
    "collapsed": true
   },
   "outputs": [],
   "source": [
    "#Evaluating ANN\n",
    "#To evaluate the ANN we use a k-fold cross validation technique"
   ]
  },
  {
   "cell_type": "code",
   "execution_count": 38,
   "metadata": {
    "collapsed": true
   },
   "outputs": [],
   "source": [
    "from keras.wrappers.scikit_learn import KerasClassifier\n",
    "from sklearn.model_selection import cross_val_score"
   ]
  },
  {
   "cell_type": "code",
   "execution_count": 39,
   "metadata": {
    "collapsed": true
   },
   "outputs": [],
   "source": [
    "def build_classifier():\n",
    "    classifier = Sequential()\n",
    "    classifier.add(Dense(units=6,kernel_initializer='uniform',input_dim = 11,activation='relu'))# input layer\n",
    "    classifier.add(Dense(units=6,kernel_initializer='uniform',activation='relu')) # Hidden layer\n",
    "    classifier.add(Dense(units = 1, kernel_initializer='uniform',activation='sigmoid')) #output layer\n",
    "    classifier.compile(optimizer='adam',loss='binary_crossentropy',metrics=['accuracy'])\n",
    "    return classifier\n",
    "    "
   ]
  },
  {
   "cell_type": "code",
   "execution_count": null,
   "metadata": {},
   "outputs": [],
   "source": [
    "classifier = KerasClassifier(build_fn=build_classifier, batch_size = 10, epochs = 10)\n",
    "accurcies = cross_val_score(estimator=classifier,X = x_train,y=y_train,cv = 10,n_jobs=-1)"
   ]
  }
 ],
 "metadata": {
  "kernelspec": {
   "display_name": "Python 3",
   "language": "python",
   "name": "python3"
  },
  "language_info": {
   "codemirror_mode": {
    "name": "ipython",
    "version": 3
   },
   "file_extension": ".py",
   "mimetype": "text/x-python",
   "name": "python",
   "nbconvert_exporter": "python",
   "pygments_lexer": "ipython3",
   "version": "3.6.1"
  }
 },
 "nbformat": 4,
 "nbformat_minor": 2
}
