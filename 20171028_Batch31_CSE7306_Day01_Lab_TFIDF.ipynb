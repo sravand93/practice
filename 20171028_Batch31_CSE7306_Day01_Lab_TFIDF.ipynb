{
 "cells": [
  {
   "cell_type": "code",
   "execution_count": 1,
   "metadata": {
    "collapsed": true
   },
   "outputs": [],
   "source": [
    "from time import time\n",
    "from sklearn.feature_extraction.text import TfidfVectorizer\n",
    "\n",
    "data = '''Time flies like an arrow\n",
    "Fruit flies like a banana\n",
    "Cat sat on the mat\n",
    "The cat is white.'''\n",
    "\n",
    "t0 = time()\n",
    "dataset = data.split('\\n')"
   ]
  },
  {
   "cell_type": "code",
   "execution_count": 2,
   "metadata": {},
   "outputs": [
    {
     "data": {
      "text/plain": [
       "['Time flies like an arrow',\n",
       " 'Fruit flies like a banana',\n",
       " 'Cat sat on the mat',\n",
       " 'The cat is white.']"
      ]
     },
     "execution_count": 2,
     "metadata": {},
     "output_type": "execute_result"
    }
   ],
   "source": [
    "dataset"
   ]
  },
  {
   "cell_type": "code",
   "execution_count": 4,
   "metadata": {},
   "outputs": [
    {
     "data": {
      "text/plain": [
       "['Time flies like an arrow', 'Fruit flies like a banana', 'Cat sat on the mat']"
      ]
     },
     "execution_count": 4,
     "metadata": {},
     "output_type": "execute_result"
    }
   ],
   "source": [
    "dataset"
   ]
  },
  {
   "cell_type": "code",
   "execution_count": 3,
   "metadata": {},
   "outputs": [
    {
     "name": "stdout",
     "output_type": "stream",
     "text": [
      "Extracting tf-idf features...\n",
      "done in 0.016s.\n"
     ]
    }
   ],
   "source": [
    "#Get TF-IDFs.\n",
    "print(\"Extracting tf-idf features...\")\n",
    "#First we initiate an empty tfidf object with specific conditions\n",
    "tfidf_vectorizer = TfidfVectorizer(ngram_range=(1,2))#max_df=0.95, min_df=2, stop_words='english' #USE HELP TO SEE WHAT EACH DOES)\n",
    "t0 = time()\n",
    "#Next we give the data for processing\n",
    "tfidf = tfidf_vectorizer.fit_transform(dataset)\n",
    "print(\"done in %0.3fs.\" % (time() - t0))"
   ]
  },
  {
   "cell_type": "code",
   "execution_count": 5,
   "metadata": {},
   "outputs": [
    {
     "data": {
      "text/plain": [
       "array([ 0.35657982,  0.28113163,  0.28113163,  0.35657982,  0.35657982,\n",
       "        0.35657982,  0.28113163,  0.35657982,  0.35657982,  0.32555709,\n",
       "        0.32555709,  0.32555709,  0.41292788,  0.41292788,  0.41292788,\n",
       "        0.41292788,  0.27460308,  0.34829919,  0.34829919,  0.27460308,\n",
       "        0.34829919,  0.34829919,  0.34829919,  0.34829919,  0.34829919,\n",
       "        0.31553666,  0.31553666,  0.40021825,  0.40021825,  0.40021825,\n",
       "        0.40021825,  0.40021825])"
      ]
     },
     "execution_count": 5,
     "metadata": {},
     "output_type": "execute_result"
    }
   ],
   "source": [
    "tfidf.data"
   ]
  },
  {
   "cell_type": "code",
   "execution_count": 6,
   "metadata": {},
   "outputs": [
    {
     "name": "stdout",
     "output_type": "stream",
     "text": [
      "[[ 0.35657982  0.35657982  0.35657982  0.          0.          0.          0.\n",
      "   0.28113163  0.28113163  0.          0.          0.          0.\n",
      "   0.28113163  0.35657982  0.          0.          0.          0.          0.\n",
      "   0.          0.          0.          0.          0.35657982  0.35657982\n",
      "   0.        ]\n",
      " [ 0.          0.          0.          0.41292788  0.          0.          0.\n",
      "   0.32555709  0.32555709  0.41292788  0.41292788  0.          0.\n",
      "   0.32555709  0.          0.41292788  0.          0.          0.          0.\n",
      "   0.          0.          0.          0.          0.          0.          0.        ]\n",
      " [ 0.          0.          0.          0.          0.27460308  0.\n",
      "   0.34829919  0.          0.          0.          0.          0.          0.\n",
      "   0.          0.          0.          0.34829919  0.34829919  0.34829919\n",
      "   0.34829919  0.34829919  0.27460308  0.          0.34829919  0.          0.\n",
      "   0.        ]\n",
      " [ 0.          0.          0.          0.          0.31553666  0.40021825\n",
      "   0.          0.          0.          0.          0.          0.40021825\n",
      "   0.40021825  0.          0.          0.          0.          0.          0.\n",
      "   0.          0.          0.31553666  0.40021825  0.          0.          0.\n",
      "   0.40021825]]\n"
     ]
    }
   ],
   "source": [
    "dense = tfidf.todense()\n",
    "dense.shape\n",
    "print(dense)"
   ]
  },
  {
   "cell_type": "code",
   "execution_count": 20,
   "metadata": {},
   "outputs": [
    {
     "name": "stdout",
     "output_type": "stream",
     "text": [
      "27\n"
     ]
    },
    {
     "data": {
      "text/plain": [
       "[u'an', u'an arrow', u'arrow']"
      ]
     },
     "execution_count": 20,
     "metadata": {},
     "output_type": "execute_result"
    }
   ],
   "source": [
    "feature_names = tfidf_vectorizer.get_feature_names()\n",
    "print(len(feature_names))\n",
    "feature_names[:3]"
   ]
  },
  {
   "cell_type": "code",
   "execution_count": 21,
   "metadata": {},
   "outputs": [
    {
     "data": {
      "text/html": [
       "<div>\n",
       "<table border=\"1\" class=\"dataframe\">\n",
       "  <thead>\n",
       "    <tr style=\"text-align: right;\">\n",
       "      <th></th>\n",
       "      <th>an</th>\n",
       "      <th>an arrow</th>\n",
       "      <th>arrow</th>\n",
       "      <th>banana</th>\n",
       "      <th>cat</th>\n",
       "      <th>cat is</th>\n",
       "      <th>cat sat</th>\n",
       "      <th>flies</th>\n",
       "      <th>flies like</th>\n",
       "      <th>fruit</th>\n",
       "      <th>...</th>\n",
       "      <th>on the</th>\n",
       "      <th>sat</th>\n",
       "      <th>sat on</th>\n",
       "      <th>the</th>\n",
       "      <th>the cat</th>\n",
       "      <th>the mat</th>\n",
       "      <th>time</th>\n",
       "      <th>time flies</th>\n",
       "      <th>white</th>\n",
       "      <th>text</th>\n",
       "    </tr>\n",
       "  </thead>\n",
       "  <tbody>\n",
       "    <tr>\n",
       "      <th>0</th>\n",
       "      <td>0.35658</td>\n",
       "      <td>0.35658</td>\n",
       "      <td>0.35658</td>\n",
       "      <td>0.000000</td>\n",
       "      <td>0.000000</td>\n",
       "      <td>0.000000</td>\n",
       "      <td>0.000000</td>\n",
       "      <td>0.281132</td>\n",
       "      <td>0.281132</td>\n",
       "      <td>0.000000</td>\n",
       "      <td>...</td>\n",
       "      <td>0.000000</td>\n",
       "      <td>0.000000</td>\n",
       "      <td>0.000000</td>\n",
       "      <td>0.000000</td>\n",
       "      <td>0.000000</td>\n",
       "      <td>0.000000</td>\n",
       "      <td>0.35658</td>\n",
       "      <td>0.35658</td>\n",
       "      <td>0.000000</td>\n",
       "      <td>Time flies like an arrow</td>\n",
       "    </tr>\n",
       "    <tr>\n",
       "      <th>1</th>\n",
       "      <td>0.00000</td>\n",
       "      <td>0.00000</td>\n",
       "      <td>0.00000</td>\n",
       "      <td>0.412928</td>\n",
       "      <td>0.000000</td>\n",
       "      <td>0.000000</td>\n",
       "      <td>0.000000</td>\n",
       "      <td>0.325557</td>\n",
       "      <td>0.325557</td>\n",
       "      <td>0.412928</td>\n",
       "      <td>...</td>\n",
       "      <td>0.000000</td>\n",
       "      <td>0.000000</td>\n",
       "      <td>0.000000</td>\n",
       "      <td>0.000000</td>\n",
       "      <td>0.000000</td>\n",
       "      <td>0.000000</td>\n",
       "      <td>0.00000</td>\n",
       "      <td>0.00000</td>\n",
       "      <td>0.000000</td>\n",
       "      <td>Fruit flies like a banana</td>\n",
       "    </tr>\n",
       "    <tr>\n",
       "      <th>2</th>\n",
       "      <td>0.00000</td>\n",
       "      <td>0.00000</td>\n",
       "      <td>0.00000</td>\n",
       "      <td>0.000000</td>\n",
       "      <td>0.274603</td>\n",
       "      <td>0.000000</td>\n",
       "      <td>0.348299</td>\n",
       "      <td>0.000000</td>\n",
       "      <td>0.000000</td>\n",
       "      <td>0.000000</td>\n",
       "      <td>...</td>\n",
       "      <td>0.348299</td>\n",
       "      <td>0.348299</td>\n",
       "      <td>0.348299</td>\n",
       "      <td>0.274603</td>\n",
       "      <td>0.000000</td>\n",
       "      <td>0.348299</td>\n",
       "      <td>0.00000</td>\n",
       "      <td>0.00000</td>\n",
       "      <td>0.000000</td>\n",
       "      <td>Cat sat on the mat</td>\n",
       "    </tr>\n",
       "    <tr>\n",
       "      <th>3</th>\n",
       "      <td>0.00000</td>\n",
       "      <td>0.00000</td>\n",
       "      <td>0.00000</td>\n",
       "      <td>0.000000</td>\n",
       "      <td>0.315537</td>\n",
       "      <td>0.400218</td>\n",
       "      <td>0.000000</td>\n",
       "      <td>0.000000</td>\n",
       "      <td>0.000000</td>\n",
       "      <td>0.000000</td>\n",
       "      <td>...</td>\n",
       "      <td>0.000000</td>\n",
       "      <td>0.000000</td>\n",
       "      <td>0.000000</td>\n",
       "      <td>0.315537</td>\n",
       "      <td>0.400218</td>\n",
       "      <td>0.000000</td>\n",
       "      <td>0.00000</td>\n",
       "      <td>0.00000</td>\n",
       "      <td>0.400218</td>\n",
       "      <td>The cat is white.</td>\n",
       "    </tr>\n",
       "  </tbody>\n",
       "</table>\n",
       "<p>4 rows × 28 columns</p>\n",
       "</div>"
      ],
      "text/plain": [
       "        an  an arrow    arrow    banana       cat    cat is   cat sat  \\\n",
       "0  0.35658   0.35658  0.35658  0.000000  0.000000  0.000000  0.000000   \n",
       "1  0.00000   0.00000  0.00000  0.412928  0.000000  0.000000  0.000000   \n",
       "2  0.00000   0.00000  0.00000  0.000000  0.274603  0.000000  0.348299   \n",
       "3  0.00000   0.00000  0.00000  0.000000  0.315537  0.400218  0.000000   \n",
       "\n",
       "      flies  flies like     fruit            ...                on the  \\\n",
       "0  0.281132    0.281132  0.000000            ...              0.000000   \n",
       "1  0.325557    0.325557  0.412928            ...              0.000000   \n",
       "2  0.000000    0.000000  0.000000            ...              0.348299   \n",
       "3  0.000000    0.000000  0.000000            ...              0.000000   \n",
       "\n",
       "        sat    sat on       the   the cat   the mat     time  time flies  \\\n",
       "0  0.000000  0.000000  0.000000  0.000000  0.000000  0.35658     0.35658   \n",
       "1  0.000000  0.000000  0.000000  0.000000  0.000000  0.00000     0.00000   \n",
       "2  0.348299  0.348299  0.274603  0.000000  0.348299  0.00000     0.00000   \n",
       "3  0.000000  0.000000  0.315537  0.400218  0.000000  0.00000     0.00000   \n",
       "\n",
       "      white                       text  \n",
       "0  0.000000   Time flies like an arrow  \n",
       "1  0.000000  Fruit flies like a banana  \n",
       "2  0.000000         Cat sat on the mat  \n",
       "3  0.400218          The cat is white.  \n",
       "\n",
       "[4 rows x 28 columns]"
      ]
     },
     "execution_count": 21,
     "metadata": {},
     "output_type": "execute_result"
    }
   ],
   "source": [
    "import pandas as pd\n",
    "x = pd.DataFrame(dense)\n",
    "x.columns = tfidf_vectorizer.get_feature_names()\n",
    "x['text'] = dataset\n",
    "x.to_csv('mytfidf.csv', index = False)\n",
    "x"
   ]
  },
  {
   "cell_type": "markdown",
   "metadata": {},
   "source": [
    "### Doc Similarity\n",
    "\n",
    "Given a new query, how to find out which document is it closest to?"
   ]
  },
  {
   "cell_type": "code",
   "execution_count": 7,
   "metadata": {
    "collapsed": true
   },
   "outputs": [],
   "source": [
    "new = 'Time flies like Sam'\n",
    "response = tfidf_vectorizer.transform([new])"
   ]
  },
  {
   "cell_type": "code",
   "execution_count": 8,
   "metadata": {
    "collapsed": true
   },
   "outputs": [],
   "source": [
    "dense_response = response.todense()"
   ]
  },
  {
   "cell_type": "code",
   "execution_count": 9,
   "metadata": {},
   "outputs": [
    {
     "data": {
      "text/html": [
       "<div>\n",
       "<table border=\"1\" class=\"dataframe\">\n",
       "  <thead>\n",
       "    <tr style=\"text-align: right;\">\n",
       "      <th></th>\n",
       "      <th>an</th>\n",
       "      <th>an arrow</th>\n",
       "      <th>arrow</th>\n",
       "      <th>banana</th>\n",
       "      <th>cat</th>\n",
       "      <th>cat is</th>\n",
       "      <th>cat sat</th>\n",
       "      <th>flies</th>\n",
       "      <th>flies like</th>\n",
       "      <th>fruit</th>\n",
       "      <th>...</th>\n",
       "      <th>on</th>\n",
       "      <th>on the</th>\n",
       "      <th>sat</th>\n",
       "      <th>sat on</th>\n",
       "      <th>the</th>\n",
       "      <th>the cat</th>\n",
       "      <th>the mat</th>\n",
       "      <th>time</th>\n",
       "      <th>time flies</th>\n",
       "      <th>white</th>\n",
       "    </tr>\n",
       "  </thead>\n",
       "  <tbody>\n",
       "    <tr>\n",
       "      <th>0</th>\n",
       "      <td>0.0</td>\n",
       "      <td>0.0</td>\n",
       "      <td>0.0</td>\n",
       "      <td>0.0</td>\n",
       "      <td>0.0</td>\n",
       "      <td>0.0</td>\n",
       "      <td>0.0</td>\n",
       "      <td>0.401043</td>\n",
       "      <td>0.401043</td>\n",
       "      <td>0.0</td>\n",
       "      <td>...</td>\n",
       "      <td>0.0</td>\n",
       "      <td>0.0</td>\n",
       "      <td>0.0</td>\n",
       "      <td>0.0</td>\n",
       "      <td>0.0</td>\n",
       "      <td>0.0</td>\n",
       "      <td>0.0</td>\n",
       "      <td>0.508672</td>\n",
       "      <td>0.508672</td>\n",
       "      <td>0.0</td>\n",
       "    </tr>\n",
       "  </tbody>\n",
       "</table>\n",
       "<p>1 rows × 27 columns</p>\n",
       "</div>"
      ],
      "text/plain": [
       "    an  an arrow  arrow  banana  cat  cat is  cat sat     flies  flies like  \\\n",
       "0  0.0       0.0    0.0     0.0  0.0     0.0      0.0  0.401043    0.401043   \n",
       "\n",
       "   fruit  ...     on  on the  sat  sat on  the  the cat  the mat      time  \\\n",
       "0    0.0  ...    0.0     0.0  0.0     0.0  0.0      0.0      0.0  0.508672   \n",
       "\n",
       "   time flies  white  \n",
       "0    0.508672    0.0  \n",
       "\n",
       "[1 rows x 27 columns]"
      ]
     },
     "execution_count": 9,
     "metadata": {},
     "output_type": "execute_result"
    }
   ],
   "source": [
    "pd.DataFrame(dense_response, columns=x.columns[0:27])"
   ]
  },
  {
   "cell_type": "code",
   "execution_count": 10,
   "metadata": {},
   "outputs": [
    {
     "data": {
      "text/plain": [
       "[array([[ 0.70100165]]),\n",
       " array([[ 0.39168692]]),\n",
       " array([[ 0.]]),\n",
       " array([[ 0.]])]"
      ]
     },
     "execution_count": 10,
     "metadata": {},
     "output_type": "execute_result"
    }
   ],
   "source": [
    "from sklearn.metrics.pairwise import cosine_similarity\n",
    "\n",
    "map(lambda x: cosine_similarity(response, x), dense)"
   ]
  },
  {
   "cell_type": "markdown",
   "metadata": {},
   "source": [
    "====================================\n",
    "### Using logistic regression to predict closest document\n",
    "Logistic regression is not used for these types of problems, but let us use it to learn the syntax\n",
    "* We already have our dataframe with 4x36 shape.\n",
    "* We create the target attribute which would be unique to each document\n",
    "* Then create an empty logistic regression object with\n",
    "```python\n",
    "model = LogisticRegression()```\n",
    "* We train the ```model``` using the following method and syntax\n",
    "```python\n",
    "model.fit(X, y)``` \n",
    "** Here X is our dataframe (tfidf matrix) and y is our list of ground truth labels **\n",
    "* The prediction is done using the following method on ```model```\n",
    "```python\n",
    "model.predict(response)```"
   ]
  },
  {
   "cell_type": "code",
   "execution_count": 11,
   "metadata": {
    "collapsed": true
   },
   "outputs": [],
   "source": [
    "truth = [1,2,3,4]"
   ]
  },
  {
   "cell_type": "code",
   "execution_count": 12,
   "metadata": {
    "collapsed": true
   },
   "outputs": [],
   "source": [
    "from sklearn.linear_model import LogisticRegression\n",
    "model = LogisticRegression()"
   ]
  },
  {
   "cell_type": "code",
   "execution_count": 13,
   "metadata": {},
   "outputs": [
    {
     "data": {
      "text/plain": [
       "LogisticRegression(C=1.0, class_weight=None, dual=False, fit_intercept=True,\n",
       "          intercept_scaling=1, max_iter=100, multi_class='ovr', n_jobs=1,\n",
       "          penalty='l2', random_state=None, solver='liblinear', tol=0.0001,\n",
       "          verbose=0, warm_start=False)"
      ]
     },
     "execution_count": 13,
     "metadata": {},
     "output_type": "execute_result"
    }
   ],
   "source": [
    "model.fit(dense, truth)"
   ]
  },
  {
   "cell_type": "code",
   "execution_count": 15,
   "metadata": {},
   "outputs": [
    {
     "data": {
      "text/plain": [
       "array([[ 0.30489197,  0.26112455,  0.21699174,  0.21699174]])"
      ]
     },
     "execution_count": 15,
     "metadata": {},
     "output_type": "execute_result"
    }
   ],
   "source": [
    "model.predict_proba(response)"
   ]
  },
  {
   "cell_type": "code",
   "execution_count": 16,
   "metadata": {},
   "outputs": [
    {
     "data": {
      "text/plain": [
       "array([1])"
      ]
     },
     "execution_count": 16,
     "metadata": {},
     "output_type": "execute_result"
    }
   ],
   "source": [
    "model.predict(response)"
   ]
  },
  {
   "cell_type": "code",
   "execution_count": null,
   "metadata": {
    "collapsed": true
   },
   "outputs": [],
   "source": []
  }
 ],
 "metadata": {
  "anaconda-cloud": {},
  "kernelspec": {
   "display_name": "Python 3",
   "language": "python",
   "name": "python3"
  },
  "language_info": {
   "codemirror_mode": {
    "name": "ipython",
    "version": 3
   },
   "file_extension": ".py",
   "mimetype": "text/x-python",
   "name": "python",
   "nbconvert_exporter": "python",
   "pygments_lexer": "ipython3",
   "version": "3.6.1"
  }
 },
 "nbformat": 4,
 "nbformat_minor": 1
}
