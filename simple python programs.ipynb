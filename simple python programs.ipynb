{
 "cells": [
  {
   "cell_type": "markdown",
   "metadata": {},
   "source": [
    "### 1. ADDING TWO NUMBERS"
   ]
  },
  {
   "cell_type": "code",
   "execution_count": 1,
   "metadata": {
    "collapsed": true
   },
   "outputs": [],
   "source": [
    "import pandas as pd\n",
    "import numpy as np"
   ]
  },
  {
   "cell_type": "code",
   "execution_count": 11,
   "metadata": {},
   "outputs": [
    {
     "name": "stdout",
     "output_type": "stream",
     "text": [
      "enter first number: 25\n",
      "enter second number: 30\n",
      "The addition of these numbers is  55\n"
     ]
    }
   ],
   "source": [
    "num1 = input(\"enter first number: \" )\n",
    "num2 = input(\"enter second number: \")\n",
    "a= int(num1)\n",
    "b= int(num2)\n",
    "c= a + b\n",
    "print(\"The addition of these numbers is \" ,c)"
   ]
  },
  {
   "cell_type": "markdown",
   "metadata": {},
   "source": [
    "### 2. check whether a number is prime or not"
   ]
  },
  {
   "cell_type": "code",
   "execution_count": 36,
   "metadata": {},
   "outputs": [
    {
     "name": "stdout",
     "output_type": "stream",
     "text": [
      "enter the prime suspect:-) 27\n",
      "27  is not a prime number as it is divisible by 3 times 9 other than 1 and itslef\n"
     ]
    }
   ],
   "source": [
    "num = int(input (\"enter the prime suspect:-) \"))\n",
    "#prime number should be greater than 1\n",
    "if num >1:\n",
    "    #check for the factors\n",
    "    for i in range (2,num):\n",
    "        if num%i ==0:\n",
    "            print(num, \" is not a prime number as it is divisible by\",i,\"times\",num//i, \"other than 1 and itslef\")\n",
    "            break\n",
    "            \n",
    "    else:\n",
    "        print(num,\" is a prime number\")\n",
    "#if input is less than 1\n",
    "else:\n",
    "    print(num ,\"is not a prime nuber\")"
   ]
  },
  {
   "cell_type": "markdown",
   "metadata": {},
   "source": [
    "### 3. Making a simple calculator"
   ]
  },
  {
   "cell_type": "code",
   "execution_count": 44,
   "metadata": {},
   "outputs": [
    {
     "name": "stdout",
     "output_type": "stream",
     "text": [
      "select operation\n",
      "1. addition\n",
      "2. subtraction\n",
      "3. multiplication\n",
      "4. Division\n",
      "enter your choice(1/2/3/4):3\n",
      "enter first number: 25\n",
      "enter second number: 5\n",
      "multiplication is  125\n"
     ]
    }
   ],
   "source": [
    "# here we will try to make a small system which do addition, subtraction,multiplication and division\n",
    "\n",
    "#function for addition\n",
    "def add(x,y):\n",
    "    return x+y\n",
    "\n",
    "#function for subtraction\n",
    "def sub(x,y):\n",
    "    return x-y\n",
    "\n",
    "#function for multiplication\n",
    "def mul(x,y):\n",
    "    return x*y\n",
    "\n",
    "#function for division\n",
    "def div(x,y):\n",
    "    return x/y\n",
    "print(\"select operation\")\n",
    "print(\"1. addition\")\n",
    "print(\"2. subtraction\")\n",
    "print(\"3. multiplication\")\n",
    "print(\"4. Division\")\n",
    "\n",
    "#take input form the user\n",
    "\n",
    "choice = input (\"enter your choice(1/2/3/4):\")\n",
    "\n",
    "a = int(input(\"enter first number: \"))\n",
    "b = int(input(\"enter second number: \"))\n",
    "\n",
    "if choice == '1':\n",
    "    print(\"addition is\", add(a,b))\n",
    "elif choice =='2':\n",
    "    print(\"subtraction is\", sub(a,b))\n",
    "elif choice == '3':\n",
    "    print(\"multiplication is \", mul(a,b))\n",
    "elif choice == '4':\n",
    "    print(\" division is \",div(a,b))\n",
    "else:\n",
    "    print(\" invalid input\")\n",
    "\n"
   ]
  }
 ],
 "metadata": {
  "kernelspec": {
   "display_name": "Python 3",
   "language": "python",
   "name": "python3"
  },
  "language_info": {
   "codemirror_mode": {
    "name": "ipython",
    "version": 3
   },
   "file_extension": ".py",
   "mimetype": "text/x-python",
   "name": "python",
   "nbconvert_exporter": "python",
   "pygments_lexer": "ipython3",
   "version": "3.6.1"
  }
 },
 "nbformat": 4,
 "nbformat_minor": 2
}
