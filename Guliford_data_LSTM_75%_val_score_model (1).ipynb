{
 "cells": [
  {
   "cell_type": "markdown",
   "metadata": {},
   "source": [
    "# Guliford_model_using LSTM"
   ]
  },
  {
   "cell_type": "code",
   "execution_count": 10,
   "metadata": {
    "collapsed": true
   },
   "outputs": [],
   "source": [
    "#Import all the necessary libraries\n",
    "import os\n",
    "import time\n",
    "import re\n",
    "\n",
    "import numpy as np\n",
    "import pandas as pd\n",
    "\n",
    "from bs4 import BeautifulSoup\n",
    "\n",
    "import matplotlib.pyplot as plt\n",
    "import seaborn as sns \n",
    "\n",
    "from io import StringIO\n",
    "\n",
    "import nltk\n",
    "from nltk.corpus import stopwords \n",
    "\n",
    "from keras.models import load_model\n",
    "from keras.models import model_from_json\n",
    "#To ignore warning \n",
    "import warnings\n",
    "warnings.filterwarnings(\"ignore\")"
   ]
  },
  {
   "cell_type": "code",
   "execution_count": 11,
   "metadata": {
    "collapsed": true
   },
   "outputs": [],
   "source": [
    "from keras.preprocessing.text import Tokenizer\n",
    "from keras.preprocessing.sequence import pad_sequences\n",
    "\n",
    "from keras.models import Sequential\n",
    "from keras.layers import LSTM\n",
    "from keras.layers import Dense, Embedding\n",
    "\n",
    "from keras.utils.np_utils import to_categorical\n",
    "from keras.layers import Activation, Dense\n",
    "from sklearn.model_selection import train_test_split\n",
    "from sklearn.metrics import accuracy_score"
   ]
  },
  {
   "cell_type": "code",
   "execution_count": 12,
   "metadata": {
    "collapsed": true
   },
   "outputs": [],
   "source": [
    "from nltk import ConfusionMatrix\n",
    "from sklearn.metrics import accuracy_score,classification_report,precision_score,recall_score,precision_recall_curve,roc_curve,confusion_matrix"
   ]
  },
  {
   "cell_type": "code",
   "execution_count": 13,
   "metadata": {
    "collapsed": true
   },
   "outputs": [],
   "source": [
    "import h2o\n",
    "#h2o.init()\n",
    "#from h2o.estimators.deeplearning import H2ODeepLearningEstimator\n",
    "#print(h2o.cluster_info())\n",
    "#print(h2o.ls())\n"
   ]
  },
  {
   "cell_type": "code",
   "execution_count": 14,
   "metadata": {
    "collapsed": true
   },
   "outputs": [],
   "source": [
    "os.chdir(\"D:/VINODKUMAR/NLP CLASSIFICATION PROJECT/SHASTER-2/SHASTER\")"
   ]
  },
  {
   "cell_type": "code",
   "execution_count": 15,
   "metadata": {
    "collapsed": true
   },
   "outputs": [],
   "source": [
    "actual_data=pd.read_csv(\"new_Guliford_data.csv\",header=0)"
   ]
  },
  {
   "cell_type": "code",
   "execution_count": 16,
   "metadata": {
    "collapsed": true
   },
   "outputs": [],
   "source": [
    "test_data=pd.read_csv(\"new_Guliford_march_data.csv\",header=0)"
   ]
  },
  {
   "cell_type": "code",
   "execution_count": 17,
   "metadata": {},
   "outputs": [
    {
     "name": "stdout",
     "output_type": "stream",
     "text": [
      "(86554, 10)\n",
      "(2279, 10)\n",
      "Index(['Unnamed: 0', 'FileID', 'clientid', 'PID', 'SUMMARY', 'DATA',\n",
      "       'Categories1', 'Sub_categories1', 'Previous_Appointment', 'pre_data'],\n",
      "      dtype='object')\n",
      "Index(['Unnamed: 0', 'FileID', 'clientid', 'PID', 'SUMMARY', 'DATA',\n",
      "       'Categories1', 'Sub_categories1', 'Previous_Appointment', 'pre_data'],\n",
      "      dtype='object')\n"
     ]
    }
   ],
   "source": [
    "print(actual_data.shape)\n",
    "print(test_data.shape)\n",
    "print(actual_data.columns)\n",
    "print(test_data.columns)"
   ]
  },
  {
   "cell_type": "code",
   "execution_count": 18,
   "metadata": {
    "collapsed": true
   },
   "outputs": [],
   "source": [
    "actual_data_for_train=actual_data[['SUMMARY', 'pre_data','Categories1']]"
   ]
  },
  {
   "cell_type": "code",
   "execution_count": 19,
   "metadata": {
    "collapsed": true
   },
   "outputs": [],
   "source": [
    "test_data_for_train=test_data[['SUMMARY', 'pre_data','Categories1']]"
   ]
  },
  {
   "cell_type": "code",
   "execution_count": 20,
   "metadata": {
    "collapsed": true
   },
   "outputs": [],
   "source": [
    "# Changing the column names\n",
    "col_names=[\"summary\",\"data\",\"categories\"]"
   ]
  },
  {
   "cell_type": "code",
   "execution_count": 21,
   "metadata": {
    "collapsed": true
   },
   "outputs": [],
   "source": [
    "actual_data_for_train.columns=col_names\n",
    "test_data_for_train.columns=col_names"
   ]
  },
  {
   "cell_type": "code",
   "execution_count": 22,
   "metadata": {
    "collapsed": true
   },
   "outputs": [],
   "source": [
    "actual_data1=actual_data_for_train\n",
    "test_data1=test_data_for_train"
   ]
  },
  {
   "cell_type": "code",
   "execution_count": 23,
   "metadata": {
    "collapsed": true
   },
   "outputs": [],
   "source": [
    "#Converting to lower case\n",
    "actual_data1['summary'] = actual_data1['summary'].astype(str).str.lower()\n",
    "actual_data1[\"data\"] = actual_data1[\"data\"].astype(str).str.lower()\n",
    "actual_data1[\"categories\"] = actual_data1[\"categories\"].map(lambda x: x.upper())"
   ]
  },
  {
   "cell_type": "code",
   "execution_count": 24,
   "metadata": {
    "collapsed": true
   },
   "outputs": [],
   "source": [
    "#Converting to lower case\n",
    "test_data1['summary'] = test_data1['summary'].astype(str).str.lower()\n",
    "test_data1[\"data\"] = test_data1[\"data\"].astype(str).str.lower()\n",
    "test_data1[\"categories\"] = test_data1[\"categories\"].map(lambda x: x.upper())"
   ]
  },
  {
   "cell_type": "code",
   "execution_count": 25,
   "metadata": {},
   "outputs": [
    {
     "name": "stdout",
     "output_type": "stream",
     "text": [
      "summary       object\n",
      "data          object\n",
      "categories    object\n",
      "dtype: object\n",
      "summary       object\n",
      "data          object\n",
      "categories    object\n",
      "dtype: object\n"
     ]
    }
   ],
   "source": [
    "print(actual_data1.dtypes)\n",
    "print(test_data1.dtypes)"
   ]
  },
  {
   "cell_type": "code",
   "execution_count": 26,
   "metadata": {
    "collapsed": true
   },
   "outputs": [],
   "source": [
    "#Converting datatype of summary feature\n",
    "actual_data1.summary =actual_data1.summary.astype('str')\n",
    "#Converting datatype of data feature\n",
    "actual_data1.data =actual_data1.data.astype('str')\n",
    "#Converting datatype of category feature\n",
    "actual_data1.categories=actual_data1.categories.astype(\"category\")"
   ]
  },
  {
   "cell_type": "code",
   "execution_count": 27,
   "metadata": {
    "collapsed": true
   },
   "outputs": [],
   "source": [
    "#Converting datatype of summary feature\n",
    "test_data1.summary =test_data1.summary.astype('str')\n",
    "#Converting datatype of data feature\n",
    "test_data1.data =test_data1.data.astype('str')\n",
    "#Converting datatype of category feature\n",
    "test_data1.categories=test_data1.categories.astype(\"category\")"
   ]
  },
  {
   "cell_type": "code",
   "execution_count": 28,
   "metadata": {},
   "outputs": [
    {
     "data": {
      "text/plain": [
       "ASK_A_DOCTOR     31337\n",
       "PRESCRIPTION     21490\n",
       "APPOINTMENTS     19477\n",
       "MISCELLANEOUS    10848\n",
       "LAB               3402\n",
       "Name: categories, dtype: int64"
      ]
     },
     "execution_count": 28,
     "metadata": {},
     "output_type": "execute_result"
    }
   ],
   "source": [
    "#Categoreies coulumn levels count \n",
    "actual_data1.categories.value_counts()"
   ]
  },
  {
   "cell_type": "code",
   "execution_count": 29,
   "metadata": {},
   "outputs": [
    {
     "data": {
      "text/plain": [
       "ASK_A_DOCTOR     973\n",
       "PRESCRIPTION     505\n",
       "APPOINTMENTS     416\n",
       "MISCELLANEOUS    307\n",
       "LAB               78\n",
       "Name: categories, dtype: int64"
      ]
     },
     "execution_count": 29,
     "metadata": {},
     "output_type": "execute_result"
    }
   ],
   "source": [
    "#Categoreies coulumn levels count \n",
    "test_data1.categories.value_counts()"
   ]
  },
  {
   "cell_type": "code",
   "execution_count": 30,
   "metadata": {
    "collapsed": true
   },
   "outputs": [],
   "source": [
    "#Removing Punctuation\n",
    "actual_data1['data'] = actual_data1['data'].str.replace('[^\\w\\s\\d\\*\\\\b]','')\n",
    "actual_data1['summary'] = actual_data1['summary'].str.replace('[^\\w\\s\\d\\*\\\\b]','')  "
   ]
  },
  {
   "cell_type": "code",
   "execution_count": 31,
   "metadata": {
    "collapsed": true
   },
   "outputs": [],
   "source": [
    "#Removing Punctuation\n",
    "test_data1['data'] = test_data1['data'].str.replace('[^\\w\\s\\d\\*\\\\b]','')\n",
    "test_data1['summary'] = test_data1['summary'].str.replace('[^\\w\\s\\d\\*\\\\b]','')"
   ]
  },
  {
   "cell_type": "code",
   "execution_count": 32,
   "metadata": {
    "collapsed": true
   },
   "outputs": [],
   "source": [
    "#Replacing spelling errors \n",
    "import re\n",
    "def replacing_text(input_text):\n",
    "    letters_only = re.sub(\"[^a-zA-Z]\", \" \",input_text )\n",
    "    low_case = letters_only.lower()\n",
    "    input_text   =re.sub('pt ', ' patient ', low_case)\n",
    "    input_text1  =re.sub(' appt ', ' appointment ',  input_text)\n",
    "    input_text1  =re.sub(' appt ', ' appointment ',  input_text)\n",
    "    input_text2  =re.sub(' ov ', ' office visit ',  input_text1)\n",
    "    input_text3  =re.sub(' schd ', ' scheduled ',  input_text2)\n",
    "    input_text4  =re.sub(' np ', ' new patient ',  input_text3)\n",
    "    input_text5  =re.sub(' r/s ', ' reschedule ',  input_text4)\n",
    "    input_text6  =re.sub(' med ', ' medication ',  input_text5)\n",
    "    input_text7  =re.sub(' pa ', ' prior authorization ',  input_text6)\n",
    "    input_text8  =re.sub(' fin ', ' financial ',  input_text7)\n",
    "    input_text9  =re.sub(' dept ', ' department ',  input_text8) \n",
    "    input_text10 =re.sub(' Call patient back ', ' ', input_text9)\n",
    "    input_text11 =re.sub(' Phone Note ', ' ', input_text10)\n",
    "    input_text12 =re.sub(' caller name ', ' ', input_text11)\n",
    "    input_text13 =re.sub(' call Taken by ', ' ', input_text12)\n",
    "    input_text14 =re.sub(' cell Phone ', ' ', input_text13)\n",
    "    input_text15 =re.sub(' call from patient  ', ' ', input_text14)\n",
    "    input_text16 =re.sub(' call patient back at ', ' ', input_text15)\n",
    "    input_text17 =re.sub(' additional follow-up details ', ' ', input_text16)\n",
    "    input_text18 =re.sub(' follow-up details ', ' ', input_text17)\n",
    "    input_text19 =re.sub(' additional follow-up by ', ' ', input_text18)\n",
    "    input_text20 =re.sub(' follow-up by ', ' ', input_text19)\n",
    "    input_text21 =re.sub(' default paragraph ', ' ', input_text20)\n",
    "    input_text22 =re.sub(' default paragraph ', ' ', input_text21)\n",
    "    input_text23 =re.sub(' pm ', '  ', input_text22)\n",
    "    input_text24 =re.sub(' tabs ', ' tablets ', input_text23)\n",
    "    input_text25 =re.sub(' ph ',' phone ', input_text24)\n",
    "    input_text26 =re.sub(' dr ',' doctor ',input_text25)\n",
    "    input_text27 =re.sub(' msg ',' message ', input_text26)\n",
    "    input_text28 =re.sub(' sched ',' scheduled ', input_text27)\n",
    "    input_text29 =re.sub(' yrly ',' yearly ', input_text28)\n",
    "    input_text30 =re.sub('xxx ',' ',input_text29)\n",
    "    input_text31 =re.sub(' clld ', ' called ', input_text30)\n",
    "    input_text32 =re.sub(' rs ',' reschedule ',input_text31)\n",
    "    input_text33 =re.sub(' appt', ' appointment ',  input_text32)\n",
    "    input_text34 =re.sub(' rn ', ' relay neurology ', input_text33)\n",
    "    input_text35 =re.sub(' ad ', ' add ', input_text34)\n",
    "    input_text36 =re.sub(' new medications ', '  ', input_text35)\n",
    "    input_text37 =re.sub(' summary of call ', ' ', input_text36)\n",
    "    input_text38 =re.sub('summary of call ',' ',input_text37)\n",
    "    input_text39 =re.sub(' am ', ' ', input_text38)\n",
    "    input_text40 =re.sub(' call initial ', ' ', input_text39)\n",
    "    input_text41 =re.sub(' initial taken ', ' ', input_text40)\n",
    "    input_text42 =re.sub(' amanda gray',' ', input_text41)\n",
    "    input_text43 =re.sub(' wife melissa dykes ',' ', input_text42)\n",
    "    input_text44 =re.sub(' wife relay neurology ',' ', input_text43)\n",
    "    input_text45 =re.sub(' incoming back ',' ', input_text44)\n",
    "    input_text46 =re.sub(' kelly sykes',' ', input_text45)\n",
    "    return(input_text46) "
   ]
  },
  {
   "cell_type": "code",
   "execution_count": 33,
   "metadata": {
    "collapsed": true
   },
   "outputs": [],
   "source": [
    "length_data=len(actual_data1)"
   ]
  },
  {
   "cell_type": "code",
   "execution_count": 34,
   "metadata": {},
   "outputs": [
    {
     "name": "stdout",
     "output_type": "stream",
     "text": [
      "no.of rows reviews processed: 0\n",
      "no.of rows reviews processed: 10000\n",
      "no.of rows reviews processed: 20000\n",
      "no.of rows reviews processed: 30000\n",
      "no.of rows reviews processed: 40000\n",
      "no.of rows reviews processed: 50000\n",
      "no.of rows reviews processed: 60000\n",
      "no.of rows reviews processed: 70000\n",
      "no.of rows reviews processed: 80000\n",
      "Training took 15.297 seconds\n"
     ]
    }
   ],
   "source": [
    "start = time.time()\n",
    "data_process2=[]\n",
    "for i in range (0,length_data):\n",
    "    if i%10000 == 0:\n",
    "        print (\"no.of rows reviews processed:\",i)\n",
    "    data_process2.append(replacing_text(actual_data1.data[i]))\n",
    "    \n",
    "print(\"Training took {:0.3f} seconds\".format(time.time()-start))"
   ]
  },
  {
   "cell_type": "code",
   "execution_count": 35,
   "metadata": {},
   "outputs": [
    {
     "name": "stdout",
     "output_type": "stream",
     "text": [
      "no.of rows reviews processed: 0\n",
      "no.of rows reviews processed: 10000\n",
      "no.of rows reviews processed: 20000\n",
      "no.of rows reviews processed: 30000\n",
      "no.of rows reviews processed: 40000\n",
      "no.of rows reviews processed: 50000\n",
      "no.of rows reviews processed: 60000\n",
      "no.of rows reviews processed: 70000\n",
      "no.of rows reviews processed: 80000\n",
      "Training took 5.725 seconds\n"
     ]
    }
   ],
   "source": [
    "start = time.time()\n",
    "summary_process2=[]\n",
    "for i in range (0,length_data):\n",
    "    if i%10000 == 0:\n",
    "        print (\"no.of rows reviews processed:\",i)\n",
    "    summary_process2.append(replacing_text(actual_data1.summary[i]))\n",
    "print(\"Training took {:0.3f} seconds\".format(time.time()-start))"
   ]
  },
  {
   "cell_type": "code",
   "execution_count": 36,
   "metadata": {
    "collapsed": true
   },
   "outputs": [],
   "source": [
    "actual_data1.data=pd.DataFrame(data_process2)\n",
    "actual_data1.summary=pd.DataFrame(summary_process2)"
   ]
  },
  {
   "cell_type": "code",
   "execution_count": 37,
   "metadata": {
    "collapsed": true
   },
   "outputs": [],
   "source": [
    "length_test_data=len(test_data1)"
   ]
  },
  {
   "cell_type": "code",
   "execution_count": 38,
   "metadata": {},
   "outputs": [
    {
     "name": "stdout",
     "output_type": "stream",
     "text": [
      "no.of rows reviews processed: 0\n",
      "Training took 0.446 seconds\n"
     ]
    }
   ],
   "source": [
    "start = time.time()\n",
    "test_data_process2=[]\n",
    "for i in range (0,length_test_data):\n",
    "    if i%10000 == 0:\n",
    "        print (\"no.of rows reviews processed:\",i)\n",
    "    test_data_process2.append(replacing_text(test_data1.data[i]))\n",
    "    \n",
    "print(\"Training took {:0.3f} seconds\".format(time.time()-start))"
   ]
  },
  {
   "cell_type": "code",
   "execution_count": 39,
   "metadata": {},
   "outputs": [
    {
     "name": "stdout",
     "output_type": "stream",
     "text": [
      "no.of rows reviews processed: 0\n",
      "Training took 0.171 seconds\n"
     ]
    }
   ],
   "source": [
    "start = time.time()\n",
    "test_data_summary_process2=[]\n",
    "for i in range (0,length_test_data):\n",
    "    if i%10000 == 0:\n",
    "        print (\"no.of rows reviews processed:\",i)\n",
    "    test_data_summary_process2.append(replacing_text(test_data1.summary[i]))\n",
    "print(\"Training took {:0.3f} seconds\".format(time.time()-start))"
   ]
  },
  {
   "cell_type": "code",
   "execution_count": 40,
   "metadata": {
    "collapsed": true
   },
   "outputs": [],
   "source": [
    "test_data1.data=pd.DataFrame(test_data_process2)\n",
    "test_data1.summary=pd.DataFrame(test_data_summary_process2)"
   ]
  },
  {
   "cell_type": "code",
   "execution_count": 41,
   "metadata": {},
   "outputs": [
    {
     "data": {
      "text/html": [
       "<div>\n",
       "<style scoped>\n",
       "    .dataframe tbody tr th:only-of-type {\n",
       "        vertical-align: middle;\n",
       "    }\n",
       "\n",
       "    .dataframe tbody tr th {\n",
       "        vertical-align: top;\n",
       "    }\n",
       "\n",
       "    .dataframe thead th {\n",
       "        text-align: right;\n",
       "    }\n",
       "</style>\n",
       "<table border=\"1\" class=\"dataframe\">\n",
       "  <thead>\n",
       "    <tr style=\"text-align: right;\">\n",
       "      <th></th>\n",
       "      <th>summary</th>\n",
       "      <th>data</th>\n",
       "      <th>categories</th>\n",
       "    </tr>\n",
       "  </thead>\n",
       "  <tbody>\n",
       "    <tr>\n",
       "      <th>0</th>\n",
       "      <td>order for mra</td>\n",
       "      <td>converted from care alert                    g...</td>\n",
       "      <td>PRESCRIPTION</td>\n",
       "    </tr>\n",
       "    <tr>\n",
       "      <th>1</th>\n",
       "      <td>patient sick wants rx</td>\n",
       "      <td>call from patient caller patient initial call ...</td>\n",
       "      <td>ASK_A_DOCTOR</td>\n",
       "    </tr>\n",
       "    <tr>\n",
       "      <th>2</th>\n",
       "      <td>fyi for doctor russo</td>\n",
       "      <td>call from patient caller patient initial call ...</td>\n",
       "      <td>ASK_A_DOCTOR</td>\n",
       "    </tr>\n",
       "    <tr>\n",
       "      <th>3</th>\n",
       "      <td>rx refills</td>\n",
       "      <td>call from other clinic initial call taken by a...</td>\n",
       "      <td>PRESCRIPTION</td>\n",
       "    </tr>\n",
       "    <tr>\n",
       "      <th>4</th>\n",
       "      <td>frequent falls refusing care call from wellspr...</td>\n",
       "      <td>other incoming call nursing supervisor at well...</td>\n",
       "      <td>ASK_A_DOCTOR</td>\n",
       "    </tr>\n",
       "  </tbody>\n",
       "</table>\n",
       "</div>"
      ],
      "text/plain": [
       "                                             summary  \\\n",
       "0                                      order for mra   \n",
       "1                              patient sick wants rx   \n",
       "2                               fyi for doctor russo   \n",
       "3                                         rx refills   \n",
       "4  frequent falls refusing care call from wellspr...   \n",
       "\n",
       "                                                data    categories  \n",
       "0  converted from care alert                    g...  PRESCRIPTION  \n",
       "1  call from patient caller patient initial call ...  ASK_A_DOCTOR  \n",
       "2  call from patient caller patient initial call ...  ASK_A_DOCTOR  \n",
       "3  call from other clinic initial call taken by a...  PRESCRIPTION  \n",
       "4  other incoming call nursing supervisor at well...  ASK_A_DOCTOR  "
      ]
     },
     "execution_count": 41,
     "metadata": {},
     "output_type": "execute_result"
    }
   ],
   "source": [
    "test_data1.head()"
   ]
  },
  {
   "cell_type": "code",
   "execution_count": null,
   "metadata": {
    "collapsed": true
   },
   "outputs": [],
   "source": []
  },
  {
   "cell_type": "code",
   "execution_count": 42,
   "metadata": {
    "collapsed": true
   },
   "outputs": [],
   "source": [
    "#Removal of Stop Words\n",
    "stop = stopwords.words('english')\n",
    "actual_data1['data'] = actual_data1['data'].apply(lambda x: \" \".join(x for x in x.split() if x not in stop))\n",
    "actual_data1['summary'] = actual_data1['summary'].apply(lambda x: \" \".join(x for x in x.split() if x not in stop))"
   ]
  },
  {
   "cell_type": "code",
   "execution_count": 43,
   "metadata": {
    "collapsed": true
   },
   "outputs": [],
   "source": [
    "test_data1['data'] = test_data1['data'].apply(lambda x: \" \".join(x for x in x.split() if x not in stop))\n",
    "test_data1['summary'] = test_data1['summary'].apply(lambda x: \" \".join(x for x in x.split() if x not in stop))"
   ]
  },
  {
   "cell_type": "code",
   "execution_count": 44,
   "metadata": {
    "collapsed": true
   },
   "outputs": [],
   "source": [
    "#Removal of user defined Stop Words\n",
    "stop2 = ['phone','patient','please','back','caller','donna','shanon wright','cma','amy','daughter','taken','ann','thank','','initial','','x','r','call','a','m','mom','ravisankar','home','john','follow','details','detail','followup','pm','jones','erica','ma','md','called','russo','iii','http','add','also','like','ok', 'okay','pt','january','february','march','april','may','june','july','august','september','october','november','december']\n",
    "actual_data1['data'] = actual_data1['data'].apply(lambda x: \" \".join(x for x in x.split() if x not in stop2))\n",
    "actual_data1['summary'] = actual_data1['summary'].apply(lambda x: \" \".join(x for x in x.split() if x not in stop2))"
   ]
  },
  {
   "cell_type": "code",
   "execution_count": 45,
   "metadata": {
    "collapsed": true
   },
   "outputs": [],
   "source": [
    "#Removal of user defined Stop Words\n",
    "test_data1['data'] = test_data1['data'].apply(lambda x: \" \".join(x for x in x.split() if x not in stop2))\n",
    "test_data1['summary'] = test_data1['summary'].apply(lambda x: \" \".join(x for x in x.split() if x not in stop2))"
   ]
  },
  {
   "cell_type": "code",
   "execution_count": 46,
   "metadata": {},
   "outputs": [
    {
     "name": "stdout",
     "output_type": "stream",
     "text": [
      "mg              84910\n",
      "clinical        66352\n",
      "take            56499\n",
      "doctor          54794\n",
      "oral            52977\n",
      "neurology       45535\n",
      "relay           45032\n",
      "tablets         40462\n",
      "one             38432\n",
      "rx              37857\n",
      "tablet          37062\n",
      "daily           36013\n",
      "said            34562\n",
      "notified        31261\n",
      "day             30260\n",
      "mouth           29052\n",
      "ap              27249\n",
      "rt              27014\n",
      "weaver          26812\n",
      "new             24754\n",
      "need            24353\n",
      "days            24034\n",
      "get             22663\n",
      "know            21966\n",
      "shanon          21717\n",
      "would           21687\n",
      "wright          21578\n",
      "pharmacy        21430\n",
      "rogers          20906\n",
      "see             20702\n",
      "                ...  \n",
      "myron               1\n",
      "affilated           1\n",
      "inprove             1\n",
      "onther              1\n",
      "autopsy             1\n",
      "stephiane           1\n",
      "thowing             1\n",
      "inconnection        1\n",
      "othropedic          1\n",
      "equiment            1\n",
      "summerstone         1\n",
      "advi                1\n",
      "levaquing           1\n",
      "noifying            1\n",
      "fiirst              1\n",
      "fior                1\n",
      "reformatted         1\n",
      "phram               1\n",
      "rosenbour           1\n",
      "troy                1\n",
      "viers               1\n",
      "splenomegaly        1\n",
      "criminal            1\n",
      "suspending          1\n",
      "dailyl              1\n",
      "theochron           1\n",
      "unactivated         1\n",
      "updat               1\n",
      "sundown             1\n",
      "ploop               1\n",
      "Length: 41868, dtype: int64 done              10897\n",
      "rx                 6406\n",
      "doctor             6086\n",
      "ap                 5171\n",
      "refill             4802\n",
      "ask                4178\n",
      "needs              3896\n",
      "pain               3782\n",
      "wants              3149\n",
      "cough              3084\n",
      "nan                2823\n",
      "med                2672\n",
      "need               2309\n",
      "answered           2296\n",
      "referral           2262\n",
      "needed             2257\n",
      "appointment        1925\n",
      "co                 1842\n",
      "req                1812\n",
      "requested          1805\n",
      "ov                 1772\n",
      "samples            1701\n",
      "results            1640\n",
      "medication         1620\n",
      "question           1572\n",
      "bp                 1564\n",
      "sinus              1435\n",
      "labs               1398\n",
      "request            1330\n",
      "p                  1324\n",
      "                  ...  \n",
      "vmprevnar             1\n",
      "bruises               1\n",
      "nadalol               1\n",
      "pca                   1\n",
      "genitals              1\n",
      "dropp                 1\n",
      "imagin                1\n",
      "peupdate              1\n",
      "signal                1\n",
      "poisining             1\n",
      "maildone              1\n",
      "ptessalon             1\n",
      "wellbutrinlmtc        1\n",
      "todd                  1\n",
      "highsamples           1\n",
      "tomfri                1\n",
      "tomorrowasthma        1\n",
      "heckercathy           1\n",
      "dead                  1\n",
      "sobfatigue            1\n",
      "cps                   1\n",
      "ppremed               1\n",
      "veggies               1\n",
      "pecipro               1\n",
      "holwerdaneed          1\n",
      "coated                1\n",
      "phctz                 1\n",
      "hhrq                  1\n",
      "pmt                   1\n",
      "vists                 1\n",
      "Length: 12814, dtype: int64\n"
     ]
    }
   ],
   "source": [
    "freq_count_data = pd.Series(' '.join(actual_data1['data']).split()).value_counts()\n",
    "freq_count_summary = pd.Series(' '.join(actual_data1['summary']).split()).value_counts()\n",
    "print(freq_count_data,freq_count_summary)"
   ]
  },
  {
   "cell_type": "code",
   "execution_count": 47,
   "metadata": {},
   "outputs": [
    {
     "name": "stdout",
     "output_type": "stream",
     "text": [
      "41868 12814\n",
      "1435 339\n"
     ]
    }
   ],
   "source": [
    "print(len(freq_count_data),len(freq_count_summary))\n",
    "print(len(set(freq_count_data)),len(set(freq_count_summary)))"
   ]
  },
  {
   "cell_type": "code",
   "execution_count": 68,
   "metadata": {
    "collapsed": true
   },
   "outputs": [],
   "source": [
    "from nltk.stem import PorterStemmer\n",
    "from nltk.stem.lancaster import LancasterStemmer\n",
    "st = PorterStemmer()\n",
    "lt = LancasterStemmer()\n",
    "actual_data1['data'] = actual_data1['data'].apply(lambda x: \" \".join([st.stem(word) for word in x.split()]))\n",
    "actual_data1['summary'] = actual_data1['summary'].apply(lambda x: \" \".join([st.stem(word) for word in x.split()]))"
   ]
  },
  {
   "cell_type": "code",
   "execution_count": 69,
   "metadata": {
    "collapsed": true
   },
   "outputs": [],
   "source": [
    "test_data1['data'] = test_data1['data'].apply(lambda x: \" \".join([st.stem(word) for word in x.split()]))\n",
    "test_data1['summary'] = test_data1['summary'].apply(lambda x: \" \".join([st.stem(word) for word in x.split()]))"
   ]
  },
  {
   "cell_type": "code",
   "execution_count": 70,
   "metadata": {
    "collapsed": true
   },
   "outputs": [],
   "source": [
    "actual_data1['data'] = actual_data1['data'].apply(lambda x: \" \".join([lt.stem(word) for word in x.split()]))\n",
    "actual_data1['summary'] = actual_data1['summary'].apply(lambda x: \" \".join([lt.stem(word) for word in x.split()]))"
   ]
  },
  {
   "cell_type": "code",
   "execution_count": 71,
   "metadata": {
    "collapsed": true
   },
   "outputs": [],
   "source": [
    "test_data1['data'] = test_data1['data'].apply(lambda x: \" \".join([lt.stem(word) for word in x.split()]))\n",
    "test_data1['summary'] = test_data1['summary'].apply(lambda x: \" \".join([lt.stem(word) for word in x.split()]))"
   ]
  },
  {
   "cell_type": "code",
   "execution_count": 72,
   "metadata": {},
   "outputs": [
    {
     "data": {
      "text/plain": [
       "'bet c cough congest howev stil c low grad fev sleep oft say worr flu pcn allerg pharmac pick drug unclear nee abx bactrim on ds po bid gav paramet start list pcn allerg sulfamethoxazol trimethoprim mg or tablet sulfamethoxazol trimethoprim on po bid new allerg pcn penicillin v potass mod sulfamethoxazol trimethoprim mg or tablet sulfamethoxazol trimethoprim on po bid new allerg pcn penicillin v potass mod sulfamethoxazol trimethoprim mg or tablet sulfamethoxazol trimethoprim on po bid new allerg pcn penicillin v potass mod'"
      ]
     },
     "execution_count": 72,
     "metadata": {},
     "output_type": "execute_result"
    }
   ],
   "source": [
    "actual_data1.data[0]"
   ]
  },
  {
   "cell_type": "code",
   "execution_count": null,
   "metadata": {
    "collapsed": true
   },
   "outputs": [],
   "source": []
  },
  {
   "cell_type": "code",
   "execution_count": null,
   "metadata": {
    "collapsed": true
   },
   "outputs": [],
   "source": [
    "###############################################################################################################################"
   ]
  },
  {
   "cell_type": "code",
   "execution_count": 118,
   "metadata": {
    "collapsed": true
   },
   "outputs": [],
   "source": [
    "actual_data1.to_csv(\"pre_processed_Guliford_actual_data2.csv\",index=False)\n",
    "test_data1.to_csv(\"pre_processed_Guliford_test_data2.csv\",index=False)"
   ]
  },
  {
   "cell_type": "code",
   "execution_count": 8,
   "metadata": {
    "collapsed": true
   },
   "outputs": [],
   "source": [
    "#actual_data1=pd.read_csv(\"new_Guliford_data.csv\",header=0)\n",
    "#test_data1=pd.read_csv(\"new_Guliford_march_data.csv\",header=0)"
   ]
  },
  {
   "cell_type": "code",
   "execution_count": null,
   "metadata": {
    "collapsed": true
   },
   "outputs": [],
   "source": []
  },
  {
   "cell_type": "code",
   "execution_count": 48,
   "metadata": {
    "collapsed": true
   },
   "outputs": [],
   "source": [
    "#doing TF-IDF\n",
    "from sklearn.feature_extraction.text import TfidfVectorizer\n",
    "tfidf_data_vectorizer = TfidfVectorizer(ngram_range=(1,),norm=\"l2\",max_features= 5000)\n",
    "tfidf_data = tfidf_data_vectorizer.fit_transform(actual_data1[\"data\"])\n",
    "dense_data = tfidf_data.todense()\n",
    "tfidf_summary_vectorizer = TfidfVectorizer(ngram_range=(1,2),norm=\"l2\",max_features= 4000)\n",
    "tfidf_summary = tfidf_summary_vectorizer.fit_transform(actual_data1[\"summary\"])\n",
    "dense_summary = tfidf_summary.todense()\n",
    "df_data = pd.DataFrame(dense_data)\n",
    "df_summary = pd.DataFrame(dense_summary)"
   ]
  },
  {
   "cell_type": "code",
   "execution_count": 49,
   "metadata": {
    "scrolled": true
   },
   "outputs": [
    {
     "name": "stdout",
     "output_type": "stream",
     "text": [
      "5000\n",
      "['ab', 'abd', 'abd pain', 'abdomen', 'abdominal', 'abdominal pain', 'able', 'able get', 'abnormal', 'abx', 'abx sent', 'acce', 'accident', 'according', 'accu', 'accu chek', 'acetaminophen', 'acetaminophen mg', 'acetaminophen one', 'acetaminophen take', 'acetate', 'acetonide', 'acetonide apply', 'acetonide ext', 'ache', 'aches', 'aches said', 'aching', 'achy', 'acid', 'acid reflux', 'across', 'act', 'act inh', 'act inhalation', 'act nasal', 'acting', 'action', 'action ap', 'action completed', 'action fwd', 'action information', 'action notified', 'action rx', 'action samples', 'active', 'activity', 'actually', 'acute', 'acyclovir', 'added', 'adderall', 'adderall mg', 'adderall xr', 'addition', 'additional', 'additional information', 'address', 'adjust', 'administer', 'admitted', 'advair', 'advanced', 'advanced care', 'advice', 'advil', 'advise', 'advise action', 'advise clinical', 'advise melissa', 'advised', 'advised action', 'advised ap', 'advised check', 'advised cna', 'advised come', 'advised could', 'advised doctor', 'advised go', 'advised melissa', 'advised needed', 'advised needs', 'advised new', 'advised rx', 'advised said', 'advised shanon', 'advised take', 'advised would', 'advising', 'advising shanon', 'aepb', 'aepb fluticasone', 'aero', 'aerosol', 'aerosol solution', 'aers', 'aers albuterol', 'aetna', 'affected', 'affected area']\n"
     ]
    }
   ],
   "source": [
    "feature_names_data = tfidf_data_vectorizer.get_feature_names()\n",
    "print(len(feature_names_data))\n",
    "print(feature_names_data[:100])"
   ]
  },
  {
   "cell_type": "code",
   "execution_count": 50,
   "metadata": {},
   "outputs": [
    {
     "name": "stdout",
     "output_type": "stream",
     "text": [
      "4000\n",
      "['ab', 'ab done', 'abcess', 'abd', 'abd pain', 'abdomen', 'abdomen pain', 'abdominal', 'abdominal discomfort', 'abdominal pain', 'abilify', 'able', 'abn', 'abnormal', 'abp', 'abp cuff', 'abx', 'abx answered', 'abx cough', 'abx dental', 'abx done', 'abx request', 'abx requested', 'abx sent', 'abx sinus', 'abx trip', 'abx uti', 'abxdone', 'acce', 'accident', 'ache', 'aches', 'aches fever', 'achiness', 'aching', 'achy', 'acid', 'acid reflux', 'acting', 'acute', 'acyclovir', 'added', 'adderal', 'adderall', 'adderall done', 'adderall refill', 'adderall refills', 'adderall rx', 'adderrall', 'adderrall done', 'additional', 'additional labs', 'adhd', 'adherance', 'adherance done', 'adherenace', 'adherence', 'adherence done', 'admission', 'admit', 'admitted', 'advair', 'advanced', 'advice', 'advise', 'advise regarding', 'advised', 'advised go', 'aetna', 'afford', 'afib', 'afternoon', 'agitation', 'ago', 'ahc', 'ahc calling', 'ahc needs', 'ahc rq', 'ahcdone', 'aid', 'aide', 'air', 'al', 'albuterol', 'albuterol inhaler', 'alcohol', 'alendronate', 'aleve', 'allegra', 'allergic', 'allergic reaction', 'allergies', 'allergies done', 'allergist', 'allergy', 'allergy done', 'alliance', 'allopurinol', 'alot', 'alprazolam', 'alprazolam refill', 'already', 'alternative', 'ambien', 'ambien done', 'ambien refill', 'ambien rx', 'amlodipine', 'amoxicillin', 'androgel', 'anemia', 'ankle', 'ankle pain', 'ankle swelling', 'ankles', 'ankles swelling', 'annual', 'annual labs', 'anoro', 'another', 'another round', 'another rx', 'another uti', 'ans', 'answer', 'answerd', 'answered', 'answered done', 'answereddone', 'anti', 'antibiotic', 'antibiotics', 'antidepressant', 'antidepressant done', 'anxiety', 'anxiety done', 'anxiety medication', 'anxious', 'anything', 'anything else', 'ap', 'ap abd', 'ap answered', 'ap bp', 'ap brittany', 'ap cancelled', 'ap cathey', 'ap chest', 'ap cold', 'ap congestion', 'ap cough', 'ap discuss', 'ap dizziness', 'ap doctor', 'ap done', 'ap ear', 'ap elevated', 'ap foot', 'ap fri', 'ap friday', 'ap fu', 'ap info', 'ap left', 'ap leg', 'ap lm', 'ap lmtcb', 'ap made', 'ap mde', 'ap monday', 'ap moved', 'ap needed', 'ap needs', 'ap new', 'ap next', 'ap np', 'ap ortho', 'ap pain', 'ap post', 'ap question', 'ap rash', 'ap req', 'ap request', 'ap requested', 'ap rescheduled', 'ap rtc', 'ap scheduled', 'ap sick', 'ap sinus', 'ap steph', 'ap sue', 'ap time', 'ap today', 'ap tomorrow', 'ap uti', 'ap week', 'ape', 'ape ap', 'ape appointment', 'ape lab', 'ape labs', 'apnea', 'app', 'app doctor', 'app done', 'app see', 'app today', 'app tomorrow', 'appeal', 'appetite', 'appointment', 'appointment doctor', 'appointment done', 'approval', 'approved', 'appt', 'apria', 'aps', 'area', 'arice', 'arm', 'arm numbness', 'arm pain', 'arms', 'aronson', 'around', 'arthritis', 'asa', 'asap', 'ashley', 'ask', 'ask brittany', 'ask cough', 'ask dj', 'ask doctor', 'ask drshaw', 'ask medication', 'asking', 'asleep', 'assessment', 'assistance', 'asthma', 'asthma flare', 'atenolol', 'ativan', 'ativan refill', 'atorvastatin', 'atorvastatin refill', 'attack', 'attacks', 'attem', 'attempts', 'attending', 'audiology', 'audiology referral', 'augmentin', 'auth', 'authorization', 'authorization done', 'authorization rx', 'auto', 'auto accident', 'av', 'av cough', 'av sick', 'av sinus', 'available', 'avva', 'avva cough', 'avva sinus', 'await', 'awaiting', 'aware', 'away', 'azor', 'backdone', 'backorder', 'bactrim', 'bad', 'bad cough', 'balance', 'baptist', 'bariatric', 'basaglar', 'bayada', 'bcbs', 'beach', 'bed', 'bee', 'behind', 'belsomra', 'belviq', 'benicar', 'better', 'better done', 'bg', 'bid', 'big', 'bilateral', 'bill', 'biopsy', 'biotech', 'bite', 'bite done', 'bites', 'bitten', 'bjh', 'black', 'black stools', 'bladder', 'bladder inf', 'bladder infection', 'bladder issues', 'blade', 'bleed', 'bleeding', 'bleeds', 'blister', 'blister done', 'blisters', 'bloating', 'blood', 'blood clot', 'blood pressure', 'blood stool', 'blood stools', 'blood sugar', 'blood sugars', 'blood thinner', 'blood type', 'blood urine', 'blood work', 'bloodwork', 'bloody', 'blowing', 'blurred', 'blurred vision', 'bm', 'bmd', 'bms', 'body', 'body aches', 'bodyaches', 'boil', 'bone', 'bone density', 'bothering', 'bottom', 'bowel', 'bp', 'bp answered', 'bp check', 'bp concerns', 'bp cuff', 'bp done', 'bp elevated', 'bp high', 'bp issues', 'bp low', 'bp med', 'bp medication', 'bp meds', 'bp reading', 'bp readings', 'bp readingsanswered', 'bp readingsdone', 'bp still', 'bp sugar', 'bp update', 'bp weights', 'bpdone', 'brace', 'brain', 'brand', 'brand done', 'breakout', 'breast', 'breast center', 'breast pain', 'breasts', 'breath', 'breathing', 'breathing issues', 'breo', 'bridge', 'bring', 'bring urine', 'bringing', 'brit', 'britt', 'brittany', 'broke', 'broken', 'bronchitis', 'bronchitis done', 'brookdale', 'brother', 'bruise', 'bruising', 'bs', 'bs readings', 'bug', 'bug bite', 'bump', 'bumps', 'burn', 'burning', 'burning urination', 'busy', 'buttock', 'buttocks', 'bx', 'bydureon', 'bystolic', 'ca', 'calcium', 'calf', 'calf pain', 'calldone', 'calling', 'calling concerns', 'calls', 'camden', 'came', 'canada', 'cancel', 'cancel ap', 'cancel ape', 'cancel app', 'cancel appointment', 'canceled', 'cancellation', 'cancelled', 'cancelled ap', 'cancelled appointment', 'cancer', 'cancer center', 'cancer screening', 'cannot', 'cannot come', 'cannot get', 'cannot hear', 'cannot take', 'cant', 'cant afford', 'cant get', 'cant take', 'car', 'card', 'cardiac', 'cardiologist', 'cardiology', 'cards', 'cards referral', 'care', 'care orders', 'caregiver', 'caremark', 'carolina', 'carotid', 'carriage', 'carriage house', 'case', 'case manager', 'cat', 'cat bite', 'cataract', 'cath', 'cathey', 'cathy', 'cathy showfety', 'caused', 'causing', 'cb', 'cbc', 'cbg', 'cbg readings', 'cbgs', 'ccs', 'cdiff', 'cefdinir', 'celebrex', 'celexa', 'cell', 'cell vm', 'cellulitis', 'center', 'cgm', 'cgm training', 'chair', 'change', 'change answered', 'change done', 'change due', 'change med', 'change medication', 'change needed', 'change per', 'change requested', 'change rx', 'changed', 'changes', 'changing', 'chantix', 'chart', 'cheaper', 'check', 'check referral', 'checked', 'checking', 'checking referral', 'chemo', 'chest', 'chest cold', 'chest congestion', 'chest discomfort', 'chest pain', 'chest pains', 'chest pressure', 'chest tightness', 'chest xray', 'chills', 'chills body', 'chiro', 'chol', 'cholesterol', 'cholesterol medication', 'chronic', 'cialis', 'cialis mg', 'cii', 'cipro', 'citalopram', 'city', 'clapps', 'clarification', 'clarification done', 'clarify', 'clarify rx', 'claritin', 'cleaned', 'cleaning', 'clear', 'clearance', 'clearance form', 'cleared', 'clinic', 'clinical', 'clogged', 'clonazepam', 'clot', 'cmn', 'co', 'co blood', 'co chest', 'co cold', 'co cough', 'co coughing', 'co cyst', 'co dirrhea', 'co dizziness', 'co ear', 'co fall', 'co fatigue', 'co fever', 'co flu', 'co foot', 'co headaches', 'co high', 'co hip', 'co left', 'co leg', 'co lesion', 'co low', 'co nausea', 'co neck', 'co numbness', 'co pain', 'co possible', 'co problems', 'co rash', 'co right', 'co severe', 'co sinus', 'co sob', 'co sore', 'co stomach', 'co swelling', 'co tick', 'co toe', 'co trouble', 'co urinary', 'co uti', 'code', 'colcrys', 'cold', 'cold cough', 'cold done', 'cold req', 'cold sore', 'cold ss', 'cold symptoms', 'colitis', 'college', 'cologuard', 'colon', 'colon referral', 'colonoscopy', 'colonscopy', 'color', 'come', 'come app', 'come labs', 'come strep', 'come today', 'come ua', 'coming', 'coming ua', 'comp', 'company', 'compass', 'complete', 'completed', 'compliance', 'compression', 'compression hose', 'compression stockings', 'concern', 'concerned', 'concerns', 'concerns done', 'concerta', 'concussion', 'condition', 'cone', 'confirm', 'confused', 'confusion', 'cong', 'congested', 'congestion', 'congestion answered', 'congestion cont', 'congestion cough', 'congestion done', 'congestion etc', 'congestion fever', 'congestion headache', 'congestion req', 'congestion sinus', 'congestion sore', 'congestion st', 'congestion wheezing', 'congestioncough', 'constipated', 'constipation', 'constipation answered', 'consult', 'cont', 'cont done', 'contact', 'contagious', 'continue', 'continued', 'continues', 'contour', 'contrast', 'contrave', 'control', 'controlled', 'controlled refills', 'copd', 'copy', 'copy labs', 'correct', 'corrected', 'correction', 'cortisone', 'cost', 'cost much', 'costco', 'cough', 'cough answered', 'cough ap', 'cough ask', 'cough body', 'cough chest', 'cough chills', 'cough cold', 'cough congestion', 'cough cont', 'cough days', 'cough diarrhea', 'cough done', 'cough dyspnea', 'cough etc', 'cough fatigue', 'cough fever', 'cough med', 'cough medication', 'cough nasal', 'cough need', 'cough needs', 'cough req', 'cough runny', 'cough rx', 'cough sinus', 'cough sob', 'cough sore', 'cough ss', 'cough st', 'cough still', 'cough syrup', 'cough wants', 'cough weeks', 'cough wheeze', 'cough wheezing', 'cough worse', 'coughcongestion', 'coughdone', 'coughing', 'coughing chest', 'coughing sinus', 'coughing sob', 'coughing sore', 'coughing wants', 'coughing wheezing', 'could', 'coumadin', 'coumadin dose', 'counselor', 'country', 'couple', 'coupon', 'cover', 'coverage', 'covered', 'covered answered', 'covered done', 'covered insurance', 'covered patients', 'covering', 'cp', 'cpap', 'cpap machine', 'cpap supplies', 'cramping', 'cramps', 'cream', 'cream done', 'creon', 'crestor', 'crestor done', 'cruise', 'ct', 'ct chest', 'ct order', 'ct report', 'ct results', 'ct scan', 'cuff', 'culture', 'culture results', 'current', 'cut', 'cut finger', 'cvs', 'cx', 'cxl', 'cxl ap', 'cxl appointment', 'cxr', 'cxr results', 'cyclobenzaprine', 'cymbalta', 'cyst', 'cystitis', 'dad', 'daily', 'dark', 'date', 'day', 'day done', 'day refills', 'day rx', 'day supply', 'days', 'days done', 'dc', 'dc done', 'death', 'dec', 'decline', 'declined', 'declined ifob', 'declined ifobt', 'declines', 'decrease', 'decreased', 'deep', 'deep cough', 'dehydrated', 'dehydration', 'dementia', 'denial', 'denied', 'denied done', 'density', 'dental', 'dental procedure', 'dental work', 'dentist', 'depo', 'depression', 'depression done', 'depression medication', 'derm', 'derm referral', 'dermatologist', 'dermatology', 'desk', 'detailed', 'detailed message', 'deveshwar', 'device', 'dexa', 'dexa left', 'dexa results', 'dexa scan', 'dexadone', 'dexcom', 'dexilant', 'diabetes', 'diabetes study', 'diabetic', 'diabetic shoes', 'diag', 'diag mammo', 'diagnosed', 'diagnosis', 'diagnostic', 'diagnostic mammo', 'diarrhea', 'diarrhea answered', 'diarrhea done', 'diazepam', 'diclofenac', 'didnt', 'didnt get', 'diet', 'diff', 'different', 'difficulty', 'difficulty sleeping', 'diflucan', 'diflucan done', 'diltiazem', 'diovan', 'direct', 'directions', 'dirrhea', 'dirrhea episodes', 'dirrhea symptoms', 'disability', 'disc', 'discharge', 'discomfort', 'discuss', 'discuss medication', 'discuss meds', 'discussion', 'disease', 'dismissal', 'dismissed', 'diuretic', 'divertic', 'diverticulitis', 'diverticulitis done', 'dizziness', 'dizziness done', 'dizziness nausea', 'dizzy', 'dizzy spells', 'dj', 'dm', 'dm shoes', 'dm supplies', 'dme', 'dmv', 'dmv form', 'dnr', 'doc', 'doctor', 'doctor allergies', 'doctor answered', 'doctor ap', 'doctor aronson', 'doctor av', 'doctor avva', 'doctor blood', 'doctor bp', 'doctor change', 'doctor constipation', 'doctor cough', 'doctor diarrhea', 'doctor done', 'doctor elevated', 'doctor flu', 'doctor gout', 'doctor hh', 'doctor howlerda', 'doctor increase', 'doctor inr', 'doctor issues', 'doctor lab', 'doctor labs', 'doctor medication', 'doctor nausea', 'doctor need', 'doctor needs', 'doctor next', 'doctor pain', 'doctor panswered', 'doctor paterson', 'doctor pback', 'doctor pbp', 'doctor pcough', 'doctor pe', 'doctor peap', 'doctor pelevated', 'doctor perini', 'doctor perx', 'doctor pestill', 'doctor peuti', 'doctor pewhat', 'doctor plab', 'doctor pmed', 'doctor pois', 'doctor ppain', 'doctor prq', 'doctor prx', 'doctor psinus', 'doctor puti', 'doctor questions', 'doctor rash', 'doctor referral', 'doctor refill', 'doctor req', 'doctor request', 'doctor results', 'doctor rpatient', 'doctor rquestion', 'doctor rrx', 'doctor rwhat', 'doctor rx', 'doctor see', 'doctor sh', 'doctor shaw', 'doctor sick', 'doctor sinus', 'doctor sleep', 'doctor sore', 'doctor south', 'doctor ss', 'doctor still', 'doctor take', 'doctor tisovec', 'doctor tomorrow', 'doctor uti', 'doctor wants', 'doctor yeast', 'doctors', 'doctors note', 'documentation', 'doesnt', 'doesnt want', 'dog', 'dog bite', 'dollars', 'done', 'done today', 'dont', 'doppler', 'dosage', 'dosage change', 'dosage done', 'dose', 'dose answered', 'dose change', 'dose done', 'dosing', 'dot', 'doxy', 'doxycycline', 'dr', 'dr pe', 'drainage', 'drainage done', 'draining', 'draw', 'drawn', 'drip', 'drive', 'driving', 'drop', 'dropped', 'dropping', 'drops', 'drops done', 'drpe', 'drshaw', 'drug', 'drug interaction', 'dry', 'dry cough', 'dry mouth', 'dtr', 'dtr req', 'due', 'due cost', 'due coverage', 'duke', 'dulera', 'duty', 'dvt', 'dx', 'dx code', 'dysphagia', 'dyspnea', 'dysuria', 'dysuria freq', 'ear', 'ear ache', 'ear cleaning', 'ear drops', 'ear infection', 'ear issue', 'ear issues', 'ear pain', 'ear pressure', 'ear still', 'ear stopped', 'ear stuffiness', 'ear wash', 'ear wax', 'earache', 'earlier', 'earlier ap', 'early', 'early refill', 'ears', 'ears cleaned', 'ears stopped', 'eat', 'eating', 'echo', 'echo results', 'ed', 'ed fu', 'edema', 'edgepark', 'effect', 'effects', 'effexor', 'ekg', 'elbow', 'elbow pain', 'elevated', 'elevated blood', 'elevated bp', 'elevated cbg', 'elevated cbgs', 'elevated sugar', 'elevated sugars', 'eliquis', 'eliquis samples', 'else', 'elsewhere', 'email', 'emailed', 'emailed portal', 'ems', 'encompass', 'end', 'endo', 'energy', 'enough', 'ent', 'ent referral', 'epic', 'epipen', 'episode', 'episodes', 'equipment', 'er', 'er fu', 'er needed', 'er visit', 'esi', 'etc', 'eval', 'evaluated', 'evaluation', 'every', 'exam', 'exception', 'excuse', 'exelon', 'exercise', 'exertion', 'expense', 'expense done', 'expensive', 'expensive answered', 'expensive done', 'expired', 'explain', 'exposed', 'exposed flu', 'exposure', 'express', 'express scri', 'express scripts', 'extend', 'extended', 'extension', 'extra', 'extraction', 'extreme', 'eye', 'eye answered', 'eye doctor', 'eye done', 'eye drops', 'eye exam', 'eye infection', 'eye issue', 'eyes', 'face', 'facial', 'facial pressure', 'facial swelling', 'facility', 'fall', 'fall last', 'falling', 'falls', 'family', 'farxiga', 'fast', 'fasting', 'fasting labs', 'father', 'fatigue', 'fatigue req', 'fax', 'fax labs', 'fax results', 'faxed', 'faxing', 'feel', 'feeling', 'feeling bad', 'feeling better', 'feeling good', 'feeling well', 'feels', 'feet', 'feet swelling', 'feet swollen', 'fell', 'fell hit', 'fenofibrate', 'fentanyl', 'fever', 'fever blister', 'fever blisters', 'fever body', 'fever chills', 'fever congestion', 'fever cough', 'fever done', 'fever nausea', 'fever needs', 'fever req', 'fevers', 'fill', 'filled', 'find', 'fine', 'finger', 'fingers', 'finished', 'finished abx', 'first', 'fish', 'fish oil', 'fl', 'fl form', 'flag', 'flagyl', 'flank', 'flank pain', 'flare', 'flashes', 'flexeril', 'flight', 'flomax', 'flonase', 'flu', 'flu answered', 'flu done', 'flu exposure', 'flu req', 'flu shot', 'flu strep', 'flu swab', 'flu sx', 'flu sxs', 'flu symptoms', 'flu vaccine', 'fluid', 'fluid pill', 'flulike', 'flulike symptoms', 'flying', 'fmla', 'fmla forms', 'fmla paperwork', 'fmla ppwk', 'following', 'food', 'foot', 'foot issues', 'foot pain', 'foot swelling', 'forgot', 'form', 'form completed', 'form done', 'form faxed', 'form filled', 'forms', 'forms filled', 'formulary', 'forteo', 'fosamax', 'found', 'fracture', 'freq', 'frequency', 'frequency urination', 'frequent', 'frequent urination', 'fri', 'friday', 'friends', 'front', 'ftf', 'fu', 'fu ap', 'fu appointment', 'fu doctor', 'fu er', 'fu needed', 'full', 'function', 'fungus', 'furosemide', 'fx', 'fyi', 'fyi ap', 'fyi bp', 'fyi doctor', 'fyi er', 'fyi fall', 'fyi hh', 'fyi hospital', 'fyi update', 'gabapentin', 'gain', 'gallbladder', 'ganji', 'gas', 'gate', 'gate city', 'gave', 'gb', 'gboro', 'gel', 'general', 'generic', 'generic crestor', 'generic done', 'generic synthroid', 'generic viagra', 'gentiva', 'gentiva rq', 'gerd', 'get', 'get evaluated', 'get flu', 'get info', 'get labs', 'get rx', 'gets', 'getting', 'getting better', 'getting worse', 'gi', 'gi ap', 'gi appointment', 'gi doctor', 'gi issues', 'gi referral', 'give', 'given', 'giving', 'gland', 'glands', 'glipizide', 'glucometer', 'glucose', 'glucose meter', 'glyxambi', 'glyxambi samples', 'go', 'go ed', 'go er', 'go uc', 'go urgent', 'going', 'going ed', 'going er', 'gone', 'good', 'got', 'gotten', 'gout', 'gout done', 'gout flare', 'gout pain', 'grade', 'grade fever', 'great', 'great toe', 'green', 'groin', 'groin pain', 'gso', 'gso imaging', 'gso ortho', 'guilford', 'gym', 'gyn', 'gyn referral', 'ha', 'hacking', 'hacking cough', 'hacky', 'hacky cough', 'hair', 'hair loss', 'hallucinations', 'hand', 'hand pain', 'hand swelling', 'handicap', 'handicap form', 'handicap placard', 'handle', 'hands', 'hard', 'hasnt', 'hasnt heard', 'havent', 'havent heard', 'hctz', 'head', 'head cold', 'head congestion', 'head pain', 'headache', 'headache done', 'headaches', 'headaches done', 'healing', 'health', 'health care', 'health form', 'health orders', 'hear', 'heard', 'heard anything', 'hearing', 'hearing loss', 'hearing test', 'heart', 'heart monitor', 'heart rate', 'heartbeat', 'heartburn', 'heartrate', 'heel', 'heel pain', 'help', 'helping', 'hematology', 'hematuria', 'hematuria done', 'hemerrhoids', 'hemoccult', 'hemorrhoid', 'hemorrhoids', 'hemorrhoids done', 'hemosure', 'hemosure results', 'hep', 'hernia', 'hgb', 'hh', 'hh aide', 'hh calling', 'hh needs', 'hh nursing', 'hh order', 'hh orders', 'hh ot', 'hh recert', 'hh referral', 'hh request', 'hh rq', 'hh services', 'hh verbal', 'hh verbals', 'hh wound', 'hhrn', 'high', 'high bg', 'high blood', 'high bp', 'high done', 'high dose', 'higher', 'higher dose', 'hill', 'hip', 'hip leg', 'hip pain', 'hip surgery', 'hit', 'hit head', 'hives', 'hoarse', 'hoarseness', 'hold', 'hold dj', 'hold doctor', 'holding', 'holding record', 'hole', 'holwerda', 'hose', 'hosp', 'hosp bed', 'hosp fu', 'hospice', 'hospice calling', 'hospice nurse', 'hospice referral', 'hospital', 'hospital bed', 'hospital fu', 'hot', 'hour', 'hours', 'house', 'howlerda', 'hr', 'hrx', 'htn', 'humalog', 'humalog novolog', 'humalog refill', 'humalog samples', 'humana', 'humana done', 'humana opthal', 'humana referral', 'humana referrals', 'humulin', 'hurt', 'hurting', 'hurts', 'husband', 'hx', 'hydro', 'hydrocodone', 'hydrocodone done', 'hydrocodone refill', 'hydrocodone rerx', 'hydrocodone rx', 'hydromet', 'hypertension', 'hypoglycemia', 'hypotension', 'ibs', 'ibuprofen', 'ifob', 'ifobt', 'imaging', 'imitrex', 'immunization', 'immunizations', 'improved', 'improving', 'inactive', 'incontinence', 'incorrect', 'increase', 'increase answered', 'increase done', 'increase dose', 'increased', 'increased bp', 'increased confusion', 'increasing', 'indigestion', 'indone', 'inf', 'inf answered', 'inf done', 'inf req', 'infdone', 'infected', 'infected toe', 'infection', 'infection ask', 'infection done', 'infection needs', 'infection wants', 'info', 'info doctor', 'info left', 'info needed', 'infodone', 'information', 'infusion', 'ingrown', 'inhaler', 'inhaler done', 'inhalers', 'inj', 'injection', 'injections', 'injury', 'inquiring', 'inr', 'inr answered', 'inr appointment', 'inr check', 'inr done', 'inr results', 'inrdone', 'ins', 'ins done', 'insect', 'insect bite', 'insomnia', 'insr', 'instead', 'instructions', 'insulin', 'insulin change', 'insulin done', 'insulin issue', 'insulin issues', 'insulin pump', 'insulin refill', 'insulin rx', 'insulin samples', 'insurance', 'insurance company', 'insurance cover', 'insurance done', 'interaction', 'intolerance', 'intouch', 'intouch done', 'invokamet', 'invokana', 'invokana mg', 'invokana samples', 'irbesartan', 'iron', 'irregular', 'irritated', 'irritation', 'issue', 'issue answered', 'issue done', 'issue getting', 'issue med', 'issue rx', 'issues', 'issues answered', 'issues cont', 'issues done', 'issues medication', 'issues meds', 'issues needs', 'issues req', 'itch', 'itching', 'itching done', 'itchy', 'iv', 'ivy', 'ivy answered', 'ivy done', 'janumet', 'januvia', 'jardiance', 'jardiance mg', 'jardiance samples', 'jaw', 'jaw pain', 'jentadueto', 'jentadueto samples', 'job', 'joint', 'joint pain', 'jury', 'jury duty', 'keep', 'keep appointment', 'keflex', 'kelly', 'kidney', 'kidney stone', 'kidney stones', 'kind', 'kindred', 'kindred hh', 'kit', 'knee', 'knee brace', 'knee pain', 'knee swelling', 'knot', 'knot neck', 'know', 'know doctor', 'kombiglyze', 'lab', 'lab ap', 'lab appointment', 'lab order', 'lab orders', 'lab question', 'lab questions', 'lab report', 'lab request', 'lab results', 'lab work', 'labcorp', 'labs', 'labs answered', 'labs ap', 'labs ape', 'labs appointment', 'labs doctor', 'labs done', 'labs drawn', 'labs faxed', 'labs mailed', 'labs needed', 'labs prior', 'labs tomorrow', 'labsdone', 'labwork', 'laceration', 'lack', 'lamisil', 'lancet', 'lancets', 'lancets done', 'lancets refill', 'landing', 'lantus', 'lantus refill', 'lantus rx', 'laryngitis', 'lasix', 'last', 'last night', 'last office', 'last seen', 'last tetanus', 'last week', 'last year', 'late', 'later', 'law', 'laxative', 'lb', 'lbp', 'le', 'le edema', 'leaking', 'leave', 'leave message', 'leave specimen', 'leave ua', 'leaving', 'lebauer', 'left', 'left ankle', 'left arm', 'left breast', 'left ear', 'left eye', 'left foot', 'left hand', 'left hip', 'left knee', 'left leg', 'left message', 'left shoulder', 'left side', 'leg', 'leg cramps', 'leg issues', 'leg pain', 'leg swelling', 'leg swollen', 'leg wound', 'legs', 'lesion', 'lesions', 'let', 'let know', 'lethargic', 'letter', 'letter jury', 'letter needed', 'levaquin', 'level', 'levels', 'levemir', 'levitra', 'levothyroxine', 'lexapro', 'lexapro done', 'liberty', 'lice', 'lid', 'lidocaine', 'lidoderm', 'life', 'lifeline', 'lift', 'lift chair', 'lightheaded', 'lightheadedness', 'lincare', 'line', 'line busy', 'linzess', 'lip', 'lipitor', 'lipitor done', 'lips', 'liquid', 'lisa', 'lisinopril', 'list', 'list done', 'little', 'livalo', 'liver', 'living', 'lle', 'lm', 'lm ap', 'lm cb', 'lm personal', 'lm vm', 'lmom', 'lmtbc', 'lmtc', 'lmtcb', 'lmtcbx', 'lmtrc', 'lmtrcx', 'lmx', 'local', 'local pharm', 'log', 'long', 'long term', 'longer', 'longer covered', 'look', 'looking', 'looks', 'loose', 'loose stools', 'lorazepam', 'lorazepam refill', 'losartan', 'losing', 'loss', 'loss appetite', 'lost', 'lots', 'lovaza', 'lovenox', 'low', 'low blood', 'low bp', 'low cbg', 'low grade', 'low pain', 'low pulse', 'low sugar', 'low sugars', 'lower', 'lower abd', 'lower leg', 'lower pain', 'lows', 'lumbar', 'lump', 'lump breast', 'lump neck', 'lunch', 'lunesta', 'lung', 'lungs', 'lyme', 'lymph', 'lymph node', 'lyrica', 'lyrica done', 'lyrica refill', 'lyrica rx', 'machine', 'macrobid', 'made', 'magic', 'magic mouthwash', 'magnesium', 'mail', 'mail labs', 'mail order', 'mailbox', 'mailbox full', 'mailed', 'maileddone', 'make', 'make ap', 'make app', 'make sure', 'making', 'malaria', 'mammo', 'mammo done', 'mammo order', 'mammo us', 'mammogram', 'management', 'manager', 'many', 'mass', 'mattress', 'mc', 'mcg', 'mcr', 'mde', 'meclizine', 'med', 'med adherence', 'med answered', 'med change', 'med changes', 'med clarification', 'med clearance', 'med concern', 'med concerns', 'med confusion', 'med covered', 'med day', 'med done', 'med dosage', 'med expense', 'med expensive', 'med increase', 'med interaction', 'med issue', 'med issues', 'med list', 'med pharm', 'med question', 'med questions', 'med ready', 'med refill', 'med refills', 'med request', 'med rerx', 'med rerxs', 'med rx', 'med side', 'meddone', 'medical', 'medical clearance', 'medical records', 'medication', 'medication adherance', 'medication adherenace', 'medication adherence', 'medication answered', 'medication change', 'medication changes', 'medication covered', 'medication done', 'medication dose', 'medication expensive', 'medication increase', 'medication issue', 'medication issues', 'medication list', 'medication question', 'medication questions', 'medication ready', 'medication refill', 'medication refills', 'medication request', 'medication requested', 'medication rx', 'medication sent', 'medication working', 'medications', 'medicine', 'meds', 'meds answered', 'meds done', 'meds new', 'meds travel', 'medsdone', 'megan', 'melissa', 'meloxicam', 'memory', 'memory issues', 'memory loss', 'mental', 'message', 'meter', 'metformin', 'metoprolol', 'mg', 'mg bid', 'mg done', 'mg samples', 'migraine', 'migraines', 'min', 'miralax', 'missed', 'missed ap', 'misty', 'mo', 'mobic', 'mole', 'mon', 'monday', 'monitor', 'monitor results', 'month', 'months', 'mood', 'morning', 'morningview', 'morphine', 'mother', 'motion', 'motion sickness', 'mouth', 'mouthwash', 'move', 'move ap', 'move appointment', 'moved', 'moving', 'mri', 'mri done', 'mri order', 'mri report', 'mri results', 'mrsa', 'msg', 'mth', 'much', 'much better', 'mucinex', 'mucus', 'multiple', 'multiple concerns', 'multiple issues', 'muscle', 'muscle aches', 'muscle done', 'muscle pain', 'muscle relaxer', 'muscle relaxor', 'muscle spasms', 'mutliple', 'mva', 'myalgias', 'myrbetriq', 'na', 'nail', 'name', 'name brand', 'namenda', 'nan', 'nasal', 'nasal congestion', 'nasal drainage', 'nasal drip', 'nasal spray', 'nausea', 'nausea answered', 'nausea diarrhea', 'nausea dizziness', 'nausea done', 'nausea vomiting', 'nausea vomitting', 'nauseated', 'nd', 'nd opinion', 'neb', 'nebulizer', 'neck', 'neck pain', 'neck req', 'neck shoulder', 'need', 'need abx', 'need another', 'need ap', 'need app', 'need appointment', 'need change', 'need clarification', 'need come', 'need copy', 'need ed', 'need er', 'need fax', 'need form', 'need fu', 'need get', 'need go', 'need handicap', 'need help', 'need hosp', 'need humana', 'need hydrocodone', 'need info', 'need information', 'need keep', 'need know', 'need lab', 'need labs', 'need letter', 'need make', 'need medication', 'need meds', 'need name', 'need new', 'need note', 'need office', 'need order', 'need orders', 'need ov', 'need pick', 'need prior', 'need ref', 'need referral', 'need refill', 'need refills', 'need refillsdone', 'need reschedule', 'need rx', 'need rxs', 'need see', 'need seen', 'need something', 'need speak', 'need talk', 'need updated', 'need verbal', 'need vo', 'needed', 'needed answered', 'needed asap', 'needed cough', 'needed doctor', 'needed done', 'needed ear', 'needed er', 'needed holwerda', 'needed leg', 'needed lmtc', 'needed monday', 'needed new', 'needed next', 'needed np', 'needed pain', 'needed paterson', 'needed perini', 'needed rash', 'needed shaw', 'needed sick', 'needed tisovec', 'needed today', 'needed tomorrow', 'needed week', 'neededdone', 'needing', 'needle', 'needles', 'needles done', 'needs', 'needs abx', 'needs adderall', 'needs another', 'needs ap', 'needs ape', 'needs app', 'needs appointment', 'needs changed', 'needs clarification', 'needs come', 'needs doctor', 'needs done', 'needs ear', 'needs ed', 'needs er', 'needs fl', 'needs form', 'needs forms', 'needs fu', 'needs get', 'needs gi', 'needs go', 'needs help', 'needs hosp', 'needs hospital', 'needs hydrocodone', 'needs info', 'needs insulin', 'needs know', 'needs lab', 'needs labs', 'needs letter', 'needs medication', 'needs meds', 'needs mri', 'needs new', 'needs norco', 'needs note', 'needs office', 'needs order', 'needs orders', 'needs ov', 'needs pain', 'needs prior', 'needs prolia', 'needs reclast', 'needs referral', 'needs refill', 'needs refills', 'needs refillsdone', 'needs reschedule', 'needs rx', 'needs rxs', 'needs samples', 'needs schedule', 'needs see', 'needs seen', 'needs something', 'needs test', 'needs toc', 'needs verbal', 'needs vo', 'neg', 'neg dvt', 'negative', 'negative dvt', 'nerve', 'nerve pain', 'nerves', 'neuro', 'neuro referral', 'neurologist', 'neurology', 'neuropathy', 'never', 'never got', 'new', 'new ap', 'new appointment', 'new bp', 'new cpap', 'new glucometer', 'new med', 'new medication', 'new meter', 'new order', 'new pharm', 'new pharmacy', 'new pump', 'new referral', 'new rx', 'nexium', 'next', 'next step', 'next steps', 'next week', 'next wk', 'nexuim', 'night', 'nipple', 'node', 'nodule', 'non', 'none', 'nonproductive', 'norco', 'norco rx', 'normal', 'nose', 'nose bleed', 'nose bleeds', 'nose done', 'nosebleeds', 'note', 'note faxed', 'note work', 'notes', 'notified', 'nov', 'novolog', 'novolog rx', 'novolog samples', 'np', 'npi', 'ns', 'numb', 'number', 'numbers', 'numbness', 'nurse', 'nursing', 'nv', 'nvd', 'nystatin', 'oak', 'oak done', 'occupational', 'occupational therapy', 'odor', 'ofc', 'office', 'office note', 'office visit', 'oil', 'ointment', 'old', 'omeprazole', 'omnipod', 'oncologist', 'oncology', 'one', 'one week', 'onetouch', 'ongoing', 'oot', 'op', 'opana', 'opinion', 'opthal', 'opthal referral', 'options', 'optum', 'optum rx', 'optumrx', 'oral', 'order', 'order answered', 'order clarification', 'order done', 'order faxed', 'order given', 'order health', 'order hospice', 'order labs', 'order mammo', 'order needed', 'order ot', 'order pharm', 'order physical', 'order request', 'order requested', 'order sent', 'order signed', 'order ua', 'orderdone', 'ordered', 'orders', 'orders answered', 'orders done', 'orders health', 'orders hospice', 'orders needed', 'orders occupational', 'orders physical', 'orders requested', 'ortho', 'ortho ap', 'ortho appointment', 'ortho referral', 'orthopedic', 'orthostatic', 'ot', 'ot order', 'ot orders', 'ot verbal', 'otc', 'ov', 'ov needed', 'ov req', 'ov requested', 'ovdone', 'overnight', 'oxycodone', 'oxycodone refill', 'oxygen', 'pa', 'pa needed', 'pain', 'pain answered', 'pain ap', 'pain arm', 'pain better', 'pain chest', 'pain days', 'pain doctor', 'pain done', 'pain fall', 'pain fever', 'pain going', 'pain head', 'pain left', 'pain leg', 'pain legs', 'pain lmtcb', 'pain management', 'pain med', 'pain medication', 'pain meds', 'pain nausea', 'pain neck', 'pain needs', 'pain ortho', 'pain post', 'pain referral', 'pain req', 'pain right', 'pain rx', 'pain shoulder', 'pain side', 'pain sp', 'pain swelling', 'pain wants', 'painanswered', 'paindone', 'painful', 'pains', 'pallative', 'pallative care', 'palpatations', 'palpations', 'palpitations', 'panic', 'panic attacks', 'panswered', 'pantoprazole', 'pap', 'paper', 'papers', 'paperwork', 'paracentesis', 'part', 'passed', 'passed away', 'past', 'patch', 'patch done', 'patches', 'patches done', 'pateint', 'pateint co', 'pateint questions', 'pateint wants', 'paterson', 'patients', 'patients husband', 'patients insurance', 'patients mother', 'patients pharmacy', 'patients questions', 'patients rx', 'patients sister', 'patients son', 'patients wants', 'patients wife', 'patietn', 'patinet', 'patinet co', 'patinet needs', 'patinet questions', 'patinet wants', 'paxil', 'pay', 'pback', 'pback pain', 'pbp', 'pcn', 'pcough', 'pcough answered', 'pcp', 'pe', 'pe cough', 'pe labs', 'pe reg', 'pe sinus', 'pe wants', 'peabx', 'peap', 'peer', 'peer peer', 'pelevated', 'pelvic', 'pen', 'pen needle', 'pen needles', 'pending', 'pens', 'per', 'per doctor', 'per ins', 'per insurance', 'percocet', 'perini', 'perles', 'perry', 'persistant', 'persistant cough', 'persistent', 'persistent cough', 'personal', 'personal vm', 'perx', 'pestill', 'pet', 'pewhat', 'pft', 'pharm', 'pharm calling', 'pharm change', 'pharm didnt', 'pharm done', 'pharmacy', 'pharmacy done', 'pharmacy needs', 'phelm', 'phenergan', 'phentermine', 'phleghm', 'physical', 'physical therapy', 'pick', 'pickup', 'piedmont', 'pill', 'pills', 'pink', 'pink eye', 'plab', 'plab results', 'placard', 'place', 'plan', 'plavix', 'pls', 'pls reg', 'pmed', 'pn', 'pna', 'pna shot', 'pna vaccine', 'pneumonia', 'pneumonia vaccine', 'pneumovax', 'poa', 'podiatrist', 'podiatry', 'podiatry referral', 'pois', 'pois ivy', 'poison', 'poison ivy', 'poison oak', 'popping', 'portable', 'portal', 'positive', 'positive flu', 'poss', 'possible', 'possible flu', 'possible shingles', 'possible sinus', 'possible strep', 'possible stroke', 'possible uti', 'post', 'post fall', 'post mva', 'post surgery', 'potassium', 'power', 'ppain', 'ppd', 'ppw', 'ppwk', 'practice', 'pradaxa', 'praluent', 'pravastatin', 'pre', 'pre op', 'pred', 'prednisone', 'prednisone done', 'pregnant', 'premarin', 'preop', 'prescribe', 'prescription', 'pressure', 'pressure answered', 'pressure congestion', 'pressure done', 'pressure medication', 'pressure problems', 'pressure readings', 'previous', 'previsit', 'prevnar', 'prevnar vaccine', 'prilosec', 'primary', 'primemail', 'print', 'printed', 'prior', 'prior ap', 'prior appointment', 'prior auth', 'prior authorization', 'prior dental', 'pristiq', 'prn', 'proair', 'probable', 'probiotic', 'problem', 'problems', 'procedure', 'productive', 'productive cough', 'program', 'prolia', 'prolia injection', 'prolia shot', 'promethazine', 'prophylactic', 'prophylactic tamiflu', 'prostate', 'protein', 'protonix', 'provigil', 'prozac', 'prq', 'psa', 'psinus', 'psy', 'psych', 'ptinr', 'ptinr results', 'ptot', 'pts', 'pu', 'pulled', 'pulled muscle', 'pulm', 'pulm referral', 'pulmonary', 'pulse', 'pump', 'pump start', 'pump supplies', 'pump training', 'pump upload', 'purple', 'pus', 'put', 'qd', 'qsymia', 'qualify', 'quantity', 'quesiton', 'quesiton rt', 'quest', 'quest reg', 'question', 'question appointment', 'question blood', 'question doctor', 'question done', 'question flu', 'question labs', 'question medication', 'question referral', 'question rt', 'question rx', 'questiondone', 'questions', 'questions answered', 'questions blood', 'questions doctor', 'questions done', 'questions labs', 'questions medications', 'questions meds', 'questions referral', 'questions rt', 'questions rx', 'questionsdone', 'qvar', 'qysmia', 'ra', 'rabies', 'racing', 'radiating', 'ramipril', 'rankin', 'rapid', 'rash', 'rash answered', 'rash breast', 'rash done', 'rate', 'rc', 'rcvd', 'rd', 'reach', 'reaction', 'read', 'reading', 'readings', 'readings answered', 'readings done', 'readingsanswered', 'readingsdone', 'ready', 'ready notified', 'ready pickup', 'ready print', 'ready send', 'ready sent', 'ready sign', 'really', 'really bad', 'reason', 'rec', 'reccomendation', 'recd', 'receive', 'received', 'recent', 'recent labs', 'recert', 'recheck', 'reclast', 'recommend', 'recommendation', 'recommendations', 'recommended', 'recommends', 'record', 'records', 'recs', 'rectal', 'rectal bleeding', 'rectum', 'recurrent', 'recurrent uti', 'red', 'red swollen', 'redness', 'ref', 'ref done', 'refax', 'refaxed', 'refer', 'referal', 'referral', 'referral answered', 'referral ap', 'referral cards', 'referral derm', 'referral doctor', 'referral done', 'referral ent', 'referral eye', 'referral gi', 'referral humana', 'referral issue', 'referral need', 'referral needed', 'referral neuro', 'referral neurologist', 'referral ortho', 'referral orthopedic', 'referral pain', 'referral request', 'referral requested', 'referral see', 'referral status', 'referral urology', 'referraldone', 'referrals', 'referrals done', 'referred', 'refil', 'refill', 'refill adderall', 'refill adderrall', 'refill ambien', 'refill answered', 'refill ap', 'refill bp', 'refill clonazepam', 'refill cough', 'refill day', 'refill denied', 'refill done', 'refill early', 'refill gabapentin', 'refill humalog', 'refill hydrocodone', 'refill insulin', 'refill issue', 'refill issues', 'refill lexapro', 'refill lorazepam', 'refill lyrica', 'refill medication', 'refill meds', 'refill metformin', 'refill need', 'refill needed', 'refill new', 'refill omeprazole', 'refill oxycodone', 'refill pain', 'refill prednisone', 'refill question', 'refill ready', 'refill request', 'refill requested', 'refill ritalin', 'refill rx', 'refill samples', 'refill sent', 'refill strips', 'refill synthroid', 'refill test', 'refill tramadol', 'refill valtrex', 'refill xanax', 'refill zolpidem', 'refilldone', 'refilled', 'refilled done', 'refilleddone', 'refills', 'refills done', 'refills medications', 'refills needed', 'refills new', 'refills sent', 'refillsdone', 'reflux', 'refusal', 'refused', 'refusing', 'reg', 'reg meds', 'reg rx', 'regarding', 'reglan', 'rehab', 'rehab fu', 'reifll', 'relaxer', 'relaxor', 'relay', 'relay neurology', 'release', 'removal', 'removed', 'repatha', 'repeat', 'replacement', 'report', 'report ct', 'report negative', 'reports', 'req', 'req abx', 'req abxdone', 'req ap', 'req appointment', 'req cough', 'req diflucan', 'req doctor', 'req med', 'req medication', 'req meds', 'req muscle', 'req ov', 'req pa', 'req pain', 'req pred', 'req referral', 'req return', 'req rx', 'req rxdone', 'req sick', 'req speak', 'req tamiflu', 'req tomorrow', 'req zpak', 'request', 'request abx', 'request answered', 'request cough', 'request doctor', 'request done', 'request labs', 'request med', 'request medication', 'request meds', 'request office', 'request ov', 'request pain', 'request referral', 'request refill', 'request refills', 'request tamiflu', 'request vo', 'requested', 'requested answered', 'requested doctor', 'requested done', 'requested left', 'requested tomorrow', 'requesteddone', 'requesting', 'requesting abx', 'requesting ap', 'requesting appointment', 'requesting doctor', 'requesting lab', 'requesting labs', 'requesting medication', 'requesting pain', 'requesting referral', 'requesting rx', 'requesting samples', 'requesting vo', 'requests', 'requip', 'rerx', 'rerx done', 'rerxs', 'rerxs done', 'reschedule', 'reschedule ap', 'reschedule ape', 'reschedule app', 'reschedule appointment', 'rescheduled', 'resend', 'resend rx', 'resent', 'resolved', 'resp', 'respiratory', 'respite', 'response', 'restart', 'restless', 'result', 'results', 'results answered', 'results chart', 'results doctor', 'results done', 'results labs', 'resultsdone', 'resume', 'retina', 'return', 'return reg', 'returned', 'returning', 'review', 'reviewed', 'rf', 'rf adderall', 'rf ambien', 'rf hydrocodone', 'rf pain', 'rf ritalin', 'rheum', 'rib', 'rib pain', 'ribs', 'right', 'right arm', 'right breast', 'right ear', 'right eye', 'right foot', 'right hand', 'right hip', 'right knee', 'right leg', 'right shoulder', 'right side', 'ringing', 'ringing ears', 'ritalin', 'ritalin done', 'ritalin refill', 'river', 'river landing', 'rlq', 'rls', 'rn', 'robaxin', 'room', 'round', 'rpatient', 'rq', 'rq additional', 'rq ap', 'rq copy', 'rq doctor', 'rq lab', 'rq labs', 'rq letter', 'rq medication', 'rq office', 'rq order', 'rq orders', 'rq ov', 'rq ref', 'rq referral', 'rq refill', 'rq rx', 'rq vo', 'rquestion', 'rrx', 'rs', 'rs ap', 'rs appointment', 'rs lab', 'rs toc', 'rt', 'rt appointment', 'rt blood', 'rt fall', 'rt labs', 'rt referral', 'rt rx', 'rt vaccine', 'rtc', 'rtn', 'rtn requested', 'rtned', 'running', 'running high', 'runny', 'runny nose', 'ruq', 'rwhat', 'rwhat recommend', 'rx', 'rx ambien', 'rx answered', 'rx anxiety', 'rx change', 'rx cialis', 'rx cipro', 'rx clarification', 'rx cost', 'rx cough', 'rx coughing', 'rx covered', 'rx done', 'rx expensive', 'rx eye', 'rx faxed', 'rx fever', 'rx flu', 'rx generic', 'rx hydrocodone', 'rx insulin', 'rx issue', 'rx issues', 'rx labs', 'rx lyrica', 'rx mailed', 'rx medication', 'rx muscle', 'rx nausea', 'rx needed', 'rx needs', 'rx new', 'rx pain', 'rx pen', 'rx pharm', 'rx pharmacy', 'rx prednisone', 'rx printed', 'rx question', 'rx questions', 'rx ready', 'rx refill', 'rx refills', 'rx reifll', 'rx request', 'rx samples', 'rx sent', 'rx shingles', 'rx sinus', 'rx sleep', 'rx sore', 'rx strips', 'rx synthroid', 'rx tamiflu', 'rx tramadol', 'rx uti', 'rx viagra', 'rx xanax', 'rx yeast', 'rx zpack', 'rxdone', 'rxhold', 'rxlm', 'rxn', 'rxs', 'rxs done', 'rxs needed', 'rxs ready', 'rxs sent', 'said', 'sample', 'samples', 'samples done', 'samples eliquis', 'samples humalog', 'samples insulin', 'samples invokana', 'samples janumet', 'samples januvia', 'samples jardiance', 'samples novolog', 'samples ready', 'samples refill', 'samples rx', 'samples synthroid', 'samples toujeo', 'samplesdone', 'samplesrx', 'saturday', 'save', 'savings', 'savings card', 'saw', 'says', 'scabies', 'scalp', 'scan', 'scan results', 'sche', 'sched', 'schedule', 'schedule appointment', 'scheduled', 'scheduling', 'school', 'sciatic', 'sciatica', 'sciatica pain', 'scooter', 'scratch', 'scratchy', 'scratchy throat', 'screening', 'scri', 'scri done', 'script', 'scripts', 'se', 'sea', 'second', 'second opinion', 'see', 'see additional', 'see doctor', 'see gi', 'see note', 'see today', 'seeing', 'seen', 'seen doctor', 'seen since', 'seen today', 'seizure', 'send', 'send med', 'send medication', 'send rx', 'sending', 'sensation', 'sent', 'sent done', 'sent notified', 'sent pharm', 'sent pharmacy', 'sent wrong', 'seroquel', 'sertraline', 'service', 'services', 'set', 'setting', 'settings', 'setup', 'several', 'several issues', 'severe', 'severe pain', 'sh', 'sh sick', 'shaking', 'shaky', 'shanon', 'sharp', 'shaw', 'shaw done', 'shingle', 'shingles', 'shingles done', 'shingles pain', 'shingles shot', 'shingles vaccine', 'shingrix', 'shob', 'shoe', 'shoes', 'short', 'short supply', 'short term', 'shortness', 'shortness breath', 'shot', 'shotdone', 'shots', 'shoulder', 'shoulder pain', 'show', 'showed', 'showfety', 'si', 'sick', 'sick answered', 'sick done', 'sick needs', 'sick recommend', 'sick req', 'sick wants', 'sickness', 'side', 'side effect', 'side effects', 'side face', 'side pain', 'sided', 'sided pain', 'sign', 'signed', 'simvastatin', 'since', 'singulair', 'sinus', 'sinus answered', 'sinus congestion', 'sinus cough', 'sinus done', 'sinus drainage', 'sinus headache', 'sinus inf', 'sinus infection', 'sinus issues', 'sinus pain', 'sinus pressure', 'sinus problems', 'sinus symptoms', 'sinuses', 'sinusitis', 'sister', 'site', 'skilled', 'skin', 'skin tear', 'skin test', 'sleep', 'sleep aid', 'sleep answered', 'sleep apnea', 'sleep issues', 'sleep med', 'sleep medication', 'sleep study', 'sleeping', 'sleeping done', 'sleeping medication', 'sleepy', 'small', 'smell', 'smoking', 'sn', 'sneezing', 'snf', 'sob', 'soc', 'social', 'social worker', 'soliqua', 'solis', 'someone', 'something', 'something cough', 'something done', 'something else', 'something help', 'something nausea', 'something pain', 'something sleep', 'something stronger', 'son', 'son calling', 'son concerned', 'son questions', 'soon', 'sooner', 'sooner appointment', 'sore', 'sore throat', 'soreness', 'sores', 'south', 'sp', 'spasm', 'spasms', 'speak', 'speak doctor', 'spec', 'specialist', 'specimen', 'speech', 'speech therapy', 'spells', 'spider', 'spider bite', 'spine', 'spiriva', 'spoke', 'spoke ap', 'spoke hospice', 'spoke nurse', 'spoke order', 'spoke reg', 'spoke rx', 'spoke rxs', 'spoke samples', 'spoke wife', 'spot', 'spots', 'spouse', 'spouse calling', 'spray', 'spreading', 'spring', 'ss', 'ss wants', 'st', 'st congestion', 'st cough', 'st done', 'st fever', 'st req', 'standing', 'staple', 'staple removal', 'start', 'start appointment', 'started', 'starting', 'stat', 'states', 'statin', 'stating', 'status', 'stay', 'std', 'step', 'steph', 'stephanie', 'steps', 'steroid', 'steroid injection', 'steroids', 'stiff', 'stiff neck', 'still', 'still co', 'still cough', 'still coughing', 'still elevated', 'still feeling', 'still high', 'still issues', 'still need', 'still pain', 'still sick', 'still swollen', 'still uti', 'sting', 'stitch', 'stitch removal', 'stitches', 'stockings', 'stomach', 'stomach bug', 'stomach issues', 'stomach pain', 'stomach pains', 'stomach problems', 'stomach upset', 'stone', 'stones', 'stool', 'stool cards', 'stool kit', 'stool sample', 'stool test', 'stools', 'stop', 'stopped', 'stopping', 'strength', 'strep', 'strep done', 'strep swab', 'strep test', 'strep throat', 'stress', 'stress test', 'strip', 'strip rx', 'strips', 'strips done', 'strips lancets', 'strips refill', 'strips rx', 'stroke', 'strong', 'stronger', 'stronger pain', 'stuck', 'study', 'study done', 'study question', 'stuff', 'stuffiness', 'stung', 'sty', 'stye', 'sub', 'sue', 'sugar', 'sugar answered', 'sugar issues', 'sugar problems', 'sugar readings', 'sugar readingsdone', 'sugars', 'sugars done', 'sugars high', 'sugg', 'suggestion', 'suggestions', 'summary', 'sun', 'sunday', 'supplement', 'supplements', 'supplies', 'supplies done', 'supplies refill', 'supply', 'supply done', 'supply medication', 'supposed', 'sure', 'surg', 'surg clearance', 'surgeon', 'surgery', 'surgery clearance', 'surgical', 'surgical clearance', 'suture', 'suture removal', 'sutures', 'sw', 'swab', 'swallow', 'swallowing', 'sweating', 'sweats', 'swelling', 'swelling done', 'swelling feet', 'swelling legs', 'swelling needs', 'swelling pain', 'switch', 'swollen', 'swollen gland', 'swollen glands', 'swollen painful', 'swollen sore', 'sx', 'sx info', 'sxs', 'sxs answered', 'sxs done', 'sxs req', 'symbicort', 'symptoms', 'symptoms answered', 'symptoms done', 'symptoms wants', 'symptons', 'symtpoms', 'syncopal', 'syncopal episode', 'syncope', 'synjardy', 'synthroid', 'synthroid direct', 'synthroid done', 'synthroid dose', 'synthroid mcg', 'synthroid refill', 'synthroid rx', 'synthroid samples', 'syringes', 'syrup', 'syrup done', 'tablets', 'tachycardia', 'take', 'take meds', 'taking', 'taking meds', 'talk', 'talk doctor', 'tamiflu', 'tamiflu done', 'taper', 'taste', 'tb', 'tb skin', 'tb test', 'td', 'tdap', 'tear', 'teeth', 'temazepam', 'temp', 'tender', 'tenderness', 'term', 'tessalon', 'tessalon perles', 'test', 'test done', 'test results', 'test strip', 'test strips', 'tested', 'testicle', 'testicular', 'testicular pain', 'testing', 'testing supplies', 'testo', 'testosterone', 'tests', 'tetanus', 'th', 'therapist', 'therapy', 'thick', 'thigh', 'things', 'think', 'think uti', 'thinks', 'thinner', 'thn', 'throat', 'throat answered', 'throat congestion', 'throat cough', 'throat done', 'throat ear', 'throat fever', 'throat sinus', 'thrush', 'thrush done', 'thumb', 'thumb pain', 'thurs', 'thursday', 'thyroid', 'thyroid labs', 'thyroid medication', 'thyroid us', 'tia', 'tick', 'tick bite', 'tick bites', 'tier', 'tier exception', 'tight', 'tightness', 'tightness chest', 'til', 'time', 'times', 'tingling', 'tired', 'tisovec', 'titer', 'tkr', 'toc', 'toc ap', 'toc appointment', 'toc dc', 'toc done', 'toc note', 'toc visit', 'today', 'today doctor', 'today tomorrow', 'todaydone', 'todays', 'todays appointment', 'toe', 'toe pain', 'toenail', 'toenails', 'toes', 'told', 'tolerate', 'tom', 'tomorrow', 'tomorrow doctor', 'tongue', 'tonight', 'took', 'tooth', 'top', 'toprol', 'touch', 'toujeo', 'toujeo samples', 'town', 'tract', 'tract infection', 'tradjenta', 'training', 'tramadol', 'tramadol done', 'tramadol refill', 'tramadol rx', 'tramdol', 'transfer', 'travel', 'travel done', 'travel letter', 'travels', 'trazodone', 'treated', 'treatment', 'tresiba', 'tresiba samples', 'triad', 'triad imaging', 'tried', 'trip', 'trip done', 'trouble', 'trouble breathing', 'trouble sleeping', 'trulicity', 'try', 'trying', 'trying get', 'tsh', 'tube', 'tues', 'tunnel', 'tussionex', 'twice', 'two', 'tx', 'tylenol', 'type', 'ua', 'ua done', 'ua results', 'ua uti', 'uc', 'uhc', 'uhc compass', 'uhc mcr', 'uhc medication', 'uhc referral', 'ulcer', 'ulcers', 'uloric', 'ultrasound', 'unable', 'unable leave', 'unable lm', 'unable reach', 'unc', 'understand', 'understands', 'unsteady', 'upcoming', 'upcoming ap', 'upcoming appointment', 'upcoming surgery', 'update', 'update doctor', 'update done', 'updated', 'updatedone', 'upload', 'upper', 'upset', 'upset stomach', 'ur', 'ur sx', 'urgency', 'urgent', 'urgent care', 'uri', 'uri done', 'urinalysis', 'urinary', 'urinary frequency', 'urinary issues', 'urinating', 'urination', 'urine', 'urine culture', 'urine results', 'urine sample', 'uro', 'urologist', 'urology', 'urology referral', 'us', 'us done', 'us order', 'us results', 'use', 'using', 'uti', 'uti answered', 'uti coming', 'uti done', 'uti needs', 'uti req', 'uti ss', 'uti sx', 'uti sxs', 'uti symptoms', 'uti wants', 'utidone', 'va', 'vaccine', 'vaccine done', 'vaccines', 'vaginal', 'vaginal bleeding', 'vaginal itching', 'valium', 'valsartan', 'valtrex', 'vascepa', 'vascular', 'vax', 'vein', 'verbal', 'verbal given', 'verbal hh', 'verbal needed', 'verbal order', 'verbal orders', 'verbal ot', 'verbals', 'verification', 'verify', 'verify medication', 'verify meds', 'verify rx', 'verio', 'vertigo', 'vertigo done', 'vesicare', 'vgo', 'viagra', 'viagra done', 'viagra rx', 'vial', 'vicodin', 'victoria', 'victoza', 'viral', 'virus', 'vision', 'visit', 'visit cathey', 'visit cough', 'visit doctor', 'visit done', 'visit monday', 'visit needed', 'visit next', 'visit note', 'visit requested', 'visit today', 'visit tomorrow', 'visit week', 'visitdone', 'visits', 'vit', 'vitamin', 'vm', 'vo', 'vo continue', 'vo extend', 'vo given', 'vo hh', 'vo ot', 'voice', 'voicemail', 'voltaren', 'voltaren gel', 'vomiting', 'vomiting diarrhea', 'vomitting', 'vomitting dirrhea', 'vs', 'vvs', 'vytorin', 'vyvanse', 'wait', 'waiting', 'wake', 'walgreens', 'walk', 'walk labs', 'walk ua', 'walker', 'walkin', 'walkin flu', 'walkin ua', 'walking', 'walking ua', 'walmart', 'want', 'want app', 'want come', 'want go', 'want know', 'want make', 'want see', 'wanted', 'wanted let', 'wanting', 'wants', 'wants abx', 'wants another', 'wants ap', 'wants app', 'wants appointment', 'wants cb', 'wants change', 'wants chest', 'wants come', 'wants copy', 'wants ct', 'wants different', 'wants discuss', 'wants doctor', 'wants done', 'wants get', 'wants go', 'wants increase', 'wants know', 'wants lab', 'wants labs', 'wants make', 'wants medication', 'wants mri', 'wants office', 'wants opinion', 'wants order', 'wants ov', 'wants pain', 'wants pick', 'wants referral', 'wants refill', 'wants results', 'wants rx', 'wants samples', 'wants schedule', 'wants see', 'wants seen', 'wants something', 'wants speak', 'wants start', 'wants talk', 'wants test', 'wants us', 'wants xray', 'wants zpak', 'warfarin', 'warm', 'wash', 'watery', 'wax', 'wax removal', 'way', 'wc', 'weak', 'weakness', 'wed', 'week', 'week doctor', 'weekend', 'weeks', 'weeping', 'weight', 'weight gain', 'weight loss', 'weights', 'well', 'well done', 'wellbutrin', 'wellbutrin done', 'wellspring', 'went', 'went ed', 'went er', 'wf', 'wg', 'wheelchair', 'wheeze', 'wheezing', 'wheezing cough', 'wheezing done', 'white', 'wife', 'wife calling', 'wife questions', 'wife wants', 'wifes', 'wk', 'wks', 'wl', 'wm', 'wo', 'wont', 'wont cover', 'work', 'work done', 'work note', 'worker', 'working', 'working done', 'worse', 'worse done', 'worsening', 'would', 'would doctor', 'would rx', 'wound', 'wound care', 'wound center', 'wrist', 'wrist pain', 'write', 'written', 'wrong', 'wrong pharm', 'wt', 'wt gain', 'wt loss', 'xanax', 'xanax done', 'xanax refill', 'xanax rx', 'xarelto', 'xarelto samples', 'xigduo', 'xr', 'xray', 'xray results', 'xrays', 'year', 'years', 'yeast', 'yeast answered', 'yeast done', 'yeast inf', 'yeast infection', 'yellow', 'yesterday', 'yet', 'zantac', 'zetia', 'zocor', 'zofran', 'zoloft', 'zolpidem', 'zostavax', 'zpack', 'zpak', 'zpak done', 'zpakdone']\n"
     ]
    }
   ],
   "source": [
    "feature_names_summary = tfidf_summary_vectorizer.get_feature_names()\n",
    "print(len(feature_names_summary))\n",
    "print(feature_names_summary[:5000])"
   ]
  },
  {
   "cell_type": "code",
   "execution_count": 51,
   "metadata": {},
   "outputs": [
    {
     "data": {
      "text/plain": [
       "(86554, 4000)"
      ]
     },
     "execution_count": 51,
     "metadata": {},
     "output_type": "execute_result"
    }
   ],
   "source": [
    "df_data = pd.DataFrame(dense_data)\n",
    "df_summary = pd.DataFrame(dense_summary)\n",
    "df_summary.shape"
   ]
  },
  {
   "cell_type": "code",
   "execution_count": null,
   "metadata": {
    "collapsed": true
   },
   "outputs": [],
   "source": []
  },
  {
   "cell_type": "code",
   "execution_count": 52,
   "metadata": {
    "collapsed": true
   },
   "outputs": [],
   "source": [
    "tfidf_data_vectorizer = TfidfVectorizer(ngram_range=(1,2),norm=\"l2\",max_features= 5000)\n",
    "tfidf_test_data = tfidf_data_vectorizer.fit_transform(test_data1[\"data\"])\n",
    "dense_test_data = tfidf_test_data.todense()\n",
    "tfidf_summary_vectorizer = TfidfVectorizer(ngram_range=(1,2),norm=\"l2\",max_features= 4000)\n",
    "tfidf_test_summary = tfidf_summary_vectorizer.fit_transform(test_data1[\"summary\"])\n",
    "dense_test_summary = tfidf_test_summary.todense()\n",
    "df_test_data = pd.DataFrame(dense_test_data)\n",
    "df_test_summary = pd.DataFrame(dense_test_summary)"
   ]
  },
  {
   "cell_type": "code",
   "execution_count": 53,
   "metadata": {
    "collapsed": true
   },
   "outputs": [],
   "source": [
    "df_test_data = pd.DataFrame(dense_test_data)\n",
    "df_test_summary = pd.DataFrame(dense_test_summary)"
   ]
  },
  {
   "cell_type": "code",
   "execution_count": 54,
   "metadata": {},
   "outputs": [
    {
     "data": {
      "text/plain": [
       "(2279, 9000)"
      ]
     },
     "execution_count": 54,
     "metadata": {},
     "output_type": "execute_result"
    }
   ],
   "source": [
    "preprocessed_test_data=pd.concat([df_test_data,df_test_summary],axis=1)\n",
    "preprocessed_test_data.shape"
   ]
  },
  {
   "cell_type": "code",
   "execution_count": null,
   "metadata": {
    "collapsed": true
   },
   "outputs": [],
   "source": []
  },
  {
   "cell_type": "code",
   "execution_count": 55,
   "metadata": {
    "collapsed": true
   },
   "outputs": [],
   "source": [
    "preprocessed_data=pd.concat([df_data,df_summary],axis=1)"
   ]
  },
  {
   "cell_type": "code",
   "execution_count": 56,
   "metadata": {},
   "outputs": [
    {
     "data": {
      "text/plain": [
       "(86554, 9000)"
      ]
     },
     "execution_count": 56,
     "metadata": {},
     "output_type": "execute_result"
    }
   ],
   "source": [
    "preprocessed_data.shape"
   ]
  },
  {
   "cell_type": "code",
   "execution_count": 57,
   "metadata": {},
   "outputs": [
    {
     "data": {
      "text/plain": [
       "Int64Index([   0,    1,    2,    3,    4,    5,    6,    7,    8,    9,\n",
       "            ...\n",
       "            3990, 3991, 3992, 3993, 3994, 3995, 3996, 3997, 3998, 3999],\n",
       "           dtype='int64', length=9000)"
      ]
     },
     "execution_count": 57,
     "metadata": {},
     "output_type": "execute_result"
    }
   ],
   "source": [
    "preprocessed_data.columns"
   ]
  },
  {
   "cell_type": "code",
   "execution_count": 66,
   "metadata": {
    "collapsed": true
   },
   "outputs": [],
   "source": [
    "train_y=actual_data1.categories\n",
    "TEST_Y=test_data1.categories"
   ]
  },
  {
   "cell_type": "code",
   "execution_count": 59,
   "metadata": {
    "collapsed": true
   },
   "outputs": [],
   "source": [
    "X_train_tfidf, X_test_tfidf, Y_train_tfidf, Y_test_tfidf = train_test_split(preprocessed_data, train_y, test_size=0.20, random_state=42)"
   ]
  },
  {
   "cell_type": "code",
   "execution_count": 60,
   "metadata": {
    "collapsed": true
   },
   "outputs": [],
   "source": [
    "import time\n",
    "from sklearn.metrics import roc_auc_score\n",
    "from sklearn.ensemble import RandomForestClassifier"
   ]
  },
  {
   "cell_type": "code",
   "execution_count": 61,
   "metadata": {},
   "outputs": [
    {
     "name": "stdout",
     "output_type": "stream",
     "text": [
      "Training took 386.258 seconds\n"
     ]
    }
   ],
   "source": [
    "start = time.time()\n",
    "model_random = RandomForestClassifier(n_estimators = 1000,n_jobs = -1,random_state =1,max_features = \"auto\",max_depth=30 ,min_samples_leaf = 50)\n",
    "model_fit = model_random.fit(X_train_tfidf,Y_train_tfidf)\n",
    "print(\"Training took {:0.3f} seconds\".format(time.time()-start))"
   ]
  },
  {
   "cell_type": "code",
   "execution_count": 62,
   "metadata": {},
   "outputs": [
    {
     "data": {
      "text/plain": [
       "array(['APPOINTMENTS', 'ASK_A_DOCTOR', 'APPOINTMENTS', ...,\n",
       "       'PRESCRIPTION', 'ASK_A_DOCTOR', 'ASK_A_DOCTOR'], dtype=object)"
      ]
     },
     "execution_count": 62,
     "metadata": {},
     "output_type": "execute_result"
    }
   ],
   "source": [
    "pred_test = model_fit.predict(X_test_tfidf)\n",
    "pred_test"
   ]
  },
  {
   "cell_type": "code",
   "execution_count": 63,
   "metadata": {},
   "outputs": [
    {
     "name": "stdout",
     "output_type": "stream",
     "text": [
      "0.7225463578071746\n"
     ]
    }
   ],
   "source": [
    "print(accuracy_score(Y_test_tfidf,pred_test))"
   ]
  },
  {
   "cell_type": "code",
   "execution_count": 64,
   "metadata": {},
   "outputs": [
    {
     "data": {
      "text/plain": [
       "array(['ASK_A_DOCTOR', 'ASK_A_DOCTOR', 'ASK_A_DOCTOR', ...,\n",
       "       'ASK_A_DOCTOR', 'ASK_A_DOCTOR', 'ASK_A_DOCTOR'], dtype=object)"
      ]
     },
     "execution_count": 64,
     "metadata": {},
     "output_type": "execute_result"
    }
   ],
   "source": [
    "pred_test_final = model_fit.predict(preprocessed_test_data)\n",
    "pred_test_final"
   ]
  },
  {
   "cell_type": "code",
   "execution_count": 67,
   "metadata": {},
   "outputs": [
    {
     "name": "stdout",
     "output_type": "stream",
     "text": [
      "0.419482229047828\n"
     ]
    }
   ],
   "source": [
    "print(accuracy_score(TEST_Y,pred_test_final))"
   ]
  },
  {
   "cell_type": "code",
   "execution_count": null,
   "metadata": {
    "collapsed": true
   },
   "outputs": [],
   "source": []
  },
  {
   "cell_type": "code",
   "execution_count": null,
   "metadata": {
    "collapsed": true
   },
   "outputs": [],
   "source": []
  },
  {
   "cell_type": "code",
   "execution_count": null,
   "metadata": {
    "collapsed": true
   },
   "outputs": [],
   "source": []
  },
  {
   "cell_type": "code",
   "execution_count": null,
   "metadata": {
    "collapsed": true
   },
   "outputs": [],
   "source": []
  },
  {
   "cell_type": "code",
   "execution_count": null,
   "metadata": {
    "collapsed": true
   },
   "outputs": [],
   "source": [
    "tokenizer_summary = Tokenizer(num_words=10000)\n",
    "tokenizer_summary.fit_on_texts(actual_data1.summary)\n",
    "train_summary_x = tokenizer_summary.texts_to_sequences(actual_data1.summary)\n",
    "train_summary_x = pad_sequences(train_summary_x, maxlen=100)\n",
    "train_summary_x=pd.DataFrame(train_summary_x)"
   ]
  },
  {
   "cell_type": "code",
   "execution_count": null,
   "metadata": {
    "collapsed": true
   },
   "outputs": [],
   "source": [
    "tokenizer_word=Tokenizer(num_words=10000)\n",
    "tokenizer_word.fit_on_texts(actual_data1.data)\n",
    "train_word_x=tokenizer_word.texts_to_sequences(actual_data1.data)\n",
    "train_word_x=pad_sequences(train_word_x,maxlen=100)\n",
    "train_word_x=pd.DataFrame(train_word_x)\n",
    "\n",
    "final_train_x=pd.concat([train_summary_x,train_word_x],axis=1)"
   ]
  },
  {
   "cell_type": "code",
   "execution_count": null,
   "metadata": {
    "collapsed": true
   },
   "outputs": [],
   "source": [
    "tokenizer_summary.fit_on_texts(test_data1.summary)\n",
    "tokenizer_word.fit_on_texts(test_data1.data)\n",
    "\n",
    "test_summary_x= tokenizer_summary.texts_to_sequences(test_data1.summary)\n",
    "test_data_x= tokenizer_word.texts_to_sequences(test_data1.data)\n",
    "\n",
    "test_data_x=pad_sequences(test_data_x,maxlen=100)\n",
    "test_summary_x=pad_sequences(test_summary_x,maxlen=100)\n",
    "\n",
    "\n",
    "test_data_x= pd.DataFrame(test_data_x)\n",
    "test_summary_x= pd.DataFrame(test_summary_x)\n",
    "\n",
    "final_test_x=pd.concat([test_summary_x,test_data_x],axis=1)"
   ]
  },
  {
   "cell_type": "code",
   "execution_count": null,
   "metadata": {
    "collapsed": true
   },
   "outputs": [],
   "source": [
    "train_y=actual_data1.categories"
   ]
  },
  {
   "cell_type": "code",
   "execution_count": null,
   "metadata": {
    "collapsed": true
   },
   "outputs": [],
   "source": [
    "Test_Data_y=test_data1.categories"
   ]
  },
  {
   "cell_type": "code",
   "execution_count": null,
   "metadata": {
    "collapsed": true
   },
   "outputs": [],
   "source": []
  },
  {
   "cell_type": "code",
   "execution_count": null,
   "metadata": {
    "collapsed": true
   },
   "outputs": [],
   "source": [
    "X_train, X_test, Y_train, Y_test = train_test_split(final_train_x, train_y, test_size=0.20, random_state=42)"
   ]
  },
  {
   "cell_type": "code",
   "execution_count": null,
   "metadata": {
    "collapsed": true
   },
   "outputs": [],
   "source": [
    "unique_labels = list(actual_data1.categories.unique())\n",
    "\n",
    "train_y = np.array([unique_labels.index(i) for i in Y_train])\n",
    "train_y = to_categorical(train_y)\n",
    "\n",
    "test_y = np.array([unique_labels.index(i) for i in Y_test])\n",
    "test_y = to_categorical(test_y)\n",
    "\n",
    "\n",
    "Test_y = np.array([unique_labels.index(i) for i in Test_Data_y])\n",
    "Test_y = to_categorical(Test_y)\n"
   ]
  },
  {
   "cell_type": "code",
   "execution_count": null,
   "metadata": {
    "collapsed": true
   },
   "outputs": [],
   "source": [
    "model = Sequential()\n",
    "model.add(Embedding(100000,128))\n",
    "model.add(LSTM(200,return_sequences=True,dropout=0.2,recurrent_dropout=0.2))\n",
    "model.add(LSTM(200,return_sequences=True))\n",
    "model.add(LSTM(200,return_sequences=True))\n",
    "model.add(LSTM(200,return_sequences=False))\n",
    "model.add(Dense(5))\n",
    "model.add(Activation('softmax'))\n",
    "model.compile(loss='categorical_crossentropy',optimizer='adam',metrics=['accuracy'])\n",
    "print(model.summary())"
   ]
  },
  {
   "cell_type": "code",
   "execution_count": null,
   "metadata": {
    "collapsed": true
   },
   "outputs": [],
   "source": [
    "batch_size=64\n",
    "model.fit(X_train,\n",
    "          train_y,\n",
    "          batch_size=batch_size,verbose=2,epochs=1)"
   ]
  },
  {
   "cell_type": "code",
   "execution_count": null,
   "metadata": {
    "collapsed": true
   },
   "outputs": [],
   "source": [
    "test_predictions = model.predict_classes(X_test)"
   ]
  },
  {
   "cell_type": "code",
   "execution_count": null,
   "metadata": {
    "collapsed": true
   },
   "outputs": [],
   "source": [
    "list = []\n",
    "#list1=[]\n",
    "for i in test_predictions:\n",
    "    print(unique_labels[i])\n",
    "    list.append(unique_labels[i])"
   ]
  },
  {
   "cell_type": "code",
   "execution_count": null,
   "metadata": {
    "collapsed": true
   },
   "outputs": [],
   "source": [
    "pre=pd.DataFrame(list)"
   ]
  },
  {
   "cell_type": "code",
   "execution_count": null,
   "metadata": {
    "collapsed": true
   },
   "outputs": [],
   "source": [
    "accuracy_score(pre,Y_test)"
   ]
  },
  {
   "cell_type": "code",
   "execution_count": null,
   "metadata": {
    "collapsed": true
   },
   "outputs": [],
   "source": [
    "from nltk import ConfusionMatrix\n",
    "from sklearn.metrics import accuracy_score,classification_report,precision_score,recall_score,precision_recall_curve,roc_curve,confusion_matrix\n",
    "\n"
   ]
  },
  {
   "cell_type": "code",
   "execution_count": null,
   "metadata": {
    "collapsed": true
   },
   "outputs": [],
   "source": []
  },
  {
   "cell_type": "code",
   "execution_count": null,
   "metadata": {
    "collapsed": true
   },
   "outputs": [],
   "source": []
  },
  {
   "cell_type": "code",
   "execution_count": null,
   "metadata": {
    "collapsed": true
   },
   "outputs": [],
   "source": [
    "tokenizer_test_summary = Tokenizer(num_words=6000)\n",
    "tokenizer_test_summary.fit_on_texts(test_data1.summary)\n",
    "test_summary_x = tokenizer_test_summary.texts_to_sequences(test_data1.summary)\n",
    "test_summary_x = pad_sequences(test_summary_x, maxlen=50)\n",
    "test_summary_x= pd.DataFrame(test_summary_x)"
   ]
  },
  {
   "cell_type": "code",
   "execution_count": null,
   "metadata": {
    "collapsed": true
   },
   "outputs": [],
   "source": [
    "tokenizer_test_word=Tokenizer(num_words=10000)\n",
    "tokenizer_test_word.fit_on_texts(test_data1.data)\n",
    "test_word_x=tokenizer_test_word.texts_to_sequences(test_data1.data)\n",
    "test_word_x=pad_sequences(test_word_x,maxlen=50)\n",
    "test_word_x=pd.DataFrame(test_word_x)\n",
    "\n",
    "final_test_x=pd.concat([test_summary_x,test_word_x],axis=1)"
   ]
  },
  {
   "cell_type": "code",
   "execution_count": null,
   "metadata": {
    "collapsed": true
   },
   "outputs": [],
   "source": [
    "test_data_y=test_data1.categories"
   ]
  },
  {
   "cell_type": "code",
   "execution_count": null,
   "metadata": {
    "collapsed": true
   },
   "outputs": [],
   "source": [
    "test_data_predictions = model.predict_classes(final_test_x)\n",
    "test_data_predictions"
   ]
  },
  {
   "cell_type": "code",
   "execution_count": null,
   "metadata": {
    "collapsed": true
   },
   "outputs": [],
   "source": [
    "#list1=[]\n",
    "#for i in test_data_predictions:\n",
    "#    print(unique_labels_test[i])\n",
    "#    list.append(unique_labels_test[i])"
   ]
  },
  {
   "cell_type": "code",
   "execution_count": null,
   "metadata": {
    "collapsed": true
   },
   "outputs": [],
   "source": [
    "model_json = model.to_json()\n",
    "with open(\"model.json\", \"w\") as json_file:\n",
    "    json_file.write(model_json)"
   ]
  },
  {
   "cell_type": "code",
   "execution_count": null,
   "metadata": {
    "collapsed": true
   },
   "outputs": [],
   "source": []
  },
  {
   "cell_type": "code",
   "execution_count": null,
   "metadata": {
    "collapsed": true
   },
   "outputs": [],
   "source": [
    "model.save_weights(\"model2.h5\")"
   ]
  },
  {
   "cell_type": "code",
   "execution_count": null,
   "metadata": {
    "collapsed": true
   },
   "outputs": [],
   "source": [
    "model.save('my_model.h5') \n",
    "print(\"Saved model to disk\")\n"
   ]
  },
  {
   "cell_type": "code",
   "execution_count": null,
   "metadata": {
    "collapsed": true
   },
   "outputs": [],
   "source": [
    "json_file=open('model.json',\"r\")\n",
    "loaded_model=json_file.read()\n",
    "json_file.close()"
   ]
  },
  {
   "cell_type": "code",
   "execution_count": null,
   "metadata": {
    "collapsed": true
   },
   "outputs": [],
   "source": [
    "loaded_model1=model_from_json(loaded_model)"
   ]
  },
  {
   "cell_type": "code",
   "execution_count": null,
   "metadata": {
    "collapsed": true
   },
   "outputs": [],
   "source": [
    "loaded_model1.load_weights(\"model2.h5\")"
   ]
  },
  {
   "cell_type": "code",
   "execution_count": null,
   "metadata": {
    "collapsed": true
   },
   "outputs": [],
   "source": [
    "# evaluate loaded model on test data\n",
    "loaded_model1.compile(loss='binary_crossentropy', optimizer='rmsprop', metrics=['accuracy'])\n",
    "#score = loaded_model1.evaluate(pre,Y_test, verbose=0)\n",
    "#print(\"%s: %.2f%%\" % (loaded_model1.metrics_names[1], score[1]*100))"
   ]
  },
  {
   "cell_type": "code",
   "execution_count": null,
   "metadata": {
    "collapsed": true
   },
   "outputs": [],
   "source": []
  }
 ],
 "metadata": {
  "kernelspec": {
   "display_name": "Python 3",
   "language": "python",
   "name": "python3"
  },
  "language_info": {
   "codemirror_mode": {
    "name": "ipython",
    "version": 3
   },
   "file_extension": ".py",
   "mimetype": "text/x-python",
   "name": "python",
   "nbconvert_exporter": "python",
   "pygments_lexer": "ipython3",
   "version": "3.6.1"
  }
 },
 "nbformat": 4,
 "nbformat_minor": 2
}
