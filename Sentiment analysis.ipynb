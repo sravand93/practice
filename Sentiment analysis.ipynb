{
 "cells": [
  {
   "cell_type": "code",
   "execution_count": 168,
   "metadata": {
    "collapsed": true
   },
   "outputs": [],
   "source": [
    "import nltk\n",
    "import os\n",
    "import random\n",
    "from sklearn.metrics import confusion_matrix"
   ]
  },
  {
   "cell_type": "code",
   "execution_count": 169,
   "metadata": {
    "collapsed": true
   },
   "outputs": [],
   "source": [
    "os.chdir(\"E:\\\\INSOFE\\\\text mining\\\\movie_reviews_sentiment_analysis\")"
   ]
  },
  {
   "cell_type": "code",
   "execution_count": 170,
   "metadata": {
    "collapsed": true
   },
   "outputs": [],
   "source": [
    "with open('positive.txt','r') as f_pos:\n",
    "    short_pos = f_pos.read()\n",
    "with open('negative.txt','r') as f_neg:\n",
    "    short_neg = f_neg.read()"
   ]
  },
  {
   "cell_type": "code",
   "execution_count": 171,
   "metadata": {
    "collapsed": true
   },
   "outputs": [],
   "source": [
    "short_neg = short_neg.lower()\n",
    "short_pos = short_pos.lower()"
   ]
  },
  {
   "cell_type": "code",
   "execution_count": 172,
   "metadata": {},
   "outputs": [
    {
     "name": "stdout",
     "output_type": "stream",
     "text": [
      "psoivite = the rock is destined to be the 21st century's new \" conan \" and that he's going to make a splash even greater than arnold schwarzenegger , jean-claud van damme or steven segal . \n",
      "negative = the rock is destined to be the 21st century's new \" conan \" and that he's going to make a splash even greater than arnold schwarzenegger , jean-claud van damme or steven segal . \n"
     ]
    }
   ],
   "source": [
    "posidocuments = short_pos.split('\\n')\n",
    "print (\"psoivite =\", posidocuments[0])\n",
    "negdocuments = short_pos.split('\\n')\n",
    "print(\"negative =\",negdocuments[0])"
   ]
  },
  {
   "cell_type": "code",
   "execution_count": 173,
   "metadata": {
    "collapsed": true
   },
   "outputs": [],
   "source": [
    "posidocs = posidocuments[:2000] #taking 1st 1000  words\n",
    "negdocs = negdocuments[:2000]"
   ]
  },
  {
   "cell_type": "code",
   "execution_count": 174,
   "metadata": {
    "collapsed": true
   },
   "outputs": [],
   "source": [
    "documents = []\n",
    "for p in posidocs:\n",
    "    documents.append((p,'p'))\n",
    "for n in negdocs:\n",
    "    documents.append((n,'n'))"
   ]
  },
  {
   "cell_type": "code",
   "execution_count": 175,
   "metadata": {},
   "outputs": [
    {
     "data": {
      "text/plain": [
       "('effective but too-tepid biopic', 'p')"
      ]
     },
     "execution_count": 175,
     "metadata": {},
     "output_type": "execute_result"
    }
   ],
   "source": [
    "documents[2]"
   ]
  },
  {
   "cell_type": "code",
   "execution_count": 176,
   "metadata": {
    "collapsed": true
   },
   "outputs": [],
   "source": [
    "from nltk.tokenize import RegexpTokenizer"
   ]
  },
  {
   "cell_type": "code",
   "execution_count": 177,
   "metadata": {
    "collapsed": true
   },
   "outputs": [],
   "source": [
    "tokenizer = RegexpTokenizer(r'\\w+')"
   ]
  },
  {
   "cell_type": "code",
   "execution_count": 178,
   "metadata": {
    "collapsed": true
   },
   "outputs": [],
   "source": [
    "from nltk.corpus import stopwords\n",
    "stopwords = stopwords.words('english')"
   ]
  },
  {
   "cell_type": "code",
   "execution_count": 179,
   "metadata": {},
   "outputs": [
    {
     "name": "stdout",
     "output_type": "stream",
     "text": [
      "[('the', 'DT'), ('rock', 'NN'), ('is', 'VBZ'), ('destined', 'VBN'), ('to', 'TO'), ('be', 'VB'), ('the', 'DT'), ('21st', 'JJ'), ('century', 'NN'), ('s', 'VBD'), ('new', 'JJ'), ('conan', 'NN'), ('and', 'CC'), ('that', 'IN'), ('he', 'PRP'), ('s', 'VBZ'), ('going', 'VBG'), ('to', 'TO'), ('make', 'VB'), ('a', 'DT'), ('splash', 'NN'), ('even', 'RB'), ('greater', 'JJR'), ('than', 'IN'), ('arnold', 'RB'), ('schwarzenegger', 'JJ'), ('jean', 'JJ'), ('claud', 'NN'), ('van', 'NN'), ('damme', 'NN'), ('or', 'CC'), ('steven', 'JJ'), ('segal', 'NN')]\n"
     ]
    }
   ],
   "source": [
    "tokens = tokenizer.tokenize(posidocs[0])\n",
    "print(nltk.pos_tag(tokens))"
   ]
  },
  {
   "cell_type": "code",
   "execution_count": 196,
   "metadata": {
    "collapsed": true
   },
   "outputs": [],
   "source": [
    "allowed_word_types = ['JJ'] #jjr,jjs ----> optional\n",
    "all_words = []\n",
    "for doc,label in documents:\n",
    "    words = tokenizer.tokenize(doc)\n",
    "    tagged_words = nltk.pos_tag(words)\n",
    "    for word,tag in tagged_words:\n",
    "        if tag in allowed_word_types:\n",
    "            all_words.append(word)"
   ]
  },
  {
   "cell_type": "code",
   "execution_count": 34,
   "metadata": {},
   "outputs": [
    {
     "name": "stdout",
     "output_type": "stream",
     "text": [
      "[['the', 'rock', 'is', 'destined', 'to', 'be', 'the', '21st', 'century', 's', 'new', 'conan', 'and', 'that', 'he', 's', 'going', 'to', 'make', 'a', 'splash', 'even', 'greater', 'than', 'arnold', 'schwarzenegger', 'jean', 'claud', 'van', 'damme', 'or', 'steven', 'segal'], ['at', 'about', '95', 'minutes', 'treasure', 'planet', 'maintains', 'a', 'brisk', 'pace', 'as', 'it', 'races', 'through', 'the', 'familiar', 'story', 'however', 'it', 'lacks', 'grandeur', 'and', 'that', 'epic', 'quality', 'often', 'associated', 'with', 'stevenson', 's', 'tale', 'as', 'well', 'as', 'with', 'earlier', 'disney', 'efforts'], ['newton', 'draws', 'our', 'attention', 'like', 'a', 'magnet', 'and', 'acts', 'circles', 'around', 'her', 'better', 'known', 'co', 'star', 'mark', 'wahlberg'], ['singer', 'composer', 'bryan', 'adams', 'contributes', 'a', 'slew', 'of', 'songs', 'a', 'few', 'potential', 'hits', 'a', 'few', 'more', 'simply', 'intrusive', 'to', 'the', 'story', 'but', 'the', 'whole', 'package', 'certainly', 'captures', 'the', 'intended', 'er', 'spirit', 'of', 'the', 'piece'], ['at', 'heart', 'the', 'movie', 'is', 'a', 'deftly', 'wrought', 'suspense', 'yarn', 'whose', 'richer', 'shadings', 'work', 'as', 'coloring', 'rather', 'than', 'substance'], ['director', 'kapur', 'is', 'a', 'filmmaker', 'with', 'a', 'real', 'flair', 'for', 'epic', 'landscapes', 'and', 'adventure', 'and', 'this', 'is', 'a', 'better', 'film', 'than', 'his', 'earlier', 'english', 'language', 'movie', 'the', 'overpraised', 'elizabeth'], ['director', 'kapur', 'is', 'a', 'filmmaker', 'with', 'a', 'real', 'flair', 'for', 'epic', 'landscapes', 'and', 'adventure', 'and', 'this', 'is', 'a', 'better', 'film', 'than', 'his', 'earlier', 'english', 'language', 'movie', 'the', 'overpraised', 'elizabeth'], ['if', 'your', 'senses', 'haven', 't', 'been', 'dulled', 'by', 'slasher', 'films', 'and', 'gorefests', 'if', 'you', 're', 'a', 'connoisseur', 'of', 'psychological', 'horror', 'this', 'is', 'your', 'ticket'], ['it', 'is', 'interesting', 'and', 'fun', 'to', 'see', 'goodall', 'and', 'her', 'chimpanzees', 'on', 'the', 'bigger', 'than', 'life', 'screen'], ['if', 'you', 're', 'like', 'me', 'a', 'sucker', 'for', 'a', 'good', 'old', 'fashion', 'romance', 'and', 'someone', 'who', 'shamelessly', 'loves', 'to', 'eat', 'then', 'mostly', 'martha', 'offers', 'all', 'the', 'perfect', 'ingredients', 'to', 'more', 'than', 'satisfy', 'your', 'appetite'], ['the', 'unique', 'tug', 'of', 'war', 'with', 'viewer', 'expectations', 'is', 'undeniable', 'if', 'not', 'a', 'pleasure', 'in', 'its', 'own', 'right'], ['finally', 'a', 'genre', 'movie', 'that', 'delivers', 'in', 'a', 'couple', 'of', 'genres', 'no', 'less'], ['easier', 'to', 'respect', 'than', 'enthuse', 'over', 'andersson', 's', 'rigorous', 'personal', 'vision', 'is', 'not', 'only', 'distanced', 'but', 'distancing'], ['if', 'no', 'one', 'singles', 'out', 'any', 'of', 'these', 'performances', 'as', 'award', 'worthy', 'it', 's', 'only', 'because', 'we', 'would', 'expect', 'nothing', 'less', 'from', 'this', 'bunch'], ['often', 'gruelling', 'and', 'heartbreaking', 'to', 'witness', 'but', 'seldahl', 'and', 'wollter', 's', 'sterling', 'performances', 'raise', 'this', 'far', 'above', 'the', 'level', 'of', 'the', 'usual', 'maudlin', 'disease', 'movie'], ['one', 'hour', 'photo', 'is', 'an', 'intriguing', 'snapshot', 'of', 'one', 'man', 'and', 'his', 'delusions', 'it', 's', 'just', 'too', 'bad', 'it', 'doesn', 't', 'have', 'more', 'flashes', 'of', 'insight'], ['it', 'represents', 'better', 'than', 'average', 'movie', 'making', 'that', 'doesn', 't', 'demand', 'a', 'dumb', 'distracted', 'audience'], ['if', 'the', 'message', 'seems', 'more', 'facile', 'than', 'the', 'earlier', 'films', 'the', 'images', 'have', 'such', 'a', 'terrible', 'beauty', 'you', 'may', 'not', 'care'], ['if', 'the', 'message', 'seems', 'more', 'facile', 'than', 'the', 'earlier', 'films', 'the', 'images', 'have', 'such', 'a', 'terrible', 'beauty', 'you', 'may', 'not', 'care'], ['the', 'sundance', 'film', 'festival', 'has', 'become', 'so', 'buzz', 'obsessed', 'that', 'fans', 'and', 'producers', 'descend', 'upon', 'utah', 'each', 'january', 'to', 'ferret', 'out', 'the', 'next', 'great', 'thing', 'tadpole', 'was', 'one', 'of', 'the', 'films', 'so', 'declared', 'this', 'year', 'but', 'it', 's', 'really', 'more', 'of', 'the', 'next', 'pretty', 'good', 'thing'], ['only', 'an', 'epic', 'documentary', 'could', 'get', 'it', 'all', 'down', 'and', 'spike', 'lee', 's', 'jim', 'brown', 'all', 'american', 'at', 'long', 'last', 'gives', 'its', 'subject', 'a', 'movie', 'worthy', 'of', 'his', 'talents'], ['bourne', 'jason', 'bourne', 'he', 'can', 'scale', 'a', 'building', 'like', 'a', 'super', 'hero', 'he', 'can', 'out', 'stealth', 'any', 'agent', 'he', 'll', 'get', 'the', 'girl', 'he', 's', 'super', 'spy'], ['not', 'everything', 'works', 'but', 'the', 'average', 'is', 'higher', 'than', 'in', 'mary', 'and', 'most', 'other', 'recent', 'comedies'], ['a', 'byzantine', 'melodrama', 'that', 'stimulates', 'the', 'higher', 'brain', 'functions', 'as', 'well', 'as', 'the', 'libido'], ['does', 'what', 'a', 'fine', 'documentary', 'does', 'best', 'it', 'extends', 'a', 'warm', 'invitation', 'into', 'an', 'unfamiliar', 'world', 'then', 'illuminates', 'it', 'fully', 'and', 'allows', 'the', 'larger', 'implications', 'of', 'the', 'journey', 'to', 'sink', 'in', 'unobtrusively'], ['the', 'bourne', 'identity', 'is', 'what', 'summer', 'screen', 'escapism', 'used', 'to', 'be', 'in', 'the', 'decades', 'when', 'it', 'was', 'geared', 'more', 'to', 'grownups'], ['provide', 's', 'nail', 'biting', 'suspense', 'and', 'credible', 'characters', 'without', 'relying', 'on', 'technology', 'of', 'the', 'moment', 'technique', 'or', 'pretentious', 'dialogue'], ['if', 'it', 'tried', 'to', 'do', 'anything', 'more', 'it', 'would', 'fail', 'and', 'perhaps', 'explode', 'but', 'at', 'this', 'level', 'of', 'manic', 'whimsy', 'it', 'is', 'just', 'about', 'right'], ['sure', 'it', 's', 'more', 'of', 'the', 'same', 'but', 'as', 'the', 'film', 'proves', 'that', 's', 'not', 'always', 'a', 'bad', 'thing'], ['as', 'a', 'revenge', 'thriller', 'the', 'movie', 'is', 'serviceable', 'but', 'it', 'doesn', 't', 'really', 'deliver', 'the', 'delicious', 'guilty', 'pleasure', 'of', 'the', 'better', 'film', 'versions'], ['viewed', 'on', 'its', 'own', 'terms', 'treasure', 'planet', 'is', 'better', 'than', 'average', 'family', 'entertainment', 'but', 'true', 'fans', 'of', 'the', 'stevenson', 's', 'novel', 'will', 'likely', 'prefer', 'disney', 's', 'more', 'faithful', '1950', 'live', 'action', 'swashbuckling', 'classic'], ['although', 'the', 'editing', 'might', 'have', 'been', 'tighter', 'hush', 'sympathetically', 'captures', 'the', 'often', 'futile', 'lifestyle', 'of', 'young', 'people', 'in', 'modern', 'japan'], ['the', 'warm', 'presence', 'of', 'zhao', 'benshan', 'makes', 'the', 'preposterous', 'lying', 'hero', 'into', 'something', 'more', 'than', 'he', 'reasonably', 'should', 'be'], ['in', 'the', 'end', 'punch', 'drunk', 'love', 'is', 'one', 'of', 'those', 'films', 'that', 'i', 'wanted', 'to', 'like', 'much', 'more', 'than', 'i', 'actually', 'did', 'sometimes', 'that', 's', 'enough'], ['an', 'intimate', 'good', 'humored', 'ethnic', 'comedy', 'like', 'numerous', 'others', 'but', 'cuts', 'deeper', 'than', 'expected'], ['the', 'film', 's', '45', 'minute', 'running', 'time', 'stops', 'shy', 'of', 'overkill', 'though', 'viewers', 'may', 'be', 'more', 'exhausted', 'than', 'the', 'athletes', 'onscreen'], ['isn', 't', 'quite', 'the', 'equal', 'of', 'woo', 's', 'best', 'earlier', 'work', 'but', 'it', 's', 'easily', 'his', 'finest', 'american', 'film', 'comes', 'close', 'to', 'recapturing', 'the', 'brilliance', 'of', 'his', 'hong', 'kong', 'films'], ['there', 's', 'not', 'much', 'more', 'to', 'this', 'adaptation', 'of', 'the', 'nick', 'hornby', 'novel', 'than', 'charm', 'effortless', 'pleasurable', 'featherweight', 'charm'], ['at', 'nearly', 'three', 'hours', 'the', 'whole', 'of', 'safe', 'conduct', 'is', 'less', 'than', 'the', 'sum', 'of', 'its', 'parts'], ['charly', 'will', 'divide', 'its', 'audience', 'in', 'two', 'separate', 'groups', 'those', 'reaching', 'for', 'more', 'tissues', 'and', 'those', 'begging', 'for', 'mercy'], ['a', 'miniscule', 'little', 'bleep', 'on', 'the', 'film', 'radar', 'but', 'one', 'that', 'many', 'more', 'people', 'should', 'check', 'out'], ['this', 'is', 'one', 'of', 'the', 'most', 'visually', 'stunning', 'and', 'thematically', 'moving', 'epics', 'in', 'recent', 'memory', 'and', 'in', 'spite', 'of', 'numerous', 'minor', 'flaws', 'scorsese', 's', 'best', 'in', 'more', 'than', 'a', 'decade'], ['in', 'adobo', 'ethnicity', 'is', 'not', 'just', 'the', 'spice', 'but', 'at', 'the', 'heart', 'of', 'more', 'universal', 'concerns'], ['cuts', 'right', 'through', 'the', 'b', 's', 'giving', 'a', 'big', 'middle', 'fingered', 'shut', 'up', 'to', 'those', 'who', 'talk', 'up', 'what', 'is', 'nothing', 'more', 'than', 'two', 'guys', 'beating', 'the', 'hell', 'outta', 'one', 'another'], ['insomnia', 'is', 'involving', 'still', 'i', 'thought', 'it', 'could', 'have', 'been', 'more'], ['a', 'haunting', 'vision', 'with', 'images', 'that', 'seem', 'more', 'like', 'disturbing', 'hallucinations'], ['reign', 'of', 'fire', 'may', 'be', 'little', 'more', 'than', 'another', 'platter', 'of', 'reheated', 'aliens', 'but', 'it', 's', 'still', 'pretty', 'tasty'], ['two', 'hours', 'of', 'melodramatic', 'musical', 'married', 'to', 'two', 'hours', 'of', 'underdog', 'sports', 'intrigue', 'if', 'the', 'picture', 'also', 'shares', 'the', 'weaknesses', 'of', 'both', 'genres', 'more', 's', 'the', 'pity'], ['highlights', 'are', 'the', 'terrific', 'performances', 'by', 'christopher', 'plummer', 'as', 'the', 'prime', 'villain', 'and', 'nathan', 'lane', 'as', 'vincent', 'crummles', 'the', 'eccentric', 'theater', 'company', 'manager'], ['the', 'rock', 'is', 'destined', 'to', 'be', 'the', '21st', 'century', 's', 'new', 'conan', 'and', 'that', 'he', 's', 'going', 'to', 'make', 'a', 'splash', 'even', 'greater', 'than', 'arnold', 'schwarzenegger', 'jean', 'claud', 'van', 'damme', 'or', 'steven', 'segal'], ['at', 'about', '95', 'minutes', 'treasure', 'planet', 'maintains', 'a', 'brisk', 'pace', 'as', 'it', 'races', 'through', 'the', 'familiar', 'story', 'however', 'it', 'lacks', 'grandeur', 'and', 'that', 'epic', 'quality', 'often', 'associated', 'with', 'stevenson', 's', 'tale', 'as', 'well', 'as', 'with', 'earlier', 'disney', 'efforts'], ['newton', 'draws', 'our', 'attention', 'like', 'a', 'magnet', 'and', 'acts', 'circles', 'around', 'her', 'better', 'known', 'co', 'star', 'mark', 'wahlberg'], ['singer', 'composer', 'bryan', 'adams', 'contributes', 'a', 'slew', 'of', 'songs', 'a', 'few', 'potential', 'hits', 'a', 'few', 'more', 'simply', 'intrusive', 'to', 'the', 'story', 'but', 'the', 'whole', 'package', 'certainly', 'captures', 'the', 'intended', 'er', 'spirit', 'of', 'the', 'piece'], ['at', 'heart', 'the', 'movie', 'is', 'a', 'deftly', 'wrought', 'suspense', 'yarn', 'whose', 'richer', 'shadings', 'work', 'as', 'coloring', 'rather', 'than', 'substance'], ['director', 'kapur', 'is', 'a', 'filmmaker', 'with', 'a', 'real', 'flair', 'for', 'epic', 'landscapes', 'and', 'adventure', 'and', 'this', 'is', 'a', 'better', 'film', 'than', 'his', 'earlier', 'english', 'language', 'movie', 'the', 'overpraised', 'elizabeth'], ['director', 'kapur', 'is', 'a', 'filmmaker', 'with', 'a', 'real', 'flair', 'for', 'epic', 'landscapes', 'and', 'adventure', 'and', 'this', 'is', 'a', 'better', 'film', 'than', 'his', 'earlier', 'english', 'language', 'movie', 'the', 'overpraised', 'elizabeth'], ['if', 'your', 'senses', 'haven', 't', 'been', 'dulled', 'by', 'slasher', 'films', 'and', 'gorefests', 'if', 'you', 're', 'a', 'connoisseur', 'of', 'psychological', 'horror', 'this', 'is', 'your', 'ticket'], ['it', 'is', 'interesting', 'and', 'fun', 'to', 'see', 'goodall', 'and', 'her', 'chimpanzees', 'on', 'the', 'bigger', 'than', 'life', 'screen'], ['if', 'you', 're', 'like', 'me', 'a', 'sucker', 'for', 'a', 'good', 'old', 'fashion', 'romance', 'and', 'someone', 'who', 'shamelessly', 'loves', 'to', 'eat', 'then', 'mostly', 'martha', 'offers', 'all', 'the', 'perfect', 'ingredients', 'to', 'more', 'than', 'satisfy', 'your', 'appetite'], ['the', 'unique', 'tug', 'of', 'war', 'with', 'viewer', 'expectations', 'is', 'undeniable', 'if', 'not', 'a', 'pleasure', 'in', 'its', 'own', 'right'], ['finally', 'a', 'genre', 'movie', 'that', 'delivers', 'in', 'a', 'couple', 'of', 'genres', 'no', 'less'], ['easier', 'to', 'respect', 'than', 'enthuse', 'over', 'andersson', 's', 'rigorous', 'personal', 'vision', 'is', 'not', 'only', 'distanced', 'but', 'distancing'], ['if', 'no', 'one', 'singles', 'out', 'any', 'of', 'these', 'performances', 'as', 'award', 'worthy', 'it', 's', 'only', 'because', 'we', 'would', 'expect', 'nothing', 'less', 'from', 'this', 'bunch'], ['often', 'gruelling', 'and', 'heartbreaking', 'to', 'witness', 'but', 'seldahl', 'and', 'wollter', 's', 'sterling', 'performances', 'raise', 'this', 'far', 'above', 'the', 'level', 'of', 'the', 'usual', 'maudlin', 'disease', 'movie'], ['one', 'hour', 'photo', 'is', 'an', 'intriguing', 'snapshot', 'of', 'one', 'man', 'and', 'his', 'delusions', 'it', 's', 'just', 'too', 'bad', 'it', 'doesn', 't', 'have', 'more', 'flashes', 'of', 'insight'], ['it', 'represents', 'better', 'than', 'average', 'movie', 'making', 'that', 'doesn', 't', 'demand', 'a', 'dumb', 'distracted', 'audience'], ['if', 'the', 'message', 'seems', 'more', 'facile', 'than', 'the', 'earlier', 'films', 'the', 'images', 'have', 'such', 'a', 'terrible', 'beauty', 'you', 'may', 'not', 'care'], ['if', 'the', 'message', 'seems', 'more', 'facile', 'than', 'the', 'earlier', 'films', 'the', 'images', 'have', 'such', 'a', 'terrible', 'beauty', 'you', 'may', 'not', 'care'], ['the', 'sundance', 'film', 'festival', 'has', 'become', 'so', 'buzz', 'obsessed', 'that', 'fans', 'and', 'producers', 'descend', 'upon', 'utah', 'each', 'january', 'to', 'ferret', 'out', 'the', 'next', 'great', 'thing', 'tadpole', 'was', 'one', 'of', 'the', 'films', 'so', 'declared', 'this', 'year', 'but', 'it', 's', 'really', 'more', 'of', 'the', 'next', 'pretty', 'good', 'thing'], ['only', 'an', 'epic', 'documentary', 'could', 'get', 'it', 'all', 'down', 'and', 'spike', 'lee', 's', 'jim', 'brown', 'all', 'american', 'at', 'long', 'last', 'gives', 'its', 'subject', 'a', 'movie', 'worthy', 'of', 'his', 'talents'], ['bourne', 'jason', 'bourne', 'he', 'can', 'scale', 'a', 'building', 'like', 'a', 'super', 'hero', 'he', 'can', 'out', 'stealth', 'any', 'agent', 'he', 'll', 'get', 'the', 'girl', 'he', 's', 'super', 'spy'], ['not', 'everything', 'works', 'but', 'the', 'average', 'is', 'higher', 'than', 'in', 'mary', 'and', 'most', 'other', 'recent', 'comedies'], ['a', 'byzantine', 'melodrama', 'that', 'stimulates', 'the', 'higher', 'brain', 'functions', 'as', 'well', 'as', 'the', 'libido'], ['does', 'what', 'a', 'fine', 'documentary', 'does', 'best', 'it', 'extends', 'a', 'warm', 'invitation', 'into', 'an', 'unfamiliar', 'world', 'then', 'illuminates', 'it', 'fully', 'and', 'allows', 'the', 'larger', 'implications', 'of', 'the', 'journey', 'to', 'sink', 'in', 'unobtrusively'], ['the', 'bourne', 'identity', 'is', 'what', 'summer', 'screen', 'escapism', 'used', 'to', 'be', 'in', 'the', 'decades', 'when', 'it', 'was', 'geared', 'more', 'to', 'grownups'], ['provide', 's', 'nail', 'biting', 'suspense', 'and', 'credible', 'characters', 'without', 'relying', 'on', 'technology', 'of', 'the', 'moment', 'technique', 'or', 'pretentious', 'dialogue'], ['if', 'it', 'tried', 'to', 'do', 'anything', 'more', 'it', 'would', 'fail', 'and', 'perhaps', 'explode', 'but', 'at', 'this', 'level', 'of', 'manic', 'whimsy', 'it', 'is', 'just', 'about', 'right'], ['sure', 'it', 's', 'more', 'of', 'the', 'same', 'but', 'as', 'the', 'film', 'proves', 'that', 's', 'not', 'always', 'a', 'bad', 'thing'], ['as', 'a', 'revenge', 'thriller', 'the', 'movie', 'is', 'serviceable', 'but', 'it', 'doesn', 't', 'really', 'deliver', 'the', 'delicious', 'guilty', 'pleasure', 'of', 'the', 'better', 'film', 'versions'], ['viewed', 'on', 'its', 'own', 'terms', 'treasure', 'planet', 'is', 'better', 'than', 'average', 'family', 'entertainment', 'but', 'true', 'fans', 'of', 'the', 'stevenson', 's', 'novel', 'will', 'likely', 'prefer', 'disney', 's', 'more', 'faithful', '1950', 'live', 'action', 'swashbuckling', 'classic'], ['although', 'the', 'editing', 'might', 'have', 'been', 'tighter', 'hush', 'sympathetically', 'captures', 'the', 'often', 'futile', 'lifestyle', 'of', 'young', 'people', 'in', 'modern', 'japan'], ['the', 'warm', 'presence', 'of', 'zhao', 'benshan', 'makes', 'the', 'preposterous', 'lying', 'hero', 'into', 'something', 'more', 'than', 'he', 'reasonably', 'should', 'be'], ['in', 'the', 'end', 'punch', 'drunk', 'love', 'is', 'one', 'of', 'those', 'films', 'that', 'i', 'wanted', 'to', 'like', 'much', 'more', 'than', 'i', 'actually', 'did', 'sometimes', 'that', 's', 'enough'], ['an', 'intimate', 'good', 'humored', 'ethnic', 'comedy', 'like', 'numerous', 'others', 'but', 'cuts', 'deeper', 'than', 'expected'], ['the', 'film', 's', '45', 'minute', 'running', 'time', 'stops', 'shy', 'of', 'overkill', 'though', 'viewers', 'may', 'be', 'more', 'exhausted', 'than', 'the', 'athletes', 'onscreen'], ['isn', 't', 'quite', 'the', 'equal', 'of', 'woo', 's', 'best', 'earlier', 'work', 'but', 'it', 's', 'easily', 'his', 'finest', 'american', 'film', 'comes', 'close', 'to', 'recapturing', 'the', 'brilliance', 'of', 'his', 'hong', 'kong', 'films'], ['there', 's', 'not', 'much', 'more', 'to', 'this', 'adaptation', 'of', 'the', 'nick', 'hornby', 'novel', 'than', 'charm', 'effortless', 'pleasurable', 'featherweight', 'charm'], ['at', 'nearly', 'three', 'hours', 'the', 'whole', 'of', 'safe', 'conduct', 'is', 'less', 'than', 'the', 'sum', 'of', 'its', 'parts'], ['charly', 'will', 'divide', 'its', 'audience', 'in', 'two', 'separate', 'groups', 'those', 'reaching', 'for', 'more', 'tissues', 'and', 'those', 'begging', 'for', 'mercy'], ['a', 'miniscule', 'little', 'bleep', 'on', 'the', 'film', 'radar', 'but', 'one', 'that', 'many', 'more', 'people', 'should', 'check', 'out'], ['this', 'is', 'one', 'of', 'the', 'most', 'visually', 'stunning', 'and', 'thematically', 'moving', 'epics', 'in', 'recent', 'memory', 'and', 'in', 'spite', 'of', 'numerous', 'minor', 'flaws', 'scorsese', 's', 'best', 'in', 'more', 'than', 'a', 'decade'], ['in', 'adobo', 'ethnicity', 'is', 'not', 'just', 'the', 'spice', 'but', 'at', 'the', 'heart', 'of', 'more', 'universal', 'concerns'], ['cuts', 'right', 'through', 'the', 'b', 's', 'giving', 'a', 'big', 'middle', 'fingered', 'shut', 'up', 'to', 'those', 'who', 'talk', 'up', 'what', 'is', 'nothing', 'more', 'than', 'two', 'guys', 'beating', 'the', 'hell', 'outta', 'one', 'another'], ['insomnia', 'is', 'involving', 'still', 'i', 'thought', 'it', 'could', 'have', 'been', 'more'], ['a', 'haunting', 'vision', 'with', 'images', 'that', 'seem', 'more', 'like', 'disturbing', 'hallucinations'], ['reign', 'of', 'fire', 'may', 'be', 'little', 'more', 'than', 'another', 'platter', 'of', 'reheated', 'aliens', 'but', 'it', 's', 'still', 'pretty', 'tasty'], ['two', 'hours', 'of', 'melodramatic', 'musical', 'married', 'to', 'two', 'hours', 'of', 'underdog', 'sports', 'intrigue', 'if', 'the', 'picture', 'also', 'shares', 'the', 'weaknesses', 'of', 'both', 'genres', 'more', 's', 'the', 'pity'], ['highlights', 'are', 'the', 'terrific', 'performances', 'by', 'christopher', 'plummer', 'as', 'the', 'prime', 'villain', 'and', 'nathan', 'lane', 'as', 'vincent', 'crummles', 'the', 'eccentric', 'theater', 'company', 'manager']]\n"
     ]
    }
   ],
   "source": [
    "print(all_words)"
   ]
  },
  {
   "cell_type": "code",
   "execution_count": 197,
   "metadata": {},
   "outputs": [
    {
     "data": {
      "text/plain": [
       "9374"
      ]
     },
     "execution_count": 197,
     "metadata": {},
     "output_type": "execute_result"
    }
   ],
   "source": [
    "len(all_words)"
   ]
  },
  {
   "cell_type": "code",
   "execution_count": 198,
   "metadata": {},
   "outputs": [
    {
     "data": {
      "text/plain": [
       "1674"
      ]
     },
     "execution_count": 198,
     "metadata": {},
     "output_type": "execute_result"
    }
   ],
   "source": [
    "all_words_unique = nltk.FreqDist(all_words)\n",
    "len(all_words_unique)"
   ]
  },
  {
   "cell_type": "code",
   "execution_count": 199,
   "metadata": {},
   "outputs": [
    {
     "data": {
      "text/plain": [
       "[('s', 198),\n",
       " ('good', 190),\n",
       " ('great', 94),\n",
       " ('little', 94),\n",
       " ('funny', 90),\n",
       " ('old', 82),\n",
       " ('new', 80),\n",
       " ('much', 78),\n",
       " ('romantic', 70),\n",
       " ('first', 70)]"
      ]
     },
     "execution_count": 199,
     "metadata": {},
     "output_type": "execute_result"
    }
   ],
   "source": [
    "all_words_unique.most_common(10)# most coomon unique words in the unique words list"
   ]
  },
  {
   "cell_type": "code",
   "execution_count": 201,
   "metadata": {
    "collapsed": true
   },
   "outputs": [],
   "source": [
    "word_features = set (all_words)"
   ]
  },
  {
   "cell_type": "code",
   "execution_count": 202,
   "metadata": {},
   "outputs": [
    {
     "data": {
      "text/plain": [
       "1674"
      ]
     },
     "execution_count": 202,
     "metadata": {},
     "output_type": "execute_result"
    }
   ],
   "source": [
    "len(word_features)"
   ]
  },
  {
   "cell_type": "code",
   "execution_count": 203,
   "metadata": {
    "collapsed": true
   },
   "outputs": [],
   "source": [
    "def find_features(document):\n",
    "    document_tokens = tokenizer.tokenize(document)\n",
    "    features= {}  #{} flower braces creates dictionary, where ()\n",
    "    for w in word_features:\n",
    "        features[w] = (w in document_tokens and w not in stopwords)\n",
    "    return features\n",
    "\n",
    "featursets = [(find_features(rev),category) for (rev,category) in documents] "
   ]
  },
  {
   "cell_type": "code",
   "execution_count": 204,
   "metadata": {},
   "outputs": [
    {
     "name": "stdout",
     "output_type": "stream",
     "text": [
      "4000\n",
      "<class 'list'>\n"
     ]
    }
   ],
   "source": [
    "print(len(featursets))\n",
    "print(type(featursets))"
   ]
  },
  {
   "cell_type": "code",
   "execution_count": 205,
   "metadata": {
    "collapsed": true
   },
   "outputs": [],
   "source": [
    "random.shuffle(featursets)\n",
    "training_set = featursets[:3600]\n",
    "testing_set = featursets [3600:]"
   ]
  },
  {
   "cell_type": "code",
   "execution_count": 206,
   "metadata": {},
   "outputs": [
    {
     "name": "stdout",
     "output_type": "stream",
     "text": [
      "54.22222222222223\n"
     ]
    }
   ],
   "source": [
    "classifier = nltk.NaiveBayesClassifier.train(training_set)\n",
    "train_acc = nltk.classify.accuracy(classifier,training_set)*100\n",
    "print(train_acc)"
   ]
  },
  {
   "cell_type": "code",
   "execution_count": 207,
   "metadata": {},
   "outputs": [
    {
     "name": "stdout",
     "output_type": "stream",
     "text": [
      "Most Informative Features\n",
      "                  stuart = True                p : n      =      2.4 : 1.0\n",
      "                    evil = True                n : p      =      2.3 : 1.0\n",
      "             educational = True                n : p      =      2.3 : 1.0\n",
      "                    fair = True                n : p      =      2.3 : 1.0\n",
      "                  candid = True                n : p      =      2.3 : 1.0\n",
      "                    wide = True                n : p      =      2.3 : 1.0\n",
      "            irresistible = True                n : p      =      2.3 : 1.0\n",
      "                 extreme = True                n : p      =      2.3 : 1.0\n",
      "             directorial = True                n : p      =      2.3 : 1.0\n",
      "                 popcorn = True                p : n      =      1.8 : 1.0\n",
      "                 funeral = True                p : n      =      1.8 : 1.0\n",
      "                 nuanced = True                p : n      =      1.8 : 1.0\n",
      "                 british = True                p : n      =      1.8 : 1.0\n",
      "                  richly = True                p : n      =      1.8 : 1.0\n",
      "                  breezy = True                p : n      =      1.8 : 1.0\n",
      "                   broad = True                n : p      =      1.8 : 1.0\n",
      "                   noyce = True                n : p      =      1.8 : 1.0\n",
      "                     wit = True                p : n      =      1.8 : 1.0\n",
      "                unlikely = True                p : n      =      1.7 : 1.0\n",
      "                innocent = True                p : n      =      1.7 : 1.0\n"
     ]
    }
   ],
   "source": [
    "classifier.show_most_informative_features(20)"
   ]
  },
  {
   "cell_type": "code",
   "execution_count": 208,
   "metadata": {
    "collapsed": true
   },
   "outputs": [],
   "source": [
    "predictions = classifier.classify_many([x[0] for x in testing_set])"
   ]
  },
  {
   "cell_type": "code",
   "execution_count": 209,
   "metadata": {},
   "outputs": [
    {
     "data": {
      "text/plain": [
       "array([[ 25, 190],\n",
       "       [162,  23]])"
      ]
     },
     "execution_count": 209,
     "metadata": {},
     "output_type": "execute_result"
    }
   ],
   "source": [
    "confusion_matrix(predictions,[x[1] for x in testing_set])"
   ]
  },
  {
   "cell_type": "code",
   "execution_count": 210,
   "metadata": {},
   "outputs": [
    {
     "name": "stdout",
     "output_type": "stream",
     "text": [
      "0.12\n"
     ]
    }
   ],
   "source": [
    "test_accuracy= nltk.classify.accuracy(classifier,testing_set)\n",
    "print (test_accuracy)"
   ]
  }
 ],
 "metadata": {
  "kernelspec": {
   "display_name": "Python 3",
   "language": "python",
   "name": "python3"
  },
  "language_info": {
   "codemirror_mode": {
    "name": "ipython",
    "version": 3
   },
   "file_extension": ".py",
   "mimetype": "text/x-python",
   "name": "python",
   "nbconvert_exporter": "python",
   "pygments_lexer": "ipython3",
   "version": "3.6.1"
  }
 },
 "nbformat": 4,
 "nbformat_minor": 2
}
