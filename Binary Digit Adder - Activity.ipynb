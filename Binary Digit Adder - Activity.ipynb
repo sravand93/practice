{
 "cells": [
  {
   "cell_type": "markdown",
   "metadata": {},
   "source": [
    "## Data\n",
    "The ```make_binary``` function creates ```n``` instances of $x_1 + x_2 = y$ input output pairs in the form of their binary representations. For instance, calling the function ```make_binary(1)``` will return two tensors that might be \n",
    "\n",
    "\n",
    "```[[[0 0]       [[[0]  <- 2^0\n",
    "  [1 1]         [0]  <- 2^1\n",
    "  [0 0]         [1]  ...\n",
    "  [1 0]         [1]\n",
    "  [0 1]         [1]\n",
    "  [1 1]         [0]\n",
    "  [1 1]         [1]\n",
    "  [0 0]]]       [1]] <- 2^7\n",
    "(106 + 114   =   220)\n",
    "```\n",
    "\n",
    "Where each pair of [0 1] is added to a [1] output (and the RNN is expected to remember the carry implicitly and pass it on to the rest of the sequence)\n",
    "\n",
    "## Task: Create an RNN which uses the input-output pairs and learns to add. The expected accuracy is 100%\n"
   ]
  },
  {
   "cell_type": "code",
   "execution_count": 1,
   "metadata": {},
   "outputs": [
    {
     "name": "stdout",
     "output_type": "stream",
     "text": [
      "[[[1 0]\n",
      "  [0 1]\n",
      "  [0 1]\n",
      "  [0 0]\n",
      "  [0 0]\n",
      "  [0 0]\n",
      "  [1 0]\n",
      "  [0 0]]]\n",
      "[[[1]\n",
      "  [1]\n",
      "  [1]\n",
      "  [0]\n",
      "  [0]\n",
      "  [0]\n",
      "  [1]\n",
      "  [0]]]\n",
      "[[65  6]] [[71]]\n"
     ]
    }
   ],
   "source": [
    "import numpy as np\n",
    "BATCH_SIZE = 64\n",
    "n_batches = 250\n",
    "Number_of_Samples = BATCH_SIZE*n_batches\n",
    "MAX_DIGITS = 8\n",
    "\n",
    "################################################\n",
    "binary = np.unpackbits(np.array([range(2**MAX_DIGITS)],dtype=np.uint8).T,axis=1)\n",
    "n = 10\n",
    "def make_binary(n = Number_of_Samples, max_digits = MAX_DIGITS):\n",
    "    x = np.random.randint(0, 2**max_digits/2, 2*n).reshape(n, 2)\n",
    "    y = np.sum(x, axis = 1)\n",
    "    x = np.transpose(binary[x], [0, 2, 1])\n",
    "    y = binary[y]\n",
    "    y = np.transpose(y[np.newaxis, :], (1, 2, 0))\n",
    "    x, y = np.fliplr(x), np.fliplr(y)   \n",
    "    return(x, y)\n",
    "\n",
    "def make_decimal(X, y):\n",
    "    bin2dec = lambda x: int(\"\".join(str(i) for i in reversed(x)), 2)\n",
    "    X = np.apply_along_axis(func1d=bin2dec, arr=X, axis=1)\n",
    "    y = np.apply_along_axis(func1d=bin2dec, arr=y, axis=1)\n",
    "    return(X, y)\n",
    "\n",
    "#This is going be the format of your data\n",
    "a, b = make_binary(1)\n",
    "print(a)\n",
    "print(b)\n",
    "\n",
    "#This is to get convert the binary data back to decimal data.\n",
    "c, d = make_decimal(a, b)\n",
    "print(c, d)\n"
   ]
  },
  {
   "cell_type": "markdown",
   "metadata": {},
   "source": [
    "## Create your own rnn `model` and train it on data, below"
   ]
  },
  {
   "cell_type": "code",
   "execution_count": null,
   "metadata": {
    "collapsed": true
   },
   "outputs": [],
   "source": []
  },
  {
   "cell_type": "markdown",
   "metadata": {},
   "source": [
    "### TESTING YOUR CODE. DO NOT MODIFY THIS############"
   ]
  },
  {
   "cell_type": "code",
   "execution_count": 5,
   "metadata": {},
   "outputs": [
    {
     "name": "stdout",
     "output_type": "stream",
     "text": [
      "Inputs: [100  48], Prediction: 148\n",
      "Inputs: [34 13], Prediction: 47\n",
      "Inputs: [35 69], Prediction: 104\n",
      "Inputs: [49 66], Prediction: 115\n",
      "Inputs: [ 8 75], Prediction: 83\n",
      "Inputs: [61 21], Prediction: 82\n",
      "Inputs: [47 48], Prediction: 95\n",
      "Inputs: [107  21], Prediction: 128\n",
      "Inputs: [31 64], Prediction: 95\n",
      "Inputs: [94 12], Prediction: 106\n"
     ]
    }
   ],
   "source": [
    "x, y = make_binary(10)\n",
    "preds = model.predict_classes(x, verbose=0)\n",
    "x, preds = make_decimal(x, preds)\n",
    "result = zip(x, preds)\n",
    "for tup in result:\n",
    "\tprint('Inputs: {}, Prediction: {}'.format(tup[0], tup[1][0]))"
   ]
  },
  {
   "cell_type": "markdown",
   "metadata": {
    "collapsed": true
   },
   "source": [
    "## Python/Numpy Activity\n",
    "Try to recreate the data creater function. "
   ]
  },
  {
   "cell_type": "code",
   "execution_count": null,
   "metadata": {
    "collapsed": true
   },
   "outputs": [],
   "source": []
  }
 ],
 "metadata": {
  "anaconda-cloud": {},
  "kernelspec": {
   "display_name": "Python 3",
   "language": "python",
   "name": "python3"
  },
  "language_info": {
   "codemirror_mode": {
    "name": "ipython",
    "version": 3
   },
   "file_extension": ".py",
   "mimetype": "text/x-python",
   "name": "python",
   "nbconvert_exporter": "python",
   "pygments_lexer": "ipython3",
   "version": "3.6.1"
  }
 },
 "nbformat": 4,
 "nbformat_minor": 2
}
