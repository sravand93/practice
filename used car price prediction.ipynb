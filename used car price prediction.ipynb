{
 "cells": [
  {
   "cell_type": "code",
   "execution_count": 26,
   "metadata": {
    "collapsed": true
   },
   "outputs": [],
   "source": [
    "import pandas as pd\n",
    "import numpy as np\n",
    "import matplotlib as plt"
   ]
  },
  {
   "cell_type": "code",
   "execution_count": 27,
   "metadata": {
    "collapsed": true
   },
   "outputs": [],
   "source": [
    "import os"
   ]
  },
  {
   "cell_type": "code",
   "execution_count": 28,
   "metadata": {
    "collapsed": true
   },
   "outputs": [],
   "source": [
    "os.chdir(\"E:\\\\INSOFE\\\\MiTH\")"
   ]
  },
  {
   "cell_type": "code",
   "execution_count": 29,
   "metadata": {
    "collapsed": true
   },
   "outputs": [],
   "source": [
    "train = pd.read_csv(\"train.csv\",encoding=\"ISO-8859-1\")\n",
    "test = pd.read_csv(\"test.csv\",encoding=\"ISO-8859-1\")"
   ]
  },
  {
   "cell_type": "code",
   "execution_count": 30,
   "metadata": {},
   "outputs": [
    {
     "data": {
      "text/html": [
       "<div>\n",
       "<style>\n",
       "    .dataframe thead tr:only-child th {\n",
       "        text-align: right;\n",
       "    }\n",
       "\n",
       "    .dataframe thead th {\n",
       "        text-align: left;\n",
       "    }\n",
       "\n",
       "    .dataframe tbody tr th {\n",
       "        vertical-align: top;\n",
       "    }\n",
       "</style>\n",
       "<table border=\"1\" class=\"dataframe\">\n",
       "  <thead>\n",
       "    <tr style=\"text-align: right;\">\n",
       "      <th></th>\n",
       "      <th>VehicleID</th>\n",
       "      <th>DataCollectedDate</th>\n",
       "      <th>NameOfTheVehicle</th>\n",
       "      <th>SellerType</th>\n",
       "      <th>OfferType</th>\n",
       "      <th>Price</th>\n",
       "      <th>VehicleType</th>\n",
       "      <th>YearOfVehicleRegistration</th>\n",
       "      <th>GearBoxType</th>\n",
       "      <th>PowerOfTheEngine</th>\n",
       "      <th>ModelOfTheVehicle</th>\n",
       "      <th>DistranceTravelled</th>\n",
       "      <th>MonthOfVehicleRegistration</th>\n",
       "      <th>TypeOfTheFuelUsed</th>\n",
       "      <th>BrandOfTheVehicle</th>\n",
       "      <th>IsDamageRepaired</th>\n",
       "      <th>DateOfAdCreation</th>\n",
       "      <th>NumberOfPictures</th>\n",
       "      <th>ZipCode</th>\n",
       "      <th>DateOfAdLastSeen</th>\n",
       "    </tr>\n",
       "  </thead>\n",
       "  <tbody>\n",
       "    <tr>\n",
       "      <th>0</th>\n",
       "      <td>1001</td>\n",
       "      <td>29-03-2016 21:40</td>\n",
       "      <td>MINI_Mini_Cooper_beige</td>\n",
       "      <td>private</td>\n",
       "      <td>offer</td>\n",
       "      <td>3900</td>\n",
       "      <td>Small Car</td>\n",
       "      <td>2003</td>\n",
       "      <td>manual</td>\n",
       "      <td>116</td>\n",
       "      <td>cooper</td>\n",
       "      <td>150000.0</td>\n",
       "      <td>2</td>\n",
       "      <td>petrol</td>\n",
       "      <td>mini</td>\n",
       "      <td>No</td>\n",
       "      <td>29-03-2016 00:00</td>\n",
       "      <td>0</td>\n",
       "      <td>31319</td>\n",
       "      <td>31-03-2016 15:17</td>\n",
       "    </tr>\n",
       "    <tr>\n",
       "      <th>1</th>\n",
       "      <td>1002</td>\n",
       "      <td>26-03-2016 20:50</td>\n",
       "      <td>Smart_smart_&amp;_pure</td>\n",
       "      <td>private</td>\n",
       "      <td>offer</td>\n",
       "      <td>1150</td>\n",
       "      <td>Small Car</td>\n",
       "      <td>2000</td>\n",
       "      <td>manual</td>\n",
       "      <td>45</td>\n",
       "      <td>fortwo</td>\n",
       "      <td>150000.0</td>\n",
       "      <td>11</td>\n",
       "      <td>petrol</td>\n",
       "      <td>smart</td>\n",
       "      <td>No</td>\n",
       "      <td>26-03-2016 00:00</td>\n",
       "      <td>0</td>\n",
       "      <td>34260</td>\n",
       "      <td>26-03-2016 20:50</td>\n",
       "    </tr>\n",
       "    <tr>\n",
       "      <th>2</th>\n",
       "      <td>1003</td>\n",
       "      <td>25-03-2016 19:58</td>\n",
       "      <td>Volkswagen_Multivan_Highline_Autm.</td>\n",
       "      <td>private</td>\n",
       "      <td>offer</td>\n",
       "      <td>18750</td>\n",
       "      <td>bus</td>\n",
       "      <td>2005</td>\n",
       "      <td>automatic</td>\n",
       "      <td>174</td>\n",
       "      <td>transporter</td>\n",
       "      <td>150000.0</td>\n",
       "      <td>7</td>\n",
       "      <td>diesel</td>\n",
       "      <td>volkswagen</td>\n",
       "      <td>No</td>\n",
       "      <td>25-03-2016 00:00</td>\n",
       "      <td>0</td>\n",
       "      <td>80469</td>\n",
       "      <td>07-04-2016 03:16</td>\n",
       "    </tr>\n",
       "  </tbody>\n",
       "</table>\n",
       "</div>"
      ],
      "text/plain": [
       "   VehicleID DataCollectedDate                    NameOfTheVehicle SellerType  \\\n",
       "0       1001  29-03-2016 21:40              MINI_Mini_Cooper_beige    private   \n",
       "1       1002  26-03-2016 20:50                  Smart_smart_&_pure    private   \n",
       "2       1003  25-03-2016 19:58  Volkswagen_Multivan_Highline_Autm.    private   \n",
       "\n",
       "  OfferType  Price VehicleType  YearOfVehicleRegistration GearBoxType  \\\n",
       "0     offer   3900   Small Car                       2003      manual   \n",
       "1     offer   1150   Small Car                       2000      manual   \n",
       "2     offer  18750         bus                       2005   automatic   \n",
       "\n",
       "   PowerOfTheEngine ModelOfTheVehicle  DistranceTravelled  \\\n",
       "0               116            cooper            150000.0   \n",
       "1                45            fortwo            150000.0   \n",
       "2               174       transporter            150000.0   \n",
       "\n",
       "   MonthOfVehicleRegistration TypeOfTheFuelUsed BrandOfTheVehicle  \\\n",
       "0                           2            petrol              mini   \n",
       "1                          11            petrol             smart   \n",
       "2                           7            diesel        volkswagen   \n",
       "\n",
       "  IsDamageRepaired  DateOfAdCreation  NumberOfPictures  ZipCode  \\\n",
       "0               No  29-03-2016 00:00                 0    31319   \n",
       "1               No  26-03-2016 00:00                 0    34260   \n",
       "2               No  25-03-2016 00:00                 0    80469   \n",
       "\n",
       "   DateOfAdLastSeen  \n",
       "0  31-03-2016 15:17  \n",
       "1  26-03-2016 20:50  \n",
       "2  07-04-2016 03:16  "
      ]
     },
     "execution_count": 30,
     "metadata": {},
     "output_type": "execute_result"
    }
   ],
   "source": [
    "train.head(3)"
   ]
  },
  {
   "cell_type": "code",
   "execution_count": 31,
   "metadata": {},
   "outputs": [
    {
     "data": {
      "text/html": [
       "<div>\n",
       "<style>\n",
       "    .dataframe thead tr:only-child th {\n",
       "        text-align: right;\n",
       "    }\n",
       "\n",
       "    .dataframe thead th {\n",
       "        text-align: left;\n",
       "    }\n",
       "\n",
       "    .dataframe tbody tr th {\n",
       "        vertical-align: top;\n",
       "    }\n",
       "</style>\n",
       "<table border=\"1\" class=\"dataframe\">\n",
       "  <thead>\n",
       "    <tr style=\"text-align: right;\">\n",
       "      <th></th>\n",
       "      <th>VehicleID</th>\n",
       "      <th>DataCollectedDate</th>\n",
       "      <th>NameOfTheVehicle</th>\n",
       "      <th>SellerType</th>\n",
       "      <th>OfferType</th>\n",
       "      <th>Price</th>\n",
       "      <th>VehicleType</th>\n",
       "      <th>YearOfVehicleRegistration</th>\n",
       "      <th>GearBoxType</th>\n",
       "      <th>PowerOfTheEngine</th>\n",
       "      <th>ModelOfTheVehicle</th>\n",
       "      <th>DistranceTravelled</th>\n",
       "      <th>MonthOfVehicleRegistration</th>\n",
       "      <th>TypeOfTheFuelUsed</th>\n",
       "      <th>BrandOfTheVehicle</th>\n",
       "      <th>IsDamageRepaired</th>\n",
       "      <th>DateOfAdCreation</th>\n",
       "      <th>NumberOfPictures</th>\n",
       "      <th>ZipCode</th>\n",
       "      <th>DateOfAdLastSeen</th>\n",
       "    </tr>\n",
       "  </thead>\n",
       "  <tbody>\n",
       "    <tr>\n",
       "      <th>0</th>\n",
       "      <td>1001</td>\n",
       "      <td>29-03-2016 21:40</td>\n",
       "      <td>MINI_Mini_Cooper_beige</td>\n",
       "      <td>private</td>\n",
       "      <td>offer</td>\n",
       "      <td>3900</td>\n",
       "      <td>Small Car</td>\n",
       "      <td>2003</td>\n",
       "      <td>manual</td>\n",
       "      <td>116</td>\n",
       "      <td>cooper</td>\n",
       "      <td>150000.0</td>\n",
       "      <td>2</td>\n",
       "      <td>petrol</td>\n",
       "      <td>mini</td>\n",
       "      <td>No</td>\n",
       "      <td>29-03-2016 00:00</td>\n",
       "      <td>0</td>\n",
       "      <td>31319</td>\n",
       "      <td>31-03-2016 15:17</td>\n",
       "    </tr>\n",
       "    <tr>\n",
       "      <th>1</th>\n",
       "      <td>1002</td>\n",
       "      <td>26-03-2016 20:50</td>\n",
       "      <td>Smart_smart_&amp;_pure</td>\n",
       "      <td>private</td>\n",
       "      <td>offer</td>\n",
       "      <td>1150</td>\n",
       "      <td>Small Car</td>\n",
       "      <td>2000</td>\n",
       "      <td>manual</td>\n",
       "      <td>45</td>\n",
       "      <td>fortwo</td>\n",
       "      <td>150000.0</td>\n",
       "      <td>11</td>\n",
       "      <td>petrol</td>\n",
       "      <td>smart</td>\n",
       "      <td>No</td>\n",
       "      <td>26-03-2016 00:00</td>\n",
       "      <td>0</td>\n",
       "      <td>34260</td>\n",
       "      <td>26-03-2016 20:50</td>\n",
       "    </tr>\n",
       "    <tr>\n",
       "      <th>2</th>\n",
       "      <td>1003</td>\n",
       "      <td>25-03-2016 19:58</td>\n",
       "      <td>Volkswagen_Multivan_Highline_Autm.</td>\n",
       "      <td>private</td>\n",
       "      <td>offer</td>\n",
       "      <td>18750</td>\n",
       "      <td>bus</td>\n",
       "      <td>2005</td>\n",
       "      <td>automatic</td>\n",
       "      <td>174</td>\n",
       "      <td>transporter</td>\n",
       "      <td>150000.0</td>\n",
       "      <td>7</td>\n",
       "      <td>diesel</td>\n",
       "      <td>volkswagen</td>\n",
       "      <td>No</td>\n",
       "      <td>25-03-2016 00:00</td>\n",
       "      <td>0</td>\n",
       "      <td>80469</td>\n",
       "      <td>07-04-2016 03:16</td>\n",
       "    </tr>\n",
       "  </tbody>\n",
       "</table>\n",
       "</div>"
      ],
      "text/plain": [
       "   VehicleID DataCollectedDate                    NameOfTheVehicle SellerType  \\\n",
       "0       1001  29-03-2016 21:40              MINI_Mini_Cooper_beige    private   \n",
       "1       1002  26-03-2016 20:50                  Smart_smart_&_pure    private   \n",
       "2       1003  25-03-2016 19:58  Volkswagen_Multivan_Highline_Autm.    private   \n",
       "\n",
       "  OfferType  Price VehicleType  YearOfVehicleRegistration GearBoxType  \\\n",
       "0     offer   3900   Small Car                       2003      manual   \n",
       "1     offer   1150   Small Car                       2000      manual   \n",
       "2     offer  18750         bus                       2005   automatic   \n",
       "\n",
       "   PowerOfTheEngine ModelOfTheVehicle  DistranceTravelled  \\\n",
       "0               116            cooper            150000.0   \n",
       "1                45            fortwo            150000.0   \n",
       "2               174       transporter            150000.0   \n",
       "\n",
       "   MonthOfVehicleRegistration TypeOfTheFuelUsed BrandOfTheVehicle  \\\n",
       "0                           2            petrol              mini   \n",
       "1                          11            petrol             smart   \n",
       "2                           7            diesel        volkswagen   \n",
       "\n",
       "  IsDamageRepaired  DateOfAdCreation  NumberOfPictures  ZipCode  \\\n",
       "0               No  29-03-2016 00:00                 0    31319   \n",
       "1               No  26-03-2016 00:00                 0    34260   \n",
       "2               No  25-03-2016 00:00                 0    80469   \n",
       "\n",
       "   DateOfAdLastSeen  \n",
       "0  31-03-2016 15:17  \n",
       "1  26-03-2016 20:50  \n",
       "2  07-04-2016 03:16  "
      ]
     },
     "execution_count": 31,
     "metadata": {},
     "output_type": "execute_result"
    }
   ],
   "source": [
    "train.head(3)"
   ]
  },
  {
   "cell_type": "code",
   "execution_count": 32,
   "metadata": {
    "collapsed": true
   },
   "outputs": [],
   "source": [
    "#removing some variables\n",
    "train.drop('VehicleID',axis=1,inplace=True)\n",
    "train.drop('DataCollectedDate',axis=1,inplace=True)\n",
    "train.drop('NameOfTheVehicle',axis=1,inplace=True)\n",
    "train.drop('SellerType',axis=1,inplace=True)\n",
    "train.drop('OfferType',axis=1,inplace=True)\n",
    "train.drop('YearOfVehicleRegistration',axis=1,inplace=True)\n",
    "train.drop('BrandOfTheVehicle',axis=1,inplace=True)\n",
    "#train.drop('IsDamageRepaired',axis=1,inplace=True)\n",
    "train.drop('DateOfAdCreation',axis=1,inplace=True)\n",
    "train.drop('NumberOfPictures',axis=1,inplace=True)\n",
    "train.drop('ZipCode',axis=1,inplace=True)\n",
    "train.drop('DateOfAdLastSeen',axis=1,inplace=True)\n"
   ]
  },
  {
   "cell_type": "code",
   "execution_count": 33,
   "metadata": {},
   "outputs": [
    {
     "data": {
      "text/html": [
       "<div>\n",
       "<style>\n",
       "    .dataframe thead tr:only-child th {\n",
       "        text-align: right;\n",
       "    }\n",
       "\n",
       "    .dataframe thead th {\n",
       "        text-align: left;\n",
       "    }\n",
       "\n",
       "    .dataframe tbody tr th {\n",
       "        vertical-align: top;\n",
       "    }\n",
       "</style>\n",
       "<table border=\"1\" class=\"dataframe\">\n",
       "  <thead>\n",
       "    <tr style=\"text-align: right;\">\n",
       "      <th></th>\n",
       "      <th>Price</th>\n",
       "      <th>VehicleType</th>\n",
       "      <th>GearBoxType</th>\n",
       "      <th>PowerOfTheEngine</th>\n",
       "      <th>ModelOfTheVehicle</th>\n",
       "      <th>DistranceTravelled</th>\n",
       "      <th>MonthOfVehicleRegistration</th>\n",
       "      <th>TypeOfTheFuelUsed</th>\n",
       "      <th>IsDamageRepaired</th>\n",
       "    </tr>\n",
       "  </thead>\n",
       "  <tbody>\n",
       "    <tr>\n",
       "      <th>0</th>\n",
       "      <td>3900</td>\n",
       "      <td>Small Car</td>\n",
       "      <td>manual</td>\n",
       "      <td>116</td>\n",
       "      <td>cooper</td>\n",
       "      <td>150000.0</td>\n",
       "      <td>2</td>\n",
       "      <td>petrol</td>\n",
       "      <td>No</td>\n",
       "    </tr>\n",
       "    <tr>\n",
       "      <th>1</th>\n",
       "      <td>1150</td>\n",
       "      <td>Small Car</td>\n",
       "      <td>manual</td>\n",
       "      <td>45</td>\n",
       "      <td>fortwo</td>\n",
       "      <td>150000.0</td>\n",
       "      <td>11</td>\n",
       "      <td>petrol</td>\n",
       "      <td>No</td>\n",
       "    </tr>\n",
       "  </tbody>\n",
       "</table>\n",
       "</div>"
      ],
      "text/plain": [
       "   Price VehicleType GearBoxType  PowerOfTheEngine ModelOfTheVehicle  \\\n",
       "0   3900   Small Car      manual               116            cooper   \n",
       "1   1150   Small Car      manual                45            fortwo   \n",
       "\n",
       "   DistranceTravelled  MonthOfVehicleRegistration TypeOfTheFuelUsed  \\\n",
       "0            150000.0                           2            petrol   \n",
       "1            150000.0                          11            petrol   \n",
       "\n",
       "  IsDamageRepaired  \n",
       "0               No  \n",
       "1               No  "
      ]
     },
     "execution_count": 33,
     "metadata": {},
     "output_type": "execute_result"
    }
   ],
   "source": [
    "train.head(2)"
   ]
  },
  {
   "cell_type": "code",
   "execution_count": 34,
   "metadata": {},
   "outputs": [
    {
     "data": {
      "text/plain": [
       "array(['No', nan, 'Yes'], dtype=object)"
      ]
     },
     "execution_count": 34,
     "metadata": {},
     "output_type": "execute_result"
    }
   ],
   "source": [
    "train.IsDamageRepaired.unique()"
   ]
  },
  {
   "cell_type": "code",
   "execution_count": 35,
   "metadata": {},
   "outputs": [
    {
     "data": {
      "text/plain": [
       "Price                            0\n",
       "VehicleType                    927\n",
       "GearBoxType                   1717\n",
       "PowerOfTheEngine                 0\n",
       "ModelOfTheVehicle                0\n",
       "DistranceTravelled               0\n",
       "MonthOfVehicleRegistration       0\n",
       "TypeOfTheFuelUsed             2170\n",
       "IsDamageRepaired              7603\n",
       "dtype: int64"
      ]
     },
     "execution_count": 35,
     "metadata": {},
     "output_type": "execute_result"
    }
   ],
   "source": [
    "train.isnull().sum()"
   ]
  },
  {
   "cell_type": "code",
   "execution_count": 37,
   "metadata": {},
   "outputs": [],
   "source": [
    "#imputing missing values\n",
    "train.dropna(axis=1,inplace=True)"
   ]
  },
  {
   "cell_type": "code",
   "execution_count": 38,
   "metadata": {},
   "outputs": [
    {
     "data": {
      "text/plain": [
       "(64238, 5)"
      ]
     },
     "execution_count": 38,
     "metadata": {},
     "output_type": "execute_result"
    }
   ],
   "source": [
    "train.shape"
   ]
  },
  {
   "cell_type": "code",
   "execution_count": 41,
   "metadata": {
    "collapsed": true
   },
   "outputs": [],
   "source": [
    "from sklearn.linear_model import LinearRegression\n",
    "from sklearn.model_selection import train_test_split"
   ]
  },
  {
   "cell_type": "code",
   "execution_count": null,
   "metadata": {
    "collapsed": true
   },
   "outputs": [],
   "source": []
  },
  {
   "cell_type": "code",
   "execution_count": 40,
   "metadata": {
    "collapsed": true
   },
   "outputs": [],
   "source": [
    "model = LinearRegression()"
   ]
  },
  {
   "cell_type": "code",
   "execution_count": null,
   "metadata": {
    "collapsed": true
   },
   "outputs": [],
   "source": []
  }
 ],
 "metadata": {
  "kernelspec": {
   "display_name": "Python 3",
   "language": "python",
   "name": "python3"
  },
  "language_info": {
   "codemirror_mode": {
    "name": "ipython",
    "version": 3
   },
   "file_extension": ".py",
   "mimetype": "text/x-python",
   "name": "python",
   "nbconvert_exporter": "python",
   "pygments_lexer": "ipython3",
   "version": "3.6.1"
  }
 },
 "nbformat": 4,
 "nbformat_minor": 2
}
