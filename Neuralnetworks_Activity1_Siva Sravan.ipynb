{
 "cells": [
  {
   "cell_type": "code",
   "execution_count": 30,
   "metadata": {
    "collapsed": true
   },
   "outputs": [],
   "source": [
    "import numpy as np \n",
    "from numpy import genfromtxt \n",
    "from matplotlib import pyplot as plt \n",
    "%matplotlib inline \n",
    "train = genfromtxt('E:\\\\INSOFE\\\\AI and Deep Learning\\\\day1\\\\ANN\\\\train_solved.csv', delimiter=',') \n",
    "test = genfromtxt('E:\\\\INSOFE\\\\AI and Deep Learning\\\\day1\\\\ANN\\\\test_solved.csv', delimiter=',')"
   ]
  },
  {
   "cell_type": "code",
   "execution_count": 31,
   "metadata": {
    "collapsed": true
   },
   "outputs": [],
   "source": [
    "# Seperating the input data and labels\n",
    "x_train = train[:,0:784] \n",
    "y_train = train[:,784] \n",
    "x_test = test[:,0:784]\n",
    "y_test = test[:,784]"
   ]
  },
  {
   "cell_type": "code",
   "execution_count": 32,
   "metadata": {
    "collapsed": true
   },
   "outputs": [],
   "source": [
    "from keras.utils.np_utils import to_categorical \n",
    "y_train = to_categorical(y_train) \n",
    "y_test = to_categorical(y_test)"
   ]
  },
  {
   "cell_type": "code",
   "execution_count": 33,
   "metadata": {
    "collapsed": true
   },
   "outputs": [],
   "source": [
    "from keras.models import Sequential\n",
    "from keras.layers import Dense"
   ]
  },
  {
   "cell_type": "code",
   "execution_count": 56,
   "metadata": {},
   "outputs": [
    {
     "name": "stdout",
     "output_type": "stream",
     "text": [
      "_________________________________________________________________\n",
      "Layer (type)                 Output Shape              Param #   \n",
      "=================================================================\n",
      "dense_25 (Dense)             (None, 200)               157000    \n",
      "_________________________________________________________________\n",
      "dense_26 (Dense)             (None, 10)                2010      \n",
      "=================================================================\n",
      "Total params: 159,010\n",
      "Trainable params: 159,010\n",
      "Non-trainable params: 0\n",
      "_________________________________________________________________\n",
      "Wall time: 0 ns\n"
     ]
    }
   ],
   "source": [
    "from keras.optimizers import Adam\n",
    "opt = Adam(lr=0.1)\n",
    "\n",
    "from keras.callbacks import ReduceLROnPlateau, EarlyStopping\n",
    "lrr = ReduceLROnPlateau(monitor='loss', min_lr=1e-3, factor=0.9, epsilon=0.001, patience=10, verbose=1)\n",
    "early_stop = EarlyStopping(monitor='loss', min_delta=1e-2, patience=10, verbose=1)\n",
    "\n",
    "model = Sequential()\n",
    "model.add(Dense(200, input_dim = 784, kernel_initializer='RandomUniform' , activation = 'relu'))\n",
    "model.add(Dense(10, kernel_initializer='RandomUniform' ,activation = 'softmax'))\n",
    "model.compile(loss = 'categorical_crossentropy', optimizer='adam', metrics= ['accuracy'])\n",
    "%time model.summary()"
   ]
  },
  {
   "cell_type": "code",
   "execution_count": 57,
   "metadata": {},
   "outputs": [
    {
     "name": "stdout",
     "output_type": "stream",
     "text": [
      "Train on 54000 samples, validate on 6000 samples\n",
      "Epoch 1/20\n",
      "54000/54000 [==============================] - 5s - loss: 4.0966 - acc: 0.7181 - val_loss: 0.4834 - val_acc: 0.9250\n",
      "Epoch 2/20\n",
      "54000/54000 [==============================] - 5s - loss: 0.2881 - acc: 0.9391 - val_loss: 0.2193 - val_acc: 0.9482\n",
      "Epoch 3/20\n",
      "54000/54000 [==============================] - 5s - loss: 0.1862 - acc: 0.9540 - val_loss: 0.2074 - val_acc: 0.9523\n",
      "Epoch 4/20\n",
      "54000/54000 [==============================] - 5s - loss: 0.1775 - acc: 0.9574 - val_loss: 0.2060 - val_acc: 0.9530\n",
      "Epoch 5/20\n",
      "54000/54000 [==============================] - 5s - loss: 0.1651 - acc: 0.9605 - val_loss: 0.2293 - val_acc: 0.9527\n",
      "Epoch 6/20\n",
      "54000/54000 [==============================] - 5s - loss: 0.1709 - acc: 0.9612 - val_loss: 0.2431 - val_acc: 0.9508\n",
      "Epoch 7/20\n",
      "54000/54000 [==============================] - 5s - loss: 0.1684 - acc: 0.9638 - val_loss: 0.3139 - val_acc: 0.9528\n",
      "Epoch 8/20\n",
      "54000/54000 [==============================] - 5s - loss: 0.1600 - acc: 0.9655 - val_loss: 0.2530 - val_acc: 0.9540\n",
      "Epoch 9/20\n",
      "54000/54000 [==============================] - 5s - loss: 0.1642 - acc: 0.9669 - val_loss: 0.2518 - val_acc: 0.9562\n",
      "Epoch 10/20\n",
      "54000/54000 [==============================] - 5s - loss: 0.1513 - acc: 0.9693 - val_loss: 0.2288 - val_acc: 0.9617\n",
      "Epoch 11/20\n",
      "54000/54000 [==============================] - 5s - loss: 0.1483 - acc: 0.9697 - val_loss: 0.2587 - val_acc: 0.9598\n",
      "Epoch 12/20\n",
      "54000/54000 [==============================] - 5s - loss: 0.1474 - acc: 0.9726 - val_loss: 0.2448 - val_acc: 0.9617\n",
      "Epoch 13/20\n",
      "54000/54000 [==============================] - 5s - loss: 0.1509 - acc: 0.9724 - val_loss: 0.2616 - val_acc: 0.9625\n",
      "Epoch 14/20\n",
      "54000/54000 [==============================] - 5s - loss: 0.1452 - acc: 0.9736 - val_loss: 0.2961 - val_acc: 0.9557\n",
      "Epoch 15/20\n",
      "54000/54000 [==============================] - 5s - loss: 0.1318 - acc: 0.9744 - val_loss: 0.2898 - val_acc: 0.9565\n",
      "Epoch 16/20\n",
      "54000/54000 [==============================] - 5s - loss: 0.1387 - acc: 0.9757 - val_loss: 0.2851 - val_acc: 0.9643\n",
      "Epoch 17/20\n",
      "54000/54000 [==============================] - 5s - loss: 0.1249 - acc: 0.9782 - val_loss: 0.2877 - val_acc: 0.9637\n",
      "Epoch 18/20\n",
      "54000/54000 [==============================] - 5s - loss: 0.1321 - acc: 0.9776 - val_loss: 0.3036 - val_acc: 0.9582\n",
      "Epoch 19/20\n",
      "54000/54000 [==============================] - 5s - loss: 0.1539 - acc: 0.9761 - val_loss: 0.3563 - val_acc: 0.9602\n",
      "Epoch 20/20\n",
      "54000/54000 [==============================] - 5s - loss: 0.1364 - acc: 0.9781 - val_loss: 0.3387 - val_acc: 0.9643\n"
     ]
    },
    {
     "data": {
      "text/plain": [
       "<keras.callbacks.History at 0x17f8ae62f98>"
      ]
     },
     "execution_count": 57,
     "metadata": {},
     "output_type": "execute_result"
    }
   ],
   "source": [
    "model.fit(x_train, y_train, epochs=20,\n",
    "          batch_size=64, validation_split=0.1)"
   ]
  },
  {
   "cell_type": "code",
   "execution_count": 58,
   "metadata": {},
   "outputs": [
    {
     "name": "stdout",
     "output_type": "stream",
     "text": [
      " 9056/10000 [==========================>...] - ETA: 0s"
     ]
    },
    {
     "data": {
      "text/plain": [
       "[0.34033103860976938, 0.96099999999999997]"
      ]
     },
     "execution_count": 58,
     "metadata": {},
     "output_type": "execute_result"
    }
   ],
   "source": [
    "model.evaluate(x_test, y_test)"
   ]
  }
 ],
 "metadata": {
  "kernelspec": {
   "display_name": "Python 3",
   "language": "python",
   "name": "python3"
  },
  "language_info": {
   "codemirror_mode": {
    "name": "ipython",
    "version": 3
   },
   "file_extension": ".py",
   "mimetype": "text/x-python",
   "name": "python",
   "nbconvert_exporter": "python",
   "pygments_lexer": "ipython3",
   "version": "3.6.1"
  }
 },
 "nbformat": 4,
 "nbformat_minor": 2
}
