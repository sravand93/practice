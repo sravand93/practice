{
 "cells": [
  {
   "cell_type": "code",
   "execution_count": 1,
   "metadata": {},
   "outputs": [
    {
     "name": "stderr",
     "output_type": "stream",
     "text": [
      "Using TensorFlow backend.\n"
     ]
    }
   ],
   "source": [
    "import numpy as np\n",
    "import keras\n",
    "\n",
    "from keras.models import Sequential\n",
    "from keras.layers import Dense, Dropout, Input\n",
    "from keras.models import Model\n",
    "from numpy import genfromtxt \n",
    "from matplotlib import pyplot as plt \n",
    "%matplotlib inline \n",
    "\n",
    "train = genfromtxt('E:\\\\INSOFE\\\\AI and Deep Learning\\\\day1\\\\ANN\\\\train_solved.csv', delimiter=',') \n",
    "test = genfromtxt('E:\\\\INSOFE\\\\AI and Deep Learning\\\\day1\\\\ANN\\\\test_solved.csv', delimiter=',')"
   ]
  },
  {
   "cell_type": "code",
   "execution_count": 4,
   "metadata": {
    "collapsed": true
   },
   "outputs": [],
   "source": [
    "train = train/255.0\n",
    "test = test/255.0"
   ]
  },
  {
   "cell_type": "code",
   "execution_count": 24,
   "metadata": {
    "collapsed": true
   },
   "outputs": [],
   "source": [
    "# Seperating the input data and labels\n",
    "x_train = train[:,0:784] \n",
    "y_train = train[:,784]*255.0\n",
    "x_test = test[:,0:784]\n",
    "y_test = test[:,784]*255.0\n"
   ]
  },
  {
   "cell_type": "code",
   "execution_count": 25,
   "metadata": {
    "collapsed": true
   },
   "outputs": [],
   "source": [
    "from keras.utils.np_utils import to_categorical \n",
    "y_train = to_categorical(y_train) \n",
    "y_test = to_categorical(y_test)"
   ]
  },
  {
   "cell_type": "code",
   "execution_count": 8,
   "metadata": {
    "collapsed": true
   },
   "outputs": [],
   "source": [
    "from keras.models import Sequential\n",
    "from keras.layers import Dense"
   ]
  },
  {
   "cell_type": "code",
   "execution_count": 9,
   "metadata": {
    "collapsed": true
   },
   "outputs": [],
   "source": [
    "# Training an autoencoder model on cifar-10 PCA reduced data\n",
    "\n",
    "input_img = Input(shape=(784,))\n",
    "crrpt_img = Dropout(0.5)(input_img)\n",
    "encoded = Dense(1000, activation='sigmoid')(crrpt_img)\n",
    "decoded = Dense(784, activation='linear')(encoded)\n",
    "\n",
    "autoencoder = Model(input_img,decoded)\n",
    "\n",
    "nb_epoch = 50\n",
    "batch_size = 32\n",
    "\n",
    "autoencoder.compile(optimizer='adam',\n",
    "                    loss='mean_squared_error',\n",
    "                    metrics=['mse'])"
   ]
  },
  {
   "cell_type": "code",
   "execution_count": 10,
   "metadata": {},
   "outputs": [
    {
     "name": "stdout",
     "output_type": "stream",
     "text": [
      "Train on 60000 samples, validate on 10000 samples\n",
      "Epoch 1/5\n",
      "60000/60000 [==============================] - 110s - loss: 0.0249 - mean_squared_error: 0.0249 - val_loss: 0.0124 - val_mean_squared_error: 0.0124\n",
      "Epoch 2/5\n",
      "60000/60000 [==============================] - 110s - loss: 0.0186 - mean_squared_error: 0.0186 - val_loss: 0.0112 - val_mean_squared_error: 0.0112\n",
      "Epoch 3/5\n",
      "60000/60000 [==============================] - 111s - loss: 0.0161 - mean_squared_error: 0.0161 - val_loss: 0.0102 - val_mean_squared_error: 0.0102\n",
      "Epoch 4/5\n",
      "60000/60000 [==============================] - 111s - loss: 0.0145 - mean_squared_error: 0.0145 - val_loss: 0.0094 - val_mean_squared_error: 0.0094\n",
      "Epoch 5/5\n",
      "60000/60000 [==============================] - 112s - loss: 0.0136 - mean_squared_error: 0.0136 - val_loss: 0.0090 - val_mean_squared_error: 0.0090\n"
     ]
    },
    {
     "ename": "ImportError",
     "evalue": "cannot import name 'load_model'",
     "output_type": "error",
     "traceback": [
      "\u001b[1;31m---------------------------------------------------------------------------\u001b[0m",
      "\u001b[1;31mImportError\u001b[0m                               Traceback (most recent call last)",
      "\u001b[1;32m<ipython-input-10-5c50de250111>\u001b[0m in \u001b[0;36m<module>\u001b[1;34m()\u001b[0m\n\u001b[0;32m      8\u001b[0m \u001b[1;33m\u001b[0m\u001b[0m\n\u001b[0;32m      9\u001b[0m \u001b[0mautoencoder\u001b[0m\u001b[1;33m.\u001b[0m\u001b[0msave\u001b[0m\u001b[1;33m(\u001b[0m\u001b[1;34m'E:\\\\INSOFE\\\\AI and Deep Learning\\\\20171022_Batch31_CSE7321c_Lab02_DL\\\\DAE_l1_model.h5'\u001b[0m\u001b[1;33m)\u001b[0m\u001b[1;33m\u001b[0m\u001b[0m\n\u001b[1;32m---> 10\u001b[1;33m \u001b[1;32mfrom\u001b[0m \u001b[0mkeras\u001b[0m\u001b[1;33m.\u001b[0m\u001b[0mlayers\u001b[0m \u001b[1;32mimport\u001b[0m \u001b[0mload_model\u001b[0m\u001b[1;33m\u001b[0m\u001b[0m\n\u001b[0m\u001b[0;32m     11\u001b[0m \u001b[0mautoencoder1\u001b[0m \u001b[1;33m=\u001b[0m \u001b[0mload_model\u001b[0m\u001b[1;33m(\u001b[0m\u001b[1;34m'E:\\\\INSOFE\\\\AI and Deep Learning\\\\20171022_Batch31_CSE7321c_Lab02_DL\\\\DAE_l1_model.h5'\u001b[0m\u001b[1;33m)\u001b[0m\u001b[1;33m\u001b[0m\u001b[0m\n",
      "\u001b[1;31mImportError\u001b[0m: cannot import name 'load_model'"
     ]
    }
   ],
   "source": [
    "history = autoencoder.fit(x_train, x_train,\n",
    "                    epochs=5,\n",
    "                    batch_size=batch_size,\n",
    "                    shuffle=True,\n",
    "                    validation_data=(x_test,x_test),\n",
    "                    verbose=1)\n",
    "\n",
    "\n",
    "autoencoder.save('E:\\\\INSOFE\\\\AI and Deep Learning\\\\20171022_Batch31_CSE7321c_Lab02_DL\\\\DAE_l1_model.h5')\n"
   ]
  },
  {
   "cell_type": "code",
   "execution_count": 11,
   "metadata": {
    "collapsed": true
   },
   "outputs": [],
   "source": [
    "from keras.models import load_model\n",
    "autoencoder1 = load_model('E:\\\\INSOFE\\\\AI and Deep Learning\\\\20171022_Batch31_CSE7321c_Lab02_DL\\\\DAE_l1_model.h5')"
   ]
  },
  {
   "cell_type": "code",
   "execution_count": 14,
   "metadata": {},
   "outputs": [],
   "source": [
    "encoder = Model(input_img,encoded)\n",
    "htrain_data = encoder.predict(x_train)"
   ]
  },
  {
   "cell_type": "code",
   "execution_count": 15,
   "metadata": {
    "collapsed": true
   },
   "outputs": [],
   "source": [
    "input_img1 = Input(shape=(1000,))\n",
    "crrpt_img1 = Dropout(0.5)(input_img1)\n",
    "encoded1 = Dense(1000, activation='sigmoid')(crrpt_img1)\n",
    "decoded1 = Dense(1000, activation='sigmoid')(encoded1)\n",
    "\n",
    "autoencoder1 = Model(input_img1,decoded1)\n",
    "\n",
    "autoencoder1.compile(optimizer='adam',\n",
    "                    loss='binary_crossentropy',\n",
    "                    metrics=['binary_crossentropy'])"
   ]
  },
  {
   "cell_type": "code",
   "execution_count": 16,
   "metadata": {},
   "outputs": [
    {
     "name": "stdout",
     "output_type": "stream",
     "text": [
      "Epoch 1/2\n",
      "60000/60000 [==============================] - 136s - loss: 0.2104 - binary_crossentropy: 0.2104   \n",
      "Epoch 2/2\n",
      "60000/60000 [==============================] - 135s - loss: 0.2008 - binary_crossentropy: 0.2008   \n"
     ]
    }
   ],
   "source": [
    "history = autoencoder1.fit(htrain_data, htrain_data,\n",
    "                    epochs=2,\n",
    "                    batch_size=batch_size,\n",
    "                    shuffle=True,\n",
    "                    verbose=1)\n",
    "\n",
    "\n",
    "autoencoder1.save('E:\\\\INSOFE\\\\AI and Deep Learning\\\\20171022_Batch31_CSE7321c_Lab02_DL\\\\DAE_l2_model.h5')\n",
    "from keras.models import load_model\n",
    "autoencoder1 = load_model('E:\\\\INSOFE\\\\AI and Deep Learning\\\\20171022_Batch31_CSE7321c_Lab02_DL\\\\DAE_l2_model.h5')"
   ]
  },
  {
   "cell_type": "code",
   "execution_count": 27,
   "metadata": {},
   "outputs": [
    {
     "name": "stdout",
     "output_type": "stream",
     "text": [
      "Epoch 1/1\n",
      "60000/60000 [==============================] - 127s - loss: 0.4647 - acc: 0.8508   \n"
     ]
    }
   ],
   "source": [
    "# training a simple one hidden layer MLP for classification task\n",
    "\n",
    "mlp = Sequential()\n",
    "mlp.add(Dropout(0.2, input_shape=(784,)))\n",
    "mlp.add(Dense(1000, activation='sigmoid'))\n",
    "mlp.add(Dropout(0.5))\n",
    "mlp.add(Dense(1000, activation='sigmoid'))\n",
    "mlp.add(Dropout(0.5))\n",
    "mlp.add(Dense(10, activation='softmax'))\n",
    "\n",
    "\n",
    "\n",
    "mlp.compile(loss='categorical_crossentropy',\n",
    "              optimizer='adam',\n",
    "              metrics=['accuracy'])\n",
    "\n",
    "\n",
    "history = mlp.fit(x_train ,y_train,\n",
    "                    batch_size = 32,\n",
    "                    epochs=1,\n",
    "                    verbose=1)"
   ]
  },
  {
   "cell_type": "code",
   "execution_count": 28,
   "metadata": {},
   "outputs": [
    {
     "name": "stdout",
     "output_type": "stream",
     "text": [
      "Epoch 1/3\n",
      "60000/60000 [==============================] - 126s - loss: 0.2831 - acc: 0.9124   - ETA: 1s - loss:\n",
      "Epoch 2/3\n",
      "60000/60000 [==============================] - 126s - loss: 0.1450 - acc: 0.9552   \n",
      "Epoch 3/3\n",
      "60000/60000 [==============================] - 128s - loss: 0.1191 - acc: 0.9623   \n"
     ]
    }
   ],
   "source": [
    "# Training with unsupervised initialization for layer-1 \n",
    "# of an MLP using autoencoder weights\n",
    "\n",
    "mlp = Sequential()\n",
    "mlp.add(Dropout(0.2, input_shape=(784,)))\n",
    "mlp.add(Dense(1000, activation='sigmoid'))\n",
    "mlp.add(Dropout(0.5))\n",
    "mlp.add(Dense(1000, activation='sigmoid'))\n",
    "mlp.add(Dropout(0.5))\n",
    "mlp.add(Dense(10, activation='softmax'))\n",
    "\n",
    "\n",
    "\n",
    "mlp.compile(loss='categorical_crossentropy',\n",
    "              optimizer='adam',\n",
    "              metrics=['accuracy'])\n",
    "\n",
    "mlp.layers[1].set_weights(autoencoder.layers[2].get_weights())\n",
    "mlp.layers[3].set_weights(autoencoder1.layers[2].get_weights())\n",
    "\n",
    "\n",
    "history = mlp.fit(x_train ,y_train,\n",
    "                    batch_size=batch_size,\n",
    "                    epochs=3,\n",
    "                    verbose=1,)"
   ]
  },
  {
   "cell_type": "code",
   "execution_count": 29,
   "metadata": {},
   "outputs": [
    {
     "name": "stdout",
     "output_type": "stream",
     "text": [
      " 9888/10000 [============================>.] - ETA: 0s"
     ]
    },
    {
     "data": {
      "text/plain": [
       "[0.065083145525492728, 0.98050000000000004]"
      ]
     },
     "execution_count": 29,
     "metadata": {},
     "output_type": "execute_result"
    }
   ],
   "source": [
    "mlp.evaluate(x_test,y_test)"
   ]
  },
  {
   "cell_type": "code",
   "execution_count": null,
   "metadata": {
    "collapsed": true
   },
   "outputs": [],
   "source": []
  }
 ],
 "metadata": {
  "kernelspec": {
   "display_name": "Python 3",
   "language": "python",
   "name": "python3"
  },
  "language_info": {
   "codemirror_mode": {
    "name": "ipython",
    "version": 3
   },
   "file_extension": ".py",
   "mimetype": "text/x-python",
   "name": "python",
   "nbconvert_exporter": "python",
   "pygments_lexer": "ipython3",
   "version": "3.6.1"
  }
 },
 "nbformat": 4,
 "nbformat_minor": 2
}
