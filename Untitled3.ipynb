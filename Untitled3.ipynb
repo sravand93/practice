{
 "cells": [
  {
   "cell_type": "code",
   "execution_count": 3,
   "metadata": {},
   "outputs": [
    {
     "ename": "SyntaxError",
     "evalue": "invalid syntax (<ipython-input-3-c2eba9962434>, line 10)",
     "output_type": "error",
     "traceback": [
      "\u001b[1;36m  File \u001b[1;32m\"<ipython-input-3-c2eba9962434>\"\u001b[1;36m, line \u001b[1;32m10\u001b[0m\n\u001b[1;33m    m.add(Dense(1, activation='sigmoid'))\u001b[0m\n\u001b[1;37m    ^\u001b[0m\n\u001b[1;31mSyntaxError\u001b[0m\u001b[1;31m:\u001b[0m invalid syntax\n"
     ]
    }
   ],
   "source": [
    "from keras.layers import Dense\n",
    "from keras.models import Sequential\n",
    "import numpy as np\n",
    "\n",
    "X = np.array([[0, 0], [0, 1], [1, 0], [1, 1]])\n",
    "Y = np.array([0, 1, 1, 0])\n",
    "\n",
    "m = Sequential()\n",
    "m.add(Dense(10, input_dim=2, activation='sigmoid')\n",
    "m.add(Dense(1, activation='sigmoid')\n",
    "\n",
    "m.compile(loss='binary_crossentropy', optimizer='sgd')\n",
    "m.fit(X, Y, epochs=100, verbose=2)\n",
    "\n",
    "m.evaluate(X, Y)"
   ]
  }
 ],
 "metadata": {
  "kernelspec": {
   "display_name": "Python 3",
   "language": "python",
   "name": "python3"
  },
  "language_info": {
   "codemirror_mode": {
    "name": "ipython",
    "version": 3
   },
   "file_extension": ".py",
   "mimetype": "text/x-python",
   "name": "python",
   "nbconvert_exporter": "python",
   "pygments_lexer": "ipython3",
   "version": "3.6.1"
  }
 },
 "nbformat": 4,
 "nbformat_minor": 2
}
