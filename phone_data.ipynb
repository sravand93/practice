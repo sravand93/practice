{
 "cells": [
  {
   "cell_type": "code",
   "execution_count": 3,
   "metadata": {
    "collapsed": true
   },
   "outputs": [],
   "source": [
    "# Import all the necessary libraries\n",
    "import os\n",
    "import numpy as np\n",
    "import pandas as pd\n",
    "from keras.layers import Dense,LSTM,SimpleRNN, Embedding\n",
    "from keras.models import Sequential\n",
    "from keras.utils.np_utils import to_categorical"
   ]
  },
  {
   "cell_type": "code",
   "execution_count": 4,
   "metadata": {
    "collapsed": true
   },
   "outputs": [],
   "source": [
    "os.chdir(\"D:/VINODKUMAR/NLP CLASSIFICATION PROJECT/SHASTER-2/SHASTER\")"
   ]
  },
  {
   "cell_type": "code",
   "execution_count": 5,
   "metadata": {
    "collapsed": true
   },
   "outputs": [],
   "source": [
    "#Reading the data\n",
    "actual_data=pd.read_excel(\"Data-for-Classification-20180320.xlsx\")"
   ]
  },
  {
   "cell_type": "code",
   "execution_count": 6,
   "metadata": {},
   "outputs": [
    {
     "name": "stdout",
     "output_type": "stream",
     "text": [
      "(57280, 5)\n"
     ]
    }
   ],
   "source": [
    "print(actual_data.shape)"
   ]
  },
  {
   "cell_type": "code",
   "execution_count": 8,
   "metadata": {
    "collapsed": true
   },
   "outputs": [],
   "source": [
    "#Changing the column names\n",
    "col_names=[\"summary\",\"data\",\"categories\",\"sub_categories\",\"appointment\"]\n",
    "actual_data.columns=col_names"
   ]
  },
  {
   "cell_type": "code",
   "execution_count": 9,
   "metadata": {
    "collapsed": true
   },
   "outputs": [],
   "source": [
    "#Converting datatype of summary feature\n",
    "actual_data.summary =actual_data.summary.astype('str')\n",
    "#Converting datatype of data feature\n",
    "actual_data.data =actual_data.data.astype('str')\n",
    "#Converting datatype of category feature\n",
    "actual_data.categories=actual_data.categories.astype(\"category\")\n",
    "#Converting datatype of sub_categories feature\n",
    "actual_data.sub_categories=actual_data.sub_categories.astype(\"category\")\n",
    "#Converting datatype of appointment feature\n",
    "actual_data.appointment=actual_data.appointment.astype(\"category\")"
   ]
  },
  {
   "cell_type": "code",
   "execution_count": null,
   "metadata": {
    "collapsed": true
   },
   "outputs": [],
   "source": []
  }
 ],
 "metadata": {
  "kernelspec": {
   "display_name": "Python 3",
   "language": "python",
   "name": "python3"
  },
  "language_info": {
   "codemirror_mode": {
    "name": "ipython",
    "version": 3
   },
   "file_extension": ".py",
   "mimetype": "text/x-python",
   "name": "python",
   "nbconvert_exporter": "python",
   "pygments_lexer": "ipython3",
   "version": "3.6.1"
  }
 },
 "nbformat": 4,
 "nbformat_minor": 2
}
